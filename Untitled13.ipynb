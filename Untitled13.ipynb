{
 "cells": [
  {
   "cell_type": "code",
   "execution_count": 33,
   "id": "da6f760a",
   "metadata": {},
   "outputs": [],
   "source": [
    "from collections import Counter\n",
    "import re\n",
    "def xxx (f):\n",
    "    with open(f) as file:\n",
    "        t = file.read()\n",
    "        print(t)\n",
    "        w = re.sub('\\w+', '', t)\n",
    "        #print(w)\n",
    "        c = Counter(w.split())\n",
    "        for a, b in (c.most_common(9)):\n",
    "            print(a, b)\n",
    "\n"
   ]
  },
  {
   "cell_type": "code",
   "execution_count": 35,
   "id": "15fa0790",
   "metadata": {},
   "outputs": [
    {
     "ename": "AttributeError",
     "evalue": "'str' object has no attribute 'issubset'",
     "output_type": "error",
     "traceback": [
      "\u001b[1;31m---------------------------------------------------------------------------\u001b[0m",
      "\u001b[1;31mAttributeError\u001b[0m                            Traceback (most recent call last)",
      "\u001b[1;32m<ipython-input-35-cd111d182278>\u001b[0m in \u001b[0;36m<module>\u001b[1;34m\u001b[0m\n\u001b[1;32m----> 1\u001b[1;33m \u001b[1;34m\"hallo\"\u001b[0m\u001b[1;33m.\u001b[0m\u001b[0missubset\u001b[0m\u001b[1;33m(\u001b[0m\u001b[1;34m'al'\u001b[0m\u001b[1;33m)\u001b[0m\u001b[1;33m\u001b[0m\u001b[1;33m\u001b[0m\u001b[0m\n\u001b[0m",
      "\u001b[1;31mAttributeError\u001b[0m: 'str' object has no attribute 'issubset'"
     ]
    }
   ],
   "source": [
    "\"hallo\".issubset('al')"
   ]
  },
  {
   "cell_type": "code",
   "execution_count": 34,
   "id": "6eda7424",
   "metadata": {},
   "outputs": [
    {
     "name": "stdout",
     "output_type": "stream",
     "text": [
      "hallo her var det my plass. kan\n",
      "vi kanskje spise?\n",
      "\n",
      "\n",
      ". 1\n",
      "? 1\n"
     ]
    }
   ],
   "source": [
    "xxx('test.txt')"
   ]
  },
  {
   "cell_type": "code",
   "execution_count": 24,
   "id": "85b1d78e",
   "metadata": {},
   "outputs": [
    {
     "data": {
      "text/plain": [
       "'x. x x! x x x;'"
      ]
     },
     "execution_count": 24,
     "metadata": {},
     "output_type": "execute_result"
    }
   ],
   "source": [
    "re.sub('\\w+', 'x', \"h3allo4. her var! det mye plass;\")"
   ]
  },
  {
   "cell_type": "code",
   "execution_count": null,
   "id": "961c41bc",
   "metadata": {},
   "outputs": [],
   "source": []
  }
 ],
 "metadata": {
  "kernelspec": {
   "display_name": "Python 3",
   "language": "python",
   "name": "python3"
  },
  "language_info": {
   "codemirror_mode": {
    "name": "ipython",
    "version": 3
   },
   "file_extension": ".py",
   "mimetype": "text/x-python",
   "name": "python",
   "nbconvert_exporter": "python",
   "pygments_lexer": "ipython3",
   "version": "3.8.10"
  }
 },
 "nbformat": 4,
 "nbformat_minor": 5
}

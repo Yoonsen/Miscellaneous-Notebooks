{
 "cells": [
  {
   "cell_type": "code",
   "execution_count": 1,
   "metadata": {},
   "outputs": [],
   "source": [
    "import pandas as pd"
   ]
  },
  {
   "cell_type": "code",
   "execution_count": 3,
   "metadata": {},
   "outputs": [],
   "source": [
    "korpus = pd.read_excel('korpus4554.xlsx')"
   ]
  },
  {
   "cell_type": "code",
   "execution_count": 5,
   "metadata": {},
   "outputs": [
    {
     "data": {
      "text/plain": [
       "0     2007021901022\n",
       "1     2010061806080\n",
       "2     2008051600023\n",
       "3     2007021601048\n",
       "4     2016012106066\n",
       "5     2008042204036\n",
       "6     2007020501036\n",
       "7     2008042800104\n",
       "8     2007020901046\n",
       "9     2007013001006\n",
       "10    2008042201017\n",
       "11    2015022708020\n",
       "12    2006110300006\n",
       "13    2007021301104\n",
       "14    2008042201040\n",
       "15    2011022223005\n",
       "16    2011102108174\n",
       "17    2008050700071\n",
       "18    2008050904024\n",
       "19    2014022808369\n",
       "20    2007013001025\n",
       "21    2008042204016\n",
       "22    2008050900014\n",
       "23    2007061200010\n",
       "24    2011111608079\n",
       "25    2010111205011\n",
       "26    2008041804124\n",
       "27    2008051500038\n",
       "28    2011111108020\n",
       "29    2012020908144\n",
       "30    2006110601048\n",
       "31    2007020701080\n",
       "32    2008042800059\n",
       "Name: urn, dtype: int64"
      ]
     },
     "execution_count": 5,
     "metadata": {},
     "output_type": "execute_result"
    }
   ],
   "source": []
  }
 ],
 "metadata": {
  "kernelspec": {
   "display_name": "Python 3",
   "language": "python",
   "name": "python3"
  },
  "language_info": {
   "codemirror_mode": {
    "name": "ipython",
    "version": 3
   },
   "file_extension": ".py",
   "mimetype": "text/x-python",
   "name": "python",
   "nbconvert_exporter": "python",
   "pygments_lexer": "ipython3",
   "version": "3.8.3"
  }
 },
 "nbformat": 4,
 "nbformat_minor": 4
}

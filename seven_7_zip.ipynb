{
 "cells": [
  {
   "cell_type": "code",
   "execution_count": 9,
   "metadata": {},
   "outputs": [],
   "source": [
    "zipfile = \"C:/Users/larsj/Downloads/vitenskap-from-2020-03-01-to-2021-07-09-no.json.7z\"\n",
    "tofile = \"C:/Users/larsj/Documents/GitHub/Miscellaneous-Notebooks/vitenskap_json\""
   ]
  },
  {
   "cell_type": "code",
   "execution_count": 10,
   "metadata": {},
   "outputs": [],
   "source": [
    "import py7zr\n",
    "with py7zr.SevenZipFile(zipfile, mode='r') as z:\n",
    "    z.extractall(tofile)\n"
   ]
  },
  {
   "cell_type": "code",
   "execution_count": null,
   "metadata": {},
   "outputs": [],
   "source": []
  },
  {
   "cell_type": "code",
   "execution_count": 42,
   "metadata": {},
   "outputs": [],
   "source": [
    "import json\n",
    "import os"
   ]
  },
  {
   "cell_type": "code",
   "execution_count": 43,
   "metadata": {},
   "outputs": [],
   "source": [
    "jsonfile = \"C:/Users/larsj/Documents/GitHub/Miscellaneous-Notebooks/vitenskap_json/vitenskap-from-2020-03-01-to-2021-07-09-no.json\""
   ]
  },
  {
   "cell_type": "code",
   "execution_count": 44,
   "metadata": {},
   "outputs": [],
   "source": [
    "import pandas as pd\n",
    "df = pd.read_json(jsonfile, lines=True)"
   ]
  },
  {
   "cell_type": "code",
   "execution_count": 45,
   "metadata": {},
   "outputs": [],
   "source": [
    "content = df.content.values"
   ]
  },
  {
   "cell_type": "code",
   "execution_count": 46,
   "metadata": {},
   "outputs": [
    {
     "data": {
      "text/plain": [
       "4216"
      ]
     },
     "execution_count": 46,
     "metadata": {},
     "output_type": "execute_result"
    }
   ],
   "source": [
    "len(content)"
   ]
  },
  {
   "cell_type": "code",
   "execution_count": 47,
   "metadata": {},
   "outputs": [],
   "source": [
    "from dhlab.nbtokenizer import tokenize\n",
    "from collections import Counter"
   ]
  },
  {
   "cell_type": "code",
   "execution_count": 48,
   "metadata": {},
   "outputs": [],
   "source": [
    "df = pd.concat([pd.DataFrame.from_dict(Counter(tokenize(c)), orient = 'index')  for c in content], axis = 1)"
   ]
  },
  {
   "cell_type": "code",
   "execution_count": 49,
   "metadata": {},
   "outputs": [],
   "source": [
    "df = df.fillna(0)"
   ]
  },
  {
   "cell_type": "code",
   "execution_count": 62,
   "metadata": {},
   "outputs": [
    {
     "data": {
      "text/plain": [
       "4.0"
      ]
     },
     "execution_count": 62,
     "metadata": {},
     "output_type": "execute_result"
    }
   ],
   "source": [
    "df.loc['AstraZeneca'].sum()"
   ]
  },
  {
   "cell_type": "code",
   "execution_count": 50,
   "metadata": {},
   "outputs": [],
   "source": [
    "dx = df.dot(df.transpose())"
   ]
  },
  {
   "cell_type": "code",
   "execution_count": 76,
   "metadata": {},
   "outputs": [
    {
     "data": {
      "text/html": [
       "<div>\n",
       "<style scoped>\n",
       "    .dataframe tbody tr th:only-of-type {\n",
       "        vertical-align: middle;\n",
       "    }\n",
       "\n",
       "    .dataframe tbody tr th {\n",
       "        vertical-align: top;\n",
       "    }\n",
       "\n",
       "    .dataframe thead th {\n",
       "        text-align: right;\n",
       "    }\n",
       "</style>\n",
       "<table border=\"1\" class=\"dataframe\">\n",
       "  <thead>\n",
       "    <tr style=\"text-align: right;\">\n",
       "      <th></th>\n",
       "      <th>stole</th>\n",
       "      <th>vitenskap</th>\n",
       "    </tr>\n",
       "  </thead>\n",
       "  <tbody>\n",
       "    <tr>\n",
       "      <th>@</th>\n",
       "      <td>28.0</td>\n",
       "      <td>6066.0</td>\n",
       "    </tr>\n",
       "    <tr>\n",
       "      <th>Festlegen</th>\n",
       "      <td>1.0</td>\n",
       "      <td>4.0</td>\n",
       "    </tr>\n",
       "    <tr>\n",
       "      <th>UriksFredrik</th>\n",
       "      <td>1.0</td>\n",
       "      <td>15.0</td>\n",
       "    </tr>\n",
       "    <tr>\n",
       "      <th>pfizer</th>\n",
       "      <td>1.0</td>\n",
       "      <td>0.0</td>\n",
       "    </tr>\n",
       "    <tr>\n",
       "      <th>Jeg</th>\n",
       "      <td>1.0</td>\n",
       "      <td>424.0</td>\n",
       "    </tr>\n",
       "    <tr>\n",
       "      <th>...</th>\n",
       "      <td>...</td>\n",
       "      <td>...</td>\n",
       "    </tr>\n",
       "    <tr>\n",
       "      <th>First-House-</th>\n",
       "      <td>0.0</td>\n",
       "      <td>1.0</td>\n",
       "    </tr>\n",
       "    <tr>\n",
       "      <th>Pharma-blogger</th>\n",
       "      <td>0.0</td>\n",
       "      <td>1.0</td>\n",
       "    </tr>\n",
       "    <tr>\n",
       "      <th>riksmediabmed</th>\n",
       "      <td>0.0</td>\n",
       "      <td>1.0</td>\n",
       "    </tr>\n",
       "    <tr>\n",
       "      <th>forskrudde</th>\n",
       "      <td>0.0</td>\n",
       "      <td>1.0</td>\n",
       "    </tr>\n",
       "    <tr>\n",
       "      <th>tilovers</th>\n",
       "      <td>0.0</td>\n",
       "      <td>1.0</td>\n",
       "    </tr>\n",
       "  </tbody>\n",
       "</table>\n",
       "<p>21703 rows × 2 columns</p>\n",
       "</div>"
      ],
      "text/plain": [
       "                stole  vitenskap\n",
       "@                28.0     6066.0\n",
       "Festlegen         1.0        4.0\n",
       "UriksFredrik      1.0       15.0\n",
       "pfizer            1.0        0.0\n",
       "Jeg               1.0      424.0\n",
       "...               ...        ...\n",
       "First-House-      0.0        1.0\n",
       "Pharma-blogger    0.0        1.0\n",
       "riksmediabmed     0.0        1.0\n",
       "forskrudde        0.0        1.0\n",
       "tilovers          0.0        1.0\n",
       "\n",
       "[21703 rows x 2 columns]"
      ]
     },
     "execution_count": 76,
     "metadata": {},
     "output_type": "execute_result"
    }
   ],
   "source": [
    "dx[['stole','vitenskap']]"
   ]
  },
  {
   "cell_type": "code",
   "execution_count": 58,
   "metadata": {},
   "outputs": [
    {
     "data": {
      "text/plain": [
       "124.0"
      ]
     },
     "execution_count": 58,
     "metadata": {},
     "output_type": "execute_result"
    }
   ],
   "source": [
    "dx.loc['Pfizer'].sum()"
   ]
  },
  {
   "cell_type": "code",
   "execution_count": 52,
   "metadata": {},
   "outputs": [],
   "source": [
    "import networkx as nx"
   ]
  },
  {
   "cell_type": "code",
   "execution_count": 73,
   "metadata": {},
   "outputs": [],
   "source": [
    "G = nx.from_pandas_adjacency(dx[dx['stole'] > 2])"
   ]
  },
  {
   "cell_type": "code",
   "execution_count": 54,
   "metadata": {},
   "outputs": [],
   "source": [
    "import dhlab.graph_networkx_louvain as gnl"
   ]
  },
  {
   "cell_type": "code",
   "execution_count": 74,
   "metadata": {},
   "outputs": [
    {
     "name": "stdout",
     "output_type": "stream",
     "text": [
      "?-@ :  ?, @\n",
      "\n",
      "må-for :  må, for, å, til\n",
      "\n",
      "har-også :  har, også, vi, oss, stole, aldri\n",
      "\n",
      "de-tro :  de, tro, på, tror, den, som\n",
      "\n",
      ".-Og :  ., Og\n",
      "\n",
      "fakta-og :  fakta, og\n",
      "\n",
      "vitenskap :  vitenskap\n",
      "\n",
      ", :  ,\n",
      "\n",
      "at-men :  at, men, jo, bare, er, det, ikke, skal, Det, eller, Å, bra, imot\n",
      "\n",
      "et-kan :  et, kan, her, om, jeg, vil\n",
      "\n",
      "av-i :  av, i, en\n",
      "\n",
      "med :  med\n",
      "\n",
      "t.co-https :  t.co, https, /, #, :, denne\n",
      "\n",
      "\"-alltid :  \", alltid, politisk\n",
      "\n"
     ]
    }
   ],
   "source": [
    "gnl.show_communities(G)"
   ]
  },
  {
   "cell_type": "code",
   "execution_count": 75,
   "metadata": {},
   "outputs": [
    {
     "name": "stdout",
     "output_type": "stream",
     "text": [
      "(3, 1) vil, imot, her, ,, det, @, som, stole, et, av, og, om, t.co, https, vi, politisk, har, \", også, den, at, på, til, er, ., men, bare, bra, må, denne, alltid, tror, en, jeg, Det, #, for, med, jo, vitenskap, å, /, oss, de, tro, kan, fakta, aldri, ?, Og, ikke, skal, eller, Å, i, :\n",
      "\n",
      "(4, 1) vil, imot, her, ,, det, @, som, stole, et, av, og, om, t.co, https, vi, politisk, har, \", også, den, at, på, til, er, ., men, bare, bra, må, denne, alltid, tror, en, jeg, Det, #, for, med, jo, vitenskap, å, /, oss, de, tro, kan, fakta, aldri, ?, Og, ikke, skal, eller, Å, i, :\n",
      "\n",
      "(5, 1) vil, imot, her, ,, det, @, som, stole, et, av, og, om, t.co, https, vi, politisk, har, \", også, den, at, på, til, er, ., men, bare, bra, må, denne, alltid, tror, en, jeg, Det, #, for, med, jo, vitenskap, å, /, oss, de, tro, kan, fakta, aldri, ?, Og, ikke, skal, eller, Å, i, :\n",
      "\n",
      "(6, 1) vil, imot, her, ,, det, @, som, stole, et, av, og, om, t.co, https, vi, politisk, har, \", også, den, at, på, til, er, ., men, bare, bra, må, denne, alltid, tror, en, jeg, Det, #, for, med, jo, vitenskap, å, /, oss, de, tro, kan, fakta, aldri, ?, Og, ikke, skal, eller, Å, i, :\n",
      "\n",
      "(7, 1) vil, imot, her, ,, det, @, som, stole, et, av, og, om, t.co, https, vi, politisk, har, \", også, den, at, på, til, er, ., men, bare, bra, må, denne, alltid, tror, en, jeg, Det, #, for, med, jo, vitenskap, å, /, oss, de, tro, kan, fakta, aldri, ?, Og, ikke, skal, eller, Å, i, :\n",
      "\n",
      "(8, 1) vil, imot, her, ,, det, @, som, stole, et, av, og, om, t.co, https, vi, politisk, har, \", også, den, at, på, til, er, ., men, bare, bra, må, denne, alltid, tror, en, jeg, Det, #, for, med, jo, vitenskap, å, /, oss, de, tro, kan, fakta, aldri, ?, Og, ikke, skal, eller, Å, i, :\n",
      "\n",
      "(9, 1) vil, imot, her, ,, det, @, som, stole, et, av, og, om, t.co, https, vi, politisk, har, \", også, den, at, på, til, er, ., men, bare, bra, må, denne, alltid, tror, en, jeg, Det, #, for, med, jo, vitenskap, å, /, oss, de, tro, kan, fakta, aldri, ?, Og, ikke, skal, eller, Å, i, :\n",
      "\n",
      "(10, 1) vil, imot, her, ,, det, @, som, stole, et, av, og, om, t.co, https, vi, politisk, har, \", også, den, at, på, til, er, ., men, bare, bra, må, denne, alltid, tror, en, jeg, Det, #, for, med, jo, vitenskap, å, /, oss, de, tro, kan, fakta, aldri, ?, Og, ikke, skal, eller, Å, i, :\n",
      "\n",
      "(11, 1) vil, imot, her, ,, det, @, som, stole, et, av, og, om, t.co, https, vi, politisk, har, \", også, den, at, på, til, er, ., men, bare, bra, må, denne, alltid, tror, en, jeg, Det, #, for, med, jo, vitenskap, å, /, oss, de, tro, kan, fakta, aldri, ?, Og, ikke, skal, eller, Å, i, :\n",
      "\n",
      "(12, 1) vil, imot, her, ,, det, @, som, stole, et, av, og, om, t.co, https, vi, politisk, har, \", også, den, at, på, til, er, ., men, bare, bra, må, denne, alltid, tror, en, jeg, Det, #, for, med, jo, vitenskap, å, /, oss, de, tro, kan, fakta, aldri, ?, Og, ikke, skal, eller, Å, i, :\n",
      "\n",
      "(13, 1) vil, imot, her, ,, det, @, som, stole, et, av, og, om, t.co, https, vi, politisk, har, \", også, den, at, på, til, er, ., men, bare, bra, må, denne, alltid, tror, en, jeg, Det, #, for, med, jo, vitenskap, å, /, oss, de, tro, kan, fakta, aldri, ?, Og, ikke, skal, eller, Å, i, :\n",
      "\n",
      "(14, 1) vil, imot, her, ,, det, @, som, stole, et, av, og, om, t.co, https, vi, politisk, har, \", også, den, at, på, til, er, ., men, bare, bra, må, denne, alltid, tror, en, jeg, Det, #, for, med, jo, vitenskap, å, /, oss, de, tro, kan, fakta, aldri, ?, Og, ikke, skal, eller, Å, i, :\n",
      "\n",
      "(15, 1) vil, imot, her, ,, det, @, som, stole, et, av, og, om, t.co, https, vi, politisk, har, \", også, den, at, på, til, er, ., men, bare, bra, må, denne, alltid, tror, en, jeg, Det, #, for, med, jo, vitenskap, å, /, oss, de, tro, kan, fakta, aldri, ?, Og, ikke, skal, eller, Å, i, :\n",
      "\n",
      "(16, 1) vil, imot, her, ,, det, @, som, stole, et, av, og, om, t.co, https, vi, politisk, har, \", også, den, at, på, til, er, ., men, bare, bra, må, denne, alltid, tror, en, jeg, Det, #, for, med, jo, vitenskap, å, /, oss, de, tro, kan, fakta, aldri, ?, Og, ikke, skal, eller, Å, i, :\n",
      "\n",
      "(17, 1) vil, imot, her, ,, det, @, som, stole, et, av, og, om, t.co, https, vi, politisk, har, \", også, den, at, på, til, er, ., men, bare, bra, må, denne, alltid, tror, en, jeg, Det, #, for, med, jo, vitenskap, å, /, oss, de, tro, kan, fakta, aldri, ?, Og, ikke, skal, eller, Å, i, :\n",
      "\n",
      "(18, 1) vil, imot, her, ,, det, @, som, stole, et, av, og, om, t.co, https, vi, politisk, har, \", også, den, at, på, til, er, ., men, bare, bra, må, denne, alltid, tror, en, jeg, Det, #, for, med, jo, vitenskap, å, /, oss, de, tro, kan, fakta, aldri, ?, Og, ikke, skal, eller, Å, i, :\n",
      "\n",
      "(19, 1) vil, imot, her, ,, det, @, som, stole, et, av, og, om, t.co, https, vi, politisk, har, \", også, den, at, på, til, er, ., men, bare, bra, må, denne, alltid, tror, en, jeg, Det, #, for, med, jo, vitenskap, å, /, oss, de, tro, kan, fakta, aldri, ?, Og, ikke, skal, eller, Å, i, :\n",
      "\n",
      "(20, 1) vil, imot, her, ,, det, @, som, stole, et, av, og, om, t.co, https, vi, politisk, har, \", også, den, at, på, til, er, ., men, bare, bra, må, denne, alltid, tror, en, jeg, Det, #, for, med, jo, vitenskap, å, /, oss, de, tro, kan, fakta, aldri, ?, Og, ikke, skal, eller, Å, i, :\n",
      "\n",
      "(21, 1) vil, imot, her, ,, det, @, som, stole, et, av, og, om, t.co, https, vi, politisk, har, \", også, den, at, på, til, er, ., men, bare, bra, må, denne, alltid, tror, en, jeg, Det, #, for, med, jo, vitenskap, å, /, oss, de, tro, kan, fakta, aldri, ?, Og, ikke, skal, eller, Å, i, :\n",
      "\n",
      "(22, 1) vil, imot, her, ,, det, @, som, stole, et, av, og, om, t.co, https, vi, politisk, har, \", også, den, at, på, til, er, ., men, bare, bra, må, denne, alltid, tror, en, jeg, Det, #, for, med, jo, vitenskap, å, /, oss, de, tro, kan, fakta, aldri, ?, Og, ikke, skal, eller, Å, i, :\n",
      "\n",
      "(23, 1) vil, imot, her, ,, det, @, som, stole, et, av, og, om, t.co, https, vi, politisk, har, \", også, den, at, på, til, er, ., men, bare, bra, må, denne, alltid, tror, en, jeg, Det, #, for, med, jo, vitenskap, å, /, oss, de, tro, kan, fakta, aldri, ?, Og, ikke, skal, eller, Å, i, :\n",
      "\n",
      "(24, 1) vil, imot, her, ,, det, @, som, stole, et, av, og, om, t.co, https, vi, politisk, har, \", også, den, at, på, til, er, ., men, bare, bra, må, denne, alltid, tror, en, jeg, Det, #, for, med, jo, vitenskap, å, /, oss, de, tro, kan, fakta, aldri, ?, Og, ikke, skal, eller, Å, i, :\n",
      "\n",
      "(25, 1) vil, imot, her, ,, det, @, som, stole, et, av, og, om, t.co, https, vi, politisk, har, \", også, den, at, på, til, er, ., men, bare, bra, må, denne, alltid, tror, en, jeg, Det, #, for, med, jo, vitenskap, å, /, oss, de, tro, kan, fakta, aldri, ?, Og, ikke, skal, eller, Å, i, :\n",
      "\n",
      "(26, 1) vil, imot, her, ,, det, @, som, stole, et, av, og, om, t.co, https, vi, politisk, har, \", også, den, at, på, til, er, ., men, bare, bra, må, denne, alltid, tror, en, jeg, Det, #, for, med, jo, vitenskap, å, /, oss, de, tro, kan, fakta, aldri, ?, Og, ikke, skal, eller, Å, i, :\n",
      "\n",
      "(27, 1) vil, imot, her, ,, det, @, som, stole, et, av, og, om, t.co, https, vi, politisk, har, \", også, den, at, på, til, er, ., men, bare, bra, må, denne, alltid, tror, en, jeg, Det, #, for, med, jo, vitenskap, å, /, oss, de, tro, kan, fakta, aldri, ?, Og, ikke, skal, eller, Å, i, :\n",
      "\n",
      "(28, 1) vil, imot, her, ,, det, @, som, stole, et, av, og, om, t.co, https, vi, politisk, har, \", også, den, at, på, til, er, ., men, bare, bra, må, denne, alltid, tror, en, jeg, Det, #, for, med, jo, vitenskap, å, /, oss, de, tro, kan, fakta, aldri, ?, Og, ikke, skal, eller, Å, i, :\n",
      "\n",
      "(29, 1) vil, imot, her, ,, det, @, som, stole, et, av, og, om, t.co, https, vi, politisk, har, \", også, den, at, på, til, er, ., men, bare, bra, må, denne, alltid, tror, en, jeg, Det, #, for, med, jo, vitenskap, å, /, oss, de, tro, kan, fakta, aldri, ?, Og, ikke, skal, eller, Å, i, :\n",
      "\n",
      "(30, 1) vil, imot, her, ,, det, @, som, stole, et, av, og, om, t.co, https, vi, politisk, har, \", også, den, at, på, til, er, ., men, bare, bra, må, denne, alltid, tror, en, jeg, Det, #, for, med, jo, vitenskap, å, /, oss, de, tro, kan, fakta, aldri, ?, Og, ikke, skal, eller, Å, i, :\n",
      "\n",
      "(31, 1) vil, imot, her, ,, det, @, som, stole, et, av, og, om, t.co, https, vi, politisk, har, \", også, den, at, på, til, er, ., men, bare, bra, må, denne, alltid, tror, en, jeg, Det, #, for, med, jo, vitenskap, å, /, oss, de, tro, kan, fakta, aldri, ?, Og, ikke, skal, eller, Å, i, :\n",
      "\n",
      "(32, 1) vil, imot, her, ,, det, @, som, stole, et, av, og, om, t.co, https, vi, politisk, har, \", også, den, at, på, til, er, ., men, bare, bra, må, denne, alltid, tror, en, jeg, Det, #, for, med, jo, vitenskap, å, /, oss, de, tro, kan, fakta, aldri, ?, Og, ikke, skal, eller, Å, i, :\n",
      "\n",
      "(33, 1) vil, imot, her, ,, det, @, som, stole, et, av, og, om, t.co, https, vi, politisk, har, \", også, den, at, på, til, er, ., men, bare, bra, må, denne, alltid, tror, en, jeg, Det, #, for, med, jo, vitenskap, å, /, oss, de, tro, kan, fakta, aldri, ?, Og, ikke, skal, eller, Å, i, :\n",
      "\n",
      "(34, 1) vil, imot, her, ,, det, @, som, stole, et, av, og, om, t.co, https, vi, politisk, har, \", også, den, at, på, til, er, ., men, bare, bra, må, denne, alltid, tror, en, jeg, Det, #, for, med, jo, vitenskap, å, /, oss, de, tro, kan, fakta, aldri, ?, Og, ikke, skal, eller, Å, i, :\n",
      "\n",
      "(35, 1) vil, imot, her, ,, det, @, som, stole, et, av, og, om, t.co, https, vi, politisk, har, \", også, den, at, på, til, er, ., men, bare, bra, må, denne, alltid, tror, en, jeg, Det, #, for, med, jo, vitenskap, å, /, oss, de, tro, kan, fakta, aldri, ?, Og, ikke, skal, eller, Å, i, :\n",
      "\n",
      "(36, 1) vil, imot, her, ,, det, @, som, stole, et, av, og, om, t.co, https, vi, politisk, har, \", også, den, at, på, til, er, ., men, bare, bra, må, denne, alltid, tror, en, jeg, Det, #, for, med, jo, vitenskap, å, /, oss, de, tro, kan, fakta, aldri, ?, Og, ikke, skal, eller, Å, i, :\n",
      "\n",
      "(37, 1) vil, imot, her, ,, det, @, som, stole, et, av, og, om, t.co, https, vi, politisk, har, \", også, den, at, på, til, er, ., men, bare, bra, må, denne, alltid, tror, en, jeg, Det, #, for, med, jo, vitenskap, å, /, oss, de, tro, kan, fakta, aldri, ?, Og, ikke, skal, eller, Å, i, :\n",
      "\n",
      "(38, 1) vil, imot, her, ,, det, @, som, stole, et, av, og, om, t.co, https, vi, politisk, har, \", også, den, at, på, til, er, ., men, bare, bra, må, denne, alltid, tror, en, jeg, Det, #, for, med, jo, vitenskap, å, /, oss, de, tro, kan, fakta, aldri, ?, Og, ikke, skal, eller, Å, i, :\n",
      "\n",
      "(39, 1) vil, imot, her, ,, det, @, som, stole, et, av, og, om, t.co, https, vi, politisk, har, \", også, den, at, på, til, er, ., men, bare, bra, må, denne, alltid, tror, en, jeg, Det, #, for, med, jo, vitenskap, å, /, oss, de, tro, kan, fakta, aldri, ?, Og, ikke, skal, eller, Å, i, :\n",
      "\n",
      "(40, 1) vil, imot, her, ,, det, @, som, stole, et, av, og, om, t.co, https, vi, politisk, har, \", også, den, at, på, til, er, ., men, bare, bra, må, denne, alltid, tror, en, jeg, Det, #, for, med, jo, vitenskap, å, /, oss, de, tro, kan, fakta, aldri, ?, Og, ikke, skal, eller, Å, i, :\n",
      "\n",
      "(41, 1) vil, imot, her, ,, det, @, som, stole, et, av, og, om, t.co, https, vi, politisk, har, \", også, den, at, på, til, er, ., men, bare, bra, må, denne, alltid, tror, en, jeg, Det, #, for, med, jo, vitenskap, å, /, oss, de, tro, kan, fakta, aldri, ?, Og, ikke, skal, eller, Å, i, :\n",
      "\n",
      "(42, 1) vil, imot, her, ,, det, @, som, stole, et, av, og, om, t.co, https, vi, politisk, har, \", også, den, at, på, til, er, ., men, bare, bra, må, denne, alltid, tror, en, jeg, Det, #, for, med, jo, vitenskap, å, /, oss, de, tro, kan, fakta, aldri, ?, Og, ikke, skal, eller, Å, i, :\n",
      "\n",
      "(43, 1) vil, imot, her, ,, det, @, som, stole, et, av, og, om, t.co, https, vi, politisk, har, \", også, den, at, på, til, er, ., men, bare, bra, må, denne, alltid, tror, en, jeg, Det, #, for, med, jo, vitenskap, å, /, oss, de, tro, kan, fakta, aldri, ?, Og, ikke, skal, eller, Å, i, :\n",
      "\n",
      "(44, 1) vil, imot, her, ,, det, @, som, stole, et, av, og, om, t.co, https, vi, politisk, har, \", også, den, at, på, til, er, ., men, bare, bra, må, denne, alltid, tror, en, jeg, Det, #, for, med, jo, vitenskap, å, /, oss, de, tro, kan, fakta, aldri, ?, Og, ikke, skal, eller, Å, i, :\n",
      "\n",
      "(45, 1) vil, imot, her, ,, det, @, som, stole, et, av, og, om, t.co, https, vi, politisk, har, \", også, den, at, på, til, er, ., men, bare, bra, må, denne, alltid, tror, en, jeg, Det, #, for, med, jo, vitenskap, å, /, oss, de, tro, kan, fakta, aldri, ?, Og, ikke, skal, eller, Å, i, :\n",
      "\n",
      "(46, 1) vil, imot, her, ,, det, @, som, stole, et, av, og, om, t.co, https, vi, politisk, har, \", også, den, at, på, til, er, ., men, bare, bra, må, denne, alltid, tror, en, jeg, Det, #, for, med, jo, vitenskap, å, /, oss, de, tro, kan, fakta, aldri, ?, Og, ikke, skal, eller, Å, i, :\n",
      "\n",
      "(47, 1) vil, imot, her, ,, det, @, som, stole, et, av, og, om, t.co, https, vi, politisk, har, \", også, den, at, på, til, er, ., men, bare, bra, må, denne, alltid, tror, en, jeg, Det, #, for, med, jo, vitenskap, å, /, oss, de, tro, kan, fakta, aldri, ?, Og, ikke, skal, eller, Å, i, :\n",
      "\n",
      "(48, 1) vil, imot, her, ,, det, @, som, stole, et, av, og, om, t.co, https, vi, politisk, har, \", også, den, at, på, til, er, ., men, bare, bra, må, denne, alltid, tror, en, jeg, Det, #, for, med, jo, vitenskap, å, /, oss, de, tro, kan, fakta, aldri, ?, Og, ikke, skal, eller, Å, i, :\n",
      "\n",
      "(49, 1) vil, imot, her, ,, det, @, som, stole, et, av, og, om, t.co, https, vi, politisk, har, \", også, den, at, på, til, er, ., men, bare, bra, må, denne, alltid, tror, en, jeg, Det, #, for, med, jo, vitenskap, å, /, oss, de, tro, kan, fakta, aldri, ?, Og, ikke, skal, eller, Å, i, :\n",
      "\n",
      "(50, 1) vil, imot, her, ,, det, @, som, stole, et, av, og, om, t.co, https, vi, politisk, har, \", også, den, at, på, til, er, ., men, bare, bra, må, denne, alltid, tror, en, jeg, Det, #, for, med, jo, vitenskap, å, /, oss, de, tro, kan, fakta, aldri, ?, Og, ikke, skal, eller, Å, i, :\n",
      "\n",
      "(51, 1) vil, her, ,, det, @, som, stole, et, av, og, om, t.co, https, vi, politisk, har, \", også, den, at, på, til, er, ., men, bare, bra, må, denne, alltid, tror, en, jeg, Det, #, for, med, jo, vitenskap, å, /, oss, de, tro, kan, fakta, aldri, ?, Og, ikke, skal, eller, Å, i, :\n",
      "\n",
      "(52, 1) vil, her, ,, det, @, som, stole, et, av, og, om, t.co, https, vi, politisk, har, \", også, den, at, på, til, er, ., men, bare, bra, må, denne, alltid, tror, en, jeg, Det, #, for, med, jo, vitenskap, å, /, oss, de, tro, kan, fakta, aldri, ?, Og, ikke, skal, eller, Å, i, :\n",
      "\n",
      "(53, 1) vil, her, ,, det, @, som, stole, et, av, og, om, t.co, https, vi, politisk, har, \", også, den, at, på, til, er, ., men, bare, må, denne, alltid, tror, en, jeg, Det, #, for, med, jo, vitenskap, å, /, oss, de, tro, kan, fakta, aldri, ?, Og, ikke, skal, eller, Å, i, :\n",
      "\n"
     ]
    }
   ],
   "source": [
    "gnl.show_cliques(G)"
   ]
  }
 ],
 "metadata": {
  "kernelspec": {
   "display_name": "Python 3",
   "language": "python",
   "name": "python3"
  },
  "language_info": {
   "codemirror_mode": {
    "name": "ipython",
    "version": 3
   },
   "file_extension": ".py",
   "mimetype": "text/x-python",
   "name": "python",
   "nbconvert_exporter": "python",
   "pygments_lexer": "ipython3",
   "version": "3.8.3"
  }
 },
 "nbformat": 4,
 "nbformat_minor": 4
}

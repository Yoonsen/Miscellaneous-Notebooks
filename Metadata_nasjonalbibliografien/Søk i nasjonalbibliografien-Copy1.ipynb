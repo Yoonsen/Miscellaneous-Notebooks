{
 "cells": [
  {
   "cell_type": "markdown",
   "metadata": {},
   "source": [
    "## Søk i nasjonalbibliografien \n",
    "\n",
    "\n",
    "For å søke i nasjonalbibliografien trengs filen som ligger her på github: \n",
    "\n",
    "https://raw.githubusercontent.com/Yoonsen/Modules/master/mods_meta.py\n",
    "\n",
    "Det greieste er bare å utføre curl-kommandoen nedenfor."
   ]
  },
  {
   "cell_type": "code",
   "execution_count": 3,
   "metadata": {},
   "outputs": [
    {
     "data": {
      "text/markdown": [
       "Updated file `C:\\Users\\larsj\\Documents\\GitHub\\Miscellaneous-Notebooks\\Metadata_nasjonalbibliografien\\mods_meta.py`"
      ],
      "text/plain": [
       "<IPython.core.display.Markdown object>"
      ]
     },
     "metadata": {},
     "output_type": "display_data"
    }
   ],
   "source": [
    "import dhlab.module_update as mu\n",
    "mu.update(\"mods_meta\")"
   ]
  },
  {
   "cell_type": "markdown",
   "metadata": {},
   "source": [
    "Deretter er det bare å importere den som for eksempel mm"
   ]
  },
  {
   "cell_type": "code",
   "execution_count": 4,
   "metadata": {},
   "outputs": [],
   "source": [
    "import mods_meta as mm"
   ]
  },
  {
   "cell_type": "markdown",
   "metadata": {},
   "source": [
    "Søk er to trinn, først hentes URN-er eller MMSID for treffene, deretter slås de opp med de dataene du ønsker. Her viser jeg hvordan du bruker marc-tuplene for å hente ut data.\n",
    "\n",
    "Kommandoen er `mm.meta_natbib()` som kan mange parametre, der du også kan legge til krav ved hjelp av marctupler. For eksempel, om du ser etter andre opplag av Hamsun kan du prøve noe sånt, der % er jokertegn og åpne plasser må markeres med mellomrom ' ' :"
   ]
  },
  {
   "cell_type": "code",
   "execution_count": 27,
   "metadata": {},
   "outputs": [
    {
     "data": {
      "text/plain": [
       "\u001b[1;31mSignature:\u001b[0m\n",
       "\u001b[0mmm\u001b[0m\u001b[1;33m.\u001b[0m\u001b[0mmeta_natbib\u001b[0m\u001b[1;33m(\u001b[0m\u001b[1;33m\n",
       "\u001b[0m    \u001b[0mchildren\u001b[0m\u001b[1;33m=\u001b[0m\u001b[1;32mFalse\u001b[0m\u001b[1;33m,\u001b[0m\u001b[1;33m\n",
       "\u001b[0m    \u001b[0myearfrom\u001b[0m\u001b[1;33m=\u001b[0m\u001b[1;34m''\u001b[0m\u001b[1;33m,\u001b[0m\u001b[1;33m\n",
       "\u001b[0m    \u001b[0myearto\u001b[0m\u001b[1;33m=\u001b[0m\u001b[1;34m''\u001b[0m\u001b[1;33m,\u001b[0m\u001b[1;33m\n",
       "\u001b[0m    \u001b[0mlang\u001b[0m\u001b[1;33m=\u001b[0m\u001b[1;32mNone\u001b[0m\u001b[1;33m,\u001b[0m\u001b[1;33m\n",
       "\u001b[0m    \u001b[0mauthor\u001b[0m\u001b[1;33m=\u001b[0m\u001b[1;32mNone\u001b[0m\u001b[1;33m,\u001b[0m\u001b[1;33m\n",
       "\u001b[0m    \u001b[0mtitle\u001b[0m\u001b[1;33m=\u001b[0m\u001b[1;32mNone\u001b[0m\u001b[1;33m,\u001b[0m\u001b[1;33m\n",
       "\u001b[0m    \u001b[0msubtitle\u001b[0m\u001b[1;33m=\u001b[0m\u001b[1;32mNone\u001b[0m\u001b[1;33m,\u001b[0m\u001b[1;33m\n",
       "\u001b[0m    \u001b[0mpublisher\u001b[0m\u001b[1;33m=\u001b[0m\u001b[1;32mNone\u001b[0m\u001b[1;33m,\u001b[0m\u001b[1;33m\n",
       "\u001b[0m    \u001b[0msubject\u001b[0m\u001b[1;33m=\u001b[0m\u001b[1;32mNone\u001b[0m\u001b[1;33m,\u001b[0m\u001b[1;33m\n",
       "\u001b[0m    \u001b[0mtopic\u001b[0m\u001b[1;33m=\u001b[0m\u001b[1;32mNone\u001b[0m\u001b[1;33m,\u001b[0m\u001b[1;33m\n",
       "\u001b[0m    \u001b[0mmarctuples\u001b[0m\u001b[1;33m=\u001b[0m\u001b[1;32mNone\u001b[0m\u001b[1;33m,\u001b[0m\u001b[1;33m\n",
       "\u001b[0m    \u001b[0mlimit\u001b[0m\u001b[1;33m=\u001b[0m\u001b[1;36m20\u001b[0m\u001b[1;33m,\u001b[0m\u001b[1;33m\n",
       "\u001b[0m\u001b[1;33m)\u001b[0m\u001b[1;33m\u001b[0m\u001b[1;33m\u001b[0m\u001b[0m\n",
       "\u001b[1;31mSource:\u001b[0m   \n",
       "\u001b[1;32mdef\u001b[0m \u001b[0mmeta_natbib\u001b[0m\u001b[1;33m(\u001b[0m\u001b[0mchildren\u001b[0m \u001b[1;33m=\u001b[0m \u001b[1;32mFalse\u001b[0m\u001b[1;33m,\u001b[0m \u001b[0myearfrom\u001b[0m \u001b[1;33m=\u001b[0m \u001b[1;34m\"\"\u001b[0m\u001b[1;33m,\u001b[0m \u001b[0myearto\u001b[0m \u001b[1;33m=\u001b[0m \u001b[1;34m\"\"\u001b[0m\u001b[1;33m,\u001b[0m \u001b[0mlang\u001b[0m \u001b[1;33m=\u001b[0m \u001b[1;32mNone\u001b[0m\u001b[1;33m,\u001b[0m \u001b[0mauthor\u001b[0m \u001b[1;33m=\u001b[0m \u001b[1;32mNone\u001b[0m\u001b[1;33m,\u001b[0m \u001b[0mtitle\u001b[0m \u001b[1;33m=\u001b[0m \u001b[1;32mNone\u001b[0m\u001b[1;33m,\u001b[0m \u001b[0msubtitle\u001b[0m \u001b[1;33m=\u001b[0m \u001b[1;32mNone\u001b[0m\u001b[1;33m,\u001b[0m \u001b[0mpublisher\u001b[0m \u001b[1;33m=\u001b[0m \u001b[1;32mNone\u001b[0m\u001b[1;33m,\u001b[0m \u001b[0msubject\u001b[0m \u001b[1;33m=\u001b[0m \u001b[1;32mNone\u001b[0m\u001b[1;33m,\u001b[0m \u001b[0mtopic\u001b[0m \u001b[1;33m=\u001b[0m \u001b[1;32mNone\u001b[0m\u001b[1;33m,\u001b[0m \u001b[0mmarctuples\u001b[0m \u001b[1;33m=\u001b[0m \u001b[1;32mNone\u001b[0m\u001b[1;33m,\u001b[0m \u001b[0mlimit\u001b[0m\u001b[1;33m=\u001b[0m\u001b[1;36m20\u001b[0m\u001b[1;33m)\u001b[0m\u001b[1;33m:\u001b[0m\u001b[1;33m\n",
       "\u001b[0m    \u001b[1;34m\"\"\" New metadata - search the national bibliography using marc21 tuples \"\"\"\u001b[0m\u001b[1;33m\n",
       "\u001b[0m    \u001b[0mparams\u001b[0m \u001b[1;33m=\u001b[0m \u001b[0mlocals\u001b[0m\u001b[1;33m(\u001b[0m\u001b[1;33m)\u001b[0m\u001b[1;33m\n",
       "\u001b[0m    \u001b[1;31m#print(params)\u001b[0m\u001b[1;33m\n",
       "\u001b[0m    \u001b[0mr\u001b[0m \u001b[1;33m=\u001b[0m \u001b[0mrequests\u001b[0m\u001b[1;33m.\u001b[0m\u001b[0mpost\u001b[0m\u001b[1;33m(\u001b[0m\u001b[1;34m\"https://api.nb.no/ngram/get_urns\"\u001b[0m\u001b[1;33m,\u001b[0m \u001b[0mjson\u001b[0m \u001b[1;33m=\u001b[0m \u001b[0mparams\u001b[0m\u001b[1;33m)\u001b[0m\u001b[1;33m\n",
       "\u001b[0m    \u001b[1;32mreturn\u001b[0m \u001b[0mr\u001b[0m\u001b[1;33m.\u001b[0m\u001b[0mjson\u001b[0m\u001b[1;33m(\u001b[0m\u001b[1;33m)\u001b[0m\u001b[1;33m\u001b[0m\u001b[1;33m\u001b[0m\u001b[0m\n",
       "\u001b[1;31mFile:\u001b[0m      c:\\users\\larsj\\documents\\github\\miscellaneous-notebooks\\metadata_nasjonalbibliografien\\mods_meta.py\n",
       "\u001b[1;31mType:\u001b[0m      function\n"
      ]
     },
     "metadata": {},
     "output_type": "display_data"
    }
   ],
   "source": [
    "mm.meta_natbib??"
   ]
  },
  {
   "cell_type": "code",
   "execution_count": 25,
   "metadata": {},
   "outputs": [],
   "source": [
    "# forfatter er det eget nøkkelord for men for å vise marctuplenes funksjonalitet legger jeg det inn der. \n",
    "# Marc for opplag ligger i 250##a, og der ser vi etter tallet 2\n",
    "\n",
    "korpus = mm.meta_natbib( title = \"%evaluering av%\", yearfrom = 1980, yearto = 2020)"
   ]
  },
  {
   "cell_type": "code",
   "execution_count": 26,
   "metadata": {},
   "outputs": [
    {
     "data": {
      "text/plain": [
       "5"
      ]
     },
     "execution_count": 26,
     "metadata": {},
     "output_type": "execute_result"
    }
   ],
   "source": [
    "len(korpus)"
   ]
  },
  {
   "cell_type": "markdown",
   "metadata": {},
   "source": [
    "Variabelen `korpus` inneholder nå en liste av MMSID og URNer (bare serienummeret for digibok-serien) begrenset i størrelse av nøkkelordet `limit`. For å se hva vi har funnet, kjøres kommandoen `mm.metadata()` for de urnene, og med en liste av marctupler vi ønsker verdien på. Her forfatter, tittel og opplag. Kommandoen har noen defaultsettinger for hva som returneres, her har vi fylt inn marc-tupler for navn, tittel og opplag, mens språk og år kommer automatisk. Bare å fylle på!"
   ]
  },
  {
   "cell_type": "code",
   "execution_count": 8,
   "metadata": {},
   "outputs": [
    {
     "data": {
      "text/plain": [
       "[[991123259474702201, 2015111308007],\n",
       " [990717224754702201, 2011090808024],\n",
       " [991112247724702201, 2014050805065],\n",
       " [999728473324702201, 2011020408139],\n",
       " [990602127214702201, 2011071808029]]"
      ]
     },
     "execution_count": 8,
     "metadata": {},
     "output_type": "execute_result"
    }
   ],
   "source": [
    "# i posisjon 2 ligger URNer, første element er mmsid\n",
    "korpus[:5]"
   ]
  },
  {
   "cell_type": "markdown",
   "metadata": {},
   "source": [
    "Finn metadata for tuplene"
   ]
  },
  {
   "cell_type": "code",
   "execution_count": 9,
   "metadata": {},
   "outputs": [
    {
     "data": {
      "text/plain": [
       "{'2011020408139': {'100-1- -a': 'Lorentzen, Hilde',\n",
       "  '260- - -a': 'Oslo',\n",
       "  'lang': 'nob',\n",
       "  'year': 1997},\n",
       " '2011071808029': {'100-1- -a': 'Brottveit, Ånund',\n",
       "  '260- - -a': 'Oslo',\n",
       "  'lang': 'nob',\n",
       "  'year': 2006},\n",
       " '2011090808024': {'100-1- -a': 'Bjørnstad, Thor Christian',\n",
       "  '260- - -a': 'Oslo',\n",
       "  'lang': 'nob',\n",
       "  'year': 2007},\n",
       " '2014050805065': {'100-1- -a': 'Bjørnstad, Roger',\n",
       "  '260- - -a': 'Oslo',\n",
       "  'lang': 'nob',\n",
       "  'year': 2011},\n",
       " '2015111308007': {'100-1- -a': 'Negaard, Arve',\n",
       "  '260- - -a': 'Halden',\n",
       "  'lang': 'nob',\n",
       "  'year': 2011}}"
      ]
     },
     "execution_count": 9,
     "metadata": {},
     "output_type": "execute_result"
    }
   ],
   "source": [
    "meta = mm.metadata(urns = [x[1] for x in korpus], \n",
    "                   marctuples=[\n",
    "                       (100, 1, ' ', 'a'),\n",
    "                       (245,1,0,'a'),\n",
    "                       (245,1,0,'b'), \n",
    "                       (250, ' ', ' ', 'a'),\n",
    "                       (260, ' ', ' ', 'a')\n",
    "                   ]\n",
    "                  )\n",
    "meta"
   ]
  },
  {
   "cell_type": "markdown",
   "metadata": {},
   "source": [
    "# Bruk pandas for å få det hele i tabellform"
   ]
  },
  {
   "cell_type": "code",
   "execution_count": 10,
   "metadata": {},
   "outputs": [],
   "source": [
    "import pandas as pd"
   ]
  },
  {
   "cell_type": "code",
   "execution_count": 11,
   "metadata": {},
   "outputs": [
    {
     "data": {
      "text/html": [
       "<div>\n",
       "<style scoped>\n",
       "    .dataframe tbody tr th:only-of-type {\n",
       "        vertical-align: middle;\n",
       "    }\n",
       "\n",
       "    .dataframe tbody tr th {\n",
       "        vertical-align: top;\n",
       "    }\n",
       "\n",
       "    .dataframe thead th {\n",
       "        text-align: right;\n",
       "    }\n",
       "</style>\n",
       "<table border=\"1\" class=\"dataframe\">\n",
       "  <thead>\n",
       "    <tr style=\"text-align: right;\">\n",
       "      <th></th>\n",
       "      <th>100-1- -a</th>\n",
       "      <th>260- - -a</th>\n",
       "      <th>lang</th>\n",
       "      <th>year</th>\n",
       "    </tr>\n",
       "  </thead>\n",
       "  <tbody>\n",
       "    <tr>\n",
       "      <th>2011020408139</th>\n",
       "      <td>Lorentzen, Hilde</td>\n",
       "      <td>Oslo</td>\n",
       "      <td>nob</td>\n",
       "      <td>1997</td>\n",
       "    </tr>\n",
       "    <tr>\n",
       "      <th>2011071808029</th>\n",
       "      <td>Brottveit, Ånund</td>\n",
       "      <td>Oslo</td>\n",
       "      <td>nob</td>\n",
       "      <td>2006</td>\n",
       "    </tr>\n",
       "    <tr>\n",
       "      <th>2011090808024</th>\n",
       "      <td>Bjørnstad, Thor Christian</td>\n",
       "      <td>Oslo</td>\n",
       "      <td>nob</td>\n",
       "      <td>2007</td>\n",
       "    </tr>\n",
       "    <tr>\n",
       "      <th>2014050805065</th>\n",
       "      <td>Bjørnstad, Roger</td>\n",
       "      <td>Oslo</td>\n",
       "      <td>nob</td>\n",
       "      <td>2011</td>\n",
       "    </tr>\n",
       "    <tr>\n",
       "      <th>2015111308007</th>\n",
       "      <td>Negaard, Arve</td>\n",
       "      <td>Halden</td>\n",
       "      <td>nob</td>\n",
       "      <td>2011</td>\n",
       "    </tr>\n",
       "  </tbody>\n",
       "</table>\n",
       "</div>"
      ],
      "text/plain": [
       "                               100-1- -a 260- - -a lang  year\n",
       "2011020408139           Lorentzen, Hilde      Oslo  nob  1997\n",
       "2011071808029           Brottveit, Ånund      Oslo  nob  2006\n",
       "2011090808024  Bjørnstad, Thor Christian      Oslo  nob  2007\n",
       "2014050805065           Bjørnstad, Roger      Oslo  nob  2011\n",
       "2015111308007              Negaard, Arve    Halden  nob  2011"
      ]
     },
     "execution_count": 11,
     "metadata": {},
     "output_type": "execute_result"
    }
   ],
   "source": [
    "pd.DataFrame(meta).transpose()"
   ]
  },
  {
   "cell_type": "code",
   "execution_count": null,
   "metadata": {},
   "outputs": [],
   "source": []
  }
 ],
 "metadata": {
  "kernelspec": {
   "display_name": "Python 3",
   "language": "python",
   "name": "python3"
  },
  "language_info": {
   "codemirror_mode": {
    "name": "ipython",
    "version": 3
   },
   "file_extension": ".py",
   "mimetype": "text/x-python",
   "name": "python",
   "nbconvert_exporter": "python",
   "pygments_lexer": "ipython3",
   "version": "3.8.3"
  }
 },
 "nbformat": 4,
 "nbformat_minor": 4
}

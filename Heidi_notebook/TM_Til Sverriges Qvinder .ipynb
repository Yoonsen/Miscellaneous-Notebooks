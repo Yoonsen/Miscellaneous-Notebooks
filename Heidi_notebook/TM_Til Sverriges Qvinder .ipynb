{
 "cells": [
  {
   "cell_type": "markdown",
   "metadata": {
    "extensions": {
     "jupyter_dashboards": {
      "version": 1,
      "views": {
       "grid_default": {
        "col": 4,
        "height": 4,
        "hidden": false,
        "row": 0,
        "width": 4
       },
       "report_default": {
        "hidden": false
       }
      }
     }
    }
   },
   "source": [
    "## Notebook for topic-modellering av \"Til Sverriges Qvinder\"\n",
    "Utviklet av Lars G. Johnsen "
   ]
  },
  {
   "cell_type": "markdown",
   "metadata": {
    "extensions": {
     "jupyter_dashboards": {
      "version": 1,
      "views": {
       "grid_default": {
        "col": 8,
        "height": 4,
        "hidden": false,
        "row": 16,
        "width": 4
       },
       "report_default": {
        "hidden": true
       }
      }
     }
    }
   },
   "source": [
    "Litt boilerplate import"
   ]
  },
  {
   "cell_type": "code",
   "execution_count": 1,
   "metadata": {
    "collapsed": true,
    "extensions": {
     "jupyter_dashboards": {
      "version": 1,
      "views": {
       "grid_default": {
        "hidden": true
       },
       "report_default": {
        "hidden": true
       }
      }
     }
    }
   },
   "outputs": [],
   "source": [
    "import topicmodelling as tm\n",
    "import imp\n",
    "import util\n",
    "from bs4 import BeautifulSoup\n",
    "import fork_kombo as fk\n",
    "import matplotlib.pyplot as plt\n",
    "%matplotlib inline"
   ]
  },
  {
   "cell_type": "markdown",
   "metadata": {
    "extensions": {
     "jupyter_dashboards": {
      "version": 1,
      "views": {
       "grid_default": {
        "col": 0,
        "height": 5,
        "hidden": false,
        "row": 205,
        "width": 12
       },
       "report_default": {
        "hidden": false
       }
      }
     }
    }
   },
   "source": [
    "### Hent selve teksten:\n",
    "\n"
   ]
  },
  {
   "cell_type": "code",
   "execution_count": 2,
   "metadata": {
    "collapsed": false
   },
   "outputs": [],
   "source": [
    "my_corpus=['denconstitutionelle.txt']"
   ]
  },
  {
   "cell_type": "markdown",
   "metadata": {},
   "source": [
    "### Bygging av korpuset:"
   ]
  },
  {
   "cell_type": "code",
   "execution_count": 3,
   "metadata": {
    "collapsed": false
   },
   "outputs": [],
   "source": [
    "corpus=[]\n",
    "for filename in my_corpus:\n",
    "    text = open(filename, encoding='utf-8').read()\n",
    "    for paragraph in text.split('\\n\\n'):\n",
    "        corpus.append(paragraph.split())\n"
   ]
  },
  {
   "cell_type": "markdown",
   "metadata": {},
   "source": [
    "### Frekvenslister for å lage stoppord"
   ]
  },
  {
   "cell_type": "code",
   "execution_count": 5,
   "metadata": {
    "collapsed": true,
    "extensions": {
     "jupyter_dashboards": {
      "version": 1,
      "views": {
       "grid_default": {
        "col": 0,
        "height": 14,
        "hidden": false,
        "row": 12,
        "width": 4
       },
       "report_default": {
        "hidden": false
       }
      }
     }
    },
    "scrolled": true
   },
   "outputs": [],
   "source": [
    "freqs = tm.corpusfreq(corpus)"
   ]
  },
  {
   "cell_type": "code",
   "execution_count": 6,
   "metadata": {
    "collapsed": false
   },
   "outputs": [
    {
     "data": {
      "text/plain": [
       "[(',', 211),\n",
       " ('.', 86),\n",
       " ('og', 69),\n",
       " ('i', 68),\n",
       " ('af', 44),\n",
       " ('at', 42),\n",
       " ('©', 40),\n",
       " ('er', 32),\n",
       " ('for', 32),\n",
       " ('det', 30),\n",
       " ('til', 25),\n",
       " ('som', 25),\n",
       " ('de', 25),\n",
       " ('et', 20),\n",
       " ('sig', 20),\n",
       " ('den', 20),\n",
       " ('bet', 19),\n",
       " ('disse', 17),\n",
       " ('paa', 17),\n",
       " ('en', 17),\n",
       " ('ikke', 15),\n",
       " ('ben', 15),\n",
       " (';', 14),\n",
       " ('deres', 13),\n",
       " (\"'\", 13),\n",
       " ('med', 12),\n",
       " ('\"', 12),\n",
       " ('om', 12),\n",
       " ('„', 11),\n",
       " ('fom', 10),\n",
       " ('dette', 10),\n",
       " ('»', 10),\n",
       " ('her', 9),\n",
       " ('har', 9),\n",
       " ('alt', 9)]"
      ]
     },
     "execution_count": 6,
     "metadata": {},
     "output_type": "execute_result"
    }
   ],
   "source": [
    "freqs.most_common(35)"
   ]
  },
  {
   "cell_type": "markdown",
   "metadata": {
    "extensions": {
     "jupyter_dashboards": {
      "version": 1,
      "views": {
       "grid_default": {},
       "report_default": {
        "hidden": false
       }
      }
     }
    }
   },
   "source": [
    "### Lag  selve stoppordliste\n",
    "\n",
    "Ordlista kan endres ved å legge til og trekke fra. \n",
    "\n",
    "Paramateret **freqs.most_common()** kan endres for å få andre stoppordlister. Ord som er tatt ut kan legges inn igjen. "
   ]
  },
  {
   "cell_type": "code",
   "execution_count": 7,
   "metadata": {
    "collapsed": false
   },
   "outputs": [],
   "source": [
    "korpus_stopp = dict({x[0]:freqs[x[0]] for x in freqs.most_common(35)})"
   ]
  },
  {
   "cell_type": "markdown",
   "metadata": {},
   "source": [
    "**Sjekk ut hva som fjernes...**"
   ]
  },
  {
   "cell_type": "code",
   "execution_count": 8,
   "metadata": {
    "collapsed": false
   },
   "outputs": [
    {
     "name": "stdout",
     "output_type": "stream",
     "text": [
      "dict_keys([',', '.', 'og', 'i', 'af', 'at', '©', 'er', 'for', 'det', 'til', 'som', 'de', 'et', 'sig', 'den', 'bet', 'disse', 'paa', 'en', 'ikke', 'ben', ';', 'deres', \"'\", 'med', '\"', 'om', '„', 'fom', 'dette', '»', 'her', 'har', 'alt'])\n"
     ]
    }
   ],
   "source": [
    "print(korpus_stopp.keys())"
   ]
  },
  {
   "cell_type": "code",
   "execution_count": 9,
   "metadata": {
    "collapsed": false
   },
   "outputs": [],
   "source": [
    "del korpus_stopp['har']"
   ]
  },
  {
   "cell_type": "code",
   "execution_count": 10,
   "metadata": {
    "collapsed": false
   },
   "outputs": [],
   "source": [
    "mystop = dict({\"over\":1, \"ved\":1})"
   ]
  },
  {
   "cell_type": "code",
   "execution_count": 11,
   "metadata": {
    "collapsed": true
   },
   "outputs": [],
   "source": [
    "korpus_stopp.update(mystop)"
   ]
  },
  {
   "cell_type": "markdown",
   "metadata": {
    "extensions": {
     "jupyter_dashboards": {
      "version": 1,
      "views": {
       "grid_default": {
        "col": 0,
        "height": 4,
        "hidden": false,
        "row": 46,
        "width": 4
       },
       "report_default": {
        "hidden": false
       }
      }
     }
    }
   },
   "source": [
    "## Topic model NMF "
   ]
  },
  {
   "cell_type": "markdown",
   "metadata": {
    "extensions": {
     "jupyter_dashboards": {
      "version": 1,
      "views": {
       "grid_default": {
        "col": 0,
        "height": 4,
        "hidden": false,
        "row": 56,
        "width": 12
       },
       "report_default": {
        "hidden": false
       }
      }
     }
    }
   },
   "source": [
    "**Modeller tema/topic**\n",
    "\n",
    "Modifisert kode fra fra http://derekgreene.com/nmf-topic/\n"
   ]
  },
  {
   "cell_type": "markdown",
   "metadata": {
    "extensions": {
     "jupyter_dashboards": {
      "version": 1,
      "views": {
       "grid_default": {
        "col": 0,
        "height": 11,
        "hidden": false,
        "row": 60,
        "width": 12
       },
       "report_default": {
        "hidden": true
       }
      }
     }
    },
    "slideshow": {
     "slide_type": "slide"
    }
   },
   "source": [
    "Ved temamodellering mallet-style er det tre parametre\n",
    "* antallet tema \n",
    "* størrelsen på tekstbitene\n",
    "* stoppord\n",
    "    \n",
    "Parametrene spesifiseres i kallet til **tm.modeller()** eller **tm.modeller_set()** på den her måten:\n",
    "\n",
    "<p style=\"font-family:courier\">tm.modeller(**teksten**, *tema*=**10**, *chunk_size*=**1000**, *topic_size*=**20**, *stop_words*=**stop_words**)</p>\n",
    "<p style=\"font-family:courier\">tm.modeller_set(**liste_av_tekster**, *tema*=**10**, *chunk_size*=**1000**, *topic_size*=**20**, *stop_words*=**stop_words**)</p>\n",
    "\n",
    "Forskjellen på de to er at med *modeller()* er det bare en tekst som modelleres, mens for *modeller_set()* er det flere tekster. "
   ]
  },
  {
   "cell_type": "code",
   "execution_count": 12,
   "metadata": {
    "collapsed": false,
    "extensions": {
     "jupyter_dashboards": {
      "version": 1,
      "views": {
       "grid_default": {
        "col": 0,
        "height": 35,
        "hidden": false,
        "row": 71,
        "width": 4
       },
       "report_default": {
        "hidden": false
       }
      }
     }
    },
    "slideshow": {
     "slide_type": "subslide"
    }
   },
   "outputs": [
    {
     "data": {
      "text/plain": [
       "['han, hans, hende, ), Ord, ham, fra, (, Vi, Verden',\n",
       " 'vi, Hr., have, Tid, langt, vanartede, hvor, Born, Det, blot',\n",
       " 'bor, vanrogtede, reddes, opvorendc, enig, fremfor, redde, Barn, blevne, ere',\n",
       " 'ofte, be, man, bliver, t, seer, horer, hele, Vasen, dens',\n",
       " 'har, almene, private, Liv, (, sin, Verden, Vi, Navnet, ind',\n",
       " 'blot, sindes, Stockholm, tvende, Man, har, ere, Mcrngde, son, Fcrngsel',\n",
       " 'selv, erc, Redningshuse, os, denne, men, bliver, have, Personer, nn',\n",
       " 'ang, f, Og, :, kommer, nit, !, hvert, kjende, Luft',\n",
       " 'let, allerede, see, eller, Vi, Varnlosc, ulige, fer, sknlde, Pligter',\n",
       " 'utallige, alle, :, men, mere, Tid, ere, Verden, Starum, syucs',\n",
       " 'maa, Moderlige, omfatte, men, blot, Vi, Livet, Familien, derfor, deri',\n",
       " 'Barn, har, hvert, os, vi, Alle, eller, kaldte, Vi, opreist',\n",
       " 'Jorden, stifte, eet, Og, !, end, foler, ?, redde, bette',\n",
       " 'reiser, Landets, hvis, >, har, «, Sveriges, Lasten, Frihedskamp, cgctSkjod',\n",
       " 'gjort, intet, gjore, imod, I, Ord, have, sin, Mennesket, vanrogtcde',\n",
       " 'be, har, Sinaacs, 83, hvilket, hviler, fattig, Svages, beroer, vidnede',\n",
       " 'Hustruen, Forlovelsesring, ber, Kostbarheder, var, erkjendte, nar, va-sentligen, uudcr, blandt',\n",
       " 'Born, optager, samme, saavel, 2, Major, Vcuus, Fcengftlsuleien, GB, Direktion',\n",
       " 'Tilfcrlde, Opnurrksomhedcn, rettet, hcrpaa, IbcleS, Viklie, tilfnlde, Samvittighed, Retninger, ertjcndt',\n",
       " 'sit, een, Navn, svare, privat, Undcrstottclse, baade, treenger, kunne, offentlig']"
      ]
     },
     "execution_count": 12,
     "metadata": {},
     "output_type": "execute_result"
    }
   ],
   "source": [
    "tm.modeller_set(corpus, tema=20, chunk_size=100, stop_words = korpus_stopp, topic_size=10)"
   ]
  },
  {
   "cell_type": "code",
   "execution_count": 13,
   "metadata": {
    "collapsed": false
   },
   "outputs": [
    {
     "data": {
      "text/plain": [
       "['han, hans, hende, ham, Ord, ), (, fra, see, hvorsomhelst',\n",
       " 'vi, have, Born, blot, selv, erc, men, Stockholm, Antal, storre',\n",
       " 'maa, Moderlige, omfatte, !, Det, der, blot, saafremt, nb, men',\n",
       " 'man, ofte, horer, seer, dens, t, naar, be, Vasen, hele',\n",
       " 'mere, :, *, utallige, os, be, ba, men, ang, Nost',\n",
       " 'Hr., Born, grundlagt, optage, fra, renge, kan, Det, tillade, Kahls',\n",
       " 'har, private, Liv, derved, ingen, Landets, reiser, dets, anden, svenske',\n",
       " 'sin, (, almene, sit, fra, Jorden, kan, denne, bor, foler',\n",
       " 'blot, sindes, Man, I, Forhold, font, bliver, hvis, tvende, be',\n",
       " 'Barn, Tid, Alle, os, Menneskes, bor, Velgjorer, Dette, blev, Verdens']"
      ]
     },
     "execution_count": 13,
     "metadata": {},
     "output_type": "execute_result"
    }
   ],
   "source": [
    "tm.modeller_set(corpus, tema=10, chunk_size=50, stop_words = korpus_stopp, topic_size=10)"
   ]
  }
 ],
 "metadata": {
  "anaconda-cloud": {},
  "extensions": {
   "jupyter_dashboards": {
    "activeView": "report_default",
    "version": 1,
    "views": {
     "grid_default": {
      "cellMargin": 10,
      "defaultCellHeight": 20,
      "maxColumns": 12,
      "name": "grid",
      "type": "grid"
     },
     "report_default": {
      "name": "report",
      "type": "report"
     }
    }
   }
  },
  "kernelspec": {
   "display_name": "Python 3",
   "language": "python",
   "name": "python3"
  },
  "language_info": {
   "codemirror_mode": {
    "name": "ipython",
    "version": 3
   },
   "file_extension": ".py",
   "mimetype": "text/x-python",
   "name": "python",
   "nbconvert_exporter": "python",
   "pygments_lexer": "ipython3",
   "version": "3.6.0"
  }
 },
 "nbformat": 4,
 "nbformat_minor": 1
}

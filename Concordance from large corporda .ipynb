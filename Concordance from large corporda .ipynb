{
 "cells": [
  {
   "cell_type": "markdown",
   "metadata": {},
   "source": [
    "### Illustrasjon av \"refine_book_urn\"\n",
    "\n",
    "\n",
    "Her er det litt kode som illustrerer konkordans med refine."
   ]
  },
  {
   "cell_type": "code",
   "execution_count": 2,
   "metadata": {},
   "outputs": [],
   "source": [
    "import dhlab.nbtext as nb"
   ]
  },
  {
   "cell_type": "markdown",
   "metadata": {},
   "source": [
    "Hent ut et stor sett URN-er, for eksempel de rundt 30 000 som er for nynorsk."
   ]
  },
  {
   "cell_type": "code",
   "execution_count": 14,
   "metadata": {},
   "outputs": [],
   "source": [
    "nynorsk = nb.book_urn(lang = 'nno', limit = 50000)"
   ]
  },
  {
   "cell_type": "code",
   "execution_count": 28,
   "metadata": {},
   "outputs": [
    {
     "data": {
      "text/plain": [
       "32291"
      ]
     },
     "execution_count": 28,
     "metadata": {},
     "output_type": "execute_result"
    }
   ],
   "source": [
    "len(nynorsk)"
   ]
  },
  {
   "cell_type": "markdown",
   "metadata": {},
   "source": [
    "Før _nb.urn_concordance_ påkalles, kjøres først en refine - her kan det være greit å først sjekke størrelsen på korpuset, er det over en 50 URN-er, kan det være greit å kjøre refine. \n",
    "\n",
    "Lister over URN-er sendes frem og tilbake. Ideen her er å sende en stor liste for å få en liten liste tilbake som det så søkes i. Refine kalles med søkeordet så alle URNene som kommer tilbake er garantert å ha søkeordet i seg. \n",
    "\n",
    "Med refine er det forholdsvis enkelt å implementere en OG-logikk i korpusbyggingen, men det er flerer måter å gjøre det på, snitt av urn-lister for eksempel.\n",
    "\n",
    "Antallet treff og antallet urner påvirker responstid. For et kjapt resultat (under 3 sek) hold dem små. Jo fler URNer, jo mer treff, ditto for size."
   ]
  },
  {
   "cell_type": "code",
   "execution_count": 32,
   "metadata": {},
   "outputs": [],
   "source": [
    "def refine_konk(word, corpus_urns, urnlimit = 10, hits_pr_db = 5):\n",
    "    \n",
    "    # limit bestemmer hvor mange bøker det skal tas konk fra, den samples fra listen\n",
    "    # så konk kan kjøres flerer ganger for å få fullstendige treff. Refine tar også flere parametre\n",
    "    # som ddk, subject osv., samme som nb.book_urn (tror jeg).\n",
    "    \n",
    "    refine = nb.refine_book_urn(words = [word], urns =  corpus_urns, limit = urnlimit)\n",
    "\n",
    "    # size sier hvor mange konk som skal hentes fra hver db (i praksis blir det ofte at en bok dominerer for små tall) \n",
    "    # - så litt shaky parameter\n",
    "    \n",
    "    return nb.urn_concordance(word= word, urns = refine, size = hits_pr_db)"
   ]
  },
  {
   "cell_type": "code",
   "execution_count": 35,
   "metadata": {},
   "outputs": [
    {
     "name": "stdout",
     "output_type": "stream",
     "text": [
      "Wall time: 2.36 s\n"
     ]
    },
    {
     "data": {
      "text/html": [
       "<table><tr>\n",
       "                <td>\n",
       "                    <a href='http://www.nb.no/items/URN:NBN:no-nb_digibok_2013101408133?searchText=gravferda' target='_blank' style='text-decoration:none'>Skjoldafolket og kyrkja deira, , 1987</a>\n",
       "                </td>\n",
       "                <td>Etter denne</td>\n",
       "                <td>gravferda</td>\n",
       "                <td style='text-align:left'>minka det svært av med</td>\n",
       "            </tr>\n",
       "<tr>\n",
       "                <td>\n",
       "                    <a href='http://www.nb.no/items/URN:NBN:no-nb_digibok_2009050600075?searchText=gravferda' target='_blank' style='text-decoration:none'>framande byen, Vaage, Lars Amund, 1999</a>\n",
       "                </td>\n",
       "                <td>i Wien , og i</td>\n",
       "                <td>gravferda</td>\n",
       "                <td style='text-align:left'>var onklane og deira koner</td>\n",
       "            </tr>\n",
       "<tr>\n",
       "                <td>\n",
       "                    <a href='http://www.nb.no/items/URN:NBN:no-nb_digibok_2015082448201?searchText=gravferda' target='_blank' style='text-decoration:none'>Bygdebok for Eid, Myskja, Karl, 1987</a>\n",
       "                </td>\n",
       "                <td>- 5 , og då</td>\n",
       "                <td>gravferda</td>\n",
       "                <td style='text-align:left'>var betalt med 9 spd</td>\n",
       "            </tr>\n",
       "<tr>\n",
       "                <td>\n",
       "                    <a href='http://www.nb.no/items/URN:NBN:no-nb_digibok_2012100406032?searchText=gravferda' target='_blank' style='text-decoration:none'>Løyndebru, Høydal, Aslaug, 1977</a>\n",
       "                </td>\n",
       "                <td>: Rustiborna kom ikkje i</td>\n",
       "                <td>gravferda</td>\n",
       "                <td style='text-align:left'>til mor si . Visst</td>\n",
       "            </tr>\n",
       "<tr>\n",
       "                <td>\n",
       "                    <a href='http://www.nb.no/items/URN:NBN:no-nb_digibok_2008111204006?searchText=gravferda' target='_blank' style='text-decoration:none'>Det andre rommet, Vaage, Lars Amund, 2001</a>\n",
       "                </td>\n",
       "                <td>i</td>\n",
       "                <td>gravferda</td>\n",
       "                <td style='text-align:left'>til</td>\n",
       "            </tr>\n",
       "<tr>\n",
       "                <td>\n",
       "                    <a href='http://www.nb.no/items/URN:NBN:no-nb_digibok_2007020901057?searchText=gravferda' target='_blank' style='text-decoration:none'>Skrifter i samling, Orheim, Matias, 1955</a>\n",
       "                </td>\n",
       "                <td>Jarle Lund hadde i</td>\n",
       "                <td>gravferda</td>\n",
       "                <td style='text-align:left'>til Bruland lese opp hams</td>\n",
       "            </tr>\n",
       "<tr>\n",
       "                <td>\n",
       "                    <a href='http://www.nb.no/items/URN:NBN:no-nb_digibok_2007020901057?searchText=gravferda' target='_blank' style='text-decoration:none'>Skrifter i samling, Orheim, Matias, 1955</a>\n",
       "                </td>\n",
       "                <td>I ^ evan3 kom til</td>\n",
       "                <td>gravferda</td>\n",
       "                <td style='text-align:left'>og hadde med seg Oppmoding</td>\n",
       "            </tr>\n",
       "<tr>\n",
       "                <td>\n",
       "                    <a href='http://www.nb.no/items/URN:NBN:no-nb_digibok_2007020901057?searchText=gravferda' target='_blank' style='text-decoration:none'>Skrifter i samling, Orheim, Matias, 1955</a>\n",
       "                </td>\n",
       "                <td>til dei tvo unge og</td>\n",
       "                <td>gravferda</td>\n",
       "                <td style='text-align:left'>til Oluf fremja vekkinga og</td>\n",
       "            </tr>\n",
       "<tr>\n",
       "                <td>\n",
       "                    <a href='http://www.nb.no/items/URN:NBN:no-nb_digibok_2008121100018?searchText=gravferda' target='_blank' style='text-decoration:none'>Mi stund i fjellheimen, Elvesæter, Åmund, 2000</a>\n",
       "                </td>\n",
       "                <td>så lenge etter , og</td>\n",
       "                <td>gravferda</td>\n",
       "                <td style='text-align:left'>var frå Bøverdal kyrkje .</td>\n",
       "            </tr>\n",
       "<tr>\n",
       "                <td>\n",
       "                    <a href='http://www.nb.no/items/URN:NBN:no-nb_digibok_2008121100018?searchText=gravferda' target='_blank' style='text-decoration:none'>Mi stund i fjellheimen, Elvesæter, Åmund, 2000</a>\n",
       "                </td>\n",
       "                <td>Ole sleppe unna domedagspreika i</td>\n",
       "                <td>gravferda</td>\n",
       "                <td style='text-align:left'>. Det var synd på</td>\n",
       "            </tr>\n",
       "<tr>\n",
       "                <td>\n",
       "                    <a href='http://www.nb.no/items/URN:NBN:no-nb_digibok_2008021201009?searchText=gravferda' target='_blank' style='text-decoration:none'>tyske utfordringa, Nedrebø, Tore, 1995</a>\n",
       "                </td>\n",
       "                <td>han ikkje stilte opp under</td>\n",
       "                <td>gravferda</td>\n",
       "                <td style='text-align:left'>til fem tyrkiske kvinner og</td>\n",
       "            </tr>\n",
       "<tr>\n",
       "                <td>\n",
       "                    <a href='http://www.nb.no/items/URN:NBN:no-nb_digibok_2011111108069?searchText=gravferda' target='_blank' style='text-decoration:none'>Hemsedal 1814-1914, Flaten, Hans, 1951</a>\n",
       "                </td>\n",
       "                <td>sin fyrste kopp kaffi i</td>\n",
       "                <td>gravferda</td>\n",
       "                <td style='text-align:left'>etter Kari L. Jordheim 1853.</td>\n",
       "            </tr>\n",
       "<tr>\n",
       "                <td>\n",
       "                    <a href='http://www.nb.no/items/URN:NBN:no-nb_digibok_2011111108069?searchText=gravferda' target='_blank' style='text-decoration:none'>Hemsedal 1814-1914, Flaten, Hans, 1951</a>\n",
       "                </td>\n",
       "                <td>noko om det . I</td>\n",
       "                <td>gravferda</td>\n",
       "                <td style='text-align:left'>til ei hemsedalskone i 1900</td>\n",
       "            </tr>\n",
       "<tr>\n",
       "                <td>\n",
       "                    <a href='http://www.nb.no/items/URN:NBN:no-nb_digibok_2013050307070?searchText=gravferda' target='_blank' style='text-decoration:none'>Bergkunst, Mandt, Gro, 2005</a>\n",
       "                </td>\n",
       "                <td>bygdene ikkje var uvanleg at</td>\n",
       "                <td>gravferda</td>\n",
       "                <td style='text-align:left'>skjedde fleire månader etter dødsfallet</td>\n",
       "            </tr>\n",
       "</table>"
      ],
      "text/plain": [
       "<IPython.core.display.HTML object>"
      ]
     },
     "execution_count": 35,
     "metadata": {},
     "output_type": "execute_result"
    }
   ],
   "source": [
    "%%time\n",
    "refine_konk('gravferda', nynorsk) # flere kjøringer gir forskjellige resultat - i og med at det samples"
   ]
  }
 ],
 "metadata": {
  "kernelspec": {
   "display_name": "Python 3",
   "language": "python",
   "name": "python3"
  },
  "language_info": {
   "codemirror_mode": {
    "name": "ipython",
    "version": 3
   },
   "file_extension": ".py",
   "mimetype": "text/x-python",
   "name": "python",
   "nbconvert_exporter": "python",
   "pygments_lexer": "ipython3",
   "version": "3.6.10"
  }
 },
 "nbformat": 4,
 "nbformat_minor": 4
}

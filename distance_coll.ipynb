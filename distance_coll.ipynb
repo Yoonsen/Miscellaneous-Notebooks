{
 "cells": [
  {
   "cell_type": "code",
   "execution_count": 1,
   "metadata": {},
   "outputs": [],
   "source": [
    "import dhlab.nbtext as nb\n",
    "import requests\n",
    "import numpy as np"
   ]
  },
  {
   "cell_type": "code",
   "execution_count": 2,
   "metadata": {},
   "outputs": [],
   "source": [
    "def collocation(\n",
    "    word, \n",
    "    yearfrom=2010, \n",
    "    yearto=2018, \n",
    "    before=3, \n",
    "    after=3, \n",
    "    limit=1000, \n",
    "    corpus='avis',\n",
    "    lang='nob',\n",
    "    title='%',\n",
    "    ddk='%', \n",
    "    subtitle='%'):\n",
    "    \"\"\"Defined collects frequencies for a given word\"\"\"\n",
    "    \n",
    "    data =  requests.get(\n",
    "        \"https://api.nb.no/ngram/collocation\", \n",
    "        params={\n",
    "            'word':word,\n",
    "            'corpus':corpus, \n",
    "            'yearfrom':yearfrom, \n",
    "            'before':before,\n",
    "            'after':after,\n",
    "            'limit':limit,\n",
    "            'yearto':yearto,\n",
    "        'title':title,\n",
    "        'ddk':ddk,\n",
    "        'subtitle':subtitle}).json()\n",
    "    return data"
   ]
  },
  {
   "cell_type": "code",
   "execution_count": 4,
   "metadata": {},
   "outputs": [
    {
     "ename": "JSONDecodeError",
     "evalue": "Expecting value: line 1 column 1 (char 0)",
     "output_type": "error",
     "traceback": [
      "\u001b[1;31m---------------------------------------------------------------------------\u001b[0m",
      "\u001b[1;31mJSONDecodeError\u001b[0m                           Traceback (most recent call last)",
      "\u001b[1;32m<ipython-input-4-74dfb2ffda7d>\u001b[0m in \u001b[0;36m<module>\u001b[1;34m\u001b[0m\n\u001b[1;32m----> 1\u001b[1;33m coll = nb.frame_sort(nb.frame(collocation('kolera', title='%krig%', yearfrom=2000, yearto=\n\u001b[0m\u001b[0;32m      2\u001b[0m                2005, corpus='bok', before=0, after=15)).transpose())\n",
      "\u001b[1;32m<ipython-input-2-3d6a9fe38a88>\u001b[0m in \u001b[0;36mcollocation\u001b[1;34m(word, yearfrom, yearto, before, after, limit, corpus, lang, title, ddk, subtitle)\u001b[0m\n\u001b[0;32m     13\u001b[0m     \u001b[1;34m\"\"\"Defined collects frequencies for a given word\"\"\"\u001b[0m\u001b[1;33m\u001b[0m\u001b[1;33m\u001b[0m\u001b[0m\n\u001b[0;32m     14\u001b[0m \u001b[1;33m\u001b[0m\u001b[0m\n\u001b[1;32m---> 15\u001b[1;33m     data =  requests.get(\n\u001b[0m\u001b[0;32m     16\u001b[0m         \u001b[1;34m\"https://api.nb.no/ngram/collocation\"\u001b[0m\u001b[1;33m,\u001b[0m\u001b[1;33m\u001b[0m\u001b[1;33m\u001b[0m\u001b[0m\n\u001b[0;32m     17\u001b[0m         params={\n",
      "\u001b[1;32m~\\Anaconda3\\lib\\site-packages\\requests\\models.py\u001b[0m in \u001b[0;36mjson\u001b[1;34m(self, **kwargs)\u001b[0m\n\u001b[0;32m    896\u001b[0m                     \u001b[1;31m# used.\u001b[0m\u001b[1;33m\u001b[0m\u001b[1;33m\u001b[0m\u001b[1;33m\u001b[0m\u001b[0m\n\u001b[0;32m    897\u001b[0m                     \u001b[1;32mpass\u001b[0m\u001b[1;33m\u001b[0m\u001b[1;33m\u001b[0m\u001b[0m\n\u001b[1;32m--> 898\u001b[1;33m         \u001b[1;32mreturn\u001b[0m \u001b[0mcomplexjson\u001b[0m\u001b[1;33m.\u001b[0m\u001b[0mloads\u001b[0m\u001b[1;33m(\u001b[0m\u001b[0mself\u001b[0m\u001b[1;33m.\u001b[0m\u001b[0mtext\u001b[0m\u001b[1;33m,\u001b[0m \u001b[1;33m**\u001b[0m\u001b[0mkwargs\u001b[0m\u001b[1;33m)\u001b[0m\u001b[1;33m\u001b[0m\u001b[1;33m\u001b[0m\u001b[0m\n\u001b[0m\u001b[0;32m    899\u001b[0m \u001b[1;33m\u001b[0m\u001b[0m\n\u001b[0;32m    900\u001b[0m     \u001b[1;33m@\u001b[0m\u001b[0mproperty\u001b[0m\u001b[1;33m\u001b[0m\u001b[1;33m\u001b[0m\u001b[0m\n",
      "\u001b[1;32m~\\Anaconda3\\lib\\json\\__init__.py\u001b[0m in \u001b[0;36mloads\u001b[1;34m(s, cls, object_hook, parse_float, parse_int, parse_constant, object_pairs_hook, **kw)\u001b[0m\n\u001b[0;32m    355\u001b[0m             \u001b[0mparse_int\u001b[0m \u001b[1;32mis\u001b[0m \u001b[1;32mNone\u001b[0m \u001b[1;32mand\u001b[0m \u001b[0mparse_float\u001b[0m \u001b[1;32mis\u001b[0m \u001b[1;32mNone\u001b[0m \u001b[1;32mand\u001b[0m\u001b[1;33m\u001b[0m\u001b[1;33m\u001b[0m\u001b[0m\n\u001b[0;32m    356\u001b[0m             parse_constant is None and object_pairs_hook is None and not kw):\n\u001b[1;32m--> 357\u001b[1;33m         \u001b[1;32mreturn\u001b[0m \u001b[0m_default_decoder\u001b[0m\u001b[1;33m.\u001b[0m\u001b[0mdecode\u001b[0m\u001b[1;33m(\u001b[0m\u001b[0ms\u001b[0m\u001b[1;33m)\u001b[0m\u001b[1;33m\u001b[0m\u001b[1;33m\u001b[0m\u001b[0m\n\u001b[0m\u001b[0;32m    358\u001b[0m     \u001b[1;32mif\u001b[0m \u001b[0mcls\u001b[0m \u001b[1;32mis\u001b[0m \u001b[1;32mNone\u001b[0m\u001b[1;33m:\u001b[0m\u001b[1;33m\u001b[0m\u001b[1;33m\u001b[0m\u001b[0m\n\u001b[0;32m    359\u001b[0m         \u001b[0mcls\u001b[0m \u001b[1;33m=\u001b[0m \u001b[0mJSONDecoder\u001b[0m\u001b[1;33m\u001b[0m\u001b[1;33m\u001b[0m\u001b[0m\n",
      "\u001b[1;32m~\\Anaconda3\\lib\\json\\decoder.py\u001b[0m in \u001b[0;36mdecode\u001b[1;34m(self, s, _w)\u001b[0m\n\u001b[0;32m    335\u001b[0m \u001b[1;33m\u001b[0m\u001b[0m\n\u001b[0;32m    336\u001b[0m         \"\"\"\n\u001b[1;32m--> 337\u001b[1;33m         \u001b[0mobj\u001b[0m\u001b[1;33m,\u001b[0m \u001b[0mend\u001b[0m \u001b[1;33m=\u001b[0m \u001b[0mself\u001b[0m\u001b[1;33m.\u001b[0m\u001b[0mraw_decode\u001b[0m\u001b[1;33m(\u001b[0m\u001b[0ms\u001b[0m\u001b[1;33m,\u001b[0m \u001b[0midx\u001b[0m\u001b[1;33m=\u001b[0m\u001b[0m_w\u001b[0m\u001b[1;33m(\u001b[0m\u001b[0ms\u001b[0m\u001b[1;33m,\u001b[0m \u001b[1;36m0\u001b[0m\u001b[1;33m)\u001b[0m\u001b[1;33m.\u001b[0m\u001b[0mend\u001b[0m\u001b[1;33m(\u001b[0m\u001b[1;33m)\u001b[0m\u001b[1;33m)\u001b[0m\u001b[1;33m\u001b[0m\u001b[1;33m\u001b[0m\u001b[0m\n\u001b[0m\u001b[0;32m    338\u001b[0m         \u001b[0mend\u001b[0m \u001b[1;33m=\u001b[0m \u001b[0m_w\u001b[0m\u001b[1;33m(\u001b[0m\u001b[0ms\u001b[0m\u001b[1;33m,\u001b[0m \u001b[0mend\u001b[0m\u001b[1;33m)\u001b[0m\u001b[1;33m.\u001b[0m\u001b[0mend\u001b[0m\u001b[1;33m(\u001b[0m\u001b[1;33m)\u001b[0m\u001b[1;33m\u001b[0m\u001b[1;33m\u001b[0m\u001b[0m\n\u001b[0;32m    339\u001b[0m         \u001b[1;32mif\u001b[0m \u001b[0mend\u001b[0m \u001b[1;33m!=\u001b[0m \u001b[0mlen\u001b[0m\u001b[1;33m(\u001b[0m\u001b[0ms\u001b[0m\u001b[1;33m)\u001b[0m\u001b[1;33m:\u001b[0m\u001b[1;33m\u001b[0m\u001b[1;33m\u001b[0m\u001b[0m\n",
      "\u001b[1;32m~\\Anaconda3\\lib\\json\\decoder.py\u001b[0m in \u001b[0;36mraw_decode\u001b[1;34m(self, s, idx)\u001b[0m\n\u001b[0;32m    353\u001b[0m             \u001b[0mobj\u001b[0m\u001b[1;33m,\u001b[0m \u001b[0mend\u001b[0m \u001b[1;33m=\u001b[0m \u001b[0mself\u001b[0m\u001b[1;33m.\u001b[0m\u001b[0mscan_once\u001b[0m\u001b[1;33m(\u001b[0m\u001b[0ms\u001b[0m\u001b[1;33m,\u001b[0m \u001b[0midx\u001b[0m\u001b[1;33m)\u001b[0m\u001b[1;33m\u001b[0m\u001b[1;33m\u001b[0m\u001b[0m\n\u001b[0;32m    354\u001b[0m         \u001b[1;32mexcept\u001b[0m \u001b[0mStopIteration\u001b[0m \u001b[1;32mas\u001b[0m \u001b[0merr\u001b[0m\u001b[1;33m:\u001b[0m\u001b[1;33m\u001b[0m\u001b[1;33m\u001b[0m\u001b[0m\n\u001b[1;32m--> 355\u001b[1;33m             \u001b[1;32mraise\u001b[0m \u001b[0mJSONDecodeError\u001b[0m\u001b[1;33m(\u001b[0m\u001b[1;34m\"Expecting value\"\u001b[0m\u001b[1;33m,\u001b[0m \u001b[0ms\u001b[0m\u001b[1;33m,\u001b[0m \u001b[0merr\u001b[0m\u001b[1;33m.\u001b[0m\u001b[0mvalue\u001b[0m\u001b[1;33m)\u001b[0m \u001b[1;32mfrom\u001b[0m \u001b[1;32mNone\u001b[0m\u001b[1;33m\u001b[0m\u001b[1;33m\u001b[0m\u001b[0m\n\u001b[0m\u001b[0;32m    356\u001b[0m         \u001b[1;32mreturn\u001b[0m \u001b[0mobj\u001b[0m\u001b[1;33m,\u001b[0m \u001b[0mend\u001b[0m\u001b[1;33m\u001b[0m\u001b[1;33m\u001b[0m\u001b[0m\n",
      "\u001b[1;31mJSONDecodeError\u001b[0m: Expecting value: line 1 column 1 (char 0)"
     ]
    }
   ],
   "source": [
    "coll = nb.frame_sort(nb.frame(collocation('kolera', title='%krig%', yearfrom=2000, yearto=\n",
    "               2005, corpus='bok', before=0, after=15)).transpose())"
   ]
  },
  {
   "cell_type": "code",
   "execution_count": 5,
   "metadata": {},
   "outputs": [],
   "source": [
    "colla = nb.frame_sort(nb.frame(\n",
    "    collocation('demokrati',  yearfrom = 2000, yearto = 2005, corpus='avis', before=0, after=5)).transpose())"
   ]
  },
  {
   "cell_type": "code",
   "execution_count": 6,
   "metadata": {},
   "outputs": [
    {
     "data": {
      "text/html": [
       "<table><tr><td><a href='https://www.nb.no/items/URN:NBN:no-nb_digavis_jaerbladet_null_null_20000223_52_23_1?searchText=demokrati' target='_'>jaerbladet-20000223</a></td><td>None</td><td>demokrati</td><td style='text-align:left'>når vallokalet er stengt fordi</td></tr>\n",
       "<tr><td><a href='https://www.nb.no/items/URN:NBN:no-nb_digavis_jaerbladet_null_null_20000223_52_23_1?searchText=demokrati' target='_'>jaerbladet-20000223</a></td><td>None</td><td>demokrati</td><td style='text-align:left'>nar vallokalet er stengt fordi</td></tr>\n",
       "<tr><td><a href='https://www.nb.no/items/URN:NBN:no-nb_digavis_jaerbladet_null_null_20000225_52_24_1?searchText=demokrati' target='_'>jaerbladet-20000225</a></td><td>None</td><td>demokrati</td><td style='text-align:left'>og utestenging av annerledes tenkende</td></tr>\n",
       "<tr><td><a href='https://www.nb.no/items/URN:NBN:no-nb_digavis_jaerbladet_null_null_20000225_52_24_1?searchText=demokrati' target='_'>jaerbladet-20000225</a></td><td>None</td><td>demokrati</td><td style='text-align:left'>. Eg har undra meg</td></tr>\n",
       "<tr><td><a href='https://www.nb.no/items/URN:NBN:no-nb_digavis_jaerbladet_null_null_20000322_52_35_1?searchText=demokrati' target='_'>jaerbladet-20000322</a></td><td>None</td><td>demokrati</td><td style='text-align:left'>er det viktig at folk</td></tr>\n",
       "<tr><td><a href='https://www.nb.no/items/URN:NBN:no-nb_digavis_hamararbeiderblad_null_null_20040209_80_33_1?searchText=demokrati' target='_'>hamararbeiderblad-20040209</a></td><td>None</td><td>demokrati</td><td style='text-align:left'>? » om hvordan det</td></tr>\n",
       "<tr><td><a href='https://www.nb.no/items/URN:NBN:no-nb_digavis_hamararbeiderblad_null_null_20040731_80_174_1?searchText=demokrati' target='_'>hamararbeiderblad-20040731</a></td><td>None</td><td>demokrati</td><td style='text-align:left'>, ler Lvgre . Stjåletbil</td></tr>\n",
       "<tr><td><a href='https://www.nb.no/items/URN:NBN:no-nb_digavis_hamararbeiderblad_null_null_20041119_80_269_1?searchText=demokrati' target='_'>hamararbeiderblad-20041119</a></td><td>None</td><td>demokrati</td><td style='text-align:left'>? Hvorfor skulle ikke slike</td></tr>\n",
       "<tr><td><a href='https://www.nb.no/items/URN:NBN:no-nb_digavis_haugesundsavis_null_null_20031004_109_229_1?searchText=demokrati' target='_'>haugesundsavis-20031004</a></td><td>None</td><td>demokrati</td><td style='text-align:left'>. Mange velgere har sagt</td></tr>\n",
       "<tr><td><a href='https://www.nb.no/items/URN:NBN:no-nb_digavis_haugesundsavis_null_null_20031007_109_231_1?searchText=demokrati' target='_'>haugesundsavis-20031007</a></td><td>None</td><td>demokrati</td><td style='text-align:left'>neste år , melder NRK</td></tr>\n",
       "<tr><td><a href='https://www.nb.no/items/URN:NBN:no-nb_digavis_haugesundsavis_null_null_20000302_105_52_1?searchText=demokrati' target='_'>haugesundsavis-20000302</a></td><td>None</td><td>demokrati</td><td style='text-align:left'>og unndertrykkelsen av menneskerettigheter »</td></tr>\n",
       "<tr><td><a href='https://www.nb.no/items/URN:NBN:no-nb_digavis_haugesundsavis_null_null_20000306_105_55_1?searchText=demokrati' target='_'>haugesundsavis-20000306</a></td><td>None</td><td>demokrati</td><td style='text-align:left'>og rettferdighet i dette landet</td></tr>\n",
       "<tr><td><a href='https://www.nb.no/items/URN:NBN:no-nb_digavis_haugesundsavis_null_null_20000308_105_57_1?searchText=demokrati' target='_'>haugesundsavis-20000308</a></td><td>None</td><td>demokrati</td><td style='text-align:left'>» hører hjemme , sammen</td></tr>\n",
       "<tr><td><a href='https://www.nb.no/items/URN:NBN:no-nb_digavis_haugesundsavis_null_null_20000308_105_57_1?searchText=demokrati' target='_'>haugesundsavis-20000308</a></td><td>None</td><td>demokrati</td><td style='text-align:left'>det samme som å fritt</td></tr>\n",
       "<tr><td><a href='https://www.nb.no/items/URN:NBN:no-nb_digavis_haugesundsavis_null_null_20000317_105_65_1?searchText=demokrati' target='_'>haugesundsavis-20000317</a></td><td>None</td><td>demokrati</td><td style='text-align:left'>, er et spørsmål han</td></tr>\n",
       "<tr><td><a href='https://www.nb.no/items/URN:NBN:no-nb_digavis_dagogtid_null_null_20020119_41_3_1?searchText=demokrati' target='_'>dagogtid-20020119</a></td><td>None</td><td>demokrati</td><td style='text-align:left'>, det er ein konfrontasjon</td></tr>\n",
       "<tr><td><a href='https://www.nb.no/items/URN:NBN:no-nb_digavis_dagogtid_null_null_20020126_41_4_1?searchText=demokrati' target='_'>dagogtid-20020126</a></td><td>None</td><td>demokrati</td><td style='text-align:left'>frå 1990 til 1992. Dette</td></tr>\n",
       "<tr><td><a href='https://www.nb.no/items/URN:NBN:no-nb_digavis_dagogtid_null_null_20020202_41_5_1?searchText=demokrati' target='_'>dagogtid-20020202</a></td><td>None</td><td>demokrati</td><td style='text-align:left'>inneber at dei store sosiale</td></tr>\n",
       "<tr><td><a href='https://www.nb.no/items/URN:NBN:no-nb_digavis_dagogtid_null_null_20020209_41_6_1?searchText=demokrati' target='_'>dagogtid-20020209</a></td><td>None</td><td>demokrati</td><td style='text-align:left'>. - Trugar konflikten mellom</td></tr>\n",
       "<tr><td><a href='https://www.nb.no/items/URN:NBN:no-nb_digavis_dagogtid_null_null_20020209_41_6_1?searchText=demokrati' target='_'>dagogtid-20020209</a></td><td>None</td><td>demokrati</td><td style='text-align:left'>og mangfald . For første</td></tr>\n",
       "<tr><td><a href='https://www.nb.no/items/URN:NBN:no-nb_digavis_dagensnaeringsliv_null_null_20000311_111_60_1?searchText=demokrati' target='_'>dagensnaeringsliv-20000311</a></td><td>None</td><td>demokrati</td><td style='text-align:left'>er en stat der frie</td></tr>\n",
       "<tr><td><a href='https://www.nb.no/items/URN:NBN:no-nb_digavis_dagensnaeringsliv_null_null_20000311_111_60_1?searchText=demokrati' target='_'>dagensnaeringsliv-20000311</a></td><td>None</td><td>demokrati</td><td style='text-align:left'>, sukket en journalist på</td></tr>\n",
       "<tr><td><a href='https://www.nb.no/items/URN:NBN:no-nb_digavis_dagensnaeringsliv_null_null_20000314_111_62_1?searchText=demokrati' target='_'>dagensnaeringsliv-20000314</a></td><td>None</td><td>demokrati</td><td style='text-align:left'>» stadig er fv-ord i</td></tr>\n",
       "<tr><td><a href='https://www.nb.no/items/URN:NBN:no-nb_digavis_dagensnaeringsliv_null_null_20000327_111_73_1?searchText=demokrati' target='_'>dagensnaeringsliv-20000327</a></td><td>None</td><td>demokrati</td><td style='text-align:left'>i Russland . Av TROND</td></tr>\n",
       "<tr><td><a href='https://www.nb.no/items/URN:NBN:no-nb_digavis_dagensnaeringsliv_null_null_20000328_111_74_1?searchText=demokrati' target='_'>dagensnaeringsliv-20000328</a></td><td>None</td><td>demokrati</td><td style='text-align:left'>og menneskcrettigheter er stor overfor</td></tr>\n",
       "<tr><td><a href='https://www.nb.no/items/URN:NBN:no-nb_digavis_stavangeraftenblad_null_null_20010102_109_1_1?searchText=demokrati' target='_'>stavangeraftenblad-20010102</a></td><td>None</td><td>demokrati</td><td style='text-align:left'>og kraften i den lokale</td></tr>\n",
       "<tr><td><a href='https://www.nb.no/items/URN:NBN:no-nb_digavis_stavangeraftenblad_null_null_20010111_109_9_1?searchText=demokrati' target='_'>stavangeraftenblad-20010111</a></td><td>None</td><td>demokrati</td><td style='text-align:left'>lite til ære at de</td></tr>\n",
       "<tr><td><a href='https://www.nb.no/items/URN:NBN:no-nb_digavis_stavangeraftenblad_null_null_20010111_109_9_1?searchText=demokrati' target='_'>stavangeraftenblad-20010111</a></td><td>None</td><td>demokrati</td><td style='text-align:left'>, sosial stabilitet og rettferdig</td></tr>\n",
       "<tr><td><a href='https://www.nb.no/items/URN:NBN:no-nb_digavis_stavangeraftenblad_null_null_20010111_109_9_1?searchText=demokrati' target='_'>stavangeraftenblad-20010111</a></td><td>None</td><td>demokrati</td><td style='text-align:left'>der kvinner og menn har</td></tr>\n",
       "<tr><td><a href='https://www.nb.no/items/URN:NBN:no-nb_digavis_stavangeraftenblad_null_null_20010118_109_15_1?searchText=demokrati' target='_'>stavangeraftenblad-20010118</a></td><td>None</td><td>demokrati</td><td style='text-align:left'>og åpenhet i nominasjonsprosessen .</td></tr>\n",
       "<tr><td><a href='https://www.nb.no/items/URN:NBN:no-nb_digavis_ranablad_null_null_20000323_99_70_1?searchText=demokrati' target='_'>ranablad-20000323</a></td><td>None</td><td>demokrati</td><td style='text-align:left'>å styre et folks ulike</td></tr>\n",
       "<tr><td><a href='https://www.nb.no/items/URN:NBN:no-nb_digavis_ranablad_null_null_20000324_99_71_1?searchText=demokrati' target='_'>ranablad-20000324</a></td><td>None</td><td>demokrati</td><td style='text-align:left'>er det viktig at folk</td></tr>\n",
       "<tr><td><a href='https://www.nb.no/items/URN:NBN:no-nb_digavis_ranablad_null_null_20000414_99_89_1?searchText=demokrati' target='_'>ranablad-20000414</a></td><td>None</td><td>demokrati</td><td style='text-align:left'>. Hvor er solidariteten fra</td></tr>\n",
       "<tr><td><a href='https://www.nb.no/items/URN:NBN:no-nb_digavis_ranablad_null_null_20000414_99_89_1?searchText=demokrati' target='_'>ranablad-20000414</a></td><td>None</td><td>demokrati</td><td style='text-align:left'>og utvikling • prosessorientert planlegging</td></tr>\n",
       "<tr><td><a href='https://www.nb.no/items/URN:NBN:no-nb_digavis_ranablad_null_null_20000427_99_96_1?searchText=demokrati' target='_'>ranablad-20000427</a></td><td>None</td><td>demokrati</td><td style='text-align:left'>Bruk av datateknologi er i</td></tr>\n",
       "<tr><td><a href='https://www.nb.no/items/URN:NBN:no-nb_digavis_askerogbaerumsbudstikke_null_null_20010122_103_18_1?searchText=demokrati' target='_'>askerogbaerumsbudstikke-20010122</a></td><td>None</td><td>demokrati</td><td style='text-align:left'>, onsket mange mest mulig</td></tr>\n",
       "<tr><td><a href='https://www.nb.no/items/URN:NBN:no-nb_digavis_askerogbaerumsbudstikke_null_null_20010130_103_25_1?searchText=demokrati' target='_'>askerogbaerumsbudstikke-20010130</a></td><td>None</td><td>demokrati</td><td style='text-align:left'>. » Solidariteten er demokrati</td></tr>\n",
       "<tr><td><a href='https://www.nb.no/items/URN:NBN:no-nb_digavis_askerogbaerumsbudstikke_null_null_20010130_103_25_1?searchText=demokrati' target='_'>askerogbaerumsbudstikke-20010130</a></td><td>None</td><td>demokrati</td><td style='text-align:left'>ets toiutsetning , ogden er</td></tr>\n",
       "<tr><td><a href='https://www.nb.no/items/URN:NBN:no-nb_digavis_askerogbaerumsbudstikke_null_null_20010130_103_25_1?searchText=demokrati' target='_'>askerogbaerumsbudstikke-20010130</a></td><td>None</td><td>demokrati</td><td style='text-align:left'>, intet mindre , sa</td></tr>\n",
       "<tr><td><a href='https://www.nb.no/items/URN:NBN:no-nb_digavis_askerogbaerumsbudstikke_null_null_20010207_103_32_1?searchText=demokrati' target='_'>askerogbaerumsbudstikke-20010207</a></td><td>None</td><td>demokrati</td><td style='text-align:left'>. Din produksjon er til</td></tr>\n",
       "<tr><td><a href='https://www.nb.no/items/URN:NBN:no-nb_digavis_aftenposten_null_null_20040204_145_58_2?searchText=demokrati' target='_'>aftenposten-20040204</a></td><td>None</td><td>demokrati</td><td style='text-align:left'>. Det er vanskelig å</td></tr>\n",
       "<tr><td><a href='https://www.nb.no/items/URN:NBN:no-nb_digavis_aftenposten_null_null_20040205_145_59_1?searchText=demokrati' target='_'>aftenposten-20040205</a></td><td>None</td><td>demokrati</td><td style='text-align:left'>og menneskerettigheter , er man</td></tr>\n",
       "<tr><td><a href='https://www.nb.no/items/URN:NBN:no-nb_digavis_aftenposten_null_null_20040205_145_59_1?searchText=demokrati' target='_'>aftenposten-20040205</a></td><td>None</td><td>demokrati</td><td style='text-align:left'>, og de vil være</td></tr>\n",
       "<tr><td><a href='https://www.nb.no/items/URN:NBN:no-nb_digavis_aftenposten_null_null_20040205_145_59_1?searchText=demokrati' target='_'>aftenposten-20040205</a></td><td>None</td><td>demokrati</td><td style='text-align:left'>og sivile institusjoner . Men</td></tr>\n",
       "<tr><td><a href='https://www.nb.no/items/URN:NBN:no-nb_digavis_aftenposten_null_null_20040205_145_59_1?searchText=demokrati' target='_'>aftenposten-20040205</a></td><td>None</td><td>demokrati</td><td style='text-align:left'>i Irak . Vi trenger</td></tr>\n",
       "<tr><td><a href='https://www.nb.no/items/URN:NBN:no-nb_digavis_nordlys_null_null_20030103_102_2_1?searchText=demokrati' target='_'>nordlys-20030103</a></td><td>None</td><td>demokrati</td><td style='text-align:left'>. Men hvilken merittliste har</td></tr>\n",
       "<tr><td><a href='https://www.nb.no/items/URN:NBN:no-nb_digavis_nordlys_null_null_20030103_102_2_1?searchText=demokrati' target='_'>nordlys-20030103</a></td><td>None</td><td>demokrati</td><td style='text-align:left'>i fiskerinæringen . Lokale og</td></tr>\n",
       "<tr><td><a href='https://www.nb.no/items/URN:NBN:no-nb_digavis_nordlys_null_null_20030102_102_1_1?searchText=demokrati' target='_'>nordlys-20030102</a></td><td>None</td><td>demokrati</td><td style='text-align:left'>er å kunne ytre nlike</td></tr>\n",
       "<tr><td><a href='https://www.nb.no/items/URN:NBN:no-nb_digavis_nordlys_null_null_20030104_102_3_1?searchText=demokrati' target='_'>nordlys-20030104</a></td><td>None</td><td>demokrati</td><td style='text-align:left'>og politikk når EØS-avtalen kommer</td></tr>\n",
       "<tr><td><a href='https://www.nb.no/items/URN:NBN:no-nb_digavis_nordlys_null_null_20030106_102_4_1?searchText=demokrati' target='_'>nordlys-20030106</a></td><td>None</td><td>demokrati</td><td style='text-align:left'>og politikk må komme rr.er</td></tr>\n",
       "<tr><td><a href='https://www.nb.no/items/URN:NBN:no-nb_digavis_nordlys_null_null_20050818_104_190_1?searchText=demokrati' target='_'>nordlys-20050818</a></td><td>None</td><td>demokrati</td><td style='text-align:left'>og store nye markeder skriker</td></tr>\n",
       "<tr><td><a href='https://www.nb.no/items/URN:NBN:no-nb_digavis_nordlys_null_null_20050824_104_195_1?searchText=demokrati' target='_'>nordlys-20050824</a></td><td>None</td><td>demokrati</td><td style='text-align:left'>er helt overlegent det amerikanske</td></tr>\n",
       "<tr><td><a href='https://www.nb.no/items/URN:NBN:no-nb_digavis_nordlys_null_null_20050826_104_197_1?searchText=demokrati' target='_'>nordlys-20050826</a></td><td>None</td><td>demokrati</td><td style='text-align:left'>tar tid ! Det må</td></tr>\n",
       "<tr><td><a href='https://www.nb.no/items/URN:NBN:no-nb_digavis_nordlys_null_null_20050826_104_197_1?searchText=demokrati' target='_'>nordlys-20050826</a></td><td>None</td><td>demokrati</td><td style='text-align:left'>og med en hersketeknikk på</td></tr>\n",
       "<tr><td><a href='https://www.nb.no/items/URN:NBN:no-nb_digavis_nordlys_null_null_20050822_104_193_1?searchText=demokrati' target='_'>nordlys-20050822</a></td><td>None</td><td>demokrati</td><td style='text-align:left'>. Nedrig nivå Men når</td></tr>\n",
       "<tr><td><a href='https://www.nb.no/items/URN:NBN:no-nb_digavis_snasningen_null_null_20000906_6_33_1?searchText=demokrati' target='_'>snasningen-20000906</a></td><td>None</td><td>demokrati</td><td style='text-align:left'>, kultur og næringsliv i</td></tr>\n",
       "<tr><td><a href='https://www.nb.no/items/URN:NBN:no-nb_digavis_snasningen_null_null_20010110_8_2_1?searchText=demokrati' target='_'>snasningen-20010110</a></td><td>None</td><td>demokrati</td><td style='text-align:left'>og respekt for menneskerettigheter .</td></tr>\n",
       "<tr><td><a href='https://www.nb.no/items/URN:NBN:no-nb_digavis_snasningen_null_null_20010404_8_14_1?searchText=demokrati' target='_'>snasningen-20010404</a></td><td>None</td><td>demokrati</td><td style='text-align:left'>, avslutter 75 åringen som</td></tr>\n",
       "<tr><td><a href='https://www.nb.no/items/URN:NBN:no-nb_digavis_snasningen_null_null_20011107_8_42_1?searchText=demokrati' target='_'>snasningen-20011107</a></td><td>None</td><td>demokrati</td><td style='text-align:left'>svekket i land etter land</td></tr>\n",
       "<tr><td><a href='https://www.nb.no/items/URN:NBN:no-nb_digavis_snasningen_null_null_20011107_8_42_1?searchText=demokrati' target='_'>snasningen-20011107</a></td><td>None</td><td>demokrati</td><td style='text-align:left'>og vil styrke vanlig folk</td></tr>\n",
       "<tr><td><a href='https://www.nb.no/items/URN:NBN:no-nb_digavis_adresseavisen_null_null_20010417_235_87_1?searchText=demokrati' target='_'>adresseavisen-20010417</a></td><td>None</td><td>demokrati</td><td style='text-align:left'>for serberne og er fortsatt</td></tr>\n",
       "<tr><td><a href='https://www.nb.no/items/URN:NBN:no-nb_digavis_adresseavisen_null_null_20010417_235_87_1?searchText=demokrati' target='_'>adresseavisen-20010417</a></td><td>None</td><td>demokrati</td><td style='text-align:left'>ikke skal kunne være gjenstand</td></tr>\n",
       "<tr><td><a href='https://www.nb.no/items/URN:NBN:no-nb_digavis_adresseavisen_null_null_20010417_235_87_1?searchText=demokrati' target='_'>adresseavisen-20010417</a></td><td>None</td><td>demokrati</td><td style='text-align:left'>som vårt . I løpet</td></tr>\n",
       "<tr><td><a href='https://www.nb.no/items/URN:NBN:no-nb_digavis_adresseavisen_null_null_20010417_235_87_1?searchText=demokrati' target='_'>adresseavisen-20010417</a></td><td>None</td><td>demokrati</td><td style='text-align:left'>ikke skal kunne være gjenstand</td></tr>\n",
       "<tr><td><a href='https://www.nb.no/items/URN:NBN:no-nb_digavis_adresseavisen_null_null_20010417_235_87_1?searchText=demokrati' target='_'>adresseavisen-20010417</a></td><td>None</td><td>demokrati</td><td style='text-align:left'>i Sør-Afrika . Trafalgar Square</td></tr>\n",
       "<tr><td><a href='https://www.nb.no/items/URN:NBN:no-nb_digavis_nordlandsframtid_null_null_20000302_91_52_1?searchText=demokrati' target='_'>nordlandsframtid-20000302</a></td><td>None</td><td>demokrati</td><td style='text-align:left'>, og de støtter nå</td></tr>\n",
       "<tr><td><a href='https://www.nb.no/items/URN:NBN:no-nb_digavis_nordlandsframtid_null_null_20000308_91_57_1?searchText=demokrati' target='_'>nordlandsframtid-20000308</a></td><td>None</td><td>demokrati</td><td style='text-align:left'>» . Boka oppsummerer et</td></tr>\n",
       "<tr><td><a href='https://www.nb.no/items/URN:NBN:no-nb_digavis_nordlandsframtid_null_null_20000315_91_63_1?searchText=demokrati' target='_'>nordlandsframtid-20000315</a></td><td>None</td><td>demokrati</td><td style='text-align:left'>i praksis . Pressen er</td></tr>\n",
       "<tr><td><a href='https://www.nb.no/items/URN:NBN:no-nb_digavis_nordlandsframtid_null_null_20000322_91_69_1?searchText=demokrati' target='_'>nordlandsframtid-20000322</a></td><td>None</td><td>demokrati</td><td style='text-align:left'>er det viktig at folk</td></tr>\n",
       "<tr><td><a href='https://www.nb.no/items/URN:NBN:no-nb_digavis_nordlandsframtid_null_null_20000403_91_79_1?searchText=demokrati' target='_'>nordlandsframtid-20000403</a></td><td>None</td><td>demokrati</td><td style='text-align:left'>for å straffe noen få</td></tr>\n",
       "<tr><td><a href='https://www.nb.no/items/URN:NBN:no-nb_digavis_helgelandarbeiderblad_null_null_20000313_71_61_1?searchText=demokrati' target='_'>helgelandarbeiderblad-20000313</a></td><td>None</td><td>demokrati</td><td style='text-align:left'>å forholde oss til Hinar</td></tr>\n",
       "<tr><td><a href='https://www.nb.no/items/URN:NBN:no-nb_digavis_helgelandarbeiderblad_null_null_20000315_71_63_1?searchText=demokrati' target='_'>helgelandarbeiderblad-20000315</a></td><td>None</td><td>demokrati</td><td style='text-align:left'>og parlamentarisme i praksis .</td></tr>\n",
       "<tr><td><a href='https://www.nb.no/items/URN:NBN:no-nb_digavis_helgelandarbeiderblad_null_null_20000324_71_71_1?searchText=demokrati' target='_'>helgelandarbeiderblad-20000324</a></td><td>None</td><td>demokrati</td><td style='text-align:left'>. Er det rart folk</td></tr>\n",
       "<tr><td><a href='https://www.nb.no/items/URN:NBN:no-nb_digavis_helgelandarbeiderblad_null_null_20000327_71_73_1?searchText=demokrati' target='_'>helgelandarbeiderblad-20000327</a></td><td>None</td><td>demokrati</td><td style='text-align:left'>nå enn for noen år</td></tr>\n",
       "<tr><td><a href='https://www.nb.no/items/URN:NBN:no-nb_digavis_helgelandarbeiderblad_null_null_20000414_71_89_1?searchText=demokrati' target='_'>helgelandarbeiderblad-20000414</a></td><td>None</td><td>demokrati</td><td style='text-align:left'>og utvikling • prosessorientert planlegging</td></tr>\n",
       "<tr><td><a href='https://www.nb.no/items/URN:NBN:no-nb_digavis_stavangeraftenblad_null_null_20020502_110_99_1?searchText=demokrati' target='_'>stavangeraftenblad-20020502</a></td><td>None</td><td>demokrati</td><td style='text-align:left'>arrangerer vi politisk auksjon hvert</td></tr>\n",
       "<tr><td><a href='https://www.nb.no/items/URN:NBN:no-nb_digavis_stavangeraftenblad_null_null_20020504_110_101_1?searchText=demokrati' target='_'>stavangeraftenblad-20020504</a></td><td>None</td><td>demokrati</td><td style='text-align:left'>) fikk 60 prosent av</td></tr>\n",
       "<tr><td><a href='https://www.nb.no/items/URN:NBN:no-nb_digavis_stavangeraftenblad_null_null_20020504_110_101_1?searchText=demokrati' target='_'>stavangeraftenblad-20020504</a></td><td>None</td><td>demokrati</td><td style='text-align:left'>som Tsjekkia . I etterkrigstiden</td></tr>\n",
       "<tr><td><a href='https://www.nb.no/items/URN:NBN:no-nb_digavis_stavangeraftenblad_null_null_20020504_110_101_1?searchText=demokrati' target='_'>stavangeraftenblad-20020504</a></td><td>None</td><td>demokrati</td><td style='text-align:left'>skal gi makten legitimitet ,</td></tr>\n",
       "<tr><td><a href='https://www.nb.no/items/URN:NBN:no-nb_digavis_stavangeraftenblad_null_null_20020504_110_101_1?searchText=demokrati' target='_'>stavangeraftenblad-20020504</a></td><td>None</td><td>demokrati</td><td style='text-align:left'>helst skal befinne seg .</td></tr>\n",
       "<tr><td><a href='https://www.nb.no/items/URN:NBN:no-nb_digavis_mossavis_null_null_20000401_124_91_1?searchText=demokrati' target='_'>mossavis-20000401</a></td><td>None</td><td>demokrati</td><td style='text-align:left'>. Hun må innse at</td></tr>\n",
       "<tr><td><a href='https://www.nb.no/items/URN:NBN:no-nb_digavis_mossavis_null_null_20000404_124_94_1?searchText=demokrati' target='_'>mossavis-20000404</a></td><td>None</td><td>demokrati</td><td style='text-align:left'>. Derimot er Venstres behandling</td></tr>\n",
       "<tr><td><a href='https://www.nb.no/items/URN:NBN:no-nb_digavis_mossavis_null_null_20000415_124_105_1?searchText=demokrati' target='_'>mossavis-20000415</a></td><td>None</td><td>demokrati</td><td style='text-align:left'>hvor et bredt flertall har</td></tr>\n",
       "<tr><td><a href='https://www.nb.no/items/URN:NBN:no-nb_digavis_mossavis_null_null_20000419_124_109_1?searchText=demokrati' target='_'>mossavis-20000419</a></td><td>None</td><td>demokrati</td><td style='text-align:left'>. Vil det fungere ?</td></tr>\n",
       "<tr><td><a href='https://www.nb.no/items/URN:NBN:no-nb_digavis_mossavis_null_null_20000427_124_112_1?searchText=demokrati' target='_'>mossavis-20000427</a></td><td>None</td><td>demokrati</td><td style='text-align:left'>i kommunene Hobøl , Spydeberg</td></tr>\n",
       "<tr><td><a href='https://www.nb.no/items/URN:NBN:no-nb_digavis_klassekampen_null_null_20041023_36_246_2?searchText=demokrati' target='_'>klassekampen-20041023</a></td><td>None</td><td>demokrati</td><td style='text-align:left'>og verdiset . Bli med</td></tr>\n",
       "<tr><td><a href='https://www.nb.no/items/URN:NBN:no-nb_digavis_klassekampen_null_null_20041023_36_246_2?searchText=demokrati' target='_'>klassekampen-20041023</a></td><td>None</td><td>demokrati</td><td style='text-align:left'>, slik amerikanerne snakket om</td></tr>\n",
       "<tr><td><a href='https://www.nb.no/items/URN:NBN:no-nb_digavis_klassekampen_null_null_20041023_36_246_2?searchText=demokrati' target='_'>klassekampen-20041023</a></td><td>None</td><td>demokrati</td><td style='text-align:left'>blir innført , men at</td></tr>\n",
       "<tr><td><a href='https://www.nb.no/items/URN:NBN:no-nb_digavis_klassekampen_null_null_20041023_36_246_2?searchText=demokrati' target='_'>klassekampen-20041023</a></td><td>None</td><td>demokrati</td><td style='text-align:left'>» , « individualisme »</td></tr>\n",
       "<tr><td><a href='https://www.nb.no/items/URN:NBN:no-nb_digavis_klassekampen_null_null_20041023_36_246_2?searchText=demokrati' target='_'>klassekampen-20041023</a></td><td>None</td><td>demokrati</td><td style='text-align:left'>» den allestedsnærværende kommentator Thomas</td></tr>\n",
       "<tr><td><a href='https://www.nb.no/items/URN:NBN:no-nb_digavis_tonsbergsblad_null_null_20000617_131_131_1?searchText=demokrati' target='_'>tonsbergsblad-20000617</a></td><td>None</td><td>demokrati</td><td style='text-align:left'>. I dag : Chile</td></tr>\n",
       "<tr><td><a href='https://www.nb.no/items/URN:NBN:no-nb_digavis_tonsbergsblad_null_null_20000621_131_134_1?searchText=demokrati' target='_'>tonsbergsblad-20000621</a></td><td>None</td><td>demokrati</td><td style='text-align:left'>, samtidig som det kan</td></tr>\n",
       "<tr><td><a href='https://www.nb.no/items/URN:NBN:no-nb_digavis_tonsbergsblad_null_null_20000614_131_128_1?searchText=demokrati' target='_'>tonsbergsblad-20000614</a></td><td>None</td><td>demokrati</td><td style='text-align:left'>, så innebærer det at</td></tr>\n",
       "<tr><td><a href='https://www.nb.no/items/URN:NBN:no-nb_digavis_tonsbergsblad_null_null_20000608_131_124_1?searchText=demokrati' target='_'>tonsbergsblad-20000608</a></td><td>None</td><td>demokrati</td><td style='text-align:left'>i Norge . Alle kan</td></tr>\n",
       "<tr><td><a href='https://www.nb.no/items/URN:NBN:no-nb_digavis_tonsbergsblad_null_null_20000608_131_124_1?searchText=demokrati' target='_'>tonsbergsblad-20000608</a></td><td>None</td><td>demokrati</td><td style='text-align:left'>blir et ord med mening</td></tr>\n",
       "<tr><td><a href='https://www.nb.no/items/URN:NBN:no-nb_digavis_tronderavisa_null_null_20010219_0_42_1?searchText=demokrati' target='_'>tronderavisa-20010219</a></td><td>None</td><td>demokrati</td><td style='text-align:left'>er du tilhenger av ,</td></tr>\n",
       "<tr><td><a href='https://www.nb.no/items/URN:NBN:no-nb_digavis_tronderavisa_null_null_20010227_0_49_1?searchText=demokrati' target='_'>tronderavisa-20010227</a></td><td>None</td><td>demokrati</td><td style='text-align:left'>er , men likevel jeg</td></tr>\n",
       "<tr><td><a href='https://www.nb.no/items/URN:NBN:no-nb_digavis_tronderavisa_null_null_20010201_0_27_1?searchText=demokrati' target='_'>tronderavisa-20010201</a></td><td>None</td><td>demokrati</td><td style='text-align:left'>. I hvert fall all</td></tr>\n",
       "<tr><td><a href='https://www.nb.no/items/URN:NBN:no-nb_digavis_tronderavisa_null_null_20010106_0_5_1?searchText=demokrati' target='_'>tronderavisa-20010106</a></td><td>None</td><td>demokrati</td><td style='text-align:left'>, slik myndighetene fremstiller det</td></tr>\n",
       "<tr><td><a href='https://www.nb.no/items/URN:NBN:no-nb_digavis_tronderavisa_null_null_20010106_0_5_1?searchText=demokrati' target='_'>tronderavisa-20010106</a></td><td>None</td><td>demokrati</td><td style='text-align:left'>i Kazakhstan . Farhat og</td></tr>\n",
       "<tr><td><a href='https://www.nb.no/items/URN:NBN:no-nb_digavis_bergenstidende_null_null_20000516_133_130_1?searchText=demokrati' target='_'>bergenstidende-20000516</a></td><td>None</td><td>demokrati</td><td style='text-align:left'>før de sendes til sine</td></tr>\n",
       "<tr><td><a href='https://www.nb.no/items/URN:NBN:no-nb_digavis_bergenstidende_null_null_20000518_133_131_1?searchText=demokrati' target='_'>bergenstidende-20000518</a></td><td>None</td><td>demokrati</td><td style='text-align:left'>og politisk deltakelse . Han</td></tr>\n",
       "<tr><td><a href='https://www.nb.no/items/URN:NBN:no-nb_digavis_bergenstidende_null_null_20000518_133_131_1?searchText=demokrati' target='_'>bergenstidende-20000518</a></td><td>None</td><td>demokrati</td><td style='text-align:left'>, og noko vi for</td></tr>\n",
       "<tr><td><a href='https://www.nb.no/items/URN:NBN:no-nb_digavis_bergenstidende_null_null_20000518_133_131_1?searchText=demokrati' target='_'>bergenstidende-20000518</a></td><td>None</td><td>demokrati</td><td style='text-align:left'>. Det er i alle</td></tr>\n",
       "<tr><td><a href='https://www.nb.no/items/URN:NBN:no-nb_digavis_bergenstidende_null_null_20000521_133_134_1?searchText=demokrati' target='_'>bergenstidende-20000521</a></td><td>None</td><td>demokrati</td><td style='text-align:left'>( RCD ) , som</td></tr>\n",
       "<tr><td><a href='https://www.nb.no/items/URN:NBN:no-nb_digavis_nordlys_null_null_20040812_103_185_2?searchText=demokrati' target='_'>nordlys-20040812</a></td><td>None</td><td>demokrati</td><td style='text-align:left'>for lengst burde vært avskaffet</td></tr>\n",
       "<tr><td><a href='https://www.nb.no/items/URN:NBN:no-nb_digavis_morgenbladet_null_null_20030815_184_33_1?searchText=demokrati' target='_'>morgenbladet-20030815</a></td><td>None</td><td>demokrati</td><td style='text-align:left'>, eller en mennesketype ,</td></tr>\n",
       "<tr><td><a href='https://www.nb.no/items/URN:NBN:no-nb_digavis_morgenbladet_null_null_20030815_184_33_1?searchText=demokrati' target='_'>morgenbladet-20030815</a></td><td>None</td><td>demokrati</td><td style='text-align:left'>må gis førsteprioritet - også</td></tr>\n",
       "<tr><td><a href='https://www.nb.no/items/URN:NBN:no-nb_digavis_morgenbladet_null_null_20030815_184_33_1?searchText=demokrati' target='_'>morgenbladet-20030815</a></td><td>None</td><td>demokrati</td><td style='text-align:left'>. Det kan man sikkert</td></tr>\n",
       "<tr><td><a href='https://www.nb.no/items/URN:NBN:no-nb_digavis_morgenbladet_null_null_20030815_184_33_1?searchText=demokrati' target='_'>morgenbladet-20030815</a></td><td>None</td><td>demokrati</td><td style='text-align:left'>i landet , og lar</td></tr>\n",
       "<tr><td><a href='https://www.nb.no/items/URN:NBN:no-nb_digavis_svalbardposten_null_null_20050218_57_7_1?searchText=demokrati' target='_'>svalbardposten-20050218</a></td><td>None</td><td>demokrati</td><td style='text-align:left'>og menneskerettigheter i hjemlandet .</td></tr>\n",
       "<tr><td><a href='https://www.nb.no/items/URN:NBN:no-nb_digavis_svalbardposten_null_null_20020104_54_1_1?searchText=demokrati' target='_'>svalbardposten-20020104</a></td><td>None</td><td>demokrati</td><td style='text-align:left'>på , en symbolsk handling</td></tr>\n",
       "<tr><td><a href='https://www.nb.no/items/URN:NBN:no-nb_digavis_svalbardposten_null_null_20020111_54_2_1?searchText=demokrati' target='_'>svalbardposten-20020111</a></td><td>None</td><td>demokrati</td><td style='text-align:left'>er at velgerne , for</td></tr>\n",
       "<tr><td><a href='https://www.nb.no/items/URN:NBN:no-nb_digavis_svalbardposten_null_null_20020111_54_2_1?searchText=demokrati' target='_'>svalbardposten-20020111</a></td><td>None</td><td>demokrati</td><td style='text-align:left'>. Begge fløyer insisterer på</td></tr>\n",
       "<tr><td><a href='https://www.nb.no/items/URN:NBN:no-nb_digavis_svalbardposten_null_null_20020215_53_7_1?searchText=demokrati' target='_'>svalbardposten-20020215</a></td><td>None</td><td>demokrati</td><td style='text-align:left'>på øygruppen . Målsettingen med</td></tr>\n",
       "<tr><td><a href='https://www.nb.no/items/URN:NBN:no-nb_digavis_ruijankaiku_null_null_20000901_6_7_1?searchText=demokrati' target='_'>ruijankaiku-20000901</a></td><td>None</td><td>demokrati</td><td style='text-align:left'>har likevel alle rett til</td></tr>\n",
       "<tr><td><a href='https://www.nb.no/items/URN:NBN:no-nb_digavis_ruijankaiku_null_null_20010126_7_1_1?searchText=demokrati' target='_'>ruijankaiku-20010126</a></td><td>None</td><td>demokrati</td><td style='text-align:left'>og riktige lover ble også</td></tr>\n",
       "<tr><td><a href='https://www.nb.no/items/URN:NBN:no-nb_digavis_ruijankaiku_null_null_20020405_8_2_1?searchText=demokrati' target='_'>ruijankaiku-20020405</a></td><td>None</td><td>demokrati</td><td style='text-align:left'>ogåpenhet Muutama vuosi sitten saimme</td></tr>\n",
       "<tr><td><a href='https://www.nb.no/items/URN:NBN:no-nb_digavis_ruijankaiku_null_null_20020503_8_3_1?searchText=demokrati' target='_'>ruijankaiku-20020503</a></td><td>None</td><td>demokrati</td><td style='text-align:left'>og åpenhet \" artikkelit Norjan</td></tr>\n",
       "<tr><td><a href='https://www.nb.no/items/URN:NBN:no-nb_digavis_ruijankaiku_null_null_20020607_8_4_1?searchText=demokrati' target='_'>ruijankaiku-20020607</a></td><td>None</td><td>demokrati</td><td style='text-align:left'>og regional representasjon i menigheten</td></tr>\n",
       "<tr><td><a href='https://www.nb.no/items/URN:NBN:no-nb_digavis_budstikkaforaskerogb_null_null_20040105_106_3_1?searchText=demokrati' target='_'>budstikkaforaskerogb-20040105</a></td><td>None</td><td>demokrati</td><td style='text-align:left'>som kan kjøpes for penger</td></tr>\n",
       "<tr><td><a href='https://www.nb.no/items/URN:NBN:no-nb_digavis_budstikkaforaskerogb_null_null_20040110_106_8_1?searchText=demokrati' target='_'>budstikkaforaskerogb-20040110</a></td><td>None</td><td>demokrati</td><td style='text-align:left'>i områder som har vært</td></tr>\n",
       "<tr><td><a href='https://www.nb.no/items/URN:NBN:no-nb_digavis_budstikkaforaskerogb_null_null_20040110_106_8_1?searchText=demokrati' target='_'>budstikkaforaskerogb-20040110</a></td><td>None</td><td>demokrati</td><td style='text-align:left'>. JAN FELDBORG : Vil</td></tr>\n",
       "<tr><td><a href='https://www.nb.no/items/URN:NBN:no-nb_digavis_budstikkaforaskerogb_null_null_20040110_106_8_1?searchText=demokrati' target='_'>budstikkaforaskerogb-20040110</a></td><td>None</td><td>demokrati</td><td style='text-align:left'>, relasjonen mellom tilbyder og</td></tr>\n",
       "<tr><td><a href='https://www.nb.no/items/URN:NBN:no-nb_digavis_budstikkaforaskerogb_null_null_20040120_106_16_1?searchText=demokrati' target='_'>budstikkaforaskerogb-20040120</a></td><td>None</td><td>demokrati</td><td style='text-align:left'>? PERTYRIDAL , Asker 14</td></tr>\n",
       "</table>"
      ],
      "text/plain": [
       "<IPython.core.display.HTML object>"
      ]
     },
     "execution_count": 6,
     "metadata": {},
     "output_type": "execute_result"
    }
   ],
   "source": [
    "nb.concordance('demokrati',  yearfrom = 2000, yearto = 2005, corpus='avis', before=0, after=5)"
   ]
  },
  {
   "cell_type": "code",
   "execution_count": 176,
   "metadata": {},
   "outputs": [
    {
     "data": {
      "text/plain": [
       "dist    13.263787\n",
       "doc      1.756098\n",
       "freq     2.012195\n",
       "dtype: float64"
      ]
     },
     "execution_count": 176,
     "metadata": {},
     "output_type": "execute_result"
    }
   ],
   "source": [
    "coll.mean()"
   ]
  },
  {
   "cell_type": "code",
   "execution_count": 178,
   "metadata": {},
   "outputs": [
    {
     "data": {
      "text/plain": [
       "dist    11.0\n",
       "doc      1.0\n",
       "freq     1.0\n",
       "Name: kino, dtype: float64"
      ]
     },
     "execution_count": 178,
     "metadata": {},
     "output_type": "execute_result"
    }
   ],
   "source": [
    "coll.loc['kino']"
   ]
  },
  {
   "cell_type": "code",
   "execution_count": 180,
   "metadata": {},
   "outputs": [
    {
     "data": {
      "text/plain": [
       "kveldens        0.173287\n",
       "forestilling    0.115525\n",
       "La              0.106638\n",
       "girer           0.086643\n",
       "«               0.086643\n",
       "servitøren      0.086643\n",
       "god             0.069315\n",
       "Natasja         0.069315\n",
       "I               0.069315\n",
       "også            0.069315\n",
       "film            0.057822\n",
       "Comédie         0.057762\n",
       "Bergen          0.053319\n",
       "klasse          0.053319\n",
       "fra             0.045984\n",
       "min             0.045776\n",
       "foreslår        0.043322\n",
       "Frangaise       0.043322\n",
       "tilbake         0.034657\n",
       "jeg             0.033263\n",
       "dtype: float64"
      ]
     },
     "execution_count": 180,
     "metadata": {},
     "output_type": "execute_result"
    }
   ],
   "source": [
    "(np.log(coll['freq']**0.5)/coll['dist']).sort_values(ascending=False)[:20]"
   ]
  },
  {
   "cell_type": "code",
   "execution_count": 149,
   "metadata": {},
   "outputs": [],
   "source": [
    "from collections import Counter"
   ]
  },
  {
   "cell_type": "code",
   "execution_count": 155,
   "metadata": {},
   "outputs": [
    {
     "data": {
      "text/plain": [
       "['a', 'b', 'c', 'a', 'b', 'd', 'u']"
      ]
     },
     "execution_count": 155,
     "metadata": {},
     "output_type": "execute_result"
    }
   ],
   "source": [
    "'a b c a b d u'.split()"
   ]
  },
  {
   "cell_type": "code",
   "execution_count": 162,
   "metadata": {},
   "outputs": [],
   "source": [
    "a = Counter('a b c a b d u'.split())\n",
    "b = Counter('a b c a b d u u a a b c c c'.split())"
   ]
  },
  {
   "cell_type": "code",
   "execution_count": 173,
   "metadata": {},
   "outputs": [],
   "source": [
    "a = {w:a[w]/b[w] for w in a if w in b}"
   ]
  },
  {
   "cell_type": "code",
   "execution_count": 174,
   "metadata": {},
   "outputs": [
    {
     "data": {
      "text/plain": [
       "{'a': 0.03125, 'b': 0.07407407407407407, 'c': 0.015625, 'd': 1.0, 'u': 0.125}"
      ]
     },
     "execution_count": 174,
     "metadata": {},
     "output_type": "execute_result"
    }
   ],
   "source": [
    "a"
   ]
  },
  {
   "cell_type": "code",
   "execution_count": null,
   "metadata": {},
   "outputs": [],
   "source": []
  }
 ],
 "metadata": {
  "kernelspec": {
   "display_name": "Python 3",
   "language": "python",
   "name": "python3"
  },
  "language_info": {
   "codemirror_mode": {
    "name": "ipython",
    "version": 3
   },
   "file_extension": ".py",
   "mimetype": "text/x-python",
   "name": "python",
   "nbconvert_exporter": "python",
   "pygments_lexer": "ipython3",
   "version": "3.8.3"
  }
 },
 "nbformat": 4,
 "nbformat_minor": 4
}

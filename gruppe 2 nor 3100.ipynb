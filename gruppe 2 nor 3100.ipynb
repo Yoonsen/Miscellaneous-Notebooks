{
 "cells": [
  {
   "cell_type": "markdown",
   "metadata": {},
   "source": [
    "# Undersøkelse"
   ]
  },
  {
   "cell_type": "code",
   "execution_count": 31,
   "metadata": {},
   "outputs": [],
   "source": [
    "import dhlab.nbtext as nb\n",
    "import pandas as pd\n",
    "import dhlab.graph_networkx_louvain as gnl"
   ]
  },
  {
   "cell_type": "code",
   "execution_count": 7,
   "metadata": {},
   "outputs": [],
   "source": [
    "corpus = nb.book_corpus(words = ['Angst', 'Angest', 'Sjæl', 'Sjel'], period = (1870, 1920), lang ='nob')"
   ]
  },
  {
   "cell_type": "code",
   "execution_count": 8,
   "metadata": {},
   "outputs": [
    {
     "data": {
      "text/html": [
       "<div>\n",
       "<style scoped>\n",
       "    .dataframe tbody tr th:only-of-type {\n",
       "        vertical-align: middle;\n",
       "    }\n",
       "\n",
       "    .dataframe tbody tr th {\n",
       "        vertical-align: top;\n",
       "    }\n",
       "\n",
       "    .dataframe thead th {\n",
       "        text-align: right;\n",
       "    }\n",
       "</style>\n",
       "<table border=\"1\" class=\"dataframe\">\n",
       "  <thead>\n",
       "    <tr style=\"text-align: right;\">\n",
       "      <th></th>\n",
       "      <th>urn</th>\n",
       "      <th>author</th>\n",
       "      <th>title</th>\n",
       "      <th>year</th>\n",
       "    </tr>\n",
       "  </thead>\n",
       "  <tbody>\n",
       "    <tr>\n",
       "      <th>0</th>\n",
       "      <td>2016111748561</td>\n",
       "      <td></td>\n",
       "      <td>Katalog over bøgerne i Fredrikshalds bibliothek</td>\n",
       "      <td>1876</td>\n",
       "    </tr>\n",
       "    <tr>\n",
       "      <th>1</th>\n",
       "      <td>2014031108006</td>\n",
       "      <td>Hamsun, Knut</td>\n",
       "      <td>ede Verker</td>\n",
       "      <td>1918</td>\n",
       "    </tr>\n",
       "    <tr>\n",
       "      <th>2</th>\n",
       "      <td>2012101908032</td>\n",
       "      <td>Dreyer, Peder</td>\n",
       "      <td>Missionslæsning</td>\n",
       "      <td>1901</td>\n",
       "    </tr>\n",
       "    <tr>\n",
       "      <th>3</th>\n",
       "      <td>2006081500047</td>\n",
       "      <td>Koren, Charlotte</td>\n",
       "      <td>Gertrud</td>\n",
       "      <td>1882</td>\n",
       "    </tr>\n",
       "    <tr>\n",
       "      <th>4</th>\n",
       "      <td>2014072808042</td>\n",
       "      <td>Virchow, Rudolf</td>\n",
       "      <td>Videnskabens Frihed i den moderne Stat</td>\n",
       "      <td>1878</td>\n",
       "    </tr>\n",
       "    <tr>\n",
       "      <th>5</th>\n",
       "      <td>2014011608165</td>\n",
       "      <td>Gogol', N.V.</td>\n",
       "      <td>Kosakhøvdingen</td>\n",
       "      <td>1890</td>\n",
       "    </tr>\n",
       "    <tr>\n",
       "      <th>6</th>\n",
       "      <td>2006112301012</td>\n",
       "      <td>Thinn, Otto</td>\n",
       "      <td>Indførelse i kirkelige Salmer efter Landstads ...</td>\n",
       "      <td>1880</td>\n",
       "    </tr>\n",
       "    <tr>\n",
       "      <th>7</th>\n",
       "      <td>2015082427004</td>\n",
       "      <td></td>\n",
       "      <td>To Noveller</td>\n",
       "      <td>1876</td>\n",
       "    </tr>\n",
       "    <tr>\n",
       "      <th>8</th>\n",
       "      <td>2006083000071</td>\n",
       "      <td>Jansen, J.J.</td>\n",
       "      <td>Søg Gud!</td>\n",
       "      <td>1901</td>\n",
       "    </tr>\n",
       "    <tr>\n",
       "      <th>9</th>\n",
       "      <td>2014050908113</td>\n",
       "      <td>Sundt, Johan L.</td>\n",
       "      <td>Vantro</td>\n",
       "      <td>1881</td>\n",
       "    </tr>\n",
       "    <tr>\n",
       "      <th>10</th>\n",
       "      <td>2014111308208</td>\n",
       "      <td>Lie, Jonas</td>\n",
       "      <td>Eventyr</td>\n",
       "      <td>1909</td>\n",
       "    </tr>\n",
       "    <tr>\n",
       "      <th>11</th>\n",
       "      <td>2012010412005</td>\n",
       "      <td>Lindeman, Ludv. M. (Ludvig Mathias)</td>\n",
       "      <td>Melodier til Landstads Salmebog</td>\n",
       "      <td>1871</td>\n",
       "    </tr>\n",
       "    <tr>\n",
       "      <th>12</th>\n",
       "      <td>2014101008113</td>\n",
       "      <td>Hesselberg, W.K.</td>\n",
       "      <td>Fire Prædikener</td>\n",
       "      <td>1877</td>\n",
       "    </tr>\n",
       "    <tr>\n",
       "      <th>13</th>\n",
       "      <td>2011042820015</td>\n",
       "      <td>Nilsen, Laurits</td>\n",
       "      <td>Laurits Nilsens Skrifter i Samling</td>\n",
       "      <td>1914</td>\n",
       "    </tr>\n",
       "    <tr>\n",
       "      <th>14</th>\n",
       "      <td>2015060208072</td>\n",
       "      <td>Paull, Mary Anna</td>\n",
       "      <td>Lille Forglemmigei eller er det alt?</td>\n",
       "      <td>1895</td>\n",
       "    </tr>\n",
       "    <tr>\n",
       "      <th>15</th>\n",
       "      <td>2008062412002</td>\n",
       "      <td></td>\n",
       "      <td>[Statsraadsagen]</td>\n",
       "      <td>1879</td>\n",
       "    </tr>\n",
       "    <tr>\n",
       "      <th>16</th>\n",
       "      <td>2006112400012</td>\n",
       "      <td>Wergeland, Henrik</td>\n",
       "      <td>Henrik Wergelands Skrifter i Udvalg</td>\n",
       "      <td>1896</td>\n",
       "    </tr>\n",
       "    <tr>\n",
       "      <th>17</th>\n",
       "      <td>2011121506000</td>\n",
       "      <td>Knudsen, Knud</td>\n",
       "      <td>landsgyldige norske uttale</td>\n",
       "      <td>1876</td>\n",
       "    </tr>\n",
       "    <tr>\n",
       "      <th>18</th>\n",
       "      <td>2009032703030</td>\n",
       "      <td>Haneborg, Christian</td>\n",
       "      <td>Skildringer af Vagtmester Christian Haneborg p...</td>\n",
       "      <td>1898</td>\n",
       "    </tr>\n",
       "    <tr>\n",
       "      <th>19</th>\n",
       "      <td>2014121208050</td>\n",
       "      <td>Flood, Constantius</td>\n",
       "      <td>Fra Fjeldet og Skjærgaarden</td>\n",
       "      <td>1879</td>\n",
       "    </tr>\n",
       "  </tbody>\n",
       "</table>\n",
       "</div>"
      ],
      "text/plain": [
       "              urn                               author  \\\n",
       "0   2016111748561                                        \n",
       "1   2014031108006                         Hamsun, Knut   \n",
       "2   2012101908032                        Dreyer, Peder   \n",
       "3   2006081500047                     Koren, Charlotte   \n",
       "4   2014072808042                      Virchow, Rudolf   \n",
       "5   2014011608165                         Gogol', N.V.   \n",
       "6   2006112301012                          Thinn, Otto   \n",
       "7   2015082427004                                        \n",
       "8   2006083000071                         Jansen, J.J.   \n",
       "9   2014050908113                      Sundt, Johan L.   \n",
       "10  2014111308208                           Lie, Jonas   \n",
       "11  2012010412005  Lindeman, Ludv. M. (Ludvig Mathias)   \n",
       "12  2014101008113                     Hesselberg, W.K.   \n",
       "13  2011042820015                      Nilsen, Laurits   \n",
       "14  2015060208072                     Paull, Mary Anna   \n",
       "15  2008062412002                                        \n",
       "16  2006112400012                    Wergeland, Henrik   \n",
       "17  2011121506000                        Knudsen, Knud   \n",
       "18  2009032703030                  Haneborg, Christian   \n",
       "19  2014121208050                   Flood, Constantius   \n",
       "\n",
       "                                                title  year  \n",
       "0     Katalog over bøgerne i Fredrikshalds bibliothek  1876  \n",
       "1                                          ede Verker  1918  \n",
       "2                                     Missionslæsning  1901  \n",
       "3                                             Gertrud  1882  \n",
       "4              Videnskabens Frihed i den moderne Stat  1878  \n",
       "5                                      Kosakhøvdingen  1890  \n",
       "6   Indførelse i kirkelige Salmer efter Landstads ...  1880  \n",
       "7                                         To Noveller  1876  \n",
       "8                                            Søg Gud!  1901  \n",
       "9                                              Vantro  1881  \n",
       "10                                            Eventyr  1909  \n",
       "11                    Melodier til Landstads Salmebog  1871  \n",
       "12                                    Fire Prædikener  1877  \n",
       "13                 Laurits Nilsens Skrifter i Samling  1914  \n",
       "14               Lille Forglemmigei eller er det alt?  1895  \n",
       "15                                   [Statsraadsagen]  1879  \n",
       "16                Henrik Wergelands Skrifter i Udvalg  1896  \n",
       "17                         landsgyldige norske uttale  1876  \n",
       "18  Skildringer af Vagtmester Christian Haneborg p...  1898  \n",
       "19                        Fra Fjeldet og Skjærgaarden  1879  "
      ]
     },
     "execution_count": 8,
     "metadata": {},
     "output_type": "execute_result"
    }
   ],
   "source": [
    "corpus"
   ]
  },
  {
   "cell_type": "markdown",
   "metadata": {},
   "source": [
    "Lager en liste med ord"
   ]
  },
  {
   "cell_type": "code",
   "execution_count": null,
   "metadata": {},
   "outputs": [],
   "source": []
  },
  {
   "cell_type": "code",
   "execution_count": 23,
   "metadata": {},
   "outputs": [],
   "source": [
    "coll1 = nb.urn_coll('Sjel', urns = list(corpus[\"urn\"]))"
   ]
  },
  {
   "cell_type": "code",
   "execution_count": 13,
   "metadata": {},
   "outputs": [],
   "source": [
    "coll2 = nb.urn_coll('Sjæl', urns = list(corpus[\"urn\"]))"
   ]
  },
  {
   "cell_type": "code",
   "execution_count": 14,
   "metadata": {},
   "outputs": [],
   "source": [
    "coll3 = nb.urn_coll('Uro', urns = list(corpus[\"urn\"]))"
   ]
  },
  {
   "cell_type": "code",
   "execution_count": 24,
   "metadata": {},
   "outputs": [],
   "source": [
    "coll = pd.concat([coll1, coll2, coll3], axis = 1)"
   ]
  },
  {
   "cell_type": "code",
   "execution_count": 27,
   "metadata": {},
   "outputs": [
    {
     "data": {
      "text/plain": [
       ".           80.0\n",
       ",          144.0\n",
       "og          51.0\n",
       "en          38.0\n",
       "af          22.0\n",
       "i           61.0\n",
       "er          18.0\n",
       "!           16.0\n",
       "sin         21.0\n",
       "„            3.0\n",
       "aldrig       4.0\n",
       "ikke         8.0\n",
       "den         27.0\n",
       "kjcere       2.0\n",
       "O            2.0\n",
       "med         23.0\n",
       "sig         12.0\n",
       "ci           2.0\n",
       "paa         12.0\n",
       "frygt        2.0\n",
       "mm           2.0\n",
       "levende      3.0\n",
       "mer          2.0\n",
       "mig          1.0\n",
       "ned          2.0\n",
       "man          5.0\n",
       "lever        1.0\n",
       "lankel       1.0\n",
       "lcenges      1.0\n",
       "nu           3.0\n",
       "dtype: float64"
      ]
     },
     "execution_count": 27,
     "metadata": {},
     "output_type": "execute_result"
    }
   ],
   "source": [
    "coll.sum(axis = 1).head(30)"
   ]
  },
  {
   "cell_type": "code",
   "execution_count": 37,
   "metadata": {},
   "outputs": [],
   "source": [
    "graphs =  [nb.make_network(u, ['kjcere', 'levende', 'lever', 'lankel', 'lcenges', 'mer', 'sig', 'man'] ) for u in corpus['urn']]"
   ]
  },
  {
   "cell_type": "code",
   "execution_count": 38,
   "metadata": {},
   "outputs": [
    {
     "data": {
      "text/plain": [
       "[NodeView(()),\n",
       " NodeView(('levende', 'sig', 'lever', 'man', 'mer')),\n",
       " NodeView(('man', 'mer')),\n",
       " NodeView(('levende', 'man', 'sig', 'lever')),\n",
       " NodeView(('levende', 'man', 'sig')),\n",
       " NodeView(('kjcere', 'lankel', 'sig', 'man', 'levende', 'lever', 'mer')),\n",
       " NodeView(('kjcere', 'man', 'sig', 'lcenges', 'levende', 'lever', 'mer')),\n",
       " NodeView(('kjcere', 'man', 'sig', 'lcenges', 'levende', 'lever')),\n",
       " NodeView(('levende', 'man', 'sig', 'lever', 'mer')),\n",
       " NodeView(('levende', 'sig', 'man')),\n",
       " NodeView(('levende', 'sig', 'lever', 'man')),\n",
       " NodeView(('kjcere', 'lcenges', 'mer', 'man', 'sig')),\n",
       " NodeView(('kjcere', 'sig', 'levende', 'man', 'mer')),\n",
       " NodeView(('man', 'mer')),\n",
       " NodeView(('levende', 'man', 'sig', 'lever', 'mer')),\n",
       " NodeView(('levende', 'lever', 'man', 'sig', 'mer')),\n",
       " NodeView(('levende', 'lever', 'man', 'sig', 'mer')),\n",
       " NodeView(('levende', 'lever', 'man', 'sig', 'mer')),\n",
       " NodeView(('levende', 'sig', 'lever', 'man', 'mer')),\n",
       " NodeView(('levende', 'sig', 'lever', 'man', 'mer'))]"
      ]
     },
     "execution_count": 38,
     "metadata": {},
     "output_type": "execute_result"
    }
   ],
   "source": [
    "[x.nodes() for x in graphs]"
   ]
  }
 ],
 "metadata": {
  "kernelspec": {
   "display_name": "Python 3",
   "language": "python",
   "name": "python3"
  },
  "language_info": {
   "codemirror_mode": {
    "name": "ipython",
    "version": 3
   },
   "file_extension": ".py",
   "mimetype": "text/x-python",
   "name": "python",
   "nbconvert_exporter": "python",
   "pygments_lexer": "ipython3",
   "version": "3.8.3"
  }
 },
 "nbformat": 4,
 "nbformat_minor": 4
}

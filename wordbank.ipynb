{
 "cells": [
  {
   "cell_type": "code",
   "execution_count": 1,
   "metadata": {},
   "outputs": [
    {
     "data": {
      "text/markdown": [
       "Updated file `D:\\Documents\\GitHub\\Miscellaneous-Notebooks\\wordbank.py`"
      ],
      "text/plain": [
       "<IPython.core.display.Markdown object>"
      ]
     },
     "metadata": {},
     "output_type": "display_data"
    }
   ],
   "source": [
    "import dhlab.module_update as mu\n",
    "mu.update(\"wordbank\")\n",
    "import wordbank as wb"
   ]
  },
  {
   "cell_type": "code",
   "execution_count": 15,
   "metadata": {},
   "outputs": [
    {
     "data": {
      "text/plain": [
       "[['trøste', 'verb inf <trans1> <refl9/med> normert'],\n",
       " ['tørster', 'subst mask appell fl ub normert'],\n",
       " ['tørster', 'verb pres <intrans3> <trans15/etter> normert'],\n",
       " ['først', 'adv normert']]"
      ]
     },
     "execution_count": 15,
     "metadata": {},
     "output_type": "execute_result"
    }
   ],
   "source": [
    "wb.word_form_many(['trøste', \"tørster\", \"først\", 'gutane'], lang='nob')"
   ]
  },
  {
   "cell_type": "code",
   "execution_count": 17,
   "metadata": {},
   "outputs": [
    {
     "data": {
      "text/plain": [
       "[['først', 'adv', ['først']],\n",
       " ['trøste', 'adj', ['trøsta', 'trøstede', 'trøstende', 'trøstet', 'trøstete']],\n",
       " ['trøste',\n",
       "  'verb',\n",
       "  ['trøst', 'trøsta', 'trøste', 'trøster', 'trøstes', 'trøstet']],\n",
       " ['tørster',\n",
       "  'adj',\n",
       "  ['tørsta', 'tørstede', 'tørstende', 'tørstet', 'tørstete']],\n",
       " ['tørster', 'subs', ['tørst', 'tørsten', 'tørstene', 'tørster', 'tørste']],\n",
       " ['tørster',\n",
       "  'verb',\n",
       "  ['tørst', 'tørsta', 'tørste', 'tørster', 'tørstes', 'tørstet']]]"
      ]
     },
     "execution_count": 17,
     "metadata": {},
     "output_type": "execute_result"
    }
   ],
   "source": [
    "wb.word_paradigm_many(['trøste', \"tørster\", \"først\", 'gutane'], lang='nno')"
   ]
  },
  {
   "cell_type": "code",
   "execution_count": 11,
   "metadata": {},
   "outputs": [
    {
     "data": {
      "text/plain": [
       "[['gravferda', 'subs', 'gravferd'],\n",
       " ['gutane', 'subs', 'gut'],\n",
       " ['tørster', 'verb', 'tørste'],\n",
       " ['først', 'subs', 'først'],\n",
       " ['først', 'adv', 'først']]"
      ]
     },
     "execution_count": 11,
     "metadata": {},
     "output_type": "execute_result"
    }
   ],
   "source": [
    "wb.word_lemma_many(['gravferda','gutane', \"tørster\", \"først\"], lang='nno')"
   ]
  },
  {
   "cell_type": "code",
   "execution_count": 7,
   "metadata": {},
   "outputs": [
    {
     "data": {
      "text/plain": [
       "[['subst mask appell fl bu normert', 'gutane'],\n",
       " ['subst mask appell fl ub normert', 'gutar']]"
      ]
     },
     "execution_count": 7,
     "metadata": {},
     "output_type": "execute_result"
    }
   ],
   "source": [
    "wb.word_variant('gut', 'fl', 'nno')"
   ]
  },
  {
   "cell_type": "code",
   "execution_count": null,
   "metadata": {},
   "outputs": [],
   "source": []
  }
 ],
 "metadata": {
  "kernelspec": {
   "display_name": "Python 3",
   "language": "python",
   "name": "python3"
  },
  "language_info": {
   "codemirror_mode": {
    "name": "ipython",
    "version": 3
   },
   "file_extension": ".py",
   "mimetype": "text/x-python",
   "name": "python",
   "nbconvert_exporter": "python",
   "pygments_lexer": "ipython3",
   "version": "3.8.3"
  }
 },
 "nbformat": 4,
 "nbformat_minor": 4
}

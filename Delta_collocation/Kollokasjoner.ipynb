{
 "cells": [
  {
   "cell_type": "markdown",
   "metadata": {},
   "source": [
    "## Oppstart"
   ]
  },
  {
   "cell_type": "markdown",
   "metadata": {},
   "source": [
    "### Preamble\n",
    "\n",
    "Contains imports and some utility code."
   ]
  },
  {
   "cell_type": "code",
   "execution_count": 1,
   "metadata": {},
   "outputs": [],
   "source": [
    "from dhlab.module_update import update, css, code_toggle"
   ]
  },
  {
   "cell_type": "code",
   "execution_count": 2,
   "metadata": {},
   "outputs": [],
   "source": [
    "import dhlab.graph_networkx_louvain as gnl\n",
    "import dhlab.nbtext as nb\n",
    "import networkx as nx\n",
    "%matplotlib inline"
   ]
  },
  {
   "cell_type": "code",
   "execution_count": 3,
   "metadata": {},
   "outputs": [
    {
     "data": {
      "text/html": [
       "<style>@import url(\n",
       "http://fonts.googleapis.com/css?family=Lato|Philosopher|Montserrat|Source+Code+Pro|Istok+Web|Philosopher|Assistant:200,400,700);\n",
       "\n",
       "/*\n",
       "#notebook-container {\n",
       "\t-webkit-box-shadow: none;\n",
       "\tbox-shadow: none;\n",
       "}\n",
       "*/\n",
       "\n",
       "h1, h2, h3, h4, h5, h6 {\n",
       "\tfont-family: 'Montserrat', sans-serif;\n",
       "\tline-height: 2em;\n",
       "    color: #004f99;\n",
       "    font-weight: 600;\n",
       "}\n",
       "\n",
       "h1 { font-size: 4.5em; }\n",
       "h2 { font-size: 4em; }\n",
       "h3 { font-size: 3.5em; }\n",
       "h4 { font-size: 3em; }\n",
       "h5 { font-size: 2.5em; color:DarkSlateGray; }\n",
       "h6 { font-size: 2em; }\n",
       "\n",
       "p {\n",
       "\tfont-family: 'Assistant', sans-serif; \n",
       "\tfont-size: 1.2em;\n",
       "\tline-height: 1.4em;\n",
       "\tcolor: black;\n",
       "}\n",
       "p code {\n",
       "\tfont-size:0.9em;\n",
       "}\n",
       "div.input_area {\n",
       "\tborder:none !important;\n",
       "\tborder-left:1px solid #ff851b !important\n",
       "}\n",
       "\n",
       "span.cm-keyword {\n",
       "\tcolor:#339966 !important;\n",
       "}\n",
       "span.nn {  /*span.cm-variable, span.cm-property*/\n",
       "\tcolor: #3399ff !important;\n",
       "}\n",
       "div.CodeMirror {\n",
       "\tfont-family: 'Inconsolata', monospace;\n",
       "\tfont-size: 1.1em;\n",
       "\t\n",
       "}\n",
       "</style>"
      ],
      "text/plain": [
       "<IPython.core.display.HTML object>"
      ]
     },
     "execution_count": 3,
     "metadata": {},
     "output_type": "execute_result"
    }
   ],
   "source": [
    "css()"
   ]
  },
  {
   "cell_type": "code",
   "execution_count": 4,
   "metadata": {},
   "outputs": [],
   "source": [
    "def frame_sort(frame, by=0):\n",
    "    return frame.sort_values(by=by, ascending=False)"
   ]
  },
  {
   "cell_type": "code",
   "execution_count": 5,
   "metadata": {},
   "outputs": [],
   "source": [
    "import warnings\n",
    "warnings.filterwarnings('ignore')"
   ]
  },
  {
   "cell_type": "markdown",
   "metadata": {},
   "source": [
    "# Kollokasjoner eller assosiasjoner\n",
    "\n",
    "Hvilke ord opptrer et ord sammen med innenfor et korpus? "
   ]
  },
  {
   "cell_type": "markdown",
   "metadata": {},
   "source": [
    "### Define a corpus\n",
    "\n",
    "Bruk gjerne Dewey eller temaord for å definere korpuset, hold det forholdsvis lite rundt 200 bøker."
   ]
  },
  {
   "cell_type": "code",
   "execution_count": 124,
   "metadata": {},
   "outputs": [
    {
     "data": {
      "text/plain": [
       "175"
      ]
     },
     "execution_count": 124,
     "metadata": {},
     "output_type": "execute_result"
    }
   ],
   "source": [
    "korpus = nb.book_urn(ddk='641.2%', period=(1960, 2020), limit=200)\n",
    "len(korpus)"
   ]
  },
  {
   "cell_type": "markdown",
   "metadata": {},
   "source": [
    "\n",
    "Kommandoen nb.frame() kan benyttes på en hel del output. Gir en fin oversikt over data, og kan brukes .head() for å se de første eksemplene.\n",
    "\n"
   ]
  },
  {
   "cell_type": "code",
   "execution_count": 7,
   "metadata": {},
   "outputs": [
    {
     "data": {
      "text/html": [
       "<div>\n",
       "<style scoped>\n",
       "    .dataframe tbody tr th:only-of-type {\n",
       "        vertical-align: middle;\n",
       "    }\n",
       "\n",
       "    .dataframe tbody tr th {\n",
       "        vertical-align: top;\n",
       "    }\n",
       "\n",
       "    .dataframe thead th {\n",
       "        text-align: right;\n",
       "    }\n",
       "</style>\n",
       "<table border=\"1\" class=\"dataframe\">\n",
       "  <thead>\n",
       "    <tr style=\"text-align: right;\">\n",
       "      <th></th>\n",
       "      <th>0</th>\n",
       "      <th>1</th>\n",
       "      <th>2</th>\n",
       "      <th>3</th>\n",
       "    </tr>\n",
       "  </thead>\n",
       "  <tbody>\n",
       "    <tr>\n",
       "      <th>0</th>\n",
       "      <td>2014091908001</td>\n",
       "      <td>De Amicis, Edmondo</td>\n",
       "      <td>Om vinens psykologiske virkninger</td>\n",
       "      <td>2000</td>\n",
       "    </tr>\n",
       "    <tr>\n",
       "      <th>1</th>\n",
       "      <td>2011021603028</td>\n",
       "      <td>Salvesen, Geir</td>\n",
       "      <td>Himmelske kombinasjoner</td>\n",
       "      <td>2010</td>\n",
       "    </tr>\n",
       "    <tr>\n",
       "      <th>2</th>\n",
       "      <td>2016022448028</td>\n",
       "      <td></td>\n",
       "      <td>Italiensk vin</td>\n",
       "      <td>2003</td>\n",
       "    </tr>\n",
       "    <tr>\n",
       "      <th>3</th>\n",
       "      <td>2016070548074</td>\n",
       "      <td>Jørgensen, Helge</td>\n",
       "      <td>Godt i glasset!</td>\n",
       "      <td>2002</td>\n",
       "    </tr>\n",
       "    <tr>\n",
       "      <th>4</th>\n",
       "      <td>2011063008113</td>\n",
       "      <td></td>\n",
       "      <td>Aquavitguiden</td>\n",
       "      <td>2003</td>\n",
       "    </tr>\n",
       "    <tr>\n",
       "      <th>5</th>\n",
       "      <td>2016020807502</td>\n",
       "      <td>Westerhaug, Lene Aarnes</td>\n",
       "      <td>Akevitt</td>\n",
       "      <td>2010</td>\n",
       "    </tr>\n",
       "    <tr>\n",
       "      <th>6</th>\n",
       "      <td>2010050403066</td>\n",
       "      <td>Dege, Hroar</td>\n",
       "      <td>Historien om de norske akevitter</td>\n",
       "      <td>1997</td>\n",
       "    </tr>\n",
       "    <tr>\n",
       "      <th>7</th>\n",
       "      <td>2014022408088</td>\n",
       "      <td>Watson, Jeremy</td>\n",
       "      <td>Vin i Spania</td>\n",
       "      <td>2001</td>\n",
       "    </tr>\n",
       "    <tr>\n",
       "      <th>8</th>\n",
       "      <td>2012052308095</td>\n",
       "      <td>Steingrimsen, Oskar</td>\n",
       "      <td>Din egen dram</td>\n",
       "      <td>1982</td>\n",
       "    </tr>\n",
       "    <tr>\n",
       "      <th>9</th>\n",
       "      <td>2014042407072</td>\n",
       "      <td>Clarke, Oz</td>\n",
       "      <td>Gyldendals vinleksikon</td>\n",
       "      <td>2000</td>\n",
       "    </tr>\n",
       "  </tbody>\n",
       "</table>\n",
       "</div>"
      ],
      "text/plain": [
       "               0                        1                                  2  \\\n",
       "0  2014091908001       De Amicis, Edmondo  Om vinens psykologiske virkninger   \n",
       "1  2011021603028           Salvesen, Geir            Himmelske kombinasjoner   \n",
       "2  2016022448028                                               Italiensk vin   \n",
       "3  2016070548074         Jørgensen, Helge                    Godt i glasset!   \n",
       "4  2011063008113                                               Aquavitguiden   \n",
       "5  2016020807502  Westerhaug, Lene Aarnes                            Akevitt   \n",
       "6  2010050403066              Dege, Hroar   Historien om de norske akevitter   \n",
       "7  2014022408088           Watson, Jeremy                       Vin i Spania   \n",
       "8  2012052308095      Steingrimsen, Oskar                      Din egen dram   \n",
       "9  2014042407072               Clarke, Oz             Gyldendals vinleksikon   \n",
       "\n",
       "      3  \n",
       "0  2000  \n",
       "1  2010  \n",
       "2  2003  \n",
       "3  2002  \n",
       "4  2003  \n",
       "5  2010  \n",
       "6  1997  \n",
       "7  2001  \n",
       "8  1982  \n",
       "9  2000  "
      ]
     },
     "execution_count": 7,
     "metadata": {},
     "output_type": "execute_result"
    }
   ],
   "source": [
    "nb.frame(korpus).head(10)"
   ]
  },
  {
   "cell_type": "markdown",
   "metadata": {},
   "source": [
    "## Lager kollokasjoner fra korpuset\n",
    "\n",
    "Et skrittvis eksempel. \n",
    "1. Bygg kollokasjonen\n",
    "2. Finn en referanse\n",
    "3. Sammenlign kollokasjon med referanse"
   ]
  },
  {
   "cell_type": "markdown",
   "metadata": {},
   "source": [
    "### Bygg kollokasjon\n",
    "\n",
    "Kommandoen er `urn_coll()`. Legg gjerne inn en sjekk med konkordans."
   ]
  },
  {
   "cell_type": "code",
   "execution_count": 8,
   "metadata": {},
   "outputs": [],
   "source": [
    "collword = 'hvitvin'"
   ]
  },
  {
   "cell_type": "markdown",
   "metadata": {},
   "source": [
    "Så kan vi hente ut selve kollokasjonen,dvs. ord som står innenfor en viss avstand fra målordet."
   ]
  },
  {
   "cell_type": "code",
   "execution_count": 9,
   "metadata": {},
   "outputs": [],
   "source": [
    "small_window = 5\n",
    "large_window = 10"
   ]
  },
  {
   "cell_type": "code",
   "execution_count": 99,
   "metadata": {},
   "outputs": [],
   "source": [
    "def collpart(collword, urns, win = 5, limit = 10000):\n",
    "    return nb.urn_coll(collword, urns = korpus, after = win, before = win, limit = 10000)"
   ]
  },
  {
   "cell_type": "markdown",
   "metadata": {},
   "source": [
    "Kollokasjonen er en såkalt **dataframe** som kan undersøkes med `.head()` som ovenfor."
   ]
  },
  {
   "cell_type": "code",
   "execution_count": 100,
   "metadata": {},
   "outputs": [],
   "source": [
    "small = collpart(collword, nb.pure_urn(korpus), win = 5)\n",
    "large = collpart(collword, nb.pure_urn(korpus), win = 10)\n"
   ]
  },
  {
   "cell_type": "markdown",
   "metadata": {},
   "source": [
    "\n",
    "## Finn referanse\n",
    "\n",
    "Det er flere måter å sammenligne på. En er å bruke bokhylla selv om som referanse. For å hente ut ord fra bokhylla brukes kommandoen `totals(<antall ord>)`. Korpuset selv kan også benyttes, for eksempel med kommandoen `aggregate_urns(<korpusdefinisjon>)`.\n",
    "\n"
   ]
  },
  {
   "cell_type": "markdown",
   "metadata": {},
   "source": [
    "#### Bokhylla aggregert"
   ]
  },
  {
   "cell_type": "code",
   "execution_count": 35,
   "metadata": {},
   "outputs": [],
   "source": [
    "tot = nb.frame(nb.totals(top = 50000))"
   ]
  },
  {
   "cell_type": "code",
   "execution_count": 36,
   "metadata": {},
   "outputs": [
    {
     "data": {
      "text/html": [
       "<div>\n",
       "<style scoped>\n",
       "    .dataframe tbody tr th:only-of-type {\n",
       "        vertical-align: middle;\n",
       "    }\n",
       "\n",
       "    .dataframe tbody tr th {\n",
       "        vertical-align: top;\n",
       "    }\n",
       "\n",
       "    .dataframe thead th {\n",
       "        text-align: right;\n",
       "    }\n",
       "</style>\n",
       "<table border=\"1\" class=\"dataframe\">\n",
       "  <thead>\n",
       "    <tr style=\"text-align: right;\">\n",
       "      <th></th>\n",
       "      <th>0</th>\n",
       "    </tr>\n",
       "  </thead>\n",
       "  <tbody>\n",
       "    <tr>\n",
       "      <th>.</th>\n",
       "      <td>1265723110</td>\n",
       "    </tr>\n",
       "    <tr>\n",
       "      <th>,</th>\n",
       "      <td>1105303412</td>\n",
       "    </tr>\n",
       "    <tr>\n",
       "      <th>og</th>\n",
       "      <td>543432056</td>\n",
       "    </tr>\n",
       "    <tr>\n",
       "      <th>i</th>\n",
       "      <td>460246057</td>\n",
       "    </tr>\n",
       "    <tr>\n",
       "      <th>det</th>\n",
       "      <td>273411583</td>\n",
       "    </tr>\n",
       "  </tbody>\n",
       "</table>\n",
       "</div>"
      ],
      "text/plain": [
       "              0\n",
       ".    1265723110\n",
       ",    1105303412\n",
       "og    543432056\n",
       "i     460246057\n",
       "det   273411583"
      ]
     },
     "execution_count": 36,
     "metadata": {},
     "output_type": "execute_result"
    }
   ],
   "source": [
    "tot.head()"
   ]
  },
  {
   "cell_type": "markdown",
   "metadata": {},
   "source": [
    "#### Aggregert korpus"
   ]
  },
  {
   "cell_type": "code",
   "execution_count": 37,
   "metadata": {},
   "outputs": [],
   "source": [
    "korpus_agg = nb.aggregate_urns(korpus)"
   ]
  },
  {
   "cell_type": "markdown",
   "metadata": {},
   "source": [
    "Gjør den om til dataramme, sorterer og ser på resultatet \n",
    "1. Dataramme med kommando `frame()`\n",
    "2. Sortering med `frame_sort()` definert øverst i den her notebooken."
   ]
  },
  {
   "cell_type": "code",
   "execution_count": 38,
   "metadata": {},
   "outputs": [],
   "source": [
    "korpus_agg = frame_sort(nb.frame(korpus_agg))"
   ]
  },
  {
   "cell_type": "code",
   "execution_count": 39,
   "metadata": {},
   "outputs": [
    {
     "data": {
      "text/html": [
       "<div>\n",
       "<style scoped>\n",
       "    .dataframe tbody tr th:only-of-type {\n",
       "        vertical-align: middle;\n",
       "    }\n",
       "\n",
       "    .dataframe tbody tr th {\n",
       "        vertical-align: top;\n",
       "    }\n",
       "\n",
       "    .dataframe thead th {\n",
       "        text-align: right;\n",
       "    }\n",
       "</style>\n",
       "<table border=\"1\" class=\"dataframe\">\n",
       "  <thead>\n",
       "    <tr style=\"text-align: right;\">\n",
       "      <th></th>\n",
       "      <th>0</th>\n",
       "    </tr>\n",
       "  </thead>\n",
       "  <tbody>\n",
       "    <tr>\n",
       "      <th>,</th>\n",
       "      <td>726324</td>\n",
       "    </tr>\n",
       "    <tr>\n",
       "      <th>.</th>\n",
       "      <td>607377</td>\n",
       "    </tr>\n",
       "    <tr>\n",
       "      <th>og</th>\n",
       "      <td>370316</td>\n",
       "    </tr>\n",
       "    <tr>\n",
       "      <th>i</th>\n",
       "      <td>284037</td>\n",
       "    </tr>\n",
       "    <tr>\n",
       "      <th>er</th>\n",
       "      <td>222791</td>\n",
       "    </tr>\n",
       "    <tr>\n",
       "      <th>av</th>\n",
       "      <td>189591</td>\n",
       "    </tr>\n",
       "    <tr>\n",
       "      <th>som</th>\n",
       "      <td>184028</td>\n",
       "    </tr>\n",
       "    <tr>\n",
       "      <th>en</th>\n",
       "      <td>155422</td>\n",
       "    </tr>\n",
       "    <tr>\n",
       "      <th>med</th>\n",
       "      <td>126502</td>\n",
       "    </tr>\n",
       "    <tr>\n",
       "      <th>til</th>\n",
       "      <td>124112</td>\n",
       "    </tr>\n",
       "  </tbody>\n",
       "</table>\n",
       "</div>"
      ],
      "text/plain": [
       "          0\n",
       ",    726324\n",
       ".    607377\n",
       "og   370316\n",
       "i    284037\n",
       "er   222791\n",
       "av   189591\n",
       "som  184028\n",
       "en   155422\n",
       "med  126502\n",
       "til  124112"
      ]
     },
     "execution_count": 39,
     "metadata": {},
     "output_type": "execute_result"
    }
   ],
   "source": [
    "korpus_agg.head(10)"
   ]
  },
  {
   "cell_type": "markdown",
   "metadata": {},
   "source": [
    "#### Sammenlign"
   ]
  },
  {
   "cell_type": "markdown",
   "metadata": {},
   "source": [
    "Vi har nå tre frekvenslister som kan sammenlignes med hverandre. For å lette sammenlign normaliseres dem. Kommandoen for normalisering er `normalize_corpus_dataframe(<frekvensliste>)`"
   ]
  },
  {
   "cell_type": "markdown",
   "metadata": {},
   "source": [
    "nb.normalize_corpus_dataframe(korpus_agg)\n",
    "nb.normalize_corpus_dataframe(tot)\n",
    "nb.normalize_corpus_dataframe(small)\n",
    "nb.normalize_corpus_dataframe(large)"
   ]
  },
  {
   "cell_type": "markdown",
   "metadata": {},
   "source": [
    "Inspiser dataene etter normalisering"
   ]
  },
  {
   "cell_type": "markdown",
   "metadata": {},
   "source": [
    "### Aggregert korpus\n",
    "\n",
    "Fyll inn verdier for `.head()` for å se mer."
   ]
  },
  {
   "cell_type": "code",
   "execution_count": 40,
   "metadata": {},
   "outputs": [
    {
     "data": {
      "text/html": [
       "<div>\n",
       "<style scoped>\n",
       "    .dataframe tbody tr th:only-of-type {\n",
       "        vertical-align: middle;\n",
       "    }\n",
       "\n",
       "    .dataframe tbody tr th {\n",
       "        vertical-align: top;\n",
       "    }\n",
       "\n",
       "    .dataframe thead th {\n",
       "        text-align: right;\n",
       "    }\n",
       "</style>\n",
       "<table border=\"1\" class=\"dataframe\">\n",
       "  <thead>\n",
       "    <tr style=\"text-align: right;\">\n",
       "      <th></th>\n",
       "      <th>0</th>\n",
       "    </tr>\n",
       "  </thead>\n",
       "  <tbody>\n",
       "    <tr>\n",
       "      <th>,</th>\n",
       "      <td>726324</td>\n",
       "    </tr>\n",
       "    <tr>\n",
       "      <th>.</th>\n",
       "      <td>607377</td>\n",
       "    </tr>\n",
       "    <tr>\n",
       "      <th>og</th>\n",
       "      <td>370316</td>\n",
       "    </tr>\n",
       "    <tr>\n",
       "      <th>i</th>\n",
       "      <td>284037</td>\n",
       "    </tr>\n",
       "    <tr>\n",
       "      <th>er</th>\n",
       "      <td>222791</td>\n",
       "    </tr>\n",
       "  </tbody>\n",
       "</table>\n",
       "</div>"
      ],
      "text/plain": [
       "         0\n",
       ",   726324\n",
       ".   607377\n",
       "og  370316\n",
       "i   284037\n",
       "er  222791"
      ]
     },
     "execution_count": 40,
     "metadata": {},
     "output_type": "execute_result"
    }
   ],
   "source": [
    "korpus_agg.head()"
   ]
  },
  {
   "cell_type": "code",
   "execution_count": 187,
   "metadata": {},
   "outputs": [
    {
     "data": {
      "text/plain": [
       "0    13387085\n",
       "dtype: int64"
      ]
     },
     "execution_count": 187,
     "metadata": {},
     "output_type": "execute_result"
    }
   ],
   "source": [
    "korpus_agg.sum()"
   ]
  },
  {
   "cell_type": "markdown",
   "metadata": {},
   "source": [
    "### Bokhylla total"
   ]
  },
  {
   "cell_type": "code",
   "execution_count": 41,
   "metadata": {},
   "outputs": [
    {
     "data": {
      "text/html": [
       "<div>\n",
       "<style scoped>\n",
       "    .dataframe tbody tr th:only-of-type {\n",
       "        vertical-align: middle;\n",
       "    }\n",
       "\n",
       "    .dataframe tbody tr th {\n",
       "        vertical-align: top;\n",
       "    }\n",
       "\n",
       "    .dataframe thead th {\n",
       "        text-align: right;\n",
       "    }\n",
       "</style>\n",
       "<table border=\"1\" class=\"dataframe\">\n",
       "  <thead>\n",
       "    <tr style=\"text-align: right;\">\n",
       "      <th></th>\n",
       "      <th>0</th>\n",
       "    </tr>\n",
       "  </thead>\n",
       "  <tbody>\n",
       "    <tr>\n",
       "      <th>.</th>\n",
       "      <td>1265723110</td>\n",
       "    </tr>\n",
       "    <tr>\n",
       "      <th>,</th>\n",
       "      <td>1105303412</td>\n",
       "    </tr>\n",
       "    <tr>\n",
       "      <th>og</th>\n",
       "      <td>543432056</td>\n",
       "    </tr>\n",
       "    <tr>\n",
       "      <th>i</th>\n",
       "      <td>460246057</td>\n",
       "    </tr>\n",
       "    <tr>\n",
       "      <th>det</th>\n",
       "      <td>273411583</td>\n",
       "    </tr>\n",
       "  </tbody>\n",
       "</table>\n",
       "</div>"
      ],
      "text/plain": [
       "              0\n",
       ".    1265723110\n",
       ",    1105303412\n",
       "og    543432056\n",
       "i     460246057\n",
       "det   273411583"
      ]
     },
     "execution_count": 41,
     "metadata": {},
     "output_type": "execute_result"
    }
   ],
   "source": [
    "tot.head()"
   ]
  },
  {
   "cell_type": "markdown",
   "metadata": {},
   "source": [
    "### Kollokasjonen"
   ]
  },
  {
   "cell_type": "code",
   "execution_count": 101,
   "metadata": {},
   "outputs": [
    {
     "data": {
      "text/html": [
       "<div>\n",
       "<style scoped>\n",
       "    .dataframe tbody tr th:only-of-type {\n",
       "        vertical-align: middle;\n",
       "    }\n",
       "\n",
       "    .dataframe tbody tr th {\n",
       "        vertical-align: top;\n",
       "    }\n",
       "\n",
       "    .dataframe thead th {\n",
       "        text-align: right;\n",
       "    }\n",
       "</style>\n",
       "<table border=\"1\" class=\"dataframe\">\n",
       "  <thead>\n",
       "    <tr style=\"text-align: right;\">\n",
       "      <th></th>\n",
       "      <th>0</th>\n",
       "    </tr>\n",
       "  </thead>\n",
       "  <tbody>\n",
       "    <tr>\n",
       "      <th>,</th>\n",
       "      <td>2997</td>\n",
       "    </tr>\n",
       "    <tr>\n",
       "      <th>.</th>\n",
       "      <td>2744</td>\n",
       "    </tr>\n",
       "    <tr>\n",
       "      <th>og</th>\n",
       "      <td>1917</td>\n",
       "    </tr>\n",
       "    <tr>\n",
       "      <th>en</th>\n",
       "      <td>1779</td>\n",
       "    </tr>\n",
       "    <tr>\n",
       "      <th>er</th>\n",
       "      <td>1156</td>\n",
       "    </tr>\n",
       "  </tbody>\n",
       "</table>\n",
       "</div>"
      ],
      "text/plain": [
       "       0\n",
       ",   2997\n",
       ".   2744\n",
       "og  1917\n",
       "en  1779\n",
       "er  1156"
      ]
     },
     "execution_count": 101,
     "metadata": {},
     "output_type": "execute_result"
    }
   ],
   "source": [
    "small.head()"
   ]
  },
  {
   "cell_type": "code",
   "execution_count": 102,
   "metadata": {},
   "outputs": [
    {
     "data": {
      "text/html": [
       "<div>\n",
       "<style scoped>\n",
       "    .dataframe tbody tr th:only-of-type {\n",
       "        vertical-align: middle;\n",
       "    }\n",
       "\n",
       "    .dataframe tbody tr th {\n",
       "        vertical-align: top;\n",
       "    }\n",
       "\n",
       "    .dataframe thead th {\n",
       "        text-align: right;\n",
       "    }\n",
       "</style>\n",
       "<table border=\"1\" class=\"dataframe\">\n",
       "  <thead>\n",
       "    <tr style=\"text-align: right;\">\n",
       "      <th></th>\n",
       "      <th>0</th>\n",
       "    </tr>\n",
       "  </thead>\n",
       "  <tbody>\n",
       "    <tr>\n",
       "      <th>,</th>\n",
       "      <td>5580</td>\n",
       "    </tr>\n",
       "    <tr>\n",
       "      <th>.</th>\n",
       "      <td>5410</td>\n",
       "    </tr>\n",
       "    <tr>\n",
       "      <th>og</th>\n",
       "      <td>3522</td>\n",
       "    </tr>\n",
       "    <tr>\n",
       "      <th>en</th>\n",
       "      <td>2709</td>\n",
       "    </tr>\n",
       "    <tr>\n",
       "      <th>er</th>\n",
       "      <td>2239</td>\n",
       "    </tr>\n",
       "  </tbody>\n",
       "</table>\n",
       "</div>"
      ],
      "text/plain": [
       "       0\n",
       ",   5580\n",
       ".   5410\n",
       "og  3522\n",
       "en  2709\n",
       "er  2239"
      ]
     },
     "execution_count": 102,
     "metadata": {},
     "output_type": "execute_result"
    }
   ],
   "source": [
    "large.head()"
   ]
  },
  {
   "cell_type": "markdown",
   "metadata": {},
   "source": [
    "Kollokasjonen *coll* har gjennomgående høyere verdier, noe som sannsynligvis skyldes at det er færre ord."
   ]
  },
  {
   "cell_type": "markdown",
   "metadata": {},
   "source": [
    "#### Utfør sammenligning\n",
    "\n",
    "For sammenligning måles forskjellen på *coll* med referansen. Forskjellen måles ved å dividere hvert ords frekvens ikollokasjonen på frekvensen ordet har i referansen.\n",
    "\n",
    "$$\\textrm{assosiasjons-styrke}(w) = \\frac{\\textrm{coll}(w)}{\\textrm{referanse}(w)}$$\n",
    "\n",
    "Divisjonen pr.ord gjøres av Python - resultat sorteres og legges i variabelen `coll_assoc`"
   ]
  },
  {
   "cell_type": "code",
   "execution_count": 103,
   "metadata": {},
   "outputs": [],
   "source": [
    "small_assoc = frame_sort(small**1.0/tot)"
   ]
  },
  {
   "cell_type": "code",
   "execution_count": 104,
   "metadata": {},
   "outputs": [
    {
     "data": {
      "text/html": [
       "<div>\n",
       "<style scoped>\n",
       "    .dataframe tbody tr th:only-of-type {\n",
       "        vertical-align: middle;\n",
       "    }\n",
       "\n",
       "    .dataframe tbody tr th {\n",
       "        vertical-align: top;\n",
       "    }\n",
       "\n",
       "    .dataframe thead th {\n",
       "        text-align: right;\n",
       "    }\n",
       "</style>\n",
       "<table border=\"1\" class=\"dataframe\">\n",
       "  <thead>\n",
       "    <tr style=\"text-align: right;\">\n",
       "      <th></th>\n",
       "      <th>0</th>\n",
       "    </tr>\n",
       "  </thead>\n",
       "  <tbody>\n",
       "    <tr>\n",
       "      <th>rødvin</th>\n",
       "      <td>0.009124</td>\n",
       "    </tr>\n",
       "    <tr>\n",
       "      <th>tørr</th>\n",
       "      <td>0.001869</td>\n",
       "    </tr>\n",
       "    <tr>\n",
       "      <th>Blanc</th>\n",
       "      <td>0.001651</td>\n",
       "    </tr>\n",
       "    <tr>\n",
       "      <th>hvitvin</th>\n",
       "      <td>0.001417</td>\n",
       "    </tr>\n",
       "    <tr>\n",
       "      <th>druer</th>\n",
       "      <td>0.001215</td>\n",
       "    </tr>\n",
       "    <tr>\n",
       "      <th>drikkes</th>\n",
       "      <td>0.001071</td>\n",
       "    </tr>\n",
       "    <tr>\n",
       "      <th>druene</th>\n",
       "      <td>0.001055</td>\n",
       "    </tr>\n",
       "    <tr>\n",
       "      <th>fyldig</th>\n",
       "      <td>0.001051</td>\n",
       "    </tr>\n",
       "    <tr>\n",
       "      <th>syrlig</th>\n",
       "      <td>0.000876</td>\n",
       "    </tr>\n",
       "    <tr>\n",
       "      <th>Champagne</th>\n",
       "      <td>0.000859</td>\n",
       "    </tr>\n",
       "    <tr>\n",
       "      <th>søt</th>\n",
       "      <td>0.000750</td>\n",
       "    </tr>\n",
       "    <tr>\n",
       "      <th>viner</th>\n",
       "      <td>0.000744</td>\n",
       "    </tr>\n",
       "    <tr>\n",
       "      <th>vinene</th>\n",
       "      <td>0.000679</td>\n",
       "    </tr>\n",
       "    <tr>\n",
       "      <th>Bordeaux</th>\n",
       "      <td>0.000627</td>\n",
       "    </tr>\n",
       "    <tr>\n",
       "      <th>Frisk</th>\n",
       "      <td>0.000533</td>\n",
       "    </tr>\n",
       "    <tr>\n",
       "      <th>Italias</th>\n",
       "      <td>0.000522</td>\n",
       "    </tr>\n",
       "    <tr>\n",
       "      <th>Chateau</th>\n",
       "      <td>0.000509</td>\n",
       "    </tr>\n",
       "    <tr>\n",
       "      <th>sødme</th>\n",
       "      <td>0.000474</td>\n",
       "    </tr>\n",
       "    <tr>\n",
       "      <th>forfriskende</th>\n",
       "      <td>0.000468</td>\n",
       "    </tr>\n",
       "    <tr>\n",
       "      <th>Farge</th>\n",
       "      <td>0.000453</td>\n",
       "    </tr>\n",
       "  </tbody>\n",
       "</table>\n",
       "</div>"
      ],
      "text/plain": [
       "                     0\n",
       "rødvin        0.009124\n",
       "tørr          0.001869\n",
       "Blanc         0.001651\n",
       "hvitvin       0.001417\n",
       "druer         0.001215\n",
       "drikkes       0.001071\n",
       "druene        0.001055\n",
       "fyldig        0.001051\n",
       "syrlig        0.000876\n",
       "Champagne     0.000859\n",
       "søt           0.000750\n",
       "viner         0.000744\n",
       "vinene        0.000679\n",
       "Bordeaux      0.000627\n",
       "Frisk         0.000533\n",
       "Italias       0.000522\n",
       "Chateau       0.000509\n",
       "sødme         0.000474\n",
       "forfriskende  0.000468\n",
       "Farge         0.000453"
      ]
     },
     "execution_count": 104,
     "metadata": {},
     "output_type": "execute_result"
    }
   ],
   "source": [
    "small_assoc.head(20)"
   ]
  },
  {
   "cell_type": "code",
   "execution_count": 46,
   "metadata": {},
   "outputs": [],
   "source": [
    "large_assoc = frame_sort(large**1.0/tot)"
   ]
  },
  {
   "cell_type": "code",
   "execution_count": 105,
   "metadata": {},
   "outputs": [
    {
     "data": {
      "text/html": [
       "<div>\n",
       "<style scoped>\n",
       "    .dataframe tbody tr th:only-of-type {\n",
       "        vertical-align: middle;\n",
       "    }\n",
       "\n",
       "    .dataframe tbody tr th {\n",
       "        vertical-align: top;\n",
       "    }\n",
       "\n",
       "    .dataframe thead th {\n",
       "        text-align: right;\n",
       "    }\n",
       "</style>\n",
       "<table border=\"1\" class=\"dataframe\">\n",
       "  <thead>\n",
       "    <tr style=\"text-align: right;\">\n",
       "      <th></th>\n",
       "      <th>0</th>\n",
       "    </tr>\n",
       "  </thead>\n",
       "  <tbody>\n",
       "    <tr>\n",
       "      <th>rødvin</th>\n",
       "      <td>0.013169</td>\n",
       "    </tr>\n",
       "    <tr>\n",
       "      <th>hvitvin</th>\n",
       "      <td>0.004283</td>\n",
       "    </tr>\n",
       "    <tr>\n",
       "      <th>Blanc</th>\n",
       "      <td>0.003374</td>\n",
       "    </tr>\n",
       "    <tr>\n",
       "      <th>druene</th>\n",
       "      <td>0.003075</td>\n",
       "    </tr>\n",
       "    <tr>\n",
       "      <th>viner</th>\n",
       "      <td>0.002204</td>\n",
       "    </tr>\n",
       "    <tr>\n",
       "      <th>druer</th>\n",
       "      <td>0.002174</td>\n",
       "    </tr>\n",
       "    <tr>\n",
       "      <th>vinene</th>\n",
       "      <td>0.002112</td>\n",
       "    </tr>\n",
       "    <tr>\n",
       "      <th>drikkes</th>\n",
       "      <td>0.002038</td>\n",
       "    </tr>\n",
       "    <tr>\n",
       "      <th>tørr</th>\n",
       "      <td>0.002017</td>\n",
       "    </tr>\n",
       "    <tr>\n",
       "      <th>Bordeaux</th>\n",
       "      <td>0.001755</td>\n",
       "    </tr>\n",
       "    <tr>\n",
       "      <th>Champagne</th>\n",
       "      <td>0.001640</td>\n",
       "    </tr>\n",
       "    <tr>\n",
       "      <th>fyldig</th>\n",
       "      <td>0.001333</td>\n",
       "    </tr>\n",
       "    <tr>\n",
       "      <th>syrlig</th>\n",
       "      <td>0.001248</td>\n",
       "    </tr>\n",
       "    <tr>\n",
       "      <th>Chateau</th>\n",
       "      <td>0.001188</td>\n",
       "    </tr>\n",
       "    <tr>\n",
       "      <th>sødme</th>\n",
       "      <td>0.001146</td>\n",
       "    </tr>\n",
       "    <tr>\n",
       "      <th>sherry</th>\n",
       "      <td>0.000977</td>\n",
       "    </tr>\n",
       "    <tr>\n",
       "      <th>gjæring</th>\n",
       "      <td>0.000908</td>\n",
       "    </tr>\n",
       "    <tr>\n",
       "      <th>Vinen</th>\n",
       "      <td>0.000892</td>\n",
       "    </tr>\n",
       "    <tr>\n",
       "      <th>aroma</th>\n",
       "      <td>0.000891</td>\n",
       "    </tr>\n",
       "    <tr>\n",
       "      <th>søt</th>\n",
       "      <td>0.000829</td>\n",
       "    </tr>\n",
       "  </tbody>\n",
       "</table>\n",
       "</div>"
      ],
      "text/plain": [
       "                  0\n",
       "rødvin     0.013169\n",
       "hvitvin    0.004283\n",
       "Blanc      0.003374\n",
       "druene     0.003075\n",
       "viner      0.002204\n",
       "druer      0.002174\n",
       "vinene     0.002112\n",
       "drikkes    0.002038\n",
       "tørr       0.002017\n",
       "Bordeaux   0.001755\n",
       "Champagne  0.001640\n",
       "fyldig     0.001333\n",
       "syrlig     0.001248\n",
       "Chateau    0.001188\n",
       "sødme      0.001146\n",
       "sherry     0.000977\n",
       "gjæring    0.000908\n",
       "Vinen      0.000892\n",
       "aroma      0.000891\n",
       "søt        0.000829"
      ]
     },
     "execution_count": 105,
     "metadata": {},
     "output_type": "execute_result"
    }
   ],
   "source": [
    "large_assoc.head(20)"
   ]
  },
  {
   "cell_type": "markdown",
   "metadata": {},
   "source": [
    "### Sammenlign med korpus\n",
    "\n",
    "Her kan det være nyttig å bruke en eksponent for å dempe effekten av lavfrekvente ord."
   ]
  },
  {
   "cell_type": "code",
   "execution_count": 57,
   "metadata": {},
   "outputs": [],
   "source": [
    "import numpy as np"
   ]
  },
  {
   "cell_type": "code",
   "execution_count": 59,
   "metadata": {},
   "outputs": [
    {
     "data": {
      "text/plain": [
       "0.6931471805599453"
      ]
     },
     "execution_count": 59,
     "metadata": {},
     "output_type": "execute_result"
    }
   ],
   "source": [
    "np.log(2)"
   ]
  },
  {
   "cell_type": "code",
   "execution_count": 92,
   "metadata": {},
   "outputs": [],
   "source": [
    "import pandas as pd"
   ]
  },
  {
   "cell_type": "code",
   "execution_count": 151,
   "metadata": {},
   "outputs": [],
   "source": [
    "delta = pd.DataFrame()"
   ]
  },
  {
   "cell_type": "code",
   "execution_count": 152,
   "metadata": {},
   "outputs": [],
   "source": [
    "delta['small'] = small[0]\n",
    "delta['large'] = large[0]"
   ]
  },
  {
   "cell_type": "code",
   "execution_count": 153,
   "metadata": {},
   "outputs": [],
   "source": [
    "delta['ratio'] = small[0]/large[0]"
   ]
  },
  {
   "cell_type": "code",
   "execution_count": 154,
   "metadata": {},
   "outputs": [],
   "source": [
    "#delta['log'] = np.log(delta['ratio'])"
   ]
  },
  {
   "cell_type": "code",
   "execution_count": 156,
   "metadata": {},
   "outputs": [],
   "source": [
    "#delta['score'] = delta['ratio'] * delta['log']"
   ]
  },
  {
   "cell_type": "code",
   "execution_count": 157,
   "metadata": {},
   "outputs": [
    {
     "data": {
      "text/plain": [
       "<matplotlib.axes._subplots.AxesSubplot at 0x28581a51320>"
      ]
     },
     "execution_count": 157,
     "metadata": {},
     "output_type": "execute_result"
    },
    {
     "data": {
      "image/png": "[encoded data removed]",
      "text/plain": [
       "<Figure size 432x288 with 1 Axes>"
      ]
     },
     "metadata": {
      "needs_background": "light"
     },
     "output_type": "display_data"
    }
   ],
   "source": [
    "delta[(delta.small > 0)].sort_values(by='ratio', ascending=True)['ratio'][:10].plot(kind='bar', rot=40)"
   ]
  },
  {
   "cell_type": "code",
   "execution_count": null,
   "metadata": {},
   "outputs": [],
   "source": []
  },
  {
   "cell_type": "code",
   "execution_count": 158,
   "metadata": {},
   "outputs": [
    {
     "data": {
      "text/html": [
       "<div>\n",
       "<style scoped>\n",
       "    .dataframe tbody tr th:only-of-type {\n",
       "        vertical-align: middle;\n",
       "    }\n",
       "\n",
       "    .dataframe tbody tr th {\n",
       "        vertical-align: top;\n",
       "    }\n",
       "\n",
       "    .dataframe thead th {\n",
       "        text-align: right;\n",
       "    }\n",
       "</style>\n",
       "<table border=\"1\" class=\"dataframe\">\n",
       "  <thead>\n",
       "    <tr style=\"text-align: right;\">\n",
       "      <th></th>\n",
       "      <th>small</th>\n",
       "      <th>large</th>\n",
       "      <th>ratio</th>\n",
       "    </tr>\n",
       "  </thead>\n",
       "  <tbody>\n",
       "    <tr>\n",
       "      <th>,</th>\n",
       "      <td>2997</td>\n",
       "      <td>5580</td>\n",
       "      <td>0.537097</td>\n",
       "    </tr>\n",
       "    <tr>\n",
       "      <th>.</th>\n",
       "      <td>2744</td>\n",
       "      <td>5410</td>\n",
       "      <td>0.507209</td>\n",
       "    </tr>\n",
       "    <tr>\n",
       "      <th>og</th>\n",
       "      <td>1917</td>\n",
       "      <td>3522</td>\n",
       "      <td>0.544293</td>\n",
       "    </tr>\n",
       "    <tr>\n",
       "      <th>!</th>\n",
       "      <td>13</td>\n",
       "      <td>55</td>\n",
       "      <td>0.236364</td>\n",
       "    </tr>\n",
       "    <tr>\n",
       "      <th>?</th>\n",
       "      <td>70</td>\n",
       "      <td>133</td>\n",
       "      <td>0.526316</td>\n",
       "    </tr>\n",
       "  </tbody>\n",
       "</table>\n",
       "</div>"
      ],
      "text/plain": [
       "    small  large     ratio\n",
       ",    2997   5580  0.537097\n",
       ".    2744   5410  0.507209\n",
       "og   1917   3522  0.544293\n",
       "!      13     55  0.236364\n",
       "?      70    133  0.526316"
      ]
     },
     "execution_count": 158,
     "metadata": {},
     "output_type": "execute_result"
    }
   ],
   "source": [
    "delta.loc[[',','.','og','!', '?']]"
   ]
  },
  {
   "cell_type": "code",
   "execution_count": 159,
   "metadata": {},
   "outputs": [
    {
     "data": {
      "text/html": [
       "<style  type=\"text/css\" >\n",
       "    #T_c5357680_3648_11ea_9cd1_000acd2bfab2row0_col0 {\n",
       "            background-color:  #023858;\n",
       "            color:  #f1f1f1;\n",
       "        }    #T_c5357680_3648_11ea_9cd1_000acd2bfab2row0_col1 {\n",
       "            background-color:  #045d92;\n",
       "            color:  #f1f1f1;\n",
       "        }    #T_c5357680_3648_11ea_9cd1_000acd2bfab2row0_col2 {\n",
       "            background-color:  #023858;\n",
       "            color:  #f1f1f1;\n",
       "        }    #T_c5357680_3648_11ea_9cd1_000acd2bfab2row1_col0 {\n",
       "            background-color:  #d0d1e6;\n",
       "            color:  #000000;\n",
       "        }    #T_c5357680_3648_11ea_9cd1_000acd2bfab2row1_col1 {\n",
       "            background-color:  #d9d8ea;\n",
       "            color:  #000000;\n",
       "        }    #T_c5357680_3648_11ea_9cd1_000acd2bfab2row1_col2 {\n",
       "            background-color:  #03446a;\n",
       "            color:  #f1f1f1;\n",
       "        }    #T_c5357680_3648_11ea_9cd1_000acd2bfab2row2_col0 {\n",
       "            background-color:  #ebe6f2;\n",
       "            color:  #000000;\n",
       "        }    #T_c5357680_3648_11ea_9cd1_000acd2bfab2row2_col1 {\n",
       "            background-color:  #eee9f3;\n",
       "            color:  #000000;\n",
       "        }    #T_c5357680_3648_11ea_9cd1_000acd2bfab2row2_col2 {\n",
       "            background-color:  #045788;\n",
       "            color:  #f1f1f1;\n",
       "        }    #T_c5357680_3648_11ea_9cd1_000acd2bfab2row3_col0 {\n",
       "            background-color:  #fbf3f9;\n",
       "            color:  #000000;\n",
       "        }    #T_c5357680_3648_11ea_9cd1_000acd2bfab2row3_col1 {\n",
       "            background-color:  #fbf4f9;\n",
       "            color:  #000000;\n",
       "        }    #T_c5357680_3648_11ea_9cd1_000acd2bfab2row3_col2 {\n",
       "            background-color:  #1379b5;\n",
       "            color:  #f1f1f1;\n",
       "        }    #T_c5357680_3648_11ea_9cd1_000acd2bfab2row4_col0 {\n",
       "            background-color:  #045687;\n",
       "            color:  #f1f1f1;\n",
       "        }    #T_c5357680_3648_11ea_9cd1_000acd2bfab2row4_col1 {\n",
       "            background-color:  #023858;\n",
       "            color:  #f1f1f1;\n",
       "        }    #T_c5357680_3648_11ea_9cd1_000acd2bfab2row4_col2 {\n",
       "            background-color:  #2987bc;\n",
       "            color:  #000000;\n",
       "        }    #T_c5357680_3648_11ea_9cd1_000acd2bfab2row5_col0 {\n",
       "            background-color:  #f1ebf5;\n",
       "            color:  #000000;\n",
       "        }    #T_c5357680_3648_11ea_9cd1_000acd2bfab2row5_col1 {\n",
       "            background-color:  #ede8f3;\n",
       "            color:  #000000;\n",
       "        }    #T_c5357680_3648_11ea_9cd1_000acd2bfab2row5_col2 {\n",
       "            background-color:  #76aad0;\n",
       "            color:  #000000;\n",
       "        }    #T_c5357680_3648_11ea_9cd1_000acd2bfab2row6_col0 {\n",
       "            background-color:  #fbf3f9;\n",
       "            color:  #000000;\n",
       "        }    #T_c5357680_3648_11ea_9cd1_000acd2bfab2row6_col1 {\n",
       "            background-color:  #faf2f8;\n",
       "            color:  #000000;\n",
       "        }    #T_c5357680_3648_11ea_9cd1_000acd2bfab2row6_col2 {\n",
       "            background-color:  #8eb3d5;\n",
       "            color:  #000000;\n",
       "        }    #T_c5357680_3648_11ea_9cd1_000acd2bfab2row7_col0 {\n",
       "            background-color:  #fdf5fa;\n",
       "            color:  #000000;\n",
       "        }    #T_c5357680_3648_11ea_9cd1_000acd2bfab2row7_col1 {\n",
       "            background-color:  #fdf5fa;\n",
       "            color:  #000000;\n",
       "        }    #T_c5357680_3648_11ea_9cd1_000acd2bfab2row7_col2 {\n",
       "            background-color:  #8eb3d5;\n",
       "            color:  #000000;\n",
       "        }    #T_c5357680_3648_11ea_9cd1_000acd2bfab2row8_col0 {\n",
       "            background-color:  #fff7fb;\n",
       "            color:  #000000;\n",
       "        }    #T_c5357680_3648_11ea_9cd1_000acd2bfab2row8_col1 {\n",
       "            background-color:  #fff7fb;\n",
       "            color:  #000000;\n",
       "        }    #T_c5357680_3648_11ea_9cd1_000acd2bfab2row8_col2 {\n",
       "            background-color:  #9fbad9;\n",
       "            color:  #000000;\n",
       "        }    #T_c5357680_3648_11ea_9cd1_000acd2bfab2row9_col0 {\n",
       "            background-color:  #f8f1f8;\n",
       "            color:  #000000;\n",
       "        }    #T_c5357680_3648_11ea_9cd1_000acd2bfab2row9_col1 {\n",
       "            background-color:  #f4eef6;\n",
       "            color:  #000000;\n",
       "        }    #T_c5357680_3648_11ea_9cd1_000acd2bfab2row9_col2 {\n",
       "            background-color:  #a5bddb;\n",
       "            color:  #000000;\n",
       "        }    #T_c5357680_3648_11ea_9cd1_000acd2bfab2row10_col0 {\n",
       "            background-color:  #fff7fb;\n",
       "            color:  #000000;\n",
       "        }    #T_c5357680_3648_11ea_9cd1_000acd2bfab2row10_col1 {\n",
       "            background-color:  #fef6fb;\n",
       "            color:  #000000;\n",
       "        }    #T_c5357680_3648_11ea_9cd1_000acd2bfab2row10_col2 {\n",
       "            background-color:  #c6cce3;\n",
       "            color:  #000000;\n",
       "        }    #T_c5357680_3648_11ea_9cd1_000acd2bfab2row11_col0 {\n",
       "            background-color:  #fef6fb;\n",
       "            color:  #000000;\n",
       "        }    #T_c5357680_3648_11ea_9cd1_000acd2bfab2row11_col1 {\n",
       "            background-color:  #fef6fa;\n",
       "            color:  #000000;\n",
       "        }    #T_c5357680_3648_11ea_9cd1_000acd2bfab2row11_col2 {\n",
       "            background-color:  #c9cee4;\n",
       "            color:  #000000;\n",
       "        }    #T_c5357680_3648_11ea_9cd1_000acd2bfab2row12_col0 {\n",
       "            background-color:  #fff7fb;\n",
       "            color:  #000000;\n",
       "        }    #T_c5357680_3648_11ea_9cd1_000acd2bfab2row12_col1 {\n",
       "            background-color:  #fff7fb;\n",
       "            color:  #000000;\n",
       "        }    #T_c5357680_3648_11ea_9cd1_000acd2bfab2row12_col2 {\n",
       "            background-color:  #cccfe5;\n",
       "            color:  #000000;\n",
       "        }    #T_c5357680_3648_11ea_9cd1_000acd2bfab2row13_col0 {\n",
       "            background-color:  #fff7fb;\n",
       "            color:  #000000;\n",
       "        }    #T_c5357680_3648_11ea_9cd1_000acd2bfab2row13_col1 {\n",
       "            background-color:  #fef6fb;\n",
       "            color:  #000000;\n",
       "        }    #T_c5357680_3648_11ea_9cd1_000acd2bfab2row13_col2 {\n",
       "            background-color:  #d6d6e9;\n",
       "            color:  #000000;\n",
       "        }    #T_c5357680_3648_11ea_9cd1_000acd2bfab2row14_col0 {\n",
       "            background-color:  #fef6fb;\n",
       "            color:  #000000;\n",
       "        }    #T_c5357680_3648_11ea_9cd1_000acd2bfab2row14_col1 {\n",
       "            background-color:  #fdf5fa;\n",
       "            color:  #000000;\n",
       "        }    #T_c5357680_3648_11ea_9cd1_000acd2bfab2row14_col2 {\n",
       "            background-color:  #e2dfee;\n",
       "            color:  #000000;\n",
       "        }    #T_c5357680_3648_11ea_9cd1_000acd2bfab2row15_col0 {\n",
       "            background-color:  #fcf4fa;\n",
       "            color:  #000000;\n",
       "        }    #T_c5357680_3648_11ea_9cd1_000acd2bfab2row15_col1 {\n",
       "            background-color:  #f8f1f8;\n",
       "            color:  #000000;\n",
       "        }    #T_c5357680_3648_11ea_9cd1_000acd2bfab2row15_col2 {\n",
       "            background-color:  #e7e3f0;\n",
       "            color:  #000000;\n",
       "        }    #T_c5357680_3648_11ea_9cd1_000acd2bfab2row16_col0 {\n",
       "            background-color:  #fdf5fa;\n",
       "            color:  #000000;\n",
       "        }    #T_c5357680_3648_11ea_9cd1_000acd2bfab2row16_col1 {\n",
       "            background-color:  #f8f1f8;\n",
       "            color:  #000000;\n",
       "        }    #T_c5357680_3648_11ea_9cd1_000acd2bfab2row16_col2 {\n",
       "            background-color:  #ece7f2;\n",
       "            color:  #000000;\n",
       "        }    #T_c5357680_3648_11ea_9cd1_000acd2bfab2row17_col0 {\n",
       "            background-color:  #f0eaf4;\n",
       "            color:  #000000;\n",
       "        }    #T_c5357680_3648_11ea_9cd1_000acd2bfab2row17_col1 {\n",
       "            background-color:  #d1d2e6;\n",
       "            color:  #000000;\n",
       "        }    #T_c5357680_3648_11ea_9cd1_000acd2bfab2row17_col2 {\n",
       "            background-color:  #efe9f3;\n",
       "            color:  #000000;\n",
       "        }    #T_c5357680_3648_11ea_9cd1_000acd2bfab2row18_col0 {\n",
       "            background-color:  #f6eff7;\n",
       "            color:  #000000;\n",
       "        }    #T_c5357680_3648_11ea_9cd1_000acd2bfab2row18_col1 {\n",
       "            background-color:  #e4e1ef;\n",
       "            color:  #000000;\n",
       "        }    #T_c5357680_3648_11ea_9cd1_000acd2bfab2row18_col2 {\n",
       "            background-color:  #f7f0f7;\n",
       "            color:  #000000;\n",
       "        }    #T_c5357680_3648_11ea_9cd1_000acd2bfab2row19_col0 {\n",
       "            background-color:  #fef6fa;\n",
       "            color:  #000000;\n",
       "        }    #T_c5357680_3648_11ea_9cd1_000acd2bfab2row19_col1 {\n",
       "            background-color:  #f8f1f8;\n",
       "            color:  #000000;\n",
       "        }    #T_c5357680_3648_11ea_9cd1_000acd2bfab2row19_col2 {\n",
       "            background-color:  #fff7fb;\n",
       "            color:  #000000;\n",
       "        }</style><table id=\"T_c5357680_3648_11ea_9cd1_000acd2bfab2\" ><thead>    <tr>        <th class=\"blank level0\" ></th>        <th class=\"col_heading level0 col0\" >small</th>        <th class=\"col_heading level0 col1\" >large</th>        <th class=\"col_heading level0 col2\" >ratio</th>    </tr></thead><tbody>\n",
       "                <tr>\n",
       "                        <th id=\"T_c5357680_3648_11ea_9cd1_000acd2bfab2level0_row0\" class=\"row_heading level0 row0\" >tørr</th>\n",
       "                        <td id=\"T_c5357680_3648_11ea_9cd1_000acd2bfab2row0_col0\" class=\"data row0 col0\" >723</td>\n",
       "                        <td id=\"T_c5357680_3648_11ea_9cd1_000acd2bfab2row0_col1\" class=\"data row0 col1\" >844</td>\n",
       "                        <td id=\"T_c5357680_3648_11ea_9cd1_000acd2bfab2row0_col2\" class=\"data row0 col2\" >0.856635</td>\n",
       "            </tr>\n",
       "            <tr>\n",
       "                        <th id=\"T_c5357680_3648_11ea_9cd1_000acd2bfab2level0_row1\" class=\"row_heading level0 row1\" >søt</th>\n",
       "                        <td id=\"T_c5357680_3648_11ea_9cd1_000acd2bfab2row1_col0\" class=\"data row1 col0\" >190</td>\n",
       "                        <td id=\"T_c5357680_3648_11ea_9cd1_000acd2bfab2row1_col1\" class=\"data row1 col1\" >229</td>\n",
       "                        <td id=\"T_c5357680_3648_11ea_9cd1_000acd2bfab2row1_col2\" class=\"data row1 col2\" >0.829694</td>\n",
       "            </tr>\n",
       "            <tr>\n",
       "                        <th id=\"T_c5357680_3648_11ea_9cd1_000acd2bfab2level0_row2\" class=\"row_heading level0 row2\" >fyldig</th>\n",
       "                        <td id=\"T_c5357680_3648_11ea_9cd1_000acd2bfab2row2_col0\" class=\"data row2 col0\" >104</td>\n",
       "                        <td id=\"T_c5357680_3648_11ea_9cd1_000acd2bfab2row2_col1\" class=\"data row2 col1\" >132</td>\n",
       "                        <td id=\"T_c5357680_3648_11ea_9cd1_000acd2bfab2row2_col2\" class=\"data row2 col2\" >0.787879</td>\n",
       "            </tr>\n",
       "            <tr>\n",
       "                        <th id=\"T_c5357680_3648_11ea_9cd1_000acd2bfab2level0_row3\" class=\"row_heading level0 row3\" >syrlig</th>\n",
       "                        <td id=\"T_c5357680_3648_11ea_9cd1_000acd2bfab2row3_col0\" class=\"data row3 col0\" >33</td>\n",
       "                        <td id=\"T_c5357680_3648_11ea_9cd1_000acd2bfab2row3_col1\" class=\"data row3 col1\" >48</td>\n",
       "                        <td id=\"T_c5357680_3648_11ea_9cd1_000acd2bfab2row3_col2\" class=\"data row3 col2\" >0.6875</td>\n",
       "            </tr>\n",
       "            <tr>\n",
       "                        <th id=\"T_c5357680_3648_11ea_9cd1_000acd2bfab2level0_row4\" class=\"row_heading level0 row4\" >rødvin</th>\n",
       "                        <td id=\"T_c5357680_3648_11ea_9cd1_000acd2bfab2row4_col0\" class=\"data row4 col0\" >643</td>\n",
       "                        <td id=\"T_c5357680_3648_11ea_9cd1_000acd2bfab2row4_col1\" class=\"data row4 col1\" >979</td>\n",
       "                        <td id=\"T_c5357680_3648_11ea_9cd1_000acd2bfab2row4_col2\" class=\"data row4 col2\" >0.656793</td>\n",
       "            </tr>\n",
       "            <tr>\n",
       "                        <th id=\"T_c5357680_3648_11ea_9cd1_000acd2bfab2level0_row5\" class=\"row_heading level0 row5\" >druer</th>\n",
       "                        <td id=\"T_c5357680_3648_11ea_9cd1_000acd2bfab2row5_col0\" class=\"data row5 col0\" >76</td>\n",
       "                        <td id=\"T_c5357680_3648_11ea_9cd1_000acd2bfab2row5_col1\" class=\"data row5 col1\" >136</td>\n",
       "                        <td id=\"T_c5357680_3648_11ea_9cd1_000acd2bfab2row5_col2\" class=\"data row5 col2\" >0.558824</td>\n",
       "            </tr>\n",
       "            <tr>\n",
       "                        <th id=\"T_c5357680_3648_11ea_9cd1_000acd2bfab2level0_row6\" class=\"row_heading level0 row6\" >drikkes</th>\n",
       "                        <td id=\"T_c5357680_3648_11ea_9cd1_000acd2bfab2row6_col0\" class=\"data row6 col0\" >31</td>\n",
       "                        <td id=\"T_c5357680_3648_11ea_9cd1_000acd2bfab2row6_col1\" class=\"data row6 col1\" >59</td>\n",
       "                        <td id=\"T_c5357680_3648_11ea_9cd1_000acd2bfab2row6_col2\" class=\"data row6 col2\" >0.525424</td>\n",
       "            </tr>\n",
       "            <tr>\n",
       "                        <th id=\"T_c5357680_3648_11ea_9cd1_000acd2bfab2level0_row7\" class=\"row_heading level0 row7\" >Champagne</th>\n",
       "                        <td id=\"T_c5357680_3648_11ea_9cd1_000acd2bfab2row7_col0\" class=\"data row7 col0\" >22</td>\n",
       "                        <td id=\"T_c5357680_3648_11ea_9cd1_000acd2bfab2row7_col1\" class=\"data row7 col1\" >42</td>\n",
       "                        <td id=\"T_c5357680_3648_11ea_9cd1_000acd2bfab2row7_col2\" class=\"data row7 col2\" >0.52381</td>\n",
       "            </tr>\n",
       "            <tr>\n",
       "                        <th id=\"T_c5357680_3648_11ea_9cd1_000acd2bfab2level0_row8\" class=\"row_heading level0 row8\" >aroma</th>\n",
       "                        <td id=\"T_c5357680_3648_11ea_9cd1_000acd2bfab2row8_col0\" class=\"data row8 col0\" >12</td>\n",
       "                        <td id=\"T_c5357680_3648_11ea_9cd1_000acd2bfab2row8_col1\" class=\"data row8 col1\" >24</td>\n",
       "                        <td id=\"T_c5357680_3648_11ea_9cd1_000acd2bfab2row8_col2\" class=\"data row8 col2\" >0.5</td>\n",
       "            </tr>\n",
       "            <tr>\n",
       "                        <th id=\"T_c5357680_3648_11ea_9cd1_000acd2bfab2level0_row9\" class=\"row_heading level0 row9\" >Blanc</th>\n",
       "                        <td id=\"T_c5357680_3648_11ea_9cd1_000acd2bfab2row9_col0\" class=\"data row9 col0\" >46</td>\n",
       "                        <td id=\"T_c5357680_3648_11ea_9cd1_000acd2bfab2row9_col1\" class=\"data row9 col1\" >94</td>\n",
       "                        <td id=\"T_c5357680_3648_11ea_9cd1_000acd2bfab2row9_col2\" class=\"data row9 col2\" >0.489362</td>\n",
       "            </tr>\n",
       "            <tr>\n",
       "                        <th id=\"T_c5357680_3648_11ea_9cd1_000acd2bfab2level0_row10\" class=\"row_heading level0 row10\" >Vinen</th>\n",
       "                        <td id=\"T_c5357680_3648_11ea_9cd1_000acd2bfab2row10_col0\" class=\"data row10 col0\" >13</td>\n",
       "                        <td id=\"T_c5357680_3648_11ea_9cd1_000acd2bfab2row10_col1\" class=\"data row10 col1\" >30</td>\n",
       "                        <td id=\"T_c5357680_3648_11ea_9cd1_000acd2bfab2row10_col2\" class=\"data row10 col2\" >0.433333</td>\n",
       "            </tr>\n",
       "            <tr>\n",
       "                        <th id=\"T_c5357680_3648_11ea_9cd1_000acd2bfab2level0_row11\" class=\"row_heading level0 row11\" >Chateau</th>\n",
       "                        <td id=\"T_c5357680_3648_11ea_9cd1_000acd2bfab2row11_col0\" class=\"data row11 col0\" >15</td>\n",
       "                        <td id=\"T_c5357680_3648_11ea_9cd1_000acd2bfab2row11_col1\" class=\"data row11 col1\" >35</td>\n",
       "                        <td id=\"T_c5357680_3648_11ea_9cd1_000acd2bfab2row11_col2\" class=\"data row11 col2\" >0.428571</td>\n",
       "            </tr>\n",
       "            <tr>\n",
       "                        <th id=\"T_c5357680_3648_11ea_9cd1_000acd2bfab2level0_row12\" class=\"row_heading level0 row12\" >gjæring</th>\n",
       "                        <td id=\"T_c5357680_3648_11ea_9cd1_000acd2bfab2row12_col0\" class=\"data row12 col0\" >11</td>\n",
       "                        <td id=\"T_c5357680_3648_11ea_9cd1_000acd2bfab2row12_col1\" class=\"data row12 col1\" >26</td>\n",
       "                        <td id=\"T_c5357680_3648_11ea_9cd1_000acd2bfab2row12_col2\" class=\"data row12 col2\" >0.423077</td>\n",
       "            </tr>\n",
       "            <tr>\n",
       "                        <th id=\"T_c5357680_3648_11ea_9cd1_000acd2bfab2level0_row13\" class=\"row_heading level0 row13\" >sødme</th>\n",
       "                        <td id=\"T_c5357680_3648_11ea_9cd1_000acd2bfab2row13_col0\" class=\"data row13 col0\" >12</td>\n",
       "                        <td id=\"T_c5357680_3648_11ea_9cd1_000acd2bfab2row13_col1\" class=\"data row13 col1\" >30</td>\n",
       "                        <td id=\"T_c5357680_3648_11ea_9cd1_000acd2bfab2row13_col2\" class=\"data row13 col2\" >0.4</td>\n",
       "            </tr>\n",
       "            <tr>\n",
       "                        <th id=\"T_c5357680_3648_11ea_9cd1_000acd2bfab2level0_row14\" class=\"row_heading level0 row14\" >sherry</th>\n",
       "                        <td id=\"T_c5357680_3648_11ea_9cd1_000acd2bfab2row14_col0\" class=\"data row14 col0\" >14</td>\n",
       "                        <td id=\"T_c5357680_3648_11ea_9cd1_000acd2bfab2row14_col1\" class=\"data row14 col1\" >38</td>\n",
       "                        <td id=\"T_c5357680_3648_11ea_9cd1_000acd2bfab2row14_col2\" class=\"data row14 col2\" >0.368421</td>\n",
       "            </tr>\n",
       "            <tr>\n",
       "                        <th id=\"T_c5357680_3648_11ea_9cd1_000acd2bfab2level0_row15\" class=\"row_heading level0 row15\" >Bordeaux</th>\n",
       "                        <td id=\"T_c5357680_3648_11ea_9cd1_000acd2bfab2row15_col0\" class=\"data row15 col0\" >25</td>\n",
       "                        <td id=\"T_c5357680_3648_11ea_9cd1_000acd2bfab2row15_col1\" class=\"data row15 col1\" >70</td>\n",
       "                        <td id=\"T_c5357680_3648_11ea_9cd1_000acd2bfab2row15_col2\" class=\"data row15 col2\" >0.357143</td>\n",
       "            </tr>\n",
       "            <tr>\n",
       "                        <th id=\"T_c5357680_3648_11ea_9cd1_000acd2bfab2level0_row16\" class=\"row_heading level0 row16\" >druene</th>\n",
       "                        <td id=\"T_c5357680_3648_11ea_9cd1_000acd2bfab2row16_col0\" class=\"data row16 col0\" >23</td>\n",
       "                        <td id=\"T_c5357680_3648_11ea_9cd1_000acd2bfab2row16_col1\" class=\"data row16 col1\" >67</td>\n",
       "                        <td id=\"T_c5357680_3648_11ea_9cd1_000acd2bfab2row16_col2\" class=\"data row16 col2\" >0.343284</td>\n",
       "            </tr>\n",
       "            <tr>\n",
       "                        <th id=\"T_c5357680_3648_11ea_9cd1_000acd2bfab2level0_row17\" class=\"row_heading level0 row17\" >hvitvin</th>\n",
       "                        <td id=\"T_c5357680_3648_11ea_9cd1_000acd2bfab2row17_col0\" class=\"data row17 col0\" >86</td>\n",
       "                        <td id=\"T_c5357680_3648_11ea_9cd1_000acd2bfab2row17_col1\" class=\"data row17 col1\" >260</td>\n",
       "                        <td id=\"T_c5357680_3648_11ea_9cd1_000acd2bfab2row17_col2\" class=\"data row17 col2\" >0.330769</td>\n",
       "            </tr>\n",
       "            <tr>\n",
       "                        <th id=\"T_c5357680_3648_11ea_9cd1_000acd2bfab2level0_row18\" class=\"row_heading level0 row18\" >viner</th>\n",
       "                        <td id=\"T_c5357680_3648_11ea_9cd1_000acd2bfab2row18_col0\" class=\"data row18 col0\" >53</td>\n",
       "                        <td id=\"T_c5357680_3648_11ea_9cd1_000acd2bfab2row18_col1\" class=\"data row18 col1\" >177</td>\n",
       "                        <td id=\"T_c5357680_3648_11ea_9cd1_000acd2bfab2row18_col2\" class=\"data row18 col2\" >0.299435</td>\n",
       "            </tr>\n",
       "            <tr>\n",
       "                        <th id=\"T_c5357680_3648_11ea_9cd1_000acd2bfab2level0_row19\" class=\"row_heading level0 row19\" >vinene</th>\n",
       "                        <td id=\"T_c5357680_3648_11ea_9cd1_000acd2bfab2row19_col0\" class=\"data row19 col0\" >18</td>\n",
       "                        <td id=\"T_c5357680_3648_11ea_9cd1_000acd2bfab2row19_col1\" class=\"data row19 col1\" >67</td>\n",
       "                        <td id=\"T_c5357680_3648_11ea_9cd1_000acd2bfab2row19_col2\" class=\"data row19 col2\" >0.268657</td>\n",
       "            </tr>\n",
       "    </tbody></table>"
      ],
      "text/plain": [
       "<pandas.io.formats.style.Styler at 0x28581be8a58>"
      ]
     },
     "execution_count": 159,
     "metadata": {},
     "output_type": "execute_result"
    }
   ],
   "source": [
    "delta.loc[large_assoc.head(20).index].sort_values(by='ratio', ascending=False).style.background_gradient()"
   ]
  },
  {
   "cell_type": "code",
   "execution_count": 190,
   "metadata": {},
   "outputs": [],
   "source": [
    "delta_max = delta[delta.small != delta.large][delta.small > 20][delta.ratio > 0.6].sort_values(by='ratio', ascending=False)"
   ]
  },
  {
   "cell_type": "code",
   "execution_count": 192,
   "metadata": {},
   "outputs": [
    {
     "data": {
      "text/html": [
       "<div>\n",
       "<style scoped>\n",
       "    .dataframe tbody tr th:only-of-type {\n",
       "        vertical-align: middle;\n",
       "    }\n",
       "\n",
       "    .dataframe tbody tr th {\n",
       "        vertical-align: top;\n",
       "    }\n",
       "\n",
       "    .dataframe thead th {\n",
       "        text-align: right;\n",
       "    }\n",
       "</style>\n",
       "<table border=\"1\" class=\"dataframe\">\n",
       "  <thead>\n",
       "    <tr style=\"text-align: right;\">\n",
       "      <th></th>\n",
       "      <th>small</th>\n",
       "      <th>large</th>\n",
       "      <th>ratio</th>\n",
       "    </tr>\n",
       "  </thead>\n",
       "  <tbody>\n",
       "    <tr>\n",
       "      <th>rød-</th>\n",
       "      <td>54</td>\n",
       "      <td>56</td>\n",
       "      <td>0.964286</td>\n",
       "    </tr>\n",
       "    <tr>\n",
       "      <th>Tilsett</th>\n",
       "      <td>22</td>\n",
       "      <td>23</td>\n",
       "      <td>0.956522</td>\n",
       "    </tr>\n",
       "    <tr>\n",
       "      <th>velger</th>\n",
       "      <td>23</td>\n",
       "      <td>25</td>\n",
       "      <td>0.920000</td>\n",
       "    </tr>\n",
       "    <tr>\n",
       "      <th>brukt</th>\n",
       "      <td>21</td>\n",
       "      <td>24</td>\n",
       "      <td>0.875000</td>\n",
       "    </tr>\n",
       "    <tr>\n",
       "      <th>tørr</th>\n",
       "      <td>723</td>\n",
       "      <td>844</td>\n",
       "      <td>0.856635</td>\n",
       "    </tr>\n",
       "    <tr>\n",
       "      <th>nøytral</th>\n",
       "      <td>38</td>\n",
       "      <td>45</td>\n",
       "      <td>0.844444</td>\n",
       "    </tr>\n",
       "    <tr>\n",
       "      <th>Tørr</th>\n",
       "      <td>91</td>\n",
       "      <td>109</td>\n",
       "      <td>0.834862</td>\n",
       "    </tr>\n",
       "    <tr>\n",
       "      <th>søt</th>\n",
       "      <td>190</td>\n",
       "      <td>229</td>\n",
       "      <td>0.829694</td>\n",
       "    </tr>\n",
       "    <tr>\n",
       "      <th>lage</th>\n",
       "      <td>83</td>\n",
       "      <td>101</td>\n",
       "      <td>0.821782</td>\n",
       "    </tr>\n",
       "    <tr>\n",
       "      <th>verdens</th>\n",
       "      <td>22</td>\n",
       "      <td>27</td>\n",
       "      <td>0.814815</td>\n",
       "    </tr>\n",
       "    <tr>\n",
       "      <th>vanlig</th>\n",
       "      <td>48</td>\n",
       "      <td>59</td>\n",
       "      <td>0.813559</td>\n",
       "    </tr>\n",
       "    <tr>\n",
       "      <th>rosevin</th>\n",
       "      <td>29</td>\n",
       "      <td>36</td>\n",
       "      <td>0.805556</td>\n",
       "    </tr>\n",
       "    <tr>\n",
       "      <th>utelukkende</th>\n",
       "      <td>37</td>\n",
       "      <td>46</td>\n",
       "      <td>0.804348</td>\n",
       "    </tr>\n",
       "    <tr>\n",
       "      <th>dl</th>\n",
       "      <td>189</td>\n",
       "      <td>235</td>\n",
       "      <td>0.804255</td>\n",
       "    </tr>\n",
       "    <tr>\n",
       "      <th>både</th>\n",
       "      <td>151</td>\n",
       "      <td>188</td>\n",
       "      <td>0.803191</td>\n",
       "    </tr>\n",
       "    <tr>\n",
       "      <th>halvtørr</th>\n",
       "      <td>76</td>\n",
       "      <td>95</td>\n",
       "      <td>0.800000</td>\n",
       "    </tr>\n",
       "    <tr>\n",
       "      <th>Som</th>\n",
       "      <td>36</td>\n",
       "      <td>45</td>\n",
       "      <td>0.800000</td>\n",
       "    </tr>\n",
       "    <tr>\n",
       "      <th>aromatisk</th>\n",
       "      <td>24</td>\n",
       "      <td>30</td>\n",
       "      <td>0.800000</td>\n",
       "    </tr>\n",
       "    <tr>\n",
       "      <th>frisk</th>\n",
       "      <td>165</td>\n",
       "      <td>208</td>\n",
       "      <td>0.793269</td>\n",
       "    </tr>\n",
       "    <tr>\n",
       "      <th>fransk</th>\n",
       "      <td>30</td>\n",
       "      <td>38</td>\n",
       "      <td>0.789474</td>\n",
       "    </tr>\n",
       "  </tbody>\n",
       "</table>\n",
       "</div>"
      ],
      "text/plain": [
       "             small  large     ratio\n",
       "rød-            54     56  0.964286\n",
       "Tilsett         22     23  0.956522\n",
       "velger          23     25  0.920000\n",
       "brukt           21     24  0.875000\n",
       "tørr           723    844  0.856635\n",
       "nøytral         38     45  0.844444\n",
       "Tørr            91    109  0.834862\n",
       "søt            190    229  0.829694\n",
       "lage            83    101  0.821782\n",
       "verdens         22     27  0.814815\n",
       "vanlig          48     59  0.813559\n",
       "rosevin         29     36  0.805556\n",
       "utelukkende     37     46  0.804348\n",
       "dl             189    235  0.804255\n",
       "både           151    188  0.803191\n",
       "halvtørr        76     95  0.800000\n",
       "Som             36     45  0.800000\n",
       "aromatisk       24     30  0.800000\n",
       "frisk          165    208  0.793269\n",
       "fransk          30     38  0.789474"
      ]
     },
     "execution_count": 192,
     "metadata": {},
     "output_type": "execute_result"
    }
   ],
   "source": [
    "delta_max.head(20)"
   ]
  },
  {
   "cell_type": "code",
   "execution_count": 191,
   "metadata": {},
   "outputs": [
    {
     "data": {
      "text/plain": [
       "Index(['rød-', 'Tilsett', 'velger', 'brukt', 'tørr', 'nøytral', 'Tørr', 'søt',\n",
       "       'lage', 'verdens', 'vanlig', 'rosevin', 'utelukkende', 'dl', 'både',\n",
       "       'halvtørr', 'Som', 'aromatisk', 'frisk', 'fransk'],\n",
       "      dtype='object')"
      ]
     },
     "execution_count": 191,
     "metadata": {},
     "output_type": "execute_result"
    }
   ],
   "source": [
    "delta_max.head(20).index"
   ]
  },
  {
   "cell_type": "code",
   "execution_count": 166,
   "metadata": {},
   "outputs": [
    {
     "data": {
      "text/plain": [
       "Index(['rødvin', 'hvitvin', 'Blanc', 'druene', 'viner', 'druer', 'vinene',\n",
       "       'drikkes', 'tørr', 'Bordeaux', 'Champagne', 'fyldig', 'syrlig',\n",
       "       'Chateau', 'sødme', 'sherry', 'gjæring', 'Vinen', 'aroma', 'søt',\n",
       "       'serveres', 'Frisk', 'forfriskende', 'Vinmonopolet', 'Italias',\n",
       "       'delikat', 'vinen', 'lages', 'skalldyr', 'champagne', 'syre', 'vin',\n",
       "       'produseres', 'portugisisk', 'Italiensk', 'etiketten', 'oster',\n",
       "       'flasker', 'Fylde', 'Farge', 'fløte', 'vulkanske', 'servere', 'smaker',\n",
       "       'delikate', 'Vin', 'Kraftig', 'avkjølt', 'krydret', 'fyldigere'],\n",
       "      dtype='object')"
      ]
     },
     "execution_count": 166,
     "metadata": {},
     "output_type": "execute_result"
    }
   ],
   "source": [
    "large_assoc.head(50).index"
   ]
  },
  {
   "cell_type": "code",
   "execution_count": 167,
   "metadata": {},
   "outputs": [
    {
     "data": {
      "text/plain": [
       "Index(['rødvin', 'tørr', 'Blanc', 'hvitvin', 'druer', 'drikkes', 'druene',\n",
       "       'fyldig', 'syrlig', 'Champagne', 'søt', 'viner', 'vinene', 'Bordeaux',\n",
       "       'Frisk', 'Italias', 'Chateau', 'sødme', 'forfriskende', 'Farge',\n",
       "       'lages', 'aroma', 'Italiensk', 'Vinen', 'portugisisk', 'gjæring',\n",
       "       'produseres', 'sherry', 'skalldyr', 'ganen', 'serveres', 'nøytral',\n",
       "       'champagne', 'fyldigere', 'krydret', 'sveitsisk', 'skvett', 'Toscana',\n",
       "       'syre', 'flasker', 'Kraftig', 'vinen', 'delikat', 'italiensk', 'dl',\n",
       "       'Serveres', 'produserer', 'avkjølt', 'Spanias', 'fløte'],\n",
       "      dtype='object')"
      ]
     },
     "execution_count": 167,
     "metadata": {},
     "output_type": "execute_result"
    }
   ],
   "source": [
    "small_assoc.head(50).index"
   ]
  },
  {
   "cell_type": "code",
   "execution_count": 183,
   "metadata": {},
   "outputs": [
    {
     "data": {
      "text/plain": [
       "Index(['Farge', 'rød-', 'Tilsett', 'velger', 'brukt', 'tørr', 'nøytral',\n",
       "       'Tørr', 'søt', 'lage', 'verdens', 'vanlig', 'rosevin', 'utelukkende',\n",
       "       'dl', 'både', 'aromatisk', 'Som', 'halvtørr', 'frisk', 'fransk',\n",
       "       'fyldig', 'billig', 'stille', 'omfatter', 'gjelder', 'meste',\n",
       "       'produksjonen', 'glass', 'produsert', 'virkelig', 'bløt', 'lager',\n",
       "       'rosévin', 'italiensk', 'helst', 'enkel', 'meget', 'elegant', 'kraftig',\n",
       "       'produksjon', 'Rødvin', 'fruktig', 'syrlig', 'produserer', 'lett', 'En',\n",
       "       'Et', 'lages', 'gjerne'],\n",
       "      dtype='object')"
      ]
     },
     "execution_count": 183,
     "metadata": {},
     "output_type": "execute_result"
    }
   ],
   "source": [
    "delta_max.head(50).index"
   ]
  },
  {
   "cell_type": "code",
   "execution_count": 184,
   "metadata": {},
   "outputs": [
    {
     "data": {
      "text/plain": [
       "{'Farge',\n",
       " 'dl',\n",
       " 'fyldig',\n",
       " 'italiensk',\n",
       " 'lages',\n",
       " 'nøytral',\n",
       " 'produserer',\n",
       " 'syrlig',\n",
       " 'søt',\n",
       " 'tørr'}"
      ]
     },
     "execution_count": 184,
     "metadata": {},
     "output_type": "execute_result"
    }
   ],
   "source": [
    "set(delta_max.head(50).index) & set(small_assoc.head(50).index)"
   ]
  },
  {
   "cell_type": "code",
   "execution_count": 185,
   "metadata": {},
   "outputs": [
    {
     "data": {
      "text/plain": [
       "{'Farge', 'fyldig', 'lages', 'syrlig', 'søt', 'tørr'}"
      ]
     },
     "execution_count": 185,
     "metadata": {},
     "output_type": "execute_result"
    }
   ],
   "source": [
    "set(delta_max.head(50).index) & set(large_assoc.head(50).index)"
   ]
  },
  {
   "cell_type": "code",
   "execution_count": 175,
   "metadata": {},
   "outputs": [
    {
     "data": {
      "text/plain": [
       "{'Blanc',\n",
       " 'Bordeaux',\n",
       " 'Champagne',\n",
       " 'Chateau',\n",
       " 'Farge',\n",
       " 'Frisk',\n",
       " 'Italias',\n",
       " 'Italiensk',\n",
       " 'Kraftig',\n",
       " 'Vinen',\n",
       " 'aroma',\n",
       " 'avkjølt',\n",
       " 'champagne',\n",
       " 'delikat',\n",
       " 'drikkes',\n",
       " 'druene',\n",
       " 'druer',\n",
       " 'flasker',\n",
       " 'fløte',\n",
       " 'forfriskende',\n",
       " 'fyldig',\n",
       " 'fyldigere',\n",
       " 'gjæring',\n",
       " 'hvitvin',\n",
       " 'krydret',\n",
       " 'lages',\n",
       " 'portugisisk',\n",
       " 'produseres',\n",
       " 'rødvin',\n",
       " 'serveres',\n",
       " 'sherry',\n",
       " 'skalldyr',\n",
       " 'syre',\n",
       " 'syrlig',\n",
       " 'sødme',\n",
       " 'søt',\n",
       " 'tørr',\n",
       " 'vinen',\n",
       " 'vinene',\n",
       " 'viner'}"
      ]
     },
     "execution_count": 175,
     "metadata": {},
     "output_type": "execute_result"
    }
   ],
   "source": [
    "set(small_assoc.head(50).index) & set(large_assoc.head(50).index)"
   ]
  },
  {
   "cell_type": "code",
   "execution_count": null,
   "metadata": {},
   "outputs": [],
   "source": [
    "coll_assoc_korp = frame_sort(coll**1.2/korpus_agg)"
   ]
  },
  {
   "cell_type": "code",
   "execution_count": null,
   "metadata": {},
   "outputs": [],
   "source": [
    "coll_assoc_korp.head(20)"
   ]
  },
  {
   "cell_type": "markdown",
   "metadata": {},
   "source": [
    "# Visualiser med en ordsky\n",
    "\n",
    "\n",
    "Visualiseringen trives best med tall mellom 0 og 1, så assosiasjonene divideres på summen av dem for å få til det. Ordskyene lages med kommonandoen `cloud(<data>)`. Pass på å ikke ta med alt for mange; det kan gi feilsituasjoner."
   ]
  },
  {
   "cell_type": "code",
   "execution_count": null,
   "metadata": {},
   "outputs": [],
   "source": [
    "nb.cloud(coll_assoc.head(50)/coll_assoc.sum())"
   ]
  },
  {
   "cell_type": "code",
   "execution_count": null,
   "metadata": {},
   "outputs": [],
   "source": [
    "nb.cloud(coll_assoc_korp.head(50)/coll_assoc_korp.sum())"
   ]
  },
  {
   "cell_type": "markdown",
   "metadata": {},
   "source": [
    "## Hva med å dividere korpuset på totalen?"
   ]
  },
  {
   "cell_type": "code",
   "execution_count": null,
   "metadata": {},
   "outputs": [],
   "source": [
    "korpus_ord =  frame_sort(korpus_agg**1.2/tot)"
   ]
  },
  {
   "cell_type": "code",
   "execution_count": null,
   "metadata": {},
   "outputs": [],
   "source": [
    "korpus_ord.head(20)"
   ]
  },
  {
   "cell_type": "code",
   "execution_count": null,
   "metadata": {},
   "outputs": [],
   "source": [
    "nb.cloud(korpus_ord.head(50)/korpus_ord.sum())"
   ]
  }
 ],
 "metadata": {
  "hide_input": false,
  "kernelspec": {
   "display_name": "Python 3",
   "language": "python",
   "name": "python3"
  },
  "language_info": {
   "codemirror_mode": {
    "name": "ipython",
    "version": 3
   },
   "file_extension": ".py",
   "mimetype": "text/x-python",
   "name": "python",
   "nbconvert_exporter": "python",
   "pygments_lexer": "ipython3",
   "version": "3.7.3"
  }
 },
 "nbformat": 4,
 "nbformat_minor": 2
}

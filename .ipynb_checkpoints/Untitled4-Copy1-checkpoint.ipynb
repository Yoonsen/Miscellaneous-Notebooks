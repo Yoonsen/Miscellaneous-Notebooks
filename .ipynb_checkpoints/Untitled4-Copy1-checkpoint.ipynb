{
 "cells": [
  {
   "cell_type": "code",
   "execution_count": 8,
   "metadata": {},
   "outputs": [],
   "source": [
    "import pysqlite3\n",
    "import os\n",
    "import tarfile\n",
    "import gzip\n",
    "#import sqlite3\n",
    "import json\n",
    "import pandas as pd\n",
    "from time import time\n",
    "from IPython.display import HTML"
   ]
  },
  {
   "cell_type": "code",
   "execution_count": 6,
   "metadata": {},
   "outputs": [],
   "source": [
    "def query(db, sql, params=(), retrieve = 20):\n",
    "    with pysqlite3.connect(db) as con:\n",
    "        cur = con.cursor()\n",
    "        res = cur.execute(sql, params).fetchmany(retrieve)\n",
    "    return res"
   ]
  },
  {
   "cell_type": "code",
   "execution_count": 2,
   "metadata": {},
   "outputs": [],
   "source": [
    "db = '../ft_test.db'"
   ]
  },
  {
   "cell_type": "code",
   "execution_count": 7,
   "metadata": {},
   "outputs": [
    {
     "data": {
      "text/plain": [
       "[]"
      ]
     },
     "execution_count": 7,
     "metadata": {},
     "output_type": "execute_result"
    }
   ],
   "source": [
    "query(db, \"CREATE VIRTUAL TABLE ft USING FTS5(identifier, num, text, tokenize = 'unicode61 remove_diacritics 0')\")"
   ]
  },
  {
   "cell_type": "code",
   "execution_count": 12,
   "metadata": {},
   "outputs": [],
   "source": [
    "fritt = tarfile.open(name='D:\\\\Downloads\\\\fritt.tar', mode='r', fileobj=None, bufsize=10240)"
   ]
  },
  {
   "cell_type": "code",
   "execution_count": 13,
   "metadata": {},
   "outputs": [
    {
     "name": "stdout",
     "output_type": "stream",
     "text": [
      "1000 59.73796200752258\n",
      "2000 68.13076043128967\n",
      "3000 79.15169095993042\n",
      "4000 61.38430309295654\n",
      "5000 81.16355037689209\n",
      "6000 70.68416929244995\n",
      "7000 80.80753254890442\n",
      "8000 64.87491750717163\n",
      "9000 134.50047183036804\n",
      "9000 0.0009894371032714844\n",
      "10000 558.7261712551117\n",
      "11000 213.87525057792664\n",
      "12000 77.39316368103027\n",
      "13000 70.11583209037781\n",
      "13000 0.0\n",
      "14000 82.16499185562134\n",
      "15000 66.96049880981445\n",
      "16000 76.08218836784363\n",
      "17000 68.17382526397705\n",
      "18000 266.9339642524719\n",
      "19000 644.1775929927826\n",
      "20000 92.58023953437805\n",
      "21000 77.18443441390991\n"
     ]
    }
   ],
   "source": [
    "i = time()\n",
    "with pysqlite3.connect(db) as con:\n",
    "    cur = con.cursor()\n",
    "    books = 1\n",
    "    for member in fritt.getmembers():        \n",
    "        f = fritt.extractfile(member)\n",
    "        if f is not None:\n",
    "            identifier = member.get_info()['name'].split('/')[-1]\n",
    "            #print(identifier)\n",
    "            content = f.read()\n",
    "            index = 0\n",
    "            for p in str(content).split('\\\\n'):\n",
    "                cur.execute(\"insert into ft values (?, ?, ?)\", (identifier, index, p))\n",
    "                index += 1\n",
    "            books += 1\n",
    "        if books % 1000 == 0:\n",
    "            print(books, time() - i)\n",
    "            i = time()"
   ]
  },
  {
   "cell_type": "code",
   "execution_count": null,
   "metadata": {},
   "outputs": [],
   "source": []
  }
 ],
 "metadata": {
  "kernelspec": {
   "display_name": "Python 3",
   "language": "python",
   "name": "python3"
  },
  "language_info": {
   "codemirror_mode": {
    "name": "ipython",
    "version": 3
   },
   "file_extension": ".py",
   "mimetype": "text/x-python",
   "name": "python",
   "nbconvert_exporter": "python",
   "pygments_lexer": "ipython3",
   "version": "3.7.3"
  }
 },
 "nbformat": 4,
 "nbformat_minor": 2
}

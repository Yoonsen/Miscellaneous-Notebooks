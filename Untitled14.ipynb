{
 "cells": [
  {
   "cell_type": "code",
   "execution_count": 1,
   "metadata": {},
   "outputs": [],
   "source": [
    "import dhlab.module_update as mu"
   ]
  },
  {
   "cell_type": "code",
   "execution_count": 2,
   "metadata": {},
   "outputs": [
    {
     "data": {
      "text/markdown": [
       "Updated file `C:\\Users\\larsj\\Documents\\GitHub\\Miscellaneous-Notebooks\\dhlab_v2.py`"
      ],
      "text/plain": [
       "<IPython.core.display.Markdown object>"
      ]
     },
     "metadata": {},
     "output_type": "display_data"
    }
   ],
   "source": [
    "mu.update('dhlab_v2')"
   ]
  },
  {
   "cell_type": "code",
   "execution_count": null,
   "metadata": {},
   "outputs": [],
   "source": []
  },
  {
   "cell_type": "code",
   "execution_count": null,
   "metadata": {},
   "outputs": [],
   "source": []
  },
  {
   "cell_type": "code",
   "execution_count": 3,
   "metadata": {},
   "outputs": [],
   "source": [
    "import dhlab_v2 as d2"
   ]
  },
  {
   "cell_type": "code",
   "execution_count": 7,
   "metadata": {},
   "outputs": [],
   "source": [
    "corpus = d2.document_corpus(ddk = \"839*\")"
   ]
  },
  {
   "cell_type": "code",
   "execution_count": 13,
   "metadata": {},
   "outputs": [
    {
     "data": {
      "text/html": [
       "<style  type=\"text/css\" >\n",
       "</style><table id=\"T_5a7b4709_ff52_11eb_9259_a0a4c554f2a3\" ><thead>    <tr>        <th class=\"blank level0\" ></th>        <th class=\"col_heading level0 col0\" >docid</th>        <th class=\"col_heading level0 col1\" >urn</th>        <th class=\"col_heading level0 col2\" >conc</th>    </tr></thead><tbody>\n",
       "                <tr>\n",
       "                        <th id=\"T_5a7b4709_ff52_11eb_9259_a0a4c554f2a3level0_row0\" class=\"row_heading level0 row0\" >0</th>\n",
       "                        <td id=\"T_5a7b4709_ff52_11eb_9259_a0a4c554f2a3row0_col0\" class=\"data row0 col0\" >100241553</td>\n",
       "                        <td id=\"T_5a7b4709_ff52_11eb_9259_a0a4c554f2a3row0_col1\" class=\"data row0 col1\" >URN:NBN:no-nb_digibok_2015013008097</td>\n",
       "                        <td id=\"T_5a7b4709_ff52_11eb_9259_a0a4c554f2a3row0_col2\" class=\"data row0 col2\" >Det var slik underlig makt over det <b>arbeid</b> han <b>drev</b> med. Det skinte så lokkende i det blanke kobberet .</td>\n",
       "            </tr>\n",
       "            <tr>\n",
       "                        <th id=\"T_5a7b4709_ff52_11eb_9259_a0a4c554f2a3level0_row1\" class=\"row_heading level0 row1\" >1</th>\n",
       "                        <td id=\"T_5a7b4709_ff52_11eb_9259_a0a4c554f2a3row1_col0\" class=\"data row1 col0\" >100140046</td>\n",
       "                        <td id=\"T_5a7b4709_ff52_11eb_9259_a0a4c554f2a3row1_col1\" class=\"data row1 col1\" >URN:NBN:no-nb_digibok_2013040206033</td>\n",
       "                        <td id=\"T_5a7b4709_ff52_11eb_9259_a0a4c554f2a3row1_col2\" class=\"data row1 col2\" >... Sist hun så ham , snakket han med Ivar Wetlesen som nylig var gått av med pensjon og <b>drev</b> Helen til vanvidd med alle slags krav... </td>\n",
       "            </tr>\n",
       "    </tbody></table>"
      ],
      "text/plain": [
       "<pandas.io.formats.style.Styler at 0x124bcd78610>"
      ]
     },
     "execution_count": 13,
     "metadata": {},
     "output_type": "execute_result"
    }
   ],
   "source": [
    "d2.concordance(urns = list(corpus.urn), words = \"arbeid drev\" ).head(20).style"
   ]
  },
  {
   "cell_type": "code",
   "execution_count": 19,
   "metadata": {},
   "outputs": [],
   "source": [
    "coll = d2.collocation(corpusquery='norge', word = 'demokrati', before = 10, after = 0)"
   ]
  },
  {
   "cell_type": "code",
   "execution_count": 20,
   "metadata": {},
   "outputs": [
    {
     "data": {
      "text/html": [
       "<div>\n",
       "<style scoped>\n",
       "    .dataframe tbody tr th:only-of-type {\n",
       "        vertical-align: middle;\n",
       "    }\n",
       "\n",
       "    .dataframe tbody tr th {\n",
       "        vertical-align: top;\n",
       "    }\n",
       "\n",
       "    .dataframe thead th {\n",
       "        text-align: right;\n",
       "    }\n",
       "</style>\n",
       "<table border=\"1\" class=\"dataframe\">\n",
       "  <thead>\n",
       "    <tr style=\"text-align: right;\">\n",
       "      <th></th>\n",
       "      <th>counts</th>\n",
       "      <th>dist</th>\n",
       "      <th>bdist</th>\n",
       "    </tr>\n",
       "  </thead>\n",
       "  <tbody>\n",
       "    <tr>\n",
       "      <th>og</th>\n",
       "      <td>8818</td>\n",
       "      <td>37975</td>\n",
       "      <td>4.307823</td>\n",
       "    </tr>\n",
       "    <tr>\n",
       "      <th>,</th>\n",
       "      <td>8621</td>\n",
       "      <td>46654</td>\n",
       "      <td>5.412733</td>\n",
       "    </tr>\n",
       "    <tr>\n",
       "      <th>.</th>\n",
       "      <td>8441</td>\n",
       "      <td>53193</td>\n",
       "      <td>6.302618</td>\n",
       "    </tr>\n",
       "    <tr>\n",
       "      <th>i</th>\n",
       "      <td>5251</td>\n",
       "      <td>28926</td>\n",
       "      <td>5.510375</td>\n",
       "    </tr>\n",
       "    <tr>\n",
       "      <th>et</th>\n",
       "      <td>4198</td>\n",
       "      <td>13417</td>\n",
       "      <td>3.199286</td>\n",
       "    </tr>\n",
       "    <tr>\n",
       "      <th>for</th>\n",
       "      <td>4176</td>\n",
       "      <td>18088</td>\n",
       "      <td>4.334131</td>\n",
       "    </tr>\n",
       "    <tr>\n",
       "      <th>det</th>\n",
       "      <td>4043</td>\n",
       "      <td>19807</td>\n",
       "      <td>4.901607</td>\n",
       "    </tr>\n",
       "    <tr>\n",
       "      <th>som</th>\n",
       "      <td>3458</td>\n",
       "      <td>20682</td>\n",
       "      <td>5.983237</td>\n",
       "    </tr>\n",
       "    <tr>\n",
       "      <th>av</th>\n",
       "      <td>3313</td>\n",
       "      <td>16396</td>\n",
       "      <td>4.952036</td>\n",
       "    </tr>\n",
       "    <tr>\n",
       "      <th>til</th>\n",
       "      <td>3092</td>\n",
       "      <td>15412</td>\n",
       "      <td>4.987718</td>\n",
       "    </tr>\n",
       "    <tr>\n",
       "      <th>om</th>\n",
       "      <td>2921</td>\n",
       "      <td>11729</td>\n",
       "      <td>4.019501</td>\n",
       "    </tr>\n",
       "    <tr>\n",
       "      <th>er</th>\n",
       "      <td>2784</td>\n",
       "      <td>17034</td>\n",
       "      <td>6.121321</td>\n",
       "    </tr>\n",
       "    <tr>\n",
       "      <th>en</th>\n",
       "      <td>2298</td>\n",
       "      <td>14608</td>\n",
       "      <td>6.360000</td>\n",
       "    </tr>\n",
       "    <tr>\n",
       "      <th>å</th>\n",
       "      <td>2101</td>\n",
       "      <td>12986</td>\n",
       "      <td>6.184498</td>\n",
       "    </tr>\n",
       "    <tr>\n",
       "      <th>på</th>\n",
       "      <td>2099</td>\n",
       "      <td>11481</td>\n",
       "      <td>5.474060</td>\n",
       "    </tr>\n",
       "    <tr>\n",
       "      <th>at</th>\n",
       "      <td>2042</td>\n",
       "      <td>11266</td>\n",
       "      <td>5.521526</td>\n",
       "    </tr>\n",
       "    <tr>\n",
       "      <th>:</th>\n",
       "      <td>1975</td>\n",
       "      <td>10308</td>\n",
       "      <td>5.224077</td>\n",
       "    </tr>\n",
       "    <tr>\n",
       "      <th>med</th>\n",
       "      <td>1720</td>\n",
       "      <td>9317</td>\n",
       "      <td>5.422184</td>\n",
       "    </tr>\n",
       "    <tr>\n",
       "      <th>)</th>\n",
       "      <td>1691</td>\n",
       "      <td>9947</td>\n",
       "      <td>5.887183</td>\n",
       "    </tr>\n",
       "    <tr>\n",
       "      <th>«</th>\n",
       "      <td>1546</td>\n",
       "      <td>6853</td>\n",
       "      <td>4.439922</td>\n",
       "    </tr>\n",
       "  </tbody>\n",
       "</table>\n",
       "</div>"
      ],
      "text/plain": [
       "     counts   dist     bdist\n",
       "og     8818  37975  4.307823\n",
       ",      8621  46654  5.412733\n",
       ".      8441  53193  6.302618\n",
       "i      5251  28926  5.510375\n",
       "et     4198  13417  3.199286\n",
       "for    4176  18088  4.334131\n",
       "det    4043  19807  4.901607\n",
       "som    3458  20682  5.983237\n",
       "av     3313  16396  4.952036\n",
       "til    3092  15412  4.987718\n",
       "om     2921  11729  4.019501\n",
       "er     2784  17034  6.121321\n",
       "en     2298  14608  6.360000\n",
       "å      2101  12986  6.184498\n",
       "på     2099  11481  5.474060\n",
       "at     2042  11266  5.521526\n",
       ":      1975  10308  5.224077\n",
       "med    1720   9317  5.422184\n",
       ")      1691   9947  5.887183\n",
       "«      1546   6853  4.439922"
      ]
     },
     "execution_count": 20,
     "metadata": {},
     "output_type": "execute_result"
    }
   ],
   "source": [
    "coll.sort_values(by='counts', ascending = False).head(20)"
   ]
  }
 ],
 "metadata": {
  "kernelspec": {
   "display_name": "Python 3",
   "language": "python",
   "name": "python3"
  },
  "language_info": {
   "codemirror_mode": {
    "name": "ipython",
    "version": 3
   },
   "file_extension": ".py",
   "mimetype": "text/x-python",
   "name": "python",
   "nbconvert_exporter": "python",
   "pygments_lexer": "ipython3",
   "version": "3.8.3"
  }
 },
 "nbformat": 4,
 "nbformat_minor": 4
}

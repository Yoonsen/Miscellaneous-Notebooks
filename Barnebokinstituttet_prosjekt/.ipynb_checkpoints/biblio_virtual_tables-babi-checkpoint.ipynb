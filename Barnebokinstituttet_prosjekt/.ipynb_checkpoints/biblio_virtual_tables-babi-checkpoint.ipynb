{
 "cells": [
  {
   "cell_type": "code",
   "execution_count": 1,
   "metadata": {},
   "outputs": [
    {
     "data": {
      "text/markdown": [
       "Updated file `C:\\Users\\larsj\\Documents\\GitHub\\Miscellaneous-Notebooks\\Barnebokinstituttet_prosjekt\\mods_meta.py`"
      ],
      "text/plain": [
       "<IPython.core.display.Markdown object>"
      ]
     },
     "metadata": {},
     "output_type": "display_data"
    }
   ],
   "source": [
    "import json\n",
    "import sqlite3\n",
    "import requests\n",
    "import pandas as pd\n",
    "\n",
    "import pandas as pd\n",
    "import dhlab.module_update as mu\n",
    "mu.update('mods_meta')\n",
    "import mods_meta as mm\n",
    "import dhlab.nbtext as nb\n",
    "\n"
   ]
  },
  {
   "cell_type": "code",
   "execution_count": 2,
   "metadata": {},
   "outputs": [],
   "source": [
    "x = mm.meta_natbib(children=True, yearfrom =2015, limit=1000)"
   ]
  },
  {
   "cell_type": "code",
   "execution_count": 6,
   "metadata": {},
   "outputs": [
    {
     "data": {
      "text/plain": [
       "{'991504418354702201': {'100-1- -a': 'Strüwer, Ardina',\n",
       "  '245-1-0-a': 'Hest &amp; moro!',\n",
       "  '260- - -c': '2015?',\n",
       "  'lang': 'nob',\n",
       "  'year': 2015}}"
      ]
     },
     "execution_count": 6,
     "metadata": {},
     "output_type": "execute_result"
    }
   ],
   "source": [
    "mm.metadata([x[700][0]])"
   ]
  },
  {
   "cell_type": "code",
   "execution_count": 94,
   "metadata": {},
   "outputs": [
    {
     "name": "stdout",
     "output_type": "stream",
     "text": [
      "0\n",
      "300\n",
      "600\n"
     ]
    }
   ],
   "source": [
    "babi = pd.DataFrame()\n",
    "step = 300\n",
    "for i in range(0, len(x), step):\n",
    "    print(i)\n",
    "    df = nb.get_aggregated_corpus([z[1] for z in x[i:i+step]])\n",
    "    babi = nb.frame(pd.concat([babi, df], axis=1).sum(axis=1))"
   ]
  },
  {
   "cell_type": "code",
   "execution_count": 96,
   "metadata": {},
   "outputs": [
    {
     "data": {
      "text/plain": [
       "0    23843421.0\n",
       "dtype: float64"
      ]
     },
     "execution_count": 96,
     "metadata": {},
     "output_type": "execute_result"
    }
   ],
   "source": [
    "babi.sum()"
   ]
  },
  {
   "cell_type": "code",
   "execution_count": 97,
   "metadata": {},
   "outputs": [
    {
     "data": {
      "text/plain": [
       "0    89.0\n",
       "Name: Pakistan, dtype: float64"
      ]
     },
     "execution_count": 97,
     "metadata": {},
     "output_type": "execute_result"
    }
   ],
   "source": [
    "babi.loc['Pakistan']"
   ]
  },
  {
   "cell_type": "code",
   "execution_count": 102,
   "metadata": {},
   "outputs": [
    {
     "data": {
      "text/plain": [
       ".              1521242.0\n",
       ",               938315.0\n",
       "og              529102.0\n",
       "i               365131.0\n",
       "det             348010.0\n",
       "                 ...    \n",
       "dnømmende            1.0\n",
       "dnittungene          1.0\n",
       "diotsikker           1.0\n",
       "detjjj               1.0\n",
       "02.09.2014           1.0\n",
       "Name: 0, Length: 488632, dtype: float64"
      ]
     },
     "execution_count": 102,
     "metadata": {},
     "output_type": "execute_result"
    }
   ],
   "source": [
    "babi[0]"
   ]
  },
  {
   "cell_type": "code",
   "execution_count": 108,
   "metadata": {},
   "outputs": [
    {
     "data": {
      "text/plain": [
       "0    19.0\n",
       "dtype: float64"
      ]
     },
     "execution_count": 108,
     "metadata": {},
     "output_type": "execute_result"
    }
   ],
   "source": [
    "babi.loc[babi.index.str.contains('pakistan')].sum()"
   ]
  },
  {
   "cell_type": "code",
   "execution_count": 110,
   "metadata": {},
   "outputs": [
    {
     "data": {
      "text/plain": [
       "0    33.0\n",
       "dtype: float64"
      ]
     },
     "execution_count": 110,
     "metadata": {},
     "output_type": "execute_result"
    }
   ],
   "source": [
    "babi.loc[babi.index.str.contains('persisk.*')].sum()"
   ]
  },
  {
   "cell_type": "code",
   "execution_count": 112,
   "metadata": {},
   "outputs": [
    {
     "data": {
      "text/plain": [
       "0    120.0\n",
       "dtype: float64"
      ]
     },
     "execution_count": 112,
     "metadata": {},
     "output_type": "execute_result"
    }
   ],
   "source": [
    "babi.loc[babi.index.str.contains('indisk')].sum()"
   ]
  },
  {
   "cell_type": "code",
   "execution_count": 113,
   "metadata": {},
   "outputs": [
    {
     "data": {
      "text/plain": [
       "0    233.0\n",
       "dtype: float64"
      ]
     },
     "execution_count": 113,
     "metadata": {},
     "output_type": "execute_result"
    }
   ],
   "source": [
    "babi.loc[babi.index.str.contains('kinesisk')].sum()"
   ]
  },
  {
   "cell_type": "code",
   "execution_count": 115,
   "metadata": {},
   "outputs": [
    {
     "data": {
      "text/plain": [
       "0    18.0\n",
       "dtype: float64"
      ]
     },
     "execution_count": 115,
     "metadata": {},
     "output_type": "execute_result"
    }
   ],
   "source": [
    "babi.loc[babi.index.str.contains('koreansk')].sum()"
   ]
  },
  {
   "cell_type": "code",
   "execution_count": 111,
   "metadata": {},
   "outputs": [
    {
     "data": {
      "text/plain": [
       "0    739.0\n",
       "dtype: float64"
      ]
     },
     "execution_count": 111,
     "metadata": {},
     "output_type": "execute_result"
    }
   ],
   "source": [
    "babi.loc[babi.index.str.contains('svensk')].sum()"
   ]
  },
  {
   "cell_type": "code",
   "execution_count": 119,
   "metadata": {},
   "outputs": [
    {
     "data": {
      "text/plain": [
       "0    0.0\n",
       "dtype: float64"
      ]
     },
     "execution_count": 119,
     "metadata": {},
     "output_type": "execute_result"
    }
   ],
   "source": [
    "babi.loc[babi.index.str.contains('tirtilltutt')].sum()"
   ]
  },
  {
   "cell_type": "code",
   "execution_count": 147,
   "metadata": {},
   "outputs": [
    {
     "data": {
      "text/html": [
       "<div>\n",
       "<style scoped>\n",
       "    .dataframe tbody tr th:only-of-type {\n",
       "        vertical-align: middle;\n",
       "    }\n",
       "\n",
       "    .dataframe tbody tr th {\n",
       "        vertical-align: top;\n",
       "    }\n",
       "\n",
       "    .dataframe thead th {\n",
       "        text-align: right;\n",
       "    }\n",
       "</style>\n",
       "<table border=\"1\" class=\"dataframe\">\n",
       "  <thead>\n",
       "    <tr style=\"text-align: right;\">\n",
       "      <th></th>\n",
       "      <th>0</th>\n",
       "    </tr>\n",
       "  </thead>\n",
       "  <tbody>\n",
       "    <tr>\n",
       "      <th>pakistansk</th>\n",
       "      <td>13.0</td>\n",
       "    </tr>\n",
       "    <tr>\n",
       "      <th>urdu</th>\n",
       "      <td>13.0</td>\n",
       "    </tr>\n",
       "    <tr>\n",
       "      <th>pakkis</th>\n",
       "      <td>5.0</td>\n",
       "    </tr>\n",
       "    <tr>\n",
       "      <th>kebab</th>\n",
       "      <td>29.0</td>\n",
       "    </tr>\n",
       "    <tr>\n",
       "      <th>persisk</th>\n",
       "      <td>33.0</td>\n",
       "    </tr>\n",
       "    <tr>\n",
       "      <th>indisk</th>\n",
       "      <td>120.0</td>\n",
       "    </tr>\n",
       "    <tr>\n",
       "      <th>kinesisk</th>\n",
       "      <td>233.0</td>\n",
       "    </tr>\n",
       "    <tr>\n",
       "      <th>dansk</th>\n",
       "      <td>416.0</td>\n",
       "    </tr>\n",
       "    <tr>\n",
       "      <th>fransk</th>\n",
       "      <td>711.0</td>\n",
       "    </tr>\n",
       "    <tr>\n",
       "      <th>tysk</th>\n",
       "      <td>1002.0</td>\n",
       "    </tr>\n",
       "    <tr>\n",
       "      <th>svensk</th>\n",
       "      <td>739.0</td>\n",
       "    </tr>\n",
       "    <tr>\n",
       "      <th>norsk</th>\n",
       "      <td>2549.0</td>\n",
       "    </tr>\n",
       "    <tr>\n",
       "      <th>amerikan</th>\n",
       "      <td>690.0</td>\n",
       "    </tr>\n",
       "  </tbody>\n",
       "</table>\n",
       "</div>"
      ],
      "text/plain": [
       "                 0\n",
       "pakistansk    13.0\n",
       "urdu          13.0\n",
       "pakkis         5.0\n",
       "kebab         29.0\n",
       "persisk       33.0\n",
       "indisk       120.0\n",
       "kinesisk     233.0\n",
       "dansk        416.0\n",
       "fransk       711.0\n",
       "tysk        1002.0\n",
       "svensk       739.0\n",
       "norsk       2549.0\n",
       "amerikan     690.0"
      ]
     },
     "execution_count": 147,
     "metadata": {},
     "output_type": "execute_result"
    }
   ],
   "source": [
    "nasjonal = {w:float(babi.loc[babi.index.str.contains(w)].sum()) for w in \"pakistansk urdu pakkis kebab persisk indisk kinesisk dansk fransk tysk svensk norsk amerikan\".split() }\n",
    "nb.frame(nasjonal)"
   ]
  },
  {
   "cell_type": "code",
   "execution_count": 134,
   "metadata": {},
   "outputs": [
    {
     "data": {
      "text/html": [
       "<style  type=\"text/css\" >\n",
       "    #T_0fd42a32_62bc_11ea_914d_3417ebae8530row0_col0 {\n",
       "            background-color:  #fff7fb;\n",
       "            color:  #000000;\n",
       "        }    #T_0fd42a32_62bc_11ea_914d_3417ebae8530row1_col0 {\n",
       "            background-color:  #faf3f9;\n",
       "            color:  #000000;\n",
       "        }    #T_0fd42a32_62bc_11ea_914d_3417ebae8530row2_col0 {\n",
       "            background-color:  #f3edf5;\n",
       "            color:  #000000;\n",
       "        }    #T_0fd42a32_62bc_11ea_914d_3417ebae8530row3_col0 {\n",
       "            background-color:  #e7e3f0;\n",
       "            color:  #000000;\n",
       "        }    #T_0fd42a32_62bc_11ea_914d_3417ebae8530row4_col0 {\n",
       "            background-color:  #cacee5;\n",
       "            color:  #000000;\n",
       "        }    #T_0fd42a32_62bc_11ea_914d_3417ebae8530row5_col0 {\n",
       "            background-color:  #a2bcda;\n",
       "            color:  #000000;\n",
       "        }    #T_0fd42a32_62bc_11ea_914d_3417ebae8530row6_col0 {\n",
       "            background-color:  #c6cce3;\n",
       "            color:  #000000;\n",
       "        }    #T_0fd42a32_62bc_11ea_914d_3417ebae8530row7_col0 {\n",
       "            background-color:  #023858;\n",
       "            color:  #f1f1f1;\n",
       "        }    #T_0fd42a32_62bc_11ea_914d_3417ebae8530row8_col0 {\n",
       "            background-color:  #d9d8ea;\n",
       "            color:  #000000;\n",
       "        }</style><table id=\"T_0fd42a32_62bc_11ea_914d_3417ebae8530\" ><thead>    <tr>        <th class=\"blank level0\" ></th>        <th class=\"col_heading level0 col0\" >0</th>    </tr></thead><tbody>\n",
       "                <tr>\n",
       "                        <th id=\"T_0fd42a32_62bc_11ea_914d_3417ebae8530level0_row0\" class=\"row_heading level0 row0\" >persisk</th>\n",
       "                        <td id=\"T_0fd42a32_62bc_11ea_914d_3417ebae8530row0_col0\" class=\"data row0 col0\" >33.000000</td>\n",
       "            </tr>\n",
       "            <tr>\n",
       "                        <th id=\"T_0fd42a32_62bc_11ea_914d_3417ebae8530level0_row1\" class=\"row_heading level0 row1\" >indisk</th>\n",
       "                        <td id=\"T_0fd42a32_62bc_11ea_914d_3417ebae8530row1_col0\" class=\"data row1 col0\" >120.000000</td>\n",
       "            </tr>\n",
       "            <tr>\n",
       "                        <th id=\"T_0fd42a32_62bc_11ea_914d_3417ebae8530level0_row2\" class=\"row_heading level0 row2\" >kinesisk</th>\n",
       "                        <td id=\"T_0fd42a32_62bc_11ea_914d_3417ebae8530row2_col0\" class=\"data row2 col0\" >233.000000</td>\n",
       "            </tr>\n",
       "            <tr>\n",
       "                        <th id=\"T_0fd42a32_62bc_11ea_914d_3417ebae8530level0_row3\" class=\"row_heading level0 row3\" >dansk</th>\n",
       "                        <td id=\"T_0fd42a32_62bc_11ea_914d_3417ebae8530row3_col0\" class=\"data row3 col0\" >416.000000</td>\n",
       "            </tr>\n",
       "            <tr>\n",
       "                        <th id=\"T_0fd42a32_62bc_11ea_914d_3417ebae8530level0_row4\" class=\"row_heading level0 row4\" >fransk</th>\n",
       "                        <td id=\"T_0fd42a32_62bc_11ea_914d_3417ebae8530row4_col0\" class=\"data row4 col0\" >711.000000</td>\n",
       "            </tr>\n",
       "            <tr>\n",
       "                        <th id=\"T_0fd42a32_62bc_11ea_914d_3417ebae8530level0_row5\" class=\"row_heading level0 row5\" >tysk</th>\n",
       "                        <td id=\"T_0fd42a32_62bc_11ea_914d_3417ebae8530row5_col0\" class=\"data row5 col0\" >1002.000000</td>\n",
       "            </tr>\n",
       "            <tr>\n",
       "                        <th id=\"T_0fd42a32_62bc_11ea_914d_3417ebae8530level0_row6\" class=\"row_heading level0 row6\" >svensk</th>\n",
       "                        <td id=\"T_0fd42a32_62bc_11ea_914d_3417ebae8530row6_col0\" class=\"data row6 col0\" >739.000000</td>\n",
       "            </tr>\n",
       "            <tr>\n",
       "                        <th id=\"T_0fd42a32_62bc_11ea_914d_3417ebae8530level0_row7\" class=\"row_heading level0 row7\" >norsk</th>\n",
       "                        <td id=\"T_0fd42a32_62bc_11ea_914d_3417ebae8530row7_col0\" class=\"data row7 col0\" >2549.000000</td>\n",
       "            </tr>\n",
       "            <tr>\n",
       "                        <th id=\"T_0fd42a32_62bc_11ea_914d_3417ebae8530level0_row8\" class=\"row_heading level0 row8\" >amerikansk</th>\n",
       "                        <td id=\"T_0fd42a32_62bc_11ea_914d_3417ebae8530row8_col0\" class=\"data row8 col0\" >554.000000</td>\n",
       "            </tr>\n",
       "    </tbody></table>"
      ],
      "text/plain": [
       "<pandas.io.formats.style.Styler at 0x7f5da67d16a0>"
      ]
     },
     "execution_count": 134,
     "metadata": {},
     "output_type": "execute_result"
    }
   ],
   "source": [
    "nb.frame(nasjonal).style.background_gradient()"
   ]
  },
  {
   "cell_type": "code",
   "execution_count": 146,
   "metadata": {},
   "outputs": [
    {
     "data": {
      "text/html": [
       "<div>\n",
       "<style scoped>\n",
       "    .dataframe tbody tr th:only-of-type {\n",
       "        vertical-align: middle;\n",
       "    }\n",
       "\n",
       "    .dataframe tbody tr th {\n",
       "        vertical-align: top;\n",
       "    }\n",
       "\n",
       "    .dataframe thead th {\n",
       "        text-align: right;\n",
       "    }\n",
       "</style>\n",
       "<table border=\"1\" class=\"dataframe\">\n",
       "  <thead>\n",
       "    <tr style=\"text-align: right;\">\n",
       "      <th></th>\n",
       "      <th>0</th>\n",
       "    </tr>\n",
       "  </thead>\n",
       "  <tbody>\n",
       "    <tr>\n",
       "      <th>lesbisk</th>\n",
       "      <td>19.0</td>\n",
       "    </tr>\n",
       "    <tr>\n",
       "      <th>homo</th>\n",
       "      <td>428.0</td>\n",
       "    </tr>\n",
       "    <tr>\n",
       "      <th>homse</th>\n",
       "      <td>57.0</td>\n",
       "    </tr>\n",
       "    <tr>\n",
       "      <th>trans</th>\n",
       "      <td>744.0</td>\n",
       "    </tr>\n",
       "    <tr>\n",
       "      <th>lesbe</th>\n",
       "      <td>11.0</td>\n",
       "    </tr>\n",
       "    <tr>\n",
       "      <th>hetero</th>\n",
       "      <td>44.0</td>\n",
       "    </tr>\n",
       "    <tr>\n",
       "      <th>straight</th>\n",
       "      <td>47.0</td>\n",
       "    </tr>\n",
       "  </tbody>\n",
       "</table>\n",
       "</div>"
      ],
      "text/plain": [
       "              0\n",
       "lesbisk    19.0\n",
       "homo      428.0\n",
       "homse      57.0\n",
       "trans     744.0\n",
       "lesbe      11.0\n",
       "hetero     44.0\n",
       "straight   47.0"
      ]
     },
     "execution_count": 146,
     "metadata": {},
     "output_type": "execute_result"
    }
   ],
   "source": [
    "seksuell = {w:float(babi.loc[babi.index.str.contains(w)].sum()) for w in \"lesbisk homo homse trans lesbe hetero straight\".split() }\n",
    "nb.frame(seksuell)"
   ]
  },
  {
   "cell_type": "code",
   "execution_count": 133,
   "metadata": {},
   "outputs": [
    {
     "data": {
      "text/html": [
       "<div>\n",
       "<style scoped>\n",
       "    .dataframe tbody tr th:only-of-type {\n",
       "        vertical-align: middle;\n",
       "    }\n",
       "\n",
       "    .dataframe tbody tr th {\n",
       "        vertical-align: top;\n",
       "    }\n",
       "\n",
       "    .dataframe thead th {\n",
       "        text-align: right;\n",
       "    }\n",
       "</style>\n",
       "<table border=\"1\" class=\"dataframe\">\n",
       "  <thead>\n",
       "    <tr style=\"text-align: right;\">\n",
       "      <th></th>\n",
       "      <th>0</th>\n",
       "    </tr>\n",
       "  </thead>\n",
       "  <tbody>\n",
       "    <tr>\n",
       "      <th>blind</th>\n",
       "      <td>1486.0</td>\n",
       "    </tr>\n",
       "    <tr>\n",
       "      <th>døv</th>\n",
       "      <td>782.0</td>\n",
       "    </tr>\n",
       "    <tr>\n",
       "      <th>amputert</th>\n",
       "      <td>13.0</td>\n",
       "    </tr>\n",
       "    <tr>\n",
       "      <th>svaksynt</th>\n",
       "      <td>8.0</td>\n",
       "    </tr>\n",
       "    <tr>\n",
       "      <th>albino</th>\n",
       "      <td>11.0</td>\n",
       "    </tr>\n",
       "    <tr>\n",
       "      <th>tunghørt</th>\n",
       "      <td>6.0</td>\n",
       "    </tr>\n",
       "  </tbody>\n",
       "</table>\n",
       "</div>"
      ],
      "text/plain": [
       "               0\n",
       "blind     1486.0\n",
       "døv        782.0\n",
       "amputert    13.0\n",
       "svaksynt     8.0\n",
       "albino      11.0\n",
       "tunghørt     6.0"
      ]
     },
     "execution_count": 133,
     "metadata": {},
     "output_type": "execute_result"
    }
   ],
   "source": [
    "handicap = {w:float(babi.loc[babi.index.str.contains(w)].sum()) for w in \"blind døv amputert svaksynt albino tunghørt\".split() }\n",
    "nb.frame(handicap)"
   ]
  },
  {
   "cell_type": "code",
   "execution_count": 151,
   "metadata": {},
   "outputs": [
    {
     "data": {
      "text/html": [
       "<div>\n",
       "<style scoped>\n",
       "    .dataframe tbody tr th:only-of-type {\n",
       "        vertical-align: middle;\n",
       "    }\n",
       "\n",
       "    .dataframe tbody tr th {\n",
       "        vertical-align: top;\n",
       "    }\n",
       "\n",
       "    .dataframe thead th {\n",
       "        text-align: right;\n",
       "    }\n",
       "</style>\n",
       "<table border=\"1\" class=\"dataframe\">\n",
       "  <thead>\n",
       "    <tr style=\"text-align: right;\">\n",
       "      <th></th>\n",
       "      <th>0</th>\n",
       "    </tr>\n",
       "  </thead>\n",
       "  <tbody>\n",
       "    <tr>\n",
       "      <th>øyne</th>\n",
       "      <td>17555.0</td>\n",
       "    </tr>\n",
       "    <tr>\n",
       "      <th>skuldr</th>\n",
       "      <td>4436.0</td>\n",
       "    </tr>\n",
       "    <tr>\n",
       "      <th>lår</th>\n",
       "      <td>3517.0</td>\n",
       "    </tr>\n",
       "    <tr>\n",
       "      <th>midje</th>\n",
       "      <td>131.0</td>\n",
       "    </tr>\n",
       "    <tr>\n",
       "      <th>mave</th>\n",
       "      <td>14.0</td>\n",
       "    </tr>\n",
       "    <tr>\n",
       "      <th>mage</th>\n",
       "      <td>5352.0</td>\n",
       "    </tr>\n",
       "    <tr>\n",
       "      <th>hofte</th>\n",
       "      <td>541.0</td>\n",
       "    </tr>\n",
       "    <tr>\n",
       "      <th>rumpe</th>\n",
       "      <td>279.0</td>\n",
       "    </tr>\n",
       "    <tr>\n",
       "      <th>rygg</th>\n",
       "      <td>11890.0</td>\n",
       "    </tr>\n",
       "    <tr>\n",
       "      <th>skulder</th>\n",
       "      <td>4230.0</td>\n",
       "    </tr>\n",
       "    <tr>\n",
       "      <th>hår</th>\n",
       "      <td>10830.0</td>\n",
       "    </tr>\n",
       "  </tbody>\n",
       "</table>\n",
       "</div>"
      ],
      "text/plain": [
       "               0\n",
       "øyne     17555.0\n",
       "skuldr    4436.0\n",
       "lår       3517.0\n",
       "midje      131.0\n",
       "mave        14.0\n",
       "mage      5352.0\n",
       "hofte      541.0\n",
       "rumpe      279.0\n",
       "rygg     11890.0\n",
       "skulder   4230.0\n",
       "hår      10830.0"
      ]
     },
     "execution_count": 151,
     "metadata": {},
     "output_type": "execute_result"
    }
   ],
   "source": [
    "kropp = {w:float(babi.loc[babi.index.str.contains(w)].sum()) for w in \"øyne skuldr lår midje mave mage hofte rumpe rygg skulder hår \".split() }\n",
    "nb.frame(kropp)"
   ]
  },
  {
   "cell_type": "code",
   "execution_count": 129,
   "metadata": {},
   "outputs": [
    {
     "data": {
      "text/plain": [
       "{'ung': 19730.0,\n",
       " 'gammel': 4684.0,\n",
       " 'stykk': 5592.0,\n",
       " 'vakker': 1534.0,\n",
       " 'pen': 57747.0,\n",
       " 'frastøtende': 35.0,\n",
       " 'fæl': 859.0}"
      ]
     },
     "execution_count": 129,
     "metadata": {},
     "output_type": "execute_result"
    }
   ],
   "source": [
    "{w:float(babi.loc[babi.index.str.contains(w)].sum()) for w in \"ung gammel stykk vakker pen frastøtende fæl\".split() }"
   ]
  },
  {
   "cell_type": "code",
   "execution_count": 136,
   "metadata": {},
   "outputs": [],
   "source": [
    "hm = lambda x: nb.heatmap(nb.frame(x))"
   ]
  },
  {
   "cell_type": "code",
   "execution_count": 137,
   "metadata": {},
   "outputs": [
    {
     "data": {
      "text/html": [
       "<style  type=\"text/css\" >\n",
       "    #T_43176814_62bc_11ea_914d_3417ebae8530row0_col0 {\n",
       "            background-color:  #e5ffe5;\n",
       "            color:  #000000;\n",
       "        }    #T_43176814_62bc_11ea_914d_3417ebae8530row1_col0 {\n",
       "            background-color:  #defbde;\n",
       "            color:  #000000;\n",
       "        }    #T_43176814_62bc_11ea_914d_3417ebae8530row2_col0 {\n",
       "            background-color:  #d3f5d3;\n",
       "            color:  #000000;\n",
       "        }    #T_43176814_62bc_11ea_914d_3417ebae8530row3_col0 {\n",
       "            background-color:  #c3ecc3;\n",
       "            color:  #000000;\n",
       "        }    #T_43176814_62bc_11ea_914d_3417ebae8530row4_col0 {\n",
       "            background-color:  #a8dda8;\n",
       "            color:  #000000;\n",
       "        }    #T_43176814_62bc_11ea_914d_3417ebae8530row5_col0 {\n",
       "            background-color:  #8dce8d;\n",
       "            color:  #000000;\n",
       "        }    #T_43176814_62bc_11ea_914d_3417ebae8530row6_col0 {\n",
       "            background-color:  #a6dca6;\n",
       "            color:  #000000;\n",
       "        }    #T_43176814_62bc_11ea_914d_3417ebae8530row7_col0 {\n",
       "            background-color:  #008000;\n",
       "            color:  #f1f1f1;\n",
       "        }    #T_43176814_62bc_11ea_914d_3417ebae8530row8_col0 {\n",
       "            background-color:  #b6e5b6;\n",
       "            color:  #000000;\n",
       "        }</style><table id=\"T_43176814_62bc_11ea_914d_3417ebae8530\" ><thead>    <tr>        <th class=\"blank level0\" ></th>        <th class=\"col_heading level0 col0\" >0</th>    </tr></thead><tbody>\n",
       "                <tr>\n",
       "                        <th id=\"T_43176814_62bc_11ea_914d_3417ebae8530level0_row0\" class=\"row_heading level0 row0\" >persisk</th>\n",
       "                        <td id=\"T_43176814_62bc_11ea_914d_3417ebae8530row0_col0\" class=\"data row0 col0\" >33.000000</td>\n",
       "            </tr>\n",
       "            <tr>\n",
       "                        <th id=\"T_43176814_62bc_11ea_914d_3417ebae8530level0_row1\" class=\"row_heading level0 row1\" >indisk</th>\n",
       "                        <td id=\"T_43176814_62bc_11ea_914d_3417ebae8530row1_col0\" class=\"data row1 col0\" >120.000000</td>\n",
       "            </tr>\n",
       "            <tr>\n",
       "                        <th id=\"T_43176814_62bc_11ea_914d_3417ebae8530level0_row2\" class=\"row_heading level0 row2\" >kinesisk</th>\n",
       "                        <td id=\"T_43176814_62bc_11ea_914d_3417ebae8530row2_col0\" class=\"data row2 col0\" >233.000000</td>\n",
       "            </tr>\n",
       "            <tr>\n",
       "                        <th id=\"T_43176814_62bc_11ea_914d_3417ebae8530level0_row3\" class=\"row_heading level0 row3\" >dansk</th>\n",
       "                        <td id=\"T_43176814_62bc_11ea_914d_3417ebae8530row3_col0\" class=\"data row3 col0\" >416.000000</td>\n",
       "            </tr>\n",
       "            <tr>\n",
       "                        <th id=\"T_43176814_62bc_11ea_914d_3417ebae8530level0_row4\" class=\"row_heading level0 row4\" >fransk</th>\n",
       "                        <td id=\"T_43176814_62bc_11ea_914d_3417ebae8530row4_col0\" class=\"data row4 col0\" >711.000000</td>\n",
       "            </tr>\n",
       "            <tr>\n",
       "                        <th id=\"T_43176814_62bc_11ea_914d_3417ebae8530level0_row5\" class=\"row_heading level0 row5\" >tysk</th>\n",
       "                        <td id=\"T_43176814_62bc_11ea_914d_3417ebae8530row5_col0\" class=\"data row5 col0\" >1002.000000</td>\n",
       "            </tr>\n",
       "            <tr>\n",
       "                        <th id=\"T_43176814_62bc_11ea_914d_3417ebae8530level0_row6\" class=\"row_heading level0 row6\" >svensk</th>\n",
       "                        <td id=\"T_43176814_62bc_11ea_914d_3417ebae8530row6_col0\" class=\"data row6 col0\" >739.000000</td>\n",
       "            </tr>\n",
       "            <tr>\n",
       "                        <th id=\"T_43176814_62bc_11ea_914d_3417ebae8530level0_row7\" class=\"row_heading level0 row7\" >norsk</th>\n",
       "                        <td id=\"T_43176814_62bc_11ea_914d_3417ebae8530row7_col0\" class=\"data row7 col0\" >2549.000000</td>\n",
       "            </tr>\n",
       "            <tr>\n",
       "                        <th id=\"T_43176814_62bc_11ea_914d_3417ebae8530level0_row8\" class=\"row_heading level0 row8\" >amerikansk</th>\n",
       "                        <td id=\"T_43176814_62bc_11ea_914d_3417ebae8530row8_col0\" class=\"data row8 col0\" >554.000000</td>\n",
       "            </tr>\n",
       "    </tbody></table>"
      ],
      "text/plain": [
       "<pandas.io.formats.style.Styler at 0x7f5da5ea3f70>"
      ]
     },
     "execution_count": 137,
     "metadata": {},
     "output_type": "execute_result"
    }
   ],
   "source": [
    "hm(nasjonal)"
   ]
  },
  {
   "cell_type": "code",
   "execution_count": 139,
   "metadata": {},
   "outputs": [
    {
     "data": {
      "text/html": [
       "<style  type=\"text/css\" >\n",
       "    #T_4ce3add0_62bc_11ea_914d_3417ebae8530row0_col0 {\n",
       "            background-color:  #e2fde2;\n",
       "            color:  #000000;\n",
       "        }    #T_4ce3add0_62bc_11ea_914d_3417ebae8530row1_col0 {\n",
       "            background-color:  #008000;\n",
       "            color:  #f1f1f1;\n",
       "        }    #T_4ce3add0_62bc_11ea_914d_3417ebae8530row2_col0 {\n",
       "            background-color:  #ccf1cc;\n",
       "            color:  #000000;\n",
       "        }    #T_4ce3add0_62bc_11ea_914d_3417ebae8530row3_col0 {\n",
       "            background-color:  #e5ffe5;\n",
       "            color:  #000000;\n",
       "        }    #T_4ce3add0_62bc_11ea_914d_3417ebae8530row4_col0 {\n",
       "            background-color:  #d3f5d3;\n",
       "            color:  #000000;\n",
       "        }    #T_4ce3add0_62bc_11ea_914d_3417ebae8530row5_col0 {\n",
       "            background-color:  #d2f4d2;\n",
       "            color:  #000000;\n",
       "        }</style><table id=\"T_4ce3add0_62bc_11ea_914d_3417ebae8530\" ><thead>    <tr>        <th class=\"blank level0\" ></th>        <th class=\"col_heading level0 col0\" >0</th>    </tr></thead><tbody>\n",
       "                <tr>\n",
       "                        <th id=\"T_4ce3add0_62bc_11ea_914d_3417ebae8530level0_row0\" class=\"row_heading level0 row0\" >lesbisk</th>\n",
       "                        <td id=\"T_4ce3add0_62bc_11ea_914d_3417ebae8530row0_col0\" class=\"data row0 col0\" >19.000000</td>\n",
       "            </tr>\n",
       "            <tr>\n",
       "                        <th id=\"T_4ce3add0_62bc_11ea_914d_3417ebae8530level0_row1\" class=\"row_heading level0 row1\" >homo</th>\n",
       "                        <td id=\"T_4ce3add0_62bc_11ea_914d_3417ebae8530row1_col0\" class=\"data row1 col0\" >428.000000</td>\n",
       "            </tr>\n",
       "            <tr>\n",
       "                        <th id=\"T_4ce3add0_62bc_11ea_914d_3417ebae8530level0_row2\" class=\"row_heading level0 row2\" >homse</th>\n",
       "                        <td id=\"T_4ce3add0_62bc_11ea_914d_3417ebae8530row2_col0\" class=\"data row2 col0\" >57.000000</td>\n",
       "            </tr>\n",
       "            <tr>\n",
       "                        <th id=\"T_4ce3add0_62bc_11ea_914d_3417ebae8530level0_row3\" class=\"row_heading level0 row3\" >lesbe</th>\n",
       "                        <td id=\"T_4ce3add0_62bc_11ea_914d_3417ebae8530row3_col0\" class=\"data row3 col0\" >11.000000</td>\n",
       "            </tr>\n",
       "            <tr>\n",
       "                        <th id=\"T_4ce3add0_62bc_11ea_914d_3417ebae8530level0_row4\" class=\"row_heading level0 row4\" >hetero</th>\n",
       "                        <td id=\"T_4ce3add0_62bc_11ea_914d_3417ebae8530row4_col0\" class=\"data row4 col0\" >44.000000</td>\n",
       "            </tr>\n",
       "            <tr>\n",
       "                        <th id=\"T_4ce3add0_62bc_11ea_914d_3417ebae8530level0_row5\" class=\"row_heading level0 row5\" >straight</th>\n",
       "                        <td id=\"T_4ce3add0_62bc_11ea_914d_3417ebae8530row5_col0\" class=\"data row5 col0\" >47.000000</td>\n",
       "            </tr>\n",
       "    </tbody></table>"
      ],
      "text/plain": [
       "<pandas.io.formats.style.Styler at 0x7f5da5ea3850>"
      ]
     },
     "execution_count": 139,
     "metadata": {},
     "output_type": "execute_result"
    }
   ],
   "source": [
    "hm(seksuell)"
   ]
  },
  {
   "cell_type": "code",
   "execution_count": 140,
   "metadata": {},
   "outputs": [
    {
     "data": {
      "text/html": [
       "<style  type=\"text/css\" >\n",
       "    #T_53e7a42e_62bc_11ea_914d_3417ebae8530row0_col0 {\n",
       "            background-color:  #008000;\n",
       "            color:  #f1f1f1;\n",
       "        }    #T_53e7a42e_62bc_11ea_914d_3417ebae8530row1_col0 {\n",
       "            background-color:  #6dbc6d;\n",
       "            color:  #000000;\n",
       "        }    #T_53e7a42e_62bc_11ea_914d_3417ebae8530row2_col0 {\n",
       "            background-color:  #e5ffe5;\n",
       "            color:  #000000;\n",
       "        }    #T_53e7a42e_62bc_11ea_914d_3417ebae8530row3_col0 {\n",
       "            background-color:  #e5ffe5;\n",
       "            color:  #000000;\n",
       "        }    #T_53e7a42e_62bc_11ea_914d_3417ebae8530row4_col0 {\n",
       "            background-color:  #e5ffe5;\n",
       "            color:  #000000;\n",
       "        }    #T_53e7a42e_62bc_11ea_914d_3417ebae8530row5_col0 {\n",
       "            background-color:  #e5ffe5;\n",
       "            color:  #000000;\n",
       "        }</style><table id=\"T_53e7a42e_62bc_11ea_914d_3417ebae8530\" ><thead>    <tr>        <th class=\"blank level0\" ></th>        <th class=\"col_heading level0 col0\" >0</th>    </tr></thead><tbody>\n",
       "                <tr>\n",
       "                        <th id=\"T_53e7a42e_62bc_11ea_914d_3417ebae8530level0_row0\" class=\"row_heading level0 row0\" >blind</th>\n",
       "                        <td id=\"T_53e7a42e_62bc_11ea_914d_3417ebae8530row0_col0\" class=\"data row0 col0\" >1486.000000</td>\n",
       "            </tr>\n",
       "            <tr>\n",
       "                        <th id=\"T_53e7a42e_62bc_11ea_914d_3417ebae8530level0_row1\" class=\"row_heading level0 row1\" >døv</th>\n",
       "                        <td id=\"T_53e7a42e_62bc_11ea_914d_3417ebae8530row1_col0\" class=\"data row1 col0\" >782.000000</td>\n",
       "            </tr>\n",
       "            <tr>\n",
       "                        <th id=\"T_53e7a42e_62bc_11ea_914d_3417ebae8530level0_row2\" class=\"row_heading level0 row2\" >amputert</th>\n",
       "                        <td id=\"T_53e7a42e_62bc_11ea_914d_3417ebae8530row2_col0\" class=\"data row2 col0\" >13.000000</td>\n",
       "            </tr>\n",
       "            <tr>\n",
       "                        <th id=\"T_53e7a42e_62bc_11ea_914d_3417ebae8530level0_row3\" class=\"row_heading level0 row3\" >svaksynt</th>\n",
       "                        <td id=\"T_53e7a42e_62bc_11ea_914d_3417ebae8530row3_col0\" class=\"data row3 col0\" >8.000000</td>\n",
       "            </tr>\n",
       "            <tr>\n",
       "                        <th id=\"T_53e7a42e_62bc_11ea_914d_3417ebae8530level0_row4\" class=\"row_heading level0 row4\" >albino</th>\n",
       "                        <td id=\"T_53e7a42e_62bc_11ea_914d_3417ebae8530row4_col0\" class=\"data row4 col0\" >11.000000</td>\n",
       "            </tr>\n",
       "            <tr>\n",
       "                        <th id=\"T_53e7a42e_62bc_11ea_914d_3417ebae8530level0_row5\" class=\"row_heading level0 row5\" >tunghørt</th>\n",
       "                        <td id=\"T_53e7a42e_62bc_11ea_914d_3417ebae8530row5_col0\" class=\"data row5 col0\" >6.000000</td>\n",
       "            </tr>\n",
       "    </tbody></table>"
      ],
      "text/plain": [
       "<pandas.io.formats.style.Styler at 0x7f5da5ea34c0>"
      ]
     },
     "execution_count": 140,
     "metadata": {},
     "output_type": "execute_result"
    }
   ],
   "source": [
    "hm(handicap)"
   ]
  },
  {
   "cell_type": "code",
   "execution_count": null,
   "metadata": {},
   "outputs": [],
   "source": []
  },
  {
   "cell_type": "code",
   "execution_count": 145,
   "metadata": {},
   "outputs": [
    {
     "data": {
      "text/plain": [
       "[(991441748124702201, 245, 1, 0, 'a', 'Robinson Crusoe'),\n",
       " (991441748124702201,\n",
       "  245,\n",
       "  1,\n",
       "  0,\n",
       "  'c',\n",
       "  'Daniel Defoe ; gjenfortalt av Wolfgang Knape ; med fargebilder av Ute Thönissen ; [oversatt av Øystein Rosse]'),\n",
       " (991441748124702201, 100, 1, ' ', '0', '(NO-TrBIB)90252770'),\n",
       " (991441748124702201, 100, 1, ' ', '4', 'aut'),\n",
       " (991441748124702201, 100, 1, ' ', 'a', 'Knape, Wolfgang'),\n",
       " (991441748124702201, 100, 1, ' ', 'd', '1947-,')]"
      ]
     },
     "execution_count": 145,
     "metadata": {},
     "output_type": "execute_result"
    }
   ],
   "source": [
    "metadata(x[410][1])"
   ]
  },
  {
   "cell_type": "code",
   "execution_count": null,
   "metadata": {},
   "outputs": [],
   "source": []
  }
 ],
 "metadata": {
  "kernelspec": {
   "display_name": "Python 3",
   "language": "python",
   "name": "python3"
  },
  "language_info": {
   "codemirror_mode": {
    "name": "ipython",
    "version": 3
   },
   "file_extension": ".py",
   "mimetype": "text/x-python",
   "name": "python",
   "nbconvert_exporter": "python",
   "pygments_lexer": "ipython3",
   "version": "3.7.4"
  }
 },
 "nbformat": 4,
 "nbformat_minor": 2
}

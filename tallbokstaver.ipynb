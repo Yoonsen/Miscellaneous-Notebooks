{
 "cells": [
  {
   "cell_type": "code",
   "execution_count": 12,
   "id": "16a3f17e",
   "metadata": {},
   "outputs": [],
   "source": [
    "alfabet = \"abcdefghijklmnopqrstuvwxyzæøå\"\n",
    "tall = \"en to tre fire fem seks syv åtte ni ti elleve tolv tretten fjorten seksten sytten atten nitten tyve tjue tredve førti femti seksti sytti søtti åtti nitti hundre tusen million milliard billion trillion\""
   ]
  },
  {
   "cell_type": "code",
   "execution_count": 13,
   "id": "3284f8fd",
   "metadata": {},
   "outputs": [
    {
     "data": {
      "text/plain": [
       "{'c', 'g', 'p', 'q', 'w', 'x', 'z', 'æ'}"
      ]
     },
     "execution_count": 13,
     "metadata": {},
     "output_type": "execute_result"
    }
   ],
   "source": [
    "set(alfabet) - set(tall.replace(' ', ''))"
   ]
  },
  {
   "cell_type": "code",
   "execution_count": 16,
   "id": "f0fbe30e",
   "metadata": {},
   "outputs": [],
   "source": [
    "from collections import Counter\n",
    "import pandas as pd"
   ]
  },
  {
   "cell_type": "code",
   "execution_count": 18,
   "id": "fd9aa5af",
   "metadata": {},
   "outputs": [
    {
     "data": {
      "text/plain": [
       "<AxesSubplot:xlabel='0'>"
      ]
     },
     "execution_count": 18,
     "metadata": {},
     "output_type": "execute_result"
    },
    {
     "data": {
      "image/png": "[encoded data removed]",
      "text/plain": [
       "<Figure size 432x288 with 1 Axes>"
      ]
     },
     "metadata": {
      "needs_background": "light"
     },
     "output_type": "display_data"
    }
   ],
   "source": [
    "pd.DataFrame(Counter(list(tall.replace(' ', ''))).most_common()).set_index(0).plot()"
   ]
  },
  {
   "cell_type": "code",
   "execution_count": null,
   "id": "9e08a82c",
   "metadata": {},
   "outputs": [],
   "source": []
  }
 ],
 "metadata": {
  "kernelspec": {
   "display_name": "Python 3",
   "language": "python",
   "name": "python3"
  },
  "language_info": {
   "codemirror_mode": {
    "name": "ipython",
    "version": 3
   },
   "file_extension": ".py",
   "mimetype": "text/x-python",
   "name": "python",
   "nbconvert_exporter": "python",
   "pygments_lexer": "ipython3",
   "version": "3.8.10"
  }
 },
 "nbformat": 4,
 "nbformat_minor": 5
}

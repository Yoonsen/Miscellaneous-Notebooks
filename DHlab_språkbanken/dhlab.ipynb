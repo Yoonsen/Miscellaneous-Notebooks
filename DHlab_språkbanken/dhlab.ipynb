{
 "cells": [
  {
   "cell_type": "code",
   "execution_count": 8,
   "metadata": {},
   "outputs": [],
   "source": [
    "import dhlab.module_update as mu\n",
    "mu.update('dhlab_v2', silent = True)\n",
    "import pandas as pd\n",
    "import dhlab_v2 as d2"
   ]
  },
  {
   "cell_type": "code",
   "execution_count": 6,
   "metadata": {},
   "outputs": [
    {
     "data": {
      "text/html": [
       "<style>p {\n",
       "    font-size:1.6em;\n",
       "    color : #223355;\n",
       "}\n",
       "h1, h2, h3, h4, h5, h6 {\n",
       "    color:#3344aa;\n",
       "    \n",
       "}\n",
       "html {\n",
       "    margin-left:10%;\n",
       "    margin-right:5%;\n",
       "}\n",
       "\n",
       "body {\n",
       "    counter-reset: h2counter;\n",
       "}\n",
       "h1 {\n",
       "    counter-reset: h2counter;\n",
       "}\n",
       "h2:before {\n",
       "    content: counter(h2counter) \".\\0000a0\\0000a0\";\n",
       "    counter-increment: h2counter;\n",
       "    counter-reset: h3counter;\n",
       "}\n",
       "h3:before {\n",
       "    content: counter(h2counter) \".\" counter(h3counter) \".\\0000a0\\0000a0\";\n",
       "    counter-increment: h3counter;\n",
       "}\n",
       "</style>"
      ],
      "text/plain": [
       "<IPython.core.display.HTML object>"
      ]
     },
     "execution_count": 6,
     "metadata": {},
     "output_type": "execute_result"
    }
   ],
   "source": [
    "mu.css('css.css')"
   ]
  },
  {
   "cell_type": "markdown",
   "metadata": {},
   "source": [
    "# DH-lab - Nasjonalbiblioteket\n",
    "\n",
    "DH - Digital Humanioria: tolkning og analyse av tekst, bilder og audio\n",
    "\n",
    "Team fra språkbanken\n",
    "* Lars\n",
    "* Yngvil\n",
    "* Magnus\n",
    "* Andre\n",
    "* Ingerid\n",
    "\n",
    "# For hvem?\n",
    "\n",
    "Alle som vil undersøke egenskaper ved tekster på et eller annet nivå.\n",
    "\n",
    "Et par doktorgrader, noen bøker og flere artikler.\n"
   ]
  },
  {
   "cell_type": "markdown",
   "metadata": {},
   "source": [
    "# FAIR\n",
    "\n",
    "Findable Accessible Interoperability Reusability"
   ]
  },
  {
   "cell_type": "markdown",
   "metadata": {},
   "source": [
    "# Fokus\n",
    "\n",
    "Ord, fraser, tekst. "
   ]
  },
  {
   "cell_type": "markdown",
   "metadata": {},
   "source": [
    "https://nbviewer.jupyter.org/github/DH-LAB-NB/DHLAB/blob/master/DHLAB_ved_Nasjonalbiblioteket.ipynb"
   ]
  },
  {
   "cell_type": "code",
   "execution_count": null,
   "metadata": {},
   "outputs": [],
   "source": []
  }
 ],
 "metadata": {
  "kernelspec": {
   "display_name": "Python 3",
   "language": "python",
   "name": "python3"
  },
  "language_info": {
   "codemirror_mode": {
    "name": "ipython",
    "version": 3
   },
   "file_extension": ".py",
   "mimetype": "text/x-python",
   "name": "python",
   "nbconvert_exporter": "python",
   "pygments_lexer": "ipython3",
   "version": "3.8.10"
  }
 },
 "nbformat": 4,
 "nbformat_minor": 4
}

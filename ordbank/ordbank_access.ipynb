{
 "cells": [
  {
   "cell_type": "code",
   "execution_count": 23,
   "metadata": {
    "collapsed": true
   },
   "outputs": [],
   "source": [
    "import sqlite3\n",
    "from konk_api import query\n",
    "\n",
    "ordbank = {\n",
    "    \"nob\": \"/disk1/bokhylla/ordbank.db\",\n",
    "    \"nno\" : \"/disk1/bokhylla/ordbank_nno.db\"\n",
    "}\n",
    "\n",
    "\n",
    "def get_paradigms(word, lang = 'nob'):\n",
    "    res = query(ordbank[lang],\"\"\"\n",
    "        select \n",
    "            substr(a.tag, 1, 4) as cat, \n",
    "            group_concat(distinct a.oppslag) \n",
    "        from \n",
    "            fullformsliste as a, \n",
    "            fullformsliste as b\n",
    "            \n",
    "        where \n",
    "            b.oppslag = ? \n",
    "            and b.lemma_id=a.lemma_id \n",
    "            \n",
    "        group by\n",
    "            cat\"\"\", (word,))\n",
    "    result = []\n",
    "    if res != []:\n",
    "        for r in res:\n",
    "            result.append([r[0].strip(), r[1].split(',')])\n",
    "    return result\n",
    "\n",
    "def get_paradigms_many(words, lang = 'nob'):\n",
    "    with sqlite3.connect(ordbank[lang]) as con:\n",
    "        cur = con.cursor()\n",
    "        cur.execute(\"attach '' as words\")\n",
    "        cur.execute(\"create table words.wordlist (word varchar)\")\n",
    "        for word in words:\n",
    "            cur.execute(\"insert into words.wordlist values (?)\", (word,))\n",
    "        res = cur.execute(\"\"\"\n",
    "            select \n",
    "                wl.word,\n",
    "                substr(a.tag, 1, 4) as cat, \n",
    "                group_concat(distinct a.oppslag) \n",
    "            from \n",
    "                fullformsliste as a, \n",
    "                fullformsliste as b,\n",
    "                words.wordlist as wl\n",
    "            where \n",
    "                b.oppslag = wl.word\n",
    "                and b.lemma_id=a.lemma_id \n",
    "\n",
    "            group by\n",
    "                wl.word, cat\"\"\").fetchall()\n",
    "        result = []\n",
    "        if res != []:\n",
    "            for r in res:\n",
    "                result.append([r[0], r[1].strip(), r[2].split(',')])\n",
    "    return result\n",
    "\n",
    "def get_lemma(word, lang = 'nob'):\n",
    "    res = query(ordbank[lang],\"\"\"\n",
    "        select \n",
    "            distinct\n",
    "            substr(a.tag, 1, 4) as cat, \n",
    "            l.GRUNNFORM\n",
    "        from \n",
    "            fullformsliste as a, \n",
    "            lemma as l\n",
    "        where \n",
    "            a.oppslag = ? \n",
    "            and l.lemma_id = a.lemma_id\n",
    "        \"\"\", (word,))\n",
    "    result = []\n",
    "    if res != []:\n",
    "        for r in res:\n",
    "            result.append([r[0].strip(), r[1]])\n",
    "    return result\n",
    "\n",
    "\n",
    "def get_lemma_many(words, lang = 'nob'):\n",
    "    with sqlite3.connect(ordbank[lang]) as con:\n",
    "        cur = con.cursor()\n",
    "        cur.execute(\"attach '' as words\")\n",
    "        cur.execute(\"create table words.wordlist (word varchar)\")\n",
    "        for word in words:\n",
    "            cur.execute(\"insert into words.wordlist values (?)\", (word,))\n",
    "        res = cur.execute(\"\"\"\n",
    "        select \n",
    "            distinct\n",
    "            wl.word,\n",
    "            substr(a.tag, 1, 4) as cat, \n",
    "            l.GRUNNFORM\n",
    "        from \n",
    "            fullformsliste as a, \n",
    "            lemma as l,\n",
    "            words.wordlist as wl\n",
    "        where \n",
    "            a.oppslag = wl.word\n",
    "            and l.lemma_id = a.lemma_id\n",
    "        \"\"\").fetchall()\n",
    "    result = []\n",
    "    if res != []:\n",
    "        for r in res:\n",
    "            result.append([r[0], r[1].strip(), r[2]])\n",
    "    return result\n",
    "\n",
    "def get_form(word, lang = 'nob'):\n",
    "    res = query(ordbank[lang],\"\"\"\n",
    "        select distinct\n",
    "            tag\n",
    "        from \n",
    "            fullformsliste \n",
    "        where \n",
    "            oppslag=?\"\"\", (word,))\n",
    "    result = []\n",
    "    if res != []:\n",
    "        for r in res:\n",
    "            result.append(r[0].strip())\n",
    "    return result\n",
    "\n",
    "def get_form_many(words, lang = 'nob'):\n",
    "    with sqlite3.connect(ordbank[lang]) as con:\n",
    "        cur = con.cursor()\n",
    "        cur.execute(\"attach '' as words\")\n",
    "        cur.execute(\"create table words.wordlist (word varchar)\")\n",
    "        for word in words:\n",
    "            cur.execute(\"insert into words.wordlist values (?)\", (word,))\n",
    "        res = cur.execute(\"\"\"\n",
    "            select distinct\n",
    "                wl.word,\n",
    "                f.tag\n",
    "            from \n",
    "                fullformsliste as f,\n",
    "                words.wordlist as wl\n",
    "            where \n",
    "                f.oppslag=wl.word\"\"\")\n",
    "        result = []\n",
    "        if res != []:\n",
    "            for r in res:\n",
    "                result.append([r[0], r[1].strip()])\n",
    "    return result\n",
    "\n",
    "def get_variant(word, gramtype, lang = 'nob'):\n",
    "    res = query(ordbank[lang],\"\"\"\n",
    "        select distinct\n",
    "            a.tag as cat, \n",
    "            a.oppslag \n",
    "        from \n",
    "            fullformsliste as a, \n",
    "            fullformsliste as b \n",
    "        where \n",
    "            b.oppslag = ? \n",
    "            and b.lemma_id=a.lemma_id\n",
    "            and a.tag like ?\n",
    "        group by\n",
    "            cat\"\"\", (word, '%' + gramtype + '%'))\n",
    "    result = []\n",
    "    if res != []:\n",
    "        for r in res:\n",
    "            result.append((r[0].strip(), r[1]))\n",
    "    return result\n",
    "\n",
    "\n"
   ]
  },
  {
   "cell_type": "code",
   "execution_count": 25,
   "metadata": {},
   "outputs": [
    {
     "data": {
      "text/plain": [
       "[['sovande',\n",
       "  'adj <pres-part> <intrans2> <part4/hen> <part4/inn> <part4/over> <part4/ut> <part1/bort> <trans1> normert']]"
      ]
     },
     "execution_count": 25,
     "metadata": {},
     "output_type": "execute_result"
    }
   ],
   "source": [
    "get_form_many(['spisande','sovande'], lang = 'nno')"
   ]
  },
  {
   "cell_type": "code",
   "execution_count": 27,
   "metadata": {},
   "outputs": [
    {
     "data": {
      "text/plain": [
       "[['etande', 'subs', 'etande'],\n",
       " ['etande', 'adj', 'etande'],\n",
       " ['etande', 'adj', 'ete'],\n",
       " ['leande', 'adj', 'le'],\n",
       " ['leande', 'adj', 'lee']]"
      ]
     },
     "execution_count": 27,
     "metadata": {},
     "output_type": "execute_result"
    }
   ],
   "source": [
    "get_lemma_many(['etande', 'leande'], lang = 'nno')"
   ]
  },
  {
   "cell_type": "code",
   "execution_count": 29,
   "metadata": {},
   "outputs": [
    {
     "data": {
      "text/plain": [
       "[['subs', ['fiskar', 'fisken', 'fisk', 'fiskane']]]"
      ]
     },
     "execution_count": 29,
     "metadata": {},
     "output_type": "execute_result"
    }
   ],
   "source": [
    "get_paradigms('fiskane', lang='nno')"
   ]
  },
  {
   "cell_type": "code",
   "execution_count": 49,
   "metadata": {},
   "outputs": [
    {
     "data": {
      "text/plain": [
       "[['eter',\n",
       "  'subs',\n",
       "  ['ete', 'etene', 'eter', 'eta', 'eterane', 'eterar', 'eteren']],\n",
       " ['leande', 'adj', ['ledde', 'ledd', 'leande', 'lett', 'lea']],\n",
       " ['leande',\n",
       "  'verb',\n",
       "  ['le', 'ler', 'least', 'lo', 'ledd', 'lett', 'lee', 'lea', 'lear']]]"
      ]
     },
     "execution_count": 49,
     "metadata": {},
     "output_type": "execute_result"
    }
   ],
   "source": [
    "get_paradigms_many(['eter', 'sover', 'leande'], lang='nno')"
   ]
  },
  {
   "cell_type": "code",
   "execution_count": 65,
   "metadata": {},
   "outputs": [
    {
     "data": {
      "text/plain": [
       "[['tørst', 'verb pres <st-verb> normert'],\n",
       " ['tørst', 'adj pos m/f ub eint normert'],\n",
       " ['tørst', 'adj pos nøyt ub eint normert'],\n",
       " ['tørst', 'adj <perf-part> nøyt ub eint <intrans3> <trans15/etter> normert'],\n",
       " ['tørst', 'adj <perf-part> m/f ub eint <intrans3> <trans15/etter> normert'],\n",
       " ['tørst', 'verb imp <intrans3> <trans15/etter> normert'],\n",
       " ['tørst', 'verb perf-part <intrans3> <trans15/etter> normert']]"
      ]
     },
     "execution_count": 65,
     "metadata": {},
     "output_type": "execute_result"
    }
   ],
   "source": [
    "get_form_many(['tørst'], lang='nno')"
   ]
  },
  {
   "cell_type": "code",
   "execution_count": 64,
   "metadata": {},
   "outputs": [
    {
     "data": {
      "text/plain": [
       "[('verb pret <intrans3> <trans15/etter> normert', 'tørstet')]"
      ]
     },
     "execution_count": 64,
     "metadata": {},
     "output_type": "execute_result"
    }
   ],
   "source": [
    "get_variant('tørst', 'pret', lang='nob')"
   ]
  },
  {
   "cell_type": "code",
   "execution_count": 7,
   "metadata": {},
   "outputs": [
    {
     "data": {
      "text/plain": [
       "[('table',\n",
       "  'fullformsliste',\n",
       "  'fullformsliste',\n",
       "  2,\n",
       "  'CREATE TABLE \"fullformsliste\" (\"loepenr\" INTEGER, \"LEMMA_ID\" INTEGER, \"OPPSLAG\" VARCHAR, \"TAG\" VARCHAR, \"PARADIGME_ID\" INTEGER, \"BOY_NUMMER\" INTEGER)'),\n",
       " ('table',\n",
       "  'lemma',\n",
       "  'lemma',\n",
       "  5,\n",
       "  'CREATE TABLE \"lemma\" (\"loepenr\" INTEGER, \"LEMMA_ID\" INTEGER, \"GRUNNFORM\" VARCHAR, \"BM_ORDBOK\" VARCHAR)'),\n",
       " ('index',\n",
       "  'ff_lemma',\n",
       "  'fullformsliste',\n",
       "  2915,\n",
       "  'CREATE INDEX \"ff_lemma\" ON \"fullformsliste\" (\"LEMMA_ID\" ASC)'),\n",
       " ('index',\n",
       "  'ff_oppslag',\n",
       "  'fullformsliste',\n",
       "  3169,\n",
       "  'CREATE INDEX \"ff_oppslag\" ON \"fullformsliste\" (\"OPPSLAG\" ASC)'),\n",
       " ('index',\n",
       "  'ff_tag',\n",
       "  'fullformsliste',\n",
       "  3581,\n",
       "  'CREATE INDEX \"ff_tag\" ON \"fullformsliste\" (\"TAG\" ASC)'),\n",
       " ('index',\n",
       "  'lma_gform',\n",
       "  'lemma',\n",
       "  4523,\n",
       "  'CREATE INDEX \"lma_gform\" ON \"lemma\" (\"GRUNNFORM\" ASC)'),\n",
       " ('index',\n",
       "  'lma_id',\n",
       "  'lemma',\n",
       "  4568,\n",
       "  'CREATE INDEX \"lma_id\" ON \"lemma\" (\"LEMMA_ID\" ASC)'),\n",
       " ('view',\n",
       "  'ord',\n",
       "  'ord',\n",
       "  0,\n",
       "  'CREATE VIEW ord as select a.oppslag, b.grunnform, a.tag from fullformsliste as a, lemma as b where a.lemma_id = b.lemma_id')]"
      ]
     },
     "execution_count": 7,
     "metadata": {},
     "output_type": "execute_result"
    }
   ],
   "source": [
    "query(ordbank, \"select * from sqlite_master\")"
   ]
  },
  {
   "cell_type": "code",
   "execution_count": 8,
   "metadata": {},
   "outputs": [
    {
     "data": {
      "text/plain": [
       "[(194116, 23683, 'glimrende', 'adj <pres-part> <intrans2> normert', 1, 10),\n",
       " (194117, 23683, 'glimrende', 'adj <pres-part> <intrans2> normert', 7, 10),\n",
       " (194118, 23683, 'glimrende', 'adj <pres-part> <intrans2> normert', 10, 10),\n",
       " (194119, 23683, 'glimrende', 'adj <pres-part> <intrans2> normert', 11, 10),\n",
       " (194120, 23683, 'glimrende', 'adj <pres-part> <intrans2> normert', 17, 10),\n",
       " (194121, 23683, 'glimrende', 'adj <pres-part> <intrans2> normert', 19, 10),\n",
       " (194154, 23684, 'glimrende', 'adj pos be ent normert', 513, 3),\n",
       " (194155, 23684, 'glimrende', 'adj pos fl normert', 513, 2),\n",
       " (194156, 23684, 'glimrende', 'adj pos m/f ub ent normert', 513, 1),\n",
       " (194157, 23684, 'glimrende', 'adj pos nøyt ub ent normert', 513, 4)]"
      ]
     },
     "execution_count": 8,
     "metadata": {},
     "output_type": "execute_result"
    }
   ],
   "source": [
    "query(ordbank, \"select * from fullformsliste where oppslag = 'glimrende'\")"
   ]
  },
  {
   "cell_type": "code",
   "execution_count": 13,
   "metadata": {},
   "outputs": [
    {
     "data": {
      "text/plain": [
       "[(21747, 23684, 'glimrende', 'BM_ORDBOK')]"
      ]
     },
     "execution_count": 13,
     "metadata": {},
     "output_type": "execute_result"
    }
   ],
   "source": [
    "query(ordbank, \"select * from lemma where lemma_id = 23684\")"
   ]
  },
  {
   "cell_type": "code",
   "execution_count": null,
   "metadata": {
    "collapsed": true
   },
   "outputs": [],
   "source": [
    "query()"
   ]
  },
  {
   "cell_type": "code",
   "execution_count": 39,
   "metadata": {
    "collapsed": true
   },
   "outputs": [],
   "source": [
    "q = lambda x, y=(): query(ordbank, x, param=y, size=0)"
   ]
  },
  {
   "cell_type": "code",
   "execution_count": 122,
   "metadata": {},
   "outputs": [
    {
     "data": {
      "text/plain": [
       "[]"
      ]
     },
     "execution_count": 122,
     "metadata": {},
     "output_type": "execute_result"
    }
   ],
   "source": [
    "q(\"select distinct g.oppslag, g.tag from fullformsliste as f, fullformsliste as g, lemma as l where f.oppslag ='mannens' and g.lemma_id = f.lemma_id\")"
   ]
  },
  {
   "cell_type": "code",
   "execution_count": 49,
   "metadata": {},
   "outputs": [
    {
     "data": {
      "text/plain": [
       "[(13720, 'subs', 'egg,egga,eggene,egget'),\n",
       " (13725, 'adj ', 'egg,egga,egge,eggede,eggende,egger,egges,egget,eggete')]"
      ]
     },
     "execution_count": 49,
     "metadata": {},
     "output_type": "execute_result"
    }
   ],
   "source": [
    "q(\"select substr(a.tag, 1,4), group_concat(distinct a.oppslag) from fullformsliste as a, fullformsliste as b where b.oppslag = 'egget' and b.lemma_id=a.lemma_id group by b.lemma_id\")"
   ]
  },
  {
   "cell_type": "code",
   "execution_count": 126,
   "metadata": {},
   "outputs": [
    {
     "name": "stdout",
     "output_type": "stream",
     "text": [
      "en feil oppstod: no such column: lemma\n"
     ]
    },
    {
     "data": {
      "text/plain": [
       "[]"
      ]
     },
     "execution_count": 126,
     "metadata": {},
     "output_type": "execute_result"
    }
   ],
   "source": [
    "q(\"select * from lemma where lemma = 'mannens'\")"
   ]
  },
  {
   "cell_type": "code",
   "execution_count": 128,
   "metadata": {},
   "outputs": [
    {
     "data": {
      "text/plain": [
       "[('table',\n",
       "  'fullformsliste',\n",
       "  'fullformsliste',\n",
       "  2,\n",
       "  'CREATE TABLE \"fullformsliste\" (\"loepenr\" INTEGER, \"LEMMA_ID\" INTEGER, \"OPPSLAG\" VARCHAR, \"TAG\" VARCHAR, \"PARADIGME_ID\" INTEGER, \"BOY_NUMMER\" INTEGER)'),\n",
       " ('table',\n",
       "  'lemma',\n",
       "  'lemma',\n",
       "  5,\n",
       "  'CREATE TABLE \"lemma\" (\"loepenr\" INTEGER, \"LEMMA_ID\" INTEGER, \"GRUNNFORM\" VARCHAR, \"BM_ORDBOK\" VARCHAR)'),\n",
       " ('index',\n",
       "  'ff_lemma',\n",
       "  'fullformsliste',\n",
       "  2915,\n",
       "  'CREATE INDEX \"ff_lemma\" ON \"fullformsliste\" (\"LEMMA_ID\" ASC)'),\n",
       " ('index',\n",
       "  'ff_oppslag',\n",
       "  'fullformsliste',\n",
       "  3169,\n",
       "  'CREATE INDEX \"ff_oppslag\" ON \"fullformsliste\" (\"OPPSLAG\" ASC)'),\n",
       " ('index',\n",
       "  'ff_tag',\n",
       "  'fullformsliste',\n",
       "  3581,\n",
       "  'CREATE INDEX \"ff_tag\" ON \"fullformsliste\" (\"TAG\" ASC)'),\n",
       " ('index',\n",
       "  'lma_gform',\n",
       "  'lemma',\n",
       "  4523,\n",
       "  'CREATE INDEX \"lma_gform\" ON \"lemma\" (\"GRUNNFORM\" ASC)'),\n",
       " ('index',\n",
       "  'lma_id',\n",
       "  'lemma',\n",
       "  4568,\n",
       "  'CREATE INDEX \"lma_id\" ON \"lemma\" (\"LEMMA_ID\" ASC)'),\n",
       " ('view',\n",
       "  'ord',\n",
       "  'ord',\n",
       "  0,\n",
       "  'CREATE VIEW ord as select a.oppslag, b.grunnform, a.tag from fullformsliste as a, lemma as b where a.lemma_id = b.lemma_id')]"
      ]
     },
     "execution_count": 128,
     "metadata": {},
     "output_type": "execute_result"
    }
   ],
   "source": [
    "q(\"select * from sqlite_master\")"
   ]
  },
  {
   "cell_type": "code",
   "execution_count": 66,
   "metadata": {},
   "outputs": [
    {
     "data": {
      "text/plain": [
       "[['skriver', 'verb', 'skrive'],\n",
       " ['skriver', 'subs', 'skriver'],\n",
       " ['sover', 'verb', 'sove'],\n",
       " ['spiste', 'adj', 'spise'],\n",
       " ['spiste', 'verb', 'spise'],\n",
       " ['trodde', 'adj', 'tro'],\n",
       " ['trodde', 'verb', 'tro']]"
      ]
     },
     "execution_count": 66,
     "metadata": {},
     "output_type": "execute_result"
    }
   ],
   "source": [
    "get_lemma_many('skriver sover spiste trodde'.split())"
   ]
  },
  {
   "cell_type": "code",
   "execution_count": 68,
   "metadata": {
    "collapsed": true
   },
   "outputs": [],
   "source": [
    "onob = ordbank['nob']\n",
    "onno = ordbank['nno']"
   ]
  },
  {
   "cell_type": "code",
   "execution_count": 73,
   "metadata": {},
   "outputs": [
    {
     "data": {
      "text/plain": [
       "[('table',\n",
       "  'fullformsliste',\n",
       "  'fullformsliste',\n",
       "  297,\n",
       "  'CREATE TABLE fullformsliste(\\n  \"LOEPENR\" TEXT,\\n  \"LEMMA_ID\" TEXT,\\n  \"OPPSLAG\" TEXT,\\n  \"TAG\" TEXT,\\n  \"PARADIGME_ID\" TEXT,\\n  \"BOY_NUMMER\" TEXT,\\n  \"FRADATO\" TEXT,\\n  \"TILDATO\" TEXT,\\n  \"NORMERING\" TEXT\\n)'),\n",
       " ('table',\n",
       "  'lemma',\n",
       "  'lemma',\n",
       "  2333,\n",
       "  'CREATE TABLE lemma(\\n  \"LOEPENR\" TEXT,\\n  \"LEMMA_ID\" TEXT,\\n  \"GRUNNFORM\" TEXT,\\n  \"\\'NOB_2012\\'\" TEXT\\n)'),\n",
       " ('index',\n",
       "  'ff_lemma',\n",
       "  'fullformsliste',\n",
       "  1876,\n",
       "  'CREATE INDEX \"ff_lemma\" ON \"fullformsliste\" (\"LEMMA_ID\" ASC)'),\n",
       " ('index',\n",
       "  'ff_oppslag',\n",
       "  'fullformsliste',\n",
       "  24566,\n",
       "  'CREATE INDEX \"ff_oppslag\" ON \"fullformsliste\" (\"OPPSLAG\" ASC)'),\n",
       " ('index',\n",
       "  'ff_tag',\n",
       "  'fullformsliste',\n",
       "  16684,\n",
       "  'CREATE INDEX \"ff_tag\" ON \"fullformsliste\" (\"TAG\" ASC)'),\n",
       " ('index',\n",
       "  'lma_gform',\n",
       "  'lemma',\n",
       "  15657,\n",
       "  'CREATE INDEX \"lma_gform\" ON \"lemma\" (\"GRUNNFORM\" ASC)'),\n",
       " ('index',\n",
       "  'lma_id',\n",
       "  'lemma',\n",
       "  16603,\n",
       "  'CREATE INDEX \"lma_id\" ON \"lemma\" (\"LEMMA_ID\" ASC)')]"
      ]
     },
     "execution_count": 73,
     "metadata": {},
     "output_type": "execute_result"
    }
   ],
   "source": [
    "query(onno, \"select * from sqlite_master\")"
   ]
  },
  {
   "cell_type": "code",
   "execution_count": null,
   "metadata": {},
   "outputs": [],
   "source": [
    "with sqlite3.connect(onob) as con:\n",
    "    cur = con.cursor()\n",
    "    cur.execute(\"attach '{onno}' as nno\".format(onno=onno))\n",
    "    cur.execute(\"select count(*) from fullformsliste as b, nno.fullformsliste as n where b.oppslag = n.oppslag \")\n",
    "    res = cur.fetchall()\n",
    "res"
   ]
  },
  {
   "cell_type": "code",
   "execution_count": null,
   "metadata": {
    "collapsed": true
   },
   "outputs": [],
   "source": []
  }
 ],
 "metadata": {
  "kernelspec": {
   "display_name": "Python 3",
   "language": "python",
   "name": "python3"
  },
  "language_info": {
   "codemirror_mode": {
    "name": "ipython",
    "version": 3
   },
   "file_extension": ".py",
   "mimetype": "text/x-python",
   "name": "python",
   "nbconvert_exporter": "python",
   "pygments_lexer": "ipython3",
   "version": "3.6.3"
  }
 },
 "nbformat": 4,
 "nbformat_minor": 2
}

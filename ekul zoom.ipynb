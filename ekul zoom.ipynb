{
 "cells": [
  {
   "cell_type": "markdown",
   "metadata": {},
   "source": [
    "## Oppgaver\n",
    "\n",
    "Obligatorisk oppgave. \n",
    "\n",
    "Starter 10:15\n",
    "\n",
    "Oppmerking av materiale\n",
    "Automatisk merking\n",
    "\n",
    "Havekspedisjoner\n",
    "1870\n",
    "Antigone - oversettelse og resepsjon\n",
    "Dorthee Engelbregtsdatter\n",
    "Norsk nyliberalisme (Trygve Jacob Broch Hoff) Liberokaktiets vei\n",
    "Idrettshistorie\n",
    "Medisinsk historie\n",
    "Sedelighetsdebatter\n",
    "Musikalske selskaper tidlig 1800-tall\n",
    "Norske mystikere (Kari Heie - trykte visjoner)\n",
    "Rennessanse\n",
    "\n",
    "\n"
   ]
  },
  {
   "cell_type": "markdown",
   "metadata": {},
   "source": [
    "Hvordan forberede materiale \n",
    "* Oppmerking/markup\n",
    "* Analyse\n",
    "* søk og finn dokumenter\n",
    "* ekstrakter\n",
    "\n",
    "De har jobbet med Jens Thiis\n",
    "\n",
    "\n",
    "* topic modelling subcorpus\n",
    "* evaluering av tekster\n",
    "\n",
    "* hvilke egenskaper har en frekvensliste\n",
    "\n",
    "* frekvenslisten som en forenkling"
   ]
  },
  {
   "cell_type": "code",
   "execution_count": null,
   "metadata": {},
   "outputs": [],
   "source": []
  },
  {
   "cell_type": "markdown",
   "metadata": {},
   "source": [
    "10.15-11: Lars og Yngvil intro om DH og NB...\n",
    "11.15-12: Lars introduserer og viser verktøy\n",
    "12.30-12.45: Spørretime, oppstart med gruppearbeid, konkrete instruksjoner\n",
    "12.45-13.45: Gruppearbeid i 4 grupper\n",
    "14.00: Oppsummering, presentasjoner\n",
    "\n",
    "12:30 - 12:45"
   ]
  }
 ],
 "metadata": {
  "kernelspec": {
   "display_name": "Python 3",
   "language": "python",
   "name": "python3"
  },
  "language_info": {
   "codemirror_mode": {
    "name": "ipython",
    "version": 3
   },
   "file_extension": ".py",
   "mimetype": "text/x-python",
   "name": "python",
   "nbconvert_exporter": "python",
   "pygments_lexer": "ipython3",
   "version": "3.7.3"
  }
 },
 "nbformat": 4,
 "nbformat_minor": 2
}

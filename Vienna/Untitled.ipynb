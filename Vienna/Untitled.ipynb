{
 "cells": [
  {
   "cell_type": "code",
   "execution_count": 1,
   "metadata": {},
   "outputs": [],
   "source": [
    "import sqlite3"
   ]
  },
  {
   "cell_type": "code",
   "execution_count": 2,
   "metadata": {},
   "outputs": [],
   "source": [
    "def query(db, q, p=()):\n",
    "    with sqlite3.connect(db) as con:\n",
    "        cur = con.cursor()\n",
    "        r = cur.execute(q, p)\n",
    "    return r.fetchall()"
   ]
  },
  {
   "cell_type": "code",
   "execution_count": 8,
   "metadata": {},
   "outputs": [],
   "source": [
    "bigram = \"C:/Users/larsj/Documents/ngram/bigram-one-row.db\"\n",
    "unigram = \"C:/Users/larsj/Documents/ngram/unigram-one-row.db\""
   ]
  },
  {
   "cell_type": "code",
   "execution_count": 7,
   "metadata": {
    "scrolled": true
   },
   "outputs": [
    {
     "data": {
      "text/plain": [
       "[('table',\n",
       "  'bigram',\n",
       "  'bigram',\n",
       "  2,\n",
       "  'CREATE TABLE bigram (freq int, lang varchar, first varchar, second varchar, json text, pmi float)'),\n",
       " ('index',\n",
       "  '_lfsf_',\n",
       "  'bigram',\n",
       "  5857784,\n",
       "  'CREATE INDEX _lfsf_ on bigram (lang,first,second,freq)'),\n",
       " ('index',\n",
       "  '_lf_',\n",
       "  'bigram',\n",
       "  6834551,\n",
       "  'CREATE INDEX _lf_ on bigram(lang,freq)'),\n",
       " ('table',\n",
       "  'sqlite_stat1',\n",
       "  'sqlite_stat1',\n",
       "  7127480,\n",
       "  'CREATE TABLE sqlite_stat1(tbl,idx,stat)'),\n",
       " ('index',\n",
       "  '_fsf_',\n",
       "  'bigram',\n",
       "  7127481,\n",
       "  'CREATE INDEX _fsf_ on bigram (first,second,freq)'),\n",
       " ('index',\n",
       "  '_sf_',\n",
       "  'bigram',\n",
       "  7600914,\n",
       "  'CREATE INDEX _sf_ on bigram(second,freq)'),\n",
       " ('index', '_f_', 'bigram', 7943929, 'CREATE INDEX _f_ on bigram(freq)'),\n",
       " ('index',\n",
       "  '_ff_',\n",
       "  'bigram',\n",
       "  6411567,\n",
       "  'CREATE INDEX _ff_ on bigram(first,freq)')]"
      ]
     },
     "execution_count": 7,
     "metadata": {},
     "output_type": "execute_result"
    }
   ],
   "source": [
    "query(bigram, \"select * from sqlite_master\")"
   ]
  },
  {
   "cell_type": "code",
   "execution_count": 6,
   "metadata": {},
   "outputs": [
    {
     "data": {
      "text/plain": [
       "[]"
      ]
     },
     "execution_count": 6,
     "metadata": {},
     "output_type": "execute_result"
    }
   ],
   "source": [
    "query(bigram, \"ALTER TABLE bigram ADD pmi float\")"
   ]
  },
  {
   "cell_type": "code",
   "execution_count": 9,
   "metadata": {},
   "outputs": [
    {
     "data": {
      "text/plain": [
       "[('table',\n",
       "  'unigram',\n",
       "  'unigram',\n",
       "  2,\n",
       "  'CREATE TABLE unigram (freq int, lang varchar, first varchar, json text)'),\n",
       " ('index',\n",
       "  '_lff_',\n",
       "  'unigram',\n",
       "  1393414,\n",
       "  'CREATE INDEX _lff_ on unigram(lang,first,freq)'),\n",
       " ('index',\n",
       "  '_lf_',\n",
       "  'unigram',\n",
       "  1511081,\n",
       "  'CREATE INDEX _lf_ on unigram(lang,freq)'),\n",
       " ('table',\n",
       "  'sqlite_stat1',\n",
       "  'sqlite_stat1',\n",
       "  1576805,\n",
       "  'CREATE TABLE sqlite_stat1(tbl,idx,stat)'),\n",
       " ('index',\n",
       "  '_ff_',\n",
       "  'unigram',\n",
       "  1576806,\n",
       "  'CREATE INDEX _ff_ on unigram(first,freq)'),\n",
       " ('index', '_f_', 'unigram', 1675757, 'CREATE INDEX _f_ on unigram(freq)')]"
      ]
     },
     "execution_count": 9,
     "metadata": {},
     "output_type": "execute_result"
    }
   ],
   "source": [
    "query(unigram, \"select * from sqlite_master\")"
   ]
  },
  {
   "cell_type": "code",
   "execution_count": 14,
   "metadata": {},
   "outputs": [
    {
     "data": {
      "text/plain": [
       "[(8639060175,)]"
      ]
     },
     "execution_count": 14,
     "metadata": {},
     "output_type": "execute_result"
    }
   ],
   "source": [
    "query(bigram, \"select sum(freq) from bigram where lang='nob'\")"
   ]
  },
  {
   "cell_type": "code",
   "execution_count": 20,
   "metadata": {},
   "outputs": [
    {
     "data": {
      "text/plain": [
       "[('spiser', ',', 16389),\n",
       " ('spiser', '.', 14512),\n",
       " ('spiser', 'og', 8983),\n",
       " ('spiser', 'vi', 6160),\n",
       " ('spiser', 'ikke', 5160),\n",
       " ('spiser', 'middag', 5146),\n",
       " ('spiser', 'de', 4955),\n",
       " ('spiser', 'den', 4320),\n",
       " ('spiser', 'opp', 3758),\n",
       " ('spiser', 'av', 3640),\n",
       " ('spiser', 'en', 3439),\n",
       " ('spiser', 'for', 3432),\n",
       " ('spiser', 'frokost', 3401),\n",
       " ('spiser', 'i', 3326),\n",
       " ('spiser', 'det', 2951),\n",
       " ('spiser', 'jeg', 2747),\n",
       " ('spiser', 'du', 2712),\n",
       " ('spiser', 'på', 2565),\n",
       " ('spiser', 'med', 2277),\n",
       " ('spiser', 'sammen', 2197)]"
      ]
     },
     "execution_count": 20,
     "metadata": {},
     "output_type": "execute_result"
    }
   ],
   "source": [
    "query(bigram, \"select first, second, freq from bigram where lang='nob' and first = 'spiser' order by freq desc limit 20\")"
   ]
  },
  {
   "cell_type": "code",
   "execution_count": 43,
   "metadata": {},
   "outputs": [],
   "source": [
    "def check(w):\n",
    "    with sqlite3.connect(bigram) as con:\n",
    "        cur = con.cursor()\n",
    "        cur.execute(\"attach '{db}' as unigram\".format(db=unigram))\n",
    "        cur.execute(\"\"\"\n",
    "        select b.first, b.second, b.freq, uf.freq, us.freq, b.freq*b.freq*1.0/(uf.freq*us.freq) as pmi from bigram as b, unigram as uf, unigram as us\n",
    "        where b.first = uf.first and b.second = us.first\n",
    "        and b.first = ? and b.lang='nob' and uf.lang='nob' and us.lang='nob'\n",
    "        order by pmi desc limit 20 \n",
    "        \"\"\", (w,))\n",
    "        r =  cur.fetchall()\n",
    "    return r"
   ]
  },
  {
   "cell_type": "code",
   "execution_count": 49,
   "metadata": {},
   "outputs": [
    {
     "data": {
      "text/plain": [
       "[(',', 'men', 21397468, 471880905, 24560995, 0.03950448557038251),\n",
       " (',', 'og', 46017522, 471880905, 259886630, 0.017267525896340064),\n",
       " (',', 'som', 17268688, 471880905, 128038992, 0.004935646371869148),\n",
       " (',', 'mens', 2779849, 471880905, 4590100, 0.0035676961601516124),\n",
       " (',', 'sa', 3563564, 471880905, 11070715, 0.0024308661808788296),\n",
       " (',', 'f', 3151424, 471880905, 10815503, 0.0019459628744578654),\n",
       " (',', 'så', 5011879, 471880905, 28430919, 0.0018723104151495233),\n",
       " (',', 'der', 3749128, 471880905, 17035133, 0.0017485683122722005),\n",
       " (',', 'hvor', 2529001, 471880905, 9287831, 0.0014593225521253395),\n",
       " (',', 'at', 7387731, 471880905, 93020220, 0.0012434043469073848),\n",
       " (',', 'da', 3052929, 471880905, 16500805, 0.0011970047476890996),\n",
       " (',', 'dvs.', 697377, 471880905, 892663, 0.001154556796380065),\n",
       " (',', '»', 4751195, 471880905, 46888112, 0.0010202592972851636),\n",
       " (',', 'slik', 2104889, 471880905, 9555137, 0.0009826278640522154),\n",
       " (',', 'idet', 705447, 471880905, 1122914, 0.0009391822622001376),\n",
       " (',', 'samt', 843578, 471880905, 1670174, 0.0009029347508925128),\n",
       " (',', 'eller', 3465691, 471880905, 29206541, 0.0008714995113087537),\n",
       " (',', 'jf.', 540925, 471880905, 765749, 0.0008097580339280129),\n",
       " (',', 'er', 6820128, 471880905, 123343894, 0.0007991623078049812),\n",
       " (',', 'ja', 743630, 471880905, 1616716, 0.0007248492002012368)]"
      ]
     },
     "execution_count": 49,
     "metadata": {},
     "output_type": "execute_result"
    }
   ],
   "source": [
    "check(',')"
   ]
  },
  {
   "cell_type": "code",
   "execution_count": 72,
   "metadata": {},
   "outputs": [],
   "source": [
    "\n",
    "with sqlite3.connect(bigram) as con:\n",
    "    cur = con.cursor()\n",
    "    cur.execute(\"attach '{db}' as unigram\".format(db=unigram))\n",
    "    cur.execute(\"\"\"\n",
    "    update bigram set pmi = (select bigram.freq*1.0/(uf.freq*us.freq) from unigram as uf, unigram as us\n",
    "    where bigram.first = uf.first and bigram.second = us.first\n",
    "    and bigram.lang = uf.lang and bigram.lang = us.lang)\n",
    "    \"\"\")\n",
    "    "
   ]
  },
  {
   "cell_type": "code",
   "execution_count": 101,
   "metadata": {},
   "outputs": [
    {
     "data": {
      "text/plain": [
       "[('slikk-vorne', 'gutter', 8, 2.490373151287056e-06),\n",
       " ('Kjække', 'gutter', 33, 3.475755760959848e-07),\n",
       " ('halvvoksne', 'gutter', 573, 3.3733069818205894e-07),\n",
       " ('Badende', 'gutter', 194, 3.233336943892921e-07),\n",
       " ('Wets', 'gutter', 13, 3.223159941378159e-07),\n",
       " ('Kjekke', 'gutter', 107, 2.9947918889728206e-07),\n",
       " ('Tøffe', 'gutter', 109, 1.98042806534744e-07),\n",
       " ('halwoksne', 'gutter', 51, 1.9708297869668253e-07),\n",
       " ('kjekke', 'gutter', 1459, 1.6152834233754018e-07),\n",
       " ('halvstore', 'gutter', 60, 1.1443171389508255e-07),\n",
       " ('HKR', 'gutter', 9, 1.0208513423798154e-07),\n",
       " ('uskikkelige', 'gutter', 142, 9.422953835104387e-08),\n",
       " ('Problematiske', 'gutter', 21, 9.150087978095909e-08),\n",
       " ('kjække', 'gutter', 176, 8.905434060950642e-08),\n",
       " ('LR', 'gutter', 769, 8.890703059906798e-08),\n",
       " ('Flinke', 'gutter', 66, 8.02910145388901e-08),\n",
       " ('fylkesrenn', 'gutter', 14, 7.705968002509063e-08),\n",
       " ('Kretsmester', 'gutter', 22, 6.126912076973622e-08),\n",
       " ('ukonfirmerte', 'gutter', 20, 6.057664422049596e-08),\n",
       " ('DR', 'gutter', 808, 5.489340659375673e-08)]"
      ]
     },
     "execution_count": 101,
     "metadata": {},
     "output_type": "execute_result"
    }
   ],
   "source": [
    "query(bigram, \"select first, second, freq, pmi from bigram where second='gutter' and lang = 'nob' order by pmi desc limit 20\")"
   ]
  },
  {
   "cell_type": "code",
   "execution_count": null,
   "metadata": {},
   "outputs": [],
   "source": []
  }
 ],
 "metadata": {
  "kernelspec": {
   "display_name": "Python 3",
   "language": "python",
   "name": "python3"
  },
  "language_info": {
   "codemirror_mode": {
    "name": "ipython",
    "version": 3
   },
   "file_extension": ".py",
   "mimetype": "text/x-python",
   "name": "python",
   "nbconvert_exporter": "python",
   "pygments_lexer": "ipython3",
   "version": "3.7.3"
  }
 },
 "nbformat": 4,
 "nbformat_minor": 2
}

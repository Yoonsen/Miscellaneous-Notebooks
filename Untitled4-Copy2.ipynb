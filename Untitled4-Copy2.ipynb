{
 "cells": [
  {
   "cell_type": "code",
   "execution_count": 8,
   "metadata": {},
   "outputs": [],
   "source": [
    "import sqlite3\n",
    "import os\n",
    "import tarfile\n",
    "import gzip\n",
    "#import sqlite3\n",
    "import json\n",
    "import pandas as pd\n",
    "from time import time\n",
    "from IPython.display import HTML"
   ]
  },
  {
   "cell_type": "code",
   "execution_count": 9,
   "metadata": {},
   "outputs": [],
   "source": [
    "from dhlab.nbtokenizer import tokenize"
   ]
  },
  {
   "cell_type": "code",
   "execution_count": 10,
   "metadata": {},
   "outputs": [],
   "source": [
    "def query(db, sql, params=(), retrieve = 20):\n",
    "    with sqlite3.connect(db) as con:\n",
    "        cur = con.cursor()\n",
    "        res = cur.execute(sql, params).fetchmany(retrieve)\n",
    "    return res"
   ]
  },
  {
   "cell_type": "code",
   "execution_count": 11,
   "metadata": {},
   "outputs": [],
   "source": [
    "db = '../ft_index_words.db'"
   ]
  },
  {
   "cell_type": "code",
   "execution_count": 12,
   "metadata": {},
   "outputs": [
    {
     "data": {
      "text/plain": [
       "[('table',\n",
       "  'ft',\n",
       "  'ft',\n",
       "  2,\n",
       "  'CREATE TABLE ft (identifier integer, para integer, word varchar)'),\n",
       " ('index',\n",
       "  '_wip_',\n",
       "  'ft',\n",
       "  11049524,\n",
       "  'CREATE INDEX _wip_ on ft (word, identifier, para)'),\n",
       " ('index',\n",
       "  '_ipw_',\n",
       "  'ft',\n",
       "  22146652,\n",
       "  'CREATE INDEX _ipw_ on ft (identifier, para, word)')]"
      ]
     },
     "execution_count": 12,
     "metadata": {},
     "output_type": "execute_result"
    }
   ],
   "source": [
    "query(db, \"select * from sqlite_master\")"
   ]
  },
  {
   "cell_type": "code",
   "execution_count": 19,
   "metadata": {},
   "outputs": [],
   "source": [
    "def find_para(words):\n",
    "\n",
    "    if words == []:\n",
    "        return []\n",
    "    first = words[0]\n",
    "    \n",
    "    query_term_select = \"\"\"select distinct a.identifier, a.para\"\"\"\n",
    "    query_tables =[\"ft as a\"]\n",
    "    query_term_conditions = [\"a.word =?\"]\n",
    "    query_param = [first]\n",
    "    word_index = 0\n",
    "    for w in words[1:]:\n",
    "        tname = \"t\" + str(word_index)\n",
    "        query_tables.append(\"(select identifier, para, word from ft where word = ?) as {tname}\".format(tname=tname))\n",
    "        query_param.append(w)\n",
    "        query_term_conditions += [\"{tname}.identifier = a.identifier\".format(tname=tname),\"{tname}.para = a.para\".format(tname=tname)]\n",
    "        word_index += 1\n",
    "    sql_query = query_term_select + \" from \" + ', '.join(query_tables) + \" where \" + ' and '.join(query_term_conditions)\n",
    "    return sql_query, tuple(query_param)\n",
    "\n",
    "def find_para_ix(words):\n",
    "\n",
    "    if words == []:\n",
    "        return []\n",
    "    first = words[0]\n",
    "    \n",
    "    query_term_select = \"\"\"select distinct a.identifier, a.para\"\"\"\n",
    "    query_tables =[\"ft as a\"]\n",
    "    query_term_conditions = [\"a.word =?\"]\n",
    "    query_param = [first]\n",
    "    word_index = 0\n",
    "    for w in words[1:]:\n",
    "        tname = \"t\" + str(word_index)\n",
    "        query_tables.append(\"(select identifier, para, word from ft indexed by _wip_ where word = ?) as {tname}\".format(tname=tname))\n",
    "        query_param.append(w)\n",
    "        query_term_conditions += [\"{tname}.identifier = a.identifier\".format(tname=tname),\"{tname}.para = a.para\".format(tname=tname)]\n",
    "        word_index += 1\n",
    "    sql_query = query_term_select + \" from \" + ', '.join(query_tables) + \" where \" + ' and '.join(query_term_conditions)\n",
    "    return sql_query, tuple(query_param)"
   ]
  },
  {
   "cell_type": "code",
   "execution_count": 14,
   "metadata": {},
   "outputs": [
    {
     "data": {
      "text/plain": [
       "('select distinct a.identifier, a.para from ft as a, (select identifier, para, word from ft where word = ?) as t0, (select identifier, para, word from ft where word = ?) as t1 where a.word =? and t0.identifier = a.identifier and t0.para = a.para and t1.identifier = a.identifier and t1.para = a.para',\n",
       " ('spise', 'middag', 'alene'))"
      ]
     },
     "execution_count": 14,
     "metadata": {},
     "output_type": "execute_result"
    }
   ],
   "source": [
    "find_para(\"spise middag alene\".split())"
   ]
  },
  {
   "cell_type": "code",
   "execution_count": 29,
   "metadata": {},
   "outputs": [
    {
     "data": {
      "text/plain": [
       "[(2007011001037, 124),\n",
       " (2007011001037, 326),\n",
       " (2007021601053, 1165),\n",
       " (2007062500073, 151),\n",
       " (2008010704051, 1407),\n",
       " (2008041100060, 230),\n",
       " (2008041500016, 212),\n",
       " (2008041804016, 1882),\n",
       " (2010061806019, 248),\n",
       " (2010061806019, 729),\n",
       " (2010070206065, 2304),\n",
       " (2012042508132, 255),\n",
       " (2012071105089, 142)]"
      ]
     },
     "execution_count": 29,
     "metadata": {},
     "output_type": "execute_result"
    }
   ],
   "source": [
    "sql, param = find_para_ix(\"sp\".split())\n",
    "res = query(db, sql, param)\n",
    "res"
   ]
  },
  {
   "cell_type": "code",
   "execution_count": 58,
   "metadata": {},
   "outputs": [],
   "source": [
    "sql, param = find_para_ix(\"spar noe til meg litt igjen andre imidlertid\".split())\n",
    "res = query(db, sql, param)\n",
    "for row in res:\n",
    "    r = query(db, \"select identifier, para, group_concat(word, ' ') from (select identifier, para, word from ft where identifier = ? and para = ? order by rowid)  group by identifier, para \", row)\n",
    "    (x, y, z) = r[0]\n",
    "    print(x, y, z)\n",
    "    print()\n",
    "  #  print(ident, p, ' '.join(t))"
   ]
  },
  {
   "cell_type": "code",
   "execution_count": 47,
   "metadata": {},
   "outputs": [
    {
     "name": "stdout",
     "output_type": "stream",
     "text": [
      "3.8772314389546714\n"
     ]
    }
   ],
   "source": [
    "i = time()\n",
    "query(db, \"create index _ipw_ on ft (identifier, para, word)\")\n",
    "print((time() - i)/60)"
   ]
  },
  {
   "cell_type": "code",
   "execution_count": 63,
   "metadata": {},
   "outputs": [
    {
     "data": {
      "text/plain": [
       "[]"
      ]
     },
     "execution_count": 63,
     "metadata": {},
     "output_type": "execute_result"
    }
   ],
   "source": [
    "query(db, \"\"\"select a.identifier, a.para, a.word, c.word from ft as a, \n",
    "(select b.identifier, b.para, b.word from ft as b where b.word = 'spiser') as c\n",
    "      where c.identifier = a.identifier and c.para = a.para and a.word = 'Middag'\"\"\")"
   ]
  },
  {
   "cell_type": "code",
   "execution_count": 52,
   "metadata": {},
   "outputs": [
    {
     "data": {
      "text/plain": [
       "[(2006080900001, 32, 'xc3'),\n",
       " (2006080900001, 32, 'xc3'),\n",
       " (2006080900001, 32, 'xc3'),\n",
       " (2006080900001, 32, 'xc3'),\n",
       " (2006080900001, 32, 'xc3'),\n",
       " (2006080900001, 32, 'xc3'),\n",
       " (2006080900001, 32, 'xc3'),\n",
       " (2006080900001, 32, 'xc3'),\n",
       " (2006080900001, 32, 'xc3'),\n",
       " (2006080900001, 32, 'xc3'),\n",
       " (2006080900001, 32, 'xc3'),\n",
       " (2006080900001, 32, 'xc3'),\n",
       " (2006080900001, 32, 'xc3'),\n",
       " (2006080900001, 32, 'xc3'),\n",
       " (2006080900001, 32, 'xc3'),\n",
       " (2006080900001, 32, 'xc3'),\n",
       " (2006080900001, 32, 'xc3'),\n",
       " (2006080900001, 32, 'xc3'),\n",
       " (2006080900001, 32, 'xc3'),\n",
       " (2006080900001, 32, 'xc3')]"
      ]
     },
     "execution_count": 52,
     "metadata": {},
     "output_type": "execute_result"
    }
   ],
   "source": [
    "query(db, \"select * from ft where word = 'xc3'\")"
   ]
  },
  {
   "cell_type": "code",
   "execution_count": 5,
   "metadata": {},
   "outputs": [
    {
     "data": {
      "text/plain": [
       "[('Middag', 'Middag'),\n",
       " ('Middag', 'Middag'),\n",
       " ('Middag', 'Middag'),\n",
       " ('Middag', 'Middag'),\n",
       " ('Middag', 'Middag'),\n",
       " ('Middag', 'Middag'),\n",
       " ('Middag', 'Middag'),\n",
       " ('Middag', 'Middag'),\n",
       " ('Middag', 'Middag'),\n",
       " ('Middag', 'Middag'),\n",
       " ('Middag', 'Middag'),\n",
       " ('Middag', 'Middag'),\n",
       " ('Middag', 'Middag'),\n",
       " ('Middag', 'Middag'),\n",
       " ('Middag', 'Middag')]"
      ]
     },
     "execution_count": 5,
     "metadata": {},
     "output_type": "execute_result"
    }
   ],
   "source": [
    "query(db, \"\"\"select b.word, group_concat(c.word) from ft as c, (select a.identifier, a.para, a.word from ft as a\n",
    "where a.word = 'Middag') as b where c.identifier = b.identifier and c.para = b.para group by c.identifier, c.para\"\"\")"
   ]
  },
  {
   "cell_type": "code",
   "execution_count": 9,
   "metadata": {},
   "outputs": [
    {
     "data": {
      "text/plain": [
       "[(2009072901003, 340, 'Spises med flatbr\\\\xc3\\\\xb8d eller poteter til.'),\n",
       " (2011041820025, 392, 'Spises med flatbr\\\\xc3\\\\xb8d eller poteter til.')]"
      ]
     },
     "execution_count": 9,
     "metadata": {},
     "output_type": "execute_result"
    }
   ],
   "source": [
    "query(db, \"select * from ft where word like 'spise%flatbr%'\")"
   ]
  }
 ],
 "metadata": {
  "kernelspec": {
   "display_name": "Python 3",
   "language": "python",
   "name": "python3"
  },
  "language_info": {
   "codemirror_mode": {
    "name": "ipython",
    "version": 3
   },
   "file_extension": ".py",
   "mimetype": "text/x-python",
   "name": "python",
   "nbconvert_exporter": "python",
   "pygments_lexer": "ipython3",
   "version": "3.7.3"
  }
 },
 "nbformat": 4,
 "nbformat_minor": 2
}

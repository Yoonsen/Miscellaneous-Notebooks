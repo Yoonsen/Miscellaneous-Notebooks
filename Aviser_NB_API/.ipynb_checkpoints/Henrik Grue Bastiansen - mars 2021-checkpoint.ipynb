{
 "cells": [
  {
   "cell_type": "markdown",
   "metadata": {},
   "source": [
    "# Kollokasjoner\n"
   ]
  },
  {
   "cell_type": "code",
   "execution_count": 2,
   "metadata": {},
   "outputs": [],
   "source": [
    "import dhlab.nbtext as nb\n",
    "import dhlab.module_update as mu\n",
    "import pandas as pd"
   ]
  },
  {
   "cell_type": "markdown",
   "metadata": {},
   "source": [
    "### Litt kode for styling - forstørre fonter i notebook"
   ]
  },
  {
   "cell_type": "code",
   "execution_count": 3,
   "metadata": {},
   "outputs": [
    {
     "data": {
      "text/html": [
       "<style>@import url(\n",
       "http://fonts.googleapis.com/css?family=Lato|Philosopher|Montserrat|Source+Code+Pro|Merriweather|Shippori+Mincho|Istok+Web|Philosopher|Assistant:200,400,700);\n",
       "\n",
       "/*\n",
       "#notebook-container {\n",
       "\t-webkit-box-shadow: none;\n",
       "\tbox-shadow: none;\n",
       "}\n",
       "*/\n",
       "\n",
       "h1, h2, h3, h4, h5, h6 {\n",
       "\tfont-family: 'Montserrat', sans-serif;\n",
       "\tline-height: 2em;\n",
       "    color: #004f99;\n",
       "    font-weight: 600;\n",
       "}\n",
       "\n",
       "h1 { font-size: 4.5em; }\n",
       "h2 { font-size: 4em; }\n",
       "h3 { font-size: 3.5em; }\n",
       "h4 { font-size: 3em; }\n",
       "h5 { font-size: 2.5em; color:DarkSlateGray; }\n",
       "h6 { font-size: 2em; }\n",
       "\n",
       "p {\n",
       "\tfont-family: 'Shippori+Mincho'; \n",
       "\tfont-size:1.1em;\n",
       "\tcolor: DarkSlateGray;\n",
       "}\n",
       "\n",
       "div.input_area {\n",
       "\tborder:none !important;\n",
       "\tborder-left:1px solid #ff851b !important\n",
       "}\n",
       "\n",
       "span.cm-keyword {\n",
       "\tcolor:#339966 !important;\n",
       "}\n",
       "span.nn {  /*span.cm-variable, span.cm-property*/\n",
       "\tcolor: #3399ff !important;\n",
       "}\n",
       "\n",
       "\n",
       "div.CodeMirror {\n",
       "\tfont-family: 'Inconsolata', monospace;\n",
       "\tfont-size: 1.1em;\n",
       "\t\n",
       "}\n",
       "</style>"
      ],
      "text/plain": [
       "<IPython.core.display.HTML object>"
      ]
     },
     "execution_count": 3,
     "metadata": {},
     "output_type": "execute_result"
    }
   ],
   "source": [
    "mu.css()"
   ]
  },
  {
   "cell_type": "code",
   "execution_count": 7,
   "metadata": {},
   "outputs": [
    {
     "data": {
      "text/html": [
       "<style>\n",
       "p {font-size:1.4em}\n",
       "</style>\n"
      ],
      "text/plain": [
       "<IPython.core.display.HTML object>"
      ]
     },
     "metadata": {},
     "output_type": "display_data"
    }
   ],
   "source": [
    "%%HTML\n",
    "<style>\n",
    "p {font-size:1.4em}\n",
    "</style>"
   ]
  },
  {
   "cell_type": "markdown",
   "metadata": {},
   "source": [
    "# Analyse"
   ]
  },
  {
   "cell_type": "markdown",
   "metadata": {},
   "source": [
    "I python er det litt enklere å jobbe med variabler. De setter vi på venstre side av likhetstegnet, og lar definisjonen stå på høyre side."
   ]
  },
  {
   "cell_type": "code",
   "execution_count": 9,
   "metadata": {},
   "outputs": [],
   "source": [
    "kollokasjonsord = 'journalistikk'\n",
    "startår = 1950\n",
    "sluttår = 1955"
   ]
  },
  {
   "cell_type": "markdown",
   "metadata": {},
   "source": [
    "Neste kommando lager kollokasjonen for det ordet for en periode. Merk at vi har brukt variabelnavnene i oppbyggingen av kollokasjonen"
   ]
  },
  {
   "cell_type": "code",
   "execution_count": 10,
   "metadata": {},
   "outputs": [],
   "source": [
    "coll = nb.collocation(kollokasjonsord, yearfrom = startår, yearto = sluttår, corpus = 'avis', before = 5, after = 5)"
   ]
  },
  {
   "cell_type": "markdown",
   "metadata": {},
   "source": [
    "Neste trinn består i å set på kollokasjonsdataene, om det er mye data, eller lite"
   ]
  },
  {
   "cell_type": "code",
   "execution_count": 13,
   "metadata": {},
   "outputs": [
    {
     "data": {
      "text/plain": [
       "0    12650\n",
       "dtype: int64"
      ]
     },
     "execution_count": 13,
     "metadata": {},
     "output_type": "execute_result"
    }
   ],
   "source": [
    "# antall ord\n",
    "coll.sum()"
   ]
  },
  {
   "cell_type": "code",
   "execution_count": 20,
   "metadata": {},
   "outputs": [],
   "source": [
    "coll_tot = coll.sum()"
   ]
  },
  {
   "cell_type": "markdown",
   "metadata": {},
   "source": [
    "Vi kan sammenligne med en referanse, bruker normalen fra bøker."
   ]
  },
  {
   "cell_type": "code",
   "execution_count": 14,
   "metadata": {},
   "outputs": [],
   "source": [
    "ref = nb.frame(nb.totals(150000))"
   ]
  },
  {
   "cell_type": "markdown",
   "metadata": {},
   "source": [
    "Tolkning gjøres litt lettere om frekvenstallen normaliseres til proporsjoner, altså at tallene står for prosenter"
   ]
  },
  {
   "cell_type": "code",
   "execution_count": 19,
   "metadata": {},
   "outputs": [],
   "source": [
    "nb.normalize_corpus_dataframe(ref)\n",
    "ref = ref * 100 # gangr med 100 for prosent"
   ]
  },
  {
   "cell_type": "code",
   "execution_count": 21,
   "metadata": {},
   "outputs": [],
   "source": [
    "nb.normalize_corpus_dataframe(coll)\n",
    "coll = coll * 100"
   ]
  },
  {
   "cell_type": "markdown",
   "metadata": {},
   "source": [
    "Lager en variabel `assoc`for å lagre de viktigste ordene"
   ]
  },
  {
   "cell_type": "code",
   "execution_count": 22,
   "metadata": {},
   "outputs": [],
   "source": [
    "assoc = nb.frame_sort(nb.frame(coll[0]/ref[0]))"
   ]
  },
  {
   "cell_type": "markdown",
   "metadata": {},
   "source": [
    "Forskjellene blir noe forstørret når det er lite data i kollokasjonen. "
   ]
  },
  {
   "cell_type": "code",
   "execution_count": 23,
   "metadata": {},
   "outputs": [
    {
     "data": {
      "text/html": [
       "<div>\n",
       "<style scoped>\n",
       "    .dataframe tbody tr th:only-of-type {\n",
       "        vertical-align: middle;\n",
       "    }\n",
       "\n",
       "    .dataframe tbody tr th {\n",
       "        vertical-align: top;\n",
       "    }\n",
       "\n",
       "    .dataframe thead th {\n",
       "        text-align: right;\n",
       "    }\n",
       "</style>\n",
       "<table border=\"1\" class=\"dataframe\">\n",
       "  <thead>\n",
       "    <tr style=\"text-align: right;\">\n",
       "      <th></th>\n",
       "      <th>0</th>\n",
       "    </tr>\n",
       "  </thead>\n",
       "  <tbody>\n",
       "    <tr>\n",
       "      <th>Arbeiderbladets</th>\n",
       "      <td>2006.931028</td>\n",
       "    </tr>\n",
       "    <tr>\n",
       "      <th>Dagbladets</th>\n",
       "      <td>1466.084626</td>\n",
       "    </tr>\n",
       "    <tr>\n",
       "      <th>vederheftig</th>\n",
       "      <td>1270.960613</td>\n",
       "    </tr>\n",
       "    <tr>\n",
       "      <th>forlagsvirksomhet</th>\n",
       "      <td>1147.620175</td>\n",
       "    </tr>\n",
       "    <tr>\n",
       "      <th>fodes</th>\n",
       "      <td>1096.961220</td>\n",
       "    </tr>\n",
       "    <tr>\n",
       "      <th>forfatter-</th>\n",
       "      <td>1077.285531</td>\n",
       "    </tr>\n",
       "    <tr>\n",
       "      <th>gangster</th>\n",
       "      <td>909.199405</td>\n",
       "    </tr>\n",
       "    <tr>\n",
       "      <th>Betingelsene</th>\n",
       "      <td>866.189885</td>\n",
       "    </tr>\n",
       "    <tr>\n",
       "      <th>uansvarlig</th>\n",
       "      <td>813.405483</td>\n",
       "    </tr>\n",
       "    <tr>\n",
       "      <th>sjofle</th>\n",
       "      <td>756.327737</td>\n",
       "    </tr>\n",
       "    <tr>\n",
       "      <th>ansvarsbevisste</th>\n",
       "      <td>733.508849</td>\n",
       "    </tr>\n",
       "    <tr>\n",
       "      <th>ikké</th>\n",
       "      <td>637.761284</td>\n",
       "    </tr>\n",
       "    <tr>\n",
       "      <th>lægene</th>\n",
       "      <td>622.129880</td>\n",
       "    </tr>\n",
       "    <tr>\n",
       "      <th>uvettig</th>\n",
       "      <td>620.897939</td>\n",
       "    </tr>\n",
       "    <tr>\n",
       "      <th>scenekunst</th>\n",
       "      <td>618.592179</td>\n",
       "    </tr>\n",
       "    <tr>\n",
       "      <th>postulater</th>\n",
       "      <td>593.355464</td>\n",
       "    </tr>\n",
       "    <tr>\n",
       "      <th>idretts</th>\n",
       "      <td>590.987173</td>\n",
       "    </tr>\n",
       "    <tr>\n",
       "      <th>rommes</th>\n",
       "      <td>574.955108</td>\n",
       "    </tr>\n",
       "    <tr>\n",
       "      <th>grell</th>\n",
       "      <td>554.211771</td>\n",
       "    </tr>\n",
       "    <tr>\n",
       "      <th>oo-</th>\n",
       "      <td>521.821714</td>\n",
       "    </tr>\n",
       "  </tbody>\n",
       "</table>\n",
       "</div>"
      ],
      "text/plain": [
       "                             0\n",
       "Arbeiderbladets    2006.931028\n",
       "Dagbladets         1466.084626\n",
       "vederheftig        1270.960613\n",
       "forlagsvirksomhet  1147.620175\n",
       "fodes              1096.961220\n",
       "forfatter-         1077.285531\n",
       "gangster            909.199405\n",
       "Betingelsene        866.189885\n",
       "uansvarlig          813.405483\n",
       "sjofle              756.327737\n",
       "ansvarsbevisste     733.508849\n",
       "ikké                637.761284\n",
       "lægene              622.129880\n",
       "uvettig             620.897939\n",
       "scenekunst          618.592179\n",
       "postulater          593.355464\n",
       "idretts             590.987173\n",
       "rommes              574.955108\n",
       "grell               554.211771\n",
       "oo-                 521.821714"
      ]
     },
     "execution_count": 23,
     "metadata": {},
     "output_type": "execute_result"
    }
   ],
   "source": [
    "assoc.head(20)"
   ]
  },
  {
   "cell_type": "markdown",
   "metadata": {},
   "source": [
    "## Studiet av forhåndsdefineret nøkkelord"
   ]
  },
  {
   "cell_type": "code",
   "execution_count": 24,
   "metadata": {},
   "outputs": [],
   "source": [
    "nøkkelord = [\"journalist\", \"redaktør\", \"journalisten\", \"readaktøren\", \"sport\", \"utenriks\", \"innenrik\"]"
   ]
  },
  {
   "cell_type": "markdown",
   "metadata": {},
   "source": [
    "Først ser vi på hvordan forskjellene er, dernest på frekvensen"
   ]
  },
  {
   "cell_type": "code",
   "execution_count": 27,
   "metadata": {},
   "outputs": [
    {
     "data": {
      "text/plain": [
       "<matplotlib.axes._subplots.AxesSubplot at 0x1885629b1f0>"
      ]
     },
     "execution_count": 27,
     "metadata": {},
     "output_type": "execute_result"
    },
    {
     "data": {
      "image/png": "[encoded data removed]",
      "text/plain": [
       "<Figure size 432x288 with 1 Axes>"
      ]
     },
     "metadata": {
      "needs_background": "light"
     },
     "output_type": "display_data"
    }
   ],
   "source": [
    "assoc.loc[[x for  x in nøkkelord if x in assoc.index]].plot(kind='bar', rot=30)"
   ]
  },
  {
   "cell_type": "code",
   "execution_count": null,
   "metadata": {},
   "outputs": [],
   "source": []
  },
  {
   "cell_type": "code",
   "execution_count": 29,
   "metadata": {},
   "outputs": [
    {
     "data": {
      "text/plain": [
       "<matplotlib.axes._subplots.AxesSubplot at 0x18856419be0>"
      ]
     },
     "execution_count": 29,
     "metadata": {},
     "output_type": "execute_result"
    },
    {
     "data": {
      "image/png": "[encoded data removed]",
      "text/plain": [
       "<Figure size 432x288 with 1 Axes>"
      ]
     },
     "metadata": {
      "needs_background": "light"
     },
     "output_type": "display_data"
    }
   ],
   "source": [
    "coll.loc[[x for  x in nøkkelord if x in coll.index]].plot(kind='bar', rot=30)"
   ]
  },
  {
   "cell_type": "code",
   "execution_count": null,
   "metadata": {},
   "outputs": [],
   "source": []
  }
 ],
 "metadata": {
  "kernelspec": {
   "display_name": "Python 3",
   "language": "python",
   "name": "python3"
  },
  "language_info": {
   "codemirror_mode": {
    "name": "ipython",
    "version": 3
   },
   "file_extension": ".py",
   "mimetype": "text/x-python",
   "name": "python",
   "nbconvert_exporter": "python",
   "pygments_lexer": "ipython3",
   "version": "3.8.3"
  }
 },
 "nbformat": 4,
 "nbformat_minor": 4
}

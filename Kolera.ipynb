{
 "cells": [
  {
   "cell_type": "markdown",
   "metadata": {},
   "source": [
    "# Aviser\n",
    "\n",
    "Aviser skiller seg litt fra bøker ved at de utkommer daglig, sånn at datoer er en viktig del i konkordanser og kollokasjoner."
   ]
  },
  {
   "cell_type": "code",
   "execution_count": 1,
   "metadata": {},
   "outputs": [
    {
     "data": {
      "text/markdown": [
       "Updated file `D:\\documents\\GitHub\\Miscellaneous-Notebooks\\collocations.py`"
      ],
      "text/plain": [
       "<IPython.core.display.Markdown object>"
      ]
     },
     "metadata": {},
     "output_type": "display_data"
    },
    {
     "data": {
      "text/html": [
       "<style>@import url(\n",
       "http://fonts.googleapis.com/css?family=Lato|Philosopher|Montserrat|Source+Code+Pro|Istok+Web|Philosopher|Assistant:200,400,700);\n",
       "\n",
       "/*\n",
       "#notebook-container {\n",
       "\t-webkit-box-shadow: none;\n",
       "\tbox-shadow: none;\n",
       "}\n",
       "*/\n",
       "\n",
       "h1, h2, h3, h4, h5, h6 {\n",
       "\tfont-family: 'Montserrat', sans-serif;\n",
       "\tline-height: 2em;\n",
       "    color: #004f99;\n",
       "    font-weight: 600;\n",
       "}\n",
       "\n",
       "h1 { font-size: 4.5em; }\n",
       "h2 { font-size: 4em; }\n",
       "h3 { font-size: 3.5em; }\n",
       "h4 { font-size: 3em; }\n",
       "h5 { font-size: 2.5em; color:DarkSlateGray; }\n",
       "h6 { font-size: 2em; }\n",
       "\n",
       "p {\n",
       "\tfont-family: 'Assistant', sans-serif; \n",
       "\tfont-size: 1.2em;\n",
       "\tline-height: 1.4em;\n",
       "\tcolor: black;\n",
       "}\n",
       "p code {\n",
       "\tfont-size:0.9em;\n",
       "}\n",
       "div.input_area {\n",
       "\tborder:none !important;\n",
       "\tborder-left:1px solid #ff851b !important\n",
       "}\n",
       "\n",
       "span.cm-keyword {\n",
       "\tcolor:#339966 !important;\n",
       "}\n",
       "span.nn {  /*span.cm-variable, span.cm-property*/\n",
       "\tcolor: #3399ff !important;\n",
       "}\n",
       "div.CodeMirror {\n",
       "\tfont-family: 'Inconsolata', monospace;\n",
       "\tfont-size: 1.1em;\n",
       "\t\n",
       "}\n",
       "</style>"
      ],
      "text/plain": [
       "<IPython.core.display.HTML object>"
      ]
     },
     "execution_count": 1,
     "metadata": {},
     "output_type": "execute_result"
    }
   ],
   "source": [
    "import dhlab.nbtext as nb\n",
    "import dhlab.module_update as mu\n",
    "mu.update('collocations', overwrite=True)\n",
    "import collocations as col\n",
    "import dhlab.graph_networkx_louvain as gnl\n",
    "from IPython.display import HTML\n",
    "mu.css()"
   ]
  },
  {
   "cell_type": "markdown",
   "metadata": {},
   "source": [
    "## Referansedata\n",
    "\n",
    "frekvenslisten for de 50000 meste frekvente i Bokhylla bøker."
   ]
  },
  {
   "cell_type": "code",
   "execution_count": 2,
   "metadata": {},
   "outputs": [
    {
     "data": {
      "text/plain": [
       "True"
      ]
     },
     "execution_count": 2,
     "metadata": {},
     "output_type": "execute_result"
    }
   ],
   "source": [
    "tot = nb.frame(nb.totals(50000), 'tot')\n",
    "nb.normalize_corpus_dataframe(tot)"
   ]
  },
  {
   "cell_type": "code",
   "execution_count": 3,
   "metadata": {},
   "outputs": [
    {
     "data": {
      "text/html": [
       "<div>\n",
       "<style scoped>\n",
       "    .dataframe tbody tr th:only-of-type {\n",
       "        vertical-align: middle;\n",
       "    }\n",
       "\n",
       "    .dataframe tbody tr th {\n",
       "        vertical-align: top;\n",
       "    }\n",
       "\n",
       "    .dataframe thead th {\n",
       "        text-align: right;\n",
       "    }\n",
       "</style>\n",
       "<table border=\"1\" class=\"dataframe\">\n",
       "  <thead>\n",
       "    <tr style=\"text-align: right;\">\n",
       "      <th></th>\n",
       "      <th>total</th>\n",
       "    </tr>\n",
       "  </thead>\n",
       "  <tbody>\n",
       "    <tr>\n",
       "      <th>.</th>\n",
       "      <td>1265723110</td>\n",
       "    </tr>\n",
       "    <tr>\n",
       "      <th>,</th>\n",
       "      <td>1105303412</td>\n",
       "    </tr>\n",
       "    <tr>\n",
       "      <th>og</th>\n",
       "      <td>543432056</td>\n",
       "    </tr>\n",
       "    <tr>\n",
       "      <th>i</th>\n",
       "      <td>460246057</td>\n",
       "    </tr>\n",
       "    <tr>\n",
       "      <th>det</th>\n",
       "      <td>273411583</td>\n",
       "    </tr>\n",
       "    <tr>\n",
       "      <th>som</th>\n",
       "      <td>265144740</td>\n",
       "    </tr>\n",
       "    <tr>\n",
       "      <th>til</th>\n",
       "      <td>254500136</td>\n",
       "    </tr>\n",
       "    <tr>\n",
       "      <th>er</th>\n",
       "      <td>248764786</td>\n",
       "    </tr>\n",
       "    <tr>\n",
       "      <th>av</th>\n",
       "      <td>235180661</td>\n",
       "    </tr>\n",
       "    <tr>\n",
       "      <th>en</th>\n",
       "      <td>231631623</td>\n",
       "    </tr>\n",
       "    <tr>\n",
       "      <th>på</th>\n",
       "      <td>205990369</td>\n",
       "    </tr>\n",
       "    <tr>\n",
       "      <th>for</th>\n",
       "      <td>202452659</td>\n",
       "    </tr>\n",
       "    <tr>\n",
       "      <th>at</th>\n",
       "      <td>199527660</td>\n",
       "    </tr>\n",
       "    <tr>\n",
       "      <th>-</th>\n",
       "      <td>195716474</td>\n",
       "    </tr>\n",
       "    <tr>\n",
       "      <th>å</th>\n",
       "      <td>184201667</td>\n",
       "    </tr>\n",
       "    <tr>\n",
       "      <th>med</th>\n",
       "      <td>182427175</td>\n",
       "    </tr>\n",
       "    <tr>\n",
       "      <th>)</th>\n",
       "      <td>172258528</td>\n",
       "    </tr>\n",
       "    <tr>\n",
       "      <th>var</th>\n",
       "      <td>153392365</td>\n",
       "    </tr>\n",
       "    <tr>\n",
       "      <th>?</th>\n",
       "      <td>151860120</td>\n",
       "    </tr>\n",
       "    <tr>\n",
       "      <th>den</th>\n",
       "      <td>151216998</td>\n",
       "    </tr>\n",
       "    <tr>\n",
       "      <th>(</th>\n",
       "      <td>149848981</td>\n",
       "    </tr>\n",
       "    <tr>\n",
       "      <th>de</th>\n",
       "      <td>140087564</td>\n",
       "    </tr>\n",
       "    <tr>\n",
       "      <th>ikke</th>\n",
       "      <td>137898651</td>\n",
       "    </tr>\n",
       "    <tr>\n",
       "      <th>:</th>\n",
       "      <td>121576250</td>\n",
       "    </tr>\n",
       "    <tr>\n",
       "      <th>han</th>\n",
       "      <td>115410512</td>\n",
       "    </tr>\n",
       "    <tr>\n",
       "      <th>«</th>\n",
       "      <td>110767054</td>\n",
       "    </tr>\n",
       "    <tr>\n",
       "      <th>»</th>\n",
       "      <td>109061643</td>\n",
       "    </tr>\n",
       "    <tr>\n",
       "      <th>har</th>\n",
       "      <td>106345926</td>\n",
       "    </tr>\n",
       "    <tr>\n",
       "      <th>om</th>\n",
       "      <td>105027818</td>\n",
       "    </tr>\n",
       "    <tr>\n",
       "      <th>et</th>\n",
       "      <td>101265956</td>\n",
       "    </tr>\n",
       "    <tr>\n",
       "      <th>Det</th>\n",
       "      <td>83547318</td>\n",
       "    </tr>\n",
       "    <tr>\n",
       "      <th>seg</th>\n",
       "      <td>81416487</td>\n",
       "    </tr>\n",
       "    <tr>\n",
       "      <th>jeg</th>\n",
       "      <td>78933399</td>\n",
       "    </tr>\n",
       "    <tr>\n",
       "      <th>kan</th>\n",
       "      <td>73927079</td>\n",
       "    </tr>\n",
       "    <tr>\n",
       "      <th>hadde</th>\n",
       "      <td>71847548</td>\n",
       "    </tr>\n",
       "    <tr>\n",
       "      <th>fra</th>\n",
       "      <td>69117414</td>\n",
       "    </tr>\n",
       "    <tr>\n",
       "      <th>the</th>\n",
       "      <td>67321844</td>\n",
       "    </tr>\n",
       "    <tr>\n",
       "      <th>;</th>\n",
       "      <td>66435795</td>\n",
       "    </tr>\n",
       "    <tr>\n",
       "      <th>I</th>\n",
       "      <td>65219798</td>\n",
       "    </tr>\n",
       "    <tr>\n",
       "      <th>så</th>\n",
       "      <td>64511455</td>\n",
       "    </tr>\n",
       "    <tr>\n",
       "      <th>/</th>\n",
       "      <td>63743544</td>\n",
       "    </tr>\n",
       "    <tr>\n",
       "      <th>—</th>\n",
       "      <td>62755431</td>\n",
       "    </tr>\n",
       "    <tr>\n",
       "      <th>eller</th>\n",
       "      <td>58977088</td>\n",
       "    </tr>\n",
       "    <tr>\n",
       "      <th>\"</th>\n",
       "      <td>57203817</td>\n",
       "    </tr>\n",
       "    <tr>\n",
       "      <th>vi</th>\n",
       "      <td>55224841</td>\n",
       "    </tr>\n",
       "    <tr>\n",
       "      <th>1</th>\n",
       "      <td>55206662</td>\n",
       "    </tr>\n",
       "    <tr>\n",
       "      <th>men</th>\n",
       "      <td>54226438</td>\n",
       "    </tr>\n",
       "    <tr>\n",
       "      <th>ved</th>\n",
       "      <td>53804034</td>\n",
       "    </tr>\n",
       "    <tr>\n",
       "      <th>'</th>\n",
       "      <td>52892026</td>\n",
       "    </tr>\n",
       "    <tr>\n",
       "      <th>du</th>\n",
       "      <td>51433633</td>\n",
       "    </tr>\n",
       "  </tbody>\n",
       "</table>\n",
       "</div>"
      ],
      "text/plain": [
       "            total\n",
       ".      1265723110\n",
       ",      1105303412\n",
       "og      543432056\n",
       "i       460246057\n",
       "det     273411583\n",
       "som     265144740\n",
       "til     254500136\n",
       "er      248764786\n",
       "av      235180661\n",
       "en      231631623\n",
       "på      205990369\n",
       "for     202452659\n",
       "at      199527660\n",
       "-       195716474\n",
       "å       184201667\n",
       "med     182427175\n",
       ")       172258528\n",
       "var     153392365\n",
       "?       151860120\n",
       "den     151216998\n",
       "(       149848981\n",
       "de      140087564\n",
       "ikke    137898651\n",
       ":       121576250\n",
       "han     115410512\n",
       "«       110767054\n",
       "»       109061643\n",
       "har     106345926\n",
       "om      105027818\n",
       "et      101265956\n",
       "Det      83547318\n",
       "seg      81416487\n",
       "jeg      78933399\n",
       "kan      73927079\n",
       "hadde    71847548\n",
       "fra      69117414\n",
       "the      67321844\n",
       ";        66435795\n",
       "I        65219798\n",
       "så       64511455\n",
       "/        63743544\n",
       "—        62755431\n",
       "eller    58977088\n",
       "\"        57203817\n",
       "vi       55224841\n",
       "1        55206662\n",
       "men      54226438\n",
       "ved      53804034\n",
       "'        52892026\n",
       "du       51433633"
      ]
     },
     "execution_count": 3,
     "metadata": {},
     "output_type": "execute_result"
    }
   ],
   "source": [
    "nb.frame(nb.totals(50), 'total')"
   ]
  },
  {
   "cell_type": "markdown",
   "metadata": {},
   "source": [
    "# Konkordanser"
   ]
  },
  {
   "cell_type": "code",
   "execution_count": 4,
   "metadata": {},
   "outputs": [
    {
     "data": {
      "text/html": [
       "<table><tr><td><a href='https://www.nb.no/items/URN:NBN:no-nb_digavis_morgenbladet_null_null_18531116_35_320_1' target='_'>https://www.nb.no/items/URN:NBN:no-nb_digavis_morgenbladet_null_null_18531116_35_320_1</a></td><td>Bde dennes er her i Byen l angreben og 1 dod af</td><td>Kolera</td><td style='text-align:left'>. Af Kolonne er i samme Tid anmeldte 4 Tilfcrlde . Paa</td></tr>\n",
       "<tr><td><a href='https://www.nb.no/items/URN:NBN:no-nb_digavis_morgenbladet_null_null_18531213_35_347_1' target='_'>https://www.nb.no/items/URN:NBN:no-nb_digavis_morgenbladet_null_null_18531213_35_347_1</a></td><td>Christiania og Akers Sogn . Drammen , den 10 de December .</td><td>Kolera</td><td style='text-align:left'>i Drammen . Anmeldte . Dooe . Fra 28 de Aug .</td></tr>\n",
       "<tr><td><a href='https://www.nb.no/items/URN:NBN:no-nb_digavis_morgenbladet_null_null_18531215_35_349_1' target='_'>https://www.nb.no/items/URN:NBN:no-nb_digavis_morgenbladet_null_null_18531215_35_349_1</a></td><td>de December . Sidstleden Mandag dsde en Hmismand under Botne Prcrstegaard af</td><td>Kolera</td><td style='text-align:left'>. Han stod op og gik til Arbeide om Morgenen Kl .</td></tr>\n",
       "<tr><td><a href='https://www.nb.no/items/URN:NBN:no-nb_digavis_morgenbladet_null_null_18531215_35_349_1' target='_'>https://www.nb.no/items/URN:NBN:no-nb_digavis_morgenbladet_null_null_18531215_35_349_1</a></td><td>Ncrrheden af nogen Kolerasmiltet eller i en kolcrasmittet By eller Egn .</td><td>Kolera</td><td style='text-align:left'>er nemlig i Landdistriktet for ovcr 14 Dagc siden anmeldt som ophsrt</td></tr>\n",
       "<tr><td><a href='https://www.nb.no/items/URN:NBN:no-nb_digavis_morgenbladet_null_null_18531215_35_349_1' target='_'>https://www.nb.no/items/URN:NBN:no-nb_digavis_morgenbladet_null_null_18531215_35_349_1</a></td><td>samme Vei ncrrmere Byen , i mange Dage ikke har vidst af</td><td>Kolera</td><td style='text-align:left'>at Tilforselen af Varer fra Landet har i denne Uge vceret noget</td></tr>\n",
       "<tr><td><a href='https://www.nb.no/items/URN:NBN:no-nb_digavis_morgenbladet_null_null_18531215_35_349_1' target='_'>https://www.nb.no/items/URN:NBN:no-nb_digavis_morgenbladet_null_null_18531215_35_349_1</a></td><td>scnest modtagne Underretninger blive Christiania og Frcdcrikshald herefter at cmsce frie for</td><td>Kolera</td><td style='text-align:left'>; hvorimod fslgende indenrigske Steder fremdeles blive at ansee smittede : Drammen</td></tr>\n",
       "<tr><td><a href='https://www.nb.no/items/URN:NBN:no-nb_digavis_morgenbladet_null_null_18530730_35_211_1' target='_'>https://www.nb.no/items/URN:NBN:no-nb_digavis_morgenbladet_null_null_18530730_35_211_1</a></td><td>I2le 109 71 45 - I3de 125 34 41 af den asiatisic</td><td>Kolera</td><td style='text-align:left'>, at kunne » irre forlcledt paa dens Modtagelse , eller for</td></tr>\n",
       "<tr><td><a href='https://www.nb.no/items/URN:NBN:no-nb_digavis_morgenbladet_null_null_18530917_35_260_1' target='_'>https://www.nb.no/items/URN:NBN:no-nb_digavis_morgenbladet_null_null_18530917_35_260_1</a></td><td>Bjerksen i Sande Sogn stal have vist sig nogle Tilfcelde af ondartet</td><td>Kolera</td><td style='text-align:left'>. ( Holmestrandsp . ) Lriiustiv . 8 ved Ouncen es 8</td></tr>\n",
       "<tr><td><a href='https://www.nb.no/items/URN:NBN:no-nb_digavis_morgenbladet_null_null_18530925_35_268_1' target='_'>https://www.nb.no/items/URN:NBN:no-nb_digavis_morgenbladet_null_null_18530925_35_268_1</a></td><td>Lagen ikke var itvivl vm , at Patienten led af den ondartede</td><td>Kolera</td><td style='text-align:left'>; han blev derfor igaarmiddags bragt hen lil den strax udenfor Byen</td></tr>\n",
       "<tr><td><a href='https://www.nb.no/items/URN:NBN:no-nb_digavis_morgenbladet_null_null_18530925_35_268_1' target='_'>https://www.nb.no/items/URN:NBN:no-nb_digavis_morgenbladet_null_null_18530925_35_268_1</a></td><td>, bsr imidlertid ingenlunde vakke nogen Skrak eller Frygt for , at</td><td>Kolera</td><td style='text-align:left'>skulde begynde at udbrede sig ogsaa her , thi vi have nu</td></tr>\n",
       "<tr><td><a href='https://www.nb.no/items/URN:NBN:no-nb_digavis_morgenbladet_null_null_18530927_35_270_1' target='_'>https://www.nb.no/items/URN:NBN:no-nb_digavis_morgenbladet_null_null_18530927_35_270_1</a></td><td>at opvise Mage . IfolgePnvatcfterretningcr stal en enkelt Mand ucrre dod af</td><td>Kolera</td><td style='text-align:left'>i Hurum , hvorimod man i Tvelvig ikke har market noget Spor</td></tr>\n",
       "<tr><td><a href='https://www.nb.no/items/URN:NBN:no-nb_digavis_morgenbladet_null_null_18530927_35_270_1' target='_'>https://www.nb.no/items/URN:NBN:no-nb_digavis_morgenbladet_null_null_18530927_35_270_1</a></td><td>noget ncrrmere at betragte de lokale Forholde paa de Punkter , som</td><td>Kolera</td><td style='text-align:left'>ganske synes at staane , kunde ledes hen Zpaa mulige Konjekturer over</td></tr>\n",
       "<tr><td><a href='https://www.nb.no/items/URN:NBN:no-nb_digavis_morgenbladet_null_null_18530212_35_43_1' target='_'>https://www.nb.no/items/URN:NBN:no-nb_digavis_morgenbladet_null_null_18530212_35_43_1</a></td><td>de gik nedad Floderne lil Ny-Orleans . Her dsde Ssnneksnen ( af</td><td>Kolera</td><td style='text-align:left'>) og paa Hjemrejsen herfra til Liverpool den « ldste Ssnnessn .</td></tr>\n",
       "</table>"
      ],
      "text/plain": [
       "<IPython.core.display.HTML object>"
      ]
     },
     "execution_count": 4,
     "metadata": {},
     "output_type": "execute_result"
    }
   ],
   "source": [
    "col.conc_avis('Kolera', title='morgen%',  datefrom=\"1853-01-01\", dateto = \"1854-01-01\", size=20, before=12, after=12)"
   ]
  },
  {
   "cell_type": "code",
   "execution_count": 5,
   "metadata": {},
   "outputs": [
    {
     "data": {
      "text/html": [
       "<table><tr><td><a href='https://www.nb.no/items/URN:NBN:no-nb_digavis_dennorskerigstidende_null_null_18530907_39_72_1' target='_'>https://www.nb.no/items/URN:NBN:no-nb_digavis_dennorskerigstidende_null_null_18530907_39_72_1</a></td><td>Regjerings Departement for det Indre den 25 de October 1848. Den ondartede</td><td>Kolera</td><td style='text-align:left'>begynder enten pludselig med stor Heftighed , eller efter forudgaaende . Ildebefindende</td></tr>\n",
       "<tr><td><a href='https://www.nb.no/items/URN:NBN:no-nb_digavis_dennorskerigstidende_null_null_18530907_39_72_1' target='_'>https://www.nb.no/items/URN:NBN:no-nb_digavis_dennorskerigstidende_null_null_18530907_39_72_1</a></td><td>en passende Behandling , eller øpergaa til den sande kolera . Selve</td><td>Kolera</td><td style='text-align:left'>giver sig tilkjende ved Brakninger af en tynd Vcrdsie og tynde hyppige</td></tr>\n",
       "<tr><td><a href='https://www.nb.no/items/URN:NBN:no-nb_digavis_dennorskerigstidende_null_null_18530907_39_72_1' target='_'>https://www.nb.no/items/URN:NBN:no-nb_digavis_dennorskerigstidende_null_null_18530907_39_72_1</a></td><td>er gavnligt at anlægge et uldent Bcrlte . Selv efterat ben egentlige</td><td>Kolera</td><td style='text-align:left'>er opl ; ørt , indtrcede ofte heftige Eftersygdomme , som ogsaa</td></tr>\n",
       "<tr><td><a href='https://www.nb.no/items/URN:NBN:no-nb_digavis_morgenbladet_null_null_18531116_35_320_1' target='_'>https://www.nb.no/items/URN:NBN:no-nb_digavis_morgenbladet_null_null_18531116_35_320_1</a></td><td>Bde dennes er her i Byen l angreben og 1 dod af</td><td>Kolera</td><td style='text-align:left'>. Af Kolonne er i samme Tid anmeldte 4 Tilfcrlde . Paa</td></tr>\n",
       "<tr><td><a href='https://www.nb.no/items/URN:NBN:no-nb_digavis_morgenbladet_null_null_18531213_35_347_1' target='_'>https://www.nb.no/items/URN:NBN:no-nb_digavis_morgenbladet_null_null_18531213_35_347_1</a></td><td>Christiania og Akers Sogn . Drammen , den 10 de December .</td><td>Kolera</td><td style='text-align:left'>i Drammen . Anmeldte . Dooe . Fra 28 de Aug .</td></tr>\n",
       "<tr><td><a href='https://www.nb.no/items/URN:NBN:no-nb_digavis_morgenbladet_null_null_18531215_35_349_1' target='_'>https://www.nb.no/items/URN:NBN:no-nb_digavis_morgenbladet_null_null_18531215_35_349_1</a></td><td>de December . Sidstleden Mandag dsde en Hmismand under Botne Prcrstegaard af</td><td>Kolera</td><td style='text-align:left'>. Han stod op og gik til Arbeide om Morgenen Kl .</td></tr>\n",
       "<tr><td><a href='https://www.nb.no/items/URN:NBN:no-nb_digavis_morgenbladet_null_null_18531215_35_349_1' target='_'>https://www.nb.no/items/URN:NBN:no-nb_digavis_morgenbladet_null_null_18531215_35_349_1</a></td><td>Ncrrheden af nogen Kolerasmiltet eller i en kolcrasmittet By eller Egn .</td><td>Kolera</td><td style='text-align:left'>er nemlig i Landdistriktet for ovcr 14 Dagc siden anmeldt som ophsrt</td></tr>\n",
       "<tr><td><a href='https://www.nb.no/items/URN:NBN:no-nb_digavis_morgenbladet_null_null_18531215_35_349_1' target='_'>https://www.nb.no/items/URN:NBN:no-nb_digavis_morgenbladet_null_null_18531215_35_349_1</a></td><td>samme Vei ncrrmere Byen , i mange Dage ikke har vidst af</td><td>Kolera</td><td style='text-align:left'>at Tilforselen af Varer fra Landet har i denne Uge vceret noget</td></tr>\n",
       "<tr><td><a href='https://www.nb.no/items/URN:NBN:no-nb_digavis_morgenbladet_null_null_18531215_35_349_1' target='_'>https://www.nb.no/items/URN:NBN:no-nb_digavis_morgenbladet_null_null_18531215_35_349_1</a></td><td>scnest modtagne Underretninger blive Christiania og Frcdcrikshald herefter at cmsce frie for</td><td>Kolera</td><td style='text-align:left'>; hvorimod fslgende indenrigske Steder fremdeles blive at ansee smittede : Drammen</td></tr>\n",
       "<tr><td><a href='https://www.nb.no/items/URN:NBN:no-nb_digavis_morgenbladet_null_null_18530730_35_211_1' target='_'>https://www.nb.no/items/URN:NBN:no-nb_digavis_morgenbladet_null_null_18530730_35_211_1</a></td><td>I2le 109 71 45 - I3de 125 34 41 af den asiatisic</td><td>Kolera</td><td style='text-align:left'>, at kunne » irre forlcledt paa dens Modtagelse , eller for</td></tr>\n",
       "<tr><td><a href='https://www.nb.no/items/URN:NBN:no-nb_digavis_morgenbladet_null_null_18530917_35_260_1' target='_'>https://www.nb.no/items/URN:NBN:no-nb_digavis_morgenbladet_null_null_18530917_35_260_1</a></td><td>Bjerksen i Sande Sogn stal have vist sig nogle Tilfcelde af ondartet</td><td>Kolera</td><td style='text-align:left'>. ( Holmestrandsp . ) Lriiustiv . 8 ved Ouncen es 8</td></tr>\n",
       "<tr><td><a href='https://www.nb.no/items/URN:NBN:no-nb_digavis_morgenbladet_null_null_18530925_35_268_1' target='_'>https://www.nb.no/items/URN:NBN:no-nb_digavis_morgenbladet_null_null_18530925_35_268_1</a></td><td>Lagen ikke var itvivl vm , at Patienten led af den ondartede</td><td>Kolera</td><td style='text-align:left'>; han blev derfor igaarmiddags bragt hen lil den strax udenfor Byen</td></tr>\n",
       "<tr><td><a href='https://www.nb.no/items/URN:NBN:no-nb_digavis_morgenbladet_null_null_18530925_35_268_1' target='_'>https://www.nb.no/items/URN:NBN:no-nb_digavis_morgenbladet_null_null_18530925_35_268_1</a></td><td>, bsr imidlertid ingenlunde vakke nogen Skrak eller Frygt for , at</td><td>Kolera</td><td style='text-align:left'>skulde begynde at udbrede sig ogsaa her , thi vi have nu</td></tr>\n",
       "<tr><td><a href='https://www.nb.no/items/URN:NBN:no-nb_digavis_morgenbladet_null_null_18530927_35_270_1' target='_'>https://www.nb.no/items/URN:NBN:no-nb_digavis_morgenbladet_null_null_18530927_35_270_1</a></td><td>at opvise Mage . IfolgePnvatcfterretningcr stal en enkelt Mand ucrre dod af</td><td>Kolera</td><td style='text-align:left'>i Hurum , hvorimod man i Tvelvig ikke har market noget Spor</td></tr>\n",
       "<tr><td><a href='https://www.nb.no/items/URN:NBN:no-nb_digavis_morgenbladet_null_null_18530927_35_270_1' target='_'>https://www.nb.no/items/URN:NBN:no-nb_digavis_morgenbladet_null_null_18530927_35_270_1</a></td><td>noget ncrrmere at betragte de lokale Forholde paa de Punkter , som</td><td>Kolera</td><td style='text-align:left'>ganske synes at staane , kunde ledes hen Zpaa mulige Konjekturer over</td></tr>\n",
       "<tr><td><a href='https://www.nb.no/items/URN:NBN:no-nb_digavis_morgenbladet_null_null_18530212_35_43_1' target='_'>https://www.nb.no/items/URN:NBN:no-nb_digavis_morgenbladet_null_null_18530212_35_43_1</a></td><td>de gik nedad Floderne lil Ny-Orleans . Her dsde Ssnneksnen ( af</td><td>Kolera</td><td style='text-align:left'>) og paa Hjemrejsen herfra til Liverpool den « ldste Ssnnessn .</td></tr>\n",
       "<tr><td><a href='https://www.nb.no/items/URN:NBN:no-nb_digavis_drammenstidende_null_null_18530702_22_150_1' target='_'>https://www.nb.no/items/URN:NBN:no-nb_digavis_drammenstidende_null_null_18530702_22_150_1</a></td><td>fra Wien under 19 tc Juni : til Hamburg . En ondartet</td><td>Kolera</td><td style='text-align:left'>har i de senere Dage vist sig i Kjobenhavn , og i</td></tr>\n",
       "<tr><td><a href='https://www.nb.no/items/URN:NBN:no-nb_digavis_drammenstidende_null_null_18530710_22_157_1' target='_'>https://www.nb.no/items/URN:NBN:no-nb_digavis_drammenstidende_null_null_18530710_22_157_1</a></td><td>bestemt krigerske . ( St ligesaa opbyggeligt Snak kunde man fore om</td><td>Kolera</td><td style='text-align:left'>; bet er allerede begyndt : Kolera angriber ikke andre end uordentlige</td></tr>\n",
       "<tr><td><a href='https://www.nb.no/items/URN:NBN:no-nb_digavis_drammenstidende_null_null_18530710_22_157_1' target='_'>https://www.nb.no/items/URN:NBN:no-nb_digavis_drammenstidende_null_null_18530710_22_157_1</a></td><td>Snak kunde man fore om Kolera ; bet er allerede begyndt :</td><td>Kolera</td><td style='text-align:left'>angriber ikke andre end uordentlige og drikfeldige Mennesker og dem , som</td></tr>\n",
       "<tr><td><a href='https://www.nb.no/items/URN:NBN:no-nb_digavis_drammenstidende_null_null_18530710_22_157_1' target='_'>https://www.nb.no/items/URN:NBN:no-nb_digavis_drammenstidende_null_null_18530710_22_157_1</a></td><td>drikfeldige Mennesker og dem , som bo paa mere usunde Steder .</td><td>Kolera</td><td style='text-align:left'>angriber uden Forstjel P fla Stand , Stilling , * ? e</td></tr>\n",
       "<tr><td><a href='https://www.nb.no/items/URN:NBN:no-nb_digavis_drammenstidende_null_null_18530710_22_157_1' target='_'>https://www.nb.no/items/URN:NBN:no-nb_digavis_drammenstidende_null_null_18530710_22_157_1</a></td><td>beretter at \" Privatefterretninger fra Christiania lade befrygte , at epidemis ?</td><td>Kolera</td><td style='text-align:left'>er udbrudt dersteds . \" Det er ikke godt at bvide ,</td></tr>\n",
       "<tr><td><a href='https://www.nb.no/items/URN:NBN:no-nb_digavis_drammenstidende_null_null_18530719_22_164_1' target='_'>https://www.nb.no/items/URN:NBN:no-nb_digavis_drammenstidende_null_null_18530719_22_164_1</a></td><td>de til 15 reIuli er anmeldt 153 Syge og 68 Dove of</td><td>Kolera</td><td style='text-align:left'>i ftjøbenbabn . I det Hele er saaledes on eitt 882 Syge</td></tr>\n",
       "<tr><td><a href='https://www.nb.no/items/URN:NBN:no-nb_digavis_drammenstidende_null_null_18530720_22_165_1' target='_'>https://www.nb.no/items/URN:NBN:no-nb_digavis_drammenstidende_null_null_18530720_22_165_1</a></td><td>Kva- rantcrne for Skibe , der anlomme endog kun fra te for</td><td>Kolera</td><td style='text-align:left'>mietcenkte Steder , hvortil i nær * vcrrende Tilfcrloe Helsingor regnes ,</td></tr>\n",
       "<tr><td><a href='https://www.nb.no/items/URN:NBN:no-nb_digavis_drammenstidende_null_null_18530723_22_168_1' target='_'>https://www.nb.no/items/URN:NBN:no-nb_digavis_drammenstidende_null_null_18530723_22_168_1</a></td><td>, kun et meget ringe Antal ere gooete over i ten virkelige</td><td>Kolera</td><td style='text-align:left'>. Vi tro paa Grund heraf at turde haabe , at et</td></tr>\n",
       "<tr><td><a href='https://www.nb.no/items/URN:NBN:no-nb_digavis_drammenstidende_null_null_18530723_22_168_1' target='_'>https://www.nb.no/items/URN:NBN:no-nb_digavis_drammenstidende_null_null_18530723_22_168_1</a></td><td>anmeldt 2146 Syge , hvoraf 1 ( W8 f rf tøte .</td><td>Kolera</td><td style='text-align:left'>fr ogsaa udbrudt i Nykjobing i Lolland-Falsters Stift , hvor ter fra</td></tr>\n",
       "<tr><td><a href='https://www.nb.no/items/URN:NBN:no-nb_digavis_drammenstidende_null_null_18530724_22_169_1' target='_'>https://www.nb.no/items/URN:NBN:no-nb_digavis_drammenstidende_null_null_18530724_22_169_1</a></td><td>man herved , paa Grund af den Heftighed , hvormed den ondartede</td><td>Kolera</td><td style='text-align:left'>hersker t et af vore Nabolande , opfordre Byens Indvaanere til Overholdelse</td></tr>\n",
       "<tr><td><a href='https://www.nb.no/items/URN:NBN:no-nb_digavis_drammenstidende_null_null_18530726_22_170_1' target='_'>https://www.nb.no/items/URN:NBN:no-nb_digavis_drammenstidende_null_null_18530726_22_170_1</a></td><td>man herved , paa Grund af den Heftighed , hvormed ten ondartede</td><td>Kolera</td><td style='text-align:left'>hersker i et af vore Nabolande , opfordre Byens Indvaanere til Overholdelse</td></tr>\n",
       "<tr><td><a href='https://www.nb.no/items/URN:NBN:no-nb_digavis_drammenstidende_null_null_18530727_22_171_1' target='_'>https://www.nb.no/items/URN:NBN:no-nb_digavis_drammenstidende_null_null_18530727_22_171_1</a></td><td>hvoraf karantæne * chefen paa Kcenso , Kapt.-Loitnant Namsteen vode , sporadisk</td><td>Kolera</td><td style='text-align:left'>. Neder Forandringer i disse Bestemmelser kunne ste ved Lov . Paa</td></tr>\n",
       "<tr><td><a href='https://www.nb.no/items/URN:NBN:no-nb_digavis_drammenstidende_null_null_18530727_22_171_1' target='_'>https://www.nb.no/items/URN:NBN:no-nb_digavis_drammenstidende_null_null_18530727_22_171_1</a></td><td>» eb , paa Grund af den Heftighed , hvormed den ondartede</td><td>Kolera</td><td style='text-align:left'>hersker i et af vore Nabolande , opfordre Byens Indvaanere til Qverholdelse</td></tr>\n",
       "<tr><td><a href='https://www.nb.no/items/URN:NBN:no-nb_digavis_drammenstidende_null_null_18530730_22_174_1' target='_'>https://www.nb.no/items/URN:NBN:no-nb_digavis_drammenstidende_null_null_18530730_22_174_1</a></td><td>er formodentlig endnu ikke fuldendt . ( Mgbl . ) Danmark Af</td><td>Kolera</td><td style='text-align:left'>er fra ben 22 te til ben 23 be Juli anmeldt 291</td></tr>\n",
       "<tr><td><a href='https://www.nb.no/items/URN:NBN:no-nb_digavis_drammenstidende_null_null_18530731_22_175_1' target='_'>https://www.nb.no/items/URN:NBN:no-nb_digavis_drammenstidende_null_null_18530731_22_175_1</a></td><td>, i tet Tilfalde at Byen skulde blive hjemsogt af ten asiatiske</td><td>Kolera</td><td style='text-align:left'>, at kunne » ære forberedt paa ten « Modtagelse , eller</td></tr>\n",
       "<tr><td><a href='https://www.nb.no/items/URN:NBN:no-nb_digavis_drammenstidende_null_null_18530802_22_176_1' target='_'>https://www.nb.no/items/URN:NBN:no-nb_digavis_drammenstidende_null_null_18530802_22_176_1</a></td><td>at noervcrrende Kjendelse vevfoies den annullerede Dom . \" Danmark . Sif</td><td>Kolera</td><td style='text-align:left'>er fra den 26 de til 27 toe Juli anmeldt 279 Syge</td></tr>\n",
       "<tr><td><a href='https://www.nb.no/items/URN:NBN:no-nb_digavis_drammenstidende_null_null_18530802_22_176_1' target='_'>https://www.nb.no/items/URN:NBN:no-nb_digavis_drammenstidende_null_null_18530802_22_176_1</a></td><td>Cirkulere herom til Overovrighederne , ber er faalpbenbe : Da den ondartede</td><td>Kolera</td><td style='text-align:left'>atter har vist sig paa flere © feber i Europa , har</td></tr>\n",
       "<tr><td><a href='https://www.nb.no/items/URN:NBN:no-nb_digavis_drammenstidende_null_null_18530802_22_176_1' target='_'>https://www.nb.no/items/URN:NBN:no-nb_digavis_drammenstidende_null_null_18530802_22_176_1</a></td><td>« . Pr udgivet en provisorisk Anordning angaaende Foranstaltninger mod den ondartede</td><td>Kolera</td><td style='text-align:left'>, der i Et og Alt er overensstemmende med ben under 22</td></tr>\n",
       "<tr><td><a href='https://www.nb.no/items/URN:NBN:no-nb_digavis_drammenstidende_null_null_18530803_22_177_1' target='_'>https://www.nb.no/items/URN:NBN:no-nb_digavis_drammenstidende_null_null_18530803_22_177_1</a></td><td>\" Tur hertil i Nat ere to af Skibsmandskabet underdels tøte of</td><td>Kolera</td><td style='text-align:left'>. Ligene bleve ved Skibets Ankomst hertil strar forte ud of Byen</td></tr>\n",
       "<tr><td><a href='https://www.nb.no/items/URN:NBN:no-nb_digavis_drammenstidende_null_null_18530803_22_177_1' target='_'>https://www.nb.no/items/URN:NBN:no-nb_digavis_drammenstidende_null_null_18530803_22_177_1</a></td><td>for meget gode . Christiania den ljre August . Den stcerkt herskende</td><td>Kolera</td><td style='text-align:left'>i Kjobenhavn og Smitten paa flere Steder af Jylland maa naturligen opvcekke</td></tr>\n",
       "</table>"
      ],
      "text/plain": [
       "<IPython.core.display.HTML object>"
      ]
     },
     "execution_count": 5,
     "metadata": {},
     "output_type": "execute_result"
    }
   ],
   "source": [
    "col.conc_avis('Kolera', title='%',  datefrom=\"1853-01-01\", dateto = \"1854-01-01\", size=20, before=12, after=12)"
   ]
  },
  {
   "cell_type": "code",
   "execution_count": 39,
   "metadata": {},
   "outputs": [],
   "source": [
    "konk = col.conc_newspaper('Kolera', title='%',  datefrom=\"1853-01-01\", dateto = \"1854-01-01\", size=20, before=12, after=12)"
   ]
  },
  {
   "cell_type": "code",
   "execution_count": 41,
   "metadata": {},
   "outputs": [],
   "source": [
    "text = \"\"\n",
    "for k in konk:\n",
    "    text += k['before'] + \" \" + k['word'] + \" \" + k['after']"
   ]
  },
  {
   "cell_type": "code",
   "execution_count": 42,
   "metadata": {},
   "outputs": [
    {
     "data": {
      "text/plain": [
       "'Regjerings Departement for det Indre den 25 de October 1848. Den ondartede Kolera begynder enten pludselig med stor Heftighed , eller efter forudgaaende . Ildebefindendeen passende Behandling , eller øpergaa til den sande kolera . Selve Kolera giver sig tilkjende ved Brakninger af en tynd Vcrdsie og tynde hyppigeer gavnligt at anlægge et uldent Bcrlte . Selv efterat ben egentlige Kolera er opl ; ørt , indtrcede ofte heftige Eftersygdomme , som ogsaaBde dennes er her i Byen l angreben og 1 dod af Kolera . Af Kolonne er i samme Tid anmeldte 4 Tilfcrlde . PaaChristiania og Akers Sogn . Drammen , den 10 de December . Kolera i Drammen . Anmeldte . Dooe . Fra 28 de Aug .de December . Sidstleden Mandag dsde en Hmismand under Botne Prcrstegaard af Kolera . Han stod op og gik til Arbeide om Morgenen Kl .Ncrrheden af nogen Kolerasmiltet eller i en kolcrasmittet By eller Egn . Kolera er nemlig i Landdistriktet for ovcr 14 Dagc siden anmeldt som ophsrtsamme Vei ncrrmere Byen , i mange Dage ikke har vidst af Kolera at Tilforselen af Varer fra Landet har i denne Uge vceret nogetscnest modtagne Underretninger blive Christiania og Frcdcrikshald herefter at cmsce frie for Kolera ; hvorimod fslgende indenrigske Steder fremdeles blive at ansee smittede : DrammenI2le 109 71 45 - I3de 125 34 41 af den asiatisic Kolera , at kunne » irre forlcledt paa dens Modtagelse , eller forBjerksen i Sande Sogn stal have vist sig nogle Tilfcelde af ondartet Kolera . ( Holmestrandsp . ) Lriiustiv . 8 ved Ouncen es 8Lagen ikke var itvivl vm , at Patienten led af den ondartede Kolera ; han blev derfor igaarmiddags bragt hen lil den strax udenfor Byen, bsr imidlertid ingenlunde vakke nogen Skrak eller Frygt for , at Kolera skulde begynde at udbrede sig ogsaa her , thi vi have nuat opvise Mage . IfolgePnvatcfterretningcr stal en enkelt Mand ucrre dod af Kolera i Hurum , hvorimod man i Tvelvig ikke har market noget Spornoget ncrrmere at betragte de lokale Forholde paa de Punkter , som Kolera ganske synes at staane , kunde ledes hen Zpaa mulige Konjekturer overde gik nedad Floderne lil Ny-Orleans . Her dsde Ssnneksnen ( af Kolera ) og paa Hjemrejsen herfra til Liverpool den « ldste Ssnnessn .fra Wien under 19 tc Juni : til Hamburg . En ondartet Kolera har i de senere Dage vist sig i Kjobenhavn , og ibestemt krigerske . ( St ligesaa opbyggeligt Snak kunde man fore om Kolera ; bet er allerede begyndt : Kolera angriber ikke andre end uordentligeSnak kunde man fore om Kolera ; bet er allerede begyndt : Kolera angriber ikke andre end uordentlige og drikfeldige Mennesker og dem , somdrikfeldige Mennesker og dem , som bo paa mere usunde Steder . Kolera angriber uden Forstjel P fla Stand , Stilling , * ? eberetter at \" Privatefterretninger fra Christiania lade befrygte , at epidemis ? Kolera er udbrudt dersteds . \" Det er ikke godt at bvide ,de til 15 reIuli er anmeldt 153 Syge og 68 Dove of Kolera i ftjøbenbabn . I det Hele er saaledes on eitt 882 SygeKva- rantcrne for Skibe , der anlomme endog kun fra te for Kolera mietcenkte Steder , hvortil i nær * vcrrende Tilfcrloe Helsingor regnes ,, kun et meget ringe Antal ere gooete over i ten virkelige Kolera . Vi tro paa Grund heraf at turde haabe , at etanmeldt 2146 Syge , hvoraf 1 ( W8 f rf tøte . Kolera fr ogsaa udbrudt i Nykjobing i Lolland-Falsters Stift , hvor ter framan herved , paa Grund af den Heftighed , hvormed den ondartede Kolera hersker t et af vore Nabolande , opfordre Byens Indvaanere til Overholdelseman herved , paa Grund af den Heftighed , hvormed ten ondartede Kolera hersker i et af vore Nabolande , opfordre Byens Indvaanere til Overholdelsehvoraf karantæne * chefen paa Kcenso , Kapt.-Loitnant Namsteen vode , sporadisk Kolera . Neder Forandringer i disse Bestemmelser kunne ste ved Lov . Paa» eb , paa Grund af den Heftighed , hvormed den ondartede Kolera hersker i et af vore Nabolande , opfordre Byens Indvaanere til Qverholdelseer formodentlig endnu ikke fuldendt . ( Mgbl . ) Danmark Af Kolera er fra ben 22 te til ben 23 be Juli anmeldt 291, i tet Tilfalde at Byen skulde blive hjemsogt af ten asiatiske Kolera , at kunne » ære forberedt paa ten « Modtagelse , ellerat noervcrrende Kjendelse vevfoies den annullerede Dom . \" Danmark . Sif Kolera er fra den 26 de til 27 toe Juli anmeldt 279 SygeCirkulere herom til Overovrighederne , ber er faalpbenbe : Da den ondartede Kolera atter har vist sig paa flere © feber i Europa , har« . Pr udgivet en provisorisk Anordning angaaende Foranstaltninger mod den ondartede Kolera , der i Et og Alt er overensstemmende med ben under 22\" Tur hertil i Nat ere to af Skibsmandskabet underdels tøte of Kolera . Ligene bleve ved Skibets Ankomst hertil strar forte ud of Byenfor meget gode . Christiania den ljre August . Den stcerkt herskende Kolera i Kjobenhavn og Smitten paa flere Steder af Jylland maa naturligen opvcekke'"
      ]
     },
     "execution_count": 42,
     "metadata": {},
     "output_type": "execute_result"
    }
   ],
   "source": [
    "text"
   ]
  },
  {
   "cell_type": "markdown",
   "metadata": {},
   "source": [
    "## Kollokasjon"
   ]
  },
  {
   "cell_type": "code",
   "execution_count": 34,
   "metadata": {},
   "outputs": [],
   "source": [
    "kollokasjon = col.coll_avis('Kolera', datefrom=\"1840-01-01\", dateto = \"1890-12-01\")\n"
   ]
  },
  {
   "cell_type": "code",
   "execution_count": 35,
   "metadata": {},
   "outputs": [
    {
     "data": {
      "text/plain": [
       "True"
      ]
     },
     "execution_count": 35,
     "metadata": {},
     "output_type": "execute_result"
    }
   ],
   "source": [
    "nb.normalize_corpus_dataframe(kollokasjon)"
   ]
  },
  {
   "cell_type": "markdown",
   "metadata": {},
   "source": [
    "## Sammenlign med referanse"
   ]
  },
  {
   "cell_type": "code",
   "execution_count": 37,
   "metadata": {},
   "outputs": [
    {
     "data": {
      "text/html": [
       "<div>\n",
       "<style scoped>\n",
       "    .dataframe tbody tr th:only-of-type {\n",
       "        vertical-align: middle;\n",
       "    }\n",
       "\n",
       "    .dataframe tbody tr th {\n",
       "        vertical-align: top;\n",
       "    }\n",
       "\n",
       "    .dataframe thead th {\n",
       "        text-align: right;\n",
       "    }\n",
       "</style>\n",
       "<table border=\"1\" class=\"dataframe\">\n",
       "  <thead>\n",
       "    <tr style=\"text-align: right;\">\n",
       "      <th></th>\n",
       "      <th>0</th>\n",
       "    </tr>\n",
       "  </thead>\n",
       "  <tbody>\n",
       "    <tr>\n",
       "      <th>asiatisk</th>\n",
       "      <td>1965.354447</td>\n",
       "    </tr>\n",
       "    <tr>\n",
       "      <th>Forholdsregler</th>\n",
       "      <td>643.346417</td>\n",
       "    </tr>\n",
       "    <tr>\n",
       "      <th>Tilfalde</th>\n",
       "      <td>638.778104</td>\n",
       "    </tr>\n",
       "    <tr>\n",
       "      <th>Tilfcelde</th>\n",
       "      <td>618.188817</td>\n",
       "    </tr>\n",
       "    <tr>\n",
       "      <th>Sygdomme</th>\n",
       "      <td>542.911255</td>\n",
       "    </tr>\n",
       "    <tr>\n",
       "      <th>Sygdommen</th>\n",
       "      <td>505.515607</td>\n",
       "    </tr>\n",
       "    <tr>\n",
       "      <th>asiatiske</th>\n",
       "      <td>501.170088</td>\n",
       "    </tr>\n",
       "    <tr>\n",
       "      <th>ondartet</th>\n",
       "      <td>488.795052</td>\n",
       "    </tr>\n",
       "    <tr>\n",
       "      <th>Udbrud</th>\n",
       "      <td>484.839817</td>\n",
       "    </tr>\n",
       "    <tr>\n",
       "      <th>Foranstaltninger</th>\n",
       "      <td>480.742435</td>\n",
       "    </tr>\n",
       "    <tr>\n",
       "      <th>Pest</th>\n",
       "      <td>463.762534</td>\n",
       "    </tr>\n",
       "    <tr>\n",
       "      <th>Feber</th>\n",
       "      <td>455.142081</td>\n",
       "    </tr>\n",
       "    <tr>\n",
       "      <th>indtraf</th>\n",
       "      <td>453.654023</td>\n",
       "    </tr>\n",
       "    <tr>\n",
       "      <th>Havne</th>\n",
       "      <td>413.221194</td>\n",
       "    </tr>\n",
       "    <tr>\n",
       "      <th>Marseille</th>\n",
       "      <td>364.070422</td>\n",
       "    </tr>\n",
       "    <tr>\n",
       "      <th>Tilfcrlde</th>\n",
       "      <td>347.913729</td>\n",
       "    </tr>\n",
       "    <tr>\n",
       "      <th>Neapel</th>\n",
       "      <td>347.481459</td>\n",
       "    </tr>\n",
       "    <tr>\n",
       "      <th>Meddelelser</th>\n",
       "      <td>279.243028</td>\n",
       "    </tr>\n",
       "    <tr>\n",
       "      <th>Spanien</th>\n",
       "      <td>261.029480</td>\n",
       "    </tr>\n",
       "    <tr>\n",
       "      <th>dsde</th>\n",
       "      <td>258.571373</td>\n",
       "    </tr>\n",
       "    <tr>\n",
       "      <th>igaar</th>\n",
       "      <td>223.389967</td>\n",
       "    </tr>\n",
       "    <tr>\n",
       "      <th>dode</th>\n",
       "      <td>223.101534</td>\n",
       "    </tr>\n",
       "    <tr>\n",
       "      <th>Efterretninger</th>\n",
       "      <td>208.709678</td>\n",
       "    </tr>\n",
       "    <tr>\n",
       "      <th>sporadisk</th>\n",
       "      <td>206.624068</td>\n",
       "    </tr>\n",
       "    <tr>\n",
       "      <th>ds.</th>\n",
       "      <td>205.454946</td>\n",
       "    </tr>\n",
       "    <tr>\n",
       "      <th>forekommet</th>\n",
       "      <td>201.717707</td>\n",
       "    </tr>\n",
       "    <tr>\n",
       "      <th>Symptomer</th>\n",
       "      <td>199.424728</td>\n",
       "    </tr>\n",
       "    <tr>\n",
       "      <th>meldes</th>\n",
       "      <td>197.643604</td>\n",
       "    </tr>\n",
       "    <tr>\n",
       "      <th>Meddelelse</th>\n",
       "      <td>186.626812</td>\n",
       "    </tr>\n",
       "    <tr>\n",
       "      <th>Mekka</th>\n",
       "      <td>181.516656</td>\n",
       "    </tr>\n",
       "  </tbody>\n",
       "</table>\n",
       "</div>"
      ],
      "text/plain": [
       "                            0\n",
       "asiatisk          1965.354447\n",
       "Forholdsregler     643.346417\n",
       "Tilfalde           638.778104\n",
       "Tilfcelde          618.188817\n",
       "Sygdomme           542.911255\n",
       "Sygdommen          505.515607\n",
       "asiatiske          501.170088\n",
       "ondartet           488.795052\n",
       "Udbrud             484.839817\n",
       "Foranstaltninger   480.742435\n",
       "Pest               463.762534\n",
       "Feber              455.142081\n",
       "indtraf            453.654023\n",
       "Havne              413.221194\n",
       "Marseille          364.070422\n",
       "Tilfcrlde          347.913729\n",
       "Neapel             347.481459\n",
       "Meddelelser        279.243028\n",
       "Spanien            261.029480\n",
       "dsde               258.571373\n",
       "igaar              223.389967\n",
       "dode               223.101534\n",
       "Efterretninger     208.709678\n",
       "sporadisk          206.624068\n",
       "ds.                205.454946\n",
       "forekommet         201.717707\n",
       "Symptomer          199.424728\n",
       "meldes             197.643604\n",
       "Meddelelse         186.626812\n",
       "Mekka              181.516656"
      ]
     },
     "execution_count": 37,
     "metadata": {},
     "output_type": "execute_result"
    }
   ],
   "source": [
    "assoc.head(30)"
   ]
  },
  {
   "cell_type": "code",
   "execution_count": 15,
   "metadata": {},
   "outputs": [],
   "source": [
    "assoc = nb.frame_sort(nb.frame(kollokasjon[0]/tot.tot))"
   ]
  },
  {
   "cell_type": "code",
   "execution_count": 17,
   "metadata": {},
   "outputs": [],
   "source": [
    "slå_opp = lambda x: assoc.loc[x]"
   ]
  },
  {
   "cell_type": "code",
   "execution_count": 16,
   "metadata": {},
   "outputs": [
    {
     "data": {
      "text/plain": [
       "0    19.264239\n",
       "Name: Humor, dtype: float64"
      ]
     },
     "execution_count": 16,
     "metadata": {},
     "output_type": "execute_result"
    }
   ],
   "source": [
    "assoc.loc['Humor']"
   ]
  },
  {
   "cell_type": "code",
   "execution_count": 14,
   "metadata": {},
   "outputs": [
    {
     "data": {
      "text/plain": [
       "0    0.000022\n",
       "Name: Humor, dtype: float64"
      ]
     },
     "execution_count": 14,
     "metadata": {},
     "output_type": "execute_result"
    }
   ],
   "source": [
    "kollokasjon.loc['Humor']"
   ]
  },
  {
   "cell_type": "code",
   "execution_count": 25,
   "metadata": {},
   "outputs": [
    {
     "data": {
      "text/plain": [
       "0   NaN\n",
       "Name: Ler, dtype: float64"
      ]
     },
     "execution_count": 25,
     "metadata": {},
     "output_type": "execute_result"
    }
   ],
   "source": [
    "slå_opp('Ler')"
   ]
  },
  {
   "cell_type": "code",
   "execution_count": 22,
   "metadata": {},
   "outputs": [
    {
     "data": {
      "text/plain": [
       "tot    0.000034\n",
       "Name: latter, dtype: float64"
      ]
     },
     "execution_count": 22,
     "metadata": {},
     "output_type": "execute_result"
    }
   ],
   "source": []
  },
  {
   "cell_type": "markdown",
   "metadata": {},
   "source": [
    "# Unigram \n",
    "\n",
    "Litt mer data enn på nb ngram"
   ]
  },
  {
   "cell_type": "code",
   "execution_count": 28,
   "metadata": {},
   "outputs": [],
   "source": [
    "at = col.unigram('Kolera', name='morgenbladet', period=(1850, 1900), media='avis')"
   ]
  },
  {
   "cell_type": "code",
   "execution_count": 29,
   "metadata": {},
   "outputs": [
    {
     "data": {
      "text/plain": [
       "<matplotlib.axes._subplots.AxesSubplot at 0x1967facdf98>"
      ]
     },
     "execution_count": 29,
     "metadata": {},
     "output_type": "execute_result"
    },
    {
     "data": {
      "image/png": "[encoded data removed]",
      "text/plain": [
       "<Figure size 1080x720 with 1 Axes>"
      ]
     },
     "metadata": {
      "needs_background": "light"
     },
     "output_type": "display_data"
    }
   ],
   "source": [
    "at.plot()"
   ]
  },
  {
   "cell_type": "code",
   "execution_count": 33,
   "metadata": {},
   "outputs": [
    {
     "data": {
      "text/plain": [
       "<matplotlib.axes._subplots.AxesSubplot at 0x1967fddd588>"
      ]
     },
     "execution_count": 33,
     "metadata": {},
     "output_type": "execute_result"
    },
    {
     "data": {
      "image/png": "[encoded data removed]",
      "text/plain": [
       "<Figure size 1080x720 with 1 Axes>"
      ]
     },
     "metadata": {
      "needs_background": "light"
     },
     "output_type": "display_data"
    }
   ],
   "source": [
    "nb.nb_ngram('kolera, humor, humør', corpus='avis', years=(1840, 1890)).sort_index().plot()"
   ]
  },
  {
   "cell_type": "markdown",
   "metadata": {},
   "source": [
    "Tilbake til [DHLAB ved Nasjonalbiblioteket](https://nbviewer.jupyter.org/github/DH-LAB-NB/DHLAB/blob/master/DHLAB_ved_Nasjonalbiblioteket.ipynb)"
   ]
  }
 ],
 "metadata": {
  "kernelspec": {
   "display_name": "Python 3",
   "language": "python",
   "name": "python3"
  },
  "language_info": {
   "codemirror_mode": {
    "name": "ipython",
    "version": 3
   },
   "file_extension": ".py",
   "mimetype": "text/x-python",
   "name": "python",
   "nbconvert_exporter": "python",
   "pygments_lexer": "ipython3",
   "version": "3.7.3"
  }
 },
 "nbformat": 4,
 "nbformat_minor": 2
}

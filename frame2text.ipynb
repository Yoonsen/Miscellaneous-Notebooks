{
 "cells": [
  {
   "cell_type": "code",
   "execution_count": 1,
   "id": "cfd1d23b-40a4-4cd6-b21b-2e4cd9bcddae",
   "metadata": {},
   "outputs": [
    {
     "name": "stdout",
     "output_type": "stream",
     "text": [
      "wordcloud er ikke installert, kan ikke lage ordskyer\n"
     ]
    }
   ],
   "source": [
    "import dhlab as dh"
   ]
  },
  {
   "cell_type": "code",
   "execution_count": 2,
   "id": "3f51ad4a-54b5-4105-adfb-01f62e80ec9f",
   "metadata": {},
   "outputs": [],
   "source": [
    "a = dh.Corpus(doctype=\"digibok\", limit=100, from_year = 1990)\n"
   ]
  },
  {
   "cell_type": "code",
   "execution_count": 3,
   "id": "b2a54b2d-7a25-4e21-9d13-32f06738257c",
   "metadata": {},
   "outputs": [],
   "source": [
    "f = a.corpus"
   ]
  },
  {
   "cell_type": "code",
   "execution_count": 20,
   "id": "eb3e75b5-5aee-41b5-a684-81d79decf6be",
   "metadata": {},
   "outputs": [],
   "source": [
    "import re\n",
    "\n",
    "# re.findall(\"URN[^ ]+\", t)\n",
    "\n",
    "def fram2txt(f):\n",
    "    res = '\\n'.join([' '.join([str(y) for y in x[1]]) for x in f.iterrows()])\n",
    "    return res"
   ]
  },
  {
   "cell_type": "code",
   "execution_count": 32,
   "id": "75e39520-6bbf-451e-9766-b6a5646f9354",
   "metadata": {},
   "outputs": [
    {
     "name": "stdout",
     "output_type": "stream",
     "text": [
      "CPU times: user 5 µs, sys: 0 ns, total: 5 µs\n",
      "Wall time: 11 µs\n"
     ]
    }
   ],
   "source": [
    "%time\n",
    "t = fram2txt(f)"
   ]
  },
  {
   "cell_type": "code",
   "execution_count": 16,
   "id": "61fec65c-2e79-450c-9a23-cbfa48357399",
   "metadata": {},
   "outputs": [],
   "source": [
    "import re"
   ]
  },
  {
   "cell_type": "code",
   "execution_count": 34,
   "id": "11853489-6883-4154-a125-e5f17d76210e",
   "metadata": {},
   "outputs": [
    {
     "data": {
      "text/plain": [
       "['URN:NBN:no-nb_digibok_2014120308163',\n",
       " 'URN:NBN:no-nb_digibok_2008081300057',\n",
       " 'URN:NBN:no-nb_digibok_2012110805003',\n",
       " 'URN:NBN:no-nb_digibok_2008101704002',\n",
       " 'URN:NBN:no-nb_digibok_2012121706027',\n",
       " 'URN:NBN:no-nb_digibok_2014042407041',\n",
       " 'URN:NBN:no-nb_digibok_2016052308040',\n",
       " 'URN:NBN:no-nb_digibok_2014121107541',\n",
       " 'URN:NBN:no-nb_digibok_2014070108082',\n",
       " 'URN:NBN:no-nb_digibok_2012082308191',\n",
       " 'URN:NBN:no-nb_digibok_2020091848535',\n",
       " 'URN:NBN:no-nb_digibok_2009091104064',\n",
       " 'URN:NBN:no-nb_digibok_2014020548028',\n",
       " 'URN:NBN:no-nb_digibok_2016080908007',\n",
       " 'URN:NBN:no-nb_digibok_2013070408019',\n",
       " 'URN:NBN:no-nb_digibok_2008071004055',\n",
       " 'URN:NBN:no-nb_digibok_2009012200035',\n",
       " 'URN:NBN:no-nb_digibok_2008082600075',\n",
       " 'URN:NBN:no-nb_digibok_2011012408059',\n",
       " 'URN:NBN:no-nb_digibok_2009091000007',\n",
       " 'URN:NBN:no-nb_digibok_2020091707525',\n",
       " 'URN:NBN:no-nb_digibok_2014021908021',\n",
       " 'URN:NBN:no-nb_digibok_2014052108240',\n",
       " 'URN:NBN:no-nb_digibok_2022021409784',\n",
       " 'URN:NBN:no-nb_digibok_2015090458027',\n",
       " 'URN:NBN:no-nb_digibok_2020070848306',\n",
       " 'URN:NBN:no-nb_digibok_2012072638003',\n",
       " 'URN:NBN:no-nb_digibok_2013103105014',\n",
       " 'URN:NBN:no-nb_digibok_2009100504031',\n",
       " 'URN:NBN:no-nb_digibok_2013121908094',\n",
       " 'URN:NBN:no-nb_digibok_2014061806140',\n",
       " 'URN:NBN:no-nb_digibok_2020062948032',\n",
       " 'URN:NBN:no-nb_digibok_2010051206058',\n",
       " 'URN:NBN:no-nb_digibok_2022010548131',\n",
       " 'URN:NBN:no-nb_digibok_2021120748087',\n",
       " 'URN:NBN:no-nb_digibok_2011101408091',\n",
       " 'URN:NBN:no-nb_digibok_2021110848086',\n",
       " 'URN:NBN:no-nb_digibok_2014081908055',\n",
       " 'URN:NBN:no-nb_digibok_2021070748587',\n",
       " 'URN:NBN:no-nb_digibok_2016011848120',\n",
       " 'URN:NBN:no-nb_digibok_2011010708079',\n",
       " 'URN:NBN:no-nb_digibok_2020120806082',\n",
       " 'URN:NBN:no-nb_digibok_2009102204014',\n",
       " 'URN:NBN:no-nb_digibok_2020022107502',\n",
       " 'URN:NBN:no-nb_digibok_2018040548041',\n",
       " 'URN:NBN:no-nb_digibok_2017112907640',\n",
       " 'URN:NBN:no-nb_digibok_2015062909030',\n",
       " 'URN:NBN:no-nb_digibok_2015110908198',\n",
       " 'URN:NBN:no-nb_digibok_2014081108100',\n",
       " 'URN:NBN:no-nb_digibok_2008081404023',\n",
       " 'URN:NBN:no-nb_digibok_2012062208008',\n",
       " 'URN:NBN:no-nb_digibok_2013100305013',\n",
       " 'URN:NBN:no-nb_digibok_2010011104061',\n",
       " 'URN:NBN:no-nb_digibok_2012070505091',\n",
       " 'URN:NBN:no-nb_digibok_2013062806116',\n",
       " 'URN:NBN:no-nb_digibok_2012081608049',\n",
       " 'URN:NBN:no-nb_digibok_2011062908097',\n",
       " 'URN:NBN:no-nb_digibok_2015012058087',\n",
       " 'URN:NBN:no-nb_digibok_2021112548580',\n",
       " 'URN:NBN:no-nb_digibok_2011092605034',\n",
       " 'URN:NBN:no-nb_digibok_2020042748087',\n",
       " 'URN:NBN:no-nb_digibok_2013010708104',\n",
       " 'URN:NBN:no-nb_digibok_2018072607285',\n",
       " 'URN:NBN:no-nb_digibok_2007082401033',\n",
       " 'URN:NBN:no-nb_digibok_2013081406039',\n",
       " 'URN:NBN:no-nb_digibok_2014101308141',\n",
       " 'URN:NBN:no-nb_digibok_2020101507514',\n",
       " 'URN:NBN:no-nb_digibok_2019072307185',\n",
       " 'URN:NBN:no-nb_digibok_2018072507218',\n",
       " 'URN:NBN:no-nb_digibok_2021021258004',\n",
       " 'URN:NBN:no-nb_digibok_2019072307031',\n",
       " 'URN:NBN:no-nb_digibok_2013082205086',\n",
       " 'URN:NBN:no-nb_digibok_2009120700050',\n",
       " 'URN:NBN:no-nb_digibok_2011052408043',\n",
       " 'URN:NBN:no-nb_digibok_2014121808040',\n",
       " 'URN:NBN:no-nb_digibok_2018040368016',\n",
       " 'URN:NBN:no-nb_digibok_2018061407510',\n",
       " 'URN:NBN:no-nb_digibok_2011070705145',\n",
       " 'URN:NBN:no-nb_digibok_2016012508141',\n",
       " 'URN:NBN:no-nb_digibok_2020020307069',\n",
       " 'URN:NBN:no-nb_digibok_2014111308058',\n",
       " 'URN:NBN:no-nb_digibok_2011071208115',\n",
       " 'URN:NBN:no-nb_digibok_2014090408192',\n",
       " 'URN:NBN:no-nb_digibok_2010011204086',\n",
       " 'URN:NBN:no-nb_digibok_2011040706041',\n",
       " 'URN:NBN:no-nb_digibok_2010011504093',\n",
       " 'URN:NBN:no-nb_digibok_2018053148009',\n",
       " 'URN:NBN:no-nb_digibok_2020082707555',\n",
       " 'URN:NBN:no-nb_digibok_2013121306026',\n",
       " 'URN:NBN:no-nb_digibok_2017111448072',\n",
       " 'URN:NBN:no-nb_digibok_2021092948594',\n",
       " 'URN:NBN:no-nb_digibok_2016082208095',\n",
       " 'URN:NBN:no-nb_digibok_2013021438106',\n",
       " 'URN:NBN:no-nb_digibok_2011021609087',\n",
       " 'URN:NBN:no-nb_digibok_2009102704016',\n",
       " 'URN:NBN:no-nb_digibok_2015102108103',\n",
       " 'URN:NBN:no-nb_digibok_2013011607163',\n",
       " 'URN:NBN:no-nb_digibok_2014120807639',\n",
       " 'URN:NBN:no-nb_digibok_2014112507512',\n",
       " 'URN:NBN:no-nb_digibok_2007111300048']"
      ]
     },
     "execution_count": 34,
     "metadata": {},
     "output_type": "execute_result"
    }
   ],
   "source": [
    "re.findall(\"URN:NBN:no-nb[^ ]+\", t)"
   ]
  }
 ],
 "metadata": {
  "kernelspec": {
   "display_name": "Python 3 (ipykernel)",
   "language": "python",
   "name": "python3"
  },
  "language_info": {
   "codemirror_mode": {
    "name": "ipython",
    "version": 3
   },
   "file_extension": ".py",
   "mimetype": "text/x-python",
   "name": "python",
   "nbconvert_exporter": "python",
   "pygments_lexer": "ipython3",
   "version": "3.9.13"
  }
 },
 "nbformat": 4,
 "nbformat_minor": 5
}

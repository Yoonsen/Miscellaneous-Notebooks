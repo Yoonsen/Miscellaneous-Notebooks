{
 "cells": [
  {
   "cell_type": "code",
   "execution_count": 196,
   "metadata": {},
   "outputs": [],
   "source": [
    "from dhlab.nbtokenizer import tokenize\n",
    "import dhlab.nbtext as nb"
   ]
  },
  {
   "cell_type": "code",
   "execution_count": 4,
   "metadata": {},
   "outputs": [],
   "source": [
    "import sqlite3"
   ]
  },
  {
   "cell_type": "code",
   "execution_count": 5,
   "metadata": {},
   "outputs": [],
   "source": [
    "def query(db, q, p=()):\n",
    "    with sqlite3.connect(db) as con:\n",
    "        cur = con.cursor()\n",
    "        r = cur.execute(q, p)\n",
    "    return r.fetchall()"
   ]
  },
  {
   "cell_type": "code",
   "execution_count": 6,
   "metadata": {},
   "outputs": [],
   "source": [
    "bigram = \"C:/Users/larsj/Documents/ngram/bigram-one-row.db\"\n",
    "unigram = \"C:/Users/larsj/Documents/ngram/unigram-one-row.db\""
   ]
  },
  {
   "cell_type": "code",
   "execution_count": 106,
   "metadata": {
    "scrolled": true
   },
   "outputs": [
    {
     "data": {
      "text/plain": [
       "[('table',\n",
       "  'bigram',\n",
       "  'bigram',\n",
       "  2,\n",
       "  'CREATE TABLE bigram (freq int, lang varchar, first varchar, second varchar, json text, pmi float)'),\n",
       " ('index',\n",
       "  '_lfsf_',\n",
       "  'bigram',\n",
       "  5857784,\n",
       "  'CREATE INDEX _lfsf_ on bigram (lang,first,second,freq)'),\n",
       " ('index',\n",
       "  '_lf_',\n",
       "  'bigram',\n",
       "  6834551,\n",
       "  'CREATE INDEX _lf_ on bigram(lang,freq)'),\n",
       " ('table',\n",
       "  'sqlite_stat1',\n",
       "  'sqlite_stat1',\n",
       "  7127480,\n",
       "  'CREATE TABLE sqlite_stat1(tbl,idx,stat)'),\n",
       " ('index',\n",
       "  '_fsf_',\n",
       "  'bigram',\n",
       "  7127481,\n",
       "  'CREATE INDEX _fsf_ on bigram (first,second,freq)'),\n",
       " ('index',\n",
       "  '_sf_',\n",
       "  'bigram',\n",
       "  7600914,\n",
       "  'CREATE INDEX _sf_ on bigram(second,freq)'),\n",
       " ('index', '_f_', 'bigram', 7943929, 'CREATE INDEX _f_ on bigram(freq)'),\n",
       " ('index',\n",
       "  '_ff_',\n",
       "  'bigram',\n",
       "  6411567,\n",
       "  'CREATE INDEX _ff_ on bigram(first,freq)')]"
      ]
     },
     "execution_count": 106,
     "metadata": {},
     "output_type": "execute_result"
    }
   ],
   "source": [
    "query(bigram, \"select * from sqlite_master\")"
   ]
  },
  {
   "cell_type": "markdown",
   "metadata": {},
   "source": [
    "query(bigram, \"ALTER TABLE bigram ADD pmi float\")"
   ]
  },
  {
   "cell_type": "code",
   "execution_count": 9,
   "metadata": {},
   "outputs": [
    {
     "data": {
      "text/plain": [
       "[('table',\n",
       "  'unigram',\n",
       "  'unigram',\n",
       "  2,\n",
       "  'CREATE TABLE unigram (freq int, lang varchar, first varchar, json text)'),\n",
       " ('index',\n",
       "  '_lff_',\n",
       "  'unigram',\n",
       "  1393414,\n",
       "  'CREATE INDEX _lff_ on unigram(lang,first,freq)'),\n",
       " ('index',\n",
       "  '_lf_',\n",
       "  'unigram',\n",
       "  1511081,\n",
       "  'CREATE INDEX _lf_ on unigram(lang,freq)'),\n",
       " ('table',\n",
       "  'sqlite_stat1',\n",
       "  'sqlite_stat1',\n",
       "  1576805,\n",
       "  'CREATE TABLE sqlite_stat1(tbl,idx,stat)'),\n",
       " ('index',\n",
       "  '_ff_',\n",
       "  'unigram',\n",
       "  1576806,\n",
       "  'CREATE INDEX _ff_ on unigram(first,freq)'),\n",
       " ('index', '_f_', 'unigram', 1675757, 'CREATE INDEX _f_ on unigram(freq)')]"
      ]
     },
     "execution_count": 9,
     "metadata": {},
     "output_type": "execute_result"
    }
   ],
   "source": [
    "query(unigram, \"select * from sqlite_master\")"
   ]
  },
  {
   "cell_type": "code",
   "execution_count": 10,
   "metadata": {},
   "outputs": [
    {
     "data": {
      "text/plain": [
       "[(8639060175,)]"
      ]
     },
     "execution_count": 10,
     "metadata": {},
     "output_type": "execute_result"
    }
   ],
   "source": [
    "query(bigram, \"select sum(freq) from bigram where lang='nob'\")"
   ]
  },
  {
   "cell_type": "code",
   "execution_count": 124,
   "metadata": {},
   "outputs": [],
   "source": [
    "def check(word, column='first', order='pmi', freqlim = 0, limit=20):\n",
    "    return query(bigram, \"\"\"\n",
    "    select \n",
    "        first, second, freq, pmi \n",
    "    from \n",
    "        bigram \n",
    "    where \n",
    "        lang='nob' and \n",
    "        {col} = '{w}' and\n",
    "        freq >= {freqlim}\n",
    "    order by \n",
    "        {order} desc \n",
    "    limit {limit}\"\"\".format(col=column, w=word, order=order, freqlim=freqlim, limit=limit))"
   ]
  },
  {
   "cell_type": "code",
   "execution_count": 110,
   "metadata": {},
   "outputs": [],
   "source": [
    "def check2(w, pos = 'first', order='pmi'):\n",
    "    with sqlite3.connect(bigram) as con:\n",
    "        cur = con.cursor()\n",
    "        cur.execute(\"attach '{db}' as unigram\".format(db=unigram))\n",
    "        cur.execute(\"\"\"\n",
    "        select b.first, b.second, b.freq, uf.freq, us.freq, b.freq*b.freq*1.0/(uf.freq*us.freq) as pmi from bigram as b, unigram as uf, unigram as us\n",
    "        where b.first = uf.first and b.second = us.first\n",
    "        and b.{pos} = ? and b.lang='nob' and uf.lang='nob' and us.lang='nob'\n",
    "        order by pmi desc limit 20 \n",
    "        \"\"\".format(pos=pos, order=order), (w,))\n",
    "        r =  cur.fetchall()\n",
    "    return r"
   ]
  },
  {
   "cell_type": "code",
   "execution_count": 145,
   "metadata": {},
   "outputs": [
    {
     "data": {
      "text/plain": [
       "[('Etterpå', 'spiste', 520, 1.4849041079476135e-08),\n",
       " ('kvelden', 'spiste', 733, 4.14219619887562e-09),\n",
       " ('Vi', 'spiste', 8320, 3.541943097981508e-09),\n",
       " ('De', 'spiste', 12260, 2.795934342557118e-09),\n",
       " ('verken', 'spiste', 215, 2.2485910637758675e-09),\n",
       " ('etterpå', 'spiste', 230, 2.2367007481865957e-09),\n",
       " ('Han', 'spiste', 8830, 1.9966824118989225e-09),\n",
       " ('Hun', 'spiste', 4323, 1.9615502233448014e-09),\n",
       " ('hverken', 'spiste', 241, 1.783906299772487e-09),\n",
       " ('Så', 'spiste', 1701, 1.6969606148517228e-09),\n",
       " ('Folk', 'spiste', 257, 1.6899039557619916e-09),\n",
       " ('Jeg', 'spiste', 6062, 1.4243671940990433e-09),\n",
       " ('vi', 'spiste', 9892, 1.3755549110534327e-09),\n",
       " ('kveld', 'spiste', 242, 1.3495939126603242e-09),\n",
       " ('morgen', 'spiste', 245, 1.2336180882855568e-09),\n",
       " ('hun', 'spiste', 6596, 1.1925034479752064e-09),\n",
       " ('Først', 'spiste', 226, 1.1884485158231432e-09),\n",
       " ('han', 'spiste', 13712, 1.0928674218205357e-09),\n",
       " ('Man', 'spiste', 494, 1.0673500916136615e-09),\n",
       " ('de', 'spiste', 17527, 9.58000655685101e-10),\n",
       " ('Alle', 'spiste', 425, 9.41755884890919e-10),\n",
       " ('jeg', 'spiste', 8107, 9.018811468145299e-10),\n",
       " ('Der', 'spiste', 553, 9.014469075850689e-10),\n",
       " ('barna', 'spiste', 291, 8.693054378792866e-10),\n",
       " ('og', 'spiste', 60118, 8.674409318468449e-10),\n",
       " ('folk', 'spiste', 575, 7.553252392080083e-10),\n",
       " ('dagen', 'spiste', 285, 7.306467197303763e-10),\n",
       " ('Jesus', 'spiste', 209, 6.5935608686972e-10),\n",
       " ('Hva', 'spiste', 595, 6.121581847388057e-10),\n",
       " ('man', 'spiste', 1419, 4.3790900259087007e-10),\n",
       " ('Her', 'spiste', 315, 4.139407211889496e-10),\n",
       " ('dag', 'spiste', 518, 4.052493771336628e-10),\n",
       " ('dere', 'spiste', 245, 3.767864207442205e-10),\n",
       " ('Du', 'spiste', 387, 3.1253979496878986e-10),\n",
       " ('aldri', 'spiste', 280, 3.088049554247025e-10),\n",
       " ('Da', 'spiste', 422, 2.854331447492895e-10),\n",
       " ('bare', 'spiste', 917, 2.818321925574325e-10),\n",
       " ('alltid', 'spiste', 203, 2.5579286078896903e-10),\n",
       " ('du', 'spiste', 1281, 2.376497352254476e-10),\n",
       " ('gang', 'spiste', 332, 2.295742052994754e-10),\n",
       " ('så', 'spiste', 1675, 2.2092417309391457e-10),\n",
       " ('alle', 'spiste', 680, 2.0455724988304896e-10),\n",
       " ('som', 'spiste', 6895, 2.0193488381006819e-10),\n",
       " ('andre', 'spiste', 662, 1.7157580960798007e-10),\n",
       " ('siden', 'spiste', 217, 1.583571316653657e-10),\n",
       " ('ikke', 'spiste', 2823, 1.5616984497184745e-10),\n",
       " ('men', 'spiste', 899, 1.3725654409255153e-10),\n",
       " (',', 'spiste', 17203, 1.367071125486849e-10),\n",
       " ('Den', 'spiste', 397, 1.2316097799668818e-10),\n",
       " ('der', 'spiste', 429, 9.443458766019518e-11)]"
      ]
     },
     "execution_count": 145,
     "metadata": {},
     "output_type": "execute_result"
    }
   ],
   "source": [
    "check('spiste', column='second', order= 'pmi', freqlim = 200,limit=50)"
   ]
  },
  {
   "cell_type": "code",
   "execution_count": 119,
   "metadata": {},
   "outputs": [
    {
     "data": {
      "text/plain": [
       "('han', 'gikk', 238265, 7.825190676771175e-10)"
      ]
     },
     "execution_count": 119,
     "metadata": {},
     "output_type": "execute_result"
    }
   ],
   "source": [
    "lookup('han', 'gikk')"
   ]
  },
  {
   "cell_type": "markdown",
   "metadata": {},
   "source": [
    "\n",
    "with sqlite3.connect(bigram) as con:\n",
    "    cur = con.cursor()\n",
    "    cur.execute(\"attach '{db}' as unigram\".format(db=unigram))\n",
    "    cur.execute(\"\"\"\n",
    "    update bigram set pmi = (select bigram.freq*1.0/(uf.freq*us.freq) from unigram as uf, unigram as us\n",
    "    where bigram.first = uf.first and bigram.second = us.first\n",
    "    and bigram.lang = uf.lang and bigram.lang = us.lang)\n",
    "    \"\"\")\n",
    "    "
   ]
  },
  {
   "cell_type": "code",
   "execution_count": 118,
   "metadata": {},
   "outputs": [],
   "source": [
    "def lookup(x,y):\n",
    "    res =  query(bigram, \"\"\"\n",
    "    select first, second, freq, pmi from bigram\n",
    "    where \n",
    "        first = '{x}'  and \n",
    "        second ='{y}'  and \n",
    "        lang = 'nob' \"\"\".format(x=x, y=y))\n",
    "    if res == []:\n",
    "        num = (x, y, 0)\n",
    "    else:\n",
    "        num = res[0]\n",
    "    return num"
   ]
  },
  {
   "cell_type": "code",
   "execution_count": 22,
   "metadata": {},
   "outputs": [
    {
     "data": {
      "text/plain": [
       "('spise', 'fiskeri', 0)"
      ]
     },
     "execution_count": 22,
     "metadata": {},
     "output_type": "execute_result"
    }
   ],
   "source": [
    "lookup('spise','fiskeri')"
   ]
  },
  {
   "cell_type": "code",
   "execution_count": 33,
   "metadata": {},
   "outputs": [],
   "source": [
    "def parse(sentence):\n",
    "    parse = []\n",
    "    for i,w in enumerate(sentence):\n",
    "        for j,x in enumerate(sentence):\n",
    "            if j > i:\n",
    "                l = lookup(w,x)\n",
    "                a = l[0]\n",
    "                b = l[1]\n",
    "                v = l[2]\n",
    "                parse.append(((a,i),(b,j), v))\n",
    "    return parse\n",
    "                \n",
    "            "
   ]
  },
  {
   "cell_type": "code",
   "execution_count": 49,
   "metadata": {},
   "outputs": [],
   "source": [
    "rank = lambda w, pos=0: [x for x in found if x[pos][0] == w]"
   ]
  },
  {
   "cell_type": "code",
   "execution_count": 55,
   "metadata": {},
   "outputs": [],
   "source": [
    "import networkx as nx\n",
    "import dhlab.graph_networkx_louvain as gnl"
   ]
  },
  {
   "cell_type": "code",
   "execution_count": 65,
   "metadata": {},
   "outputs": [],
   "source": [
    "transform = lambda found: [ ( x[0][0] + \"-\" + str(x[0][1]), x[1][0] + \"-\" + str(x[1][1]), x[2]) for x in found ]"
   ]
  },
  {
   "cell_type": "code",
   "execution_count": 48,
   "metadata": {},
   "outputs": [],
   "source": [
    "found = sorted(parse(tokenize('en sunn gutt som spiser mye frukt gikk inn til rektor')), key=lambda x:x[2], reverse=True)"
   ]
  },
  {
   "cell_type": "code",
   "execution_count": 50,
   "metadata": {},
   "outputs": [
    {
     "data": {
      "text/plain": [
       "[(('til', 9), ('rektor', 10), 8026),\n",
       " (('som', 3), ('rektor', 10), 6488),\n",
       " (('en', 0), ('rektor', 10), 2082),\n",
       " (('gikk', 7), ('rektor', 10), 92),\n",
       " (('sunn', 1), ('rektor', 10), 0),\n",
       " (('gutt', 2), ('rektor', 10), 0),\n",
       " (('spiser', 4), ('rektor', 10), 0),\n",
       " (('mye', 5), ('rektor', 10), 0),\n",
       " (('frukt', 6), ('rektor', 10), 0),\n",
       " (('inn', 8), ('rektor', 10), 0)]"
      ]
     },
     "execution_count": 50,
     "metadata": {},
     "output_type": "execute_result"
    }
   ],
   "source": [
    "rank('rektor', 1)"
   ]
  },
  {
   "cell_type": "code",
   "execution_count": 51,
   "metadata": {},
   "outputs": [
    {
     "data": {
      "text/plain": [
       "[(('spiser', 4), ('mye', 5), 2187),\n",
       " (('spiser', 4), ('til', 9), 1291),\n",
       " (('spiser', 4), ('frukt', 6), 416),\n",
       " (('spiser', 4), ('gikk', 7), 0),\n",
       " (('spiser', 4), ('inn', 8), 0),\n",
       " (('spiser', 4), ('rektor', 10), 0)]"
      ]
     },
     "execution_count": 51,
     "metadata": {},
     "output_type": "execute_result"
    }
   ],
   "source": [
    "rank('spiser')"
   ]
  },
  {
   "cell_type": "code",
   "execution_count": 53,
   "metadata": {},
   "outputs": [
    {
     "data": {
      "text/plain": [
       "[(('en', 0), ('frukt', 6), 8799),\n",
       " (('mye', 5), ('frukt', 6), 1728),\n",
       " (('som', 3), ('frukt', 6), 1456),\n",
       " (('spiser', 4), ('frukt', 6), 416),\n",
       " (('sunn', 1), ('frukt', 6), 0),\n",
       " (('gutt', 2), ('frukt', 6), 0)]"
      ]
     },
     "execution_count": 53,
     "metadata": {},
     "output_type": "execute_result"
    }
   ],
   "source": [
    "rank('frukt',1)"
   ]
  },
  {
   "cell_type": "code",
   "execution_count": 54,
   "metadata": {},
   "outputs": [
    {
     "data": {
      "text/plain": [
       "[(('en', 0), ('som', 3), 406303),\n",
       " (('en', 0), ('til', 9), 153376),\n",
       " (('en', 0), ('gutt', 2), 90166),\n",
       " (('en', 0), ('mye', 5), 27995),\n",
       " (('en', 0), ('sunn', 1), 18784),\n",
       " (('en', 0), ('inn', 8), 10910),\n",
       " (('en', 0), ('frukt', 6), 8799),\n",
       " (('en', 0), ('gikk', 7), 7850),\n",
       " (('en', 0), ('rektor', 10), 2082),\n",
       " (('en', 0), ('spiser', 4), 1736)]"
      ]
     },
     "execution_count": 54,
     "metadata": {},
     "output_type": "execute_result"
    }
   ],
   "source": [
    "rank('en')"
   ]
  },
  {
   "cell_type": "code",
   "execution_count": 70,
   "metadata": {},
   "outputs": [
    {
     "data": {
      "text/plain": [
       "[('inn-8', 'til-9', 573725),\n",
       " ('en-0', 'som-3', 406303),\n",
       " ('gikk-7', 'inn-8', 309293),\n",
       " ('som-3', 'til-9', 306082),\n",
       " ('som-3', 'gikk-7', 302677),\n",
       " ('gikk-7', 'til-9', 241265),\n",
       " ('en-0', 'til-9', 153376),\n",
       " ('en-0', 'gutt-2', 90166),\n",
       " ('mye-5', 'til-9', 62827),\n",
       " ('gutt-2', 'som-3', 41519),\n",
       " ('en-0', 'mye-5', 27995),\n",
       " ('en-0', 'sunn-1', 18784),\n",
       " ('som-3', 'spiser-4', 13906),\n",
       " ('en-0', 'inn-8', 10910),\n",
       " ('en-0', 'frukt-6', 8799),\n",
       " ('til-9', 'rektor-10', 8026),\n",
       " ('en-0', 'gikk-7', 7850),\n",
       " ('som-3', 'rektor-10', 6488),\n",
       " ('mye-5', 'inn-8', 5379),\n",
       " ('som-3', 'mye-5', 4040),\n",
       " ('gutt-2', 'til-9', 4003),\n",
       " ('frukt-6', 'til-9', 2405),\n",
       " ('spiser-4', 'mye-5', 2187),\n",
       " ('en-0', 'rektor-10', 2082),\n",
       " ('som-3', 'inn-8', 2033),\n",
       " ('en-0', 'spiser-4', 1736),\n",
       " ('mye-5', 'frukt-6', 1728),\n",
       " ('som-3', 'frukt-6', 1456),\n",
       " ('spiser-4', 'til-9', 1291),\n",
       " ('gutt-2', 'gikk-7', 617),\n",
       " ('mye-5', 'gikk-7', 527),\n",
       " ('spiser-4', 'frukt-6', 416),\n",
       " ('gutt-2', 'inn-8', 335),\n",
       " ('sunn-1', 'som-3', 305),\n",
       " ('gikk-7', 'rektor-10', 92),\n",
       " ('sunn-1', 'gutt-2', 52),\n",
       " ('gutt-2', 'spiser-4', 19),\n",
       " ('sunn-1', 'spiser-4', 0),\n",
       " ('sunn-1', 'mye-5', 0),\n",
       " ('sunn-1', 'frukt-6', 0),\n",
       " ('sunn-1', 'gikk-7', 0),\n",
       " ('sunn-1', 'inn-8', 0),\n",
       " ('sunn-1', 'til-9', 0),\n",
       " ('sunn-1', 'rektor-10', 0),\n",
       " ('gutt-2', 'mye-5', 0),\n",
       " ('gutt-2', 'frukt-6', 0),\n",
       " ('gutt-2', 'rektor-10', 0),\n",
       " ('spiser-4', 'gikk-7', 0),\n",
       " ('spiser-4', 'inn-8', 0),\n",
       " ('spiser-4', 'rektor-10', 0),\n",
       " ('mye-5', 'rektor-10', 0),\n",
       " ('frukt-6', 'gikk-7', 0),\n",
       " ('frukt-6', 'inn-8', 0),\n",
       " ('frukt-6', 'rektor-10', 0),\n",
       " ('inn-8', 'rektor-10', 0)]"
      ]
     },
     "execution_count": 70,
     "metadata": {},
     "output_type": "execute_result"
    }
   ],
   "source": [
    "transform(found)"
   ]
  },
  {
   "cell_type": "code",
   "execution_count": 73,
   "metadata": {},
   "outputs": [],
   "source": [
    "G = nx.DiGraph()\n",
    "G.add_weighted_edges_from(transform(found))"
   ]
  },
  {
   "cell_type": "code",
   "execution_count": 77,
   "metadata": {},
   "outputs": [
    {
     "data": {
      "image/png": "[encoded data removed]",
      "text/plain": [
       "<Figure size 1080x720 with 1 Axes>"
      ]
     },
     "metadata": {},
     "output_type": "display_data"
    }
   ],
   "source": [
    "gnl.show_graph(G, spread = 1.)"
   ]
  },
  {
   "cell_type": "code",
   "execution_count": 78,
   "metadata": {},
   "outputs": [
    {
     "name": "stdout",
     "output_type": "stream",
     "text": [
      "mye-5-til-9 :  mye-5, til-9, gikk-7, inn-8\n",
      "\n",
      "frukt-6-rektor-10 :  frukt-6, rektor-10, spiser-4, som-3, sunn-1, gutt-2, en-0\n",
      "\n"
     ]
    }
   ],
   "source": [
    "gnl.show_communities(G)"
   ]
  },
  {
   "cell_type": "code",
   "execution_count": 156,
   "metadata": {},
   "outputs": [],
   "source": [
    "freq = lambda w: query(unigram, \"select freq from unigram where lang='nob' and first='{w}'\".format(w=w))[0][0]"
   ]
  },
  {
   "cell_type": "code",
   "execution_count": 183,
   "metadata": {},
   "outputs": [],
   "source": [
    "def phrase(f1, f2, context, invert=False): \n",
    "    den = lookup(context, f1)[2] if invert == False else lookup(f1, context)[2]\n",
    "    nom = lookup(context, f2)[2] if invert == False else lookup(f2, context)[2]\n",
    "    if nom != 0:\n",
    "        res = den/nom\n",
    "    else:\n",
    "        res = -10 if den > 0 else -1\n",
    "    return res"
   ]
  },
  {
   "cell_type": "code",
   "execution_count": 190,
   "metadata": {},
   "outputs": [
    {
     "data": {
      "text/plain": [
       "-1"
      ]
     },
     "execution_count": 190,
     "metadata": {},
     "output_type": "execute_result"
    }
   ],
   "source": [
    "phrase('han', 'ham', 'sovende', False)"
   ]
  },
  {
   "cell_type": "code",
   "execution_count": 195,
   "metadata": {},
   "outputs": [
    {
     "data": {
      "text/plain": [
       "('hun', 'sovende', 0)"
      ]
     },
     "execution_count": 195,
     "metadata": {},
     "output_type": "execute_result"
    }
   ],
   "source": [
    "lookup('hun', 'sovende')"
   ]
  },
  {
   "cell_type": "code",
   "execution_count": 160,
   "metadata": {},
   "outputs": [
    {
     "name": "stdout",
     "output_type": "stream",
     "text": [
      "13503213 47049244 3.484299921803796\n"
     ]
    }
   ],
   "source": [
    "print(freq('ham'), freq('han'), freq('han')/freq('ham'))"
   ]
  },
  {
   "cell_type": "code",
   "execution_count": 164,
   "metadata": {},
   "outputs": [
    {
     "data": {
      "text/plain": [
       "('at', 'ham', 2526, 2.0110314645876623e-12)"
      ]
     },
     "execution_count": 164,
     "metadata": {},
     "output_type": "execute_result"
    }
   ],
   "source": [
    "lookup('at', 'ham')"
   ]
  }
 ],
 "metadata": {
  "kernelspec": {
   "display_name": "Python 3",
   "language": "python",
   "name": "python3"
  },
  "language_info": {
   "codemirror_mode": {
    "name": "ipython",
    "version": 3
   },
   "file_extension": ".py",
   "mimetype": "text/x-python",
   "name": "python",
   "nbconvert_exporter": "python",
   "pygments_lexer": "ipython3",
   "version": "3.7.3"
  }
 },
 "nbformat": 4,
 "nbformat_minor": 2
}

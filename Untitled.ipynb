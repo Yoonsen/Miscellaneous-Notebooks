{
 "cells": [
  {
   "cell_type": "code",
   "execution_count": 10,
   "metadata": {},
   "outputs": [
    {
     "data": {
      "text/plain": [
       "['l,']"
      ]
     },
     "execution_count": 10,
     "metadata": {},
     "output_type": "execute_result"
    }
   ],
   "source": [
    "import re\n",
    "\n",
    "re.findall(\"[\\wo,.],\", \"ha#ll,.o\")"
   ]
  },
  {
   "cell_type": "code",
   "execution_count": 11,
   "metadata": {},
   "outputs": [],
   "source": [
    "from urllib.request import urlopen\n",
    "from bs4 import BeautifulSoup, Comment\n",
    "url = 'http://time.com/5561872/game-of-thrones-show/'\n",
    "# Connecting to game of thrones website described in 'url'\n",
    "conn = urlopen(url)\n",
    "html = conn.read()\n",
    "soup = BeautifulSoup(html, features=\"lxml\")"
   ]
  },
  {
   "cell_type": "code",
   "execution_count": 12,
   "metadata": {},
   "outputs": [
    {
     "data": {
      "text/plain": [
       "[<p>While it is hard to imagine that <a href=\"https://time.com/game-of-thrones-2017/\"><em>Game of Thrones</em> </a>needs to remind people to tune in for its final season, the HBO series is not above sending a not-so-subtle reminder to fans to watch the show’s season premiere. That reminder? They set the Bellagio fountains on fire.</p>,\n",
       " <p>To build some buzz for the show’s already <a href=\"https://time.com/5501931/game-of-thrones-teaser-bran-stark/\">buzzworthy return</a>, <em>Game of Thrones</em> left Westeros for the Las Vegas, taking over the world-famous Bellagio Fountains to put on a special show. Fans lined up around the landmark to watch as winter came to Las Vegas. As tourists gawked, Lake Bellagio transformed into an 800-foot-long water wall, rising up to remind fans of the wall that was meant to keep the White Walkers out of Westeros. The jaw-dropping wall of water became a canvas as the imaginative creators projected falling snow, the infamous <em>Game of Thrones</em> logo, and filled the night with silhouettes of the dragons breathing orange and blue flames. The Night King even made an appearance and water jets formed the shape of a crown and throne, setting the stage for the final showdown for the Iron Throne. It was all set to a soundtrack created by the show’s award-winning composer Ramin Dhawadi.</p>,\n",
       " <p>That wasn’t the end of the spectacle, though. For the first time in hotel history, the water was set on fire, <a href=\"https://apnews.com/9e167acf97e04d67899017460bdd2b45\" target=\"_blank\"><em>The Associated Press</em> reports.</a> The special fountain show will go off nightly through April 13, the night before the series premieres its <a href=\"https://time.com/4913247/game-of-thrones-season-8-premiere-date/\">eighth and final season</a> on April 14.</p>,\n",
       " <p class=\"author-feedback-text\"><strong>Contact us</strong> at <a href=\"mailto:editors@time.com?subject=(READER FEEDBACK) &lt;em&gt;Game of Thrones&lt;/em&gt; Dragons to Setting Fountains on Fire Is Enough to Make Your Jaw Drop\" rel=\"noopener noreferrer\" target=\"_self\">editors@time.com</a>.</p>]"
      ]
     },
     "execution_count": 12,
     "metadata": {},
     "output_type": "execute_result"
    }
   ],
   "source": [
    "soup.find_all('p')"
   ]
  },
  {
   "cell_type": "code",
   "execution_count": null,
   "metadata": {},
   "outputs": [],
   "source": []
  }
 ],
 "metadata": {
  "kernelspec": {
   "display_name": "Python 3",
   "language": "python",
   "name": "python3"
  },
  "language_info": {
   "codemirror_mode": {
    "name": "ipython",
    "version": 3
   },
   "file_extension": ".py",
   "mimetype": "text/x-python",
   "name": "python",
   "nbconvert_exporter": "python",
   "pygments_lexer": "ipython3",
   "version": "3.7.3"
  }
 },
 "nbformat": 4,
 "nbformat_minor": 2
}

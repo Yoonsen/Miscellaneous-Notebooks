{
 "cells": [
  {
   "cell_type": "markdown",
   "metadata": {},
   "source": [
    "Testing SQLite fulltext index"
   ]
  },
  {
   "cell_type": "code",
   "execution_count": 1,
   "metadata": {},
   "outputs": [],
   "source": [
    "import sqlite3\n",
    "import json\n",
    "import pandas as pd"
   ]
  },
  {
   "cell_type": "code",
   "execution_count": 4,
   "metadata": {},
   "outputs": [],
   "source": [
    "db = \"test_ft.db\"\n"
   ]
  },
  {
   "cell_type": "code",
   "execution_count": 7,
   "metadata": {},
   "outputs": [],
   "source": [
    "def query(db, sql, params=()):\n",
    "    with sqlite3.connect(db) as con:\n",
    "        cur = con.cursor()\n",
    "        res = cur.execute(sql, params).fetchall()\n",
    "    return res"
   ]
  },
  {
   "cell_type": "code",
   "execution_count": 19,
   "metadata": {},
   "outputs": [
    {
     "ename": "OperationalError",
     "evalue": "no such module: FTS3",
     "output_type": "error",
     "traceback": [
      "\u001b[1;31m---------------------------------------------------------------------------\u001b[0m",
      "\u001b[1;31mOperationalError\u001b[0m                          Traceback (most recent call last)",
      "\u001b[1;32m<ipython-input-19-161d1d75ce83>\u001b[0m in \u001b[0;36m<module>\u001b[1;34m\u001b[0m\n\u001b[1;32m----> 1\u001b[1;33m \u001b[0mquery\u001b[0m\u001b[1;33m(\u001b[0m\u001b[0mdb\u001b[0m\u001b[1;33m,\u001b[0m \u001b[1;34m\"CREATE VIRTUAL TABLE posts USING FTS3(identifier, text)\"\u001b[0m\u001b[1;33m)\u001b[0m\u001b[1;33m\u001b[0m\u001b[1;33m\u001b[0m\u001b[0m\n\u001b[0m",
      "\u001b[1;32m<ipython-input-7-1af090cbe134>\u001b[0m in \u001b[0;36mquery\u001b[1;34m(db, sql, params)\u001b[0m\n\u001b[0;32m      2\u001b[0m     \u001b[1;32mwith\u001b[0m \u001b[0msqlite3\u001b[0m\u001b[1;33m.\u001b[0m\u001b[0mconnect\u001b[0m\u001b[1;33m(\u001b[0m\u001b[0mdb\u001b[0m\u001b[1;33m)\u001b[0m \u001b[1;32mas\u001b[0m \u001b[0mcon\u001b[0m\u001b[1;33m:\u001b[0m\u001b[1;33m\u001b[0m\u001b[1;33m\u001b[0m\u001b[0m\n\u001b[0;32m      3\u001b[0m         \u001b[0mcur\u001b[0m \u001b[1;33m=\u001b[0m \u001b[0mcon\u001b[0m\u001b[1;33m.\u001b[0m\u001b[0mcursor\u001b[0m\u001b[1;33m(\u001b[0m\u001b[1;33m)\u001b[0m\u001b[1;33m\u001b[0m\u001b[1;33m\u001b[0m\u001b[0m\n\u001b[1;32m----> 4\u001b[1;33m         \u001b[0mres\u001b[0m \u001b[1;33m=\u001b[0m \u001b[0mcur\u001b[0m\u001b[1;33m.\u001b[0m\u001b[0mexecute\u001b[0m\u001b[1;33m(\u001b[0m\u001b[0msql\u001b[0m\u001b[1;33m,\u001b[0m \u001b[0mparams\u001b[0m\u001b[1;33m)\u001b[0m\u001b[1;33m.\u001b[0m\u001b[0mfetchall\u001b[0m\u001b[1;33m(\u001b[0m\u001b[1;33m)\u001b[0m\u001b[1;33m\u001b[0m\u001b[1;33m\u001b[0m\u001b[0m\n\u001b[0m\u001b[0;32m      5\u001b[0m     \u001b[1;32mreturn\u001b[0m \u001b[0mres\u001b[0m\u001b[1;33m\u001b[0m\u001b[1;33m\u001b[0m\u001b[0m\n",
      "\u001b[1;31mOperationalError\u001b[0m: no such module: FTS3"
     ]
    }
   ],
   "source": [
    "query(db, \"CREATE VIRTUAL TABLE posts USING FTS3(identifier, text)\")"
   ]
  },
  {
   "cell_type": "code",
   "execution_count": 12,
   "metadata": {},
   "outputs": [
    {
     "name": "stdout",
     "output_type": "stream",
     "text": [
      "Collecting peewee\n",
      "  Downloading https://files.pythonhosted.org/packages/d4/30/0083f0e484902d118927236497c5f55c14a46c2a0e1b95083d26e5608371/peewee-3.13.1.tar.gz (843kB)\n",
      "Building wheels for collected packages: peewee\n",
      "  Building wheel for peewee (setup.py): started\n",
      "  Building wheel for peewee (setup.py): finished with status 'done'\n",
      "  Created wheel for peewee: filename=peewee-3.13.1-cp37-none-any.whl size=126584 sha256=6cf1547d10f12e58895173dcbd194d1e554a2e03469f98266c635b18d14f6c7a\n",
      "  Stored in directory: C:\\Users\\larsj\\AppData\\Local\\pip\\Cache\\wheels\\22\\0d\\78\\db0c984a386135c6da58ba9a1020f5a943d92c44274881d51f\n",
      "Successfully built peewee\n",
      "Installing collected packages: peewee\n",
      "Successfully installed peewee-3.13.1\n"
     ]
    }
   ],
   "source": [
    "!pip install peewee"
   ]
  },
  {
   "cell_type": "code",
   "execution_count": 13,
   "metadata": {},
   "outputs": [
    {
     "data": {
      "text/plain": [
       "False"
      ]
     },
     "execution_count": 13,
     "metadata": {},
     "output_type": "execute_result"
    }
   ],
   "source": [
    "from playhouse.sqlite_ext import FTS5Model\n",
    "FTS5Model.fts5_installed()"
   ]
  },
  {
   "cell_type": "code",
   "execution_count": 16,
   "metadata": {},
   "outputs": [],
   "source": [
    "from playhouse.sqlite_ext import FTSModel"
   ]
  },
  {
   "cell_type": "code",
   "execution_count": 17,
   "metadata": {},
   "outputs": [
    {
     "name": "stdout",
     "output_type": "stream",
     "text": [
      "[('COMPILER=msvc-1916',), ('THREADSAFE=1',)]\n",
      "NO\n"
     ]
    }
   ],
   "source": [
    "import sqlite3\n",
    "\n",
    "con = sqlite3.connect(':memory:')\n",
    "cur = con.cursor()\n",
    "cur.execute('pragma compile_options;')\n",
    "available_pragmas = cur.fetchall()\n",
    "con.close()\n",
    "\n",
    "print(available_pragmas)\n",
    "\n",
    "if ('ENABLE_FTS5',) in available_pragmas:\n",
    "    print('YES')\n",
    "else:\n",
    "    print('NO')"
   ]
  },
  {
   "cell_type": "markdown",
   "metadata": {},
   "source": [
    "Code taken from https://charlesleifer.com/blog/using-sqlite-full-text-search-with-python/\n",
    "\n",
    "from playhouse.sqlite_ext import SqliteExtDatabase\n",
    "\n",
    "db = SqliteExtDatabase('blog.db')\n",
    "\n",
    "pragmas = [\n",
    "    ('journal_mode', 'wal'),\n",
    "    ('cache_size', -1000 * 32)]\n",
    "db = SqliteExtDatabase('blog.db', pragmas=pragmas)\n",
    "\n",
    "from peewee import *\n",
    "from playhouse.sqlite_ext import *\n",
    "\n",
    "pragmas = [\n",
    "    ('journal_mode', 'wal'),\n",
    "    ('cache_size', -1024 * 32)]\n",
    "\n",
    "db = SqliteExtDatabase('blog.db', pragmas=pragmas)\n",
    "\n",
    "\n",
    "class Entry(Model):\n",
    "    title = TextField()\n",
    "    content = TextField()\n",
    "    # You may have any number of other fields, such as status,\n",
    "    # timestamp, etc.\n",
    "\n",
    "    class Meta:\n",
    "        database = db\n",
    "\n",
    "class FTSEntry(FTSModel):\n",
    "    content = TextField()\n",
    "\n",
    "    class Meta:\n",
    "        database = db\n",
    "\n",
    "Entry.create_table()\n",
    "FTSEntry.create_table()"
   ]
  },
  {
   "cell_type": "code",
   "execution_count": null,
   "metadata": {},
   "outputs": [],
   "source": []
  }
 ],
 "metadata": {
  "kernelspec": {
   "display_name": "Python 3",
   "language": "python",
   "name": "python3"
  },
  "language_info": {
   "codemirror_mode": {
    "name": "ipython",
    "version": 3
   },
   "file_extension": ".py",
   "mimetype": "text/x-python",
   "name": "python",
   "nbconvert_exporter": "python",
   "pygments_lexer": "ipython3",
   "version": "3.7.4"
  }
 },
 "nbformat": 4,
 "nbformat_minor": 2
}

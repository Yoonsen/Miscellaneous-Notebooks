{
 "cells": [
  {
   "cell_type": "code",
   "execution_count": 1,
   "id": "e866606c-d0bf-4e97-b4d3-12eea021d09b",
   "metadata": {},
   "outputs": [
    {
     "name": "stdout",
     "output_type": "stream",
     "text": [
      "wordcloud er ikke installert, kan ikke lage ordskyer\n"
     ]
    }
   ],
   "source": [
    "import dhlab as dh\n",
    "import pandas as pd\n",
    "import dhlab.api.dhlab_api as api\n",
    "import requests\n",
    "BASE_URL = api.BASE_URL"
   ]
  },
  {
   "cell_type": "code",
   "execution_count": 18,
   "id": "0497efc5-2993-46e1-b015-c27178c76d07",
   "metadata": {},
   "outputs": [],
   "source": [
    "corpus = dh.Corpus(doctype=\"digibok\", ddk=\"8*\", limit = 500000, lang='nob', from_year = 1950, to_year=2022)"
   ]
  },
  {
   "cell_type": "code",
   "execution_count": 19,
   "id": "516590ef-6349-4634-bdab-f5021afb37bf",
   "metadata": {},
   "outputs": [
    {
     "data": {
      "text/plain": [
       "101367"
      ]
     },
     "execution_count": 19,
     "metadata": {},
     "output_type": "execute_result"
    }
   ],
   "source": [
    "corpus.size"
   ]
  },
  {
   "cell_type": "code",
   "execution_count": 4,
   "id": "6eb7ad80-d711-46fb-8915-ea6f47e1d44a",
   "metadata": {},
   "outputs": [],
   "source": [
    "def get_document_frequencies(urns = None, cutoff= 0, words = None):\n",
    "    \"\"\"Fetch frequency counts of ``words`` in documents (``urns``).\n",
    "    Call the API :py:obj:`~dhlab.constants.BASE_URL` endpoint\n",
    "    `/frequencies`.\n",
    "    :param list urns: list of uniform resource name strings, for example:\n",
    "        ``[\"URN:NBN:no-nb_digibok_2008051404065\", \"URN:NBN:no-nb_digibok_2010092120011\"]``\n",
    "    :param int cutoff: minimum frequency of a word to be counted\n",
    "    :param list words: a list of words to be counted - if left None, whole document is returned.\n",
    "    \"\"\"\n",
    "    params = locals()\n",
    "    r = requests.post(f\"{BASE_URL}/frequencies\", json=params)\n",
    "    result = r.json()\n",
    "    # check if words are passed - return differs a bit\n",
    "    if words is None:\n",
    "        structure = dict()\n",
    "        for u in result:\n",
    "            try:\n",
    "                structure[u[0][0]] = dict([(x[1], x[2]) for x in u])\n",
    "            except IndexError:\n",
    "                pass\n",
    "        df = pd.DataFrame(structure)\n",
    "        df = df.sort_values(by=df.columns[0], ascending=False).fillna(0)\n",
    "    else:\n",
    "        df = pd.DataFrame(result)\n",
    "        df.columns = [\"urn\", \"word\", \"count\", \"urncount\"]\n",
    "        #df = pd.pivot_table(df, values=\"count\", index=\"word\", columns=\"urn\").fillna(0)\n",
    "    return df"
   ]
  },
  {
   "cell_type": "code",
   "execution_count": 20,
   "id": "1c039e16-b528-467c-ba89-563af5c0ef37",
   "metadata": {},
   "outputs": [],
   "source": [
    "def countwords(urns=None, words=None):\n",
    "    hifreq = get_document_frequencies(urns=list(urns), words= words)\n",
    "    wordcounts = pd.pivot_table(hifreq, values=\"count\", index=\"word\", columns=\"urn\").fillna(0).transpose()\n",
    "    uc = pd.pivot_table(hifreq, values=\"urncount\", index=\"word\", columns=\"urn\").fillna(0)\n",
    "    urncounts = uc.max()\n",
    "    c = pd.DataFrame()\n",
    "    for x in wordcounts:\n",
    "        c[x] = wordcounts[x]*100/urncounts\n",
    "    return c"
   ]
  },
  {
   "cell_type": "code",
   "execution_count": 31,
   "id": "19152f84-a3a5-4a21-8cf2-f616e96f2eb5",
   "metadata": {},
   "outputs": [],
   "source": [
    "wc = countwords(urns = list(corpus.corpus.urn), words = \"han hun henne ham hennes hans jeg meg du deg vi oss der dit\".split())"
   ]
  },
  {
   "cell_type": "code",
   "execution_count": 29,
   "id": "d33a73bf-1743-4131-8ff1-adc0f35b4e73",
   "metadata": {},
   "outputs": [],
   "source": [
    "wc3 = countwords(urns = list(corpus.corpus.urn), words = \"han hun henne ham hennes hans\".split())"
   ]
  },
  {
   "cell_type": "code",
   "execution_count": 30,
   "id": "0691b1b5-b93c-4e44-a1ea-703f4ef1ef90",
   "metadata": {},
   "outputs": [
    {
     "data": {
      "text/plain": [
       "count    99082.000000\n",
       "mean         2.517593\n",
       "std          1.306758\n",
       "min          0.000459\n",
       "25%          1.572796\n",
       "50%          2.448588\n",
       "75%          3.386231\n",
       "max         10.432570\n",
       "dtype: float64"
      ]
     },
     "execution_count": 30,
     "metadata": {},
     "output_type": "execute_result"
    }
   ],
   "source": [
    "wc3.sum(axis=1).describe()"
   ]
  },
  {
   "cell_type": "code",
   "execution_count": 32,
   "id": "f2908f10-415c-4c02-8b96-9ce8352105dc",
   "metadata": {},
   "outputs": [
    {
     "data": {
      "text/plain": [
       "count    100471.000000\n",
       "mean          5.033751\n",
       "std           1.779675\n",
       "min           0.000578\n",
       "25%           3.923619\n",
       "50%           5.114185\n",
       "75%           6.262884\n",
       "max          20.361991\n",
       "dtype: float64"
      ]
     },
     "execution_count": 32,
     "metadata": {},
     "output_type": "execute_result"
    }
   ],
   "source": [
    "wc.sum(axis=1).describe()"
   ]
  },
  {
   "cell_type": "code",
   "execution_count": 26,
   "id": "cf02cb84-0397-45d4-972a-f0ad6da7f87b",
   "metadata": {},
   "outputs": [],
   "source": [
    "wc = countwords(urns = list(corpus.corpus.urn), words = \"han hun jeg du vi der dit\".split())"
   ]
  },
  {
   "cell_type": "code",
   "execution_count": null,
   "id": "6be06534-baa9-4c44-aed9-298d2ea3f10f",
   "metadata": {},
   "outputs": [],
   "source": [
    "df = "
   ]
  },
  {
   "cell_type": "code",
   "execution_count": null,
   "id": "3f2ceaba-fe83-4a37-b484-8e31791574f5",
   "metadata": {},
   "outputs": [],
   "source": []
  }
 ],
 "metadata": {
  "kernelspec": {
   "display_name": "Python 3 (ipykernel)",
   "language": "python",
   "name": "python3"
  },
  "language_info": {
   "codemirror_mode": {
    "name": "ipython",
    "version": 3
   },
   "file_extension": ".py",
   "mimetype": "text/x-python",
   "name": "python",
   "nbconvert_exporter": "python",
   "pygments_lexer": "ipython3",
   "version": "3.9.13"
  }
 },
 "nbformat": 4,
 "nbformat_minor": 5
}

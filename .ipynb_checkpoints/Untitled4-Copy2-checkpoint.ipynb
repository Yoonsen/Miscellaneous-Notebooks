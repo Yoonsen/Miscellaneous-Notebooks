{
 "cells": [
  {
   "cell_type": "code",
   "execution_count": 1,
   "metadata": {},
   "outputs": [],
   "source": [
    "import sqlite3\n",
    "import os\n",
    "import tarfile\n",
    "import gzip\n",
    "#import sqlite3\n",
    "import json\n",
    "import pandas as pd\n",
    "from time import time\n",
    "from IPython.display import HTML"
   ]
  },
  {
   "cell_type": "code",
   "execution_count": 6,
   "metadata": {},
   "outputs": [],
   "source": [
    "from dhlab.nbtokenizer import tokenize"
   ]
  },
  {
   "cell_type": "code",
   "execution_count": 9,
   "metadata": {},
   "outputs": [],
   "source": [
    "def query(db, sql, params=(), retrieve = 20):\n",
    "    with sqlite3.connect(db) as con:\n",
    "        cur = con.cursor()\n",
    "        res = cur.execute(sql, params).fetchmany(retrieve)\n",
    "    return res"
   ]
  },
  {
   "cell_type": "code",
   "execution_count": 67,
   "metadata": {},
   "outputs": [],
   "source": [
    "db = '../ft_index_words.db'"
   ]
  },
  {
   "cell_type": "code",
   "execution_count": 68,
   "metadata": {},
   "outputs": [
    {
     "data": {
      "text/plain": [
       "[]"
      ]
     },
     "execution_count": 68,
     "metadata": {},
     "output_type": "execute_result"
    }
   ],
   "source": [
    "query(db, \"CREATE TABLE ft (identifier integer, para integer, word varchar)\")"
   ]
  },
  {
   "cell_type": "code",
   "execution_count": 12,
   "metadata": {},
   "outputs": [],
   "source": [
    "fritt = tarfile.open(name='D:\\\\Downloads\\\\fritt.tar', mode='r', fileobj=None, bufsize=10240)"
   ]
  },
  {
   "cell_type": "code",
   "execution_count": 45,
   "metadata": {},
   "outputs": [
    {
     "name": "stdout",
     "output_type": "stream",
     "text": [
      "5 0.0009996891021728516\n"
     ]
    }
   ],
   "source": [
    "i = time()\n",
    "books = 1\n",
    "for member in fritt.getmembers():        \n",
    "    f = fritt.extractfile(member)\n",
    "    if f is not None:\n",
    "        identifier = member.get_info()['name'].split('/')[-1]\n",
    "        ident = re.findall(\"[0-9]{13}?\",identifier)[0]\n",
    "        #print(ident)\n",
    "        books += 1\n",
    "    if books > 4:\n",
    "        print(books, time() - i)\n",
    "        i = time()\n",
    "        break"
   ]
  },
  {
   "cell_type": "code",
   "execution_count": null,
   "metadata": {},
   "outputs": [],
   "source": [
    "i = time()\n",
    "with sqlite3.connect(db) as con:\n",
    "    cur = con.cursor()\n",
    "    books = 1\n",
    "    for member in fritt.getmembers():        \n",
    "        f = fritt.extractfile(member)\n",
    "        if f is not None:\n",
    "            identifier = member.get_info()['name'].split('/')[-1]\n",
    "            ident = re.findall(\"[0-9]{13}?\",identifier)[0]\n",
    "            content = f.read()\n",
    "            index = 0\n",
    "            for p in str(content).split('\\\\n'):\n",
    "                tokens = tokenize(p)\n",
    "                for token in tokens:\n",
    "                    cur.execute(\"insert into ft values (?, ?, ?)\", (ident, index, token))\n",
    "                index += 1\n",
    "            books += 1\n",
    "        if books % 1000 == 0:\n",
    "            print(books, time() - i)\n",
    "            i = time()"
   ]
  },
  {
   "cell_type": "code",
   "execution_count": null,
   "metadata": {},
   "outputs": [],
   "source": [
    "i = time()\n",
    "query(db, \"create index _wip_ on ft (word, identifier, para)\")\n",
    "print((time() - i)/60)"
   ]
  },
  {
   "cell_type": "code",
   "execution_count": 47,
   "metadata": {},
   "outputs": [
    {
     "name": "stdout",
     "output_type": "stream",
     "text": [
      "3.8772314389546714\n"
     ]
    }
   ],
   "source": [
    "i = time()\n",
    "query(db, \"create index _ipw_ on ft (identifier, para, word)\")\n",
    "print((time() - i)/60)"
   ]
  },
  {
   "cell_type": "code",
   "execution_count": 63,
   "metadata": {},
   "outputs": [
    {
     "data": {
      "text/plain": [
       "[]"
      ]
     },
     "execution_count": 63,
     "metadata": {},
     "output_type": "execute_result"
    }
   ],
   "source": [
    "query(db, \"\"\"select a.identifier, a.para, a.word, c.word from ft as a, \n",
    "(select b.identifier, b.para, b.word from ft as b where b.word = 'spiser') as c\n",
    "      where c.identifier = a.identifier and c.para = a.para and a.word = 'Middag'\"\"\")"
   ]
  },
  {
   "cell_type": "code",
   "execution_count": 66,
   "metadata": {},
   "outputs": [
    {
     "data": {
      "text/plain": [
       "[('Middag', 'Middag'),\n",
       " ('Middag', 'Middag'),\n",
       " ('Middag', 'Middag'),\n",
       " ('Middag', 'Middag'),\n",
       " ('Middag', 'Middag'),\n",
       " ('Middag', 'Middag'),\n",
       " ('Middag', 'Middag'),\n",
       " ('Middag', 'Middag'),\n",
       " ('Middag', 'Middag'),\n",
       " ('Middag', 'Middag'),\n",
       " ('Middag', 'Middag'),\n",
       " ('Middag', 'Middag'),\n",
       " ('Middag', 'Middag'),\n",
       " ('Middag', 'Middag'),\n",
       " ('Middag', 'Middag')]"
      ]
     },
     "execution_count": 66,
     "metadata": {},
     "output_type": "execute_result"
    }
   ],
   "source": [
    "query(db, \"\"\"select b.word, group_concat(c.word) from ft as c, (select a.identifier, a.para, a.word from ft as a\n",
    "where a.word = 'Middag') as b where c.identifier = b.identifier and c.para = b.para group by c.identifier, c.para\"\"\")"
   ]
  }
 ],
 "metadata": {
  "kernelspec": {
   "display_name": "Python 3",
   "language": "python",
   "name": "python3"
  },
  "language_info": {
   "codemirror_mode": {
    "name": "ipython",
    "version": 3
   },
   "file_extension": ".py",
   "mimetype": "text/x-python",
   "name": "python",
   "nbconvert_exporter": "python",
   "pygments_lexer": "ipython3",
   "version": "3.7.3"
  }
 },
 "nbformat": 4,
 "nbformat_minor": 2
}

{
 "cells": [
  {
   "cell_type": "code",
   "execution_count": null,
   "metadata": {},
   "outputs": [],
   "source": [
    "import dhlab.nbtext as nb\n",
    "import pandas as pd"
   ]
  },
  {
   "cell_type": "code",
   "execution_count": 41,
   "metadata": {},
   "outputs": [
    {
     "data": {
      "text/plain": [
       "True"
      ]
     },
     "execution_count": 41,
     "metadata": {},
     "output_type": "execute_result"
    }
   ],
   "source": [
    "tot = nb.frame(nb.totals(250000), 'tot')\n",
    "nb.normalize_corpus_dataframe(tot)"
   ]
  },
  {
   "cell_type": "code",
   "execution_count": 23,
   "metadata": {},
   "outputs": [],
   "source": [
    "def agg(urns, step = 500):\n",
    "    aggs = pd.concat([nb.frame(nb.aggregate_urns(urns[x:x+step]), 'agg') for x in range(0, len(urns), step)], axis = 1).sum(axis = 1)\n",
    "    return nb.frame_sort(nb.frame(aggs, 'agg'))"
   ]
  },
  {
   "cell_type": "code",
   "execution_count": 18,
   "metadata": {},
   "outputs": [],
   "source": [
    "urns = nb.book_urn(period = (1980, 1990), limit = 5000)"
   ]
  },
  {
   "cell_type": "code",
   "execution_count": 19,
   "metadata": {},
   "outputs": [],
   "source": [
    "a0 = agg(urns, step = 500)"
   ]
  },
  {
   "cell_type": "code",
   "execution_count": 34,
   "metadata": {},
   "outputs": [],
   "source": [
    "a = nb.frame_sort(nb.frame(a0[a0 >8], 'agg'))"
   ]
  },
  {
   "cell_type": "code",
   "execution_count": 46,
   "metadata": {},
   "outputs": [
    {
     "data": {
      "text/html": [
       "<div>\n",
       "<style scoped>\n",
       "    .dataframe tbody tr th:only-of-type {\n",
       "        vertical-align: middle;\n",
       "    }\n",
       "\n",
       "    .dataframe tbody tr th {\n",
       "        vertical-align: top;\n",
       "    }\n",
       "\n",
       "    .dataframe thead th {\n",
       "        text-align: right;\n",
       "    }\n",
       "</style>\n",
       "<table border=\"1\" class=\"dataframe\">\n",
       "  <thead>\n",
       "    <tr style=\"text-align: right;\">\n",
       "      <th></th>\n",
       "      <th>0</th>\n",
       "    </tr>\n",
       "  </thead>\n",
       "  <tbody>\n",
       "    <tr>\n",
       "      <th>tekn.ordb</th>\n",
       "      <td>1.611179e+12</td>\n",
       "    </tr>\n",
       "    <tr>\n",
       "      <th>NORBATT</th>\n",
       "      <td>1.286432e+12</td>\n",
       "    </tr>\n",
       "    <tr>\n",
       "      <th>Tj.gr</th>\n",
       "      <td>1.213317e+12</td>\n",
       "    </tr>\n",
       "    <tr>\n",
       "      <th>Idrettslige</th>\n",
       "      <td>1.196917e+12</td>\n",
       "    </tr>\n",
       "    <tr>\n",
       "      <th>Tj.gj</th>\n",
       "      <td>1.174614e+12</td>\n",
       "    </tr>\n",
       "    <tr>\n",
       "      <th>.</th>\n",
       "      <td>6.827176e+11</td>\n",
       "    </tr>\n",
       "    <tr>\n",
       "      <th>nvs</th>\n",
       "      <td>6.346880e+11</td>\n",
       "    </tr>\n",
       "    <tr>\n",
       "      <th>,</th>\n",
       "      <td>5.405213e+11</td>\n",
       "    </tr>\n",
       "    <tr>\n",
       "      <th>nsf</th>\n",
       "      <td>5.240040e+11</td>\n",
       "    </tr>\n",
       "    <tr>\n",
       "      <th>s.fm</th>\n",
       "      <td>4.806768e+11</td>\n",
       "    </tr>\n",
       "    <tr>\n",
       "      <th>i</th>\n",
       "      <td>4.570552e+11</td>\n",
       "    </tr>\n",
       "    <tr>\n",
       "      <th>og</th>\n",
       "      <td>4.459376e+11</td>\n",
       "    </tr>\n",
       "    <tr>\n",
       "      <th>Helgø</th>\n",
       "      <td>4.436325e+11</td>\n",
       "    </tr>\n",
       "    <tr>\n",
       "      <th>hfl</th>\n",
       "      <td>4.356946e+11</td>\n",
       "    </tr>\n",
       "    <tr>\n",
       "      <th>Vtl</th>\n",
       "      <td>3.998824e+11</td>\n",
       "    </tr>\n",
       "    <tr>\n",
       "      <th>3421</th>\n",
       "      <td>3.942957e+11</td>\n",
       "    </tr>\n",
       "    <tr>\n",
       "      <th>av</th>\n",
       "      <td>3.744325e+11</td>\n",
       "    </tr>\n",
       "    <tr>\n",
       "      <th>0,00</th>\n",
       "      <td>3.740778e+11</td>\n",
       "    </tr>\n",
       "    <tr>\n",
       "      <th>-</th>\n",
       "      <td>3.629632e+11</td>\n",
       "    </tr>\n",
       "    <tr>\n",
       "      <th>Ibs</th>\n",
       "      <td>3.452874e+11</td>\n",
       "    </tr>\n",
       "  </tbody>\n",
       "</table>\n",
       "</div>"
      ],
      "text/plain": [
       "                        0\n",
       "tekn.ordb    1.611179e+12\n",
       "NORBATT      1.286432e+12\n",
       "Tj.gr        1.213317e+12\n",
       "Idrettslige  1.196917e+12\n",
       "Tj.gj        1.174614e+12\n",
       ".            6.827176e+11\n",
       "nvs          6.346880e+11\n",
       ",            5.405213e+11\n",
       "nsf          5.240040e+11\n",
       "s.fm         4.806768e+11\n",
       "i            4.570552e+11\n",
       "og           4.459376e+11\n",
       "Helgø        4.436325e+11\n",
       "hfl          4.356946e+11\n",
       "Vtl          3.998824e+11\n",
       "3421         3.942957e+11\n",
       "av           3.744325e+11\n",
       "0,00         3.740778e+11\n",
       "-            3.629632e+11\n",
       "Ibs          3.452874e+11"
      ]
     },
     "execution_count": 46,
     "metadata": {},
     "output_type": "execute_result"
    }
   ],
   "source": [
    "nb.frame_sort(nb.frame(a['agg']**1.5/tot['tot'])).head(20)"
   ]
  },
  {
   "cell_type": "code",
   "execution_count": null,
   "metadata": {},
   "outputs": [],
   "source": [
    "nb.frame_sort(nb.frame(agg['agg']/tot['tot'])).head(20)"
   ]
  },
  {
   "cell_type": "code",
   "execution_count": 43,
   "metadata": {},
   "outputs": [
    {
     "data": {
      "text/plain": [
       "tot    1.909747e-07\n",
       "Name: glasnost, dtype: float64"
      ]
     },
     "execution_count": 43,
     "metadata": {},
     "output_type": "execute_result"
    }
   ],
   "source": [
    "tot.loc['glasnost']"
   ]
  }
 ],
 "metadata": {
  "kernelspec": {
   "display_name": "Python 3",
   "language": "python",
   "name": "python3"
  },
  "language_info": {
   "codemirror_mode": {
    "name": "ipython",
    "version": 3
   },
   "file_extension": ".py",
   "mimetype": "text/x-python",
   "name": "python",
   "nbconvert_exporter": "python",
   "pygments_lexer": "ipython3",
   "version": "3.6.10"
  }
 },
 "nbformat": 4,
 "nbformat_minor": 4
}

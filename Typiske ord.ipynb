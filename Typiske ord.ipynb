{
 "cells": [
  {
   "cell_type": "code",
   "execution_count": 1,
   "metadata": {},
   "outputs": [],
   "source": [
    "import dhlab.nbtext as nb\n",
    "import pandas as pd"
   ]
  },
  {
   "cell_type": "code",
   "execution_count": 21,
   "metadata": {},
   "outputs": [
    {
     "data": {
      "text/plain": [
       "[[2012102907150, '', 'Flott og farlig', 1985],\n",
       " [2014110607608, 'Bottari, Cristina', 'MammaMia', 2011],\n",
       " [2013050707008, 'Buonassisi, Vincenzo', 'Pizza godt', 1986],\n",
       " [2012022008154, 'Loren, Sophia', 'Velkommen til mitt kjøkken', 1972],\n",
       " [2016060848178, '', 'Italiensk kokebok', 1982],\n",
       " [2015052808114, 'Sereni, Clara', 'Liv og livretter', 2006],\n",
       " [2011021403027, '', 'Smak av Italia', 2008],\n",
       " [2013112808102, 'Sensi, Isabelle', 'Trattoria', 2002],\n",
       " [2016022548104, 'Thomson, Mollie', 'Paier', 2002],\n",
       " [2013061938036, '', 'Fantastico!', 2003],\n",
       " [2016022548103, 'Thomson, Mollie', 'Pastasauser', 2002],\n",
       " [2014102848188, 'Ganugi, Gabriella', 'Delikatessekjøtt', 2002],\n",
       " [2014071107076, 'Mattenberger, Matthias', 'Sicilia', 2008],\n",
       " [2016022548105, 'Thomson, Mollie', 'Kylling', 2002],\n",
       " [2016070648049, 'Ganugi, Gabriella', 'Pasta', 2002],\n",
       " [2016022548106, 'Thomson, Mollie', 'Focaccia', 2002],\n",
       " [2016022548102, 'Thomson, Mollie', 'Risotto', 2002],\n",
       " [2013061938044, '', 'Søtt og syndig', 1984],\n",
       " [2013121008101, 'Levi, Primo', 'Besøkelsestid', 1987],\n",
       " [2013012508057, 'Eco, Umberto', 'Øya fra dagen før', 2005]]"
      ]
     },
     "execution_count": 21,
     "metadata": {},
     "output_type": "execute_result"
    }
   ],
   "source": [
    "nb.best_book_urn(word='salt', trans = 'ita', period = (1700, 2030))"
   ]
  },
  {
   "cell_type": "code",
   "execution_count": 41,
   "metadata": {},
   "outputs": [
    {
     "data": {
      "text/plain": [
       "True"
      ]
     },
     "execution_count": 41,
     "metadata": {},
     "output_type": "execute_result"
    }
   ],
   "source": [
    "tot = nb.frame(nb.totals(250000), 'tot')\n",
    "nb.normalize_corpus_dataframe(tot)"
   ]
  },
  {
   "cell_type": "code",
   "execution_count": 23,
   "metadata": {},
   "outputs": [],
   "source": [
    "def agg(urns, step = 500):\n",
    "    aggs = pd.concat([nb.frame(nb.aggregate_urns(urns[x:x+step]), 'agg') for x in range(0, len(urns), step)], axis = 1).sum(axis = 1)\n",
    "    return nb.frame_sort(nb.frame(aggs, 'agg'))"
   ]
  },
  {
   "cell_type": "code",
   "execution_count": 18,
   "metadata": {},
   "outputs": [],
   "source": [
    "urns = nb.book_urn(period = (1980, 1990), limit = 5000)"
   ]
  },
  {
   "cell_type": "code",
   "execution_count": 19,
   "metadata": {},
   "outputs": [],
   "source": [
    "a0 = agg(urns, step = 500)"
   ]
  },
  {
   "cell_type": "code",
   "execution_count": 34,
   "metadata": {},
   "outputs": [],
   "source": [
    "a = nb.frame_sort(nb.frame(a0[a0 >8], 'agg'))"
   ]
  },
  {
   "cell_type": "code",
   "execution_count": 46,
   "metadata": {},
   "outputs": [
    {
     "data": {
      "text/html": [
       "<div>\n",
       "<style scoped>\n",
       "    .dataframe tbody tr th:only-of-type {\n",
       "        vertical-align: middle;\n",
       "    }\n",
       "\n",
       "    .dataframe tbody tr th {\n",
       "        vertical-align: top;\n",
       "    }\n",
       "\n",
       "    .dataframe thead th {\n",
       "        text-align: right;\n",
       "    }\n",
       "</style>\n",
       "<table border=\"1\" class=\"dataframe\">\n",
       "  <thead>\n",
       "    <tr style=\"text-align: right;\">\n",
       "      <th></th>\n",
       "      <th>0</th>\n",
       "    </tr>\n",
       "  </thead>\n",
       "  <tbody>\n",
       "    <tr>\n",
       "      <th>tekn.ordb</th>\n",
       "      <td>1.611179e+12</td>\n",
       "    </tr>\n",
       "    <tr>\n",
       "      <th>NORBATT</th>\n",
       "      <td>1.286432e+12</td>\n",
       "    </tr>\n",
       "    <tr>\n",
       "      <th>Tj.gr</th>\n",
       "      <td>1.213317e+12</td>\n",
       "    </tr>\n",
       "    <tr>\n",
       "      <th>Idrettslige</th>\n",
       "      <td>1.196917e+12</td>\n",
       "    </tr>\n",
       "    <tr>\n",
       "      <th>Tj.gj</th>\n",
       "      <td>1.174614e+12</td>\n",
       "    </tr>\n",
       "    <tr>\n",
       "      <th>.</th>\n",
       "      <td>6.827176e+11</td>\n",
       "    </tr>\n",
       "    <tr>\n",
       "      <th>nvs</th>\n",
       "      <td>6.346880e+11</td>\n",
       "    </tr>\n",
       "    <tr>\n",
       "      <th>,</th>\n",
       "      <td>5.405213e+11</td>\n",
       "    </tr>\n",
       "    <tr>\n",
       "      <th>nsf</th>\n",
       "      <td>5.240040e+11</td>\n",
       "    </tr>\n",
       "    <tr>\n",
       "      <th>s.fm</th>\n",
       "      <td>4.806768e+11</td>\n",
       "    </tr>\n",
       "    <tr>\n",
       "      <th>i</th>\n",
       "      <td>4.570552e+11</td>\n",
       "    </tr>\n",
       "    <tr>\n",
       "      <th>og</th>\n",
       "      <td>4.459376e+11</td>\n",
       "    </tr>\n",
       "    <tr>\n",
       "      <th>Helgø</th>\n",
       "      <td>4.436325e+11</td>\n",
       "    </tr>\n",
       "    <tr>\n",
       "      <th>hfl</th>\n",
       "      <td>4.356946e+11</td>\n",
       "    </tr>\n",
       "    <tr>\n",
       "      <th>Vtl</th>\n",
       "      <td>3.998824e+11</td>\n",
       "    </tr>\n",
       "    <tr>\n",
       "      <th>3421</th>\n",
       "      <td>3.942957e+11</td>\n",
       "    </tr>\n",
       "    <tr>\n",
       "      <th>av</th>\n",
       "      <td>3.744325e+11</td>\n",
       "    </tr>\n",
       "    <tr>\n",
       "      <th>0,00</th>\n",
       "      <td>3.740778e+11</td>\n",
       "    </tr>\n",
       "    <tr>\n",
       "      <th>-</th>\n",
       "      <td>3.629632e+11</td>\n",
       "    </tr>\n",
       "    <tr>\n",
       "      <th>Ibs</th>\n",
       "      <td>3.452874e+11</td>\n",
       "    </tr>\n",
       "  </tbody>\n",
       "</table>\n",
       "</div>"
      ],
      "text/plain": [
       "                        0\n",
       "tekn.ordb    1.611179e+12\n",
       "NORBATT      1.286432e+12\n",
       "Tj.gr        1.213317e+12\n",
       "Idrettslige  1.196917e+12\n",
       "Tj.gj        1.174614e+12\n",
       ".            6.827176e+11\n",
       "nvs          6.346880e+11\n",
       ",            5.405213e+11\n",
       "nsf          5.240040e+11\n",
       "s.fm         4.806768e+11\n",
       "i            4.570552e+11\n",
       "og           4.459376e+11\n",
       "Helgø        4.436325e+11\n",
       "hfl          4.356946e+11\n",
       "Vtl          3.998824e+11\n",
       "3421         3.942957e+11\n",
       "av           3.744325e+11\n",
       "0,00         3.740778e+11\n",
       "-            3.629632e+11\n",
       "Ibs          3.452874e+11"
      ]
     },
     "execution_count": 46,
     "metadata": {},
     "output_type": "execute_result"
    }
   ],
   "source": [
    "nb.frame_sort(nb.frame(a['agg']**1.5/tot['tot'])).head(20)"
   ]
  },
  {
   "cell_type": "code",
   "execution_count": null,
   "metadata": {},
   "outputs": [],
   "source": [
    "nb.frame_sort(nb.frame(agg['agg']/tot['tot'])).head(20)"
   ]
  },
  {
   "cell_type": "code",
   "execution_count": 43,
   "metadata": {},
   "outputs": [
    {
     "data": {
      "text/plain": [
       "tot    1.909747e-07\n",
       "Name: glasnost, dtype: float64"
      ]
     },
     "execution_count": 43,
     "metadata": {},
     "output_type": "execute_result"
    }
   ],
   "source": [
    "tot.loc['glasnost']"
   ]
  }
 ],
 "metadata": {
  "kernelspec": {
   "display_name": "Python 3",
   "language": "python",
   "name": "python3"
  },
  "language_info": {
   "codemirror_mode": {
    "name": "ipython",
    "version": 3
   },
   "file_extension": ".py",
   "mimetype": "text/x-python",
   "name": "python",
   "nbconvert_exporter": "python",
   "pygments_lexer": "ipython3",
   "version": "3.8.10"
  }
 },
 "nbformat": 4,
 "nbformat_minor": 4
}

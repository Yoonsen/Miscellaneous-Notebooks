{
 "cells": [
  {
   "cell_type": "code",
   "execution_count": 145,
   "metadata": {},
   "outputs": [],
   "source": [
    "import dhlab.nbtext as nb"
   ]
  },
  {
   "cell_type": "code",
   "execution_count": 53,
   "metadata": {},
   "outputs": [],
   "source": [
    "import pandas as pd"
   ]
  },
  {
   "cell_type": "code",
   "execution_count": 5,
   "metadata": {},
   "outputs": [],
   "source": [
    "from dhlab.nbtokenizer import tokenize"
   ]
  },
  {
   "cell_type": "code",
   "execution_count": 8,
   "metadata": {},
   "outputs": [],
   "source": [
    "from collections import Counter"
   ]
  },
  {
   "cell_type": "code",
   "execution_count": 29,
   "metadata": {},
   "outputs": [],
   "source": [
    "def analyse(fname):\n",
    "    with open(fname, encoding = 'utf-8') as f:\n",
    "        txt = f.read()\n",
    "\n",
    "    toks = tokenize(txt)\n",
    "    bigrams =  [' '.join(toks[i:i+2]) for i in range(len(toks))]\n",
    "    \n",
    "    return Counter(bigrams), Counter(toks) "
   ]
  },
  {
   "cell_type": "code",
   "execution_count": 40,
   "metadata": {},
   "outputs": [],
   "source": [
    "def skips(fname, words):\n",
    "    with open(fname, encoding = 'utf-8') as f:\n",
    "        txt = f.read()\n",
    "    toks = [w for w in tokenize(txt) if w in words]\n",
    "    skipgrams =  [' '.join(toks[i:i+2]) for i in range(len(toks))]\n",
    "    return Counter(skipgrams)"
   ]
  },
  {
   "cell_type": "code",
   "execution_count": 35,
   "metadata": {},
   "outputs": [],
   "source": [
    "def top(c, n = 50):\n",
    "    return list(dict(c.most_common(50)).keys())"
   ]
  },
  {
   "cell_type": "code",
   "execution_count": 247,
   "metadata": {},
   "outputs": [],
   "source": [
    "def books(author):\n",
    "    c =  nb.book_corpus(author = author, ddk = \"83%\", limit = 50, lang='nob').sort_values(by='year').drop_duplicates(subset = ['title'], keep = 'last')\n",
    "    return  pd.concat([nb.frame(nb.get_freq(x[1].urn, 0, 0), '-'.join([str(x[1].urn),x[1].title])) for x in c.iterrows()], axis = 1)"
   ]
  },
  {
   "cell_type": "code",
   "execution_count": 229,
   "metadata": {},
   "outputs": [],
   "source": [
    "check_ratio = lambda i,j, df = unigrams: (df.loc[i].sum()/df.loc[j].sum()).round(2)"
   ]
  },
  {
   "cell_type": "code",
   "execution_count": 28,
   "metadata": {},
   "outputs": [],
   "source": [
    "sb, sf = analyse('sykesøster.txt')\n",
    "hb, hv = analyse('havørn.txt')\n",
    "kb, kv = analyse('kaninanda.txt')\n",
    "gb, gv = analyse('gaupa.txt')"
   ]
  },
  {
   "cell_type": "code",
   "execution_count": 43,
   "metadata": {},
   "outputs": [],
   "source": [
    "s = set(top(sf, 100)) & set(top(hv, 100)) & set(top(kv, 100)) & set(top(gv, 100))"
   ]
  },
  {
   "cell_type": "code",
   "execution_count": 47,
   "metadata": {},
   "outputs": [],
   "source": [
    "ss = skips('sykesøster.txt', s)\n",
    "hs = skips('havørn.txt', s)\n",
    "ks = skips('kaninanda.txt', s)\n",
    "gs = skips('gaupa.txt', s)"
   ]
  },
  {
   "cell_type": "code",
   "execution_count": 61,
   "metadata": {},
   "outputs": [],
   "source": [
    "skipgrams = pd.DataFrame( {'sykesøster': ss, 'havørn':hs, 'kaninanda': ks, 'gaupa':gs})"
   ]
  },
  {
   "cell_type": "code",
   "execution_count": 66,
   "metadata": {},
   "outputs": [],
   "source": [
    "bigrams = pd.DataFrame( {'sykesøster': sb, 'havørn':hb, 'kaninanda': kb, 'gaupa':gb})"
   ]
  },
  {
   "cell_type": "code",
   "execution_count": 65,
   "metadata": {},
   "outputs": [],
   "source": [
    "unigrams = pd.DataFrame( {'sykesøster': sf, 'havørn':hv, 'kaninanda': kv, 'gaupa':gv})"
   ]
  },
  {
   "cell_type": "code",
   "execution_count": 155,
   "metadata": {},
   "outputs": [
    {
     "data": {
      "text/html": [
       "<div>\n",
       "<style scoped>\n",
       "    .dataframe tbody tr th:only-of-type {\n",
       "        vertical-align: middle;\n",
       "    }\n",
       "\n",
       "    .dataframe tbody tr th {\n",
       "        vertical-align: top;\n",
       "    }\n",
       "\n",
       "    .dataframe thead th {\n",
       "        text-align: right;\n",
       "    }\n",
       "</style>\n",
       "<table border=\"1\" class=\"dataframe\">\n",
       "  <thead>\n",
       "    <tr style=\"text-align: right;\">\n",
       "      <th></th>\n",
       "      <th>sykesøster</th>\n",
       "      <th>havørn</th>\n",
       "      <th>kaninanda</th>\n",
       "      <th>gaupa</th>\n",
       "      <th>pedersen</th>\n",
       "    </tr>\n",
       "  </thead>\n",
       "  <tbody>\n",
       "    <tr>\n",
       "      <th>han</th>\n",
       "      <td>14.0</td>\n",
       "      <td>78.0</td>\n",
       "      <td>115.0</td>\n",
       "      <td>8.0</td>\n",
       "      <td>738.0</td>\n",
       "    </tr>\n",
       "    <tr>\n",
       "      <th>hun</th>\n",
       "      <td>NaN</td>\n",
       "      <td>59.0</td>\n",
       "      <td>30.0</td>\n",
       "      <td>49.0</td>\n",
       "      <td>691.0</td>\n",
       "    </tr>\n",
       "    <tr>\n",
       "      <th>ho</th>\n",
       "      <td>63.0</td>\n",
       "      <td>NaN</td>\n",
       "      <td>NaN</td>\n",
       "      <td>NaN</td>\n",
       "      <td>NaN</td>\n",
       "    </tr>\n",
       "    <tr>\n",
       "      <th>jeg</th>\n",
       "      <td>NaN</td>\n",
       "      <td>14.0</td>\n",
       "      <td>2.0</td>\n",
       "      <td>121.0</td>\n",
       "      <td>1824.0</td>\n",
       "    </tr>\n",
       "    <tr>\n",
       "      <th>eg</th>\n",
       "      <td>128.0</td>\n",
       "      <td>NaN</td>\n",
       "      <td>NaN</td>\n",
       "      <td>NaN</td>\n",
       "      <td>NaN</td>\n",
       "    </tr>\n",
       "  </tbody>\n",
       "</table>\n",
       "</div>"
      ],
      "text/plain": [
       "     sykesøster  havørn  kaninanda  gaupa  pedersen\n",
       "han        14.0    78.0      115.0    8.0     738.0\n",
       "hun         NaN    59.0       30.0   49.0     691.0\n",
       "ho         63.0     NaN        NaN    NaN       NaN\n",
       "jeg         NaN    14.0        2.0  121.0    1824.0\n",
       "eg        128.0     NaN        NaN    NaN       NaN"
      ]
     },
     "execution_count": 155,
     "metadata": {},
     "output_type": "execute_result"
    }
   ],
   "source": [
    "unigrams.loc[\"han hun ho jeg eg\".split()]"
   ]
  },
  {
   "cell_type": "code",
   "execution_count": 200,
   "metadata": {},
   "outputs": [
    {
     "data": {
      "text/plain": [
       "sykesøster    2.66\n",
       "havørn        1.51\n",
       "kaninanda     4.03\n",
       "gaupa         3.63\n",
       "pedersen      3.58\n",
       "uri           2.00\n",
       "dtype: float64"
      ]
     },
     "execution_count": 200,
     "metadata": {},
     "output_type": "execute_result"
    }
   ],
   "source": [
    "(unigrams.loc['eg jeg Eg Jeg han Han'.split()].sum()/unigrams.loc['hun Hun ho Ho'.split()].sum()).round(2)"
   ]
  },
  {
   "cell_type": "code",
   "execution_count": 201,
   "metadata": {},
   "outputs": [
    {
     "data": {
      "text/plain": [
       "sykesøster    0.23\n",
       "havørn        1.17\n",
       "kaninanda     3.97\n",
       "gaupa         0.21\n",
       "pedersen      1.00\n",
       "uri           1.73\n",
       "dtype: float64"
      ]
     },
     "execution_count": 201,
     "metadata": {},
     "output_type": "execute_result"
    }
   ],
   "source": [
    "(unigrams.loc['han Han'.split()].sum()/unigrams.loc['hun Hun ho Ho'.split()].sum()).round(2)"
   ]
  },
  {
   "cell_type": "code",
   "execution_count": null,
   "metadata": {},
   "outputs": [],
   "source": []
  },
  {
   "cell_type": "code",
   "execution_count": 230,
   "metadata": {},
   "outputs": [
    {
     "data": {
      "text/plain": [
       "sykesøster     6.10\n",
       "havørn        24.20\n",
       "kaninanda     21.00\n",
       "gaupa          9.73\n",
       "pedersen       6.21\n",
       "uri            9.40\n",
       "dtype: float64"
      ]
     },
     "execution_count": 230,
     "metadata": {},
     "output_type": "execute_result"
    }
   ],
   "source": [
    "check_ratio('det den Det Den'.split(),  'denne dette Denne Dette'.split())"
   ]
  },
  {
   "cell_type": "code",
   "execution_count": 279,
   "metadata": {},
   "outputs": [
    {
     "data": {
      "text/plain": [
       "sykesøster     3.00\n",
       "havørn         7.50\n",
       "kaninanda     10.00\n",
       "gaupa          3.67\n",
       "pedersen       3.65\n",
       "uri            7.58\n",
       "dtype: float64"
      ]
     },
     "execution_count": 279,
     "metadata": {},
     "output_type": "execute_result"
    }
   ],
   "source": [
    "check_ratio('den'.split(),  'denne'.split())"
   ]
  },
  {
   "cell_type": "code",
   "execution_count": 198,
   "metadata": {},
   "outputs": [
    {
     "data": {
      "text/plain": [
       "sykesøster    1.02\n",
       "havørn        0.63\n",
       "kaninanda     0.51\n",
       "gaupa         1.61\n",
       "pedersen      0.44\n",
       "uri           0.66\n",
       "dtype: float64"
      ]
     },
     "execution_count": 198,
     "metadata": {},
     "output_type": "execute_result"
    }
   ],
   "source": [
    "check_ratio('.'.split(),  ','.split())"
   ]
  },
  {
   "cell_type": "code",
   "execution_count": 231,
   "metadata": {},
   "outputs": [
    {
     "data": {
      "text/plain": [
       "sykesøster     3.00\n",
       "havørn         7.50\n",
       "kaninanda     10.00\n",
       "gaupa          3.67\n",
       "pedersen       3.65\n",
       "uri            7.58\n",
       "dtype: float64"
      ]
     },
     "execution_count": 231,
     "metadata": {},
     "output_type": "execute_result"
    }
   ],
   "source": [
    "check_ratio('den'.split(),  'denne'.split())"
   ]
  },
  {
   "cell_type": "code",
   "execution_count": 232,
   "metadata": {},
   "outputs": [
    {
     "data": {
      "text/plain": [
       "sykesøster    0.36\n",
       "havørn        1.00\n",
       "kaninanda     0.60\n",
       "gaupa         0.29\n",
       "pedersen      0.48\n",
       "uri           0.62\n",
       "dtype: float64"
      ]
     },
     "execution_count": 232,
     "metadata": {},
     "output_type": "execute_result"
    }
   ],
   "source": [
    "check_ratio('vel kanskje'.split(), 'sånn sikkert jo'.split())"
   ]
  },
  {
   "cell_type": "code",
   "execution_count": 233,
   "metadata": {},
   "outputs": [
    {
     "data": {
      "text/plain": [
       "sykesøster    0.99\n",
       "havørn        1.59\n",
       "kaninanda     1.97\n",
       "gaupa         0.62\n",
       "pedersen      2.26\n",
       "uri           1.51\n",
       "dtype: float64"
      ]
     },
     "execution_count": 233,
     "metadata": {},
     "output_type": "execute_result"
    }
   ],
   "source": [
    "(unigrams.loc[',']/unigrams.loc['.']).round(2)"
   ]
  },
  {
   "cell_type": "code",
   "execution_count": null,
   "metadata": {},
   "outputs": [],
   "source": []
  },
  {
   "cell_type": "code",
   "execution_count": 92,
   "metadata": {},
   "outputs": [
    {
     "data": {
      "text/html": [
       "<div>\n",
       "<style scoped>\n",
       "    .dataframe tbody tr th:only-of-type {\n",
       "        vertical-align: middle;\n",
       "    }\n",
       "\n",
       "    .dataframe tbody tr th {\n",
       "        vertical-align: top;\n",
       "    }\n",
       "\n",
       "    .dataframe thead th {\n",
       "        text-align: right;\n",
       "    }\n",
       "</style>\n",
       "<table border=\"1\" class=\"dataframe\">\n",
       "  <thead>\n",
       "    <tr style=\"text-align: right;\">\n",
       "      <th></th>\n",
       "      <th>sykesøster</th>\n",
       "      <th>havørn</th>\n",
       "      <th>kaninanda</th>\n",
       "      <th>gaupa</th>\n",
       "    </tr>\n",
       "  </thead>\n",
       "  <tbody>\n",
       "    <tr>\n",
       "      <th>, og</th>\n",
       "      <td>45.0</td>\n",
       "      <td>64.0</td>\n",
       "      <td>38.0</td>\n",
       "      <td>23.0</td>\n",
       "    </tr>\n",
       "    <tr>\n",
       "      <th>, ,</th>\n",
       "      <td>68.0</td>\n",
       "      <td>111.0</td>\n",
       "      <td>24.0</td>\n",
       "      <td>34.0</td>\n",
       "    </tr>\n",
       "    <tr>\n",
       "      <th>det var</th>\n",
       "      <td>7.0</td>\n",
       "      <td>11.0</td>\n",
       "      <td>23.0</td>\n",
       "      <td>12.0</td>\n",
       "    </tr>\n",
       "    <tr>\n",
       "      <th>i .</th>\n",
       "      <td>48.0</td>\n",
       "      <td>23.0</td>\n",
       "      <td>19.0</td>\n",
       "      <td>35.0</td>\n",
       "    </tr>\n",
       "    <tr>\n",
       "      <th>, for</th>\n",
       "      <td>8.0</td>\n",
       "      <td>1.0</td>\n",
       "      <td>19.0</td>\n",
       "      <td>6.0</td>\n",
       "    </tr>\n",
       "    <tr>\n",
       "      <th>for ,</th>\n",
       "      <td>10.0</td>\n",
       "      <td>1.0</td>\n",
       "      <td>17.0</td>\n",
       "      <td>6.0</td>\n",
       "    </tr>\n",
       "    <tr>\n",
       "      <th>var ,</th>\n",
       "      <td>8.0</td>\n",
       "      <td>13.0</td>\n",
       "      <td>16.0</td>\n",
       "      <td>5.0</td>\n",
       "    </tr>\n",
       "    <tr>\n",
       "      <th>, det</th>\n",
       "      <td>32.0</td>\n",
       "      <td>29.0</td>\n",
       "      <td>15.0</td>\n",
       "      <td>14.0</td>\n",
       "    </tr>\n",
       "    <tr>\n",
       "      <th>. ,</th>\n",
       "      <td>64.0</td>\n",
       "      <td>86.0</td>\n",
       "      <td>14.0</td>\n",
       "      <td>32.0</td>\n",
       "    </tr>\n",
       "    <tr>\n",
       "      <th>og det</th>\n",
       "      <td>3.0</td>\n",
       "      <td>6.0</td>\n",
       "      <td>14.0</td>\n",
       "      <td>8.0</td>\n",
       "    </tr>\n",
       "    <tr>\n",
       "      <th>. var</th>\n",
       "      <td>10.0</td>\n",
       "      <td>8.0</td>\n",
       "      <td>13.0</td>\n",
       "      <td>19.0</td>\n",
       "    </tr>\n",
       "    <tr>\n",
       "      <th>det ,</th>\n",
       "      <td>17.0</td>\n",
       "      <td>18.0</td>\n",
       "      <td>12.0</td>\n",
       "      <td>12.0</td>\n",
       "    </tr>\n",
       "    <tr>\n",
       "      <th>i ,</th>\n",
       "      <td>30.0</td>\n",
       "      <td>38.0</td>\n",
       "      <td>12.0</td>\n",
       "      <td>19.0</td>\n",
       "    </tr>\n",
       "    <tr>\n",
       "      <th>. hadde</th>\n",
       "      <td>11.0</td>\n",
       "      <td>9.0</td>\n",
       "      <td>12.0</td>\n",
       "      <td>11.0</td>\n",
       "    </tr>\n",
       "    <tr>\n",
       "      <th>på ,</th>\n",
       "      <td>17.0</td>\n",
       "      <td>41.0</td>\n",
       "      <td>11.0</td>\n",
       "      <td>13.0</td>\n",
       "    </tr>\n",
       "    <tr>\n",
       "      <th>var det</th>\n",
       "      <td>9.0</td>\n",
       "      <td>5.0</td>\n",
       "      <td>11.0</td>\n",
       "      <td>7.0</td>\n",
       "    </tr>\n",
       "    <tr>\n",
       "      <th>, i</th>\n",
       "      <td>20.0</td>\n",
       "      <td>17.0</td>\n",
       "      <td>11.0</td>\n",
       "      <td>7.0</td>\n",
       "    </tr>\n",
       "    <tr>\n",
       "      <th>om ,</th>\n",
       "      <td>9.0</td>\n",
       "      <td>7.0</td>\n",
       "      <td>10.0</td>\n",
       "      <td>3.0</td>\n",
       "    </tr>\n",
       "    <tr>\n",
       "      <th>og ,</th>\n",
       "      <td>19.0</td>\n",
       "      <td>29.0</td>\n",
       "      <td>10.0</td>\n",
       "      <td>13.0</td>\n",
       "    </tr>\n",
       "    <tr>\n",
       "      <th>, den</th>\n",
       "      <td>5.0</td>\n",
       "      <td>6.0</td>\n",
       "      <td>10.0</td>\n",
       "      <td>NaN</td>\n",
       "    </tr>\n",
       "  </tbody>\n",
       "</table>\n",
       "</div>"
      ],
      "text/plain": [
       "         sykesøster  havørn  kaninanda  gaupa\n",
       ", og           45.0    64.0       38.0   23.0\n",
       ", ,            68.0   111.0       24.0   34.0\n",
       "det var         7.0    11.0       23.0   12.0\n",
       "i .            48.0    23.0       19.0   35.0\n",
       ", for           8.0     1.0       19.0    6.0\n",
       "for ,          10.0     1.0       17.0    6.0\n",
       "var ,           8.0    13.0       16.0    5.0\n",
       ", det          32.0    29.0       15.0   14.0\n",
       ". ,            64.0    86.0       14.0   32.0\n",
       "og det          3.0     6.0       14.0    8.0\n",
       ". var          10.0     8.0       13.0   19.0\n",
       "det ,          17.0    18.0       12.0   12.0\n",
       "i ,            30.0    38.0       12.0   19.0\n",
       ". hadde        11.0     9.0       12.0   11.0\n",
       "på ,           17.0    41.0       11.0   13.0\n",
       "var det         9.0     5.0       11.0    7.0\n",
       ", i            20.0    17.0       11.0    7.0\n",
       "om ,            9.0     7.0       10.0    3.0\n",
       "og ,           19.0    29.0       10.0   13.0\n",
       ", den           5.0     6.0       10.0    NaN"
      ]
     },
     "execution_count": 92,
     "metadata": {},
     "output_type": "execute_result"
    }
   ],
   "source": [
    "skipgrams.sort_values(by='kaninanda', ascending=False).head(20)\n"
   ]
  },
  {
   "cell_type": "code",
   "execution_count": 93,
   "metadata": {},
   "outputs": [
    {
     "data": {
      "text/html": [
       "<div>\n",
       "<style scoped>\n",
       "    .dataframe tbody tr th:only-of-type {\n",
       "        vertical-align: middle;\n",
       "    }\n",
       "\n",
       "    .dataframe tbody tr th {\n",
       "        vertical-align: top;\n",
       "    }\n",
       "\n",
       "    .dataframe thead th {\n",
       "        text-align: right;\n",
       "    }\n",
       "</style>\n",
       "<table border=\"1\" class=\"dataframe\">\n",
       "  <thead>\n",
       "    <tr style=\"text-align: right;\">\n",
       "      <th></th>\n",
       "      <th>sykesøster</th>\n",
       "      <th>havørn</th>\n",
       "      <th>kaninanda</th>\n",
       "      <th>gaupa</th>\n",
       "    </tr>\n",
       "  </thead>\n",
       "  <tbody>\n",
       "    <tr>\n",
       "      <th>, men</th>\n",
       "      <td>8.0</td>\n",
       "      <td>21.0</td>\n",
       "      <td>34.0</td>\n",
       "      <td>10.0</td>\n",
       "    </tr>\n",
       "    <tr>\n",
       "      <th>, og</th>\n",
       "      <td>27.0</td>\n",
       "      <td>34.0</td>\n",
       "      <td>26.0</td>\n",
       "      <td>17.0</td>\n",
       "    </tr>\n",
       "    <tr>\n",
       "      <th>det var</th>\n",
       "      <td>7.0</td>\n",
       "      <td>9.0</td>\n",
       "      <td>20.0</td>\n",
       "      <td>10.0</td>\n",
       "    </tr>\n",
       "    <tr>\n",
       "      <th>, for</th>\n",
       "      <td>4.0</td>\n",
       "      <td>NaN</td>\n",
       "      <td>16.0</td>\n",
       "      <td>3.0</td>\n",
       "    </tr>\n",
       "    <tr>\n",
       "      <th>at han</th>\n",
       "      <td>NaN</td>\n",
       "      <td>3.0</td>\n",
       "      <td>12.0</td>\n",
       "      <td>NaN</td>\n",
       "    </tr>\n",
       "    <tr>\n",
       "      <th>. Han</th>\n",
       "      <td>5.0</td>\n",
       "      <td>7.0</td>\n",
       "      <td>12.0</td>\n",
       "      <td>4.0</td>\n",
       "    </tr>\n",
       "    <tr>\n",
       "      <th>han ikke</th>\n",
       "      <td>NaN</td>\n",
       "      <td>NaN</td>\n",
       "      <td>11.0</td>\n",
       "      <td>NaN</td>\n",
       "    </tr>\n",
       "    <tr>\n",
       "      <th>var det</th>\n",
       "      <td>9.0</td>\n",
       "      <td>5.0</td>\n",
       "      <td>9.0</td>\n",
       "      <td>6.0</td>\n",
       "    </tr>\n",
       "    <tr>\n",
       "      <th>at det</th>\n",
       "      <td>5.0</td>\n",
       "      <td>2.0</td>\n",
       "      <td>9.0</td>\n",
       "      <td>7.0</td>\n",
       "    </tr>\n",
       "    <tr>\n",
       "      <th>og det</th>\n",
       "      <td>1.0</td>\n",
       "      <td>2.0</td>\n",
       "      <td>8.0</td>\n",
       "      <td>5.0</td>\n",
       "    </tr>\n",
       "    <tr>\n",
       "      <th>. Så</th>\n",
       "      <td>11.0</td>\n",
       "      <td>4.0</td>\n",
       "      <td>8.0</td>\n",
       "      <td>3.0</td>\n",
       "    </tr>\n",
       "    <tr>\n",
       "      <th>. Det</th>\n",
       "      <td>37.0</td>\n",
       "      <td>11.0</td>\n",
       "      <td>8.0</td>\n",
       "      <td>24.0</td>\n",
       "    </tr>\n",
       "    <tr>\n",
       "      <th>til å</th>\n",
       "      <td>5.0</td>\n",
       "      <td>3.0</td>\n",
       "      <td>7.0</td>\n",
       "      <td>7.0</td>\n",
       "    </tr>\n",
       "    <tr>\n",
       "      <th>. Men</th>\n",
       "      <td>6.0</td>\n",
       "      <td>2.0</td>\n",
       "      <td>7.0</td>\n",
       "      <td>8.0</td>\n",
       "    </tr>\n",
       "    <tr>\n",
       "      <th>, det</th>\n",
       "      <td>18.0</td>\n",
       "      <td>15.0</td>\n",
       "      <td>7.0</td>\n",
       "      <td>8.0</td>\n",
       "    </tr>\n",
       "    <tr>\n",
       "      <th>han var</th>\n",
       "      <td>1.0</td>\n",
       "      <td>3.0</td>\n",
       "      <td>7.0</td>\n",
       "      <td>1.0</td>\n",
       "    </tr>\n",
       "    <tr>\n",
       "      <th>, sa</th>\n",
       "      <td>13.0</td>\n",
       "      <td>67.0</td>\n",
       "      <td>7.0</td>\n",
       "      <td>16.0</td>\n",
       "    </tr>\n",
       "    <tr>\n",
       "      <th>. Jørgen</th>\n",
       "      <td>NaN</td>\n",
       "      <td>NaN</td>\n",
       "      <td>6.0</td>\n",
       "      <td>NaN</td>\n",
       "    </tr>\n",
       "    <tr>\n",
       "      <th>for å</th>\n",
       "      <td>3.0</td>\n",
       "      <td>8.0</td>\n",
       "      <td>6.0</td>\n",
       "      <td>7.0</td>\n",
       "    </tr>\n",
       "    <tr>\n",
       "      <th>for seg</th>\n",
       "      <td>NaN</td>\n",
       "      <td>2.0</td>\n",
       "      <td>6.0</td>\n",
       "      <td>NaN</td>\n",
       "    </tr>\n",
       "  </tbody>\n",
       "</table>\n",
       "</div>"
      ],
      "text/plain": [
       "          sykesøster  havørn  kaninanda  gaupa\n",
       ", men            8.0    21.0       34.0   10.0\n",
       ", og            27.0    34.0       26.0   17.0\n",
       "det var          7.0     9.0       20.0   10.0\n",
       ", for            4.0     NaN       16.0    3.0\n",
       "at han           NaN     3.0       12.0    NaN\n",
       ". Han            5.0     7.0       12.0    4.0\n",
       "han ikke         NaN     NaN       11.0    NaN\n",
       "var det          9.0     5.0        9.0    6.0\n",
       "at det           5.0     2.0        9.0    7.0\n",
       "og det           1.0     2.0        8.0    5.0\n",
       ". Så            11.0     4.0        8.0    3.0\n",
       ". Det           37.0    11.0        8.0   24.0\n",
       "til å            5.0     3.0        7.0    7.0\n",
       ". Men            6.0     2.0        7.0    8.0\n",
       ", det           18.0    15.0        7.0    8.0\n",
       "han var          1.0     3.0        7.0    1.0\n",
       ", sa            13.0    67.0        7.0   16.0\n",
       ". Jørgen         NaN     NaN        6.0    NaN\n",
       "for å            3.0     8.0        6.0    7.0\n",
       "for seg          NaN     2.0        6.0    NaN"
      ]
     },
     "execution_count": 93,
     "metadata": {},
     "output_type": "execute_result"
    }
   ],
   "source": [
    "bigrams.sort_values(by='kaninanda', ascending=False).head(20)\n"
   ]
  },
  {
   "cell_type": "code",
   "execution_count": 81,
   "metadata": {},
   "outputs": [
    {
     "data": {
      "text/html": [
       "<div>\n",
       "<style scoped>\n",
       "    .dataframe tbody tr th:only-of-type {\n",
       "        vertical-align: middle;\n",
       "    }\n",
       "\n",
       "    .dataframe tbody tr th {\n",
       "        vertical-align: top;\n",
       "    }\n",
       "\n",
       "    .dataframe thead th {\n",
       "        text-align: right;\n",
       "    }\n",
       "</style>\n",
       "<table border=\"1\" class=\"dataframe\">\n",
       "  <thead>\n",
       "    <tr style=\"text-align: right;\">\n",
       "      <th></th>\n",
       "      <th>sykesøster</th>\n",
       "      <th>havørn</th>\n",
       "      <th>kaninanda</th>\n",
       "      <th>gaupa</th>\n",
       "    </tr>\n",
       "  </thead>\n",
       "  <tbody>\n",
       "    <tr>\n",
       "      <th>.</th>\n",
       "      <td>336.0</td>\n",
       "      <td>289.0</td>\n",
       "      <td>99.0</td>\n",
       "      <td>312.0</td>\n",
       "    </tr>\n",
       "    <tr>\n",
       "      <th>,</th>\n",
       "      <td>331.0</td>\n",
       "      <td>459.0</td>\n",
       "      <td>195.0</td>\n",
       "      <td>194.0</td>\n",
       "    </tr>\n",
       "    <tr>\n",
       "      <th>jeg</th>\n",
       "      <td>NaN</td>\n",
       "      <td>14.0</td>\n",
       "      <td>2.0</td>\n",
       "      <td>121.0</td>\n",
       "    </tr>\n",
       "    <tr>\n",
       "      <th>Jeg</th>\n",
       "      <td>NaN</td>\n",
       "      <td>14.0</td>\n",
       "      <td>NaN</td>\n",
       "      <td>112.0</td>\n",
       "    </tr>\n",
       "    <tr>\n",
       "      <th>i</th>\n",
       "      <td>115.0</td>\n",
       "      <td>78.0</td>\n",
       "      <td>67.0</td>\n",
       "      <td>91.0</td>\n",
       "    </tr>\n",
       "    <tr>\n",
       "      <th>og</th>\n",
       "      <td>130.0</td>\n",
       "      <td>136.0</td>\n",
       "      <td>99.0</td>\n",
       "      <td>87.0</td>\n",
       "    </tr>\n",
       "    <tr>\n",
       "      <th>det</th>\n",
       "      <td>111.0</td>\n",
       "      <td>75.0</td>\n",
       "      <td>78.0</td>\n",
       "      <td>85.0</td>\n",
       "    </tr>\n",
       "    <tr>\n",
       "      <th>en</th>\n",
       "      <td>NaN</td>\n",
       "      <td>32.0</td>\n",
       "      <td>51.0</td>\n",
       "      <td>79.0</td>\n",
       "    </tr>\n",
       "    <tr>\n",
       "      <th>meg</th>\n",
       "      <td>52.0</td>\n",
       "      <td>4.0</td>\n",
       "      <td>NaN</td>\n",
       "      <td>76.0</td>\n",
       "    </tr>\n",
       "    <tr>\n",
       "      <th>på</th>\n",
       "      <td>71.0</td>\n",
       "      <td>105.0</td>\n",
       "      <td>48.0</td>\n",
       "      <td>63.0</td>\n",
       "    </tr>\n",
       "  </tbody>\n",
       "</table>\n",
       "</div>"
      ],
      "text/plain": [
       "     sykesøster  havørn  kaninanda  gaupa\n",
       ".         336.0   289.0       99.0  312.0\n",
       ",         331.0   459.0      195.0  194.0\n",
       "jeg         NaN    14.0        2.0  121.0\n",
       "Jeg         NaN    14.0        NaN  112.0\n",
       "i         115.0    78.0       67.0   91.0\n",
       "og        130.0   136.0       99.0   87.0\n",
       "det       111.0    75.0       78.0   85.0\n",
       "en          NaN    32.0       51.0   79.0\n",
       "meg        52.0     4.0        NaN   76.0\n",
       "på         71.0   105.0       48.0   63.0"
      ]
     },
     "execution_count": 81,
     "metadata": {},
     "output_type": "execute_result"
    }
   ],
   "source": [
    "unigrams.sort_values(by='gaupa', ascending=False).head(10)"
   ]
  },
  {
   "cell_type": "code",
   "execution_count": 243,
   "metadata": {},
   "outputs": [],
   "source": [
    "solstad = nb.book_corpus(author = 'Solsta%dag%', ddk = \"83%\", limit = 50, lang = 'nob').sort_values(by='year').drop_duplicates(subset = ['title'], keep = 'last')"
   ]
  },
  {
   "cell_type": "code",
   "execution_count": 244,
   "metadata": {},
   "outputs": [],
   "source": [
    "uri = nb.book_corpus(author = 'uri%hele%', ddk = \"83%\", limit = 50, lang='nob').sort_values(by='year').drop_duplicates(subset = ['title'], keep = 'last')"
   ]
  },
  {
   "cell_type": "code",
   "execution_count": 246,
   "metadata": {},
   "outputs": [],
   "source": [
    "jacobsen = books('jacobsen%roy%')"
   ]
  },
  {
   "cell_type": "code",
   "execution_count": 151,
   "metadata": {},
   "outputs": [],
   "source": [
    "pedersen = nb.frame(nb.get_freq(2009021004009, top = 0, cutoff = 0), 'freq')"
   ]
  },
  {
   "cell_type": "code",
   "execution_count": 195,
   "metadata": {},
   "outputs": [],
   "source": [
    "uri = nb.frame(nb.get_freq(2011101408121, top = 0, cutoff = 0), 'freq')"
   ]
  },
  {
   "cell_type": "code",
   "execution_count": 154,
   "metadata": {},
   "outputs": [],
   "source": [
    "unigrams['pedersen'] = pedersen.freq"
   ]
  },
  {
   "cell_type": "code",
   "execution_count": 196,
   "metadata": {},
   "outputs": [],
   "source": [
    "unigrams['uri'] = uri.freq"
   ]
  },
  {
   "cell_type": "code",
   "execution_count": 168,
   "metadata": {},
   "outputs": [
    {
     "data": {
      "text/plain": [
       "sykesøster    0.60\n",
       "havørn        0.58\n",
       "kaninanda     0.93\n",
       "gaupa         0.94\n",
       "pedersen      0.34\n",
       "dtype: float64"
      ]
     },
     "execution_count": 168,
     "metadata": {},
     "output_type": "execute_result"
    }
   ],
   "source": [
    "(unigrams[unigrams.index.str.contains('ing')].sum()/unigrams.sum()).round(4)*100"
   ]
  },
  {
   "cell_type": "code",
   "execution_count": 180,
   "metadata": {},
   "outputs": [
    {
     "data": {
      "text/plain": [
       "sykesøster    inf\n",
       "havørn        inf\n",
       "kaninanda     inf\n",
       "gaupa         inf\n",
       "pedersen      inf\n",
       "dtype: float64"
      ]
     },
     "execution_count": 180,
     "metadata": {},
     "output_type": "execute_result"
    }
   ],
   "source": [
    "(unigrams[unigrams.index.str.contains('.*ingen$')].sum()/unigrams[unigrams.index.str.contains('.*ingane$')].sum()).round(4)"
   ]
  },
  {
   "cell_type": "code",
   "execution_count": 183,
   "metadata": {},
   "outputs": [
    {
     "data": {
      "text/plain": [
       "<matplotlib.axes._subplots.AxesSubplot at 0x237b435b2e8>"
      ]
     },
     "execution_count": 183,
     "metadata": {},
     "output_type": "execute_result"
    },
    {
     "data": {
      "image/png": "[encoded data removed]",
      "text/plain": [
       "<Figure size 432x288 with 1 Axes>"
      ]
     },
     "metadata": {
      "needs_background": "light"
     },
     "output_type": "display_data"
    }
   ],
   "source": [
    "nb.plot_book_wordbags(2009021004009, [['.'],[',']]).plot()"
   ]
  },
  {
   "cell_type": "code",
   "execution_count": 186,
   "metadata": {},
   "outputs": [
    {
     "data": {
      "text/plain": [
       "<matplotlib.axes._subplots.AxesSubplot at 0x237b5b61e80>"
      ]
     },
     "execution_count": 186,
     "metadata": {},
     "output_type": "execute_result"
    },
    {
     "data": {
      "image/png": "[encoded data removed]",
      "text/plain": [
       "<Figure size 432x288 with 1 Axes>"
      ]
     },
     "metadata": {
      "needs_background": "light"
     },
     "output_type": "display_data"
    }
   ],
   "source": [
    "nb.plot_book_wordbags(2011030822002, [['.'],[',']]).plot()"
   ]
  },
  {
   "cell_type": "code",
   "execution_count": 188,
   "metadata": {},
   "outputs": [
    {
     "data": {
      "text/plain": [
       "<matplotlib.axes._subplots.AxesSubplot at 0x237b5dfcba8>"
      ]
     },
     "execution_count": 188,
     "metadata": {},
     "output_type": "execute_result"
    },
    {
     "data": {
      "image/png": "[encoded data removed]",
      "text/plain": [
       "<Figure size 432x288 with 1 Axes>"
      ]
     },
     "metadata": {
      "needs_background": "light"
     },
     "output_type": "display_data"
    }
   ],
   "source": [
    "nb.plot_book_wordbags(2011051920009, [['.'],[',']]).plot()"
   ]
  },
  {
   "cell_type": "code",
   "execution_count": 185,
   "metadata": {},
   "outputs": [
    {
     "data": {
      "text/plain": [
       "<matplotlib.axes._subplots.AxesSubplot at 0x237b5c38470>"
      ]
     },
     "execution_count": 185,
     "metadata": {},
     "output_type": "execute_result"
    },
    {
     "data": {
      "image/png": "[encoded data removed]",
      "text/plain": [
       "<Figure size 432x288 with 1 Axes>"
      ]
     },
     "metadata": {
      "needs_background": "light"
     },
     "output_type": "display_data"
    }
   ],
   "source": [
    "nb.plot_book_wordbags(2011041205014, [['.'],[',']]).plot()"
   ]
  },
  {
   "cell_type": "code",
   "execution_count": 189,
   "metadata": {},
   "outputs": [
    {
     "data": {
      "text/plain": [
       "<matplotlib.axes._subplots.AxesSubplot at 0x237b5baba90>"
      ]
     },
     "execution_count": 189,
     "metadata": {},
     "output_type": "execute_result"
    },
    {
     "data": {
      "image/png": "[encoded data removed]",
      "text/plain": [
       "<Figure size 432x288 with 1 Axes>"
      ]
     },
     "metadata": {
      "needs_background": "light"
     },
     "output_type": "display_data"
    }
   ],
   "source": [
    "nb.plot_book_wordbags(2011050920008, [['.'],[',']]).plot()"
   ]
  },
  {
   "cell_type": "code",
   "execution_count": 192,
   "metadata": {},
   "outputs": [
    {
     "data": {
      "text/plain": [
       "<matplotlib.axes._subplots.AxesSubplot at 0x237b60c90b8>"
      ]
     },
     "execution_count": 192,
     "metadata": {},
     "output_type": "execute_result"
    },
    {
     "data": {
      "image/png": "[encoded data removed]",
      "text/plain": [
       "<Figure size 432x288 with 1 Axes>"
      ]
     },
     "metadata": {
      "needs_background": "light"
     },
     "output_type": "display_data"
    }
   ],
   "source": [
    "nb.plot_book_wordbags(2012121408044, [['.'],[',']]).plot()"
   ]
  },
  {
   "cell_type": "code",
   "execution_count": 193,
   "metadata": {},
   "outputs": [
    {
     "data": {
      "text/plain": [
       "<matplotlib.axes._subplots.AxesSubplot at 0x237b5a4e8d0>"
      ]
     },
     "execution_count": 193,
     "metadata": {},
     "output_type": "execute_result"
    },
    {
     "data": {
      "image/png": "[encoded data removed]",
      "text/plain": [
       "<Figure size 432x288 with 1 Axes>"
      ]
     },
     "metadata": {
      "needs_background": "light"
     },
     "output_type": "display_data"
    }
   ],
   "source": [
    "nb.plot_book_wordbags(2008071704056, [['.'],[',']]).plot()"
   ]
  },
  {
   "cell_type": "code",
   "execution_count": 194,
   "metadata": {},
   "outputs": [
    {
     "data": {
      "text/plain": [
       "<matplotlib.axes._subplots.AxesSubplot at 0x237b59e9f28>"
      ]
     },
     "execution_count": 194,
     "metadata": {},
     "output_type": "execute_result"
    },
    {
     "data": {
      "image/png": "[encoded data removed]",
      "text/plain": [
       "<Figure size 432x288 with 1 Axes>"
      ]
     },
     "metadata": {
      "needs_background": "light"
     },
     "output_type": "display_data"
    }
   ],
   "source": [
    "nb.plot_book_wordbags(2011101408121, [['.'],[',']]).plot()"
   ]
  },
  {
   "cell_type": "code",
   "execution_count": 222,
   "metadata": {},
   "outputs": [
    {
     "data": {
      "text/html": [
       "<div>\n",
       "<style scoped>\n",
       "    .dataframe tbody tr th:only-of-type {\n",
       "        vertical-align: middle;\n",
       "    }\n",
       "\n",
       "    .dataframe tbody tr th {\n",
       "        vertical-align: top;\n",
       "    }\n",
       "\n",
       "    .dataframe thead th {\n",
       "        text-align: right;\n",
       "    }\n",
       "</style>\n",
       "<table border=\"1\" class=\"dataframe\">\n",
       "  <thead>\n",
       "    <tr style=\"text-align: right;\">\n",
       "      <th></th>\n",
       "      <th>urn</th>\n",
       "      <th>author</th>\n",
       "      <th>title</th>\n",
       "      <th>year</th>\n",
       "    </tr>\n",
       "  </thead>\n",
       "  <tbody>\n",
       "    <tr>\n",
       "      <th>16</th>\n",
       "      <td>2009060900033</td>\n",
       "      <td>Uri, Helene</td>\n",
       "      <td>Dråpen som fikk alt til å skje</td>\n",
       "      <td>2003</td>\n",
       "    </tr>\n",
       "    <tr>\n",
       "      <th>5</th>\n",
       "      <td>2011071208188</td>\n",
       "      <td>Uri, Helene</td>\n",
       "      <td>Anna på fredag</td>\n",
       "      <td>2007</td>\n",
       "    </tr>\n",
       "    <tr>\n",
       "      <th>14</th>\n",
       "      <td>2013021207062</td>\n",
       "      <td>Uri, Helene</td>\n",
       "      <td>Mamma morgenheks</td>\n",
       "      <td>2008</td>\n",
       "    </tr>\n",
       "    <tr>\n",
       "      <th>9</th>\n",
       "      <td>2014072808125</td>\n",
       "      <td>Uri, Helene</td>\n",
       "      <td>De beste blant oss</td>\n",
       "      <td>2010</td>\n",
       "    </tr>\n",
       "    <tr>\n",
       "      <th>8</th>\n",
       "      <td>2014070305039</td>\n",
       "      <td>Uri, Helene</td>\n",
       "      <td>Honningtunger</td>\n",
       "      <td>2010</td>\n",
       "    </tr>\n",
       "    <tr>\n",
       "      <th>6</th>\n",
       "      <td>2012112808039</td>\n",
       "      <td>Uri, Helene</td>\n",
       "      <td>rettferdige</td>\n",
       "      <td>2010</td>\n",
       "    </tr>\n",
       "    <tr>\n",
       "      <th>1</th>\n",
       "      <td>2012121408044</td>\n",
       "      <td>Uri, Helene</td>\n",
       "      <td>Dyp rød 315</td>\n",
       "      <td>2010</td>\n",
       "    </tr>\n",
       "    <tr>\n",
       "      <th>12</th>\n",
       "      <td>2014070105102</td>\n",
       "      <td>Uri, Helene</td>\n",
       "      <td>Engel av nylon</td>\n",
       "      <td>2010</td>\n",
       "    </tr>\n",
       "    <tr>\n",
       "      <th>18</th>\n",
       "      <td>2014061706080</td>\n",
       "      <td>Uri, Helene</td>\n",
       "      <td>Kjerringer</td>\n",
       "      <td>2011</td>\n",
       "    </tr>\n",
       "  </tbody>\n",
       "</table>\n",
       "</div>"
      ],
      "text/plain": [
       "              urn       author                           title  year\n",
       "16  2009060900033  Uri, Helene  Dråpen som fikk alt til å skje  2003\n",
       "5   2011071208188  Uri, Helene                  Anna på fredag  2007\n",
       "14  2013021207062  Uri, Helene                Mamma morgenheks  2008\n",
       "9   2014072808125  Uri, Helene              De beste blant oss  2010\n",
       "8   2014070305039  Uri, Helene                   Honningtunger  2010\n",
       "6   2012112808039  Uri, Helene                     rettferdige  2010\n",
       "1   2012121408044  Uri, Helene                     Dyp rød 315  2010\n",
       "12  2014070105102  Uri, Helene                  Engel av nylon  2010\n",
       "18  2014061706080  Uri, Helene                      Kjerringer  2011"
      ]
     },
     "execution_count": 222,
     "metadata": {},
     "output_type": "execute_result"
    }
   ],
   "source": [
    "uri"
   ]
  },
  {
   "cell_type": "code",
   "execution_count": 257,
   "metadata": {},
   "outputs": [],
   "source": [
    "uri_corpus = books('uri%hele%')"
   ]
  },
  {
   "cell_type": "code",
   "execution_count": 258,
   "metadata": {},
   "outputs": [],
   "source": [
    "solstad_corpus = books('solstad%dag%')"
   ]
  },
  {
   "cell_type": "code",
   "execution_count": 248,
   "metadata": {},
   "outputs": [],
   "source": [
    "jacobsen_corpus = books('jacobsen%roy%')"
   ]
  },
  {
   "cell_type": "code",
   "execution_count": 267,
   "metadata": {},
   "outputs": [],
   "source": [
    "ragde_corpus = books('ragde%anne%')"
   ]
  },
  {
   "cell_type": "code",
   "execution_count": 268,
   "metadata": {},
   "outputs": [],
   "source": [
    "hiort_corpus = books('hjort%vigdis%')"
   ]
  },
  {
   "cell_type": "code",
   "execution_count": 276,
   "metadata": {},
   "outputs": [],
   "source": [
    "fosnes_corpus = books('%hansen%erik%')"
   ]
  },
  {
   "cell_type": "code",
   "execution_count": 280,
   "metadata": {},
   "outputs": [
    {
     "data": {
      "text/plain": [
       "2009060900033-Dråpen som fikk alt til å skje    16.33\n",
       "2011071208188-Anna på fredag                    15.71\n",
       "2013021207062-Mamma morgenheks                   8.80\n",
       "2012112808039-rettferdige                        8.33\n",
       "2012121408044-Dyp rød 315                       12.67\n",
       "2014070105102-Engel av nylon                    12.67\n",
       "2014072808125-De beste blant oss                 7.58\n",
       "2014070305039-Honningtunger                     14.92\n",
       "2014061706080-Kjerringer                         9.76\n",
       "dtype: float64"
      ]
     },
     "execution_count": 280,
     "metadata": {},
     "output_type": "execute_result"
    }
   ],
   "source": [
    "check_ratio(['den'], ['denne'], uri_corpus)"
   ]
  },
  {
   "cell_type": "code",
   "execution_count": 269,
   "metadata": {},
   "outputs": [
    {
     "data": {
      "text/plain": [
       "count    32.0000\n",
       "mean         inf\n",
       "std          NaN\n",
       "min       5.8900\n",
       "25%       8.6850\n",
       "50%      13.5450\n",
       "75%      17.5525\n",
       "max          inf\n",
       "dtype: float64"
      ]
     },
     "execution_count": 269,
     "metadata": {},
     "output_type": "execute_result"
    }
   ],
   "source": [
    "check_ratio(['den'], ['denne'], ragde_corpus).describe()"
   ]
  },
  {
   "cell_type": "code",
   "execution_count": 278,
   "metadata": {},
   "outputs": [
    {
     "data": {
      "text/plain": [
       "2011032406075-Brevduen                      51.38\n",
       "2008071404093-Salme ved reisens slutt        5.79\n",
       "2012121006001-Løvekvinnen                    6.32\n",
       "2013032106148-Beretninger om beskyttelse     7.84\n",
       "2013071806137-Falketårnet                    7.40\n",
       "dtype: float64"
      ]
     },
     "execution_count": 278,
     "metadata": {},
     "output_type": "execute_result"
    }
   ],
   "source": [
    "check_ratio(['den'], ['denne'], fosnes_corpus)"
   ]
  },
  {
   "cell_type": "code",
   "execution_count": 272,
   "metadata": {},
   "outputs": [
    {
     "data": {
      "text/plain": [
       "2014070705108-Pelle-Ragnar i den gule gården        16.40\n",
       "2013040807034-Råtne Rikard                            inf\n",
       "2012062806027-Drama med Hilde                        5.79\n",
       "2008060904065-Gjennom skogen                        29.20\n",
       "2009051404036-dikt til mormor                       78.67\n",
       "2008062600015-Fransk åpning                         20.78\n",
       "2008012404034-Tungekysset ; og Drømmen              45.00\n",
       "2013111908004-På hjørnet om kvelden                 25.00\n",
       "2008021304083-Ubehaget i kulturen                    6.22\n",
       "2008072204021-Død sheriff                           20.36\n",
       "2009042004056-Hysj                                  29.00\n",
       "2008090204060-første gangen                          5.83\n",
       "2011032508155-17.15 til Tønsberg                     8.24\n",
       "2012071206008-Mor betaler!                           4.75\n",
       "2011100408202-Fordeler og ulemper ved å være til    15.62\n",
       "2014012906003-Hjulskift                              7.83\n",
       "2014051306007-Tredje person entall                  16.29\n",
       "2013040906028-Takk, ganske bra                      10.50\n",
       "2012102206092-Med hånden på hjertet                 17.26\n",
       "2014061206108-Hva er det med mor                    21.33\n",
       "2013112706033-Om bare                               11.18\n",
       "2014081506013-Snakk til meg                         17.05\n",
       "2015021106095-Tredve dager i Sandefjord             24.04\n",
       "2013092606078-Jørgen + Anne er sant                 31.57\n",
       "dtype: float64"
      ]
     },
     "execution_count": 272,
     "metadata": {},
     "output_type": "execute_result"
    }
   ],
   "source": [
    "check_ratio(['den'], ['denne'], hiort_corpus)"
   ]
  },
  {
   "cell_type": "code",
   "execution_count": 273,
   "metadata": {},
   "outputs": [
    {
     "data": {
      "text/plain": [
       "2007082100039-hemmelig kjempeidé                                       17.71\n",
       "2007091701093-Noen kommer noen går                                      5.89\n",
       "2016020807594-Kristin og Håkon og villsporet i vinterskogen              inf\n",
       "2008012201012-Hundegalskap!                                             6.06\n",
       "2008022100013-Valpefabrikken                                            7.44\n",
       "2008080800075-Ansiktet som solen                                       13.07\n",
       "2008071600096-På kloss hold                                            11.06\n",
       "2008082500063-Jeg vinket ikke, jeg druknet                              7.12\n",
       "2013032006010-Svanhild Olsens elegante musefangeri                     17.50\n",
       "2013121008186-Laksen og løgnhalsen                                      7.00\n",
       "2011090606045-Harehjerte                                               15.00\n",
       "2011081708066-\"Dumme mamma!\"                                             inf\n",
       "2014062505056-Ikke gi meg mat!                                         24.50\n",
       "2012061306082-Lille Petter Edderkopp                                    7.77\n",
       "2011053108087-Biografien om Sigrid Undset                               8.58\n",
       "2012070205106-Hallo! - Her er Jo!                                      25.00\n",
       "2014040408072-Strupetaket                                              16.71\n",
       "2013101606049-Pappa er et surrehue! ; Ikke gi meg mat!                 22.60\n",
       "2011053108064-Blodsporet                                               11.42\n",
       "2011060608109-Berlinerpoplene                                          10.23\n",
       "2011090108082-Bunnforhold                                              14.55\n",
       "2011071108103-Dr. Zellwegers gave                                      16.62\n",
       "2011100408046-Fosterstilling                                            8.72\n",
       "2015072908212-Voff!                                                    42.75\n",
       "2013080908086-Jeg vinket ikke, jeg druknet ; Lille Petter edderkopp     7.40\n",
       "2014031008011-tiger for en engel                                       21.88\n",
       "2013012306144-kald dag i helvete                                       14.33\n",
       "2011090208062-Eremittkrepsene                                           9.64\n",
       "2013120906036-Nattønsket                                                8.76\n",
       "2014112106027-Pappa er et surrehue!                                    17.00\n",
       "2013071208182-Jeg skal gjøre deg så lykkelig                           12.85\n",
       "2013073008069-Arsenikktårnet                                           14.02\n",
       "dtype: float64"
      ]
     },
     "execution_count": 273,
     "metadata": {},
     "output_type": "execute_result"
    }
   ],
   "source": [
    "check_ratio(['den'], ['denne'], ragde_corpus)"
   ]
  },
  {
   "cell_type": "code",
   "execution_count": 281,
   "metadata": {},
   "outputs": [
    {
     "data": {
      "text/plain": [
       "2011020923006-Spiraler                                                                                       11.00\n",
       "2011020923001-Arild Asnes, 1970                                                                               5.56\n",
       "2008052904049-Tilbake til Pelle Erobreren?                                                                    6.18\n",
       "2008052600052-Krig 1940                                                                                       5.16\n",
       "2011030820006-Spiraler ; Svingstol                                                                           12.70\n",
       "2007112704079-\"Ellevte roman, bok atten\"                                                                      3.53\n",
       "2008070804084-Irr! Grønt!                                                                                     9.43\n",
       "2011051020003-Arild Asnes 1970                                                                                5.56\n",
       "2011040706077-Medaljens forside                                                                               3.53\n",
       "2011041205014-Brød og våpen                                                                                   7.05\n",
       "2011050920011-Svingstol og andre tekster                                                                     24.33\n",
       "2008110400055-T. Singer                                                                                       3.83\n",
       "2009060204049-16-07-41                                                                                        3.80\n",
       "2011052313001-Professor Andersens natt                                                                        4.36\n",
       "2011051920008-Ellevte roman, bok atten                                                                        3.51\n",
       "2015050648108-Svik                                                                                            5.88\n",
       "2011051920009-Gymnaslærer Pedersens beretning om den store politiske vekkelsen som har hjemsøkt vårt land     3.65\n",
       "2011051920011-Forsøk på å beskrive det ugjennomtrengelige                                                     4.16\n",
       "2011031820003-25. september-plassen                                                                           7.19\n",
       "2011051820004-Genanse og verdighet                                                                            3.19\n",
       "2011050920004-Armand V                                                                                        4.12\n",
       "2011050920005-17. roman                                                                                       5.05\n",
       "2013071708016-Roman 1987                                                                                      4.24\n",
       "dtype: float64"
      ]
     },
     "execution_count": 281,
     "metadata": {},
     "output_type": "execute_result"
    }
   ],
   "source": [
    "check_ratio(['den'], ['denne'], solstad_corpus)"
   ]
  },
  {
   "cell_type": "code",
   "execution_count": 282,
   "metadata": {},
   "outputs": [
    {
     "data": {
      "text/plain": [
       "2007082104052-Det kan komme noen     9.72\n",
       "2010110908095-Tommy                 13.39\n",
       "2007081004045-Fangeliv              11.20\n",
       "2010110808153-Ursula                15.36\n",
       "2010121406046-Virgo                  9.50\n",
       "2013121008220-Fata morgana           3.99\n",
       "2009012200019-Fugler og soldater     5.36\n",
       "2014052108045-Det nye vinduet        8.10\n",
       "2014090908205-Hoggerne               5.88\n",
       "2012041108073-Vidunderbarn           8.21\n",
       "2014101408132-Seierherrene           6.97\n",
       "2013041506009-Ismael                 4.30\n",
       "2013032005000-Frost                  6.01\n",
       "2015052608113-Marions slør           4.86\n",
       "2014060208018-Det nye vannet         9.56\n",
       "2014021908158-Grenser                6.21\n",
       "2014061205105-høyre armen            5.85\n",
       "2013102505034-Anger                  7.62\n",
       "2012120408027-Hjertetrøbbel          7.21\n",
       "dtype: float64"
      ]
     },
     "execution_count": 282,
     "metadata": {},
     "output_type": "execute_result"
    }
   ],
   "source": [
    "check_ratio(['den'], ['denne'], jacobsen_corpus)"
   ]
  },
  {
   "cell_type": "code",
   "execution_count": null,
   "metadata": {},
   "outputs": [],
   "source": []
  },
  {
   "cell_type": "code",
   "execution_count": null,
   "metadata": {},
   "outputs": [],
   "source": []
  }
 ],
 "metadata": {
  "kernelspec": {
   "display_name": "Python 3",
   "language": "python",
   "name": "python3"
  },
  "language_info": {
   "codemirror_mode": {
    "name": "ipython",
    "version": 3
   },
   "file_extension": ".py",
   "mimetype": "text/x-python",
   "name": "python",
   "nbconvert_exporter": "python",
   "pygments_lexer": "ipython3",
   "version": "3.8.10"
  }
 },
 "nbformat": 4,
 "nbformat_minor": 4
}

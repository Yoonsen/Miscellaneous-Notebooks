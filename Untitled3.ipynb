{
 "cells": [
  {
   "cell_type": "code",
   "execution_count": 39,
   "metadata": {},
   "outputs": [],
   "source": [
    "import sqlite3\n",
    "import pandas as pd\n",
    "%matplotlib inline"
   ]
  },
  {
   "cell_type": "code",
   "execution_count": 20,
   "metadata": {},
   "outputs": [],
   "source": [
    "def query(db, sql, p=(), dataframe = True):\n",
    "    with sqlite3.connect(db) as con:\n",
    "        cur = con.cursor()\n",
    "        r = cur.execute(sql, p).fetchall()\n",
    "        if dataframe == True:\n",
    "            r = pd.DataFrame(r)\n",
    "    return r"
   ]
  },
  {
   "cell_type": "code",
   "execution_count": 21,
   "metadata": {},
   "outputs": [],
   "source": [
    "db = \"../../Documents/dev/unigram-one-row.db\""
   ]
  },
  {
   "cell_type": "code",
   "execution_count": 24,
   "metadata": {},
   "outputs": [
    {
     "data": {
      "text/html": [
       "<div>\n",
       "<style scoped>\n",
       "    .dataframe tbody tr th:only-of-type {\n",
       "        vertical-align: middle;\n",
       "    }\n",
       "\n",
       "    .dataframe tbody tr th {\n",
       "        vertical-align: top;\n",
       "    }\n",
       "\n",
       "    .dataframe thead th {\n",
       "        text-align: right;\n",
       "    }\n",
       "</style>\n",
       "<table border=\"1\" class=\"dataframe\">\n",
       "  <thead>\n",
       "    <tr style=\"text-align: right;\">\n",
       "      <th></th>\n",
       "      <th>0</th>\n",
       "      <th>1</th>\n",
       "      <th>2</th>\n",
       "      <th>3</th>\n",
       "      <th>4</th>\n",
       "    </tr>\n",
       "  </thead>\n",
       "  <tbody>\n",
       "    <tr>\n",
       "      <th>0</th>\n",
       "      <td>table</td>\n",
       "      <td>unigram</td>\n",
       "      <td>unigram</td>\n",
       "      <td>2</td>\n",
       "      <td>CREATE TABLE unigram (freq int, lang varchar, ...</td>\n",
       "    </tr>\n",
       "    <tr>\n",
       "      <th>1</th>\n",
       "      <td>index</td>\n",
       "      <td>_lff_</td>\n",
       "      <td>unigram</td>\n",
       "      <td>1393414</td>\n",
       "      <td>CREATE INDEX _lff_ on unigram(lang,first,freq)</td>\n",
       "    </tr>\n",
       "    <tr>\n",
       "      <th>2</th>\n",
       "      <td>index</td>\n",
       "      <td>_lf_</td>\n",
       "      <td>unigram</td>\n",
       "      <td>1511081</td>\n",
       "      <td>CREATE INDEX _lf_ on unigram(lang,freq)</td>\n",
       "    </tr>\n",
       "    <tr>\n",
       "      <th>3</th>\n",
       "      <td>table</td>\n",
       "      <td>sqlite_stat1</td>\n",
       "      <td>sqlite_stat1</td>\n",
       "      <td>1576805</td>\n",
       "      <td>CREATE TABLE sqlite_stat1(tbl,idx,stat)</td>\n",
       "    </tr>\n",
       "    <tr>\n",
       "      <th>4</th>\n",
       "      <td>index</td>\n",
       "      <td>_ff_</td>\n",
       "      <td>unigram</td>\n",
       "      <td>1576806</td>\n",
       "      <td>CREATE INDEX _ff_ on unigram(first,freq)</td>\n",
       "    </tr>\n",
       "    <tr>\n",
       "      <th>5</th>\n",
       "      <td>index</td>\n",
       "      <td>_f_</td>\n",
       "      <td>unigram</td>\n",
       "      <td>1675757</td>\n",
       "      <td>CREATE INDEX _f_ on unigram(freq)</td>\n",
       "    </tr>\n",
       "  </tbody>\n",
       "</table>\n",
       "</div>"
      ],
      "text/plain": [
       "       0             1             2        3  \\\n",
       "0  table       unigram       unigram        2   \n",
       "1  index         _lff_       unigram  1393414   \n",
       "2  index          _lf_       unigram  1511081   \n",
       "3  table  sqlite_stat1  sqlite_stat1  1576805   \n",
       "4  index          _ff_       unigram  1576806   \n",
       "5  index           _f_       unigram  1675757   \n",
       "\n",
       "                                                   4  \n",
       "0  CREATE TABLE unigram (freq int, lang varchar, ...  \n",
       "1     CREATE INDEX _lff_ on unigram(lang,first,freq)  \n",
       "2            CREATE INDEX _lf_ on unigram(lang,freq)  \n",
       "3            CREATE TABLE sqlite_stat1(tbl,idx,stat)  \n",
       "4           CREATE INDEX _ff_ on unigram(first,freq)  \n",
       "5                  CREATE INDEX _f_ on unigram(freq)  "
      ]
     },
     "execution_count": 24,
     "metadata": {},
     "output_type": "execute_result"
    }
   ],
   "source": [
    "query(db, \"select * from sqlite_master\")"
   ]
  },
  {
   "cell_type": "code",
   "execution_count": 28,
   "metadata": {},
   "outputs": [],
   "source": [
    "spise = query(db, \"select first, freq from unigram where first like 'spise%'\")"
   ]
  },
  {
   "cell_type": "code",
   "execution_count": 33,
   "metadata": {},
   "outputs": [],
   "source": [
    "spise['length'] = [len(x) for x in spise[0]]"
   ]
  },
  {
   "cell_type": "code",
   "execution_count": 55,
   "metadata": {},
   "outputs": [
    {
     "data": {
      "text/plain": [
       "<matplotlib.axes._subplots.AxesSubplot at 0x270b0a38630>"
      ]
     },
     "execution_count": 55,
     "metadata": {},
     "output_type": "execute_result"
    },
    {
     "data": {
      "image/png": "[encoded data removed]",
      "text/plain": [
       "<Figure size 432x288 with 1 Axes>"
      ]
     },
     "metadata": {
      "needs_background": "light"
     },
     "output_type": "display_data"
    }
   ],
   "source": [
    "pd.Series(spise.sort_values(by=1, ascending=False)[1].values)[:20].plot()"
   ]
  },
  {
   "cell_type": "code",
   "execution_count": 58,
   "metadata": {},
   "outputs": [],
   "source": [
    "words = spise[0].values"
   ]
  },
  {
   "cell_type": "code",
   "execution_count": 60,
   "metadata": {},
   "outputs": [],
   "source": [
    "from collections import Counter"
   ]
  },
  {
   "cell_type": "code",
   "execution_count": 63,
   "metadata": {},
   "outputs": [],
   "source": [
    "c = Counter([x[-4:] for x in words])"
   ]
  },
  {
   "cell_type": "code",
   "execution_count": 64,
   "metadata": {},
   "outputs": [
    {
     "data": {
      "text/plain": [
       "[('ngen', 9),\n",
       " ('dene', 7),\n",
       " ('else', 7),\n",
       " ('rdet', 6),\n",
       " ('sene', 6),\n",
       " ('ning', 6),\n",
       " ('lser', 6),\n",
       " ('eret', 6),\n",
       " ('ster', 6),\n",
       " ('lene', 6),\n",
       " ('tene', 5),\n",
       " ('sten', 5),\n",
       " ('eter', 5),\n",
       " ('mene', 5),\n",
       " ('kken', 5),\n",
       " ('pise', 4),\n",
       " ('tikk', 4),\n",
       " ('bord', 4),\n",
       " ('enes', 4),\n",
       " ('iser', 4)]"
      ]
     },
     "execution_count": 64,
     "metadata": {},
     "output_type": "execute_result"
    }
   ],
   "source": [
    "c.most_common(20)"
   ]
  },
  {
   "cell_type": "code",
   "execution_count": null,
   "metadata": {},
   "outputs": [],
   "source": []
  }
 ],
 "metadata": {
  "kernelspec": {
   "display_name": "Python 3",
   "language": "python",
   "name": "python3"
  },
  "language_info": {
   "codemirror_mode": {
    "name": "ipython",
    "version": 3
   },
   "file_extension": ".py",
   "mimetype": "text/x-python",
   "name": "python",
   "nbconvert_exporter": "python",
   "pygments_lexer": "ipython3",
   "version": "3.7.3"
  }
 },
 "nbformat": 4,
 "nbformat_minor": 2
}

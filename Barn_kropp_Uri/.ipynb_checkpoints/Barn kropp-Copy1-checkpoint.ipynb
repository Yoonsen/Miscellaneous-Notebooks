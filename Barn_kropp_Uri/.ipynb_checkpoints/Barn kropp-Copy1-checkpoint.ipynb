{
 "cells": [
  {
   "cell_type": "markdown",
   "metadata": {},
   "source": [
    "# Barn og kropp"
   ]
  },
  {
   "cell_type": "markdown",
   "metadata": {},
   "source": [
    "Barn og kropp, forskjeller. \n",
    "* hvilke kroppsdeler voksen vs. barn\n",
    "* bruk av pronomen, possessiver"
   ]
  },
  {
   "cell_type": "code",
   "execution_count": 10,
   "metadata": {},
   "outputs": [
    {
     "data": {
      "text/markdown": [
       "Updated file `D:\\Documents\\GitHub\\Miscellaneous-Notebooks\\Barn_kropp_Uri\\mods_meta.py`"
      ],
      "text/plain": [
       "<IPython.core.display.Markdown object>"
      ]
     },
     "metadata": {},
     "output_type": "display_data"
    },
    {
     "data": {
      "text/markdown": [
       "Updated file `D:\\Documents\\GitHub\\Miscellaneous-Notebooks\\Barn_kropp_Uri\\collocations.py`"
      ],
      "text/plain": [
       "<IPython.core.display.Markdown object>"
      ]
     },
     "metadata": {},
     "output_type": "display_data"
    }
   ],
   "source": [
    "import dhlab.nbtext as nb\n",
    "import dhlab.module_update as mu\n",
    "mu.update('mods_meta')\n",
    "import mods_meta as mm\n",
    "mu.update('collocations')\n",
    "import collocations as coll\n",
    "import pandas as pd"
   ]
  },
  {
   "cell_type": "code",
   "execution_count": 4,
   "metadata": {},
   "outputs": [],
   "source": [
    "corpus = mm.meta_natbib(children=True, yearfrom=2010, yearto=2020, limit=10000)"
   ]
  },
  {
   "cell_type": "code",
   "execution_count": 5,
   "metadata": {},
   "outputs": [
    {
     "data": {
      "text/plain": [
       "6595"
      ]
     },
     "execution_count": 5,
     "metadata": {},
     "output_type": "execute_result"
    }
   ],
   "source": [
    "len(corpus)"
   ]
  },
  {
   "cell_type": "code",
   "execution_count": 7,
   "metadata": {},
   "outputs": [],
   "source": [
    "corpus_urns = [u[1] for u in corpus]"
   ]
  },
  {
   "cell_type": "code",
   "execution_count": null,
   "metadata": {},
   "outputs": [],
   "source": [
    "corpus_meta = pd.concat([mm.metadata(corpus_urns[i:i+500]) for i in range(0, len(corpus_urns), 500)])"
   ]
  },
  {
   "cell_type": "code",
   "execution_count": null,
   "metadata": {},
   "outputs": [],
   "source": [
    "corpus_meta"
   ]
  },
  {
   "cell_type": "code",
   "execution_count": null,
   "metadata": {},
   "outputs": [],
   "source": [
    "nb.urn_concordance(word='Janna', urns=list(corpus.urns), size=20, after=12, before=12)"
   ]
  },
  {
   "cell_type": "code",
   "execution_count": 46,
   "metadata": {},
   "outputs": [],
   "source": [
    "collh = nb.urn_coll('håret', urns=list(corpus.urn), after = 3, before= 0)"
   ]
  },
  {
   "cell_type": "code",
   "execution_count": 47,
   "metadata": {},
   "outputs": [
    {
     "data": {
      "text/plain": [
       "True"
      ]
     },
     "execution_count": 47,
     "metadata": {},
     "output_type": "execute_result"
    }
   ],
   "source": [
    "nb.normalize_corpus_dataframe(collh)"
   ]
  },
  {
   "cell_type": "code",
   "execution_count": 33,
   "metadata": {},
   "outputs": [
    {
     "data": {
      "text/plain": [
       "True"
      ]
     },
     "execution_count": 33,
     "metadata": {},
     "output_type": "execute_result"
    }
   ],
   "source": [
    "tot = nb.frame(nb.totals(50000), 'tot')\n",
    "nb.normalize_corpus_dataframe(tot)"
   ]
  },
  {
   "cell_type": "code",
   "execution_count": 53,
   "metadata": {},
   "outputs": [],
   "source": [
    "diff = nb.frame(collh[0]**0.3*collh[0]/tot.tot)"
   ]
  },
  {
   "cell_type": "code",
   "execution_count": 54,
   "metadata": {},
   "outputs": [
    {
     "data": {
      "text/html": [
       "<div>\n",
       "<style scoped>\n",
       "    .dataframe tbody tr th:only-of-type {\n",
       "        vertical-align: middle;\n",
       "    }\n",
       "\n",
       "    .dataframe tbody tr th {\n",
       "        vertical-align: top;\n",
       "    }\n",
       "\n",
       "    .dataframe thead th {\n",
       "        text-align: right;\n",
       "    }\n",
       "</style>\n",
       "<table border=\"1\" class=\"dataframe\">\n",
       "  <thead>\n",
       "    <tr style=\"text-align: right;\">\n",
       "      <th></th>\n",
       "      <th>0</th>\n",
       "    </tr>\n",
       "  </thead>\n",
       "  <tbody>\n",
       "    <tr>\n",
       "      <td>bustete</td>\n",
       "      <td>88.405625</td>\n",
       "    </tr>\n",
       "    <tr>\n",
       "      <td>utslått</td>\n",
       "      <td>65.353655</td>\n",
       "    </tr>\n",
       "    <tr>\n",
       "      <td>klistret</td>\n",
       "      <td>43.398688</td>\n",
       "    </tr>\n",
       "    <tr>\n",
       "      <td>stritt</td>\n",
       "      <td>43.084309</td>\n",
       "    </tr>\n",
       "    <tr>\n",
       "      <td>flagret</td>\n",
       "      <td>32.887909</td>\n",
       "    </tr>\n",
       "    <tr>\n",
       "      <td>strittet</td>\n",
       "      <td>25.935549</td>\n",
       "    </tr>\n",
       "    <tr>\n",
       "      <td>hennes</td>\n",
       "      <td>23.940496</td>\n",
       "    </tr>\n",
       "    <tr>\n",
       "      <td>vått</td>\n",
       "      <td>23.652689</td>\n",
       "    </tr>\n",
       "    <tr>\n",
       "      <td>krøller</td>\n",
       "      <td>23.323448</td>\n",
       "    </tr>\n",
       "    <tr>\n",
       "      <td>mitt</td>\n",
       "      <td>23.000485</td>\n",
       "    </tr>\n",
       "    <tr>\n",
       "      <td>oppsatt</td>\n",
       "      <td>18.954282</td>\n",
       "    </tr>\n",
       "    <tr>\n",
       "      <td>klippet</td>\n",
       "      <td>18.703766</td>\n",
       "    </tr>\n",
       "    <tr>\n",
       "      <td>børstet</td>\n",
       "      <td>18.157761</td>\n",
       "    </tr>\n",
       "    <tr>\n",
       "      <td>bakover</td>\n",
       "      <td>18.021068</td>\n",
       "    </tr>\n",
       "    <tr>\n",
       "      <td>ditt</td>\n",
       "      <td>15.452751</td>\n",
       "    </tr>\n",
       "    <tr>\n",
       "      <td>pannen</td>\n",
       "      <td>15.194576</td>\n",
       "    </tr>\n",
       "    <tr>\n",
       "      <td>nappe</td>\n",
       "      <td>12.978044</td>\n",
       "    </tr>\n",
       "    <tr>\n",
       "      <td>fletter</td>\n",
       "      <td>12.928210</td>\n",
       "    </tr>\n",
       "    <tr>\n",
       "      <td>Mira</td>\n",
       "      <td>12.386534</td>\n",
       "    </tr>\n",
       "    <tr>\n",
       "      <td>hang</td>\n",
       "      <td>11.741544</td>\n",
       "    </tr>\n",
       "    <tr>\n",
       "      <td>værs</td>\n",
       "      <td>11.740981</td>\n",
       "    </tr>\n",
       "    <tr>\n",
       "      <td>Faith</td>\n",
       "      <td>11.612123</td>\n",
       "    </tr>\n",
       "    <tr>\n",
       "      <td>grått</td>\n",
       "      <td>11.277289</td>\n",
       "    </tr>\n",
       "    <tr>\n",
       "      <td>svidd</td>\n",
       "      <td>10.403643</td>\n",
       "    </tr>\n",
       "    <tr>\n",
       "      <td>flagrende</td>\n",
       "      <td>10.302514</td>\n",
       "    </tr>\n",
       "    <tr>\n",
       "      <td>Jenna</td>\n",
       "      <td>10.210070</td>\n",
       "    </tr>\n",
       "    <tr>\n",
       "      <td>skjegget</td>\n",
       "      <td>10.054239</td>\n",
       "    </tr>\n",
       "    <tr>\n",
       "      <td>krøllet</td>\n",
       "      <td>9.852688</td>\n",
       "    </tr>\n",
       "    <tr>\n",
       "      <td>stramt</td>\n",
       "      <td>9.842138</td>\n",
       "    </tr>\n",
       "    <tr>\n",
       "      <td>hennar</td>\n",
       "      <td>9.511091</td>\n",
       "    </tr>\n",
       "  </tbody>\n",
       "</table>\n",
       "</div>"
      ],
      "text/plain": [
       "                   0\n",
       "bustete    88.405625\n",
       "utslått    65.353655\n",
       "klistret   43.398688\n",
       "stritt     43.084309\n",
       "flagret    32.887909\n",
       "strittet   25.935549\n",
       "hennes     23.940496\n",
       "vått       23.652689\n",
       "krøller    23.323448\n",
       "mitt       23.000485\n",
       "oppsatt    18.954282\n",
       "klippet    18.703766\n",
       "børstet    18.157761\n",
       "bakover    18.021068\n",
       "ditt       15.452751\n",
       "pannen     15.194576\n",
       "nappe      12.978044\n",
       "fletter    12.928210\n",
       "Mira       12.386534\n",
       "hang       11.741544\n",
       "værs       11.740981\n",
       "Faith      11.612123\n",
       "grått      11.277289\n",
       "svidd      10.403643\n",
       "flagrende  10.302514\n",
       "Jenna      10.210070\n",
       "skjegget   10.054239\n",
       "krøllet     9.852688\n",
       "stramt      9.842138\n",
       "hennar      9.511091"
      ]
     },
     "execution_count": 54,
     "metadata": {},
     "output_type": "execute_result"
    }
   ],
   "source": [
    "diff.sort_values(by=0, ascending=False)[:30]"
   ]
  },
  {
   "cell_type": "code",
   "execution_count": null,
   "metadata": {},
   "outputs": [],
   "source": []
  }
 ],
 "metadata": {
  "kernelspec": {
   "display_name": "Python 3",
   "language": "python",
   "name": "python3"
  },
  "language_info": {
   "codemirror_mode": {
    "name": "ipython",
    "version": 3
   },
   "file_extension": ".py",
   "mimetype": "text/x-python",
   "name": "python",
   "nbconvert_exporter": "python",
   "pygments_lexer": "ipython3",
   "version": "3.7.3"
  }
 },
 "nbformat": 4,
 "nbformat_minor": 2
}

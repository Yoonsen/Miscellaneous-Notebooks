{
 "cells": [
  {
   "cell_type": "markdown",
   "metadata": {},
   "source": [
    "# Nye aviser"
   ]
  },
  {
   "cell_type": "code",
   "execution_count": 84,
   "metadata": {},
   "outputs": [],
   "source": [
    "import dhlab.nbtext as nb\n",
    "import dhlab.graph_networkx_louvain as gnl\n",
    "import dhlab.nbtokenizer as tok\n",
    "from dhlab.module_update import css, update, code_toggle"
   ]
  },
  {
   "cell_type": "code",
   "execution_count": 85,
   "metadata": {},
   "outputs": [],
   "source": [
    "import requests\n",
    "import pandas as pd\n",
    "import matplotlib.pyplot as plt\n",
    "import networkx as nx\n",
    "import seaborn as sns\n",
    "%matplotlib inline"
   ]
  },
  {
   "cell_type": "code",
   "execution_count": 86,
   "metadata": {},
   "outputs": [],
   "source": [
    "def get_df(frases, title='aftenposten', media='aviser'):\n",
    "    import requests\n",
    "    querystring = \" + \".join(['\"'+frase+'\"' for frase in frases])\n",
    "    query = {\n",
    "        'q':querystring,\n",
    "        'size':1,\n",
    "        'aggs':'year',\n",
    "        'filter':['mediatype:{mt}'.format(mt=media),'title:{title}'.format(title=title)]\n",
    "    }\n",
    "    r = requests.get(\"https://api.nb.no/catalog/v1/items\", params = query)\n",
    "    aggs = r.json()['_embedded']['aggregations'][0]['buckets']\n",
    "    return {x['key']:x['count'] for x in aggs}\n",
    "\n",
    "def get_json(frases, mediatype='aviser', title='*'):\n",
    "    import requests\n",
    "    querystring = \" + \".join(['\"'+frase+'\"' for frase in frases])\n",
    "    query = {\n",
    "        'q':querystring,\n",
    "        'size':1,\n",
    "        'snippets':mediatype,\n",
    "        'aggs':'year',\n",
    "        \n",
    "       'filter':['mediatype:{mt}'.format(mt=mediatype),'title:{title}'.format(title=title)],\n",
    "        'searchType':'FULL_TEXT_SEARCH'\n",
    "        #'filter':\n",
    "    }\n",
    "    r = requests.get(\"https://api.nb.no/catalog/v1/items\", params = query)\n",
    "    aggs = r.json()\n",
    "    return aggs\n",
    "\n",
    "def get_data(frase, media='aviser', title='jazznytt'):\n",
    "    import requests\n",
    "    query = {\n",
    "        'q':'\"'+frase+'\"\"',\n",
    "        'size':1,\n",
    "        'aggs':'year',\n",
    "        'filter':['mediatype:{mt}'.format(mt=media),'title:{title}'.format(title=title)]\n",
    "        \n",
    "    }\n",
    "    r = requests.get(\"https://api.nb.no/catalog/v1/items\", params = query)\n",
    "    return r.json()\n",
    "\n",
    "def get_data_and(frases, title='aftenposten', media='aviser'):\n",
    "    import requests\n",
    "    querystring = \" + \".join(['\"'+frase+'\"' for frase in frases])\n",
    "    print(querystring)\n",
    "    query = {\n",
    "        'q':querystring,\n",
    "        'size':1,\n",
    "        'aggs':'year',\n",
    "        'filter':['mediatype:{mt}'.format(mt=media), 'title:{title}'.format(title=title)],\n",
    "        #'filter':'title:{title}'.format(title=title)\n",
    "    }\n",
    "    r = requests.get(\"https://api.nb.no/catalog/v1/items\", params = query)\n",
    "    return r.json()\n",
    "\n",
    "def get_df_pd(frase, media='bøker'):\n",
    "    import pandas as pd\n",
    "    return pd.DataFrame.from_dict(get_df(frase, media=media ), orient='index').sort_index()"
   ]
  },
  {
   "cell_type": "code",
   "execution_count": 87,
   "metadata": {},
   "outputs": [],
   "source": [
    "def phrase_plots(phrase_sets, title='aftenposten', fra = 1960, til = 2020, step=5, rot=0, colours = ['r', 'b','g','y','m','c']):\n",
    "    df_all = []\n",
    "    for f in phrase_sets:\n",
    "        df_all.append(nb.frame(get_df(f, title= title), ', '.join(f)))\n",
    "    df = pd.concat(df_all, sort=False)\n",
    "    df.index = df.index.astype(int)\n",
    "    df = df.sort_index()\n",
    "    df['bins'] = pd.cut(df.index, range(fra, til, step), precision = 0)\n",
    "    df.groupby('bins').sum().plot(kind='bar', color=colours, figsize=(15,5), rot=rot)\n",
    "    return\n",
    "\n",
    "def phrase_plots_anno(phrase_sets, title='aftenposten', fra = 1960, til = 2020, rot=0, colours = ['r', 'b','g']):\n",
    "    df_all = []\n",
    "    for f in phrase_sets:\n",
    "        df_all.append(nb.frame(get_df(f, title= title), ', '.join(f)))\n",
    "    df = pd.concat(df_all, sort=False)\n",
    "    df.index = df.index.astype(int)\n",
    "    df = df.sort_index()\n",
    "    #df['bins'] = pd.cut(df.index, range(fra, til, step), precision=0)\n",
    "    df.plot(kind='bar', figsize=(15,5), rot=rot, color=colours)\n",
    "    return\n",
    "\n",
    "def graph_from_df(df, threshold = 100):\n",
    "    edges =  []\n",
    "    normalizer = {(x, y): df.stack()[(x,x)]*df.stack()[(y,y)] for (x,y) in df.stack().index}\n",
    "    for (x, y) in df.stack().index:\n",
    "        if x != y:\n",
    "            if df.stack()[(x,y)] > threshold:\n",
    "                edges.append([x,y,df.stack()[(x,y)]/normalizer[(x,y)]])\n",
    "    G = nx.Graph()\n",
    "    G.add_weighted_edges_from(edges)\n",
    "    return G"
   ]
  },
  {
   "cell_type": "code",
   "execution_count": 288,
   "metadata": {},
   "outputs": [],
   "source": [
    "def create_frame_from_bucket(bucket):\n",
    "    rows=[]\n",
    "    \n",
    "    for x in bucket:\n",
    "        for y in x[\"aggregations\"][0][\"buckets\"]:\n",
    "            for z in y['aggregations'][0]['buckets']:\n",
    "                rows.append([x['key'], y['key'], z['key'], z['count']])\n",
    "\n",
    "    df = pd.DataFrame(rows)\n",
    "    df.columns = ['year', 'month', 'day', 'count']\n",
    "    df[\"year\"] = pd.to_numeric(df[\"year\"])\n",
    "    df[\"month\"] = pd.to_numeric(df[\"month\"])\n",
    "    df[\"day\"] = pd.to_numeric(df[\"day\"])\n",
    "    df[\"timestamp\"] = pd.to_datetime(df[[\"year\", \"month\", \"day\"]])\n",
    "    df = df[[\"timestamp\", \"count\"]]\n",
    "    df = df.set_index('timestamp')\n",
    "    \n",
    "    return df"
   ]
  },
  {
   "cell_type": "code",
   "execution_count": 313,
   "metadata": {},
   "outputs": [],
   "source": [
    "def super_search(title, number=50, page=0, mediatype='aviser', period = (18000101, 20401231)):\n",
    "    \"\"\"Søk etter term og få ut json\"\"\"\n",
    "    number = min(number, 50)\n",
    "    r = requests.get(\n",
    "        \"https://api.nb.no:443/catalog/v1/items\", \n",
    "         params = { \n",
    "             'filter':[\n",
    "                 'mediatype:{mediatype}'.format(mediatype=mediatype),\n",
    "                 'title:{title}'.format(title=title),\n",
    "                 'date:[{date_from} TO {date_to}]'.format(date_from = period[0], date_to = period[1])\n",
    "             ],\n",
    "             'page':page, \n",
    "             'size':number\n",
    "         }\n",
    "    )\n",
    "    return r.json()\n",
    "\n",
    "def get_df_level(frases, title='*', media='aviser', period = (18000101, 20401231)):\n",
    "    import requests\n",
    "    querystring = \" + \".join(['\"'+frase+'\"' for frase in frases])\n",
    "    query = {\n",
    "        'q':querystring,\n",
    "        'size':1,\n",
    "        'aggs':'year,month,day',\n",
    "        'filter':[\n",
    "            'mediatype:{mt}'.format(mt=media),\n",
    "            'title:{title}'.format(title=title),\n",
    "            'date:[{date_from} TO {date_to}]'.format(date_from = period[0], date_to = period[1])\n",
    "        ]\n",
    "        \n",
    "    }\n",
    "    r = requests.get(\"https://api.nb.no/catalog/v1/aggregations\", params = query)\n",
    "    aggs = r.json()['_embedded']['aggregations'][0]['buckets']\n",
    "    df = create_frame_from_bucket(aggs) #{x['key']:x['count'] for x in aggs}\n",
    "    df.columns = [querystring]\n",
    "    return df\n",
    "\n",
    "def phrase_plots_level(phrase_set, title='*', period=(20100101, 20301231)):\n",
    "    df_all = [nb.frame(get_df_level(f, title = title, period = period), ', '.join(f)) for f in phrase_set]\n",
    "    df = pd.concat(df_all, sort=False, axis=1)\n",
    "    return df"
   ]
  },
  {
   "cell_type": "code",
   "execution_count": 281,
   "metadata": {},
   "outputs": [],
   "source": [
    "def term_urn_search(term, number=50, page=0, mediatype='aviser', period=(18000101, 20401231)):\n",
    "    \"\"\"Søk etter term og få ut json\"\"\"\n",
    "    number = min(number, 50)\n",
    "    #print(period)\n",
    "    r = requests.get(\n",
    "        \"https://api.nb.no:443/catalog/v1/search\", \n",
    "         params = { \n",
    "             'q':term,\n",
    "             'sort':'date,desc',\n",
    "            \n",
    "             'filter':[\n",
    "                 'mediatype:{mediatype}'.format(mediatype=mediatype),\n",
    "                 'date:[{date_from} TO {date_to}]'.format(date_from = period[0], date_to = period[1] )\n",
    "             ],\n",
    "             'page':page, \n",
    "             'size':number,\n",
    "             'random':'true'\n",
    "         }\n",
    "    )\n",
    "    res = r.json()\n",
    "    tot = res['totalElements']\n",
    "    if tot > 0:\n",
    "        result = res['_embedded']['mediaTypeResults'][0]['result']['_embedded']['items']\n",
    "        urns = [r['metadata']['identifiers']['urn'] for r in result]\n",
    "    else:\n",
    "        urns = []\n",
    "    return tot, urns"
   ]
  },
  {
   "cell_type": "code",
   "execution_count": 282,
   "metadata": {},
   "outputs": [],
   "source": [
    "def get_konks(urn, phrase, window=1000, n = 1000):\n",
    "    import requests\n",
    "    querystring = '\"'+ phrase +'\"' \n",
    "    query = {\n",
    "        'q':querystring,\n",
    "        'fragments': n,\n",
    "        'fragSize':window\n",
    "       \n",
    "    }\n",
    "    r = requests.get(\"https://api.nb.no/catalog/v1/items/{urn}/contentfragments\".format(urn=urn), params = query)\n",
    "    res = r.json()\n",
    "    results = []\n",
    "    try:\n",
    "        for x in res['contentFragments']:\n",
    "            urn = x['pageid']\n",
    "            hit = x['text']\n",
    "            splits = hit.split('<em>')\n",
    "            s2 = splits[1].split('</em>')\n",
    "            before = splits[0]\n",
    "            word = s2[0]\n",
    "            after = s2[1]\n",
    "            results.append({'urn': urn, 'before': before, 'word':word, 'after':after})\n",
    "    except:\n",
    "        True\n",
    "    return results"
   ]
  },
  {
   "cell_type": "code",
   "execution_count": 32,
   "metadata": {},
   "outputs": [],
   "source": [
    "def get_all_konks(term, urns):\n",
    "    konks = []\n",
    "    for u in urns:\n",
    "        konks += get_konks(u, term)\n",
    "    return konks"
   ]
  },
  {
   "cell_type": "markdown",
   "metadata": {},
   "source": [
    "Estimer antallet av et ord i aviser"
   ]
  },
  {
   "cell_type": "code",
   "execution_count": null,
   "metadata": {},
   "outputs": [],
   "source": [
    "dfs = phrase_plots_level([['corona, korona'],['vaksine','vaksinering'],['karantene']], period=(20191130,20200530))\n"
   ]
  },
  {
   "cell_type": "code",
   "execution_count": 312,
   "metadata": {},
   "outputs": [
    {
     "data": {
      "text/plain": [
       "<matplotlib.axes._subplots.AxesSubplot at 0x2095427fac8>"
      ]
     },
     "execution_count": 312,
     "metadata": {},
     "output_type": "execute_result"
    },
    {
     "data": {
      "image/png": "[encoded data removed]",
      "text/plain": [
       "<Figure size 1080x576 with 1 Axes>"
      ]
     },
     "metadata": {
      "needs_background": "light"
     },
     "output_type": "display_data"
    }
   ],
   "source": [
    "\n",
    "pd.concat([df0, df1, df2], axis=1, sort=False).plot(figsize=(15,8), lw=4, alpha=.6)"
   ]
  },
  {
   "cell_type": "code",
   "execution_count": 285,
   "metadata": {},
   "outputs": [
    {
     "data": {
      "text/plain": [
       "<matplotlib.axes._subplots.AxesSubplot at 0x20952789b70>"
      ]
     },
     "execution_count": 285,
     "metadata": {},
     "output_type": "execute_result"
    },
    {
     "data": {
      "image/png": "[encoded data removed]",
      "text/plain": [
       "<Figure size 720x360 with 1 Axes>"
      ]
     },
     "metadata": {
      "needs_background": "light"
     },
     "output_type": "display_data"
    }
   ],
   "source": [
    "dfs.plot(figsize=(10,5), lw=4, alpha=.6)"
   ]
  },
  {
   "cell_type": "code",
   "execution_count": 207,
   "metadata": {},
   "outputs": [
    {
     "data": {
      "text/plain": [
       "<matplotlib.axes._subplots.AxesSubplot at 0x2094f641b70>"
      ]
     },
     "execution_count": 207,
     "metadata": {},
     "output_type": "execute_result"
    },
    {
     "data": {
      "image/png": "[encoded data removed]",
      "text/plain": [
       "<Figure size 720x360 with 1 Axes>"
      ]
     },
     "metadata": {
      "needs_background": "light"
     },
     "output_type": "display_data"
    }
   ],
   "source": [
    "dfs.plot(figsize=(10,5), lw=4, alpha=.6)"
   ]
  },
  {
   "cell_type": "code",
   "execution_count": 296,
   "metadata": {},
   "outputs": [],
   "source": [
    "buckets = lambda x: get_df_level(x, period=(20191001, 20201231))"
   ]
  },
  {
   "cell_type": "code",
   "execution_count": 297,
   "metadata": {},
   "outputs": [
    {
     "data": {
      "text/html": [
       "<div>\n",
       "<style scoped>\n",
       "    .dataframe tbody tr th:only-of-type {\n",
       "        vertical-align: middle;\n",
       "    }\n",
       "\n",
       "    .dataframe tbody tr th {\n",
       "        vertical-align: top;\n",
       "    }\n",
       "\n",
       "    .dataframe thead th {\n",
       "        text-align: right;\n",
       "    }\n",
       "</style>\n",
       "<table border=\"1\" class=\"dataframe\">\n",
       "  <thead>\n",
       "    <tr style=\"text-align: right;\">\n",
       "      <th></th>\n",
       "      <th>count</th>\n",
       "    </tr>\n",
       "    <tr>\n",
       "      <th>timestamp</th>\n",
       "      <th></th>\n",
       "    </tr>\n",
       "  </thead>\n",
       "  <tbody>\n",
       "    <tr>\n",
       "      <th>2020-03-19</th>\n",
       "      <td>82</td>\n",
       "    </tr>\n",
       "    <tr>\n",
       "      <th>2020-03-26</th>\n",
       "      <td>76</td>\n",
       "    </tr>\n",
       "    <tr>\n",
       "      <th>2020-03-18</th>\n",
       "      <td>64</td>\n",
       "    </tr>\n",
       "    <tr>\n",
       "      <th>2020-03-17</th>\n",
       "      <td>63</td>\n",
       "    </tr>\n",
       "    <tr>\n",
       "      <th>2020-03-31</th>\n",
       "      <td>54</td>\n",
       "    </tr>\n",
       "    <tr>\n",
       "      <th>...</th>\n",
       "      <td>...</td>\n",
       "    </tr>\n",
       "    <tr>\n",
       "      <th>2019-12-12</th>\n",
       "      <td>1</td>\n",
       "    </tr>\n",
       "    <tr>\n",
       "      <th>2019-12-16</th>\n",
       "      <td>1</td>\n",
       "    </tr>\n",
       "    <tr>\n",
       "      <th>2019-12-24</th>\n",
       "      <td>1</td>\n",
       "    </tr>\n",
       "    <tr>\n",
       "      <th>2019-12-27</th>\n",
       "      <td>1</td>\n",
       "    </tr>\n",
       "    <tr>\n",
       "      <th>2019-12-28</th>\n",
       "      <td>1</td>\n",
       "    </tr>\n",
       "  </tbody>\n",
       "</table>\n",
       "<p>155 rows × 1 columns</p>\n",
       "</div>"
      ],
      "text/plain": [
       "            count\n",
       "timestamp        \n",
       "2020-03-19     82\n",
       "2020-03-26     76\n",
       "2020-03-18     64\n",
       "2020-03-17     63\n",
       "2020-03-31     54\n",
       "...           ...\n",
       "2019-12-12      1\n",
       "2019-12-16      1\n",
       "2019-12-24      1\n",
       "2019-12-27      1\n",
       "2019-12-28      1\n",
       "\n",
       "[155 rows x 1 columns]"
      ]
     },
     "execution_count": 297,
     "metadata": {},
     "output_type": "execute_result"
    }
   ],
   "source": [
    "buckets(['corona'])"
   ]
  },
  {
   "cell_type": "code",
   "execution_count": 266,
   "metadata": {},
   "outputs": [],
   "source": [
    "bf = bf.set_index(\"timestamp\")"
   ]
  },
  {
   "cell_type": "code",
   "execution_count": 267,
   "metadata": {},
   "outputs": [
    {
     "data": {
      "text/plain": [
       "<matplotlib.axes._subplots.AxesSubplot at 0x209512ab4a8>"
      ]
     },
     "execution_count": 267,
     "metadata": {},
     "output_type": "execute_result"
    },
    {
     "data": {
      "image/png": "[encoded data removed]",
      "text/plain": [
       "<Figure size 720x360 with 1 Axes>"
      ]
     },
     "metadata": {
      "needs_background": "light"
     },
     "output_type": "display_data"
    }
   ],
   "source": [
    "bf.plot(kind='line', figsize=(10,5))"
   ]
  },
  {
   "cell_type": "code",
   "execution_count": 240,
   "metadata": {},
   "outputs": [
    {
     "data": {
      "text/plain": [
       "[{'key': '3',\n",
       "  'count': 3467,\n",
       "  'aggregations': [{'name': 'day',\n",
       "    'buckets': [{'key': '17', 'count': 166},\n",
       "     {'key': '10', 'count': 165},\n",
       "     {'key': '24', 'count': 165},\n",
       "     {'key': '31', 'count': 162},\n",
       "     {'key': '3', 'count': 161},\n",
       "     {'key': '9', 'count': 137},\n",
       "     {'key': '1', 'count': 135},\n",
       "     {'key': '15', 'count': 135},\n",
       "     {'key': '16', 'count': 135},\n",
       "     {'key': '30', 'count': 135},\n",
       "     {'key': '2', 'count': 134},\n",
       "     {'key': '29', 'count': 134},\n",
       "     {'key': '8', 'count': 132},\n",
       "     {'key': '22', 'count': 131},\n",
       "     {'key': '23', 'count': 128},\n",
       "     {'key': '11', 'count': 125},\n",
       "     {'key': '18', 'count': 125},\n",
       "     {'key': '25', 'count': 124},\n",
       "     {'key': '4', 'count': 122},\n",
       "     {'key': '12', 'count': 114},\n",
       "     {'key': '19', 'count': 114},\n",
       "     {'key': '26', 'count': 114},\n",
       "     {'key': '5', 'count': 113},\n",
       "     {'key': '14', 'count': 86},\n",
       "     {'key': '7', 'count': 84},\n",
       "     {'key': '21', 'count': 84},\n",
       "     {'key': '28', 'count': 83},\n",
       "     {'key': '6', 'count': 6},\n",
       "     {'key': '13', 'count': 6},\n",
       "     {'key': '20', 'count': 6},\n",
       "     {'key': '27', 'count': 6}]}]},\n",
       " {'key': '8',\n",
       "  'count': 3286,\n",
       "  'aggregations': [{'name': 'day',\n",
       "    'buckets': [{'key': '25', 'count': 169},\n",
       "     {'key': '18', 'count': 166},\n",
       "     {'key': '11', 'count': 158},\n",
       "     {'key': '4', 'count': 148},\n",
       "     {'key': '17', 'count': 136},\n",
       "     {'key': '24', 'count': 136},\n",
       "     {'key': '30', 'count': 132},\n",
       "     {'key': '16', 'count': 130},\n",
       "     {'key': '23', 'count': 130},\n",
       "     {'key': '9', 'count': 128},\n",
       "     {'key': '31', 'count': 127},\n",
       "     {'key': '10', 'count': 126},\n",
       "     {'key': '3', 'count': 123},\n",
       "     {'key': '26', 'count': 122},\n",
       "     {'key': '12', 'count': 121},\n",
       "     {'key': '19', 'count': 121},\n",
       "     {'key': '2', 'count': 120},\n",
       "     {'key': '5', 'count': 114},\n",
       "     {'key': '27', 'count': 114},\n",
       "     {'key': '20', 'count': 113},\n",
       "     {'key': '13', 'count': 110},\n",
       "     {'key': '6', 'count': 107},\n",
       "     {'key': '15', 'count': 84},\n",
       "     {'key': '22', 'count': 83},\n",
       "     {'key': '29', 'count': 83},\n",
       "     {'key': '8', 'count': 81},\n",
       "     {'key': '1', 'count': 80},\n",
       "     {'key': '7', 'count': 6},\n",
       "     {'key': '14', 'count': 6},\n",
       "     {'key': '21', 'count': 6},\n",
       "     {'key': '28', 'count': 6}]}]},\n",
       " {'key': '9',\n",
       "  'count': 3258,\n",
       "  'aggregations': [{'name': 'day',\n",
       "    'buckets': [{'key': '8', 'count': 166},\n",
       "     {'key': '29', 'count': 163},\n",
       "     {'key': '1', 'count': 162},\n",
       "     {'key': '15', 'count': 162},\n",
       "     {'key': '22', 'count': 158},\n",
       "     {'key': '14', 'count': 135},\n",
       "     {'key': '28', 'count': 132},\n",
       "     {'key': '7', 'count': 131},\n",
       "     {'key': '27', 'count': 131},\n",
       "     {'key': '6', 'count': 130},\n",
       "     {'key': '13', 'count': 130},\n",
       "     {'key': '20', 'count': 130},\n",
       "     {'key': '9', 'count': 123},\n",
       "     {'key': '16', 'count': 123},\n",
       "     {'key': '21', 'count': 122},\n",
       "     {'key': '23', 'count': 121},\n",
       "     {'key': '30', 'count': 121},\n",
       "     {'key': '2', 'count': 120},\n",
       "     {'key': '17', 'count': 112},\n",
       "     {'key': '24', 'count': 112},\n",
       "     {'key': '3', 'count': 111},\n",
       "     {'key': '10', 'count': 111},\n",
       "     {'key': '26', 'count': 83},\n",
       "     {'key': '12', 'count': 82},\n",
       "     {'key': '19', 'count': 82},\n",
       "     {'key': '5', 'count': 81},\n",
       "     {'key': '4', 'count': 6},\n",
       "     {'key': '11', 'count': 6},\n",
       "     {'key': '18', 'count': 6},\n",
       "     {'key': '25', 'count': 6}]}]},\n",
       " {'key': '11',\n",
       "  'count': 3235,\n",
       "  'aggregations': [{'name': 'day',\n",
       "    'buckets': [{'key': '3', 'count': 161},\n",
       "     {'key': '10', 'count': 160},\n",
       "     {'key': '17', 'count': 160},\n",
       "     {'key': '24', 'count': 160},\n",
       "     {'key': '1', 'count': 133},\n",
       "     {'key': '16', 'count': 133},\n",
       "     {'key': '23', 'count': 133},\n",
       "     {'key': '30', 'count': 133},\n",
       "     {'key': '22', 'count': 131},\n",
       "     {'key': '29', 'count': 131},\n",
       "     {'key': '8', 'count': 129},\n",
       "     {'key': '15', 'count': 129},\n",
       "     {'key': '11', 'count': 125},\n",
       "     {'key': '2', 'count': 124},\n",
       "     {'key': '4', 'count': 124},\n",
       "     {'key': '9', 'count': 124},\n",
       "     {'key': '18', 'count': 122},\n",
       "     {'key': '25', 'count': 122},\n",
       "     {'key': '5', 'count': 112},\n",
       "     {'key': '19', 'count': 111},\n",
       "     {'key': '26', 'count': 111},\n",
       "     {'key': '12', 'count': 110},\n",
       "     {'key': '14', 'count': 84},\n",
       "     {'key': '21', 'count': 84},\n",
       "     {'key': '7', 'count': 83},\n",
       "     {'key': '28', 'count': 82},\n",
       "     {'key': '6', 'count': 6},\n",
       "     {'key': '13', 'count': 6},\n",
       "     {'key': '20', 'count': 6},\n",
       "     {'key': '27', 'count': 6}]}]},\n",
       " {'key': '10',\n",
       "  'count': 3184,\n",
       "  'aggregations': [{'name': 'day',\n",
       "    'buckets': [{'key': '6', 'count': 163},\n",
       "     {'key': '27', 'count': 163},\n",
       "     {'key': '13', 'count': 162},\n",
       "     {'key': '20', 'count': 160},\n",
       "     {'key': '19', 'count': 136},\n",
       "     {'key': '11', 'count': 132},\n",
       "     {'key': '4', 'count': 131},\n",
       "     {'key': '18', 'count': 131},\n",
       "     {'key': '25', 'count': 130},\n",
       "     {'key': '26', 'count': 130},\n",
       "     {'key': '12', 'count': 124},\n",
       "     {'key': '21', 'count': 124},\n",
       "     {'key': '5', 'count': 123},\n",
       "     {'key': '14', 'count': 122},\n",
       "     {'key': '28', 'count': 122},\n",
       "     {'key': '7', 'count': 121},\n",
       "     {'key': '8', 'count': 113},\n",
       "     {'key': '1', 'count': 112},\n",
       "     {'key': '15', 'count': 112},\n",
       "     {'key': '22', 'count': 112},\n",
       "     {'key': '29', 'count': 111},\n",
       "     {'key': '31', 'count': 85},\n",
       "     {'key': '10', 'count': 84},\n",
       "     {'key': '17', 'count': 84},\n",
       "     {'key': '24', 'count': 84},\n",
       "     {'key': '3', 'count': 83},\n",
       "     {'key': '2', 'count': 6},\n",
       "     {'key': '9', 'count': 6},\n",
       "     {'key': '16', 'count': 6},\n",
       "     {'key': '23', 'count': 6},\n",
       "     {'key': '30', 'count': 6}]}]},\n",
       " {'key': '12',\n",
       "  'count': 3155,\n",
       "  'aggregations': [{'name': 'day',\n",
       "    'buckets': [{'key': '1', 'count': 163},\n",
       "     {'key': '8', 'count': 163},\n",
       "     {'key': '15', 'count': 161},\n",
       "     {'key': '22', 'count': 153},\n",
       "     {'key': '7', 'count': 135},\n",
       "     {'key': '13', 'count': 132},\n",
       "     {'key': '14', 'count': 132},\n",
       "     {'key': '20', 'count': 132},\n",
       "     {'key': '6', 'count': 130},\n",
       "     {'key': '21', 'count': 128},\n",
       "     {'key': '16', 'count': 125},\n",
       "     {'key': '2', 'count': 124},\n",
       "     {'key': '9', 'count': 124},\n",
       "     {'key': '23', 'count': 122},\n",
       "     {'key': '29', 'count': 122},\n",
       "     {'key': '10', 'count': 113},\n",
       "     {'key': '17', 'count': 113},\n",
       "     {'key': '3', 'count': 112},\n",
       "     {'key': '30', 'count': 108},\n",
       "     {'key': '31', 'count': 104},\n",
       "     {'key': '24', 'count': 101},\n",
       "     {'key': '28', 'count': 100},\n",
       "     {'key': '27', 'count': 86},\n",
       "     {'key': '19', 'count': 85},\n",
       "     {'key': '12', 'count': 84},\n",
       "     {'key': '5', 'count': 83},\n",
       "     {'key': '4', 'count': 6},\n",
       "     {'key': '11', 'count': 6},\n",
       "     {'key': '18', 'count': 6},\n",
       "     {'key': '26', 'count': 2}]}]},\n",
       " {'key': '5',\n",
       "  'count': 3150,\n",
       "  'aggregations': [{'name': 'day',\n",
       "    'buckets': [{'key': '19', 'count': 169},\n",
       "     {'key': '12', 'count': 166},\n",
       "     {'key': '5', 'count': 164},\n",
       "     {'key': '26', 'count': 163},\n",
       "     {'key': '25', 'count': 141},\n",
       "     {'key': '11', 'count': 140},\n",
       "     {'key': '4', 'count': 135},\n",
       "     {'key': '18', 'count': 134},\n",
       "     {'key': '3', 'count': 133},\n",
       "     {'key': '24', 'count': 133},\n",
       "     {'key': '31', 'count': 133},\n",
       "     {'key': '10', 'count': 132},\n",
       "     {'key': '13', 'count': 126},\n",
       "     {'key': '27', 'count': 125},\n",
       "     {'key': '20', 'count': 124},\n",
       "     {'key': '6', 'count': 123},\n",
       "     {'key': '21', 'count': 115},\n",
       "     {'key': '7', 'count': 114},\n",
       "     {'key': '28', 'count': 114},\n",
       "     {'key': '14', 'count': 112},\n",
       "     {'key': '16', 'count': 85},\n",
       "     {'key': '9', 'count': 84},\n",
       "     {'key': '23', 'count': 84},\n",
       "     {'key': '2', 'count': 83},\n",
       "     {'key': '30', 'count': 80},\n",
       "     {'key': '17', 'count': 10},\n",
       "     {'key': '15', 'count': 7},\n",
       "     {'key': '8', 'count': 6},\n",
       "     {'key': '22', 'count': 6},\n",
       "     {'key': '29', 'count': 6},\n",
       "     {'key': '1', 'count': 3}]}]},\n",
       " {'key': '6',\n",
       "  'count': 3127,\n",
       "  'aggregations': [{'name': 'day',\n",
       "    'buckets': [{'key': '9', 'count': 166},\n",
       "     {'key': '23', 'count': 166},\n",
       "     {'key': '30', 'count': 166},\n",
       "     {'key': '16', 'count': 163},\n",
       "     {'key': '1', 'count': 152},\n",
       "     {'key': '8', 'count': 138},\n",
       "     {'key': '22', 'count': 138},\n",
       "     {'key': '15', 'count': 134},\n",
       "     {'key': '7', 'count': 132},\n",
       "     {'key': '21', 'count': 132},\n",
       "     {'key': '28', 'count': 131},\n",
       "     {'key': '29', 'count': 131},\n",
       "     {'key': '3', 'count': 127},\n",
       "     {'key': '17', 'count': 124},\n",
       "     {'key': '10', 'count': 123},\n",
       "     {'key': '24', 'count': 121},\n",
       "     {'key': '18', 'count': 115},\n",
       "     {'key': '4', 'count': 114},\n",
       "     {'key': '25', 'count': 114},\n",
       "     {'key': '14', 'count': 113},\n",
       "     {'key': '11', 'count': 112},\n",
       "     {'key': '20', 'count': 86},\n",
       "     {'key': '27', 'count': 85},\n",
       "     {'key': '6', 'count': 84},\n",
       "     {'key': '2', 'count': 36},\n",
       "     {'key': '5', 'count': 7},\n",
       "     {'key': '19', 'count': 6},\n",
       "     {'key': '26', 'count': 6},\n",
       "     {'key': '13', 'count': 3},\n",
       "     {'key': '12', 'count': 2}]}]},\n",
       " {'key': '1',\n",
       "  'count': 3105,\n",
       "  'aggregations': [{'name': 'day',\n",
       "    'buckets': [{'key': '13', 'count': 165},\n",
       "     {'key': '27', 'count': 165},\n",
       "     {'key': '20', 'count': 163},\n",
       "     {'key': '6', 'count': 159},\n",
       "     {'key': '12', 'count': 136},\n",
       "     {'key': '26', 'count': 135},\n",
       "     {'key': '19', 'count': 134},\n",
       "     {'key': '25', 'count': 133},\n",
       "     {'key': '11', 'count': 131},\n",
       "     {'key': '18', 'count': 131},\n",
       "     {'key': '5', 'count': 129},\n",
       "     {'key': '4', 'count': 127},\n",
       "     {'key': '28', 'count': 125},\n",
       "     {'key': '21', 'count': 124},\n",
       "     {'key': '14', 'count': 123},\n",
       "     {'key': '7', 'count': 122},\n",
       "     {'key': '22', 'count': 115},\n",
       "     {'key': '8', 'count': 114},\n",
       "     {'key': '29', 'count': 114},\n",
       "     {'key': '15', 'count': 112},\n",
       "     {'key': '17', 'count': 85},\n",
       "     {'key': '31', 'count': 85},\n",
       "     {'key': '24', 'count': 84},\n",
       "     {'key': '10', 'count': 83},\n",
       "     {'key': '3', 'count': 81},\n",
       "     {'key': '2', 'count': 6},\n",
       "     {'key': '9', 'count': 6},\n",
       "     {'key': '16', 'count': 6},\n",
       "     {'key': '23', 'count': 6},\n",
       "     {'key': '30', 'count': 6}]}]},\n",
       " {'key': '2',\n",
       "  'count': 3043,\n",
       "  'aggregations': [{'name': 'day',\n",
       "    'buckets': [{'key': '10', 'count': 167},\n",
       "     {'key': '3', 'count': 166},\n",
       "     {'key': '17', 'count': 165},\n",
       "     {'key': '24', 'count': 163},\n",
       "     {'key': '16', 'count': 138},\n",
       "     {'key': '23', 'count': 137},\n",
       "     {'key': '9', 'count': 135},\n",
       "     {'key': '2', 'count': 134},\n",
       "     {'key': '8', 'count': 134},\n",
       "     {'key': '15', 'count': 133},\n",
       "     {'key': '1', 'count': 132},\n",
       "     {'key': '22', 'count': 128},\n",
       "     {'key': '18', 'count': 124},\n",
       "     {'key': '25', 'count': 123},\n",
       "     {'key': '11', 'count': 122},\n",
       "     {'key': '4', 'count': 121},\n",
       "     {'key': '19', 'count': 115},\n",
       "     {'key': '5', 'count': 114},\n",
       "     {'key': '12', 'count': 114},\n",
       "     {'key': '26', 'count': 114},\n",
       "     {'key': '21', 'count': 86},\n",
       "     {'key': '14', 'count': 85},\n",
       "     {'key': '28', 'count': 85},\n",
       "     {'key': '7', 'count': 84},\n",
       "     {'key': '6', 'count': 6},\n",
       "     {'key': '13', 'count': 6},\n",
       "     {'key': '20', 'count': 6},\n",
       "     {'key': '27', 'count': 6}]}]},\n",
       " {'key': '7',\n",
       "  'count': 2913,\n",
       "  'aggregations': [{'name': 'day',\n",
       "    'buckets': [{'key': '7', 'count': 142},\n",
       "     {'key': '14', 'count': 136},\n",
       "     {'key': '21', 'count': 129},\n",
       "     {'key': '28', 'count': 126},\n",
       "     {'key': '6', 'count': 122},\n",
       "     {'key': '1', 'count': 121},\n",
       "     {'key': '5', 'count': 121},\n",
       "     {'key': '12', 'count': 117},\n",
       "     {'key': '19', 'count': 116},\n",
       "     {'key': '26', 'count': 116},\n",
       "     {'key': '8', 'count': 113},\n",
       "     {'key': '22', 'count': 113},\n",
       "     {'key': '2', 'count': 112},\n",
       "     {'key': '15', 'count': 112},\n",
       "     {'key': '27', 'count': 110},\n",
       "     {'key': '29', 'count': 110},\n",
       "     {'key': '20', 'count': 109},\n",
       "     {'key': '13', 'count': 108},\n",
       "     {'key': '9', 'count': 107},\n",
       "     {'key': '16', 'count': 107},\n",
       "     {'key': '23', 'count': 107},\n",
       "     {'key': '30', 'count': 107},\n",
       "     {'key': '18', 'count': 82},\n",
       "     {'key': '4', 'count': 81},\n",
       "     {'key': '25', 'count': 81},\n",
       "     {'key': '11', 'count': 80},\n",
       "     {'key': '3', 'count': 6},\n",
       "     {'key': '17', 'count': 6},\n",
       "     {'key': '24', 'count': 6},\n",
       "     {'key': '31', 'count': 6},\n",
       "     {'key': '10', 'count': 4}]}]},\n",
       " {'key': '4',\n",
       "  'count': 2777,\n",
       "  'aggregations': [{'name': 'day',\n",
       "    'buckets': [{'key': '7', 'count': 168},\n",
       "     {'key': '28', 'count': 168},\n",
       "     {'key': '14', 'count': 166},\n",
       "     {'key': '13', 'count': 137},\n",
       "     {'key': '6', 'count': 135},\n",
       "     {'key': '12', 'count': 134},\n",
       "     {'key': '5', 'count': 132},\n",
       "     {'key': '19', 'count': 132},\n",
       "     {'key': '27', 'count': 131},\n",
       "     {'key': '15', 'count': 126},\n",
       "     {'key': '1', 'count': 124},\n",
       "     {'key': '29', 'count': 124},\n",
       "     {'key': '8', 'count': 122},\n",
       "     {'key': '20', 'count': 121},\n",
       "     {'key': '30', 'count': 115},\n",
       "     {'key': '9', 'count': 114},\n",
       "     {'key': '16', 'count': 114},\n",
       "     {'key': '2', 'count': 113},\n",
       "     {'key': '26', 'count': 109},\n",
       "     {'key': '18', 'count': 86},\n",
       "     {'key': '11', 'count': 83},\n",
       "     {'key': '4', 'count': 82},\n",
       "     {'key': '23', 'count': 10},\n",
       "     {'key': '21', 'count': 7},\n",
       "     {'key': '3', 'count': 6},\n",
       "     {'key': '10', 'count': 6},\n",
       "     {'key': '17', 'count': 6},\n",
       "     {'key': '22', 'count': 4},\n",
       "     {'key': '25', 'count': 2}]}]}]"
      ]
     },
     "execution_count": 240,
     "metadata": {},
     "output_type": "execute_result"
    }
   ],
   "source": [
    "buckets[0]['aggregations'][0]['buckets']"
   ]
  },
  {
   "cell_type": "code",
   "execution_count": 218,
   "metadata": {},
   "outputs": [
    {
     "data": {
      "text/plain": [
       "(1611,\n",
       " ['URN:NBN:no-nb_digavis_ringerikesblad_null_null_19600123_117_19_1',\n",
       "  'URN:NBN:no-nb_digavis_bergenstidende_null_null_19601029_93_253_1',\n",
       "  'URN:NBN:no-nb_digavis_nordlandsframtid_null_null_19601110_47_262_1',\n",
       "  'URN:NBN:no-nb_digavis_bergenstidende_null_null_19600205_93_30_1',\n",
       "  'URN:NBN:no-nb_digavis_morgenposten_null_null_19600305_100_55_1',\n",
       "  'URN:NBN:no-nb_digavis_finnmarken_null_null_19600531_15_60_1',\n",
       "  'URN:NBN:no-nb_digavis_dagbladet_null_null_19600128_92_23_2',\n",
       "  'URN:NBN:no-nb_digavis_haugesundsavis_null_null_19600924_65_223_1',\n",
       "  'URN:NBN:no-nb_digavis_orientering_null_null_19600409_8_7_1',\n",
       "  'URN:NBN:no-nb_digavis_grimstadadressetiden_null_null_19601124_105_135_1',\n",
       "  'URN:NBN:no-nb_digavis_dagbladet_null_null_19600813_92_187_2',\n",
       "  'URN:NBN:no-nb_digavis_dagbladet_null_null_19601214_92_292_2',\n",
       "  'URN:NBN:no-nb_digavis_tronderavisa_null_null_19600504_0_102_1',\n",
       "  'URN:NBN:no-nb_digavis_vaartland_null_null_19601017_16_242_1',\n",
       "  'URN:NBN:no-nb_digavis_dagbladet_null_null_19600920_92_219_2',\n",
       "  'URN:NBN:no-nb_digavis_verdensgang_null_null_19601114_16_266_1',\n",
       "  'URN:NBN:no-nb_digavis_rogalandsavis_null_null_19600616_62_137_1',\n",
       "  'URN:NBN:no-nb_digavis_tromso_null_null_19600301_63_51_1',\n",
       "  'URN:NBN:no-nb_digavis_faedrelandsvennen_null_null_19600506_84_104_1',\n",
       "  'URN:NBN:no-nb_digavis_demokraten_null_null_19601012_54_237_1',\n",
       "  'URN:NBN:no-nb_digavis_bergensarbeiderblad_null_null_19600310_34_59_1',\n",
       "  'URN:NBN:no-nb_digavis_norgeskvinner_null_null_19600624_40_24_1',\n",
       "  'URN:NBN:no-nb_digavis_arbeiderbladetoslo_null_null_19600910_72_211_1',\n",
       "  'URN:NBN:no-nb_digavis_aftenposten_null_null_19600829_101_397_2',\n",
       "  'URN:NBN:no-nb_digavis_bergenstidende_null_null_19601202_93_282_1',\n",
       "  'URN:NBN:no-nb_digavis_aftenposten_null_null_19600127_101_43_1',\n",
       "  'URN:NBN:no-nb_digavis_verdensgang_null_null_19600302_16_52_1',\n",
       "  'URN:NBN:no-nb_digavis_nordlandsframtid_null_null_19600510_47_106_1',\n",
       "  'URN:NBN:no-nb_digavis_morgenbladet_null_null_19600830_142_201_1',\n",
       "  'URN:NBN:no-nb_digavis_nationen_null_null_19601201_43_281_1',\n",
       "  'URN:NBN:no-nb_digavis_tidenskrav_null_null_19601011_51_236_1',\n",
       "  'URN:NBN:no-nb_digavis_arbeiderbladetoslo_null_null_19600407_72_83_1',\n",
       "  'URN:NBN:no-nb_digavis_sognsavis_null_null_19600104_28_1_1',\n",
       "  'URN:NBN:no-nb_digavis_glaamdalen_null_null_19600211_35_35_1',\n",
       "  'URN:NBN:no-nb_digavis_nordlandsframtid_null_null_19600322_47_68_1',\n",
       "  'URN:NBN:no-nb_digavis_stavangeraftenblad_null_null_19600613_68_134_1',\n",
       "  'URN:NBN:no-nb_digavis_lofotposten_null_null_19600218_65_41_1',\n",
       "  'URN:NBN:no-nb_digavis_arbeidetsrett_null_null_19601109_55_127_1',\n",
       "  'URN:NBN:no-nb_digavis_bergenstidende_null_null_19600825_93_197_1',\n",
       "  'URN:NBN:no-nb_digavis_nordisktidende_null_null_19600331_70_13_1',\n",
       "  'URN:NBN:no-nb_digavis_nordlandsposten_null_null_19600218_98_41_1',\n",
       "  'URN:NBN:no-nb_digavis_vaartland_null_null_19600716_16_163_1',\n",
       "  'URN:NBN:no-nb_digavis_nationen_null_null_19600818_43_191_1',\n",
       "  'URN:NBN:no-nb_digavis_hamararbeiderblad_null_null_19600511_36_108_1',\n",
       "  'URN:NBN:no-nb_digavis_stavangeraftenblad_null_null_19600602_68_126_1',\n",
       "  'URN:NBN:no-nb_digavis_vestfinnmarkarbeiderblad_null_null_19600521_47_78_1',\n",
       "  'URN:NBN:no-nb_digavis_tronderavisa_null_null_19600129_0_24_1',\n",
       "  'URN:NBN:no-nb_digavis_vaartland_null_null_19600118_16_14_1',\n",
       "  'URN:NBN:no-nb_digavis_tromso_null_null_19600205_64_30_1',\n",
       "  'URN:NBN:no-nb_digavis_adresseavisen_null_null_19601021_194_246_1'])"
      ]
     },
     "execution_count": 218,
     "metadata": {},
     "output_type": "execute_result"
    }
   ],
   "source": [
    "term_urn_search('likestilling', period=('19600101', '19601231'))"
   ]
  },
  {
   "cell_type": "code",
   "execution_count": 76,
   "metadata": {},
   "outputs": [
    {
     "data": {
      "text/plain": [
       "1611"
      ]
     },
     "execution_count": 76,
     "metadata": {},
     "output_type": "execute_result"
    }
   ],
   "source": [
    "tot"
   ]
  },
  {
   "cell_type": "code",
   "execution_count": 81,
   "metadata": {},
   "outputs": [
    {
     "name": "stdout",
     "output_type": "stream",
     "text": [
      "1960\n",
      "('19600101', '19601231')\n",
      "1961\n",
      "('19610101', '19611231')\n"
     ]
    }
   ],
   "source": [
    "totals = []\n",
    "urn_tots = []\n",
    "for i in range(1960, 1962):\n",
    "    print(i)\n",
    "    t, u = term_urn_search('likestilling', period=('{y}0101'.format(y=i), '{y}1231'.format(y=i)))\n",
    "    totals.append(t)\n",
    "    urn_tots.append(u)"
   ]
  },
  {
   "cell_type": "code",
   "execution_count": 83,
   "metadata": {},
   "outputs": [
    {
     "data": {
      "text/plain": [
       "[1611, 1516]"
      ]
     },
     "execution_count": 83,
     "metadata": {},
     "output_type": "execute_result"
    }
   ],
   "source": [
    "totals"
   ]
  },
  {
   "cell_type": "code",
   "execution_count": 80,
   "metadata": {},
   "outputs": [
    {
     "name": "stdout",
     "output_type": "stream",
     "text": [
      "('19600101', '19601231')\n"
     ]
    },
    {
     "data": {
      "text/plain": [
       "(1611,\n",
       " ['URN:NBN:no-nb_digavis_finnmarksposten_null_null_19600130_95_12_1',\n",
       "  'URN:NBN:no-nb_digavis_varden_null_null_19601207_86_284_1',\n",
       "  'URN:NBN:no-nb_digavis_dagbladet_null_null_19600223_92_45_1',\n",
       "  'URN:NBN:no-nb_digavis_mossavis_null_null_19601026_86_249_1',\n",
       "  'URN:NBN:no-nb_digavis_friheten_null_null_19601021_20_245_1',\n",
       "  'URN:NBN:no-nb_digavis_aftenposten_null_null_19601004_101_458_1',\n",
       "  'URN:NBN:no-nb_digavis_finnmarksposten_null_null_19600123_95_9_1',\n",
       "  'URN:NBN:no-nb_digavis_adresseavisen_null_null_19600426_194_96_1',\n",
       "  'URN:NBN:no-nb_digavis_osterdolen_null_null_19601115_60_266_1',\n",
       "  'URN:NBN:no-nb_digavis_dagbladet_null_null_19601214_92_292_2',\n",
       "  'URN:NBN:no-nb_digavis_stavangeraftenblad_null_null_19600629_68_148_1',\n",
       "  'URN:NBN:no-nb_digavis_bergenstidende_null_null_19601124_93_275_1',\n",
       "  'URN:NBN:no-nb_digavis_nationen_null_null_19600920_43_219_1',\n",
       "  'URN:NBN:no-nb_digavis_varden_null_null_19600212_86_36_1',\n",
       "  'URN:NBN:no-nb_digavis_nordlandsposten_null_null_19600504_98_102_1',\n",
       "  'URN:NBN:no-nb_digavis_morgenbladet_null_null_19600625_142_145_2',\n",
       "  'URN:NBN:no-nb_digavis_nordlandsposten_null_null_19600301_98_51_1',\n",
       "  'URN:NBN:no-nb_digavis_norgeshandelsogsjoefartstidende_null_null_19601015_71_240_1',\n",
       "  'URN:NBN:no-nb_digavis_stavangeraftenblad_null_null_19600827_68_199_1',\n",
       "  'URN:NBN:no-nb_digavis_svelviksposten_null_null_19601216_76_97_1',\n",
       "  'URN:NBN:no-nb_digavis_demokraten_null_null_19601012_54_237_1',\n",
       "  'URN:NBN:no-nb_digavis_eidsvoldblad_null_null_19601219_60_148_1',\n",
       "  'URN:NBN:no-nb_digavis_varden_null_null_19600917_86_215_1',\n",
       "  'URN:NBN:no-nb_digavis_nordisktidende_null_null_19600331_70_13_1',\n",
       "  'URN:NBN:no-nb_digavis_bergenstidende_null_null_19600903_93_205_1',\n",
       "  'URN:NBN:no-nb_digavis_morgenbladet_null_null_19601011_142_237_1',\n",
       "  'URN:NBN:no-nb_digavis_sorvarangeravis_null_null_19600817_12_63_1',\n",
       "  'URN:NBN:no-nb_digavis_aftenposten_null_null_19601001_101_454_1',\n",
       "  'URN:NBN:no-nb_digavis_aftenposten_null_null_19600413_101_175_1',\n",
       "  'URN:NBN:no-nb_digavis_dagbladet_null_null_19601111_92_264_1',\n",
       "  'URN:NBN:no-nb_digavis_morgenposten_null_null_19601116_100_268_1',\n",
       "  'URN:NBN:no-nb_digavis_haugesundsavis_null_null_19601202_65_282_1',\n",
       "  'URN:NBN:no-nb_digavis_norgeshandelsogsjoefartstidende_null_null_19600129_71_24_1',\n",
       "  'URN:NBN:no-nb_digavis_namdalarbeiderblad_null_null_19600526_43_60_1',\n",
       "  'URN:NBN:no-nb_digavis_nordlandsframtid_null_null_19600322_47_68_1',\n",
       "  'URN:NBN:no-nb_digavis_stavangeraftenblad_null_null_19600111_68_8_1',\n",
       "  'URN:NBN:no-nb_digavis_morgenposten_null_null_19600411_100_86_1',\n",
       "  'URN:NBN:no-nb_digavis_vestfinnmarkarbeiderblad_null_null_19600104_47_1_1',\n",
       "  'URN:NBN:no-nb_digavis_finnmarkdagblad_null_null_19601008_47_165_1',\n",
       "  'URN:NBN:no-nb_digavis_grimstadadressetiden_null_null_19600331_105_38_1',\n",
       "  'URN:NBN:no-nb_digavis_stavangeraftenblad_null_null_19600613_68_134_1',\n",
       "  'URN:NBN:no-nb_digavis_bergensarbeiderblad_null_null_19600616_34_137_1',\n",
       "  'URN:NBN:no-nb_digavis_lillehammertilskuer_null_null_19600622_117_142_1',\n",
       "  'URN:NBN:no-nb_digavis_friheten_null_null_19601008_20_234_1',\n",
       "  'URN:NBN:no-nb_digavis_fremover_null_null_19600701_58_149_1',\n",
       "  'URN:NBN:no-nb_digavis_glaamdalen_null_null_19601101_35_254_1',\n",
       "  'URN:NBN:no-nb_digavis_nordlandsavis_null_null_19600129_66_8_1',\n",
       "  'URN:NBN:no-nb_digavis_akershus_null_null_19601102_74_113_1',\n",
       "  'URN:NBN:no-nb_digavis_helgelandarbeiderbla_null_null_19600620_31_71_1',\n",
       "  'URN:NBN:no-nb_digavis_norgeshandelsogsjoefartstidende_null_null_19600204_71_29_1'])"
      ]
     },
     "execution_count": 80,
     "metadata": {},
     "output_type": "execute_result"
    }
   ],
   "source": [
    "term_urn_search('likestilling', period=('{y}0101'.format(y=i), '{y}1231'.format(y=i)))"
   ]
  },
  {
   "cell_type": "code",
   "execution_count": 33,
   "metadata": {},
   "outputs": [],
   "source": [
    "urn_hits = get_all_konks('likestilling', urns)"
   ]
  },
  {
   "cell_type": "code",
   "execution_count": 34,
   "metadata": {},
   "outputs": [
    {
     "data": {
      "text/plain": [
       "81"
      ]
     },
     "execution_count": 34,
     "metadata": {},
     "output_type": "execute_result"
    }
   ],
   "source": [
    "len(urn_hits)"
   ]
  },
  {
   "cell_type": "code",
   "execution_count": 35,
   "metadata": {},
   "outputs": [
    {
     "data": {
      "text/plain": [
       "50"
      ]
     },
     "execution_count": 35,
     "metadata": {},
     "output_type": "execute_result"
    }
   ],
   "source": [
    "len(urns)"
   ]
  },
  {
   "cell_type": "code",
   "execution_count": 38,
   "metadata": {},
   "outputs": [
    {
     "data": {
      "text/plain": [
       "59637.06"
      ]
     },
     "execution_count": 38,
     "metadata": {},
     "output_type": "execute_result"
    }
   ],
   "source": [
    "tot * len(urn_hits)/len(urns)"
   ]
  },
  {
   "cell_type": "code",
   "execution_count": 17,
   "metadata": {},
   "outputs": [
    {
     "data": {
      "text/plain": [
       "0    13497\n",
       "dtype: int64"
      ]
     },
     "execution_count": 17,
     "metadata": {},
     "output_type": "execute_result"
    }
   ],
   "source": [
    "nb.unigram('likestilling',period=(1970, 1980)).sum()"
   ]
  },
  {
   "cell_type": "code",
   "execution_count": 40,
   "metadata": {},
   "outputs": [
    {
     "data": {
      "text/plain": [
       "<matplotlib.axes._subplots.AxesSubplot at 0x2094bdaea20>"
      ]
     },
     "execution_count": 40,
     "metadata": {},
     "output_type": "execute_result"
    },
    {
     "data": {
      "image/png": "[encoded data removed]",
      "text/plain": [
       "<Figure size 432x288 with 1 Axes>"
      ]
     },
     "metadata": {
      "needs_background": "light"
     },
     "output_type": "display_data"
    }
   ],
   "source": [
    "nb.unigram('likestilling', period=(1970, 1980), media='avis').plot()"
   ]
  },
  {
   "cell_type": "code",
   "execution_count": null,
   "metadata": {},
   "outputs": [],
   "source": [
    "nb.unigram('likestilling', )"
   ]
  }
 ],
 "metadata": {
  "kernelspec": {
   "display_name": "Python 3",
   "language": "python",
   "name": "python3"
  },
  "language_info": {
   "codemirror_mode": {
    "name": "ipython",
    "version": 3
   },
   "file_extension": ".py",
   "mimetype": "text/x-python",
   "name": "python",
   "nbconvert_exporter": "python",
   "pygments_lexer": "ipython3",
   "version": "3.7.3"
  }
 },
 "nbformat": 4,
 "nbformat_minor": 2
}

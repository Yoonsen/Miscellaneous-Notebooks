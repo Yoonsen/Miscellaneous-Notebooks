{
 "cells": [
  {
   "cell_type": "code",
   "execution_count": 8,
   "metadata": {},
   "outputs": [],
   "source": [
    "import pandas as pd\n",
    "import dhlab.nbtext as nb"
   ]
  },
  {
   "cell_type": "code",
   "execution_count": 9,
   "metadata": {},
   "outputs": [],
   "source": [
    "tot = nb.frame(nb.totals(50000), 'tot')"
   ]
  },
  {
   "cell_type": "code",
   "execution_count": 5,
   "metadata": {},
   "outputs": [],
   "source": [
    "nno = pd.read_csv('nno.csv', index_col = 0)"
   ]
  },
  {
   "cell_type": "code",
   "execution_count": 11,
   "metadata": {},
   "outputs": [
    {
     "data": {
      "text/html": [
       "<div>\n",
       "<style scoped>\n",
       "    .dataframe tbody tr th:only-of-type {\n",
       "        vertical-align: middle;\n",
       "    }\n",
       "\n",
       "    .dataframe tbody tr th {\n",
       "        vertical-align: top;\n",
       "    }\n",
       "\n",
       "    .dataframe thead th {\n",
       "        text-align: right;\n",
       "    }\n",
       "</style>\n",
       "<table border=\"1\" class=\"dataframe\">\n",
       "  <thead>\n",
       "    <tr style=\"text-align: right;\">\n",
       "      <th></th>\n",
       "      <th>0</th>\n",
       "    </tr>\n",
       "  </thead>\n",
       "  <tbody>\n",
       "    <tr>\n",
       "      <td>.</td>\n",
       "      <td>8505838.0</td>\n",
       "    </tr>\n",
       "    <tr>\n",
       "      <td>,</td>\n",
       "      <td>7012691.0</td>\n",
       "    </tr>\n",
       "    <tr>\n",
       "      <td>og</td>\n",
       "      <td>4175188.0</td>\n",
       "    </tr>\n",
       "    <tr>\n",
       "      <td>i</td>\n",
       "      <td>3416414.0</td>\n",
       "    </tr>\n",
       "    <tr>\n",
       "      <td>det</td>\n",
       "      <td>2032193.0</td>\n",
       "    </tr>\n",
       "    <tr>\n",
       "      <td>...</td>\n",
       "      <td>...</td>\n",
       "    </tr>\n",
       "    <tr>\n",
       "      <td>Gudstankar</td>\n",
       "      <td>1.0</td>\n",
       "    </tr>\n",
       "    <tr>\n",
       "      <td>Gullsme</td>\n",
       "      <td>1.0</td>\n",
       "    </tr>\n",
       "    <tr>\n",
       "      <td>Gunnarson-</td>\n",
       "      <td>1.0</td>\n",
       "    </tr>\n",
       "    <tr>\n",
       "      <td>Haahaahaa</td>\n",
       "      <td>1.0</td>\n",
       "    </tr>\n",
       "    <tr>\n",
       "      <td>09338</td>\n",
       "      <td>1.0</td>\n",
       "    </tr>\n",
       "  </tbody>\n",
       "</table>\n",
       "<p>3551517 rows × 1 columns</p>\n",
       "</div>"
      ],
      "text/plain": [
       "                    0\n",
       ".           8505838.0\n",
       ",           7012691.0\n",
       "og          4175188.0\n",
       "i           3416414.0\n",
       "det         2032193.0\n",
       "...               ...\n",
       "Gudstankar        1.0\n",
       "Gullsme           1.0\n",
       "Gunnarson-        1.0\n",
       "Haahaahaa         1.0\n",
       "09338             1.0\n",
       "\n",
       "[3551517 rows x 1 columns]"
      ]
     },
     "execution_count": 11,
     "metadata": {},
     "output_type": "execute_result"
    }
   ],
   "source": [
    "nno"
   ]
  },
  {
   "cell_type": "code",
   "execution_count": 16,
   "metadata": {},
   "outputs": [
    {
     "data": {
      "text/plain": [
       "True"
      ]
     },
     "execution_count": 16,
     "metadata": {},
     "output_type": "execute_result"
    }
   ],
   "source": [
    "nb.normalize_corpus_dataframe(nno)\n",
    "nb.normalize_corpus_dataframe(tot)"
   ]
  },
  {
   "cell_type": "code",
   "execution_count": 37,
   "metadata": {},
   "outputs": [],
   "source": [
    "diff = nb.frame(nno['0']/tot.tot, 'ratio')"
   ]
  },
  {
   "cell_type": "code",
   "execution_count": 38,
   "metadata": {},
   "outputs": [
    {
     "data": {
      "text/html": [
       "<div>\n",
       "<style scoped>\n",
       "    .dataframe tbody tr th:only-of-type {\n",
       "        vertical-align: middle;\n",
       "    }\n",
       "\n",
       "    .dataframe tbody tr th {\n",
       "        vertical-align: top;\n",
       "    }\n",
       "\n",
       "    .dataframe thead th {\n",
       "        text-align: right;\n",
       "    }\n",
       "</style>\n",
       "<table border=\"1\" class=\"dataframe\">\n",
       "  <thead>\n",
       "    <tr style=\"text-align: right;\">\n",
       "      <th></th>\n",
       "      <th>ratio</th>\n",
       "    </tr>\n",
       "  </thead>\n",
       "  <tbody>\n",
       "    <tr>\n",
       "      <td>gnr</td>\n",
       "      <td>21.586990</td>\n",
       "    </tr>\n",
       "    <tr>\n",
       "      <td>deltakarane</td>\n",
       "      <td>18.598866</td>\n",
       "    </tr>\n",
       "    <tr>\n",
       "      <td>meirverdiavgift</td>\n",
       "      <td>18.374648</td>\n",
       "    </tr>\n",
       "    <tr>\n",
       "      <td>Løvland</td>\n",
       "      <td>16.728023</td>\n",
       "    </tr>\n",
       "    <tr>\n",
       "      <td>yvi</td>\n",
       "      <td>16.473703</td>\n",
       "    </tr>\n",
       "    <tr>\n",
       "      <td>...</td>\n",
       "      <td>...</td>\n",
       "    </tr>\n",
       "    <tr>\n",
       "      <td>svingar</td>\n",
       "      <td>11.677333</td>\n",
       "    </tr>\n",
       "    <tr>\n",
       "      <td>kommunar</td>\n",
       "      <td>11.666352</td>\n",
       "    </tr>\n",
       "    <tr>\n",
       "      <td>gjenom</td>\n",
       "      <td>11.663210</td>\n",
       "    </tr>\n",
       "    <tr>\n",
       "      <td>organisasjonane</td>\n",
       "      <td>11.659125</td>\n",
       "    </tr>\n",
       "    <tr>\n",
       "      <td>Korleis</td>\n",
       "      <td>11.656343</td>\n",
       "    </tr>\n",
       "  </tbody>\n",
       "</table>\n",
       "<p>100 rows × 1 columns</p>\n",
       "</div>"
      ],
      "text/plain": [
       "                     ratio\n",
       "gnr              21.586990\n",
       "deltakarane      18.598866\n",
       "meirverdiavgift  18.374648\n",
       "Løvland          16.728023\n",
       "yvi              16.473703\n",
       "...                    ...\n",
       "svingar          11.677333\n",
       "kommunar         11.666352\n",
       "gjenom           11.663210\n",
       "organisasjonane  11.659125\n",
       "Korleis          11.656343\n",
       "\n",
       "[100 rows x 1 columns]"
      ]
     },
     "execution_count": 38,
     "metadata": {},
     "output_type": "execute_result"
    }
   ],
   "source": [
    "diff.sort_values(by = 'ratio', ascending=False)[:100]"
   ]
  },
  {
   "cell_type": "code",
   "execution_count": 39,
   "metadata": {},
   "outputs": [
    {
     "data": {
      "text/plain": [
       "ratio    10.463615\n",
       "Name: Ikkje, dtype: float64"
      ]
     },
     "execution_count": 39,
     "metadata": {},
     "output_type": "execute_result"
    }
   ],
   "source": [
    "diff.loc['Ikkje']"
   ]
  },
  {
   "cell_type": "code",
   "execution_count": 25,
   "metadata": {},
   "outputs": [],
   "source": [
    "nno100 = nno.sort_values(by='0', ascending=False).head(100).index"
   ]
  },
  {
   "cell_type": "code",
   "execution_count": 33,
   "metadata": {},
   "outputs": [],
   "source": [
    "top100 = diff.loc[nno100]\n"
   ]
  },
  {
   "cell_type": "code",
   "execution_count": 43,
   "metadata": {},
   "outputs": [
    {
     "data": {
      "text/plain": [
       "0    0.506107\n",
       "dtype: float64"
      ]
     },
     "execution_count": 43,
     "metadata": {},
     "output_type": "execute_result"
    }
   ],
   "source": [
    "nno.sort_values(by='0', ascending=False)[:150].sum()"
   ]
  },
  {
   "cell_type": "code",
   "execution_count": 44,
   "metadata": {},
   "outputs": [],
   "source": [
    "t2 = nno.sort_values(by='0', ascending=False)[:200]"
   ]
  },
  {
   "cell_type": "code",
   "execution_count": 57,
   "metadata": {},
   "outputs": [
    {
     "data": {
      "text/plain": [
       "0    0.177639\n",
       "dtype: float64"
      ]
     },
     "execution_count": 57,
     "metadata": {},
     "output_type": "execute_result"
    }
   ],
   "source": [
    "t2.loc[[x for x in t2.index if not x in t2.loc[t2.index.str.isalpha()].index]].sum()"
   ]
  },
  {
   "cell_type": "code",
   "execution_count": 36,
   "metadata": {},
   "outputs": [
    {
     "data": {
      "text/html": [
       "<div>\n",
       "<style scoped>\n",
       "    .dataframe tbody tr th:only-of-type {\n",
       "        vertical-align: middle;\n",
       "    }\n",
       "\n",
       "    .dataframe tbody tr th {\n",
       "        vertical-align: top;\n",
       "    }\n",
       "\n",
       "    .dataframe thead th {\n",
       "        text-align: right;\n",
       "    }\n",
       "</style>\n",
       "<table border=\"1\" class=\"dataframe\">\n",
       "  <thead>\n",
       "    <tr style=\"text-align: right;\">\n",
       "      <th></th>\n",
       "      <th>0</th>\n",
       "    </tr>\n",
       "  </thead>\n",
       "  <tbody>\n",
       "    <tr>\n",
       "      <td>en</td>\n",
       "      <td>0.101949</td>\n",
       "    </tr>\n",
       "    <tr>\n",
       "      <td>også</td>\n",
       "      <td>0.617797</td>\n",
       "    </tr>\n",
       "    <tr>\n",
       "      <td>den</td>\n",
       "      <td>0.665994</td>\n",
       "    </tr>\n",
       "    <tr>\n",
       "      <td>ved</td>\n",
       "      <td>0.672578</td>\n",
       "    </tr>\n",
       "    <tr>\n",
       "      <td>\"</td>\n",
       "      <td>0.699440</td>\n",
       "    </tr>\n",
       "    <tr>\n",
       "      <td>...</td>\n",
       "      <td>...</td>\n",
       "    </tr>\n",
       "    <tr>\n",
       "      <td>ho</td>\n",
       "      <td>10.764008</td>\n",
       "    </tr>\n",
       "    <tr>\n",
       "      <td>berre</td>\n",
       "      <td>10.768520</td>\n",
       "    </tr>\n",
       "    <tr>\n",
       "      <td>Eg</td>\n",
       "      <td>10.812776</td>\n",
       "    </tr>\n",
       "    <tr>\n",
       "      <td>Dei</td>\n",
       "      <td>10.914033</td>\n",
       "    </tr>\n",
       "    <tr>\n",
       "      <td>noko</td>\n",
       "      <td>11.096136</td>\n",
       "    </tr>\n",
       "  </tbody>\n",
       "</table>\n",
       "<p>100 rows × 1 columns</p>\n",
       "</div>"
      ],
      "text/plain": [
       "               0\n",
       "en      0.101949\n",
       "også    0.617797\n",
       "den     0.665994\n",
       "ved     0.672578\n",
       "\"       0.699440\n",
       "...          ...\n",
       "ho     10.764008\n",
       "berre  10.768520\n",
       "Eg     10.812776\n",
       "Dei    10.914033\n",
       "noko   11.096136\n",
       "\n",
       "[100 rows x 1 columns]"
      ]
     },
     "execution_count": 36,
     "metadata": {},
     "output_type": "execute_result"
    }
   ],
   "source": [
    "top100.sort_values(by=0, ascending=True)"
   ]
  }
 ],
 "metadata": {
  "kernelspec": {
   "display_name": "Python 3",
   "language": "python",
   "name": "python3"
  },
  "language_info": {
   "codemirror_mode": {
    "name": "ipython",
    "version": 3
   },
   "file_extension": ".py",
   "mimetype": "text/x-python",
   "name": "python",
   "nbconvert_exporter": "python",
   "pygments_lexer": "ipython3",
   "version": "3.7.4"
  }
 },
 "nbformat": 4,
 "nbformat_minor": 2
}

{
 "cells": [
  {
   "cell_type": "code",
   "execution_count": 2,
   "metadata": {},
   "outputs": [],
   "source": [
    "import dhlab.nbtext as nb"
   ]
  },
  {
   "cell_type": "code",
   "execution_count": 3,
   "metadata": {},
   "outputs": [],
   "source": [
    "import dhlab.module_update as mu"
   ]
  },
  {
   "cell_type": "code",
   "execution_count": 4,
   "metadata": {},
   "outputs": [
    {
     "data": {
      "text/html": [
       "<style>@import url(\n",
       "http://fonts.googleapis.com/css?family=Lato|Philosopher|Montserrat|Source+Code+Pro|Merriweather|Shippori+Mincho|Istok+Web|Philosopher|Assistant:200,400,700);\n",
       "\n",
       "/*\n",
       "#notebook-container {\n",
       "\t-webkit-box-shadow: none;\n",
       "\tbox-shadow: none;\n",
       "}\n",
       "*/\n",
       "\n",
       "h1, h2, h3, h4, h5, h6 {\n",
       "\tfont-family: 'Montserrat', sans-serif;\n",
       "\tline-height: 2em;\n",
       "    color: #004f99;\n",
       "    font-weight: 600;\n",
       "}\n",
       "\n",
       "h1 { font-size: 4.5em; }\n",
       "h2 { font-size: 4em; }\n",
       "h3 { font-size: 3.5em; }\n",
       "h4 { font-size: 3em; }\n",
       "h5 { font-size: 2.5em; color:DarkSlateGray; }\n",
       "h6 { font-size: 2em; }\n",
       "\n",
       "p {\n",
       "\tfont-family: 'Shippori+Mincho'; \n",
       "\tfont-size:1.1em;\n",
       "\tcolor: DarkSlateGray;\n",
       "}\n",
       "\n",
       "div.input_area {\n",
       "\tborder:none !important;\n",
       "\tborder-left:1px solid #ff851b !important\n",
       "}\n",
       "\n",
       "span.cm-keyword {\n",
       "\tcolor:#339966 !important;\n",
       "}\n",
       "span.nn {  /*span.cm-variable, span.cm-property*/\n",
       "\tcolor: #3399ff !important;\n",
       "}\n",
       "\n",
       "\n",
       "div.CodeMirror {\n",
       "\tfont-family: 'Inconsolata', monospace;\n",
       "\tfont-size: 1.1em;\n",
       "\t\n",
       "}\n",
       "</style>"
      ],
      "text/plain": [
       "<IPython.core.display.HTML object>"
      ]
     },
     "execution_count": 4,
     "metadata": {},
     "output_type": "execute_result"
    }
   ],
   "source": [
    "mu.css()"
   ]
  },
  {
   "cell_type": "code",
   "execution_count": 129,
   "metadata": {},
   "outputs": [],
   "source": [
    "words = {\n",
    "    'feminisme_': \"likestilling feminisme\".split(),\n",
    "    'abort_': \"abort selvbestemt\".split(),\n",
    "    'frihet_': \"frihet Frihet friheten Friheten\".split(),\n",
    "}"
   ]
  },
  {
   "cell_type": "code",
   "execution_count": 114,
   "metadata": {},
   "outputs": [],
   "source": [
    "urns = nb.book_corpus(period = (1970, 1980), limit = 100000)"
   ]
  },
  {
   "cell_type": "code",
   "execution_count": 115,
   "metadata": {},
   "outputs": [],
   "source": [
    "urns = urns.set_index('urn')"
   ]
  },
  {
   "cell_type": "code",
   "execution_count": 116,
   "metadata": {},
   "outputs": [],
   "source": [
    "urns.index = urns.index.astype(str)"
   ]
  },
  {
   "cell_type": "code",
   "execution_count": 117,
   "metadata": {},
   "outputs": [
    {
     "data": {
      "text/plain": [
       "45366"
      ]
     },
     "execution_count": 117,
     "metadata": {},
     "output_type": "execute_result"
    }
   ],
   "source": [
    "len(urns)"
   ]
  },
  {
   "cell_type": "code",
   "execution_count": 130,
   "metadata": {},
   "outputs": [],
   "source": [
    "book_eval = nb.wordbag_eval(words, list(urns.index))"
   ]
  },
  {
   "cell_type": "code",
   "execution_count": 119,
   "metadata": {},
   "outputs": [],
   "source": [
    "import pandas as pd"
   ]
  },
  {
   "cell_type": "code",
   "execution_count": 131,
   "metadata": {},
   "outputs": [],
   "source": [
    "book_eval.index = book_eval.index.astype(str)"
   ]
  },
  {
   "cell_type": "code",
   "execution_count": 132,
   "metadata": {},
   "outputs": [],
   "source": [
    "book_info = pd.concat([book_eval, urns], axis = 1, sort = False)"
   ]
  },
  {
   "cell_type": "code",
   "execution_count": 134,
   "metadata": {},
   "outputs": [
    {
     "data": {
      "text/html": [
       "<div>\n",
       "<style scoped>\n",
       "    .dataframe tbody tr th:only-of-type {\n",
       "        vertical-align: middle;\n",
       "    }\n",
       "\n",
       "    .dataframe tbody tr th {\n",
       "        vertical-align: top;\n",
       "    }\n",
       "\n",
       "    .dataframe thead th {\n",
       "        text-align: right;\n",
       "    }\n",
       "</style>\n",
       "<table border=\"1\" class=\"dataframe\">\n",
       "  <thead>\n",
       "    <tr style=\"text-align: right;\">\n",
       "      <th></th>\n",
       "      <th>frihet_</th>\n",
       "      <th>abort_</th>\n",
       "      <th>feminisme_</th>\n",
       "      <th>snitt</th>\n",
       "      <th>author</th>\n",
       "      <th>title</th>\n",
       "      <th>year</th>\n",
       "    </tr>\n",
       "  </thead>\n",
       "  <tbody>\n",
       "    <tr>\n",
       "      <th>2007061901015</th>\n",
       "      <td>0.0</td>\n",
       "      <td>312.0</td>\n",
       "      <td>0.0</td>\n",
       "      <td>104.000000</td>\n",
       "      <td></td>\n",
       "      <td>Seksualitet, familieplanlegging og prevensjon ...</td>\n",
       "      <td>1978</td>\n",
       "    </tr>\n",
       "    <tr>\n",
       "      <th>2007070504047</th>\n",
       "      <td>12.0</td>\n",
       "      <td>284.0</td>\n",
       "      <td>2.0</td>\n",
       "      <td>99.333333</td>\n",
       "      <td></td>\n",
       "      <td>Aktuelle problemer i medisinsk etikk</td>\n",
       "      <td>1980</td>\n",
       "    </tr>\n",
       "    <tr>\n",
       "      <th>2007062701021</th>\n",
       "      <td>5.0</td>\n",
       "      <td>278.0</td>\n",
       "      <td>5.0</td>\n",
       "      <td>96.000000</td>\n",
       "      <td>Blom, Ida</td>\n",
       "      <td>Barnebegrensning - synd eller sunn fornuft</td>\n",
       "      <td>1980</td>\n",
       "    </tr>\n",
       "    <tr>\n",
       "      <th>2007071904048</th>\n",
       "      <td>7.0</td>\n",
       "      <td>272.0</td>\n",
       "      <td>0.0</td>\n",
       "      <td>93.000000</td>\n",
       "      <td>Grünfeld, Berthold</td>\n",
       "      <td>Legal abort i Norge</td>\n",
       "      <td>1973</td>\n",
       "    </tr>\n",
       "    <tr>\n",
       "      <th>2011052708019</th>\n",
       "      <td>18.0</td>\n",
       "      <td>255.0</td>\n",
       "      <td>8.0</td>\n",
       "      <td>93.666667</td>\n",
       "      <td></td>\n",
       "      <td>Familien i dagens samfunn</td>\n",
       "      <td>1974</td>\n",
       "    </tr>\n",
       "    <tr>\n",
       "      <th>2007070901040</th>\n",
       "      <td>17.0</td>\n",
       "      <td>241.0</td>\n",
       "      <td>11.0</td>\n",
       "      <td>89.666667</td>\n",
       "      <td></td>\n",
       "      <td>Velferd for ufødte</td>\n",
       "      <td>1974</td>\n",
       "    </tr>\n",
       "    <tr>\n",
       "      <th>2012092106022</th>\n",
       "      <td>6.0</td>\n",
       "      <td>236.0</td>\n",
       "      <td>1.0</td>\n",
       "      <td>81.000000</td>\n",
       "      <td>Peel, John</td>\n",
       "      <td>Lærebok i prevensjon</td>\n",
       "      <td>1975</td>\n",
       "    </tr>\n",
       "    <tr>\n",
       "      <th>2015061708294</th>\n",
       "      <td>2.0</td>\n",
       "      <td>227.0</td>\n",
       "      <td>7.0</td>\n",
       "      <td>78.666667</td>\n",
       "      <td></td>\n",
       "      <td>\"... ufødt liv har óg en mening ...\"</td>\n",
       "      <td>1978</td>\n",
       "    </tr>\n",
       "    <tr>\n",
       "      <th>2015030208040</th>\n",
       "      <td>4.0</td>\n",
       "      <td>195.0</td>\n",
       "      <td>24.0</td>\n",
       "      <td>74.333333</td>\n",
       "      <td>Skivenes, Arne</td>\n",
       "      <td>Kvinnerelevante artikler i norske tidsskrifter</td>\n",
       "      <td>1980</td>\n",
       "    </tr>\n",
       "    <tr>\n",
       "      <th>2007080101041</th>\n",
       "      <td>8.0</td>\n",
       "      <td>181.0</td>\n",
       "      <td>0.0</td>\n",
       "      <td>63.000000</td>\n",
       "      <td></td>\n",
       "      <td>Abort og menneskeverd</td>\n",
       "      <td>1970</td>\n",
       "    </tr>\n",
       "  </tbody>\n",
       "</table>\n",
       "</div>"
      ],
      "text/plain": [
       "               frihet_  abort_  feminisme_       snitt              author  \\\n",
       "2007061901015      0.0   312.0         0.0  104.000000                       \n",
       "2007070504047     12.0   284.0         2.0   99.333333                       \n",
       "2007062701021      5.0   278.0         5.0   96.000000           Blom, Ida   \n",
       "2007071904048      7.0   272.0         0.0   93.000000  Grünfeld, Berthold   \n",
       "2011052708019     18.0   255.0         8.0   93.666667                       \n",
       "2007070901040     17.0   241.0        11.0   89.666667                       \n",
       "2012092106022      6.0   236.0         1.0   81.000000          Peel, John   \n",
       "2015061708294      2.0   227.0         7.0   78.666667                       \n",
       "2015030208040      4.0   195.0        24.0   74.333333      Skivenes, Arne   \n",
       "2007080101041      8.0   181.0         0.0   63.000000                       \n",
       "\n",
       "                                                           title  year  \n",
       "2007061901015  Seksualitet, familieplanlegging og prevensjon ...  1978  \n",
       "2007070504047               Aktuelle problemer i medisinsk etikk  1980  \n",
       "2007062701021         Barnebegrensning - synd eller sunn fornuft  1980  \n",
       "2007071904048                                Legal abort i Norge  1973  \n",
       "2011052708019                          Familien i dagens samfunn  1974  \n",
       "2007070901040                                 Velferd for ufødte  1974  \n",
       "2012092106022                               Lærebok i prevensjon  1975  \n",
       "2015061708294               \"... ufødt liv har óg en mening ...\"  1978  \n",
       "2015030208040     Kvinnerelevante artikler i norske tidsskrifter  1980  \n",
       "2007080101041                              Abort og menneskeverd  1970  "
      ]
     },
     "execution_count": 134,
     "metadata": {},
     "output_type": "execute_result"
    }
   ],
   "source": [
    "book_info.sort_values(by = book_info.columns[1], ascending=False).head(10)"
   ]
  },
  {
   "cell_type": "code",
   "execution_count": null,
   "metadata": {},
   "outputs": [],
   "source": []
  },
  {
   "cell_type": "code",
   "execution_count": null,
   "metadata": {},
   "outputs": [],
   "source": []
  }
 ],
 "metadata": {
  "kernelspec": {
   "display_name": "Python 3.7.3 64-bit (virtualenv)",
   "language": "python",
   "name": "python37364bitvirtualenv98b85a18232b4f90bb6b98d488534097"
  },
  "language_info": {
   "codemirror_mode": {
    "name": "ipython",
    "version": 3
   },
   "file_extension": ".py",
   "mimetype": "text/x-python",
   "name": "python",
   "nbconvert_exporter": "python",
   "pygments_lexer": "ipython3",
   "version": "3.7.3"
  }
 },
 "nbformat": 4,
 "nbformat_minor": 2
}

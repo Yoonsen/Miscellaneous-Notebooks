{
 "cells": [
  {
   "cell_type": "markdown",
   "metadata": {},
   "source": [
    " kilder om stedsnavn i Vikingtiden som inneholder \"torp\" eller “seter”. \n",
    " \n",
    " Jeg har en annen kollega som er interessert i dette:  litteratur som omhandler hva som ble praktisert i en periode da menneskeofring avgikk som «vanlig» praksis. Fra Jesu Kristi korsfestelse (eller kristingen av Norge) gikk det slutt på menneskeofring. Finnes det littertaur/forskning (gjerne historisk antropologisk litteratur) som belyser hva som forgikk etter dette – finnes det litteratur/forskning som belyser hva som ble praktisert i en overgangs periode, fra praksisen med menneskeofring ble avskaffet med kristendommen? Ved en feiltakelse sa jeg til henne at vi skulle ta for oss hennes case neste gang, men jeg husket feil! Jeg trodde det var en stedsnavn-case hun hadde, men det er det jo ikke akkurat! Jeg begynte å se litt på denne nå. Nifse saker. "
   ]
  },
  {
   "cell_type": "markdown",
   "metadata": {},
   "source": [
    "Hvordan brukes ordet Santiago - finn den rette"
   ]
  },
  {
   "cell_type": "markdown",
   "metadata": {},
   "source": [
    "navneendring\n",
    "\n",
    "fagreferenter"
   ]
  },
  {
   "cell_type": "code",
   "execution_count": null,
   "metadata": {},
   "outputs": [],
   "source": []
  }
 ],
 "metadata": {
  "kernelspec": {
   "display_name": "Python 3",
   "language": "python",
   "name": "python3"
  },
  "language_info": {
   "codemirror_mode": {
    "name": "ipython",
    "version": 3
   },
   "file_extension": ".py",
   "mimetype": "text/x-python",
   "name": "python",
   "nbconvert_exporter": "python",
   "pygments_lexer": "ipython3",
   "version": "3.7.3"
  }
 },
 "nbformat": 4,
 "nbformat_minor": 2
}

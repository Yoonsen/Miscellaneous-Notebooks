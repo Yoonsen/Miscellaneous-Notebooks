{
 "cells": [
  {
   "cell_type": "code",
   "execution_count": 15,
   "metadata": {},
   "outputs": [
    {
     "data": {
      "text/html": [
       "<style>@import url(\n",
       "http://fonts.googleapis.com/css?family=Lato|Philosopher|Montserrat|Source+Code+Pro|Istok+Web|Philosopher|Assistant:200,400,700);\n",
       "\n",
       "/*\n",
       "#notebook-container {\n",
       "\t-webkit-box-shadow: none;\n",
       "\tbox-shadow: none;\n",
       "}\n",
       "*/\n",
       "\n",
       "h1, h2, h3, h4, h5, h6 {\n",
       "\tfont-family: 'Montserrat', sans-serif;\n",
       "\tline-height: 2em;\n",
       "    color: #004f99;\n",
       "    font-weight: 600;\n",
       "}\n",
       "\n",
       "h1 { font-size: 4.5em; }\n",
       "h2 { font-size: 4em; }\n",
       "h3 { font-size: 3.5em; }\n",
       "h4 { font-size: 3em; }\n",
       "h5 { font-size: 2.5em; color:DarkSlateGray; }\n",
       "h6 { font-size: 2em; }\n",
       "\n",
       "p {\n",
       "\tfont-family: 'Assistant', sans-serif; \n",
       "\tfont-size: 1.2em;\n",
       "\tline-height: 1.4em;\n",
       "\tcolor: black;\n",
       "}\n",
       "p code {\n",
       "\tfont-size:0.9em;\n",
       "}\n",
       "div.input_area {\n",
       "\tborder:none !important;\n",
       "\tborder-left:1px solid #ff851b !important\n",
       "}\n",
       "\n",
       "span.cm-keyword {\n",
       "\tcolor:#339966 !important;\n",
       "}\n",
       "span.nn {  /*span.cm-variable, span.cm-property*/\n",
       "\tcolor: #3399ff !important;\n",
       "}\n",
       "div.CodeMirror {\n",
       "\tfont-family: 'Inconsolata', monospace;\n",
       "\tfont-size: 1.1em;\n",
       "\t\n",
       "}\n",
       "</style>"
      ],
      "text/plain": [
       "<IPython.core.display.HTML object>"
      ]
     },
     "execution_count": 15,
     "metadata": {},
     "output_type": "execute_result"
    }
   ],
   "source": [
    "import dhlab.nbtext as nb\n",
    "import dhlab.module_update as mu\n",
    "import json\n",
    "import requests\n",
    "import os\n",
    "#import Levenshtein as lev\n",
    "mu.css()"
   ]
  },
  {
   "cell_type": "code",
   "execution_count": 16,
   "metadata": {},
   "outputs": [],
   "source": [
    "AVSNITTMAPPE = \"Avsnitt_november/\""
   ]
  },
  {
   "cell_type": "code",
   "execution_count": 17,
   "metadata": {},
   "outputs": [],
   "source": [
    "#!pip install fuzzywuzzy"
   ]
  },
  {
   "cell_type": "code",
   "execution_count": 18,
   "metadata": {},
   "outputs": [],
   "source": [
    "#!pip install python-Levenshtein"
   ]
  },
  {
   "cell_type": "code",
   "execution_count": 19,
   "metadata": {},
   "outputs": [],
   "source": [
    "from fuzzywuzzy import fuzz"
   ]
  },
  {
   "cell_type": "code",
   "execution_count": 20,
   "metadata": {},
   "outputs": [],
   "source": [
    "def get_paragraphs(urn, paras):\n",
    "    \"\"\"Return paragraphs for urn\"\"\"\n",
    "    param = dict()\n",
    "    param['paragraphs'] = paras\n",
    "    param['urn'] = urn\n",
    "    r = requests.get(\"https://api.nb.no/ngram/paragraphs\", json=param)\n",
    "    return r.json()"
   ]
  },
  {
   "cell_type": "code",
   "execution_count": 21,
   "metadata": {},
   "outputs": [],
   "source": [
    "def get_para(para_list):\n",
    "    import ast\n",
    "    paras = []\n",
    "    for p in para_list:\n",
    "        paras.append(ast.literal_eval(p))\n",
    "    urns = [x[0] for x in paras]\n",
    "    paradict = {u:[x[1] for x in paras if x[0] == u] for u in urns}\n",
    "    paragraphs = dict()\n",
    "    for u in paradict:\n",
    "        paragraphs[u] = get_paragraphs(u, paradict[u])\n",
    "    return paragraphs\n"
   ]
  },
  {
   "cell_type": "code",
   "execution_count": 22,
   "metadata": {},
   "outputs": [],
   "source": [
    "def find_theme(title, themes):\n",
    "    from collections import Counter\n",
    "    dist = Counter()\n",
    "    for th in themes:\n",
    "        dist[th] = fuzz.ratio(th, title)\n",
    "    x = dist.most_common(1)[0][0]\n",
    "    if dist[x] > 60:\n",
    "        res = x\n",
    "    else:\n",
    "        res = \"\"\n",
    "    return res"
   ]
  },
  {
   "cell_type": "code",
   "execution_count": 23,
   "metadata": {},
   "outputs": [],
   "source": [
    "def show_paras(title, themes):\n",
    "    avsnitt = json.load(open(title))\n",
    "    paras = get_para(avsnitt)\n",
    "    theme = find_theme(title, themes)\n",
    "    words = [w for hyperlexeme in themes[theme] for w in themes[theme][hyperlexeme]]\n",
    "    ptext = \"<h2>\" + theme + \"</h2>\"\n",
    "    ptext += \"<h3\" + ', '.join(themes[theme].keys()) + \"</h3>\"\n",
    "    for urn in paras:\n",
    "        ptext += \"<h4> <a href='\" + link(urn) +\"'\" + \"target=_>\" + ', '.join([str(x) for x in nb.metadata(urn)[0][1:4]]) + \"</a>\"\n",
    "        for paranum in paras[urn]:\n",
    "            ptext += \"<h4>\" + paranum + '</h4>'\n",
    "            modified = paras[urn][paranum]\n",
    "            #print(modified)\n",
    "            for w in words:\n",
    "                #print(w)\n",
    "                modified = modified.replace(\" \"+w+\" \", \" <b>\" + w + \"</b> \")\n",
    "            ptext += modified + '\\n\\n'\n",
    "    return ptext"
   ]
  },
  {
   "cell_type": "code",
   "execution_count": 24,
   "metadata": {},
   "outputs": [],
   "source": [
    "with open('heidis_temadefinisjoner_november.json') as f:\n",
    "    themes = json.load(f)"
   ]
  },
  {
   "cell_type": "code",
   "execution_count": 25,
   "metadata": {},
   "outputs": [],
   "source": [
    "link = lambda x: \"https://urn.nb.no/URN:NBN:no-nb_digibok_\" + str(x)"
   ]
  },
  {
   "cell_type": "code",
   "execution_count": 26,
   "metadata": {},
   "outputs": [
    {
     "name": "stdout",
     "output_type": "stream",
     "text": [
      "5\n",
      "“Kvindens Sandhed” (Minst 3 av 4).\n",
      "“Kvinde, lesning og religion” (Minst 4 av 5)\n",
      "“Forfatterinder og religion”  (Minst 3 av 4)\n",
      "“Kvindens posisjon” (Minst 4 av 6)\n",
      "“Kvinden og offentlig hygiene” (Minst 4 av 6)\n"
     ]
    }
   ],
   "source": [
    "print(len(themes))\n",
    "for th in themes:\n",
    "    print(th)"
   ]
  },
  {
   "cell_type": "code",
   "execution_count": 27,
   "metadata": {},
   "outputs": [],
   "source": [
    "#themes"
   ]
  },
  {
   "cell_type": "code",
   "execution_count": 28,
   "metadata": {},
   "outputs": [],
   "source": [
    "#themes[find_theme('forfatter og religion', themes)]"
   ]
  },
  {
   "cell_type": "code",
   "execution_count": 29,
   "metadata": {},
   "outputs": [],
   "source": [
    "import os\n",
    "r,d,f = next(os.walk(\".\"))\n",
    "jsons = [fs for fs in f if fs.endswith('.json')]\n",
    "files = {f:find_theme(f, themes) for f in jsons if find_theme(f, themes) != ''}"
   ]
  },
  {
   "cell_type": "code",
   "execution_count": 30,
   "metadata": {},
   "outputs": [
    {
     "name": "stdout",
     "output_type": "stream",
     "text": [
      "5\n"
     ]
    },
    {
     "data": {
      "text/plain": [
       "{'Forfatterinder og religion  Minst 3 av 4.json': '“Forfatterinder og religion”  (Minst 3 av 4)',\n",
       " 'Kvinde lesning og religion Minst 4 av 5.json': '“Kvinde, lesning og religion” (Minst 4 av 5)',\n",
       " 'Kvinden og offentlig hygiene Minst 4 av 6.json': '“Kvinden og offentlig hygiene” (Minst 4 av 6)',\n",
       " 'Kvindens posisjon Minst 4 av 6.json': '“Kvindens posisjon” (Minst 4 av 6)',\n",
       " 'Kvindens Sandhed Minst 3 av 4.json': '“Kvindens Sandhed” (Minst 3 av 4).'}"
      ]
     },
     "execution_count": 30,
     "metadata": {},
     "output_type": "execute_result"
    }
   ],
   "source": [
    "print(len(files))\n",
    "files"
   ]
  },
  {
   "cell_type": "code",
   "execution_count": 31,
   "metadata": {},
   "outputs": [
    {
     "name": "stdout",
     "output_type": "stream",
     "text": [
      "Forfatterinder og religion  Minst 3 av 4\n",
      "Kvinde lesning og religion Minst 4 av 5\n",
      "Kvinden og offentlig hygiene Minst 4 av 6\n",
      "Kvindens posisjon Minst 4 av 6\n",
      "Kvindens Sandhed Minst 3 av 4\n"
     ]
    }
   ],
   "source": [
    "for f in files:\n",
    "    print(f.split('.json')[0])"
   ]
  },
  {
   "cell_type": "code",
   "execution_count": 32,
   "metadata": {},
   "outputs": [
    {
     "name": "stdout",
     "output_type": "stream",
     "text": [
      "Forfatterinder og religion  Minst 3 av 4.json\n",
      "Kvinde lesning og religion Minst 4 av 5.json\n",
      "Kvinden og offentlig hygiene Minst 4 av 6.json\n",
      "Kvindens posisjon Minst 4 av 6.json\n",
      "Kvindens Sandhed Minst 3 av 4.json\n"
     ]
    }
   ],
   "source": [
    "res = \"\"\n",
    "for f in files:\n",
    "    print(f)\n",
    "    newfilename = f.split('.json')[0] + '_avsnitt.html'\n",
    "    res = show_paras(f, themes) + \"\\n\"\n",
    "    with open(os.path.join(AVSNITTMAPPE, newfilename), \"w\", encoding='utf-8') as html:\n",
    "        html.write(res)"
   ]
  },
  {
   "cell_type": "code",
   "execution_count": null,
   "metadata": {},
   "outputs": [],
   "source": []
  }
 ],
 "metadata": {
  "kernelspec": {
   "display_name": "Python 3",
   "language": "python",
   "name": "python3"
  },
  "language_info": {
   "codemirror_mode": {
    "name": "ipython",
    "version": 3
   },
   "file_extension": ".py",
   "mimetype": "text/x-python",
   "name": "python",
   "nbconvert_exporter": "python",
   "pygments_lexer": "ipython3",
   "version": "3.7.3"
  }
 },
 "nbformat": 4,
 "nbformat_minor": 2
}

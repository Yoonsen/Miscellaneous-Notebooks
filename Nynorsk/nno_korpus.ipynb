{
 "cells": [
  {
   "cell_type": "markdown",
   "metadata": {},
   "source": [
    "Språksamlingene\n",
    "\n",
    "nynorskkorpuset 100 millioner ord.\n",
    "bokmålskorpuset 100 millioner ord.\n",
    "\n",
    "IT-avdeling, høgskulen i Volda\n",
    "\n",
    "Styringsgrupper - kontrakt og avtaler mellom UiB og Språkrådet.\n",
    "\n",
    "Arbeidsdeling mellom NBs samlinger og nynorskkorpuset\n",
    "\n",
    "Stadnamsatlas - klart i løpet av 2021 en gang.\n"
   ]
  },
  {
   "cell_type": "code",
   "execution_count": 1,
   "metadata": {},
   "outputs": [],
   "source": [
    "import dhlab.nbtext as  nb"
   ]
  },
  {
   "cell_type": "code",
   "execution_count": 2,
   "metadata": {},
   "outputs": [],
   "source": [
    "import dhlab.module_update as mu"
   ]
  },
  {
   "cell_type": "code",
   "execution_count": 3,
   "metadata": {},
   "outputs": [
    {
     "data": {
      "text/markdown": [
       "Updated file `C:\\Users\\yoons\\Documents\\GitHub\\Miscellaneous-Notebooks\\Nynorsk\\collocations.py`"
      ],
      "text/plain": [
       "<IPython.core.display.Markdown object>"
      ]
     },
     "metadata": {},
     "output_type": "display_data"
    }
   ],
   "source": [
    "mu.update(\"collocations\")"
   ]
  },
  {
   "cell_type": "code",
   "execution_count": 4,
   "metadata": {},
   "outputs": [],
   "source": [
    "import collocations as col"
   ]
  },
  {
   "cell_type": "code",
   "execution_count": 8,
   "metadata": {},
   "outputs": [],
   "source": [
    "nno = nb.book_corpus(lang='nno', limit=40000)"
   ]
  },
  {
   "cell_type": "code",
   "execution_count": 9,
   "metadata": {},
   "outputs": [
    {
     "data": {
      "text/plain": [
       "32291"
      ]
     },
     "execution_count": 9,
     "metadata": {},
     "output_type": "execute_result"
    }
   ],
   "source": [
    "len(nno)"
   ]
  },
  {
   "cell_type": "code",
   "execution_count": null,
   "metadata": {},
   "outputs": [],
   "source": [
    "list(nno.urn[5:299])"
   ]
  },
  {
   "cell_type": "code",
   "execution_count": 15,
   "metadata": {},
   "outputs": [
    {
     "name": "stdout",
     "output_type": "stream",
     "text": [
      "0\n",
      "300\n",
      "600\n",
      "900\n",
      "1200\n",
      "1500\n",
      "1800\n",
      "noe gikk galt 1800\n",
      "2100\n",
      "2400\n",
      "2700\n",
      "3000\n",
      "3300\n",
      "3600\n",
      "3900\n",
      "noe gikk galt 3900\n",
      "4200\n",
      "noe gikk galt 4200\n",
      "4500\n",
      "noe gikk galt 4500\n",
      "4800\n",
      "noe gikk galt 4800\n",
      "5100\n",
      "noe gikk galt 5100\n",
      "5400\n",
      "noe gikk galt 5400\n",
      "5700\n",
      "noe gikk galt 5700\n",
      "6000\n",
      "noe gikk galt 6000\n",
      "6300\n",
      "noe gikk galt 6300\n",
      "6600\n",
      "noe gikk galt 6600\n",
      "6900\n"
     ]
    },
    {
     "name": "stderr",
     "output_type": "stream",
     "text": [
      "From cffi callback <function _verify_callback at 0x000001F160F6BE18>:\n",
      "Traceback (most recent call last):\n",
      "  File \"C:\\Users\\yoons\\Anaconda3\\lib\\site-packages\\OpenSSL\\SSL.py\", line 311, in wrapper\n",
      "    @wraps(callback)\n",
      "KeyboardInterrupt\n"
     ]
    },
    {
     "name": "stdout",
     "output_type": "stream",
     "text": [
      "noe gikk galt 6900\n",
      "7200\n",
      "noe gikk galt 7200\n",
      "7500\n",
      "noe gikk galt 7500\n",
      "7800\n",
      "noe gikk galt 7800\n",
      "8100\n",
      "noe gikk galt 8100\n",
      "8400\n",
      "noe gikk galt 8400\n",
      "8700\n",
      "noe gikk galt 8700\n",
      "9000\n"
     ]
    },
    {
     "name": "stderr",
     "output_type": "stream",
     "text": [
      "From cffi callback <function _verify_callback at 0x000001F160F6B1E0>:\n",
      "Traceback (most recent call last):\n",
      "  File \"C:\\Users\\yoons\\Anaconda3\\lib\\site-packages\\OpenSSL\\SSL.py\", line 311, in wrapper\n",
      "    @wraps(callback)\n",
      "KeyboardInterrupt\n"
     ]
    },
    {
     "name": "stdout",
     "output_type": "stream",
     "text": [
      "noe gikk galt 9000\n",
      "9300\n",
      "noe gikk galt 9300\n",
      "9600\n"
     ]
    },
    {
     "name": "stderr",
     "output_type": "stream",
     "text": [
      "From cffi callback <function _verify_callback at 0x000001F160F6BEA0>:\n",
      "Traceback (most recent call last):\n",
      "  File \"C:\\Users\\yoons\\Anaconda3\\lib\\site-packages\\OpenSSL\\SSL.py\", line 311, in wrapper\n",
      "    @wraps(callback)\n",
      "KeyboardInterrupt\n"
     ]
    },
    {
     "name": "stdout",
     "output_type": "stream",
     "text": [
      "noe gikk galt 9600\n",
      "9900\n",
      "noe gikk galt 9900\n",
      "10200\n",
      "noe gikk galt 10200\n",
      "10500\n",
      "noe gikk galt 10500\n",
      "10800\n",
      "noe gikk galt 10800\n",
      "11100\n",
      "noe gikk galt 11100\n",
      "11400\n",
      "noe gikk galt 11400\n",
      "11700\n",
      "noe gikk galt 11700\n",
      "12000\n",
      "noe gikk galt 12000\n",
      "12300\n",
      "noe gikk galt 12300\n",
      "12600\n",
      "noe gikk galt 12600\n",
      "12900\n",
      "noe gikk galt 12900\n",
      "13200\n",
      "noe gikk galt 13200\n",
      "13500\n",
      "noe gikk galt 13500\n",
      "13800\n",
      "noe gikk galt 13800\n",
      "14100\n",
      "noe gikk galt 14100\n",
      "14400\n",
      "noe gikk galt 14400\n",
      "14700\n",
      "noe gikk galt 14700\n",
      "15000\n",
      "noe gikk galt 15000\n",
      "15300\n",
      "noe gikk galt 15300\n",
      "15600\n",
      "noe gikk galt 15600\n",
      "15900\n",
      "noe gikk galt 15900\n",
      "16200\n",
      "noe gikk galt 16200\n",
      "16500\n",
      "noe gikk galt 16500\n",
      "16800\n",
      "noe gikk galt 16800\n",
      "17100\n",
      "noe gikk galt 17100\n",
      "17400\n",
      "noe gikk galt 17400\n",
      "17700\n",
      "noe gikk galt 17700\n",
      "18000\n",
      "noe gikk galt 18000\n",
      "18300\n",
      "noe gikk galt 18300\n"
     ]
    },
    {
     "ename": "KeyboardInterrupt",
     "evalue": "",
     "output_type": "error",
     "traceback": [
      "\u001b[1;31m---------------------------------------------------------------------------\u001b[0m",
      "\u001b[1;31mKeyboardInterrupt\u001b[0m                         Traceback (most recent call last)",
      "\u001b[1;32m<ipython-input-15-84df308b0772>\u001b[0m in \u001b[0;36m<module>\u001b[1;34m\u001b[0m\n\u001b[0;32m      6\u001b[0m         \u001b[0maggs\u001b[0m\u001b[1;33m.\u001b[0m\u001b[0mappend\u001b[0m\u001b[1;33m(\u001b[0m\u001b[0mnb\u001b[0m\u001b[1;33m.\u001b[0m\u001b[0mget_aggregated_corpus\u001b[0m\u001b[1;33m(\u001b[0m\u001b[0mlist\u001b[0m\u001b[1;33m(\u001b[0m\u001b[0mnno\u001b[0m\u001b[1;33m.\u001b[0m\u001b[0murn\u001b[0m\u001b[1;33m[\u001b[0m\u001b[0mi\u001b[0m\u001b[1;33m:\u001b[0m\u001b[0mi\u001b[0m\u001b[1;33m+\u001b[0m\u001b[0mstep\u001b[0m\u001b[1;33m]\u001b[0m\u001b[1;33m)\u001b[0m\u001b[1;33m)\u001b[0m\u001b[1;33m)\u001b[0m\u001b[1;33m\u001b[0m\u001b[1;33m\u001b[0m\u001b[0m\n\u001b[0;32m      7\u001b[0m     \u001b[1;32mexcept\u001b[0m\u001b[1;33m:\u001b[0m\u001b[1;33m\u001b[0m\u001b[1;33m\u001b[0m\u001b[0m\n\u001b[1;32m----> 8\u001b[1;33m         \u001b[0mprint\u001b[0m\u001b[1;33m(\u001b[0m\u001b[1;34m'noe gikk galt'\u001b[0m\u001b[1;33m,\u001b[0m \u001b[0mi\u001b[0m\u001b[1;33m)\u001b[0m\u001b[1;33m\u001b[0m\u001b[1;33m\u001b[0m\u001b[0m\n\u001b[0m",
      "\u001b[1;31mKeyboardInterrupt\u001b[0m: "
     ]
    }
   ],
   "source": [
    "step = 300\n",
    "aggs = []\n",
    "for i in range(0, len(nno), step):\n",
    "    print(i)\n",
    "    try:\n",
    "        aggs.append(nb.get_aggregated_corpus(list(nno.urn[i:i+step])))\n",
    "    except:\n",
    "        print('noe gikk galt', i)"
   ]
  },
  {
   "cell_type": "code",
   "execution_count": 19,
   "metadata": {},
   "outputs": [],
   "source": [
    "import pandas as pd"
   ]
  },
  {
   "cell_type": "code",
   "execution_count": 20,
   "metadata": {},
   "outputs": [
    {
     "data": {
      "text/plain": [
       ".             8505838.0\n",
       ",             7012691.0\n",
       "og            4175188.0\n",
       "i             3416414.0\n",
       "det           2032193.0\n",
       "                ...    \n",
       "Gudstankar          1.0\n",
       "Gullsme             1.0\n",
       "Gunnarson-          1.0\n",
       "Haahaahaa           1.0\n",
       "09338               1.0\n",
       "Length: 3551517, dtype: float64"
      ]
     },
     "execution_count": 20,
     "metadata": {},
     "output_type": "execute_result"
    }
   ],
   "source": [
    "pd.concat(aggs, axis=1).sum(axis=1)"
   ]
  },
  {
   "cell_type": "code",
   "execution_count": 21,
   "metadata": {},
   "outputs": [],
   "source": [
    "agg = _20"
   ]
  },
  {
   "cell_type": "code",
   "execution_count": 23,
   "metadata": {},
   "outputs": [],
   "source": [
    "agg.to_csv('nno.csv')"
   ]
  },
  {
   "cell_type": "code",
   "execution_count": 28,
   "metadata": {},
   "outputs": [
    {
     "data": {
      "text/plain": [
       "155407563.0"
      ]
     },
     "execution_count": 28,
     "metadata": {},
     "output_type": "execute_result"
    }
   ],
   "source": [
    "agg.sum()"
   ]
  },
  {
   "cell_type": "code",
   "execution_count": 34,
   "metadata": {},
   "outputs": [
    {
     "data": {
      "text/plain": [
       "4390.0"
      ]
     },
     "execution_count": 34,
     "metadata": {},
     "output_type": "execute_result"
    }
   ],
   "source": [
    "agg['Volda']"
   ]
  }
 ],
 "metadata": {
  "kernelspec": {
   "display_name": "Python 3",
   "language": "python",
   "name": "python3"
  },
  "language_info": {
   "codemirror_mode": {
    "name": "ipython",
    "version": 3
   },
   "file_extension": ".py",
   "mimetype": "text/x-python",
   "name": "python",
   "nbconvert_exporter": "python",
   "pygments_lexer": "ipython3",
   "version": "3.6.10"
  }
 },
 "nbformat": 4,
 "nbformat_minor": 4
}

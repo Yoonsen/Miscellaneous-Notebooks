{
 "cells": [
  {
   "cell_type": "markdown",
   "metadata": {},
   "source": [
    "# Nye aviser"
   ]
  },
  {
   "cell_type": "code",
   "execution_count": 1,
   "metadata": {},
   "outputs": [],
   "source": [
    "import dhlab.nbtext as nb\n",
    "import dhlab.graph_networkx_louvain as gnl\n",
    "import dhlab.nbtokenizer as tok\n",
    "from dhlab.module_update import css, update, code_toggle"
   ]
  },
  {
   "cell_type": "code",
   "execution_count": 2,
   "metadata": {},
   "outputs": [],
   "source": [
    "import requests\n",
    "import pandas as pd\n",
    "import matplotlib.pyplot as plt\n",
    "import networkx as nx\n",
    "import seaborn as sns\n",
    "%matplotlib inline"
   ]
  },
  {
   "cell_type": "code",
   "execution_count": 5,
   "metadata": {},
   "outputs": [],
   "source": [
    "def get_df(frases, title='aftenposten', media='aviser'):\n",
    "    import requests\n",
    "    querystring = \" + \".join(['\"'+frase+'\"' for frase in frases])\n",
    "    query = {\n",
    "        'q':querystring,\n",
    "        'size':1,\n",
    "        'aggs':'year',\n",
    "        'filter':['mediatype:{mt}'.format(mt=media),'title:{title}'.format(title=title)]\n",
    "    }\n",
    "    r = requests.get(\"https://api.nb.no/catalog/v1/items\", params = query)\n",
    "    aggs = r.json()['_embedded']['aggregations'][0]['buckets']\n",
    "    return {x['key']:x['count'] for x in aggs}\n",
    "\n",
    "def get_json(frases, mediatype='aviser', title='*'):\n",
    "    import requests\n",
    "    querystring = \" + \".join(['\"'+frase+'\"' for frase in frases])\n",
    "    query = {\n",
    "        'q':querystring,\n",
    "        'size':1,\n",
    "        'snippets':mediatype,\n",
    "        'aggs':'year',\n",
    "        \n",
    "       'filter':['mediatype:{mt}'.format(mt=mediatype),'title:{title}'.format(title=title)],\n",
    "        'searchType':'FULL_TEXT_SEARCH'\n",
    "        #'filter':\n",
    "    }\n",
    "    r = requests.get(\"https://api.nb.no/catalog/v1/items\", params = query)\n",
    "    aggs = r.json()\n",
    "    return aggs\n",
    "\n",
    "def get_data(frase, media='aviser', title='jazznytt'):\n",
    "    import requests\n",
    "    query = {\n",
    "        'q':'\"'+frase+'\"\"',\n",
    "        'size':1,\n",
    "        'aggs':'year',\n",
    "        'filter':['mediatype:{mt}'.format(mt=media),'title:{title}'.format(title=title)]\n",
    "        \n",
    "    }\n",
    "    r = requests.get(\"https://api.nb.no/catalog/v1/items\", params = query)\n",
    "    return r.json()\n",
    "\n",
    "def get_data_and(frases, title='aftenposten', media='aviser'):\n",
    "    import requests\n",
    "    querystring = \" + \".join(['\"'+frase+'\"' for frase in frases])\n",
    "    print(querystring)\n",
    "    query = {\n",
    "        'q':querystring,\n",
    "        'size':1,\n",
    "        'aggs':'year',\n",
    "        'filter':['mediatype:{mt}'.format(mt=media), 'title:{title}'.format(title=title)],\n",
    "        #'filter':'title:{title}'.format(title=title)\n",
    "    }\n",
    "    r = requests.get(\"https://api.nb.no/catalog/v1/items\", params = query)\n",
    "    return r.json()\n",
    "\n",
    "def get_df_pd(frase, media='bøker'):\n",
    "    import pandas as pd\n",
    "    return pd.DataFrame.from_dict(get_df(frase, media=media ), orient='index').sort_index()"
   ]
  },
  {
   "cell_type": "code",
   "execution_count": 6,
   "metadata": {},
   "outputs": [],
   "source": [
    "def phrase_plots(phrase_sets, title='aftenposten', fra = 1960, til = 2020, step=5, rot=0, colours = ['r', 'b','g','y','m','c']):\n",
    "    df_all = []\n",
    "    for f in phrase_sets:\n",
    "        df_all.append(nb.frame(get_df(f, title= title), ', '.join(f)))\n",
    "    df = pd.concat(df_all, sort=False)\n",
    "    df.index = df.index.astype(int)\n",
    "    df = df.sort_index()\n",
    "    df['bins'] = pd.cut(df.index, range(fra, til, step), precision=0)\n",
    "    df.groupby('bins').sum().plot(kind='bar', color=colours, figsize=(15,5), rot=rot)\n",
    "    return\n",
    "\n",
    "def phrase_plots_anno(phrase_sets, title='aftenposten', fra = 1960, til = 2020, rot=0, colours = ['r', 'b','g']):\n",
    "    df_all = []\n",
    "    for f in phrase_sets:\n",
    "        df_all.append(nb.frame(get_df(f, title= title), ', '.join(f)))\n",
    "    df = pd.concat(df_all, sort=False)\n",
    "    df.index = df.index.astype(int)\n",
    "    df = df.sort_index()\n",
    "    #df['bins'] = pd.cut(df.index, range(fra, til, step), precision=0)\n",
    "    df.plot(kind='bar', figsize=(15,5), rot=rot, color=colours)\n",
    "    return\n",
    "\n",
    "def graph_from_df(df, threshold = 100):\n",
    "    edges =  []\n",
    "    normalizer = {(x, y): df.stack()[(x,x)]*df.stack()[(y,y)] for (x,y) in df.stack().index}\n",
    "    for (x, y) in df.stack().index:\n",
    "        if x != y:\n",
    "            if df.stack()[(x,y)] > threshold:\n",
    "                edges.append([x,y,df.stack()[(x,y)]/normalizer[(x,y)]])\n",
    "    G = nx.Graph()\n",
    "    G.add_weighted_edges_from(edges)\n",
    "    return G"
   ]
  },
  {
   "cell_type": "code",
   "execution_count": 21,
   "metadata": {},
   "outputs": [],
   "source": [
    "def super_search(title, number=50, page=0, mediatype='aviser', period = (18000101, 20401231)):\n",
    "    \"\"\"Søk etter term og få ut json\"\"\"\n",
    "    number = min(number, 50)\n",
    "    r = requests.get(\n",
    "        \"https://api.nb.no:443/catalog/v1/items\", \n",
    "         params = { \n",
    "             'filter':[\n",
    "                 'mediatype:{mediatype}'.format(mediatype=mediatype),\n",
    "                 'title:{title}'.format(title=title),\n",
    "                 'date:[{date_from} TO {date_to}]'.format(date_from = period[0], date_to = period[1])\n",
    "             ],\n",
    "             'page':page, \n",
    "             'size':number\n",
    "         }\n",
    "    )\n",
    "    return r.json()"
   ]
  },
  {
   "cell_type": "code",
   "execution_count": 82,
   "metadata": {},
   "outputs": [],
   "source": [
    "def term_urn_search(term, number=50, page=0, mediatype='aviser', period=(18000101, 20401231)):\n",
    "    \"\"\"Søk etter term og få ut json\"\"\"\n",
    "    number = min(number, 50)\n",
    "    #print(period)\n",
    "    r = requests.get(\n",
    "        \"https://api.nb.no:443/catalog/v1/search\", \n",
    "         params = { \n",
    "             'q':term,\n",
    "             'sort':'date,desc',\n",
    "            \n",
    "             'filter':[\n",
    "                 'mediatype:{mediatype}'.format(mediatype=mediatype),\n",
    "                 'date:[{date_from} TO {date_to}]'.format(date_from = period[0], date_to = period[1] )\n",
    "             ],\n",
    "             'page':page, \n",
    "             'size':number,\n",
    "             'random':'true'\n",
    "         }\n",
    "    )\n",
    "    res = r.json()\n",
    "    tot = res['totalElements']\n",
    "    if tot > 0:\n",
    "        result = res['_embedded']['mediaTypeResults'][0]['result']['_embedded']['items']\n",
    "        urns = [r['metadata']['identifiers']['urn'] for r in result]\n",
    "    else:\n",
    "        urns = []\n",
    "    return tot, urns"
   ]
  },
  {
   "cell_type": "code",
   "execution_count": 27,
   "metadata": {},
   "outputs": [],
   "source": [
    "def get_konks(urn, phrase, window=1000, n = 1000):\n",
    "    import requests\n",
    "    querystring = '\"'+ phrase +'\"' \n",
    "    query = {\n",
    "        'q':querystring,\n",
    "        'fragments': n,\n",
    "        'fragSize':window\n",
    "       \n",
    "    }\n",
    "    r = requests.get(\"https://api.nb.no/catalog/v1/items/{urn}/contentfragments\".format(urn=urn), params = query)\n",
    "    res = r.json()\n",
    "    results = []\n",
    "    try:\n",
    "        for x in res['contentFragments']:\n",
    "            urn = x['pageid']\n",
    "            hit = x['text']\n",
    "            splits = hit.split('<em>')\n",
    "            s2 = splits[1].split('</em>')\n",
    "            before = splits[0]\n",
    "            word = s2[0]\n",
    "            after = s2[1]\n",
    "            results.append({'urn': urn, 'before': before, 'word':word, 'after':after})\n",
    "    except:\n",
    "        True\n",
    "    return results"
   ]
  },
  {
   "cell_type": "code",
   "execution_count": 32,
   "metadata": {},
   "outputs": [],
   "source": [
    "def get_all_konks(term, urns):\n",
    "    konks = []\n",
    "    for u in urns:\n",
    "        konks += get_konks(u, term)\n",
    "    return konks"
   ]
  },
  {
   "cell_type": "markdown",
   "metadata": {},
   "source": [
    "Estimer antallet av et ord i aviser"
   ]
  },
  {
   "cell_type": "code",
   "execution_count": 77,
   "metadata": {},
   "outputs": [
    {
     "name": "stdout",
     "output_type": "stream",
     "text": [
      "('19600101', '19601231')\n"
     ]
    },
    {
     "data": {
      "text/plain": [
       "(1611,\n",
       " ['URN:NBN:no-nb_digavis_dagbladet_null_null_19601102_92_256_2',\n",
       "  'URN:NBN:no-nb_digavis_bergensarbeiderblad_null_null_19600615_34_136_1',\n",
       "  'URN:NBN:no-nb_digavis_adresseavisen_null_null_19601025_194_249_1',\n",
       "  'URN:NBN:no-nb_digavis_svalbardposten_null_null_19600102_12_6_1',\n",
       "  'URN:NBN:no-nb_digavis_dagbladet_null_null_19600308_92_57_1',\n",
       "  'URN:NBN:no-nb_digavis_grimstadadressetiden_null_null_19600901_105_99_1',\n",
       "  'URN:NBN:no-nb_digavis_ranablad_null_null_19600825_59_197_1',\n",
       "  'URN:NBN:no-nb_digavis_nordlandsposten_null_null_19600123_98_19_1',\n",
       "  'URN:NBN:no-nb_digavis_dagbladet_null_null_19601111_92_264_1',\n",
       "  'URN:NBN:no-nb_digavis_tromso_null_null_19600906_63_206_1',\n",
       "  'URN:NBN:no-nb_digavis_glaamdalen_null_null_19600530_35_122_1',\n",
       "  'URN:NBN:no-nb_digavis_nationen_null_null_19601123_43_274_1',\n",
       "  'URN:NBN:no-nb_digavis_norgeskvinner_null_null_19601125_40_44_1',\n",
       "  'URN:NBN:no-nb_digavis_lillehammertilskuer_null_null_19600523_117_118_1',\n",
       "  'URN:NBN:no-nb_digavis_telemarkarbeiderblad_null_null_19600227_39_49_1',\n",
       "  'URN:NBN:no-nb_digavis_finnmarkdagblad_null_null_19601203_47_213_1',\n",
       "  'URN:NBN:no-nb_digavis_aftenposten_null_null_19600416_101_177_1',\n",
       "  'URN:NBN:no-nb_digavis_dagbladet_null_null_19600602_92_126_1',\n",
       "  'URN:NBN:no-nb_digavis_nordlandsavis_null_null_19600909_67_67_1',\n",
       "  'URN:NBN:no-nb_digavis_more_null_null_19600218_58_21_1',\n",
       "  'URN:NBN:no-nb_digavis_nordlandsframtid_null_null_19601203_47_282_1',\n",
       "  'URN:NBN:no-nb_digavis_dagbladet_null_null_19600920_92_219_2',\n",
       "  'URN:NBN:no-nb_digavis_aftenposten_null_null_19601019_101_484_1',\n",
       "  'URN:NBN:no-nb_digavis_stavangeraftenblad_null_null_19601222_68_299_1',\n",
       "  'URN:NBN:no-nb_digavis_friheten_null_null_19600422_20_91_1',\n",
       "  'URN:NBN:no-nb_digavis_varden_null_null_19601202_86_280_1',\n",
       "  'URN:NBN:no-nb_digavis_friheten_null_null_19601008_20_234_1',\n",
       "  'URN:NBN:no-nb_digavis_nordlandsframtid_null_null_19600919_47_217_1',\n",
       "  'URN:NBN:no-nb_digavis_morgenposten_null_null_19600225_100_47_1',\n",
       "  'URN:NBN:no-nb_digavis_verdensgang_null_null_19600616_16_137_1',\n",
       "  'URN:NBN:no-nb_digavis_faedrelandsvennen_null_null_19600831_84_201_1',\n",
       "  'URN:NBN:no-nb_digavis_verdensgang_null_null_19601117_16_269_1',\n",
       "  'URN:NBN:no-nb_digavis_fiskaren_null_null_19601228_37_53_1',\n",
       "  'URN:NBN:no-nb_digavis_haugesundsavis_null_null_19600205_65_30_1',\n",
       "  'URN:NBN:no-nb_digavis_dalanetidende_null_null_19600210_76_17_1',\n",
       "  'URN:NBN:no-nb_digavis_opplandarbeiderblad_null_null_19601202_37_281_1',\n",
       "  'URN:NBN:no-nb_digavis_bergensarbeiderblad_null_null_19600531_34_124_1',\n",
       "  'URN:NBN:no-nb_digavis_friheten_null_null_19600916_20_224_1',\n",
       "  'URN:NBN:no-nb_digavis_bergensarbeiderblad_null_null_19600829_34_200_1',\n",
       "  'URN:NBN:no-nb_digavis_lofotposten_null_null_19600312_65_61_1',\n",
       "  'URN:NBN:no-nb_digavis_bergenstidende_null_null_19600113_93_10_1',\n",
       "  'URN:NBN:no-nb_digavis_tidenskrav_null_null_19600217_51_40_1',\n",
       "  'URN:NBN:no-nb_digavis_bergenstidende_null_null_19600624_93_144_1',\n",
       "  'URN:NBN:no-nb_digavis_aftenposten_null_null_19600322_101_137_1',\n",
       "  'URN:NBN:no-nb_digavis_innherredsfolkebladv_null_null_19600902_59_69_1',\n",
       "  'URN:NBN:no-nb_digavis_demokraten_null_null_19600611_54_132_1',\n",
       "  'URN:NBN:no-nb_digavis_arbeiderbladetoslo_null_null_19600113_73_10_1',\n",
       "  'URN:NBN:no-nb_digavis_bergenstidende_null_null_19600816_93_189_1',\n",
       "  'URN:NBN:no-nb_digavis_sognogfjordane_null_null_19600311_28_30_1',\n",
       "  'URN:NBN:no-nb_digavis_norgeshandelsogsjoefartstidende_null_null_19601118_71_269_1'])"
      ]
     },
     "execution_count": 77,
     "metadata": {},
     "output_type": "execute_result"
    }
   ],
   "source": [
    "term_urn_search('likestilling', period=('19600101', '19601231'))"
   ]
  },
  {
   "cell_type": "code",
   "execution_count": 76,
   "metadata": {},
   "outputs": [
    {
     "data": {
      "text/plain": [
       "1611"
      ]
     },
     "execution_count": 76,
     "metadata": {},
     "output_type": "execute_result"
    }
   ],
   "source": [
    "tot"
   ]
  },
  {
   "cell_type": "code",
   "execution_count": 81,
   "metadata": {},
   "outputs": [
    {
     "name": "stdout",
     "output_type": "stream",
     "text": [
      "1960\n",
      "('19600101', '19601231')\n",
      "1961\n",
      "('19610101', '19611231')\n"
     ]
    }
   ],
   "source": [
    "totals = []\n",
    "urn_tots = []\n",
    "for i in range(1960, 1962):\n",
    "    print(i)\n",
    "    t, u = term_urn_search('likestilling', period=('{y}0101'.format(y=i), '{y}1231'.format(y=i)))\n",
    "    totals.append(t)\n",
    "    urn_tots.append(u)"
   ]
  },
  {
   "cell_type": "code",
   "execution_count": 83,
   "metadata": {},
   "outputs": [
    {
     "data": {
      "text/plain": [
       "[1611, 1516]"
      ]
     },
     "execution_count": 83,
     "metadata": {},
     "output_type": "execute_result"
    }
   ],
   "source": [
    "totals"
   ]
  },
  {
   "cell_type": "code",
   "execution_count": 80,
   "metadata": {},
   "outputs": [
    {
     "name": "stdout",
     "output_type": "stream",
     "text": [
      "('19600101', '19601231')\n"
     ]
    },
    {
     "data": {
      "text/plain": [
       "(1611,\n",
       " ['URN:NBN:no-nb_digavis_finnmarksposten_null_null_19600130_95_12_1',\n",
       "  'URN:NBN:no-nb_digavis_varden_null_null_19601207_86_284_1',\n",
       "  'URN:NBN:no-nb_digavis_dagbladet_null_null_19600223_92_45_1',\n",
       "  'URN:NBN:no-nb_digavis_mossavis_null_null_19601026_86_249_1',\n",
       "  'URN:NBN:no-nb_digavis_friheten_null_null_19601021_20_245_1',\n",
       "  'URN:NBN:no-nb_digavis_aftenposten_null_null_19601004_101_458_1',\n",
       "  'URN:NBN:no-nb_digavis_finnmarksposten_null_null_19600123_95_9_1',\n",
       "  'URN:NBN:no-nb_digavis_adresseavisen_null_null_19600426_194_96_1',\n",
       "  'URN:NBN:no-nb_digavis_osterdolen_null_null_19601115_60_266_1',\n",
       "  'URN:NBN:no-nb_digavis_dagbladet_null_null_19601214_92_292_2',\n",
       "  'URN:NBN:no-nb_digavis_stavangeraftenblad_null_null_19600629_68_148_1',\n",
       "  'URN:NBN:no-nb_digavis_bergenstidende_null_null_19601124_93_275_1',\n",
       "  'URN:NBN:no-nb_digavis_nationen_null_null_19600920_43_219_1',\n",
       "  'URN:NBN:no-nb_digavis_varden_null_null_19600212_86_36_1',\n",
       "  'URN:NBN:no-nb_digavis_nordlandsposten_null_null_19600504_98_102_1',\n",
       "  'URN:NBN:no-nb_digavis_morgenbladet_null_null_19600625_142_145_2',\n",
       "  'URN:NBN:no-nb_digavis_nordlandsposten_null_null_19600301_98_51_1',\n",
       "  'URN:NBN:no-nb_digavis_norgeshandelsogsjoefartstidende_null_null_19601015_71_240_1',\n",
       "  'URN:NBN:no-nb_digavis_stavangeraftenblad_null_null_19600827_68_199_1',\n",
       "  'URN:NBN:no-nb_digavis_svelviksposten_null_null_19601216_76_97_1',\n",
       "  'URN:NBN:no-nb_digavis_demokraten_null_null_19601012_54_237_1',\n",
       "  'URN:NBN:no-nb_digavis_eidsvoldblad_null_null_19601219_60_148_1',\n",
       "  'URN:NBN:no-nb_digavis_varden_null_null_19600917_86_215_1',\n",
       "  'URN:NBN:no-nb_digavis_nordisktidende_null_null_19600331_70_13_1',\n",
       "  'URN:NBN:no-nb_digavis_bergenstidende_null_null_19600903_93_205_1',\n",
       "  'URN:NBN:no-nb_digavis_morgenbladet_null_null_19601011_142_237_1',\n",
       "  'URN:NBN:no-nb_digavis_sorvarangeravis_null_null_19600817_12_63_1',\n",
       "  'URN:NBN:no-nb_digavis_aftenposten_null_null_19601001_101_454_1',\n",
       "  'URN:NBN:no-nb_digavis_aftenposten_null_null_19600413_101_175_1',\n",
       "  'URN:NBN:no-nb_digavis_dagbladet_null_null_19601111_92_264_1',\n",
       "  'URN:NBN:no-nb_digavis_morgenposten_null_null_19601116_100_268_1',\n",
       "  'URN:NBN:no-nb_digavis_haugesundsavis_null_null_19601202_65_282_1',\n",
       "  'URN:NBN:no-nb_digavis_norgeshandelsogsjoefartstidende_null_null_19600129_71_24_1',\n",
       "  'URN:NBN:no-nb_digavis_namdalarbeiderblad_null_null_19600526_43_60_1',\n",
       "  'URN:NBN:no-nb_digavis_nordlandsframtid_null_null_19600322_47_68_1',\n",
       "  'URN:NBN:no-nb_digavis_stavangeraftenblad_null_null_19600111_68_8_1',\n",
       "  'URN:NBN:no-nb_digavis_morgenposten_null_null_19600411_100_86_1',\n",
       "  'URN:NBN:no-nb_digavis_vestfinnmarkarbeiderblad_null_null_19600104_47_1_1',\n",
       "  'URN:NBN:no-nb_digavis_finnmarkdagblad_null_null_19601008_47_165_1',\n",
       "  'URN:NBN:no-nb_digavis_grimstadadressetiden_null_null_19600331_105_38_1',\n",
       "  'URN:NBN:no-nb_digavis_stavangeraftenblad_null_null_19600613_68_134_1',\n",
       "  'URN:NBN:no-nb_digavis_bergensarbeiderblad_null_null_19600616_34_137_1',\n",
       "  'URN:NBN:no-nb_digavis_lillehammertilskuer_null_null_19600622_117_142_1',\n",
       "  'URN:NBN:no-nb_digavis_friheten_null_null_19601008_20_234_1',\n",
       "  'URN:NBN:no-nb_digavis_fremover_null_null_19600701_58_149_1',\n",
       "  'URN:NBN:no-nb_digavis_glaamdalen_null_null_19601101_35_254_1',\n",
       "  'URN:NBN:no-nb_digavis_nordlandsavis_null_null_19600129_66_8_1',\n",
       "  'URN:NBN:no-nb_digavis_akershus_null_null_19601102_74_113_1',\n",
       "  'URN:NBN:no-nb_digavis_helgelandarbeiderbla_null_null_19600620_31_71_1',\n",
       "  'URN:NBN:no-nb_digavis_norgeshandelsogsjoefartstidende_null_null_19600204_71_29_1'])"
      ]
     },
     "execution_count": 80,
     "metadata": {},
     "output_type": "execute_result"
    }
   ],
   "source": [
    "term_urn_search('likestilling', period=('{y}0101'.format(y=i), '{y}1231'.format(y=i)))"
   ]
  },
  {
   "cell_type": "code",
   "execution_count": 33,
   "metadata": {},
   "outputs": [],
   "source": [
    "urn_hits = get_all_konks('likestilling', urns)"
   ]
  },
  {
   "cell_type": "code",
   "execution_count": 34,
   "metadata": {},
   "outputs": [
    {
     "data": {
      "text/plain": [
       "81"
      ]
     },
     "execution_count": 34,
     "metadata": {},
     "output_type": "execute_result"
    }
   ],
   "source": [
    "len(urn_hits)"
   ]
  },
  {
   "cell_type": "code",
   "execution_count": 35,
   "metadata": {},
   "outputs": [
    {
     "data": {
      "text/plain": [
       "50"
      ]
     },
     "execution_count": 35,
     "metadata": {},
     "output_type": "execute_result"
    }
   ],
   "source": [
    "len(urns)"
   ]
  },
  {
   "cell_type": "code",
   "execution_count": 38,
   "metadata": {},
   "outputs": [
    {
     "data": {
      "text/plain": [
       "59637.06"
      ]
     },
     "execution_count": 38,
     "metadata": {},
     "output_type": "execute_result"
    }
   ],
   "source": [
    "tot * len(urn_hits)/len(urns)"
   ]
  },
  {
   "cell_type": "code",
   "execution_count": 17,
   "metadata": {},
   "outputs": [
    {
     "data": {
      "text/plain": [
       "0    13497\n",
       "dtype: int64"
      ]
     },
     "execution_count": 17,
     "metadata": {},
     "output_type": "execute_result"
    }
   ],
   "source": [
    "nb.unigram('likestilling',period=(1970, 1980)).sum()"
   ]
  },
  {
   "cell_type": "code",
   "execution_count": 40,
   "metadata": {},
   "outputs": [
    {
     "data": {
      "text/plain": [
       "<matplotlib.axes._subplots.AxesSubplot at 0x2094bdaea20>"
      ]
     },
     "execution_count": 40,
     "metadata": {},
     "output_type": "execute_result"
    },
    {
     "data": {
      "image/png": "[encoded data removed]",
      "text/plain": [
       "<Figure size 432x288 with 1 Axes>"
      ]
     },
     "metadata": {
      "needs_background": "light"
     },
     "output_type": "display_data"
    }
   ],
   "source": [
    "nb.unigram('likestilling', period=(1970, 1980), media='avis').plot()"
   ]
  },
  {
   "cell_type": "code",
   "execution_count": null,
   "metadata": {},
   "outputs": [],
   "source": [
    "nb.unigram('likestilling', )"
   ]
  }
 ],
 "metadata": {
  "kernelspec": {
   "display_name": "Python 3",
   "language": "python",
   "name": "python3"
  },
  "language_info": {
   "codemirror_mode": {
    "name": "ipython",
    "version": 3
   },
   "file_extension": ".py",
   "mimetype": "text/x-python",
   "name": "python",
   "nbconvert_exporter": "python",
   "pygments_lexer": "ipython3",
   "version": "3.7.3"
  }
 },
 "nbformat": 4,
 "nbformat_minor": 2
}

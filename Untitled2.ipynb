{
 "cells": [
  {
   "cell_type": "code",
   "execution_count": 1,
   "metadata": {},
   "outputs": [],
   "source": [
    "import dhlab.nbtext as nb"
   ]
  },
  {
   "cell_type": "code",
   "execution_count": 20,
   "metadata": {},
   "outputs": [],
   "source": [
    "navn = nb.ner(\"\"\"Søndag går startskuddet for det som er spådd å bli årets thriller, i alle fall i grenen maktkamp og personstrid i norsk politikk. Da går fristen ut for å foreslå kandidater til Venstres ledelse. Uavhengig av ståsted i partiet omtales det som helt utenkelig at det ikke skal komme nye koster inn. Det er det rørende enighet om. Men skal noen inn, så må også noen ut. Da ble det straks verre.\n",
    "\n",
    "Alle må i løpet av uken svare valgkomiteen om de tar gjenvalg eller ikke. Først når en eller flere i partiledelsen sier høyt at de trekker seg, regnes det som akseptabelt å melde seg på. Det betyr ikke at kampen ikke har vært i gang en stund.\n",
    "\n",
    "Det store spørsmålet er hva Trine Skei Grande gjør. Få hadde trodd hun ville trekke seg på valgnatten, men det var nok en del i partiet som hadde håpet det. At hun sa så tydelig ja til å fortsette, ble av noen beskrevet som å få en knyttneve i magen. De mener Grande står i veien for å løfte partiet, og viser til undersøkelser som viser at hun er den minst populære partilederen. Andre omtaler henne som Venstres sterkeste kort, og viser til at hun er den eneste partilederen som har klart kunststykket å få partiet over sperregrensen to valg på rad. De fleste er likevel glad i henne, og ønsker en lykkelig avslutning. Men det er stor uenighet om det bør skje nå, eller om partiet trenger mer tid til å bygge opp hennes etterfølger.\n",
    "\n",
    "Et vel så aktuelt resultat kan derfor være at det blir et skifte av én eller to nestledere. Både Terje Breivik og Ola Elvestuen har sittet lenge, og det blir tatt for gitt at minst en av dem velger å takke for seg. Om ikke det skjer, forventes det tydelig tale fra valgkomiteen.\n",
    "\n",
    "LES OGSÅ\n",
    "Når makta er «kjøpt og betalt»\n",
    "Før helgen krevde fem Venstre-topper på Vestlandet at Abid Raja må inn i partiledelsen. Han har lenge blitt oppfattet som den som mest åpent har posisjonert seg til opprykk. På mirakuløst vis har Oslo-gutten blitt en slags distriktenes mann, og har samlet mye støtte på grasrota i partiet. Ut fra sitt ståsted på Stortinget er han åpenbart den mest synlige politikeren partiet har. Rajas svakhet er at han har lite støtte blant sentrale tillitsvalgte. Der folk på utsiden ser en sjarmerende politiker, blir han ofte beskrevet som en uberegnelig solospiller. Mange mener likevel at Raja er mer interessert å bli statsråd enn partileder, et scenario som neppe bare blir møtt med jublende forventning innad i regjeringen.\n",
    "\n",
    "Flere nevnes som aktuelle kandidater til å bli ny nestleder. Sveinung Rotevatn, Guri Melby, Iselin Nybø, Ida Gudding Johnsen og Alfred Bjørlo er typiske gjengangere i spekulasjonene. Av disse er det sannsynligvis bare Rotevatn som har støtte nok til å utfordre Trine Skei Grande, eller Abid Raja for den del, helt i toppen. Han har en betydelig heiagjeng, ikke minst blant de unge.\n",
    "\n",
    "I disse dager er det mange som presser på for at Rotevatn skal lansere seg som lederkandidat. Som statssekretær i Klimadepartementet er han, om ikke akkurat kneblet på hender og føtter, så i alle fall forhindret fra å drive soloutspill og en aktiv valgkamp for sitt eget kandidatur. Selv om han er debattsterk og ideologisk, blir han oppfattet som i overkant ung, urban og liberal, noe som ikke begeistrer riktig alle i partiet.\n",
    "\n",
    "Men hadde dette bare handlet om å finne de beste kandidatene til ny partiledelse, så hadde dette vært enkelt. Alt henger som kjent sammen med alt. Hvem som blir ny partiledelse, vil sannsynligvis legge føringer for hvem som skal være partiets statsråder. Det vil også ha betydning for hvem som blir nominert på de sikre plassene ved neste stortingsvalg. I tillegg er det en betydelig misnøye med Oslo-dominansen i regjering og partiledelse. Og da har vi ikke kommet til de faste postene kjønn, alder, geografi og bakgrunn.\n",
    "\n",
    "Det har aldri vært spesielt lett å finne løsninger som samler partiet Venstre, og det blir neppe enklere denne gangen.\"\"\")"
   ]
  },
  {
   "cell_type": "code",
   "execution_count": 26,
   "metadata": {},
   "outputs": [],
   "source": [
    "name_links = lambda x, kinds = ['person', 'sted']: [string(x) for x in navn if (len(x) == 2 and x[1] in kinds) or (isinstance(x, str) and (x.lower() == 'han' or x.lower() == 'hun'))]"
   ]
  },
  {
   "cell_type": "code",
   "execution_count": 27,
   "metadata": {},
   "outputs": [],
   "source": [
    "def string(x):\n",
    "    if isinstance(x, str):\n",
    "        return x\n",
    "    elif isinstance(x, list):\n",
    "        return x[0]"
   ]
  },
  {
   "cell_type": "code",
   "execution_count": 36,
   "metadata": {},
   "outputs": [
    {
     "name": "stdout",
     "output_type": "stream",
     "text": [
      "Venstres # Trine Skei Grande # hun # hun # Grande # hun # Venstres # hun # Terje Breivik # Ola Elvestuen # Venstre-topper # Vestlandet # Abid Raja # Han # Oslo-gutten # Stortinget # han # Rajas # han # han # Raja # Sveinung Rotevatn # Guri Melby # Iselin Nybø # Ida Gudding Johnsen # Alfred Bjørlo # Rotevatn # Trine Skei Grande # Abid Raja # Han # Rotevatn # Klimadepartementet # han # han # han # Hvem # Oslo-dominansen # Venstre\n"
     ]
    }
   ],
   "source": [
    "print(' # '.join(name_links(navn)))"
   ]
  },
  {
   "cell_type": "code",
   "execution_count": 31,
   "metadata": {},
   "outputs": [
    {
     "data": {
      "text/plain": [
       "['Trine Skei Grande',\n",
       " 'hun',\n",
       " 'hun',\n",
       " 'Grande',\n",
       " 'hun',\n",
       " 'hun',\n",
       " 'Trine Skei Grande']"
      ]
     },
     "execution_count": 31,
     "metadata": {},
     "output_type": "execute_result"
    }
   ],
   "source": [
    "[x for x in name_links(navn) if 'Grande' in x or 'hun' in x]"
   ]
  },
  {
   "cell_type": "code",
   "execution_count": 33,
   "metadata": {},
   "outputs": [
    {
     "data": {
      "text/plain": [
       "['Abid Raja',\n",
       " 'Han',\n",
       " 'han',\n",
       " 'Rajas',\n",
       " 'han',\n",
       " 'han',\n",
       " 'Raja',\n",
       " 'Abid Raja',\n",
       " 'Han',\n",
       " 'han',\n",
       " 'han',\n",
       " 'han']"
      ]
     },
     "execution_count": 33,
     "metadata": {},
     "output_type": "execute_result"
    }
   ],
   "source": [
    "[x for x in name_links(navn) if 'Raja' in x or 'han' in x.lower()]"
   ]
  },
  {
   "cell_type": "code",
   "execution_count": 15,
   "metadata": {},
   "outputs": [],
   "source": [
    "navn2 = nb.ner(\"\"\"Dette vitner om dårlig etatsstyring og manglende informasjon fra byrådet til bystyret. Det blinker en rød varsellampe, og den blinker med stadig hyppigere takt, sier Øystein Sundelin, nestleder i Høyres bystyregruppe.\n",
    "\n",
    "– Har Høyre tillit til Berg?\n",
    "\n",
    "– Nå skal vi avvente de nærmeste dagene, gå grundig gjennom de fakta vi har og se på det som kommer fra PwC og kommunerevisjonen. Men jeg tror både posisjon og opposisjon er nødt til å vurdere dette nøye i tiden som kommer, sier Sundelin til NTB.\n",
    "\n",
    "Også Venstres gruppeleder i Oslo Hallstein Bjercke viser til de pågående undersøkelsene i spørsmålet om mistillit.\n",
    "\n",
    "– Disse vil være en viktig del av grunnlaget for bystyrets behandling av saken, men det er ikke tvil om at denne saken er svært alvorlig for byråden, sier han til NTB.\n",
    "\n",
    "LES OGSÅ\n",
    "Lovbrudd i Oslo-etat: Byråd Lan Marie Berg (MDG) vurderer ikke å gå\n",
    "– Stor skandale\n",
    "Siden 2016 har det vært over 15.000 brudd på arbeidsmiljøloven i etatene under Bergs byrådsavdeling for miljø og samferdsel i Oslo kommune. Bjercke sier Berg (MDG) snarest må svare på alle spørsmål om saken.\n",
    "\n",
    "– Dette vil være avgjørende for spørsmålet om tillit fremover, fremholder han.\n",
    "\n",
    "\n",
    "KRITISK: Venstres Hallstein Bjercke er ikke i tvil om at saken er alvorlig for byråden. Foto: Fredrik Hagen / NTB scanpix\n",
    "\n",
    "– Dette er en stor skandale, og saken svekker Oslo kommunes omdømme som en seriøs arbeidsgiver, sier han videre.\n",
    "\n",
    "Venstre-toppen legger til at det i Oslo alltid er byrådet og den ansvarlige byråden som har det øverste ansvaret.\n",
    "\n",
    "LES OGSÅ\n",
    "Opposisjonen i Oslo krever gransking av Lan Marie Berg\n",
    "– Har ansvaret\n",
    "Rødt, som har samarbeidet med det rødgrønne byrådet de fire siste årene, jobber nå med å få oversikt over hva slags brudd på arbeidsmiljøloven det er snakk om, og omfanget av de ulike typene.\n",
    "\n",
    "– 15.000 er uansett et høyt tall, og 7. oktober sendte Rødt inn skriftlig spørsmål til byrådet om å få oversikt over brudd i andre etater, sier Rødts gruppeleder Eivor Evenrud til NTB.\n",
    "\n",
    "– Det er byråden som har det øverste ansvar for sine underliggende etater, slår hun fast.\n",
    "\n",
    "Evenrud vil imidlertid ikke svare direkte på om partiet vurderer mistillit mot Berg.\n",
    "\n",
    "– Vi må gå grundig gjennom hvilken situasjon vi har her før jeg kan si noe om det.\n",
    "\n",
    "Må redegjøre\n",
    "Berg fremholdt fredag at hun har bedt alle etatsdirektørene om å redegjøre for hvordan etatene følger opp arbeidstidsbestemmelsene.\n",
    "\n",
    "\n",
    "FØLGER OPP: Byråd for miljø og samferdsel Lan Marie Berg har bedt opp redegjørelser fra de ulike etatene som har brutt arbeidstidsbestemmelser. Foto: Ole Berg-Rusten / NTB Scanpix\n",
    "\n",
    "– Jeg har forsikret meg om at de tar dette på alvor. Arbeidsmiljøloven skal selvsagt følges av alle kommunens virksomheter. Det er den enkelte virksomhetsleder som ivaretar arbeidsgiveransvaret i sin etat, sier hun.\n",
    "\n",
    "Flest brudd har det vært i Brann- og redningsetaten med 6616 lovbrudd fra januar 2016 til september 2019.\n",
    "\n",
    "Vann- og avløpsetaten i Oslo kommune har sendt NRK en oversikt som viser at arbeidsmiljøloven er blitt brutt 5616 ganger siden 2016.\n",
    "\n",
    "LES OGSÅ\n",
    "MDG-Lan etter valget: – Det føles uvirkelig!\n",
    "– Jobbet for mye\n",
    "Fagforbundet organiserer mange av de ansatte i etatene hvor lovbruddene har forekommet. Forbundets leder i Oslo, Roger Dehlin, sier til Dagsavisen at det flere steder har vært avtaler mellom partene som bryter med norsk lov, og at Fagforbundets tillitsvalgte til dels har godtatt dette.\n",
    "\n",
    "Byrådsleder Raymond Johansen (Ap) sier det er viktig for byrådet å sikre at ansatte i kommunen har ryddige arbeidsforhold.\n",
    "\n",
    "– Det har byråd Lan Marie Berg tatt grep om i sin sektor, og denne uken har hun forsikret seg om at etatsdirektørene gjør det de kan for å unngå brudd på regelverket. Det er den enkelte virksomhetsleder som har ansvaret for at regler overholdes. Dette følger av virksomhetsstyringsinstruksen, sier han i en e-post til NTB.\n",
    "\n",
    "Byrådslederen opplyser at han har tatt initiativ til en større gjennomgang av kommunens systemer.\"\"\")"
   ]
  },
  {
   "cell_type": "code",
   "execution_count": 18,
   "metadata": {},
   "outputs": [],
   "source": [
    "ref_chain = lambda navn, kind='person': [x for x in navn if (len(x) == 2 and x[1] == kind) or (isinstance(x, str) and (x.lower() == 'han' or x.lower() == 'hun'))]"
   ]
  },
  {
   "cell_type": "code",
   "execution_count": 19,
   "metadata": {},
   "outputs": [
    {
     "data": {
      "text/plain": [
       "[['Høyres', 'sted'],\n",
       " ['Berg', 'sted'],\n",
       " ['PwC', 'sted'],\n",
       " ['Oslo Hallstein Bjercke', 'sted'],\n",
       " 'han',\n",
       " ['Oslo-etat', 'sted'],\n",
       " ['Byråd Lan Marie Berg', 'sted'],\n",
       " ['Bergs', 'sted'],\n",
       " ['Oslo', 'sted'],\n",
       " 'han',\n",
       " ['Foto', 'sted'],\n",
       " 'han',\n",
       " ['Oslo', 'sted'],\n",
       " ['Oslo', 'sted'],\n",
       " ['Rødt', 'sted'],\n",
       " ['Eivor Evenrud', 'sted'],\n",
       " 'hun',\n",
       " ['Berg', 'sted'],\n",
       " 'hun',\n",
       " ['Foto', 'sted'],\n",
       " 'hun',\n",
       " ['Brann-', 'sted'],\n",
       " ['Oslo', 'sted'],\n",
       " ['Oslo', 'sted'],\n",
       " ['Roger Dehlin', 'sted'],\n",
       " ['Byrådsleder Raymond Johansen', 'sted'],\n",
       " 'hun',\n",
       " 'han',\n",
       " ['Byrådslederen', 'sted'],\n",
       " 'han']"
      ]
     },
     "execution_count": 19,
     "metadata": {},
     "output_type": "execute_result"
    }
   ],
   "source": [
    "ref_chain(navn2, 'sted')"
   ]
  },
  {
   "cell_type": "code",
   "execution_count": null,
   "metadata": {},
   "outputs": [],
   "source": []
  }
 ],
 "metadata": {
  "kernelspec": {
   "display_name": "Python 3",
   "language": "python",
   "name": "python3"
  },
  "language_info": {
   "codemirror_mode": {
    "name": "ipython",
    "version": 3
   },
   "file_extension": ".py",
   "mimetype": "text/x-python",
   "name": "python",
   "nbconvert_exporter": "python",
   "pygments_lexer": "ipython3",
   "version": "3.7.3"
  }
 },
 "nbformat": 4,
 "nbformat_minor": 2
}

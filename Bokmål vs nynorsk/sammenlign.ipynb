{
 "cells": [
  {
   "cell_type": "code",
   "execution_count": 6,
   "id": "1027b7fe-3a36-4ec2-90f1-137f478c4a6d",
   "metadata": {},
   "outputs": [],
   "source": [
    "import dhlab.nbtext as nb\n",
    "import pandas as pd"
   ]
  },
  {
   "cell_type": "code",
   "execution_count": 17,
   "id": "12463616-9df7-42c1-ba4e-dd4ace468040",
   "metadata": {},
   "outputs": [],
   "source": [
    "nno = nb.book_corpus(lang ='nno', limit = 300, period = (1990, 2010))"
   ]
  },
  {
   "cell_type": "code",
   "execution_count": 18,
   "id": "d6f12616-8744-4fe2-9d63-350ca3e5183f",
   "metadata": {},
   "outputs": [],
   "source": [
    "nob = nb.book_corpus(lang ='nob', limit = 300, period = (1990, 2010))"
   ]
  },
  {
   "cell_type": "code",
   "execution_count": 25,
   "id": "db242ea2-105f-4d55-bec1-d7806bca5709",
   "metadata": {},
   "outputs": [],
   "source": [
    "fosse = nb.book_corpus(author = 'fosse%jon%', lang ='nno', limit = 300, period = (1990, 2010))"
   ]
  },
  {
   "cell_type": "code",
   "execution_count": 20,
   "id": "3a4ed31f-76ca-4a85-9f5e-eeda19aad26e",
   "metadata": {},
   "outputs": [],
   "source": [
    "nno_agg = nb.aggregate_urns (list(nno.urn))"
   ]
  },
  {
   "cell_type": "code",
   "execution_count": 21,
   "id": "d29378b8-ccde-4d10-96be-99966415108c",
   "metadata": {},
   "outputs": [],
   "source": [
    "nob_agg = nb.aggregate_urns(list(nob.urn))"
   ]
  },
  {
   "cell_type": "code",
   "execution_count": 26,
   "id": "0647acf3-e334-443f-9eac-03da06706247",
   "metadata": {},
   "outputs": [],
   "source": [
    "fosse_agg = nb.aggregate_urns(list(fosse.urn))"
   ]
  },
  {
   "cell_type": "code",
   "execution_count": 31,
   "id": "99ddeaad-5cbf-4eac-9808-ac5361014b09",
   "metadata": {},
   "outputs": [],
   "source": [
    "aggs = pd.DataFrame( {'nno':nno_agg, 'nob': nob_agg})"
   ]
  },
  {
   "cell_type": "code",
   "execution_count": 32,
   "id": "d624ab0f-e289-4a9b-aa92-2170ec0da167",
   "metadata": {},
   "outputs": [],
   "source": [
    "ordindeks = [x for x in aggs.index if x.isalpha()]"
   ]
  },
  {
   "cell_type": "code",
   "execution_count": 45,
   "id": "92b7c92a-c5f8-4549-989f-d4a9c5a4dc50",
   "metadata": {},
   "outputs": [
    {
     "data": {
      "text/html": [
       "<style  type=\"text/css\" >\n",
       "#T_119af_row0_col0,#T_119af_row1_col0{\n",
       "            background-color:  #023858;\n",
       "            color:  #f1f1f1;\n",
       "        }#T_119af_row0_col1{\n",
       "            background-color:  #045e93;\n",
       "            color:  #f1f1f1;\n",
       "        }#T_119af_row0_col2{\n",
       "            background-color:  #a4bcda;\n",
       "            color:  #000000;\n",
       "        }#T_119af_row0_col3{\n",
       "            background-color:  #adc1dd;\n",
       "            color:  #000000;\n",
       "        }#T_119af_row0_col4{\n",
       "            background-color:  #bbc7e0;\n",
       "            color:  #000000;\n",
       "        }#T_119af_row0_col5{\n",
       "            background-color:  #bfc9e1;\n",
       "            color:  #000000;\n",
       "        }#T_119af_row0_col6{\n",
       "            background-color:  #c0c9e2;\n",
       "            color:  #000000;\n",
       "        }#T_119af_row0_col7{\n",
       "            background-color:  #c1cae2;\n",
       "            color:  #000000;\n",
       "        }#T_119af_row0_col8{\n",
       "            background-color:  #e3e0ee;\n",
       "            color:  #000000;\n",
       "        }#T_119af_row0_col9{\n",
       "            background-color:  #eae6f1;\n",
       "            color:  #000000;\n",
       "        }#T_119af_row0_col10{\n",
       "            background-color:  #efe9f3;\n",
       "            color:  #000000;\n",
       "        }#T_119af_row0_col11{\n",
       "            background-color:  #f1ebf4;\n",
       "            color:  #000000;\n",
       "        }#T_119af_row0_col12{\n",
       "            background-color:  #f8f1f8;\n",
       "            color:  #000000;\n",
       "        }#T_119af_row0_col13{\n",
       "            background-color:  #fbf4f9;\n",
       "            color:  #000000;\n",
       "        }#T_119af_row0_col14,#T_119af_row1_col11,#T_119af_row1_col12{\n",
       "            background-color:  #fff7fb;\n",
       "            color:  #000000;\n",
       "        }#T_119af_row1_col1{\n",
       "            background-color:  #046198;\n",
       "            color:  #f1f1f1;\n",
       "        }#T_119af_row1_col2{\n",
       "            background-color:  #63a2cb;\n",
       "            color:  #000000;\n",
       "        }#T_119af_row1_col3,#T_119af_row1_col5{\n",
       "            background-color:  #7bacd1;\n",
       "            color:  #000000;\n",
       "        }#T_119af_row1_col4{\n",
       "            background-color:  #6ba5cd;\n",
       "            color:  #000000;\n",
       "        }#T_119af_row1_col6,#T_119af_row1_col10{\n",
       "            background-color:  #86b0d3;\n",
       "            color:  #000000;\n",
       "        }#T_119af_row1_col7{\n",
       "            background-color:  #75a9cf;\n",
       "            color:  #000000;\n",
       "        }#T_119af_row1_col8{\n",
       "            background-color:  #b0c2de;\n",
       "            color:  #000000;\n",
       "        }#T_119af_row1_col9{\n",
       "            background-color:  #9ebad9;\n",
       "            color:  #000000;\n",
       "        }#T_119af_row1_col13{\n",
       "            background-color:  #afc1dd;\n",
       "            color:  #000000;\n",
       "        }#T_119af_row1_col14{\n",
       "            background-color:  #c5cce3;\n",
       "            color:  #000000;\n",
       "        }</style><table id=\"T_119af_\" ><thead>    <tr>        <th class=\"blank level0\" ></th>        <th class=\"col_heading level0 col0\" >og</th>        <th class=\"col_heading level0 col1\" >i</th>        <th class=\"col_heading level0 col2\" >som</th>        <th class=\"col_heading level0 col3\" >til</th>        <th class=\"col_heading level0 col4\" >det</th>        <th class=\"col_heading level0 col5\" >er</th>        <th class=\"col_heading level0 col6\" >på</th>        <th class=\"col_heading level0 col7\" >av</th>        <th class=\"col_heading level0 col8\" >med</th>        <th class=\"col_heading level0 col9\" >for</th>        <th class=\"col_heading level0 col10\" >å</th>        <th class=\"col_heading level0 col11\" >ein</th>        <th class=\"col_heading level0 col12\" >dei</th>        <th class=\"col_heading level0 col13\" >at</th>        <th class=\"col_heading level0 col14\" >var</th>    </tr></thead><tbody>\n",
       "                <tr>\n",
       "                        <th id=\"T_119af_level0_row0\" class=\"row_heading level0 row0\" >nno</th>\n",
       "                        <td id=\"T_119af_row0_col0\" class=\"data row0 col0\" >369</td>\n",
       "                        <td id=\"T_119af_row0_col1\" class=\"data row0 col1\" >328</td>\n",
       "                        <td id=\"T_119af_row0_col2\" class=\"data row0 col2\" >194</td>\n",
       "                        <td id=\"T_119af_row0_col3\" class=\"data row0 col3\" >186</td>\n",
       "                        <td id=\"T_119af_row0_col4\" class=\"data row0 col4\" >175</td>\n",
       "                        <td id=\"T_119af_row0_col5\" class=\"data row0 col5\" >172</td>\n",
       "                        <td id=\"T_119af_row0_col6\" class=\"data row0 col6\" >171</td>\n",
       "                        <td id=\"T_119af_row0_col7\" class=\"data row0 col7\" >170</td>\n",
       "                        <td id=\"T_119af_row0_col8\" class=\"data row0 col8\" >133</td>\n",
       "                        <td id=\"T_119af_row0_col9\" class=\"data row0 col9\" >124</td>\n",
       "                        <td id=\"T_119af_row0_col10\" class=\"data row0 col10\" >116</td>\n",
       "                        <td id=\"T_119af_row0_col11\" class=\"data row0 col11\" >113</td>\n",
       "                        <td id=\"T_119af_row0_col12\" class=\"data row0 col12\" >100</td>\n",
       "                        <td id=\"T_119af_row0_col13\" class=\"data row0 col13\" >93</td>\n",
       "                        <td id=\"T_119af_row0_col14\" class=\"data row0 col14\" >86</td>\n",
       "            </tr>\n",
       "            <tr>\n",
       "                        <th id=\"T_119af_level0_row1\" class=\"row_heading level0 row1\" >nob</th>\n",
       "                        <td id=\"T_119af_row1_col0\" class=\"data row1 col0\" >303</td>\n",
       "                        <td id=\"T_119af_row1_col1\" class=\"data row1 col1\" >253</td>\n",
       "                        <td id=\"T_119af_row1_col2\" class=\"data row1 col2\" >162</td>\n",
       "                        <td id=\"T_119af_row1_col3\" class=\"data row1 col3\" >147</td>\n",
       "                        <td id=\"T_119af_row1_col4\" class=\"data row1 col4\" >157</td>\n",
       "                        <td id=\"T_119af_row1_col5\" class=\"data row1 col5\" >147</td>\n",
       "                        <td id=\"T_119af_row1_col6\" class=\"data row1 col6\" >138</td>\n",
       "                        <td id=\"T_119af_row1_col7\" class=\"data row1 col7\" >151</td>\n",
       "                        <td id=\"T_119af_row1_col8\" class=\"data row1 col8\" >105</td>\n",
       "                        <td id=\"T_119af_row1_col9\" class=\"data row1 col9\" >121</td>\n",
       "                        <td id=\"T_119af_row1_col10\" class=\"data row1 col10\" >138</td>\n",
       "                        <td id=\"T_119af_row1_col11\" class=\"data row1 col11\" >1</td>\n",
       "                        <td id=\"T_119af_row1_col12\" class=\"data row1 col12\" >1</td>\n",
       "                        <td id=\"T_119af_row1_col13\" class=\"data row1 col13\" >107</td>\n",
       "                        <td id=\"T_119af_row1_col14\" class=\"data row1 col14\" >86</td>\n",
       "            </tr>\n",
       "    </tbody></table>"
      ],
      "text/plain": [
       "<pandas.io.formats.style.Styler at 0x1a4acb5aa30>"
      ]
     },
     "execution_count": 45,
     "metadata": {},
     "output_type": "execute_result"
    }
   ],
   "source": [
    "aggs.loc [ordindeks].sort_values(by = 'nno', ascending = False).head(15).applymap(lambda x:int(x/1000)).transpose().style.background_gradient(axis = 1)"
   ]
  },
  {
   "cell_type": "code",
   "execution_count": null,
   "id": "6ad881bd-442a-4bcc-8959-822b31ab49da",
   "metadata": {},
   "outputs": [],
   "source": []
  }
 ],
 "metadata": {
  "kernelspec": {
   "display_name": "Python 3",
   "language": "python",
   "name": "python3"
  },
  "language_info": {
   "codemirror_mode": {
    "name": "ipython",
    "version": 3
   },
   "file_extension": ".py",
   "mimetype": "text/x-python",
   "name": "python",
   "nbconvert_exporter": "python",
   "pygments_lexer": "ipython3",
   "version": "3.8.10"
  }
 },
 "nbformat": 4,
 "nbformat_minor": 5
}

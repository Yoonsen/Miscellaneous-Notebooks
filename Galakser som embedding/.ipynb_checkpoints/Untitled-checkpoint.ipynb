{
 "cells": [
  {
   "cell_type": "markdown",
   "metadata": {},
   "source": [
    "with open('uio_model\\model.txt') as f:\n",
    "    model = f.readlines()\n",
    "\n",
    "new = [x[:-1] for x in model[1:]]\n",
    "\n",
    "vectors = [x.split(' ') for x in new]\n",
    "\n",
    "vectordict = {v[0]:tuple([float(x) for x in v[1:]]) for v in vectors}\n",
    "\n",
    "import pandas as pd\n",
    "\n",
    "semantics = pd.DataFrame(vectordict)\n",
    "\n",
    "semantics.transpose()\n",
    "\n",
    "semantics.transpose().to_csv('uio_semantics.csv')"
   ]
  },
  {
   "cell_type": "code",
   "execution_count": 4,
   "metadata": {},
   "outputs": [],
   "source": [
    "sem = pd.read_csv('uio_semantics.csv', index_col=0)"
   ]
  },
  {
   "cell_type": "code",
   "execution_count": null,
   "metadata": {},
   "outputs": [],
   "source": []
  }
 ],
 "metadata": {
  "kernelspec": {
   "display_name": "Python 3",
   "language": "python",
   "name": "python3"
  },
  "language_info": {
   "codemirror_mode": {
    "name": "ipython",
    "version": 3
   },
   "file_extension": ".py",
   "mimetype": "text/x-python",
   "name": "python",
   "nbconvert_exporter": "python",
   "pygments_lexer": "ipython3",
   "version": "3.7.4"
  }
 },
 "nbformat": 4,
 "nbformat_minor": 2
}

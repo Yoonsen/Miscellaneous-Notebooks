{
 "cells": [
  {
   "cell_type": "markdown",
   "metadata": {},
   "source": [
    "# Kollokasjoner\n"
   ]
  },
  {
   "cell_type": "code",
   "execution_count": 30,
   "metadata": {},
   "outputs": [],
   "source": [
    "import dhlab.nbtext as nb\n",
    "import dhlab.module_update as mu\n",
    "import pandas as pd"
   ]
  },
  {
   "cell_type": "markdown",
   "metadata": {},
   "source": [
    "### Litt kode for styling - forstørre fonter i notebook"
   ]
  },
  {
   "cell_type": "code",
   "execution_count": 31,
   "metadata": {},
   "outputs": [
    {
     "data": {
      "text/html": [
       "<style>@import url(\n",
       "http://fonts.googleapis.com/css?family=Lato|Philosopher|Montserrat|Source+Code+Pro|Merriweather|Shippori+Mincho|Istok+Web|Philosopher|Assistant:200,400,700);\n",
       "\n",
       "/*\n",
       "#notebook-container {\n",
       "\t-webkit-box-shadow: none;\n",
       "\tbox-shadow: none;\n",
       "}\n",
       "*/\n",
       "\n",
       "h1, h2, h3, h4, h5, h6 {\n",
       "\tfont-family: 'Montserrat', sans-serif;\n",
       "\tline-height: 2em;\n",
       "    color: #004f99;\n",
       "    font-weight: 600;\n",
       "}\n",
       "\n",
       "h1 { font-size: 4.5em; }\n",
       "h2 { font-size: 4em; }\n",
       "h3 { font-size: 3.5em; }\n",
       "h4 { font-size: 3em; }\n",
       "h5 { font-size: 2.5em; color:DarkSlateGray; }\n",
       "h6 { font-size: 2em; }\n",
       "\n",
       "p {\n",
       "\tfont-family: 'Shippori+Mincho'; \n",
       "\tfont-size:1.1em;\n",
       "\tcolor: DarkSlateGray;\n",
       "}\n",
       "\n",
       "div.input_area {\n",
       "\tborder:none !important;\n",
       "\tborder-left:1px solid #ff851b !important\n",
       "}\n",
       "\n",
       "span.cm-keyword {\n",
       "\tcolor:#339966 !important;\n",
       "}\n",
       "span.nn {  /*span.cm-variable, span.cm-property*/\n",
       "\tcolor: #3399ff !important;\n",
       "}\n",
       "\n",
       "\n",
       "div.CodeMirror {\n",
       "\tfont-family: 'Inconsolata', monospace;\n",
       "\tfont-size: 1.1em;\n",
       "\t\n",
       "}\n",
       "</style>"
      ],
      "text/plain": [
       "<IPython.core.display.HTML object>"
      ]
     },
     "execution_count": 31,
     "metadata": {},
     "output_type": "execute_result"
    }
   ],
   "source": [
    "mu.css()"
   ]
  },
  {
   "cell_type": "code",
   "execution_count": 32,
   "metadata": {},
   "outputs": [
    {
     "data": {
      "text/html": [
       "<style>\n",
       "p {font-size:1.4em}\n",
       "</style>\n"
      ],
      "text/plain": [
       "<IPython.core.display.HTML object>"
      ]
     },
     "metadata": {},
     "output_type": "display_data"
    }
   ],
   "source": [
    "%%HTML\n",
    "<style>\n",
    "p {font-size:1.4em}\n",
    "</style>"
   ]
  },
  {
   "cell_type": "markdown",
   "metadata": {},
   "source": [
    "# Analyse"
   ]
  },
  {
   "cell_type": "markdown",
   "metadata": {},
   "source": [
    "I python er det litt enklere å jobbe med variabler. De setter vi på venstre side av likhetstegnet, og lar definisjonen stå på høyre side."
   ]
  },
  {
   "cell_type": "code",
   "execution_count": 33,
   "metadata": {},
   "outputs": [],
   "source": [
    "kollokasjonsord = 'journalistisk'\n",
    "startår = 1950\n",
    "sluttår = 1955"
   ]
  },
  {
   "cell_type": "markdown",
   "metadata": {},
   "source": [
    "Neste kommando lager kollokasjonen for det ordet for en periode. Merk at vi har brukt variabelnavnene i oppbyggingen av kollokasjonen"
   ]
  },
  {
   "cell_type": "code",
   "execution_count": 34,
   "metadata": {},
   "outputs": [],
   "source": [
    "coll = nb.collocation(kollokasjonsord, yearfrom = startår, yearto = sluttår, corpus = 'avis', before = 5, after = 5)"
   ]
  },
  {
   "cell_type": "markdown",
   "metadata": {},
   "source": [
    "Neste trinn består i å set på kollokasjonsdataene, om det er mye data, eller lite"
   ]
  },
  {
   "cell_type": "code",
   "execution_count": 35,
   "metadata": {},
   "outputs": [
    {
     "data": {
      "text/plain": [
       "0    9200\n",
       "dtype: int64"
      ]
     },
     "execution_count": 35,
     "metadata": {},
     "output_type": "execute_result"
    }
   ],
   "source": [
    "# antall ord\n",
    "coll.sum()"
   ]
  },
  {
   "cell_type": "code",
   "execution_count": 36,
   "metadata": {},
   "outputs": [],
   "source": [
    "coll_tot = coll.sum()"
   ]
  },
  {
   "cell_type": "markdown",
   "metadata": {},
   "source": [
    "Vi kan sammenligne med en referanse, bruker normalen fra bøker."
   ]
  },
  {
   "cell_type": "code",
   "execution_count": 37,
   "metadata": {},
   "outputs": [],
   "source": [
    "ref = nb.frame(nb.totals(150000))"
   ]
  },
  {
   "cell_type": "markdown",
   "metadata": {},
   "source": [
    "Tolkning gjøres litt lettere om frekvenstallen normaliseres til proporsjoner, altså at tallene står for prosenter"
   ]
  },
  {
   "cell_type": "code",
   "execution_count": 38,
   "metadata": {},
   "outputs": [],
   "source": [
    "nb.normalize_corpus_dataframe(ref)\n",
    "ref = ref * 100 # gangr med 100 for prosent"
   ]
  },
  {
   "cell_type": "code",
   "execution_count": 39,
   "metadata": {},
   "outputs": [],
   "source": [
    "nb.normalize_corpus_dataframe(coll)\n",
    "coll = coll * 100"
   ]
  },
  {
   "cell_type": "markdown",
   "metadata": {},
   "source": [
    "Lager en variabel `assoc`for å lagre de viktigste ordene"
   ]
  },
  {
   "cell_type": "code",
   "execution_count": 40,
   "metadata": {},
   "outputs": [],
   "source": [
    "assoc = nb.frame_sort(nb.frame(coll[0]/ref[0]))"
   ]
  },
  {
   "cell_type": "markdown",
   "metadata": {},
   "source": [
    "Forskjellene blir noe forstørret når det er lite data i kollokasjonen. "
   ]
  },
  {
   "cell_type": "code",
   "execution_count": 41,
   "metadata": {},
   "outputs": [
    {
     "data": {
      "text/html": [
       "<div>\n",
       "<style scoped>\n",
       "    .dataframe tbody tr th:only-of-type {\n",
       "        vertical-align: middle;\n",
       "    }\n",
       "\n",
       "    .dataframe tbody tr th {\n",
       "        vertical-align: top;\n",
       "    }\n",
       "\n",
       "    .dataframe thead th {\n",
       "        text-align: right;\n",
       "    }\n",
       "</style>\n",
       "<table border=\"1\" class=\"dataframe\">\n",
       "  <thead>\n",
       "    <tr style=\"text-align: right;\">\n",
       "      <th></th>\n",
       "      <th>0</th>\n",
       "    </tr>\n",
       "  </thead>\n",
       "  <tbody>\n",
       "    <tr>\n",
       "      <th>studerende</th>\n",
       "      <td>3718.206310</td>\n",
       "    </tr>\n",
       "    <tr>\n",
       "      <th>fikst</th>\n",
       "      <td>1946.308733</td>\n",
       "    </tr>\n",
       "    <tr>\n",
       "      <th>tillempet</th>\n",
       "      <td>1487.520724</td>\n",
       "    </tr>\n",
       "    <tr>\n",
       "      <th>grunnprinsippene</th>\n",
       "      <td>989.244448</td>\n",
       "    </tr>\n",
       "    <tr>\n",
       "      <th>velskrevet</th>\n",
       "      <td>959.962294</td>\n",
       "    </tr>\n",
       "    <tr>\n",
       "      <th>utenlandsopphold</th>\n",
       "      <td>958.361886</td>\n",
       "    </tr>\n",
       "    <tr>\n",
       "      <th>reiseskildring</th>\n",
       "      <td>899.688469</td>\n",
       "    </tr>\n",
       "    <tr>\n",
       "      <th>hederlighet</th>\n",
       "      <td>889.155903</td>\n",
       "    </tr>\n",
       "    <tr>\n",
       "      <th>vederheftig</th>\n",
       "      <td>873.785421</td>\n",
       "    </tr>\n",
       "    <tr>\n",
       "      <th>teft</th>\n",
       "      <td>856.261394</td>\n",
       "    </tr>\n",
       "    <tr>\n",
       "      <th>ildsjel</th>\n",
       "      <td>779.921480</td>\n",
       "    </tr>\n",
       "    <tr>\n",
       "      <th>reportasje</th>\n",
       "      <td>752.612015</td>\n",
       "    </tr>\n",
       "    <tr>\n",
       "      <th>godbit</th>\n",
       "      <td>729.502549</td>\n",
       "    </tr>\n",
       "    <tr>\n",
       "      <th>kunn-</th>\n",
       "      <td>728.197925</td>\n",
       "    </tr>\n",
       "    <tr>\n",
       "      <th>begavelse</th>\n",
       "      <td>689.402347</td>\n",
       "    </tr>\n",
       "    <tr>\n",
       "      <th>typografisk</th>\n",
       "      <td>678.577179</td>\n",
       "    </tr>\n",
       "    <tr>\n",
       "      <th>fengende</th>\n",
       "      <td>650.800223</td>\n",
       "    </tr>\n",
       "    <tr>\n",
       "      <th>studerande</th>\n",
       "      <td>632.436976</td>\n",
       "    </tr>\n",
       "    <tr>\n",
       "      <th>virkningsfull</th>\n",
       "      <td>563.641490</td>\n",
       "    </tr>\n",
       "    <tr>\n",
       "      <th>prestasjon</th>\n",
       "      <td>562.387271</td>\n",
       "    </tr>\n",
       "  </tbody>\n",
       "</table>\n",
       "</div>"
      ],
      "text/plain": [
       "                            0\n",
       "studerende        3718.206310\n",
       "fikst             1946.308733\n",
       "tillempet         1487.520724\n",
       "grunnprinsippene   989.244448\n",
       "velskrevet         959.962294\n",
       "utenlandsopphold   958.361886\n",
       "reiseskildring     899.688469\n",
       "hederlighet        889.155903\n",
       "vederheftig        873.785421\n",
       "teft               856.261394\n",
       "ildsjel            779.921480\n",
       "reportasje         752.612015\n",
       "godbit             729.502549\n",
       "kunn-              728.197925\n",
       "begavelse          689.402347\n",
       "typografisk        678.577179\n",
       "fengende           650.800223\n",
       "studerande         632.436976\n",
       "virkningsfull      563.641490\n",
       "prestasjon         562.387271"
      ]
     },
     "execution_count": 41,
     "metadata": {},
     "output_type": "execute_result"
    }
   ],
   "source": [
    "assoc.head(20)"
   ]
  },
  {
   "cell_type": "markdown",
   "metadata": {},
   "source": [
    "## Studiet av forhåndsdefineret nøkkelord"
   ]
  },
  {
   "cell_type": "code",
   "execution_count": 42,
   "metadata": {},
   "outputs": [],
   "source": [
    "nøkkelord = [\"journalist\", \"redaktør\", \"journalisten\", \"readaktøren\", \"sport\", \"utenriks\", \"innenrik\"]"
   ]
  },
  {
   "cell_type": "markdown",
   "metadata": {},
   "source": [
    "Først ser vi på hvordan forskjellene er, dernest på frekvensen"
   ]
  },
  {
   "cell_type": "code",
   "execution_count": 43,
   "metadata": {},
   "outputs": [
    {
     "data": {
      "text/plain": [
       "<matplotlib.axes._subplots.AxesSubplot at 0x1884d9a8550>"
      ]
     },
     "execution_count": 43,
     "metadata": {},
     "output_type": "execute_result"
    },
    {
     "data": {
      "image/png": "[encoded data removed]",
      "text/plain": [
       "<Figure size 432x288 with 1 Axes>"
      ]
     },
     "metadata": {
      "needs_background": "light"
     },
     "output_type": "display_data"
    }
   ],
   "source": [
    "assoc.loc[[x for  x in nøkkelord if x in assoc.index]].plot(kind='bar', rot=30)"
   ]
  },
  {
   "cell_type": "code",
   "execution_count": null,
   "metadata": {},
   "outputs": [],
   "source": []
  },
  {
   "cell_type": "code",
   "execution_count": 44,
   "metadata": {},
   "outputs": [
    {
     "data": {
      "text/plain": [
       "<matplotlib.axes._subplots.AxesSubplot at 0x18858c59ca0>"
      ]
     },
     "execution_count": 44,
     "metadata": {},
     "output_type": "execute_result"
    },
    {
     "data": {
      "image/png": "[encoded data removed]",
      "text/plain": [
       "<Figure size 432x288 with 1 Axes>"
      ]
     },
     "metadata": {
      "needs_background": "light"
     },
     "output_type": "display_data"
    }
   ],
   "source": [
    "coll.loc[[x for  x in nøkkelord if x in coll.index]].plot(kind='bar', rot=30)"
   ]
  },
  {
   "cell_type": "code",
   "execution_count": null,
   "metadata": {},
   "outputs": [],
   "source": []
  }
 ],
 "metadata": {
  "kernelspec": {
   "display_name": "Python 3",
   "language": "python",
   "name": "python3"
  },
  "language_info": {
   "codemirror_mode": {
    "name": "ipython",
    "version": 3
   },
   "file_extension": ".py",
   "mimetype": "text/x-python",
   "name": "python",
   "nbconvert_exporter": "python",
   "pygments_lexer": "ipython3",
   "version": "3.8.3"
  }
 },
 "nbformat": 4,
 "nbformat_minor": 4
}

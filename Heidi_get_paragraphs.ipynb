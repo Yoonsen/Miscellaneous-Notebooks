{
 "cells": [
  {
   "cell_type": "code",
   "execution_count": 130,
   "metadata": {},
   "outputs": [
    {
     "data": {
      "text/html": [
       "<style>@import url(\n",
       "http://fonts.googleapis.com/css?family=Lato|Philosopher|Montserrat|Source+Code+Pro|Istok+Web|Philosopher|Assistant:200,400,700);\n",
       "\n",
       "/*\n",
       "#notebook-container {\n",
       "\t-webkit-box-shadow: none;\n",
       "\tbox-shadow: none;\n",
       "}\n",
       "*/\n",
       "\n",
       "h1, h2, h3, h4, h5, h6 {\n",
       "\tfont-family: 'Montserrat', sans-serif;\n",
       "\tline-height: 2em;\n",
       "    color: #004f99;\n",
       "    font-weight: 600;\n",
       "}\n",
       "\n",
       "h1 { font-size: 4.5em; }\n",
       "h2 { font-size: 4em; }\n",
       "h3 { font-size: 3.5em; }\n",
       "h4 { font-size: 3em; }\n",
       "h5 { font-size: 2.5em; color:DarkSlateGray; }\n",
       "h6 { font-size: 2em; }\n",
       "\n",
       "p {\n",
       "\tfont-family: 'Assistant', sans-serif; \n",
       "\tfont-size: 1.2em;\n",
       "\tline-height: 1.4em;\n",
       "\tcolor: black;\n",
       "}\n",
       "p code {\n",
       "\tfont-size:0.9em;\n",
       "}\n",
       "div.input_area {\n",
       "\tborder:none !important;\n",
       "\tborder-left:1px solid #ff851b !important\n",
       "}\n",
       "\n",
       "span.cm-keyword {\n",
       "\tcolor:#339966 !important;\n",
       "}\n",
       "span.nn {  /*span.cm-variable, span.cm-property*/\n",
       "\tcolor: #3399ff !important;\n",
       "}\n",
       "div.CodeMirror {\n",
       "\tfont-family: 'Inconsolata', monospace;\n",
       "\tfont-size: 1.1em;\n",
       "\t\n",
       "}\n",
       "</style>"
      ],
      "text/plain": [
       "<IPython.core.display.HTML object>"
      ]
     },
     "execution_count": 130,
     "metadata": {},
     "output_type": "execute_result"
    }
   ],
   "source": [
    "import dhlab.nbtext as nb\n",
    "import dhlab.module_update as mu\n",
    "import json\n",
    "import requests\n",
    "import os\n",
    "#import Levenshtein as lev\n",
    "mu.css()"
   ]
  },
  {
   "cell_type": "code",
   "execution_count": 133,
   "metadata": {},
   "outputs": [],
   "source": [
    "AVSNITTMAPPE = \"Heidis_avsnitt/\""
   ]
  },
  {
   "cell_type": "code",
   "execution_count": 132,
   "metadata": {},
   "outputs": [],
   "source": [
    "#!pip install fuzzywuzzy"
   ]
  },
  {
   "cell_type": "code",
   "execution_count": 131,
   "metadata": {},
   "outputs": [],
   "source": [
    "#!pip install python-Levenshtein"
   ]
  },
  {
   "cell_type": "code",
   "execution_count": 116,
   "metadata": {},
   "outputs": [],
   "source": [
    "from fuzzywuzzy import fuzz"
   ]
  },
  {
   "cell_type": "code",
   "execution_count": 22,
   "metadata": {},
   "outputs": [],
   "source": [
    "def get_paragraphs(urn, paras):\n",
    "    \"\"\"Return paragraphs for urn\"\"\"\n",
    "    param = dict()\n",
    "    param['paragraphs'] = paras\n",
    "    param['urn'] = urn\n",
    "    r = requests.get(\"https://api.nb.no/ngram/paragraphs\", json=param)\n",
    "    return r.json()"
   ]
  },
  {
   "cell_type": "code",
   "execution_count": 23,
   "metadata": {},
   "outputs": [],
   "source": [
    "def get_para(para_list):\n",
    "    import ast\n",
    "    paras = []\n",
    "    for p in para_list:\n",
    "        paras.append(ast.literal_eval(p))\n",
    "    urns = [x[0] for x in paras]\n",
    "    paradict = {u:[x[1] for x in paras if x[0] == u] for u in urns}\n",
    "    paragraphs = dict()\n",
    "    for u in paradict:\n",
    "        paragraphs[u] = get_paragraphs(u, paradict[u])\n",
    "    return paragraphs\n"
   ]
  },
  {
   "cell_type": "code",
   "execution_count": 26,
   "metadata": {},
   "outputs": [],
   "source": [
    "themes = json.load(open('heidis_temadefinisjoner.json'))"
   ]
  },
  {
   "cell_type": "code",
   "execution_count": 51,
   "metadata": {},
   "outputs": [],
   "source": [
    "link = lambda x: \"https://urn.nb.no/URN:NBN:no-nb_digibok_\" + str(x)"
   ]
  },
  {
   "cell_type": "code",
   "execution_count": 31,
   "metadata": {},
   "outputs": [
    {
     "name": "stdout",
     "output_type": "stream",
     "text": [
      "“Jul” [Christmas]\n",
      "“Kvindens funksjon i den private sfære” [Woman’s function in the private sphere]\n",
      "“Kvindens funksjon i den offentlige sfære” [Woman’s function in the public sphere]\n",
      "“Kvinnelig dannelse” [Woman’s bildung]\n",
      "“Kvinnens væren” [Woman’s being]\n",
      "“Er kjærligheten sann” [Is love true?]\n",
      "“Kvinnens beskyttelse” [Woman’s protection]\n",
      "“Kvinnens mot under prøvelser” [Woman’s courage during difficult times]\n",
      "“Båndet mellom kjønnene” [The bond between the genders]\n",
      "“Slavinnen og herren” [(Female) Slave and master]\n",
      "“Tjenerinnes romantiske forbindelse” [the Female servant’s romantic liaison]\n",
      "“Kvinnes selvmord” [Woman’s suicide]\n",
      "“Kvindens vilje” [Woman’s Volition]\n",
      "“Innflytelse over kvinnen” [Influence on Woman]\n",
      "“Et fruentimmers dyd” [Woman’s virtues]\n",
      "“En kvinnes væren og tillærte egenskaper” [Woman’s being and acquired traits]\n",
      "“Kvindens stillhetens språk” [Woman’s language of silence]\n",
      "“Mill, en frigjører eller rabulist?” [Mill, a liberator or an offender]\n",
      "“Kvindens likegyldighed til frihetsrettigheter” [Woman’s indifference to freedom rights]\n",
      "“Kvindens smiger og mandens hybris” [Woman’s flattery and man’s hubris]\n",
      "“Mand og Kvinnes forvirrede tilstand” [The confused state of man and woman]\n",
      "“Skabningens herre og fruentimmer” [“Lord of creation” and “Woman chamber” ]\n"
     ]
    }
   ],
   "source": [
    "for th in themes:\n",
    "    print(th)"
   ]
  },
  {
   "cell_type": "code",
   "execution_count": 53,
   "metadata": {},
   "outputs": [
    {
     "name": "stdout",
     "output_type": "stream",
     "text": [
      "{'Mor_': ['Mor', 'Mødre', 'moderlig', 'moderligt', 'Modcr', 'modcr', '', 'Modre', 'Msdre', 'Msdrc', 'modre', 'modcrlig', 'modrcne', 'modrc', 'modcrlig', 'modcrlighcden', 'modcrlighed', 'moderlighed', 'modcrlighcd', 'Huusmoder', 'husmoderlig', 'husmoderlige', 'husmoderlighed', 'husmoderligheden', 'Husmor', 'Husmoder', 'Husmodcr', 'Husmodcrcn', 'Husmoderen', 'Husmodcren', 'Husmodcren', 'Huusmodcr', 'Huusmodre', 'Huusmoders', 'Huusmodcr', 'Huusmodrene', 'Huusmodcren', 'Huusmodercn', 'Huusmodcrs', 'Husmodre', 'Husmodrc', 'Husmoderem', 'Husmoderms', 'Huusmodcrcn', 'Moderlig', 'Moderligt', 'Modcrlig', 'Modrcne', 'Modrc', 'Modcrlighcden', 'Modcrlighed', 'Moderlighed', 'Modcrlighcd', 'Husmoderlig', 'Husmoderlige', 'Husmoderlighed', 'Husmoderligheden'], 'Kvinde_': ['kvinne', 'kvinnen', 'kvinner', 'kvinnene', 'kvinnerne', 'kvinnes', 'kvinnens', 'kvinners', 'kvinnenes', 'kvinnernes', 'kvinde', 'Kvmde', 'kvinden', 'kvmden', 'kvinder', 'kvinderne', 'kvindens', 'kvmdens', 'kvindes', 'kvmdes', 'kvindernes', 'kvmdernes', 'kvinders', 'kvmders', 'kvindelige', 'kvmdelige', 'kvindelig', 'kvmdelig', 'kvindeligt', 'kvmdeligt', 'kvindene', 'kvmdene', 'kvindeme', 'kvmdeme', 'kvindekøn', 'kvindenes', 'kvindemes', 'kvindc', 'kvindcr', 'kvindcn', 'kvindcns', 'kvindcs', 'kvindcrnes', 'kvindcrnc', 'kvindcrs', 'kvindcrncs', 'kvindclighed', 'kvindcligheden', 'kuindc', 'kuindcr', 'kuindcn', 'kuindcs', 'kuindcrne', 'kuindcns', 'kuinde', 'kuinder', 'kuinden', 'kuinderne', 'kuindens', 'kuinders', 'kuindes', 'kvindelighed', 'kvindeligt', 'kvindelighedens', 'kvindeligheden', 'kvindeligheds', 'kvindelighed', 'kvindclige', 'kvindelighcd', 'kvindeligked', 'kvindeligbed', 'stvinder', 'stvindcr', 'qvinde', 'qvinden', 'qvinder', 'qvinderne', 'qvindene', 'qvindelig', 'qvindelige', 'qvindelighed', 'quinde', 'quinden', 'quinder', 'qvinderne', 'qvindene', 'quindelig', 'quindelighed', 'qvindcn', 'quindcn', 'qvindclig', 'quindclig', 'qvindcr', 'quindcr', 'qvindcrne', 'qvindene', 'quindcrne', 'quindcne', 'qvindclighcd', 'quindclighcd', 'qvindelighcd', 'quindelighcd', 'qvindclighed', 'quindclighcd', 'Dame', 'Damen', 'dame', 'Damen', 'damc', 'Damc', 'damcn', 'Damcn', 'damer', 'Damer', 'damcr', 'Damcr', 'damene', 'Damene', 'damcne', 'Damcne', 'damcrne', 'Damcrne', 'damerne', 'Damerne', 'damcrnc', 'Damcrnc', 'damcnc', 'Damcnc', 'damernc', 'Damernc', 'damenc', 'Damenc', 'heltinne', 'heltinnen', 'heltinner', 'heltinnene', 'heltinnens', 'hcltinnen', 'heltinde', 'heltinden', 'heltinder', 'heltindene', 'heltinderne', 'heltindens', 'heltindc', 'tjenerinne', 'tjenerinnen', 'tjenerinde', 'tjenerinden', 'tjcnerinde', 'tjcncrinde', 'tjcnerinden', 'tjcncrinden', 'tjcncrindcn', 'fristerinne', 'fristerinnen', 'fristerinnens', 'fristerinde', 'fristerinden', 'fristerindens', 'fristcrinde', 'fristcrinden', 'fristcrindcn', 'kone', 'konen', 'koncn', 'hustru', 'huustru', 'fruentimmer', 'fruentimmeret', 'fruentimmere', 'fruentimmerne', 'fruentimmernc', 'fruentimmers', 'fruentimmerets', 'fruentimmeraktig', 'fruentimmeragtig', 'fruentimmerlig', 'fruentimmerlige', 'fruentimmerfølelser', 'fruentimre', 'fruentimret', 'fruentimrene', 'Fruntimmer', 'Frnentimmer', 'Frueutimmer', 'Fruen-Timmer', 'Frncntimmer', 'Frnentimmcr', 'Fruetimmer', 'Frncntimmcr', 'Frueutimmcr', 'Frucutimmer', 'Fruentimmcr', 'Frwentimmer', 'Frucutimmcr', 'Frucntimmcr', 'Fruemtimmer', 'Frmntimmer', 'Fruertimmer', 'Frllentimmer', 'Frumtimmer', 'Frauentimmer', 'Fruentimmmer', 'Fruintimmer', 'Frucntimmer', 'Froentimmer', 'Fruntimmcr', 'Frneutimmer', 'Freuentimmer', 'Fruetttimmer', 'Fraentimmer', 'Fruentimmrr', 'Fruenstimmer', 'Frnntimmer', 'Frnmtimmer', 'Fruelttimmer', 'qvindekjønnet', 'qvindekjonnet', 'qvindckjonnet', 'quindckjonnet', 'quindekjønnet', 'quindekjonnet', 'quindckjonnet', 'qvindekjonn', 'qvindckjonn', 'quindekjonn', 'quindckjonn', 'beskjørtede', 'bcskjørtede', 'bcskjørtcde', 'bcskjortcde', 'beskjortcde', 'bcskjortede', 'beskjortede', 'fruentimmernetheder', 'fruentimmcrncdhcer', 'frucntimmcrncdhcdcr', 'Husfrue', 'Huusfrue', 'Huusfrne', 'Elskerinde', 'Elskerinde', 'Elskerinder', 'Elskerinden', 'Elskerindes', 'Elskerindens', 'Elskerinders', 'Elskerindc', 'Elskcrinde', 'Elskcrindc', 'Elskerindcns', 'Kvinne', 'Kvinnen', 'Kvinner', 'Kvinnene', 'Kvinnerne', 'Kvinnes', 'Kvinnens', 'Kvinners', 'Kvinnenes', 'Kvinnernes', 'Kvinde', 'Kvinden', 'Kvmden', 'Kvinder', 'Kvinderne', 'Kvindens', 'Kvmdens', 'Kvindes', 'Kvmdes', 'Kvindernes', 'Kvmdernes', 'Kvinders', 'Kvmders', 'Kvindelige', 'Kvmdelige', 'Kvindelig', 'Kvmdelig', 'Kvindeligt', 'Kvmdeligt', 'Kvindene', 'Kvmdene', 'Kvindeme', 'Kvmdeme', 'Kvindekøn', 'Kvindenes', 'Kvindemes', 'Kvindc', 'Kvindcr', 'Kvindcn', 'Kvindcns', 'Kvindcs', 'Kvindcrnes', 'Kvindcrnc', 'Kvindcrs', 'Kvindcrncs', 'Kvindclighed', 'Kvindcligheden', 'Kuindc', 'Kuindcr', 'Kuindcn', 'Kuindcs', 'Kuindcrne', 'Kuindcns', 'Kuinde', 'Kuinder', 'Kuinden', 'Kuinderne', 'Kuindens', 'Kuinders', 'Kuindes', 'Kvindelighed', 'Kvindelighedens', 'Kvindeligheden', 'Kvindeligheds', 'Kvindclige', 'Kvindelighcd', 'Kvindeligked', 'Kvindeligbed', 'Stvinder', 'Stvindcr', 'Qvinde', 'Qvinden', 'Qvinder', 'Qvinderne', 'Qvindene', 'Qvindelig', 'Qvindelige', 'Qvindelighed', 'Quinde', 'Quinden', 'Quinder', 'Quindelig', 'Quindelighed', 'Qvindcn', 'Quindcn', 'Qvindclig', 'Quindclig', 'Qvindcr', 'Quindcr', 'Qvindcrne', 'Quindcrne', 'Quindcne', 'Qvindclighcd', 'Quindclighcd', 'Qvindelighcd', 'Quindelighcd', 'Qvindclighed', 'Heltinne', 'Heltinnen', 'Heltinner', 'Heltinnene', 'Heltinnens', 'Hcltinnen', 'Heltinde', 'Heltinden', 'Heltinder', 'Heltindene', 'Heltinderne', 'Heltindens', 'Heltindc', 'Tjenerinne', 'Tjenerinnen', 'Tjenerinde', 'Tjenerinden', 'Tjcnerinde', 'Tjcncrinde', 'Tjcnerinden', 'Tjcncrinden', 'Tjcncrindcn', 'Fristerinne', 'Fristerinnen', 'Fristerinnens', 'Fristerinde', 'Fristerinden', 'Fristerindens', 'Fristcrinde', 'Fristcrinden', 'Fristcrindcn', 'Kone', 'Konen', 'Koncn', 'Hustru', 'Huustru', 'Fruentimmer', 'Fruentimmeret', 'Fruentimmere', 'Fruentimmerne', 'Fruentimmernc', 'Fruentimmers', 'Fruentimmerets', 'Fruentimmeraktig', 'Fruentimmeragtig', 'Fruentimmerlig', 'Fruentimmerlige', 'Fruentimmerfølelser', 'Fruentimre', 'Fruentimret', 'Fruentimrene', 'Fruen-timmer', 'Qvindekjønnet', 'Qvindekjonnet', 'Qvindckjonnet', 'Quindckjonnet', 'Quindekjønnet', 'Quindekjonnet', 'Qvindekjonn', 'Qvindckjonn', 'Quindekjonn', 'Quindckjonn', 'Beskjørtede', 'Bcskjørtede', 'Bcskjørtcde', 'Bcskjortcde', 'Beskjortcde', 'Bcskjortede', 'Beskjortede', 'Fruentimmernetheder', 'Fruentimmcrncdhcer', 'Frucntimmcrncdhcdcr'], 'Barn_': ['Barn', 'Børn', 'barnlig', 'barna', 'Bsrn', 'Børn', 'Born', 'Borna', 'barnlig', 'barnligt', 'børniligt', 'børnlig', 'bornligt', 'bornlig', 'Barnlig', 'Barna', 'Barnligt', 'Børniligt', 'Børnlig', 'Bornligt', 'Bornlig'], 'Gave_': ['Gave', 'Gavemild', 'gaver', 'Gaver', 'gavc', 'Gavc', 'gavcr', 'Gavcr', 'Gavernes', 'Gavens', 'gavcmild', 'Gavcmild'], 'Takknemlig_': ['takknemlig', 'Takknemlighed', 'takknemlighet', 'takknemlige', 'Taknemmelighed', 'takkncmlig', 'takknemlighcd', 'takkncmlihcd', 'takkncmligc', 'takkncmlige', 'Takknemlig', 'Takknemlighet', 'Takknemlige', 'Takkncmlig', 'Takknemlighcd', 'Takkncmlihcd', 'Takkncmligc', 'Takkncmlige'], 'Glede_': ['Glede', 'gledelig', 'glæder', 'gleder', 'glæde', 'glædcr', 'gledcr', 'gledc', 'glcedc', 'glceder', 'glcdcr', 'glcdc', 'glædc', 'glædens', 'gledens', 'glcdcns', 'glcedcns', 'glcrde', 'glcrdcns Glæder', 'Gleder', 'Glede', 'Glæde', 'Glædcr', 'Gledcr', 'Gledc', 'Glcedc', 'Glceder', 'Glcdcr', 'Glcdc', 'Glædc', 'Glædens', 'Gledens', 'Glcdcns', 'Glcedcns', 'Glcrde', 'Glcrdcns', 'fryd', 'fryde', 'fryder', 'frydet frydc', 'frydct', 'frydct', 'Gledelig', 'Glæder', 'Glcrdcns glæder', 'Fryd', 'Fryde', 'Fryder', 'Frydet frydc', 'Frydct'], 'Hellig_': ['hellig', 'hellige', 'velsigne', 'velsignet', 'salig', 'hellighet', 'Hellighet', 'helliget', 'hcllige', 'hclligc', 'helligc', 'hclligct', 'helligct', 'hclliget', 'velsigner', 'vclsigne', 'vclsignet', 'vclsignct', 'velsignct', 'vclsigner', 'vclsigncr', 'velsignct', 'saligt', 'Hellig', 'Hellige', 'Velsigne', 'Velsignet', 'Salig', 'Helliget', 'Hcllige', 'Hclligc', 'Helligc', 'Hclligct', 'Helligct', 'Hclliget', 'Velsigner', 'Vclsigne', 'Vclsignet', 'Vclsignct', 'Velsignct', 'Vclsigner', 'Vclsigncr', 'Saligt']}\n"
     ]
    }
   ],
   "source": [
    "print(themes[find_theme('Jul', themes)])"
   ]
  },
  {
   "cell_type": "code",
   "execution_count": 117,
   "metadata": {},
   "outputs": [],
   "source": [
    "import os\n",
    "r,d,f = next(os.walk(\".\"))\n",
    "jsons = [fs for fs in f if fs.endswith('.json')]\n",
    "files = {f:find_theme(f, themes) for f in jsons if find_theme(f, themes) != ''}"
   ]
  },
  {
   "cell_type": "code",
   "execution_count": 118,
   "metadata": {},
   "outputs": [
    {
     "data": {
      "text/plain": [
       "{'Er kjærligheten sann Is love true.json': '“Er kjærligheten sann” [Is love true?]',\n",
       " 'Jul Christmas.json': '“Jul” [Christmas]',\n",
       " 'Kvindens funksjon i den offentlige sfære Womans function in the public sphere.json': '“Kvindens funksjon i den offentlige sfære” [Woman’s function in the public sphere]',\n",
       " 'Kvindens funksjon i den private sfære Womans function in the private sphere.json': '“Kvindens funksjon i den private sfære” [Woman’s function in the private sphere]',\n",
       " 'Kvinnelig dannelse Womans bildung.json': '“Kvinnelig dannelse” [Woman’s bildung]',\n",
       " 'Kvinnens væren Womans being.json': '“Kvinnens væren” [Woman’s being]'}"
      ]
     },
     "execution_count": 118,
     "metadata": {},
     "output_type": "execute_result"
    }
   ],
   "source": [
    "files"
   ]
  },
  {
   "cell_type": "code",
   "execution_count": 101,
   "metadata": {},
   "outputs": [],
   "source": [
    "def find_theme(title, themes):\n",
    "    from collections import Counter\n",
    "    dist = Counter()\n",
    "    for th in themes:\n",
    "        dist[th] = fuzz.ratio(th, title)\n",
    "    x = dist.most_common(1)[0][0]\n",
    "    if dist[x] > 60:\n",
    "        res = x\n",
    "    else:\n",
    "        res = \"\"\n",
    "    return res"
   ]
  },
  {
   "cell_type": "code",
   "execution_count": 112,
   "metadata": {},
   "outputs": [],
   "source": [
    "def show_paras(title, themes):\n",
    "    avsnitt = json.load(open(title))\n",
    "    paras = get_para(avsnitt)\n",
    "    theme = find_theme(title, themes)\n",
    "    words = [w for hyperlexeme in themes[theme] for w in themes[theme][hyperlexeme]]\n",
    "    ptext = \"<h2>\" + theme + \"</h2>\"\n",
    "    ptext += \"<h3\" + ', '.join(themes[theme].keys()) + \"</h3>\"\n",
    "    for urn in paras:\n",
    "        ptext += \"<h4> <a href='\" + link(urn) +\"'\" + \"target=_>\" + ', '.join([str(x) for x in nb.metadata(urn)[0][1:4]]) + \"</a>\"\n",
    "        for paranum in paras[urn]:\n",
    "            ptext += \"<h4>\" + paranum + '</h4>'\n",
    "            modified = paras[urn][paranum]\n",
    "            #print(modified)\n",
    "            for w in words:\n",
    "                #print(w)\n",
    "                modified = modified.replace(\" \"+w+\" \", \" <b>\" + w + \"</b> \")\n",
    "            ptext += modified + '\\n\\n'\n",
    "    return ptext"
   ]
  },
  {
   "cell_type": "code",
   "execution_count": 127,
   "metadata": {},
   "outputs": [
    {
     "name": "stdout",
     "output_type": "stream",
     "text": [
      "Er kjærligheten sann Is love true\n",
      "Jul Christmas\n",
      "Kvindens funksjon i den offentlige sfære Womans function in the public sphere\n",
      "Kvindens funksjon i den private sfære Womans function in the private sphere\n",
      "Kvinnelig dannelse Womans bildung\n",
      "Kvinnens væren Womans being\n"
     ]
    }
   ],
   "source": [
    "for f in files:\n",
    "    print(f.split('.json')[0])"
   ]
  },
  {
   "cell_type": "code",
   "execution_count": 134,
   "metadata": {},
   "outputs": [
    {
     "name": "stdout",
     "output_type": "stream",
     "text": [
      "Er kjærligheten sann Is love true.json\n",
      "Jul Christmas.json\n",
      "Kvindens funksjon i den offentlige sfære Womans function in the public sphere.json\n",
      "Kvindens funksjon i den private sfære Womans function in the private sphere.json\n",
      "Kvinnelig dannelse Womans bildung.json\n",
      "Kvinnens væren Womans being.json\n"
     ]
    }
   ],
   "source": [
    "res = \"\"\n",
    "for f in files:\n",
    "    print(f)\n",
    "    newfilename = f.split('.json')[0] + '_avsnitt.html'\n",
    "    res = show_paras(f, themes) + \"\\n\"\n",
    "    with open(os.path.join(AVSNITTMAPPE, newfilename), \"w\", encoding='utf-8') as html:\n",
    "        html.write(res)"
   ]
  },
  {
   "cell_type": "code",
   "execution_count": null,
   "metadata": {},
   "outputs": [],
   "source": []
  }
 ],
 "metadata": {
  "kernelspec": {
   "display_name": "Python 3",
   "language": "python",
   "name": "python3"
  },
  "language_info": {
   "codemirror_mode": {
    "name": "ipython",
    "version": 3
   },
   "file_extension": ".py",
   "mimetype": "text/x-python",
   "name": "python",
   "nbconvert_exporter": "python",
   "pygments_lexer": "ipython3",
   "version": "3.7.3"
  }
 },
 "nbformat": 4,
 "nbformat_minor": 2
}

{
 "cells": [
  {
   "cell_type": "code",
   "execution_count": 1,
   "metadata": {},
   "outputs": [],
   "source": [
    "kong_haralds_nyttårstale = \"\"\"Denne kvelden vil jeg først og fremst sende en hilsen til alle dere som er berørt av skredulykken i Gjerdrum. Den forferdelige hendelsen gjør dypt inntrykk på oss alle.\n",
    "\n",
    "Jeg føler med dere som går inn i det nye året med sorg og uvisshet. Med dere som har mistet hjemmene deres og som akkurat nå er fortvilte og ikke ser veien videre.    \n",
    "\n",
    "Samtidig vil jeg berømme både myndigheter, nødetater og sivilsamfunnet for den store innsatsen som har blitt gjort under svært krevende forhold. Dere har fremdeles mye tungt arbeid foran dere. Og nok en gang ser vi at folk mobiliserer for å hjelpe medmennesker i nød. Det gjør meg både stolt og rørt.   \n",
    "\n",
    "Denne katastrofen som har rammet så mange mennesker kommer på slutten av et år som har vært vanskelig for oss alle.\n",
    "\n",
    "Derfor sender jeg også varme tanker til hele folket vårt denne nyttårsaften – fra Svalbard til Lindesnes, fra kystsamfunnene i vest til grensebygdene i øst. Mine tanker er hos dere som arbeider og studerer i utlandet. Og hos alle dere som skulle ønske dere var et annet sted i kveld. Som savner noen dere er glad i.      \n",
    "\n",
    "Til alle dere som føler dere alene denne nyttårsaftenen: Du er ikke alene om den følelsen.\n",
    "\n",
    "Til alle som er slitne og urolige for fremtiden: Jeg forstår dere så godt.\n",
    "\n",
    "Det har blitt et år med skuffelser, avlysninger og utsettelser. Et år da vi måtte sette mye på vent. Men så får vi håpe at vi nettopp derfor har mye å se frem til!\n",
    "\n",
    "Vi er sammen om å leve i en pandemi – men den har rammet oss så forskjellig. For noen ble det året da drømmene brast, jobben forsvant og det som var vondt fra før ble enda verre. Andre opplevde at familien ble mer sammensveiset og at vi lærte å sette pris på det lille livet her og nå. For de aller fleste har det kanskje vært en miks av det meste.\n",
    "\n",
    "Jeg har lyst til å takke alle i kveld.\n",
    "\n",
    "Takk for at dere har gitt avkall på familiebursdager og russetid, bryllupsfester, gode klemmer og kjære tradisjoner.\n",
    "\n",
    "Takk for at dere har sunget fra balkonger, handlet for gamle foreldre og holdt dere borte fra hverandre – i ren omsorg.\n",
    "\n",
    "Dronningen og jeg savner like mye som andre besteforeldre å klemme barna og barnebarna våre. Men så håper vi fra hjertet at vi skal få tatt igjen mye i det nye året!\n",
    "\n",
    "I januar har vi vært konge og dronning i 30 år. Gjennom hele denne tiden har dét å reise rundt i Norge og møte mennesker vært det som har gitt oss aller størst glede. Vi har savnet disse møtene inderlig dette året. Men i stedet har vi, som alle andre, holdt kontakten med folk på andre områder. Blant annet har vi fått mange brev.\n",
    "\n",
    "Noen av de mest rørende fikk vi på 17. mai. Da mottok vi flere tusen tegninger og hilsener fra skolebarn i hovedstaden – siden de ikke kunne gå i tog forbi Slottet i år. Flere av barna satte ord på akkurat det mange av oss følte:\n",
    "\n",
    "«Jeg savner alt sosialt. Dette ble litt brutalt» skrev en jente i tredje klasse.\n",
    "«Jeg kan bake en kake alene, men jeg trenger en venn som kan spise den», skrev en annen.\n",
    "Og jeg tror vi alle kan være enige med Alva åtte år om at: «Jeg gleder meg til alt skal bli vanlig igjen.»\n",
    "\n",
    "17. mai ble for mange – tross alt – en gledens dag over hele landet. Det hadde vi nesten ikke turt å håpe på. Nettopp dette året var det all grunn til å feire litt ekstra, siden vi markerte 75-årsjubileet for frigjøringen. Og nettopp da ble verdiene våre, alt det vi bygger på og har skapt sammen, satt på den hardeste prøven siden krigen.\n",
    "\n",
    "Vi har nå vist at vi har et folkestyre som bærer også i krisetid. Som er bygget på gjensidig tillit mellom myndighetene og folket – og mellom mennesker.  \n",
    "\n",
    "Vi har sett mot og handlekraft i situasjoner der vanskelige valg måtte tas.\n",
    "\n",
    "Vi har sett betydningen av å ha forvaltet verdiene våre med klokskap og sindighet over tid. Dette har gitt oss økonomisk ryggrad når vi virkelig har hatt bruk for det.\n",
    "\n",
    "Vi har opplevd en imponerende vilje, kreativitet og evne til å tenke nytt når hele bransjer ble lammet nærmest over natten. \n",
    "\n",
    "Vi har vist at vi er villige til å ofre mye av vårt eget til felleskapets beste. For hverandre.\n",
    "\n",
    "Vi er i en alvorlig situasjon – både i Norge og i verden. Men kriser tvinger frem endringer som også kan bli både gode og nødvendige – selv om de er smertefulle. Det har historien vist oss gang på gang.\n",
    "\n",
    "En kort stund så vi blå himmel og klart vann på noen av jordens mest forurensede steder. Dette bildet bærer vi med oss. Det gir håp, det viser muligheter – og det gir oss samtidig et ansvar.\n",
    "\n",
    "Så, kjære alle sammen – hvor går veien videre?\n",
    "\n",
    "Vi må nok være innstilt på et nytt år i møte med usikkerhet og vanskeligheter, men også med god grunn til optimisme. Vaksinene gir håp for hele verden.\n",
    "\n",
    "Samtidig blir det fortsatt tunge tider for store deler av samfunns- og næringslivet vårt. Vi kommer fortsatt til å ha en uvanlig hverdag. Det er lov til å være både redd, trist og fortvilet.\n",
    "\n",
    "Vi må være rause med hverandre – og med oss selv. For både dagene, humøret og motet svinger hos oss alle. Det er helt naturlig. \n",
    "\n",
    "Jeg tror nok mange har blitt litt slitne av ordet «dugnad» nå på tampen av året. Vanligvis betyr dugnad et skippertak for felleskapet, som kanskje avsluttes med en kaffekopp eller en pølse, godt fornøyd etter felles innsats. Men vi er ikke vant til å delta på maratondugnad hver for oss, med åpen slutt.\n",
    "\n",
    "Allikevel, kjære dere: Det er nettopp denne evnen til å få til noe sammen som har hjulpet oss gjennom – både nå og i tidligere tider. Nå må vi prøve å hente frem nye krefter vi kanskje ikke visste vi hadde – i oss selv og som samfunn.\n",
    "\n",
    "Vi må ta vare på hverandre. \n",
    "\n",
    "Jeg har spesiell omtanke for barna våre og de som er unge. Når det blir lenger mellom vaktpostene, kan mye lidelse og ensomhet gå under radaren. Sårbare unge blir ekstra utsatt når de mister nettverket sitt – eller den ene som pleier å se dem. Treneren, læreren, faren til en kamerat…\n",
    "\n",
    "Nå må vi være hverandres «ene». Den som stopper opp og ser, som tar en telefon og spør. Det er mange i landet vårt nå som føler at livet liksom går fra dem. Både unge og eldre synes de har dårlig tid:\n",
    "For de unge er tomrommet uten sosial kontakt helt naturstridig. For eldre er hver dag dyrebar.\n",
    "\n",
    "Mens vi venter, mens vi fortsetter å holde ut og leve dagene våre som best vi kan, er jeg sikker på at vi lærer noe viktig som vi kan ta med oss videre også etter at dette er over:\n",
    "\n",
    "Mange av oss har erkjent hvor godt det vanlige hverdagslivet egentlig er. For er det ikke alt det vanlige vi savner aller mest?\n",
    "\n",
    "Vi savner de gode, faste gjøremålene og aktivitetene vi har tatt for gitt. Å kunne samles med venner, kolleger og familie. Å la oss berøre og begeistre over felles opplevelser i et kulturhus eller på en fotballtribune. Vi savner mellomrommene: praten ved kaffemaskinen, de tilfeldige møtene i butikkene. Ofte er det i mellomrommene at verdifulle møter mellom oss finner sted.\n",
    "\n",
    "Vi har også lært noe annet viktig: Vi tåler mer enn vi tror. Det gir en indre trygghet og styrke – både som enkeltmennesker og som nasjon. Det skal vi huske på når neste styrkeprøve kommer.  \n",
    "\n",
    "Kjære alle sammen,\n",
    "Jeg kan ikke si at alt blir bra og at alt blir som før.\n",
    "En gutt spurte meg i et brev: «Kong Harald, er du hundre år?» Til det kan jeg svare: Nei, jeg er ikke fullt så gammel. Men jeg har vært med på mye gjennom et langt liv, og jeg kan love dere:\n",
    "\n",
    "Pandemien vi står i nå vil gå over.\n",
    "Vi har kommet gjennom store prøvelser før.\n",
    "En dag skal vi se oss tilbake og spørre hverandre: Hvordan i all verden klarte vi dette?\n",
    "\n",
    "Da skal vi vite med oss selv at vi klarte det fordi vi tok i bruk alt det beste – i hver enkelt av oss, i samfunnet vårt, i demokratiet vårt. Vi skal vite med oss selv at vi kom oss gjennom fordi vi aldri ga opp håpet.\n",
    "\n",
    "For det å håpe er en måte å leve på.\n",
    "Håp er vilje, håp er handling.\n",
    "Håp er å feste blikket på noe som gir oss mening – og følge det.\n",
    "Håpet skal bære oss alle inn i 2021.\n",
    "\n",
    "Jeg ønsker hver og en av dere et godt nytt år!\"\"\""
   ]
  },
  {
   "cell_type": "code",
   "execution_count": 101,
   "metadata": {},
   "outputs": [
    {
     "data": {
      "text/markdown": [
       "Updated file `C:\\Users\\larsj\\Documents\\GitHub\\Miscellaneous-Notebooks\\DHlab_språkbanken\\dhlab_v2.py`"
      ],
      "text/plain": [
       "<IPython.core.display.Markdown object>"
      ]
     },
     "metadata": {},
     "output_type": "display_data"
    },
    {
     "data": {
      "text/markdown": [
       "Updated file `C:\\Users\\larsj\\Documents\\GitHub\\Miscellaneous-Notebooks\\DHlab_språkbanken\\wordbank.py`"
      ],
      "text/plain": [
       "<IPython.core.display.Markdown object>"
      ]
     },
     "metadata": {},
     "output_type": "display_data"
    }
   ],
   "source": [
    "import dhlab.module_update as mu\n",
    "mu.update('dhlab_v2')\n",
    "mu.update('wordbank')"
   ]
  },
  {
   "cell_type": "code",
   "execution_count": 102,
   "metadata": {},
   "outputs": [],
   "source": [
    "from dhlab.nbtokenizer import tokenize\n",
    "from collections import Counter\n",
    "import pandas as pd\n",
    "import dhlab_v2 as d2\n",
    "import wordbank as wb"
   ]
  },
  {
   "cell_type": "code",
   "execution_count": 13,
   "metadata": {},
   "outputs": [],
   "source": [
    "df = pd.DataFrame.from_dict(Counter(tokenize(kong_haralds_nyttårstale)), orient = 'index', columns = ['frekvens'])"
   ]
  },
  {
   "cell_type": "code",
   "execution_count": 17,
   "metadata": {},
   "outputs": [
    {
     "data": {
      "text/html": [
       "<div>\n",
       "<style scoped>\n",
       "    .dataframe tbody tr th:only-of-type {\n",
       "        vertical-align: middle;\n",
       "    }\n",
       "\n",
       "    .dataframe tbody tr th {\n",
       "        vertical-align: top;\n",
       "    }\n",
       "\n",
       "    .dataframe thead th {\n",
       "        text-align: right;\n",
       "    }\n",
       "</style>\n",
       "<table border=\"1\" class=\"dataframe\">\n",
       "  <thead>\n",
       "    <tr style=\"text-align: right;\">\n",
       "      <th></th>\n",
       "      <th>frekvens</th>\n",
       "    </tr>\n",
       "  </thead>\n",
       "  <tbody>\n",
       "    <tr>\n",
       "      <th>.</th>\n",
       "      <td>94</td>\n",
       "    </tr>\n",
       "    <tr>\n",
       "      <th>og</th>\n",
       "      <td>53</td>\n",
       "    </tr>\n",
       "    <tr>\n",
       "      <th>vi</th>\n",
       "      <td>43</td>\n",
       "    </tr>\n",
       "    <tr>\n",
       "      <th>,</th>\n",
       "      <td>40</td>\n",
       "    </tr>\n",
       "    <tr>\n",
       "      <th>i</th>\n",
       "      <td>39</td>\n",
       "    </tr>\n",
       "    <tr>\n",
       "      <th>har</th>\n",
       "      <td>37</td>\n",
       "    </tr>\n",
       "    <tr>\n",
       "      <th>som</th>\n",
       "      <td>32</td>\n",
       "    </tr>\n",
       "    <tr>\n",
       "      <th>er</th>\n",
       "      <td>30</td>\n",
       "    </tr>\n",
       "    <tr>\n",
       "      <th>oss</th>\n",
       "      <td>25</td>\n",
       "    </tr>\n",
       "    <tr>\n",
       "      <th>det</th>\n",
       "      <td>25</td>\n",
       "    </tr>\n",
       "  </tbody>\n",
       "</table>\n",
       "</div>"
      ],
      "text/plain": [
       "     frekvens\n",
       ".          94\n",
       "og         53\n",
       "vi         43\n",
       ",          40\n",
       "i          39\n",
       "har        37\n",
       "som        32\n",
       "er         30\n",
       "oss        25\n",
       "det        25"
      ]
     },
     "execution_count": 17,
     "metadata": {},
     "output_type": "execute_result"
    }
   ],
   "source": [
    "df.sort_values(by = 'frekvens', ascending = False).head(10)"
   ]
  },
  {
   "cell_type": "code",
   "execution_count": 69,
   "metadata": {},
   "outputs": [],
   "source": [
    "dfalpha = df.loc[[x for x in df.index if x.isalpha()]].sort_values(by = 'frekvens', ascending = False)"
   ]
  },
  {
   "cell_type": "code",
   "execution_count": 73,
   "metadata": {},
   "outputs": [],
   "source": [
    "dfalpha['ratio'] = dfalpha.frekvens.div(dfalpha.frekvens.shift(1))"
   ]
  },
  {
   "cell_type": "code",
   "execution_count": 96,
   "metadata": {},
   "outputs": [
    {
     "data": {
      "text/plain": [
       "'endringer, nødvendige, demokratiet, Allikevel, kort, smertefulle, historien, slutt, bære, åpen'"
      ]
     },
     "execution_count": 96,
     "metadata": {},
     "output_type": "execute_result"
    }
   ],
   "source": [
    "\", \".join(dfalpha[200:210].sort_values(by = 'frekvens', ascending = False).head(20).index)"
   ]
  },
  {
   "cell_type": "code",
   "execution_count": 99,
   "metadata": {},
   "outputs": [
    {
     "data": {
      "text/plain": [
       "'Det, et, de, Jeg, kan, år, ikke, For, mye, fra'"
      ]
     },
     "execution_count": 99,
     "metadata": {},
     "output_type": "execute_result"
    }
   ],
   "source": [
    "\", \".join(dfalpha[20:30].sort_values(by = 'frekvens', ascending = False).head(20).index)"
   ]
  },
  {
   "cell_type": "code",
   "execution_count": 106,
   "metadata": {},
   "outputs": [],
   "source": [
    "a = wb.word_form_many(list(dfalpha.index))"
   ]
  },
  {
   "cell_type": "code",
   "execution_count": 126,
   "metadata": {},
   "outputs": [],
   "source": [
    "wordlist = [(x[0], x[1].split()[0]) for x in a]"
   ]
  },
  {
   "cell_type": "code",
   "execution_count": 133,
   "metadata": {},
   "outputs": [],
   "source": [
    "formlist = [(x[0], frozenset([f[1] for f in wordlist if f[0] == x[0]])) for x in wordlist]"
   ]
  },
  {
   "cell_type": "code",
   "execution_count": 139,
   "metadata": {},
   "outputs": [],
   "source": [
    "forms = dict(set(formlist))"
   ]
  },
  {
   "cell_type": "code",
   "execution_count": 144,
   "metadata": {},
   "outputs": [
    {
     "data": {
      "text/plain": [
       "frozenset()"
      ]
     },
     "execution_count": 144,
     "metadata": {},
     "output_type": "execute_result"
    }
   ],
   "source": [
    "forms['og'] & forms['år']"
   ]
  },
  {
   "cell_type": "code",
   "execution_count": 148,
   "metadata": {},
   "outputs": [
    {
     "data": {
      "text/html": [
       "<div>\n",
       "<style scoped>\n",
       "    .dataframe tbody tr th:only-of-type {\n",
       "        vertical-align: middle;\n",
       "    }\n",
       "\n",
       "    .dataframe tbody tr th {\n",
       "        vertical-align: top;\n",
       "    }\n",
       "\n",
       "    .dataframe thead th {\n",
       "        text-align: right;\n",
       "    }\n",
       "</style>\n",
       "<table border=\"1\" class=\"dataframe\">\n",
       "  <thead>\n",
       "    <tr style=\"text-align: right;\">\n",
       "      <th></th>\n",
       "      <th>frekvens</th>\n",
       "      <th>ratio</th>\n",
       "    </tr>\n",
       "  </thead>\n",
       "  <tbody>\n",
       "    <tr>\n",
       "      <th>selv</th>\n",
       "      <td>5</td>\n",
       "      <td>1.0</td>\n",
       "    </tr>\n",
       "    <tr>\n",
       "      <th>hele</th>\n",
       "      <td>5</td>\n",
       "      <td>1.0</td>\n",
       "    </tr>\n",
       "    <tr>\n",
       "      <th>unge</th>\n",
       "      <td>4</td>\n",
       "      <td>1.0</td>\n",
       "    </tr>\n",
       "    <tr>\n",
       "      <th>godt</th>\n",
       "      <td>4</td>\n",
       "      <td>1.0</td>\n",
       "    </tr>\n",
       "    <tr>\n",
       "      <th>gang</th>\n",
       "      <td>3</td>\n",
       "      <td>1.0</td>\n",
       "    </tr>\n",
       "    <tr>\n",
       "      <th>...</th>\n",
       "      <td>...</td>\n",
       "      <td>...</td>\n",
       "    </tr>\n",
       "    <tr>\n",
       "      <th>krisetid</th>\n",
       "      <td>1</td>\n",
       "      <td>1.0</td>\n",
       "    </tr>\n",
       "    <tr>\n",
       "      <th>love</th>\n",
       "      <td>1</td>\n",
       "      <td>1.0</td>\n",
       "    </tr>\n",
       "    <tr>\n",
       "      <th>bygget</th>\n",
       "      <td>1</td>\n",
       "      <td>1.0</td>\n",
       "    </tr>\n",
       "    <tr>\n",
       "      <th>tunge</th>\n",
       "      <td>1</td>\n",
       "      <td>1.0</td>\n",
       "    </tr>\n",
       "    <tr>\n",
       "      <th>følge</th>\n",
       "      <td>1</td>\n",
       "      <td>1.0</td>\n",
       "    </tr>\n",
       "  </tbody>\n",
       "</table>\n",
       "<p>248 rows × 2 columns</p>\n",
       "</div>"
      ],
      "text/plain": [
       "          frekvens  ratio\n",
       "selv             5    1.0\n",
       "hele             5    1.0\n",
       "unge             4    1.0\n",
       "godt             4    1.0\n",
       "gang             3    1.0\n",
       "...            ...    ...\n",
       "krisetid         1    1.0\n",
       "love             1    1.0\n",
       "bygget           1    1.0\n",
       "tunge            1    1.0\n",
       "følge            1    1.0\n",
       "\n",
       "[248 rows x 2 columns]"
      ]
     },
     "execution_count": 148,
     "metadata": {},
     "output_type": "execute_result"
    }
   ],
   "source": [
    "dfalpha.loc[[x for x in forms if 'subst' in forms[x] and {'prep', 'interj', ''} & forms[x] == frozenset()]].sort_values(by = 'frekvens', ascending = False)[10:]"
   ]
  },
  {
   "cell_type": "code",
   "execution_count": 151,
   "metadata": {},
   "outputs": [],
   "source": [
    "talen = tokenize(kong_haralds_nyttårstale)"
   ]
  },
  {
   "cell_type": "code",
   "execution_count": 202,
   "metadata": {},
   "outputs": [],
   "source": [
    "def concs(word, text, maxnum = 10):\n",
    "    concs = []\n",
    "    x = find(word, text)\n",
    "    i = 0\n",
    "    y = x\n",
    "    while y >= 0 and i < maxnum:\n",
    "        i += 1\n",
    "        concs.append(' '.join(text[max(x - 10, 0): x+10]))\n",
    "        y = find(word, text[x + 1:])\n",
    "        #print(x, y)\n",
    "        x += y + 1\n",
    "    return concs\n",
    "    "
   ]
  },
  {
   "cell_type": "code",
   "execution_count": 191,
   "metadata": {},
   "outputs": [],
   "source": [
    "def find(x, y):\n",
    "    try:\n",
    "        res = y.index(x)\n",
    "    except:\n",
    "        res = -1\n",
    "    return res"
   ]
  },
  {
   "cell_type": "code",
   "execution_count": 197,
   "metadata": {},
   "outputs": [
    {
     "data": {
      "text/plain": [
       "0"
      ]
     },
     "execution_count": 197,
     "metadata": {},
     "output_type": "execute_result"
    }
   ],
   "source": [
    "find('og', talen[44:])"
   ]
  },
  {
   "cell_type": "code",
   "execution_count": 207,
   "metadata": {},
   "outputs": [
    {
     "data": {
      "text/plain": [
       "['mai ble for mange – tross alt – en gledens dag over hele landet . Det hadde vi nesten ikke',\n",
       " 'uten sosial kontakt helt naturstridig . For eldre er hver dag dyrebar . Mens vi venter , mens vi fortsetter',\n",
       " '. Vi har kommet gjennom store prøvelser før . En dag skal vi se oss tilbake og spørre hverandre :']"
      ]
     },
     "execution_count": 207,
     "metadata": {},
     "output_type": "execute_result"
    }
   ],
   "source": [
    "concs('dag', talen)"
   ]
  },
  {
   "cell_type": "code",
   "execution_count": 116,
   "metadata": {},
   "outputs": [],
   "source": [
    "subst = list(set([x[0] for x in a if x[1].startswith('subst')]))"
   ]
  },
  {
   "cell_type": "code",
   "execution_count": 118,
   "metadata": {},
   "outputs": [
    {
     "data": {
      "text/html": [
       "<div>\n",
       "<style scoped>\n",
       "    .dataframe tbody tr th:only-of-type {\n",
       "        vertical-align: middle;\n",
       "    }\n",
       "\n",
       "    .dataframe tbody tr th {\n",
       "        vertical-align: top;\n",
       "    }\n",
       "\n",
       "    .dataframe thead th {\n",
       "        text-align: right;\n",
       "    }\n",
       "</style>\n",
       "<table border=\"1\" class=\"dataframe\">\n",
       "  <thead>\n",
       "    <tr style=\"text-align: right;\">\n",
       "      <th></th>\n",
       "      <th>frekvens</th>\n",
       "      <th>ratio</th>\n",
       "    </tr>\n",
       "  </thead>\n",
       "  <tbody>\n",
       "    <tr>\n",
       "      <th>i</th>\n",
       "      <td>39</td>\n",
       "      <td>0.906977</td>\n",
       "    </tr>\n",
       "    <tr>\n",
       "      <th>å</th>\n",
       "      <td>22</td>\n",
       "      <td>0.916667</td>\n",
       "    </tr>\n",
       "    <tr>\n",
       "      <th>med</th>\n",
       "      <td>18</td>\n",
       "      <td>1.000000</td>\n",
       "    </tr>\n",
       "    <tr>\n",
       "      <th>jeg</th>\n",
       "      <td>11</td>\n",
       "      <td>0.846154</td>\n",
       "    </tr>\n",
       "    <tr>\n",
       "      <th>kan</th>\n",
       "      <td>10</td>\n",
       "      <td>1.000000</td>\n",
       "    </tr>\n",
       "    <tr>\n",
       "      <th>ikke</th>\n",
       "      <td>9</td>\n",
       "      <td>1.000000</td>\n",
       "    </tr>\n",
       "    <tr>\n",
       "      <th>år</th>\n",
       "      <td>9</td>\n",
       "      <td>0.900000</td>\n",
       "    </tr>\n",
       "    <tr>\n",
       "      <th>alt</th>\n",
       "      <td>8</td>\n",
       "      <td>1.000000</td>\n",
       "    </tr>\n",
       "    <tr>\n",
       "      <th>skal</th>\n",
       "      <td>7</td>\n",
       "      <td>0.875000</td>\n",
       "    </tr>\n",
       "    <tr>\n",
       "      <th>nå</th>\n",
       "      <td>7</td>\n",
       "      <td>1.000000</td>\n",
       "    </tr>\n",
       "    <tr>\n",
       "      <th>så</th>\n",
       "      <td>7</td>\n",
       "      <td>1.000000</td>\n",
       "    </tr>\n",
       "    <tr>\n",
       "      <th>året</th>\n",
       "      <td>6</td>\n",
       "      <td>1.000000</td>\n",
       "    </tr>\n",
       "    <tr>\n",
       "      <th>gir</th>\n",
       "      <td>5</td>\n",
       "      <td>1.000000</td>\n",
       "    </tr>\n",
       "    <tr>\n",
       "      <th>hele</th>\n",
       "      <td>5</td>\n",
       "      <td>1.000000</td>\n",
       "    </tr>\n",
       "    <tr>\n",
       "      <th>selv</th>\n",
       "      <td>5</td>\n",
       "      <td>1.000000</td>\n",
       "    </tr>\n",
       "    <tr>\n",
       "      <th>være</th>\n",
       "      <td>5</td>\n",
       "      <td>1.000000</td>\n",
       "    </tr>\n",
       "    <tr>\n",
       "      <th>om</th>\n",
       "      <td>4</td>\n",
       "      <td>1.000000</td>\n",
       "    </tr>\n",
       "    <tr>\n",
       "      <th>unge</th>\n",
       "      <td>4</td>\n",
       "      <td>1.000000</td>\n",
       "    </tr>\n",
       "    <tr>\n",
       "      <th>godt</th>\n",
       "      <td>4</td>\n",
       "      <td>1.000000</td>\n",
       "    </tr>\n",
       "    <tr>\n",
       "      <th>vist</th>\n",
       "      <td>3</td>\n",
       "      <td>1.000000</td>\n",
       "    </tr>\n",
       "    <tr>\n",
       "      <th>føler</th>\n",
       "      <td>3</td>\n",
       "      <td>1.000000</td>\n",
       "    </tr>\n",
       "    <tr>\n",
       "      <th>dag</th>\n",
       "      <td>3</td>\n",
       "      <td>1.000000</td>\n",
       "    </tr>\n",
       "    <tr>\n",
       "      <th>verden</th>\n",
       "      <td>3</td>\n",
       "      <td>1.000000</td>\n",
       "    </tr>\n",
       "    <tr>\n",
       "      <th>siden</th>\n",
       "      <td>3</td>\n",
       "      <td>1.000000</td>\n",
       "    </tr>\n",
       "    <tr>\n",
       "      <th>var</th>\n",
       "      <td>3</td>\n",
       "      <td>0.750000</td>\n",
       "    </tr>\n",
       "    <tr>\n",
       "      <th>kommer</th>\n",
       "      <td>3</td>\n",
       "      <td>1.000000</td>\n",
       "    </tr>\n",
       "    <tr>\n",
       "      <th>barna</th>\n",
       "      <td>3</td>\n",
       "      <td>1.000000</td>\n",
       "    </tr>\n",
       "    <tr>\n",
       "      <th>gang</th>\n",
       "      <td>3</td>\n",
       "      <td>1.000000</td>\n",
       "    </tr>\n",
       "    <tr>\n",
       "      <th>nytt</th>\n",
       "      <td>3</td>\n",
       "      <td>1.000000</td>\n",
       "    </tr>\n",
       "    <tr>\n",
       "      <th>gode</th>\n",
       "      <td>3</td>\n",
       "      <td>1.000000</td>\n",
       "    </tr>\n",
       "  </tbody>\n",
       "</table>\n",
       "</div>"
      ],
      "text/plain": [
       "        frekvens     ratio\n",
       "i             39  0.906977\n",
       "å             22  0.916667\n",
       "med           18  1.000000\n",
       "jeg           11  0.846154\n",
       "kan           10  1.000000\n",
       "ikke           9  1.000000\n",
       "år             9  0.900000\n",
       "alt            8  1.000000\n",
       "skal           7  0.875000\n",
       "nå             7  1.000000\n",
       "så             7  1.000000\n",
       "året           6  1.000000\n",
       "gir            5  1.000000\n",
       "hele           5  1.000000\n",
       "selv           5  1.000000\n",
       "være           5  1.000000\n",
       "om             4  1.000000\n",
       "unge           4  1.000000\n",
       "godt           4  1.000000\n",
       "vist           3  1.000000\n",
       "føler          3  1.000000\n",
       "dag            3  1.000000\n",
       "verden         3  1.000000\n",
       "siden          3  1.000000\n",
       "var            3  0.750000\n",
       "kommer         3  1.000000\n",
       "barna          3  1.000000\n",
       "gang           3  1.000000\n",
       "nytt           3  1.000000\n",
       "gode           3  1.000000"
      ]
     },
     "execution_count": 118,
     "metadata": {},
     "output_type": "execute_result"
    }
   ],
   "source": [
    "dfalpha.loc[subst].sort_values(by = 'frekvens', ascending = False).                               head(30)"
   ]
  },
  {
   "cell_type": "code",
   "execution_count": 63,
   "metadata": {},
   "outputs": [
    {
     "data": {
      "text/plain": [
       "<matplotlib.axes._subplots.AxesSubplot at 0x240295076d0>"
      ]
     },
     "execution_count": 63,
     "metadata": {},
     "output_type": "execute_result"
    },
    {
     "data": {
      "image/png": "[encoded data removed]",
      "text/plain": [
       "<Figure size 432x360 with 1 Axes>"
      ]
     },
     "metadata": {
      "needs_background": "light"
     },
     "output_type": "display_data"
    }
   ],
   "source": [
    "dfalpha.sort_values(by = 'frekvens', ascending = False).head(200).plot(kind = 'line', rot = 30, figsize = (6,5), lw = 3)"
   ]
  },
  {
   "cell_type": "code",
   "execution_count": 53,
   "metadata": {},
   "outputs": [],
   "source": [
    "t = d2.totals(5000)"
   ]
  },
  {
   "cell_type": "code",
   "execution_count": 57,
   "metadata": {},
   "outputs": [],
   "source": [
    "alpha = t.loc[[x for x in t.index if x.isalpha()]]"
   ]
  },
  {
   "cell_type": "code",
   "execution_count": 81,
   "metadata": {},
   "outputs": [],
   "source": [
    "alpha['ratio'] = alpha.freq - alpha.freq.shift(-1)"
   ]
  },
  {
   "cell_type": "code",
   "execution_count": 82,
   "metadata": {},
   "outputs": [
    {
     "data": {
      "text/html": [
       "<div>\n",
       "<style scoped>\n",
       "    .dataframe tbody tr th:only-of-type {\n",
       "        vertical-align: middle;\n",
       "    }\n",
       "\n",
       "    .dataframe tbody tr th {\n",
       "        vertical-align: top;\n",
       "    }\n",
       "\n",
       "    .dataframe thead th {\n",
       "        text-align: right;\n",
       "    }\n",
       "</style>\n",
       "<table border=\"1\" class=\"dataframe\">\n",
       "  <thead>\n",
       "    <tr style=\"text-align: right;\">\n",
       "      <th></th>\n",
       "      <th>freq</th>\n",
       "      <th>ratio</th>\n",
       "    </tr>\n",
       "  </thead>\n",
       "  <tbody>\n",
       "    <tr>\n",
       "      <th>i</th>\n",
       "      <td>2531262027</td>\n",
       "      <td>1.099397e+07</td>\n",
       "    </tr>\n",
       "    <tr>\n",
       "      <th>og</th>\n",
       "      <td>2520268056</td>\n",
       "      <td>1.224070e+09</td>\n",
       "    </tr>\n",
       "    <tr>\n",
       "      <th>er</th>\n",
       "      <td>1296198055</td>\n",
       "      <td>2.378232e+07</td>\n",
       "    </tr>\n",
       "    <tr>\n",
       "      <th>til</th>\n",
       "      <td>1272415735</td>\n",
       "      <td>1.397668e+08</td>\n",
       "    </tr>\n",
       "    <tr>\n",
       "      <th>det</th>\n",
       "      <td>1132648890</td>\n",
       "      <td>2.246477e+07</td>\n",
       "    </tr>\n",
       "    <tr>\n",
       "      <th>som</th>\n",
       "      <td>1110184118</td>\n",
       "      <td>7.542591e+07</td>\n",
       "    </tr>\n",
       "    <tr>\n",
       "      <th>på</th>\n",
       "      <td>1034758204</td>\n",
       "      <td>1.874780e+07</td>\n",
       "    </tr>\n",
       "    <tr>\n",
       "      <th>av</th>\n",
       "      <td>1016010400</td>\n",
       "      <td>1.110669e+07</td>\n",
       "    </tr>\n",
       "    <tr>\n",
       "      <th>for</th>\n",
       "      <td>1004903709</td>\n",
       "      <td>3.550973e+07</td>\n",
       "    </tr>\n",
       "    <tr>\n",
       "      <th>en</th>\n",
       "      <td>969393975</td>\n",
       "      <td>7.161443e+07</td>\n",
       "    </tr>\n",
       "    <tr>\n",
       "      <th>med</th>\n",
       "      <td>897779544</td>\n",
       "      <td>2.085212e+06</td>\n",
       "    </tr>\n",
       "    <tr>\n",
       "      <th>at</th>\n",
       "      <td>895694332</td>\n",
       "      <td>7.395175e+07</td>\n",
       "    </tr>\n",
       "    <tr>\n",
       "      <th>å</th>\n",
       "      <td>821742586</td>\n",
       "      <td>1.355451e+08</td>\n",
       "    </tr>\n",
       "    <tr>\n",
       "      <th>har</th>\n",
       "      <td>686197523</td>\n",
       "      <td>1.183684e+08</td>\n",
       "    </tr>\n",
       "    <tr>\n",
       "      <th>den</th>\n",
       "      <td>567829145</td>\n",
       "      <td>2.480370e+06</td>\n",
       "    </tr>\n",
       "    <tr>\n",
       "      <th>de</th>\n",
       "      <td>565348775</td>\n",
       "      <td>3.926432e+07</td>\n",
       "    </tr>\n",
       "    <tr>\n",
       "      <th>ikke</th>\n",
       "      <td>526084460</td>\n",
       "      <td>2.413209e+07</td>\n",
       "    </tr>\n",
       "    <tr>\n",
       "      <th>var</th>\n",
       "      <td>501952366</td>\n",
       "      <td>2.425373e+07</td>\n",
       "    </tr>\n",
       "    <tr>\n",
       "      <th>om</th>\n",
       "      <td>477698633</td>\n",
       "      <td>3.631071e+06</td>\n",
       "    </tr>\n",
       "    <tr>\n",
       "      <th>fra</th>\n",
       "      <td>474067562</td>\n",
       "      <td>3.251915e+07</td>\n",
       "    </tr>\n",
       "  </tbody>\n",
       "</table>\n",
       "</div>"
      ],
      "text/plain": [
       "            freq         ratio\n",
       "i     2531262027  1.099397e+07\n",
       "og    2520268056  1.224070e+09\n",
       "er    1296198055  2.378232e+07\n",
       "til   1272415735  1.397668e+08\n",
       "det   1132648890  2.246477e+07\n",
       "som   1110184118  7.542591e+07\n",
       "på    1034758204  1.874780e+07\n",
       "av    1016010400  1.110669e+07\n",
       "for   1004903709  3.550973e+07\n",
       "en     969393975  7.161443e+07\n",
       "med    897779544  2.085212e+06\n",
       "at     895694332  7.395175e+07\n",
       "å      821742586  1.355451e+08\n",
       "har    686197523  1.183684e+08\n",
       "den    567829145  2.480370e+06\n",
       "de     565348775  3.926432e+07\n",
       "ikke   526084460  2.413209e+07\n",
       "var    501952366  2.425373e+07\n",
       "om     477698633  3.631071e+06\n",
       "fra    474067562  3.251915e+07"
      ]
     },
     "execution_count": 82,
     "metadata": {},
     "output_type": "execute_result"
    }
   ],
   "source": [
    "alpha.head(20)"
   ]
  },
  {
   "cell_type": "code",
   "execution_count": 77,
   "metadata": {},
   "outputs": [
    {
     "data": {
      "text/plain": [
       "<matplotlib.axes._subplots.AxesSubplot at 0x2402a7d6e50>"
      ]
     },
     "execution_count": 77,
     "metadata": {},
     "output_type": "execute_result"
    },
    {
     "data": {
      "image/png": "[encoded data removed]",
      "text/plain": [
       "<Figure size 432x360 with 1 Axes>"
      ]
     },
     "metadata": {
      "needs_background": "light"
     },
     "output_type": "display_data"
    }
   ],
   "source": [
    "alpha.head(200).plot(kind = 'line', rot = 30, figsize = (6,5), lw = 3)"
   ]
  },
  {
   "cell_type": "code",
   "execution_count": 21,
   "metadata": {},
   "outputs": [],
   "source": [
    "f = d2.get_document_frequencies(urns = [\"URN:NBN:no-nb_digibok_2011070605099\"])"
   ]
  },
  {
   "cell_type": "code",
   "execution_count": 25,
   "metadata": {},
   "outputs": [
    {
     "data": {
      "text/html": [
       "<div>\n",
       "<style scoped>\n",
       "    .dataframe tbody tr th:only-of-type {\n",
       "        vertical-align: middle;\n",
       "    }\n",
       "\n",
       "    .dataframe tbody tr th {\n",
       "        vertical-align: top;\n",
       "    }\n",
       "\n",
       "    .dataframe thead th {\n",
       "        text-align: right;\n",
       "    }\n",
       "</style>\n",
       "<table border=\"1\" class=\"dataframe\">\n",
       "  <thead>\n",
       "    <tr style=\"text-align: right;\">\n",
       "      <th></th>\n",
       "      <th>URN:NBN:no-nb_digibok_2011070605099</th>\n",
       "    </tr>\n",
       "  </thead>\n",
       "  <tbody>\n",
       "    <tr>\n",
       "      <th>han</th>\n",
       "      <td>182</td>\n",
       "    </tr>\n",
       "    <tr>\n",
       "      <th>hun</th>\n",
       "      <td>1219</td>\n",
       "    </tr>\n",
       "  </tbody>\n",
       "</table>\n",
       "</div>"
      ],
      "text/plain": [
       "     URN:NBN:no-nb_digibok_2011070605099\n",
       "han                                  182\n",
       "hun                                 1219"
      ]
     },
     "execution_count": 25,
     "metadata": {},
     "output_type": "execute_result"
    }
   ],
   "source": [
    "f.loc['han hun'.split()]"
   ]
  }
 ],
 "metadata": {
  "kernelspec": {
   "display_name": "Python 3",
   "language": "python",
   "name": "python3"
  },
  "language_info": {
   "codemirror_mode": {
    "name": "ipython",
    "version": 3
   },
   "file_extension": ".py",
   "mimetype": "text/x-python",
   "name": "python",
   "nbconvert_exporter": "python",
   "pygments_lexer": "ipython3",
   "version": "3.8.3"
  }
 },
 "nbformat": 4,
 "nbformat_minor": 4
}

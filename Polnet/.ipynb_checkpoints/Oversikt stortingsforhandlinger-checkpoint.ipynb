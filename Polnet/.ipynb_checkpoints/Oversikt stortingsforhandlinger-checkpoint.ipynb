{
 "cells": [
  {
   "cell_type": "markdown",
   "metadata": {},
   "source": [
    "# Hente ut data fra statsmaktene"
   ]
  },
  {
   "cell_type": "code",
   "execution_count": 49,
   "metadata": {},
   "outputs": [],
   "source": [
    "import dhlab.nbtext as nb\n",
    "from dhlab.nbtokenizer import tokenize\n",
    "import json\n",
    "import pandas as pd"
   ]
  },
  {
   "cell_type": "code",
   "execution_count": 44,
   "metadata": {},
   "outputs": [
    {
     "data": {
      "text/html": [
       "<style>@import url(\n",
       "http://fonts.googleapis.com/css?family=Lato|Philosopher|Montserrat|Source+Code+Pro|Istok+Web|Philosopher|Assistant:200,400,700);\n",
       "\n",
       "/*\n",
       "#notebook-container {\n",
       "\t-webkit-box-shadow: none;\n",
       "\tbox-shadow: none;\n",
       "}\n",
       "*/\n",
       "\n",
       "h1, h2, h3, h4, h5, h6 {\n",
       "\tfont-family: 'Montserrat', sans-serif;\n",
       "\tline-height: 2em;\n",
       "    color: #004f99;\n",
       "    font-weight: 600;\n",
       "}\n",
       "\n",
       "h1 { font-size: 4.5em; }\n",
       "h2 { font-size: 4em; }\n",
       "h3 { font-size: 3.5em; }\n",
       "h4 { font-size: 3em; }\n",
       "h5 { font-size: 2.5em; color:DarkSlateGray; }\n",
       "h6 { font-size: 2em; }\n",
       "\n",
       "p {\n",
       "\tfont-family: 'Assistant', sans-serif; \n",
       "\tfont-size: 1.2em;\n",
       "\tline-height: 1.4em;\n",
       "\tcolor: black;\n",
       "}\n",
       "p code {\n",
       "\tfont-size:0.9em;\n",
       "}\n",
       "div.input_area {\n",
       "\tborder:none !important;\n",
       "\tborder-left:1px solid #ff851b !important\n",
       "}\n",
       "\n",
       "span.cm-keyword {\n",
       "\tcolor:#339966 !important;\n",
       "}\n",
       "span.nn {  /*span.cm-variable, span.cm-property*/\n",
       "\tcolor: #3399ff !important;\n",
       "}\n",
       "div.CodeMirror {\n",
       "\tfont-family: 'Inconsolata', monospace;\n",
       "\tfont-size: 1.1em;\n",
       "\t\n",
       "}\n",
       "</style>"
      ],
      "text/plain": [
       "<IPython.core.display.HTML object>"
      ]
     },
     "execution_count": 44,
     "metadata": {},
     "output_type": "execute_result"
    }
   ],
   "source": [
    "from dhlab.module_update import css\n",
    "css()"
   ]
  },
  {
   "cell_type": "markdown",
   "metadata": {},
   "source": [
    "### Litt hjelp fra nb_api"
   ]
  },
  {
   "cell_type": "code",
   "execution_count": 3,
   "metadata": {},
   "outputs": [],
   "source": [
    "import nb_api as nap"
   ]
  },
  {
   "cell_type": "markdown",
   "metadata": {},
   "source": [
    "Henter data fra listen over stortingsforhandlinger. Teksten er tilgjengelig, men må lastes fra server"
   ]
  },
  {
   "cell_type": "code",
   "execution_count": 4,
   "metadata": {},
   "outputs": [],
   "source": [
    "storting = json.load(open('stortingsforhandlinger.json'))"
   ]
  },
  {
   "cell_type": "markdown",
   "metadata": {},
   "source": [
    "I zotero ligger data for Polnet"
   ]
  },
  {
   "cell_type": "code",
   "execution_count": 16,
   "metadata": {},
   "outputs": [],
   "source": [
    "zotero = pd.read_excel(\"Zoterobibliotek eksportert_010420.xlsx\").fillna('')"
   ]
  },
  {
   "cell_type": "code",
   "execution_count": 17,
   "metadata": {},
   "outputs": [
    {
     "data": {
      "text/plain": [
       "Index(['Key', 'Source ID', 'Column1', 'Item Type', 'Publication Year',\n",
       "       'Author', 'Title', 'Publication Title', 'ISBN', 'ISSN', 'DOI', 'Url',\n",
       "       'Abstract Note', 'Date', 'Date Added', 'Date Modified', 'Access Date',\n",
       "       'Pages', 'Num Pages', 'Issue', 'Volume', 'Number Of Volumes',\n",
       "       'Journal Abbreviation', 'Short Title', 'Series', 'Series Number',\n",
       "       'Series Text', 'Series Title', 'Publisher', 'Place', 'Language',\n",
       "       'Rights', 'Type', 'Archive', 'Archive Location', 'Library Catalog',\n",
       "       'Call Number', 'Extra', 'Notes', 'File Attachments', 'Link Attachments',\n",
       "       'Manual Tags', 'Automatic Tags', 'Editor', 'Series Editor',\n",
       "       'Translator', 'Contributor', 'Attorney Agent', 'Book Author',\n",
       "       'Cast Member', 'Commenter', 'Composer', 'Cosponsor', 'Counsel',\n",
       "       'Interviewer', 'Producer', 'Recipient', 'Reviewed Author',\n",
       "       'Scriptwriter', 'Words By', 'Guest', 'Number', 'Edition',\n",
       "       'Running Time', 'Scale', 'Medium', 'Artwork Size', 'Filing Date',\n",
       "       'Application Number', 'Assignee', 'Issuing Authority', 'Country',\n",
       "       'Meeting Name', 'Conference Name', 'Court', 'References', 'Reporter',\n",
       "       'Legal Status', 'Priority Numbers', 'Programming Language', 'Version',\n",
       "       'System', 'Code', 'Code Number', 'Section', 'Session', 'Committee',\n",
       "       'History', 'Legislative Body'],\n",
       "      dtype='object')"
      ]
     },
     "execution_count": 17,
     "metadata": {},
     "output_type": "execute_result"
    }
   ],
   "source": [
    "zotero.columns"
   ]
  },
  {
   "cell_type": "markdown",
   "metadata": {},
   "source": [
    "# Henter ut sesamid fra zoterodataene"
   ]
  },
  {
   "cell_type": "code",
   "execution_count": 30,
   "metadata": {},
   "outputs": [],
   "source": [
    "nb_sesamid = list(zotero['Url'][zotero['Url'].str.contains('nb.no/statsmaktene')])"
   ]
  },
  {
   "cell_type": "code",
   "execution_count": 34,
   "metadata": {},
   "outputs": [
    {
     "data": {
      "text/plain": [
       "['5c15bbeeba31f51f2eeaf760d831cb99',\n",
       " 'ca49bb43eeb537f04d71bb76bf978663',\n",
       " '22ade39f6909f817f358a81a16ca1337',\n",
       " '45615976d5e5bff65500f7f8bb7fcf87',\n",
       " 'cc4e6f1a51d0b2b7b0f7ee91b2725dc0',\n",
       " '239023bb3d2c6c929cc4b0e5745ff04f',\n",
       " '402704eb18c7457f8028fb395711d67d',\n",
       " '34e99b229e19ce09321b4a638cb70591',\n",
       " '10e12275a2045ac7d285810f051438a0',\n",
       " '7d613660e48af65964d9e9c770965f99',\n",
       " '52470e64848d04673b16f11843b0c213',\n",
       " '10e12275a2045ac7d285810f051438a0',\n",
       " '35ac72d60c8323809e0bee56ae8d409b',\n",
       " '3d73284e883e9bc88b1274b9d188325f',\n",
       " '7ddb652639192040c8482e1aa65950e5',\n",
       " '7ddb652639192040c8482e1aa65950e5',\n",
       " '35ac72d60c8323809e0bee56ae8d409b',\n",
       " '83de979fe8c73139d8c711a53b056aa3',\n",
       " 'fe79e9c0f3d1931ba81a0e5d5a15b38d',\n",
       " '83de979fe8c73139d8c711a53b056aa3',\n",
       " 'fe79e9c0f3d1931ba81a0e5d5a15b38d',\n",
       " '97d4c6bd621fed1ae2b1741b3a26d055#0',\n",
       " '4dc5d9d66f5f6066327b3562e09b0aaa',\n",
       " '1ba9b5120159fb8ddf259a889b7b4481',\n",
       " 'c6d0bd5b4974592e348e76870e2223ee',\n",
       " 'c6d0bd5b4974592e348e76870e2223ee',\n",
       " '1ba9b5120159fb8ddf259a889b7b4481',\n",
       " '1ba9b5120159fb8ddf259a889b7b4481',\n",
       " 'f661a42a43605dfedf33beff665c02d5',\n",
       " '48ce81bc2cc5fcec84a7edfefe8c350a',\n",
       " 'b87477f82c43c1d20c45fa23b88cf79a',\n",
       " '8f5a18173aeee659407a4d3b638fc730',\n",
       " '48ce81bc2cc5fcec84a7edfefe8c350a',\n",
       " 'b906762fe039a4be33e7af35428083e1',\n",
       " '3671b5b65f5d6dc3980f129026109be1',\n",
       " '3671b5b65f5d6dc3980f129026109be1',\n",
       " '45cbe0ec525978038eab13e9ae578210',\n",
       " '3e2a3a3c1be08692a1058e8b0757e4e0',\n",
       " 'be354511bc432ac373b92e307f49d82a#0',\n",
       " 'ccdf53a9475bc5313098e9493347668a',\n",
       " '6d5c273883d84a26a26a174ca282021f',\n",
       " '620d87d23e86650fe847e97078d5e18f',\n",
       " '8bc7c20c40b2236f24af201c61adbaab',\n",
       " 'f019a0fdc6bd608611c53045a5f2690a',\n",
       " 'b3d5a0afabdda4602134c69c00030867',\n",
       " '6045bcd5eff0caaaa1718f88224e969c',\n",
       " 'cabbd1a46ea19435636da49dc3b23e10',\n",
       " 'cabbd1a46ea19435636da49dc3b23e10',\n",
       " '872aa802315825678e5bdcf61df75b53',\n",
       " 'afd81d31918f9676e0d778ac2dcac087',\n",
       " '872aa802315825678e5bdcf61df75b53',\n",
       " '872aa802315825678e5bdcf61df75b53',\n",
       " 'c528962e12cbfa1598182c13ed253600',\n",
       " 'c528962e12cbfa1598182c13ed253600',\n",
       " '4d1cf6957195a80f53c5ed727d5e4ec3',\n",
       " 'f6053307ca0d195930da522761b6c0f5',\n",
       " 'f6053307ca0d195930da522761b6c0f5',\n",
       " 'f6053307ca0d195930da522761b6c0f5',\n",
       " '938a01dcc5cbd8986a02cd9a74b5531d',\n",
       " '938a01dcc5cbd8986a02cd9a74b5531d',\n",
       " '628c101b2bf9e0c5ad55409a2bde6738',\n",
       " 'afd81d31918f9676e0d778ac2dcac087',\n",
       " '402704eb18c7457f8028fb395711d67d',\n",
       " 'f78ceb809fcb02db622e26a136915339',\n",
       " '720ed40410206d46b9ee0e9148b05580',\n",
       " '872aa802315825678e5bdcf61df75b53',\n",
       " '872aa802315825678e5bdcf61df75b53',\n",
       " 'c3c1ecb1dac7cb5ddd145cb53d30ec42',\n",
       " '281b6a62bc255e0e0952c2926184f658',\n",
       " '1ba9b5120159fb8ddf259a889b7b4481',\n",
       " 'a7923729d620364642d44e105d7ff956',\n",
       " 'a7923729d620364642d44e105d7ff956',\n",
       " 'a7923729d620364642d44e105d7ff956',\n",
       " 'b3d5a0afabdda4602134c69c00030867',\n",
       " '961622240c804d86eea99df83e513c96',\n",
       " '4dc5d9d66f5f6066327b3562e09b0aaa',\n",
       " '48ce81bc2cc5fcec84a7edfefe8c350a',\n",
       " 'f12bfc3a6357eb9980c922634d43101e',\n",
       " '45cbe0ec525978038eab13e9ae578210',\n",
       " 'a1ca0065cbe8209097643e62d4e93859']"
      ]
     },
     "execution_count": 34,
     "metadata": {},
     "output_type": "execute_result"
    }
   ],
   "source": [
    "nb_sesams = [x.split('/nb/')[1].split('?')[0] for x in nb_sesamid]\n",
    "nb_sesams"
   ]
  },
  {
   "cell_type": "markdown",
   "metadata": {},
   "source": [
    "Med sesamid som her, kan det hentes ut konkordanser og lages kollokasjoner direkte."
   ]
  },
  {
   "cell_type": "code",
   "execution_count": 25,
   "metadata": {},
   "outputs": [
    {
     "data": {
      "text/plain": [
       "<module 'nb_api' from 'D:\\\\Documents\\\\GitHub\\\\Miscellaneous-Notebooks\\\\Polnet\\\\nb_api.py'>"
      ]
     },
     "execution_count": 25,
     "metadata": {},
     "output_type": "execute_result"
    }
   ],
   "source": [
    "from importlib import reload\n",
    "reload(nap)"
   ]
  },
  {
   "cell_type": "markdown",
   "metadata": {},
   "source": [
    "Vi kan hente ut konkordanser rett fra bokhylla for ett og ett verk, eller gruppere og samle sammen alle konkordansene"
   ]
  },
  {
   "cell_type": "markdown",
   "metadata": {},
   "source": [
    "#### Enkeltverk"
   ]
  },
  {
   "cell_type": "code",
   "execution_count": 40,
   "metadata": {
    "scrolled": false
   },
   "outputs": [
    {
     "data": {
      "text/html": [
       "<div>\n",
       "<style scoped>\n",
       "    .dataframe tbody tr th:only-of-type {\n",
       "        vertical-align: middle;\n",
       "    }\n",
       "\n",
       "    .dataframe tbody tr th {\n",
       "        vertical-align: top;\n",
       "    }\n",
       "\n",
       "    .dataframe thead th {\n",
       "        text-align: right;\n",
       "    }\n",
       "</style>\n",
       "<table border=\"1\" class=\"dataframe\">\n",
       "  <thead>\n",
       "    <tr style=\"text-align: right;\">\n",
       "      <th></th>\n",
       "      <th>urn</th>\n",
       "      <th>before</th>\n",
       "      <th>word</th>\n",
       "      <th>after</th>\n",
       "    </tr>\n",
       "  </thead>\n",
       "  <tbody>\n",
       "    <tr>\n",
       "      <th>0</th>\n",
       "      <td>URN:NBN:no-nb_digistorting_1990-91_part3_vol-c...</td>\n",
       "      <td>utgjøre grunnlaget for samarbeidsavtaler som a...</td>\n",
       "      <td>kompetanse</td>\n",
       "      <td>disse organisasj onene har i makroøkonomiske ...</td>\n",
       "    </tr>\n",
       "    <tr>\n",
       "      <th>1</th>\n",
       "      <td>URN:NBN:no-nb_digistorting_1990-91_part3_vol-c...</td>\n",
       "      <td>å sette igang et omfattende nordisk energifors...</td>\n",
       "      <td>kompetanse</td>\n",
       "      <td>innenfor energiområdet ved de nasjonale høysk...</td>\n",
       "    </tr>\n",
       "    <tr>\n",
       "      <th>2</th>\n",
       "      <td>URN:NBN:no-nb_digistorting_1990-91_part3_vol-c...</td>\n",
       "      <td>en økende ulykkesfrekvens i prosesskjemisk ind...</td>\n",
       "      <td>kompetanse</td>\n",
       "      <td>og sikkerhetsbevissthet i bedriftene. Man har...</td>\n",
       "    </tr>\n",
       "    <tr>\n",
       "      <th>3</th>\n",
       "      <td>URN:NBN:no-nb_digistorting_1990-91_part3_vol-c...</td>\n",
       "      <td>. 38 7.6 Bærekraftig ressursforvaltning 40 7.7...</td>\n",
       "      <td>Kompetanse</td>\n",
       "      <td>- nøkkelen til økt verdiskapning og lønnsomhe...</td>\n",
       "    </tr>\n",
       "    <tr>\n",
       "      <th>4</th>\n",
       "      <td>URN:NBN:no-nb_digistorting_1990-91_part3_vol-c...</td>\n",
       "      <td>vekst i sysselsettingen .. 78 10.3 Internasjon...</td>\n",
       "      <td>Kompetanse</td>\n",
       "      <td>er viktig for utvikling av næringslivet 80 10...</td>\n",
       "    </tr>\n",
       "    <tr>\n",
       "      <th>...</th>\n",
       "      <td>...</td>\n",
       "      <td>...</td>\n",
       "      <td>...</td>\n",
       "      <td>...</td>\n",
       "    </tr>\n",
       "    <tr>\n",
       "      <th>237</th>\n",
       "      <td>URN:NBN:no-nb_digistorting_1990-91_part3_vol-c...</td>\n",
       "      <td>siktemål må være at et lærerkollegium skal sty...</td>\n",
       "      <td>kompetanse.</td>\n",
       "      <td>Skolens behov må da komme til uttrykk ved utl...</td>\n",
       "    </tr>\n",
       "    <tr>\n",
       "      <th>238</th>\n",
       "      <td>URN:NBN:no-nb_digistorting_1990-91_part3_vol-c...</td>\n",
       "      <td>deltidsstudium og i moduler, slik at lærerne k...</td>\n",
       "      <td>kompetanse</td>\n",
       "      <td>over tid. Departementet vil legge til rette f...</td>\n",
       "    </tr>\n",
       "    <tr>\n",
       "      <th>239</th>\n",
       "      <td>URN:NBN:no-nb_digistorting_1990-91_part3_vol-c...</td>\n",
       "      <td>eller arbeidsområder som er relevante for lære...</td>\n",
       "      <td>kompetanse</td>\n",
       "      <td>gjennom forskning og utviklingsarbeid. Med de...</td>\n",
       "    </tr>\n",
       "    <tr>\n",
       "      <th>240</th>\n",
       "      <td>URN:NBN:no-nb_digistorting_1990-91_part3_vol-c...</td>\n",
       "      <td>fagmiljøer som i dag er spredt på flere høgsko...</td>\n",
       "      <td>kompetanse</td>\n",
       "      <td>og økt satsing på forsknings- og utviklingsar...</td>\n",
       "    </tr>\n",
       "    <tr>\n",
       "      <th>241</th>\n",
       "      <td>URN:NBN:no-nb_digistorting_1990-91_part3_vol-c...</td>\n",
       "      <td>videre viktig at studenter også gjennom hovedf...</td>\n",
       "      <td>kompetanse</td>\n",
       "      <td>innen de skolefag de har sin grunnutdanning i...</td>\n",
       "    </tr>\n",
       "  </tbody>\n",
       "</table>\n",
       "<p>242 rows × 4 columns</p>\n",
       "</div>"
      ],
      "text/plain": [
       "                                                   urn  \\\n",
       "0    URN:NBN:no-nb_digistorting_1990-91_part3_vol-c...   \n",
       "1    URN:NBN:no-nb_digistorting_1990-91_part3_vol-c...   \n",
       "2    URN:NBN:no-nb_digistorting_1990-91_part3_vol-c...   \n",
       "3    URN:NBN:no-nb_digistorting_1990-91_part3_vol-c...   \n",
       "4    URN:NBN:no-nb_digistorting_1990-91_part3_vol-c...   \n",
       "..                                                 ...   \n",
       "237  URN:NBN:no-nb_digistorting_1990-91_part3_vol-c...   \n",
       "238  URN:NBN:no-nb_digistorting_1990-91_part3_vol-c...   \n",
       "239  URN:NBN:no-nb_digistorting_1990-91_part3_vol-c...   \n",
       "240  URN:NBN:no-nb_digistorting_1990-91_part3_vol-c...   \n",
       "241  URN:NBN:no-nb_digistorting_1990-91_part3_vol-c...   \n",
       "\n",
       "                                                before         word  \\\n",
       "0    utgjøre grunnlaget for samarbeidsavtaler som a...   kompetanse   \n",
       "1    å sette igang et omfattende nordisk energifors...   kompetanse   \n",
       "2    en økende ulykkesfrekvens i prosesskjemisk ind...   kompetanse   \n",
       "3    . 38 7.6 Bærekraftig ressursforvaltning 40 7.7...   Kompetanse   \n",
       "4    vekst i sysselsettingen .. 78 10.3 Internasjon...   Kompetanse   \n",
       "..                                                 ...          ...   \n",
       "237  siktemål må være at et lærerkollegium skal sty...  kompetanse.   \n",
       "238  deltidsstudium og i moduler, slik at lærerne k...   kompetanse   \n",
       "239  eller arbeidsområder som er relevante for lære...   kompetanse   \n",
       "240  fagmiljøer som i dag er spredt på flere høgsko...   kompetanse   \n",
       "241  videre viktig at studenter også gjennom hovedf...   kompetanse   \n",
       "\n",
       "                                                 after  \n",
       "0     disse organisasj onene har i makroøkonomiske ...  \n",
       "1     innenfor energiområdet ved de nasjonale høysk...  \n",
       "2     og sikkerhetsbevissthet i bedriftene. Man har...  \n",
       "3     - nøkkelen til økt verdiskapning og lønnsomhe...  \n",
       "4     er viktig for utvikling av næringslivet 80 10...  \n",
       "..                                                 ...  \n",
       "237   Skolens behov må da komme til uttrykk ved utl...  \n",
       "238   over tid. Departementet vil legge til rette f...  \n",
       "239   gjennom forskning og utviklingsarbeid. Med de...  \n",
       "240   og økt satsing på forsknings- og utviklingsar...  \n",
       "241   innen de skolefag de har sin grunnutdanning i...  \n",
       "\n",
       "[242 rows x 4 columns]"
      ]
     },
     "execution_count": 40,
     "metadata": {},
     "output_type": "execute_result"
    }
   ],
   "source": [
    "kompetanse_konk = nb.frame(nap.get_konks('a7923729d620364642d44e105d7ff956','kompetanse'))\n",
    "kompetanse_konk"
   ]
  },
  {
   "cell_type": "markdown",
   "metadata": {},
   "source": [
    "#### For en samling"
   ]
  },
  {
   "cell_type": "code",
   "execution_count": 42,
   "metadata": {},
   "outputs": [],
   "source": [
    "konks = nb.frame(nap.get_all_konks('kompetanse i', nb_sesams))"
   ]
  },
  {
   "cell_type": "markdown",
   "metadata": {},
   "source": [
    "# Telling for kollokasjonsanalyse"
   ]
  },
  {
   "cell_type": "code",
   "execution_count": 54,
   "metadata": {},
   "outputs": [],
   "source": [
    "from collections import Counter"
   ]
  },
  {
   "cell_type": "code",
   "execution_count": 56,
   "metadata": {},
   "outputs": [],
   "source": [
    "c = Counter(tokenize(konks['after'].to_csv(header=False)))"
   ]
  },
  {
   "cell_type": "code",
   "execution_count": 58,
   "metadata": {},
   "outputs": [
    {
     "data": {
      "text/plain": [
       "[(',', 2312),\n",
       " ('.', 1179),\n",
       " ('og', 1001),\n",
       " ('\"', 982),\n",
       " ('i', 671),\n",
       " ('av', 555),\n",
       " ('til', 473),\n",
       " ('for', 408),\n",
       " ('det', 381),\n",
       " ('å', 347),\n",
       " ('er', 341),\n",
       " ('som', 341),\n",
       " ('med', 320),\n",
       " ('et', 316),\n",
       " ('en', 255),\n",
       " ('på', 232),\n",
       " ('vil', 225),\n",
       " ('at', 209),\n",
       " ('-', 200),\n",
       " ('perspektiv', 180)]"
      ]
     },
     "execution_count": 58,
     "metadata": {},
     "output_type": "execute_result"
    }
   ],
   "source": [
    "c.most_common(20)"
   ]
  }
 ],
 "metadata": {
  "kernelspec": {
   "display_name": "Python 3",
   "language": "python",
   "name": "python3"
  },
  "language_info": {
   "codemirror_mode": {
    "name": "ipython",
    "version": 3
   },
   "file_extension": ".py",
   "mimetype": "text/x-python",
   "name": "python",
   "nbconvert_exporter": "python",
   "pygments_lexer": "ipython3",
   "version": "3.7.3"
  }
 },
 "nbformat": 4,
 "nbformat_minor": 2
}

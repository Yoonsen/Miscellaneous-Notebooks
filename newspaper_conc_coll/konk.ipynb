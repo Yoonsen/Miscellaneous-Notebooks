{
 "cells": [
  {
   "cell_type": "code",
   "execution_count": 27,
   "metadata": {},
   "outputs": [],
   "source": [
    "import dhlab.nbtext as nb\n",
    "import dhlab.module_update as mu\n",
    "import pandas as pd"
   ]
  },
  {
   "cell_type": "code",
   "execution_count": 5,
   "metadata": {},
   "outputs": [
    {
     "data": {
      "text/markdown": [
       "Updated file `D:\\documents\\GitHub\\Miscellaneous-Notebooks\\newspaper_conc_coll\\conc_coll_mediatype.py`"
      ],
      "text/plain": [
       "<IPython.core.display.Markdown object>"
      ]
     },
     "metadata": {},
     "output_type": "display_data"
    }
   ],
   "source": [
    "mu.update(\"conc_coll_mediatype\")"
   ]
  },
  {
   "cell_type": "code",
   "execution_count": 6,
   "metadata": {},
   "outputs": [],
   "source": [
    "import conc_coll_mediatype as cc"
   ]
  },
  {
   "cell_type": "code",
   "execution_count": 17,
   "metadata": {},
   "outputs": [
    {
     "data": {
      "text/plain": [
       "(630,\n",
       " ['URN:NBN:no-nb_digitidsskrift_2017112381032_001',\n",
       "  'URN:NBN:no-nb_digitidsskrift_2020101281034_001',\n",
       "  'URN:NBN:no-nb_digitidsskrift_2019072581058_001',\n",
       "  'URN:NBN:no-nb_digitidsskrift_2015101481070_001',\n",
       "  'URN:NBN:no-nb_digitidsskrift_2020072881643_001',\n",
       "  'URN:NBN:no-nb_digitidsskrift_2018061181003_001',\n",
       "  'URN:NBN:no-nb_digitidsskrift_2020042181650_001',\n",
       "  'URN:NBN:no-nb_digitidsskrift_2011101155003_001',\n",
       "  'URN:NBN:no-nb_digitidsskrift_2016070781076_001',\n",
       "  'URN:NBN:no-nb_digitidsskrift_2019071081172_001',\n",
       "  'URN:NBN:no-nb_digitidsskrift_2020042081018_001',\n",
       "  'URN:NBN:no-nb_digitidsskrift_2011022155004_001',\n",
       "  'URN:NBN:no-nb_digitidsskrift_2017061981184_001',\n",
       "  'URN:NBN:no-nb_digitidsskrift_2015101481118_001',\n",
       "  'URN:NBN:no-nb_digitidsskrift_2019043081141_001',\n",
       "  'URN:NBN:no-nb_digitidsskrift_2020070785027_001',\n",
       "  'URN:NBN:no-nb_digitidsskrift_2019093081051_001',\n",
       "  'URN:NBN:no-nb_digitidsskrift_2018021381162_001',\n",
       "  'URN:NBN:no-nb_digitidsskrift_2018080981026_001',\n",
       "  'URN:NBN:no-nb_digitidsskrift_2015071682192_001',\n",
       "  'URN:NBN:no-nb_digitidsskrift_2018080781043_001',\n",
       "  'URN:NBN:no-nb_digitidsskrift_2019043081089_001',\n",
       "  'URN:NBN:no-nb_digitidsskrift_2014112882050_001',\n",
       "  'URN:NBN:no-nb_digitidsskrift_2019093081136_001',\n",
       "  'URN:NBN:no-nb_digitidsskrift_2016070781004_001',\n",
       "  'URN:NBN:no-nb_digitidsskrift_2015060181099_001',\n",
       "  'URN:NBN:no-nb_digitidsskrift_2020021081192_001',\n",
       "  'URN:NBN:no-nb_digitidsskrift_2018082881146_001',\n",
       "  'URN:NBN:no-nb_digitidsskrift_2019051681160_001',\n",
       "  'URN:NBN:no-nb_digitidsskrift_2019012281130_001',\n",
       "  'URN:NBN:no-nb_digitidsskrift_2019021281038_001',\n",
       "  'URN:NBN:no-nb_digitidsskrift_2019012581502_001',\n",
       "  'URN:NBN:no-nb_digitidsskrift_2019043081110_001',\n",
       "  'URN:NBN:no-nb_digitidsskrift_2018021481461_001',\n",
       "  'URN:NBN:no-nb_digitidsskrift_2019090681084_001',\n",
       "  'URN:NBN:no-nb_digitidsskrift_2018062781174_001',\n",
       "  'URN:NBN:no-nb_digitidsskrift_2019052481041_001',\n",
       "  'URN:NBN:no-nb_digitidsskrift_2018121781132_001',\n",
       "  'URN:NBN:no-nb_digitidsskrift_2015071581017_001',\n",
       "  'URN:NBN:no-nb_digitidsskrift_2020032381505_001',\n",
       "  'URN:NBN:no-nb_digitidsskrift_2019043081010_001',\n",
       "  'URN:NBN:no-nb_digitidsskrift_2018062581254_001',\n",
       "  'URN:NBN:no-nb_digitidsskrift_2018091881568_001',\n",
       "  'URN:NBN:no-nb_digitidsskrift_2015101481482_001',\n",
       "  'URN:NBN:no-nb_digitidsskrift_2018091881650_001',\n",
       "  'URN:NBN:no-nb_digitidsskrift_2019011083182_001',\n",
       "  'URN:NBN:no-nb_digitidsskrift_2018110181242_001',\n",
       "  'URN:NBN:no-nb_digitidsskrift_2015110481200_001',\n",
       "  'URN:NBN:no-nb_digitidsskrift_2019041281162_001',\n",
       "  'URN:NBN:no-nb_digitidsskrift_2020072881503_001'])"
      ]
     },
     "execution_count": 17,
     "metadata": {},
     "output_type": "execute_result"
    }
   ],
   "source": [
    "cc.term_urn_search('skillingsviser', mediatype = \"tidsskrift\")"
   ]
  },
  {
   "cell_type": "code",
   "execution_count": 25,
   "metadata": {},
   "outputs": [],
   "source": [
    "num, urns = cc.term_docs('skillingsviser', title = 'vinduet', mediatype = \"tidsskrift\")"
   ]
  },
  {
   "cell_type": "code",
   "execution_count": 28,
   "metadata": {},
   "outputs": [],
   "source": [
    "df = nb.frame(cc.get_all_konks('skillingsviser', urns))"
   ]
  },
  {
   "cell_type": "code",
   "execution_count": 44,
   "metadata": {},
   "outputs": [
    {
     "data": {
      "text/html": [
       "<table><tr>\n",
       "                <td>\n",
       "                    <a href='http://www.nb.no/items/URN:NBN:no-nb_digibok_2010112406035?searchText=Hamsun' target='_blank' style='text-decoration:none'>Historie for ungdomsskolen, Hilmo, Jon, 1967</a>\n",
       "                </td>\n",
       "                <td>, Lie , Garborg og</td>\n",
       "                <td>Hamsun</td>\n",
       "                <td style='text-align:left'>) . - Andre kjente</td>\n",
       "            </tr>\n",
       "<tr>\n",
       "                <td>\n",
       "                    <a href='http://www.nb.no/items/URN:NBN:no-nb_digibok_2011012406001?searchText=Hamsun' target='_blank' style='text-decoration:none'>Gustav Vigeland, Stang, Ragna, 1969</a>\n",
       "                </td>\n",
       "                <td>het han , men Knut</td>\n",
       "                <td>Hamsun</td>\n",
       "                <td style='text-align:left'>ble han . Hans erfaringer</td>\n",
       "            </tr>\n",
       "<tr>\n",
       "                <td>\n",
       "                    <a href='http://www.nb.no/items/URN:NBN:no-nb_digibok_2011012406001?searchText=Hamsun' target='_blank' style='text-decoration:none'>Gustav Vigeland, Stang, Ragna, 1969</a>\n",
       "                </td>\n",
       "                <td>Foregående side : Knut</td>\n",
       "                <td>Hamsun</td>\n",
       "                <td style='text-align:left'>, signert 17. april 1903.</td>\n",
       "            </tr>\n",
       "<tr>\n",
       "                <td>\n",
       "                    <a href='http://www.nb.no/items/URN:NBN:no-nb_digibok_2011012406001?searchText=Hamsun' target='_blank' style='text-decoration:none'>Gustav Vigeland, Stang, Ragna, 1969</a>\n",
       "                </td>\n",
       "                <td>18. april ) , Knut</td>\n",
       "                <td>Hamsun</td>\n",
       "                <td style='text-align:left'>( 17. august ) ,</td>\n",
       "            </tr>\n",
       "<tr>\n",
       "                <td>\n",
       "                    <a href='http://www.nb.no/items/URN:NBN:no-nb_digibok_2007073001005?searchText=Hamsun' target='_blank' style='text-decoration:none'>Sosiologens dilemma, Løchen, Yngvar, 1970</a>\n",
       "                </td>\n",
       "                <td>i Jungs psykologi F 48</td>\n",
       "                <td>Hamsun</td>\n",
       "                <td style='text-align:left'>: Paa gjengrodde stier F</td>\n",
       "            </tr>\n",
       "<tr>\n",
       "                <td>\n",
       "                    <a href='http://www.nb.no/items/URN:NBN:no-nb_digibok_2007073001005?searchText=Hamsun' target='_blank' style='text-decoration:none'>Sosiologens dilemma, Løchen, Yngvar, 1970</a>\n",
       "                </td>\n",
       "                <td>Jensen : Nykritikken F 73</td>\n",
       "                <td>Hamsun</td>\n",
       "                <td style='text-align:left'>: Artikler 1889 - 1928</td>\n",
       "            </tr>\n",
       "<tr>\n",
       "                <td>\n",
       "                    <a href='http://www.nb.no/items/URN:NBN:no-nb_digibok_2007041901057?searchText=Hamsun' target='_blank' style='text-decoration:none'>Frontlinjer, , 1966</a>\n",
       "                </td>\n",
       "                <td>i Jungs psykologi F 48</td>\n",
       "                <td>Hamsun</td>\n",
       "                <td style='text-align:left'>: Paa gjengrodde stier F</td>\n",
       "            </tr>\n",
       "<tr>\n",
       "                <td>\n",
       "                    <a href='http://www.nb.no/items/URN:NBN:no-nb_digibok_2007041901057?searchText=Hamsun' target='_blank' style='text-decoration:none'>Frontlinjer, , 1966</a>\n",
       "                </td>\n",
       "                <td>Jensen : Nykritikken F 73</td>\n",
       "                <td>Hamsun</td>\n",
       "                <td style='text-align:left'>: Artikler 1889 - 1928</td>\n",
       "            </tr>\n",
       "<tr>\n",
       "                <td>\n",
       "                    <a href='http://www.nb.no/items/URN:NBN:no-nb_digibok_2007041901057?searchText=Hamsun' target='_blank' style='text-decoration:none'>Frontlinjer, , 1966</a>\n",
       "                </td>\n",
       "                <td>29. Utgitt biografier om Knut</td>\n",
       "                <td>Hamsun</td>\n",
       "                <td style='text-align:left'>og Gunnar Heiberg . Et</td>\n",
       "            </tr>\n",
       "<tr>\n",
       "                <td>\n",
       "                    <a href='http://www.nb.no/items/URN:NBN:no-nb_digibok_2008050804104?searchText=Hamsun' target='_blank' style='text-decoration:none'>Norge på langs, Godske, C.L., 1952</a>\n",
       "                </td>\n",
       "                <td>( Knut</td>\n",
       "                <td>Hamsun</td>\n",
       "                <td style='text-align:left'>« Bjørnson paa</td>\n",
       "            </tr>\n",
       "<tr>\n",
       "                <td>\n",
       "                    <a href='http://www.nb.no/items/URN:NBN:no-nb_digibok_2008050804104?searchText=Hamsun' target='_blank' style='text-decoration:none'>Norge på langs, Godske, C.L., 1952</a>\n",
       "                </td>\n",
       "                <td>( Knut</td>\n",
       "                <td>Hamsun</td>\n",
       "                <td style='text-align:left'>. )</td>\n",
       "            </tr>\n",
       "<tr>\n",
       "                <td>\n",
       "                    <a href='http://www.nb.no/items/URN:NBN:no-nb_digibok_2008050804104?searchText=Hamsun' target='_blank' style='text-decoration:none'>Norge på langs, Godske, C.L., 1952</a>\n",
       "                </td>\n",
       "                <td>det tyst , » skrev</td>\n",
       "                <td>Hamsun</td>\n",
       "                <td style='text-align:left'>i sitt praktfulle hylningsdikt .</td>\n",
       "            </tr>\n",
       "<tr>\n",
       "                <td>\n",
       "                    <a href='http://www.nb.no/items/URN:NBN:no-nb_digibok_2008050804104?searchText=Hamsun' target='_blank' style='text-decoration:none'>Norge på langs, Godske, C.L., 1952</a>\n",
       "                </td>\n",
       "                <td>dende virtuositet som hos</td>\n",
       "                <td>Hamsun</td>\n",
       "                <td style='text-align:left'>og Duur</td>\n",
       "            </tr>\n",
       "<tr>\n",
       "                <td>\n",
       "                    <a href='http://www.nb.no/items/URN:NBN:no-nb_digibok_2007050800029?searchText=Hamsun' target='_blank' style='text-decoration:none'>Verdens kunsthistorie, Stang, Ragna, 1963</a>\n",
       "                </td>\n",
       "                <td>Greske tragedier F 48 Knut</td>\n",
       "                <td>Hamsun</td>\n",
       "                <td style='text-align:left'>: Paa gjengrodde stier F</td>\n",
       "            </tr>\n",
       "<tr>\n",
       "                <td>\n",
       "                    <a href='http://www.nb.no/items/URN:NBN:no-nb_digibok_2007073000019?searchText=Hamsun' target='_blank' style='text-decoration:none'>Det nye Afrika, Mair, Lucy, 1969</a>\n",
       "                </td>\n",
       "                <td>i Jungs psykologi F 48</td>\n",
       "                <td>Hamsun</td>\n",
       "                <td style='text-align:left'>: Paa gjengrodde stier F</td>\n",
       "            </tr>\n",
       "<tr>\n",
       "                <td>\n",
       "                    <a href='http://www.nb.no/items/URN:NBN:no-nb_digibok_2007073000019?searchText=Hamsun' target='_blank' style='text-decoration:none'>Det nye Afrika, Mair, Lucy, 1969</a>\n",
       "                </td>\n",
       "                <td>Jensen : Nykritikken F 73</td>\n",
       "                <td>Hamsun</td>\n",
       "                <td style='text-align:left'>: Artikler 1889 - 1928</td>\n",
       "            </tr>\n",
       "<tr>\n",
       "                <td>\n",
       "                    <a href='http://www.nb.no/items/URN:NBN:no-nb_digibok_2007073000019?searchText=Hamsun' target='_blank' style='text-decoration:none'>Det nye Afrika, Mair, Lucy, 1969</a>\n",
       "                </td>\n",
       "                <td>: Dr. Zhivago L 6</td>\n",
       "                <td>Hamsun</td>\n",
       "                <td style='text-align:left'>: Segelfoss by</td>\n",
       "            </tr>\n",
       "<tr>\n",
       "                <td>\n",
       "                    <a href='http://www.nb.no/items/URN:NBN:no-nb_digibok_2007073000019?searchText=Hamsun' target='_blank' style='text-decoration:none'>Det nye Afrika, Mair, Lucy, 1969</a>\n",
       "                </td>\n",
       "                <td>L 17</td>\n",
       "                <td>Hamsun</td>\n",
       "                <td style='text-align:left'>: Landstrykere</td>\n",
       "            </tr>\n",
       "<tr>\n",
       "                <td>\n",
       "                    <a href='http://www.nb.no/items/URN:NBN:no-nb_digibok_2007073000019?searchText=Hamsun' target='_blank' style='text-decoration:none'>Det nye Afrika, Mair, Lucy, 1969</a>\n",
       "                </td>\n",
       "                <td>L 31</td>\n",
       "                <td>Hamsun</td>\n",
       "                <td style='text-align:left'>: August</td>\n",
       "            </tr>\n",
       "</table>"
      ],
      "text/plain": [
       "<IPython.core.display.HTML object>"
      ]
     },
     "execution_count": 44,
     "metadata": {},
     "output_type": "execute_result"
    }
   ],
   "source": [
    "# sett ordene i listeform, det er nok om en av ordene matcher\n",
    "korpus = nb.book_corpus(words = ['litteratur'], period=(1950, 1970), limit = 50)\n",
    "# bruk list(korpus.urn) eller list(korpus[\"urn\"]) - ikke ha for stort korpus på den her måten helst under 100 urn. Det tar tid ellers\n",
    "nb.urn_concordance(word='Hamsun', urns = list(korpus['urn']))"
   ]
  },
  {
   "cell_type": "code",
   "execution_count": null,
   "metadata": {},
   "outputs": [],
   "source": []
  }
 ],
 "metadata": {
  "kernelspec": {
   "display_name": "Python 3",
   "language": "python",
   "name": "python3"
  },
  "language_info": {
   "codemirror_mode": {
    "name": "ipython",
    "version": 3
   },
   "file_extension": ".py",
   "mimetype": "text/x-python",
   "name": "python",
   "nbconvert_exporter": "python",
   "pygments_lexer": "ipython3",
   "version": "3.7.3"
  }
 },
 "nbformat": 4,
 "nbformat_minor": 2
}

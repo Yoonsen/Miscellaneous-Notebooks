{
 "cells": [
  {
   "cell_type": "code",
   "execution_count": 1,
   "metadata": {},
   "outputs": [],
   "source": [
    "import sqlite3\n",
    "import os\n",
    "import tarfile\n",
    "import gzip\n",
    "#import sqlite3\n",
    "import json\n",
    "import pandas as pd\n",
    "from time import time\n",
    "from IPython.display import HTML"
   ]
  },
  {
   "cell_type": "code",
   "execution_count": 2,
   "metadata": {},
   "outputs": [],
   "source": [
    "from dhlab.nbtokenizer import tokenize"
   ]
  },
  {
   "cell_type": "code",
   "execution_count": 3,
   "metadata": {},
   "outputs": [],
   "source": [
    "def query(db, sql, params=(), retrieve = 20):\n",
    "    with sqlite3.connect(db) as con:\n",
    "        cur = con.cursor()\n",
    "        res = cur.execute(sql, params).fetchmany(retrieve)\n",
    "    return res"
   ]
  },
  {
   "cell_type": "code",
   "execution_count": 4,
   "metadata": {},
   "outputs": [],
   "source": [
    "db = '../ft_index_words.db'"
   ]
  },
  {
   "cell_type": "code",
   "execution_count": 5,
   "metadata": {},
   "outputs": [
    {
     "ename": "OperationalError",
     "evalue": "table ft already exists",
     "output_type": "error",
     "traceback": [
      "\u001b[1;31m---------------------------------------------------------------------------\u001b[0m",
      "\u001b[1;31mOperationalError\u001b[0m                          Traceback (most recent call last)",
      "\u001b[1;32m<ipython-input-5-74c74afd6bf8>\u001b[0m in \u001b[0;36m<module>\u001b[1;34m\u001b[0m\n\u001b[1;32m----> 1\u001b[1;33m \u001b[0mquery\u001b[0m\u001b[1;33m(\u001b[0m\u001b[0mdb\u001b[0m\u001b[1;33m,\u001b[0m \u001b[1;34m\"CREATE TABLE ft (identifier integer, para integer, word varchar)\"\u001b[0m\u001b[1;33m)\u001b[0m\u001b[1;33m\u001b[0m\u001b[1;33m\u001b[0m\u001b[0m\n\u001b[0m",
      "\u001b[1;32m<ipython-input-3-8f439987dc62>\u001b[0m in \u001b[0;36mquery\u001b[1;34m(db, sql, params, retrieve)\u001b[0m\n\u001b[0;32m      2\u001b[0m     \u001b[1;32mwith\u001b[0m \u001b[0msqlite3\u001b[0m\u001b[1;33m.\u001b[0m\u001b[0mconnect\u001b[0m\u001b[1;33m(\u001b[0m\u001b[0mdb\u001b[0m\u001b[1;33m)\u001b[0m \u001b[1;32mas\u001b[0m \u001b[0mcon\u001b[0m\u001b[1;33m:\u001b[0m\u001b[1;33m\u001b[0m\u001b[1;33m\u001b[0m\u001b[0m\n\u001b[0;32m      3\u001b[0m         \u001b[0mcur\u001b[0m \u001b[1;33m=\u001b[0m \u001b[0mcon\u001b[0m\u001b[1;33m.\u001b[0m\u001b[0mcursor\u001b[0m\u001b[1;33m(\u001b[0m\u001b[1;33m)\u001b[0m\u001b[1;33m\u001b[0m\u001b[1;33m\u001b[0m\u001b[0m\n\u001b[1;32m----> 4\u001b[1;33m         \u001b[0mres\u001b[0m \u001b[1;33m=\u001b[0m \u001b[0mcur\u001b[0m\u001b[1;33m.\u001b[0m\u001b[0mexecute\u001b[0m\u001b[1;33m(\u001b[0m\u001b[0msql\u001b[0m\u001b[1;33m,\u001b[0m \u001b[0mparams\u001b[0m\u001b[1;33m)\u001b[0m\u001b[1;33m.\u001b[0m\u001b[0mfetchmany\u001b[0m\u001b[1;33m(\u001b[0m\u001b[0mretrieve\u001b[0m\u001b[1;33m)\u001b[0m\u001b[1;33m\u001b[0m\u001b[1;33m\u001b[0m\u001b[0m\n\u001b[0m\u001b[0;32m      5\u001b[0m     \u001b[1;32mreturn\u001b[0m \u001b[0mres\u001b[0m\u001b[1;33m\u001b[0m\u001b[1;33m\u001b[0m\u001b[0m\n",
      "\u001b[1;31mOperationalError\u001b[0m: table ft already exists"
     ]
    }
   ],
   "source": [
    "query(db, \"CREATE TABLE ft (identifier integer, para integer, word varchar)\")"
   ]
  },
  {
   "cell_type": "code",
   "execution_count": 12,
   "metadata": {},
   "outputs": [],
   "source": [
    "fritt = tarfile.open(name='D:\\\\Downloads\\\\fritt.tar', mode='r', fileobj=None, bufsize=10240)"
   ]
  },
  {
   "cell_type": "code",
   "execution_count": 45,
   "metadata": {},
   "outputs": [
    {
     "name": "stdout",
     "output_type": "stream",
     "text": [
      "5 0.0009996891021728516\n"
     ]
    }
   ],
   "source": [
    "i = time()\n",
    "books = 1\n",
    "for member in fritt.getmembers():        \n",
    "    f = fritt.extractfile(member)\n",
    "    if f is not None:\n",
    "        identifier = member.get_info()['name'].split('/')[-1]\n",
    "        ident = re.findall(\"[0-9]{13}?\",identifier)[0]\n",
    "        #print(ident)\n",
    "        books += 1\n",
    "    if books > 4:\n",
    "        print(books, time() - i)\n",
    "        i = time()\n",
    "        break"
   ]
  },
  {
   "cell_type": "code",
   "execution_count": 69,
   "metadata": {},
   "outputs": [
    {
     "name": "stdout",
     "output_type": "stream",
     "text": [
      "1000 524.4541702270508\n",
      "2000 573.4727323055267\n",
      "3000 542.5064477920532\n",
      "4000 564.6135151386261\n",
      "5000 580.0517003536224\n",
      "6000 552.57275223732\n",
      "7000 523.0300290584564\n",
      "8000 528.9255120754242\n",
      "9000 490.6772336959839\n",
      "9000 0.0\n",
      "10000 523.0367524623871\n",
      "11000 456.55319261550903\n",
      "12000 541.8271822929382\n",
      "13000 596.3841803073883\n",
      "13000 0.0\n",
      "14000 603.647420167923\n",
      "15000 536.1326451301575\n",
      "16000 508.84663486480713\n",
      "17000 640.0198855400085\n",
      "18000 651.2928502559662\n",
      "19000 741.6663675308228\n",
      "20000 613.2819888591766\n",
      "21000 572.2028868198395\n"
     ]
    }
   ],
   "source": [
    "i = time()\n",
    "with sqlite3.connect(db) as con:\n",
    "    cur = con.cursor()\n",
    "    books = 1\n",
    "    for member in fritt.getmembers():        \n",
    "        f = fritt.extractfile(member)\n",
    "        if f is not None:\n",
    "            identifier = member.get_info()['name'].split('/')[-1]\n",
    "            ident = re.findall(\"[0-9]{13}?\",identifier)[0]\n",
    "            content = f.read()\n",
    "            index = 0\n",
    "            for p in str(content).split('\\\\n'):\n",
    "                tokens = tokenize(p)\n",
    "                for token in tokens:\n",
    "                    cur.execute(\"insert into ft values (?, ?, ?)\", (ident, index, token))\n",
    "                index += 1\n",
    "            books += 1\n",
    "        if books % 1000 == 0:\n",
    "            print(books, time() - i)\n",
    "            i = time()"
   ]
  },
  {
   "cell_type": "code",
   "execution_count": 6,
   "metadata": {},
   "outputs": [
    {
     "data": {
      "text/plain": [
       "[]"
      ]
     },
     "execution_count": 6,
     "metadata": {},
     "output_type": "execute_result"
    }
   ],
   "source": [
    "query(db, \"PRAGMA temp_store_directory = 'D:\\sql3tmp'\")"
   ]
  },
  {
   "cell_type": "code",
   "execution_count": 73,
   "metadata": {},
   "outputs": [
    {
     "name": "stdout",
     "output_type": "stream",
     "text": [
      "359.9783931414286\n"
     ]
    }
   ],
   "source": [
    "i = time()\n",
    "query(db, \"create index _wip_ on ft (word, identifier, para)\")\n",
    "print((time() - i)/60)"
   ]
  },
  {
   "cell_type": "code",
   "execution_count": 7,
   "metadata": {},
   "outputs": [
    {
     "name": "stdout",
     "output_type": "stream",
     "text": [
      "104.61963746945064\n"
     ]
    }
   ],
   "source": [
    "i = time()\n",
    "query(db, \"create index _ipw_ on ft (identifier, para, word)\")\n",
    "print((time() - i)/60)"
   ]
  },
  {
   "cell_type": "code",
   "execution_count": null,
   "metadata": {},
   "outputs": [],
   "source": []
  }
 ],
 "metadata": {
  "kernelspec": {
   "display_name": "Python 3",
   "language": "python",
   "name": "python3"
  },
  "language_info": {
   "codemirror_mode": {
    "name": "ipython",
    "version": 3
   },
   "file_extension": ".py",
   "mimetype": "text/x-python",
   "name": "python",
   "nbconvert_exporter": "python",
   "pygments_lexer": "ipython3",
   "version": "3.7.3"
  }
 },
 "nbformat": 4,
 "nbformat_minor": 2
}

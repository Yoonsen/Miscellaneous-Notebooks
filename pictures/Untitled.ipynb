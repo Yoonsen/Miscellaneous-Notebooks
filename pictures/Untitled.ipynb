{
 "cells": [
  {
   "cell_type": "code",
   "execution_count": 1,
   "metadata": {},
   "outputs": [
    {
     "data": {
      "text/markdown": [
       "Updated file `C:\\Users\\larsj\\Documents\\GitHub\\Miscellaneous-Notebooks\\pictures\\nbpictures.py`"
      ],
      "text/plain": [
       "<IPython.core.display.Markdown object>"
      ]
     },
     "metadata": {},
     "output_type": "display_data"
    }
   ],
   "source": [
    "from dhlab.module_update import update, css\n",
    "update('nbpictures')\n",
    "import json\n",
    "import requests\n",
    "import nbpictures as nbp\n",
    "import dhlab.nbtext as nb\n",
    "from PIL import Image\n",
    "from IPython.display import HTML\n",
    "%matplotlib inline"
   ]
  },
  {
   "cell_type": "code",
   "execution_count": 2,
   "metadata": {},
   "outputs": [],
   "source": [
    "urn = nb.book_corpus(period=(1800, 1850))"
   ]
  },
  {
   "cell_type": "code",
   "execution_count": 5,
   "metadata": {},
   "outputs": [
    {
     "data": {
      "text/plain": [
       "2008110503004"
      ]
     },
     "execution_count": 5,
     "metadata": {},
     "output_type": "execute_result"
    }
   ],
   "source": [
    "urn.urn[0]"
   ]
  },
  {
   "cell_type": "code",
   "execution_count": 37,
   "metadata": {},
   "outputs": [],
   "source": [
    "def get_url(urn, page=1, part=200):\n",
    "    \"\"\"From a representaion of URN (serial number or any string with serial number) - mapped to digibok\"\"\"\n",
    "    import re\n",
    "    \n",
    "    urnserial = re.findall('[0-9]+', str(urn))\n",
    "    if urnserial != []:\n",
    "        urnserial = urnserial[0]\n",
    "    else:\n",
    "        return \"\"\n",
    "    urn = \"URN:NBN:no-nb_digibok_\" + urnserial + '_{0:04d}'.format(page)\n",
    "    print(urn)\n",
    "    url = \"https://www.nb.no/services/image/resolver/{urn}/full/0,{part}/0/native.jpg\".format(urn = urn, part=part)\n",
    "    return url"
   ]
  },
  {
   "cell_type": "code",
   "execution_count": 41,
   "metadata": {},
   "outputs": [
    {
     "name": "stdout",
     "output_type": "stream",
     "text": [
      "URN:NBN:no-nb_digibok_023_0010\n"
     ]
    },
    {
     "data": {
      "text/plain": [
       "'https://www.nb.no/services/image/resolver/URN:NBN:no-nb_digibok_023_0010/full/0,500/0/native.jpg'"
      ]
     },
     "execution_count": 41,
     "metadata": {},
     "output_type": "execute_result"
    }
   ],
   "source": [
    "get_url('https://www.nb.no/services/image/resolver/URN:NBN:no-nb_digibok_023_0010/full/0,500/0/native.jpg', part=500, page=10)"
   ]
  },
  {
   "cell_type": "code",
   "execution_count": 42,
   "metadata": {},
   "outputs": [
    {
     "name": "stdout",
     "output_type": "stream",
     "text": [
      "URN:NBN:no-nb_digibok_2008110503004_0001\n"
     ]
    },
    {
     "data": {
      "text/html": [
       "<img src=https://www.nb.no/services/image/resolver/URN:NBN:no-nb_digibok_2008110503004_0001/full/0,500/0/native.jpg/>"
      ],
      "text/plain": [
       "<IPython.core.display.HTML object>"
      ]
     },
     "execution_count": 42,
     "metadata": {},
     "output_type": "execute_result"
    }
   ],
   "source": [
    "HTML(\"<img src={s}/>\".format(s=get_url(str(urn.urn[0]), page=1, part=500)))"
   ]
  },
  {
   "cell_type": "code",
   "execution_count": null,
   "metadata": {},
   "outputs": [],
   "source": []
  }
 ],
 "metadata": {
  "kernelspec": {
   "display_name": "Python 3",
   "language": "python",
   "name": "python3"
  },
  "language_info": {
   "codemirror_mode": {
    "name": "ipython",
    "version": 3
   },
   "file_extension": ".py",
   "mimetype": "text/x-python",
   "name": "python",
   "nbconvert_exporter": "python",
   "pygments_lexer": "ipython3",
   "version": "3.7.4"
  }
 },
 "nbformat": 4,
 "nbformat_minor": 2
}

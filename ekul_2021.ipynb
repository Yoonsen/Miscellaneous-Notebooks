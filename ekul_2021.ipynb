{
 "cells": [
  {
   "attachments": {},
   "cell_type": "markdown",
   "metadata": {},
   "source": [
    "## EKUL Digital Humaniora\n",
    "\n",
    "## Materialet digitalisering\n",
    "\n",
    "* Lars: fra bilde til tekst\n",
    "* Yngvil: OCR fra trykt og håndskrift\n",
    "* Feilstavelser kjærlighet / kjcerlighet\n",
    "* Parametre vs. metode\n",
    "* For trykt - god OCR siste 30 år\n",
    " * for Gotisk fraktur ikke så god\n",
    " * for håndskrift - helt fersk, gode resultat siste år\n",
    "\n",
    "\n",
    "# Etter digitalisering eller analyse\n",
    "\n",
    "\n",
    "## DH\n",
    "\n",
    "* Fjernlesing vs. nærlesing\n",
    "\n",
    "* tekster - lese hele eller deler\n",
    "* tekstbiter kommer som oftest som konkordanser\n",
    " * ord i kontekst\n",
    " * setningsuttrekk\n",
    " * andre snutter - sitater\n",
    "* aggregering/oppsummering\n",
    " * ngram - trendlinjer\n",
    " * kollokasjoner - samforekomster med enkeltord\n",
    " * oppsummering - typiske ord for en tekst\n",
    "  * stilistikk\n",
    "  * emnemodellering\n",
    "\n",
    "### Teksttyper\n",
    "\n",
    "## Bøker og aviser - trykte medier\n",
    "\n",
    "* historisk og dagsaktuell\n",
    "* oppsummering\n",
    "* ngram / galakser\n",
    "\n",
    "## Brev og manuskriptert - håndskrift\n",
    "\n",
    "* automatisert håndskriftgjenkjenning\n",
    "* \n",
    "\n",
    "## Kart og Bilder\n",
    "\n",
    "* nb.no"
   ]
  },
  {
   "cell_type": "markdown",
   "metadata": {},
   "source": [
    "## Å gjøre\n",
    "\n",
    "* notebøker - oppdater\n",
    "* dhlab vs. nettbiblioteket\n",
    "* konk og koll\n",
    "* temamodellering i bøker"
   ]
  },
  {
   "cell_type": "markdown",
   "metadata": {},
   "source": [
    "## Ressurser\n",
    "\n",
    "* https://www.nb.no\n",
    "* https://www.nb.no/dh-lab\n",
    "* https://www.nb.no/sp_tjenester/beta/ngram_1/\n",
    "\n"
   ]
  },
  {
   "cell_type": "markdown",
   "metadata": {},
   "source": [
    "# Manuskript\n",
    "\n",
    "Transkribus"
   ]
  },
  {
   "cell_type": "code",
   "execution_count": null,
   "metadata": {},
   "outputs": [],
   "source": []
  },
  {
   "cell_type": "code",
   "execution_count": null,
   "metadata": {},
   "outputs": [],
   "source": []
  }
 ],
 "metadata": {
  "kernelspec": {
   "display_name": "Python 3",
   "language": "python",
   "name": "python3"
  },
  "language_info": {
   "codemirror_mode": {
    "name": "ipython",
    "version": 3
   },
   "file_extension": ".py",
   "mimetype": "text/x-python",
   "name": "python",
   "nbconvert_exporter": "python",
   "pygments_lexer": "ipython3",
   "version": "3.7.3"
  }
 },
 "nbformat": 4,
 "nbformat_minor": 2
}

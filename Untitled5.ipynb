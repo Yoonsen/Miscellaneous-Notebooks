{
 "cells": [
  {
   "cell_type": "code",
   "execution_count": 7,
   "metadata": {},
   "outputs": [],
   "source": [
    "import os\n",
    "import tarfile\n",
    "import gzip\n",
    "import pysqlite3 as sqlite3\n",
    "import json\n",
    "import pandas as pd\n",
    "from time import time\n",
    "from IPython.display import HTML"
   ]
  },
  {
   "cell_type": "code",
   "execution_count": 8,
   "metadata": {},
   "outputs": [
    {
     "data": {
      "text/plain": [
       "[('table',\n",
       "  'ft',\n",
       "  'ft',\n",
       "  0,\n",
       "  \"CREATE VIRTUAL TABLE ft USING FTS5(identifier, num, text, tokenize = 'unicode61 remove_diacritics 0')\"),\n",
       " ('table',\n",
       "  'ft_data',\n",
       "  'ft_data',\n",
       "  2,\n",
       "  \"CREATE TABLE 'ft_data'(id INTEGER PRIMARY KEY, block BLOB)\"),\n",
       " ('table',\n",
       "  'ft_idx',\n",
       "  'ft_idx',\n",
       "  3,\n",
       "  \"CREATE TABLE 'ft_idx'(segid, term, pgno, PRIMARY KEY(segid, term)) WITHOUT ROWID\"),\n",
       " ('table',\n",
       "  'ft_content',\n",
       "  'ft_content',\n",
       "  4,\n",
       "  \"CREATE TABLE 'ft_content'(id INTEGER PRIMARY KEY, c0, c1, c2)\"),\n",
       " ('table',\n",
       "  'ft_docsize',\n",
       "  'ft_docsize',\n",
       "  5,\n",
       "  \"CREATE TABLE 'ft_docsize'(id INTEGER PRIMARY KEY, sz BLOB)\"),\n",
       " ('table',\n",
       "  'ft_config',\n",
       "  'ft_config',\n",
       "  6,\n",
       "  \"CREATE TABLE 'ft_config'(k PRIMARY KEY, v) WITHOUT ROWID\")]"
      ]
     },
     "execution_count": 8,
     "metadata": {},
     "output_type": "execute_result"
    }
   ],
   "source": [
    "db = '../ft_test.db'\n",
    "query(db, \"select * from sqlite_master\")"
   ]
  },
  {
   "cell_type": "code",
   "execution_count": 38,
   "metadata": {},
   "outputs": [],
   "source": [
    "def query(db, sql, params=(), retrieve = 20):\n",
    "    with sqlite3.connect(db) as con:\n",
    "        cur = con.cursor()\n",
    "        res = cur.execute(sql, params).fetchmany(retrieve)\n",
    "    return res\n",
    "\n",
    "def find_paragraphs(db, q, retrieve = 10, highlight = True):\n",
    "\n",
    "    if highlight == True:\n",
    "        sql = \"SELECT identifier, num, highlight(ft, 2, '<b>', '</b>'), bm25(ft) FROM ft where ft match ? \"\n",
    "    else:\n",
    "        sql = \"select identifier, num, text from ft where text match ? order by rank\"\n",
    "    res = query(db, sql, (q,), retrieve = retrieve)\n",
    "    results = \"\"\n",
    "    s = time()\n",
    "    h = 0\n",
    "    for r in res:\n",
    "        h += 1\n",
    "        #result = query(db, \"select * from warc where identifier = ? and num = ?\", (r[0], r[1]))\n",
    "        results += \"<li><ul><li><span style='color:red'>\" +str(r[3]) +\"</span></li><li><span style='color:blue'>\" + r[0] +\"</span></li><li>\" +  r[2] + \"</li></ul><br>\"\n",
    "    print(h, 'treff på', round(time() - s, 10), 'sekunder')\n",
    "    return HTML(\"<head><meta charset='utf-8'></head><body><ol type=1>\" + results + \"</ol></body>\")\n"
   ]
  },
  {
   "cell_type": "code",
   "execution_count": 40,
   "metadata": {},
   "outputs": [
    {
     "name": "stdout",
     "output_type": "stream",
     "text": [
      "10 treff på 0.0009994507 sekunder\n"
     ]
    },
    {
     "data": {
      "text/html": [
       "<head><meta charset='utf-8'></head><body><ol type=1><li><ul><li><span style='color:red'>-2.972218458006144</span></li><li><span style='color:blue'>digibok_2007092104018-1990-nob-787-Bevanger_Kjetil-Konflikt_fugl_kraftledning_i_Polmak_.txt</span></li><li>For \\xc3\\xa5 f\\xc3\\xa5 et m\\xc3\\xa5l p\\xc3\\xa5 den lokale \"omsetningshastigheten\"  av ledningsdrept fugl, foretas utleggingsfors\\xc3\\xb8k  med ryper. Ved hver 2. eventuelt hver 3. taksering, plasseres en rype tilfeldig et sted langs traseen. Tiden det tar f\\xc3\\xb8r fuglen fjernes eller bespises av rovdyr/\\xc3\\xa5tseletere, kontrolleres og f\\xc3\\xb8res p\\xc3\\xa5 eget skjema (vedlegg 2). Det er viktig at utlagte fugler ikke forveksles med kollisjonsofre. Utleggingsstedene  merkes derfor godt. I deler av traseep er det stor aktivitet av kr\\xc3\\xa5kef ugl/rev p\\xc3\\xa5 grunn av en lokal s\\xc3\\xb8ppelplass <b>like</b> ved mast 119. Dataene fra disse utleggingsfors\\xc3\\xb8kene vil senere bli brukt for \\xc3\\xa5 korrigere estimater av antall kollisjonsdrepte ryper (jf. Bevanger et al. in manus). Det ble lagt ut to ryper i vinterperioden og \\xc3\\xa9n i v\\xc3\\xa5rperioden.</li></ul><br><li><ul><li><span style='color:red'>-4.439344496320307</span></li><li><span style='color:blue'>digibok_2007091700038-1990-nob-775-Bevanger_Kjetil-Rypekollisjoner_mot_kraftledninger_i_Hemsedal.txt</span></li><li>Ledning 3. Ledningen avgreines fra ledning 2 <b>like</b> s\\xc3\\xb8r for St\\xc3\\xb8lsst\\xc3\\xb8len (jf. figur 3) (mast 1, ca. 1040 m 0.h.) og patruljeres frem til mast 28 ved Viljugreinst\\xc3\\xb8len  (ca. 1000 m 0.h.). Den patruljerte traseen er 2500 m og ligger i dalsida i skr\\xc3\\xa5tt terreng og preges av 4-6 m h\\xc3\\xb8g fjellbj\\xc3\\xb8rkeskog.</li></ul><br><li><ul><li><span style='color:red'>-4.384552779987591</span></li><li><span style='color:blue'>digibok_2010011804027-2003-nob-832-Sjaholm_Ingunn_B_-Befolkningens_vurdering_av_folkebibliotekene_.txt</span></li><li>Aller mest forn\\xc3\\xb8yd er brukerne med bibliotekets geografiske beliggenhet. Dette er av interesse i den aktuelle norske  debatten om bibliotekstruktur og samarbeid over kommunegrensene. Det er sv\\xc3\\xa6rt liten variasjon i svarene p\\xc3\\xa5 dette sp\\xc3\\xb8rsm\\xc3\\xa5let. Kommunest\\xc3\\xb8rrelse har ingen betydning her, intervjuobjektene som bor i sm\\xc3\\xa5kommuner (under 3 000 innbyggere)  gir <b>like</b> h\\xc3\\xb8y score som brukerne i</li></ul><br><li><ul><li><span style='color:red'>-3.141620724362133</span></li><li><span style='color:blue'>digibok_2010011804027-2003-nob-832-Sjaholm_Ingunn_B_-Befolkningens_vurdering_av_folkebibliotekene_.txt</span></li><li>N\\xc3\\xa5r det gjelder den relativt lave tilfredsheten  med utvalget av musikk, lydb\\xc3\\xb8ker  og video - alts\\xc3\\xa5 ikke-boklig materiale,  er flere mulige forklaringsfaktorer sannsynlige, bl. a. at midlene til medieinnkj\\xc3\\xb8p  er for sm\\xc3\\xa5 til \\xc3\\xa5 dekke disse omr\\xc3\\xa5dene <b>like</b> godt som b\\xc3\\xb8ker og tidsskrifter,  og at bibliotekfaglig kompetanse ikke er <b>like</b> godt utviklet p\\xc3\\xa5 musikk- og filmfeltet som p\\xc3\\xa5 det litter\\xc3\\xa6re feltet. N\\xc3\\xa5r det gjelder de andre fire enkeltforholdene med lavere brukertilfredshet, har alle en sammenheng med hvordan folkebiblioteket  fungerer i lokalsamfunnet. I Norge er folkebiblioteket, i generelle termer, godt kjent blant innbyggerne. Alle kommuner har et folkebibliotek, bare 6prosent av innbyggerne mellom 9 og 79 \\xc3\\xa5r har aldri v\\xc3\\xa6rt p\\xc3\\xa5 et folkebibliotek (Vaage, 1998), og 94prosent av et befolkningsutvalg mener de har rett til tilgang til et folkebibliotek  i kommunen der de bor, i tr\\xc3\\xa5d med Lov om folkebibliotek (Aab\\xc3\\xb8 under utgivelse). Likevel er bruken av folkebibliotekene  lavere i Norge enn i de andre nordiske landene (Aab\\xc3\\xb8, 2001). At bibliotekbrukerne  etterlyser mer informasjon  om bibliotekektjenestene, er en klar oppfordring til en offensiv og utadvendt promotering, til b\\xc3\\xa5de brukere og ikkebrukere,  av hele spekteret av bibliotektjenester:  Hva kan en gj\\xc3\\xb8re i biblioteket i tillegg til \\xc3\\xa5 l\\xc3\\xa5ne b\\xc3\\xb8ker, hva fins egentlig i bok- og dokumentsamlingen, hva kan en sp\\xc3\\xb8rre bibliotekarene om, hva kan en bruke selve biblioteklokalet til, hva er bibliotekets arrangementer neste halv\\xc3\\xa5r? At brukerne mener at folkebibliotekenes internettsider ikke er gode nok, er et viktig varsku. Dette er et kompetanseog  ressurssp\\xc3\\xb8rsm\\xc3\\xa5l, og i tillegg en utfordring  for institusjonene som utdanninr</li></ul><br><li><ul><li><span style='color:red'>-3.398762138656776</span></li><li><span style='color:blue'>digibok_2010011804027-2003-nob-832-Sjaholm_Ingunn_B_-Befolkningens_vurdering_av_folkebibliotekene_.txt</span></li><li>De ansatte p\\xc3\\xa5 folkebibliotekene oppfattes \\xc3\\xa5 v\\xc3\\xa6re <b>like</b> flinke over hele landet og i alle typer kommune, I likhet  med det vi s\\xc3\\xa5 for serviceinnstilling, er tilfredsheten med de ansattes faglige dyktighet h\\xc3\\xb8y p\\xc3\\xa5 tvers av ulike demografiske  kjennetegn ved brukeren. Det er ogs\\xc3\\xa5 liten forskjell mellom fylkene. Best vurdering gir brukerne i Telemark og Oppland med 80 poeng, mot 72 poeng i Sogn og Fjordane. Igjen er det slik at de eldste er mer forn\\xc3\\xb8yd enn de yngste, med scorer p\\xc3\\xa5 hhv. 85 og 72 poeng, alts\\xc3\\xa5 noe mindre avvik enn det vi s\\xc3\\xa5 for serviceinnstilling.</li></ul><br><li><ul><li><span style='color:red'>-4.278929135947809</span></li><li><span style='color:blue'>digibok_2010011804027-2003-nob-832-Sjaholm_Ingunn_B_-Befolkningens_vurdering_av_folkebibliotekene_.txt</span></li><li>Brukere i alle typer kommuner og over hele landet er omtrent <b>like</b> tilfreds med dette forholdet. Det er kun sm\\xc3\\xa5 forskjeller mellom fylkene. Nordland og Troms f\\xc3\\xa5r 65 poeng, mens brukerne i Oppland gir 72 poeng. Det er bare alder som skaper stor forskjell i tilfredshet p\\xc3\\xa5 dette punktet. Blant de under 25 \\xc3\\xa5r er scoren bare 54 poeng, mot 75 poeng blant de over 67 \\xc3\\xa5r.</li></ul><br><li><ul><li><span style='color:red'>-2.3522772067121958</span></li><li><span style='color:blue'>digibok_2008063000083-1983-nob-943-Styringsgruppen_for_undersokelse_av_friluftsl-Friluftsliv_og_vassdragsvern_.txt</span></li><li>Rundt 1850\\xe2\\x80\\x94 60-\\xc3\\xa5rene begynte framkomstmulighetene  \\xc3\\xa5 bli merkbart bedre, bl.a. ved at den f\\xc3\\xb8rste jernbanen ble bygget. Dessuten kom det stadig flere veier. Dette var n\\xc3\\xb8dvendig for at folk utenfor en helt engere  krets skulle kunne ta til med reiser og friluftsliv. En veiviser for mange skulle professor  Yngvar Nielsens reiseh\\xc3\\xa5ndb\\xc3\\xb8ker bli. Den Norske Turistforening, som ble stiftet i 1868, bidro ogs\\xc3\\xa5 i h\\xc3\\xb8y grad til \\xc3\\xa5 lette folks muligheter til \\xc3\\xa5 komme seg rundt i landet. Fra begynnelsen av var den nok <b>like</b> mye en reiselivsforening som en forening for fotturister.  Ved \\xc3\\xa5 bygge hytter og merkestier pnet  imidlertid foreningen stadig nye omr\\xc3\\xa5der  for ferdafolk. Foreningens \\xc3\\xa5rb\\xc3\\xb8ker og annen opplysningsvirksomhet bidro ogs\\xc3\\xa5 til \\xc3\\xa5 \\xc3\\xb8ke kjennskapen til omr\\xc3\\xa5der som inntil da hadde v\\xc3\\xa6rt ukjente for bybefolkningen. Etter  m\\xc3\\xb8nster fra Den Norske Turistforening bie det utover i 1870- og 1880-\\xc3\\xa5rene stiftet en rekke lokale turistforeninger. De aller fleste av disse ble startet ut fra en interesse for dalene  og skogstraktene. Men etter som tilgjengeligheten  til slike omr\\xc3\\xa5der stadig ble</li></ul><br><li><ul><li><span style='color:red'>-4.898446554537433</span></li><li><span style='color:blue'>digibok_2008063000083-1983-nob-943-Styringsgruppen_for_undersokelse_av_friluftsl-Friluftsliv_og_vassdragsvern_.txt</span></li><li>Dette inneb\\xc3\\xa6rer at skal det norske folk i st\\xc3\\xb8rst mulig grad ha <b>like</b> muligheter til \\xc3\\xa5 drive friluftsliv, m\\xc3\\xa5 man ta vare p\\xc3\\xa5 et mangfold  av aktivitetsmuligheter og s\\xc3\\xb8ke \\xc3\\xa5 gj\\xc3\\xb8re regionene mest mulig selvforsynte med friluftslivsomr\\xc3\\xa5der.</li></ul><br><li><ul><li><span style='color:red'>-5.340264272629808</span></li><li><span style='color:blue'>digibok_2008063000083-1983-nob-943-Styringsgruppen_for_undersokelse_av_friluftsl-Friluftsliv_og_vassdragsvern_.txt</span></li><li>Ser man p\\xc3\\xa5 selve vannsystemet isolert er det en rekke typer inngrep som alle i enkelte tilfeller kan v\\xc3\\xa6re til <b>like</b> stor skade som en eventuell kraftregulering. Reguleringer for vannforsyningsform\\xc3\\xa5l, t\\xc3\\xb8mmerfl\\xc3\\xb8tningsan-</li></ul><br><li><ul><li><span style='color:red'>-3.2142510099252433</span></li><li><span style='color:blue'>digibok_2008063000083-1983-nob-943-Styringsgruppen_for_undersokelse_av_friluftsl-Friluftsliv_og_vassdragsvern_.txt</span></li><li>Det har v\\xc3\\xa6rt registreret hvor store befolkningsgrupper  som har mulighet til \\xc3\\xa5 bruke vassdragsomr\\xc3\\xa5det som dagsturomr\\xc3\\xa5de og som helgeutfartsomr\\xc3\\xa5de, og hva slags alternative  vassdragsomr\\xc3\\xa5der med tilsvarende kvaliteter for friluftsliv som disse gruppene har. Avstand og tilgjengelighet vil her spille en rolle. Noe usikkerhet er det knyttet til en slik vurdering i og med at vurderingsmaterialet  p\\xc3\\xa5 dette feltet ikke har v\\xc3\\xa6rt <b>like</b> omfattende  for alle vassdrag. En del vassdrag er vurdert som viktige i en landsdels- eller en landssammenheng. Foruten \\xc3\\xa5 ha spesielle kvaliteter som gj\\xc3\\xb8r at de har stor egenverdi, vil de ofte ligge sentralt til i forhold til store befolkningskonsentrasjoner, slik at de er attraktive  som ferieomr\\xc3\\xa5der.</li></ul><br></ol></body>"
      ],
      "text/plain": [
       "<IPython.core.display.HTML object>"
      ]
     },
     "execution_count": 40,
     "metadata": {},
     "output_type": "execute_result"
    }
   ],
   "source": [
    "find_paragraphs(db, \"like\", retrieve  = 10, highlight=True)"
   ]
  },
  {
   "cell_type": "code",
   "execution_count": null,
   "metadata": {},
   "outputs": [],
   "source": []
  }
 ],
 "metadata": {
  "kernelspec": {
   "display_name": "Python 3",
   "language": "python",
   "name": "python3"
  },
  "language_info": {
   "codemirror_mode": {
    "name": "ipython",
    "version": 3
   },
   "file_extension": ".py",
   "mimetype": "text/x-python",
   "name": "python",
   "nbconvert_exporter": "python",
   "pygments_lexer": "ipython3",
   "version": "3.7.3"
  }
 },
 "nbformat": 4,
 "nbformat_minor": 2
}

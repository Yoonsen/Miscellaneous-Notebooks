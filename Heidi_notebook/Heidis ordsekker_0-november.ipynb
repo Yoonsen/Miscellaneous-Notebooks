{
 "cells": [
  {
   "cell_type": "code",
   "execution_count": 1,
   "metadata": {},
   "outputs": [],
   "source": [
    "themes = \"\"\"\n",
    "#“Kvindens Sandhed” (Minst 3 av 4). ;;\n",
    "Kvinde_: kvinne, kvinnen, kvinner, kvinnene, kvinnerne, kvinnes, kvinnens, kvinners, kvinnenes, kvinnernes, kvinde, kvinden, kvinder, kvinderne, kvindens, kvindes, kvindernes, kvinders, kvindelige, kvindelig, kvindeligt, kvindene, kvindeme, kvindenes, kvindemes, kvindc, kvindcr, kvindcn, kvindcns, kvindcs, kvindcrnes, kvindcrnc, kvindcrs, kvindcrncs, kvindclighed, kvindcligheden, kuindc, kuindcr, kuindcn, kuindcs, kuindcrne, kuindcns, kuinde, kuinder, kuinden, kuinderne, kuindens, kuinders, kuindes, kvindelighed, kvindeligt, kvindelighedens, kvindeligheden, kvindeligheds, kvindelighed, kvindclige, kvindelighcd, kvindeligked, kvindeligbed, Kvmde, Kvmder, Kvmderne, Kvmden, Kvmdens, Kvmdes, Kvmdernes, Kvmders, Kvmdelige, Kvmdc, Kvmdcr, Kvmdelig, Kvmds, Kvmder, Kvmdcs, Kvmdei, Kvindfolk, Kvindfolkene, Kvindfolket, Kvindfolks, Kvendfolki, Kvindfolk, Kvindfolt, Kvindfoll, Kvmdfolk, Kvindfolkets, Kviudfolk, Kvindfolke, Kvcndfolk, Kvindfolkcne, Kvindfoltene, Kvindfolkme, Kvendfolt, Kvlndfolk, Kvindfolkenc, Kvindfolki, Kvmdfolkene, Kvindfolkje, Kvindfolkcnc, KvindfolK, Kvendfolkets, Kvmdfolket, Kvindfolkl, Kvindfolkt, stvinder, stvindcr, qvinde, qvinden, qvinder, qvinderne, qvindene, qvindelig, qvindelige, qvindelighed, quinde, quinden, quinder, qvinderne, qvindene, quindelig, quindelighed, qvindcn, quindcn, qvindclig, quindclig, qvindcr, quindcr, qvindcrne, qvindene, quindcrne, quindcne, qvindclighcd, quindclighcd, qvindelighcd, quindelighcd, qvindclighed, quindclighcd, Qvmde, Qvmder, Qvmden, Qvmdens, Qvmderne, Qvmdes, Qvmdfolk, Qvmders, Qvmdc, Qvmdm, Qvmd, Qvmdcr, Qvmdernes, Qvmdfolck, Qvmdis, Qvmds, Qvmdelig, Qvmdekwn, Qvmdcs, Qvmdcn, Qvmdeligt, Qvmdernis, Qvmdcrs, Qvmdt, Dame, Damen, dame, Damen, damc, Damc, damcn, Damcn, damer, Damer, damcr, Damcr, damene, Damene, damcne, Damcne, damcrne, Damcrne, damerne, Damerne, damcrnc, Damcrnc, damcnc, Damcnc, damernc, Damernc, damenc, Damenc, heltinne, heltinnen, heltinner, heltinnene, heltinnens, hcltinnen, heltinde, heltinden, heltinder, heltindene, heltinderne, heltindens, heltindc, tjenerinne, tjenerinnen, tjenerinde, tjenerinden, tjcnerinde, tjcncrinde, tjcnerinden, tjcncrinden, tjcncrindcn, fristerinne, fristerinnen, fristerinnens, fristerinde, fristerinden, fristerindens, fristcrinde, fristcrinden, fristcrindcn, kone, konen, koncn, hustru, huustru, fruentimmer, fruentimmeret, fruentimmere, fruentimmerne, fruentimmernc, fruentimmers, fruentimmerets, fruentimmeraktig, fruentimmeragtig, fruentimmerlig, fruentimmerlige, fruentimmerfølelser, fruentimre, fruentimret, fruentimrene, Frnentimmer, Frueutimmer, Fruen-Timmer, Frncntimmer, Frnentimmcr, Fruetimmer, Frncntimmcr, Frueutimmcr, Frucutimmer, Fruentimmcr, Frwentimmer, Frucutimmcr, Frucntimmcr, Fruemtimmer, Frmntimmer, Fruertimmer, Frllentimmer, Frumtimmer, Frauentimmer, Fruentimmmer, Fruintimmer, Frucntimmer, Froentimmer, Fruntimmcr, Frneutimmer, Freuentimmer, Fruetttimmer, Fraentimmer, Fruentimmrr, Fruenstimmer, Frnntimmer, Frnmtimmer, Fruelttimmer, beskjørtede, bcskjørtede, bcskjørtcde, bcskjortcde, beskjortcde, bcskjortede, beskjortede, fruentimmernetheder, fruentimmcrncdhcer, frucntimmcrncdhcdcr, mor, moder, moderlig, modre, modrcne, modrc, modcrlig, modcrlighcden, modcrlighed, moderlighed, modcrlighcd, telegrafistinde, telegrafistinder, telegrafistinderne, telcgrafistinde, tclcgrafistinde, tclcgrafistindcr, telcgrafistindcrne, lcererinde, lærerinde, lcercrinde, lcercrinder, lcererinderne, lcercrindene, Huusholderske, Huusholdersken, Huusmoder, husmoderlig, husmoderlige, husmoderlighed, husmoderligheden, Husmor, Husmoder, Husmodcr, Husmodcrcn, Husmoderen, Husmodcren, Husmodcren, Huusmodcr, Huusmodre, Huusmoders, Huusmodcr, Huusmodrene, Huusmodcren, Huusmodercn, Huusmodcrs, Husmodre, Husmodrc, Husmoderhjerne, Husmoderkall, Husmoderem, Husmoderms, Huusmodcrcn, Huusholderffe, Huusholderster, Huusholderste, Husfrue, Huusfrue, Huusfrne, Favoritinde, Husslavinde, Emancipationsistinde, Emancipationistindern, ledsagerinde, ledsagerinder, ledsagerindes, ledsagerinde, ledsagcrinde, Lcdsagerinde, ledsagerinden, ledsagerindc, lcdsagcrinde, ledsagerinders, ledsagerindc, lcdsagcrinde, ledsagerinders, lcdsagerindc, Læserinder, Læserinde, Lceserinde, Lceserinder, Læserinden, Leserinder, Leserinde, Læserinders, Lcrserinde; \n",
    "Sandhed_: sandhed, sannhed, sandhcd, sandhedt, saudhed, sandbed, sandhrd, sandhsd, sandhtd, sandhld, sandheed, sandhéd, sandhid, sandhod, sandbcd, saudhcd, sanhed, sanohed, sanbhed, sanvhed, sandhid, sandhéd, sanohcd, sandhod, sanrhed, sanhhed, sanlhed, sankhed, sannheden, sandheden, sannhed, sandhed, sandhedens, sannhedens, sandhcd, sandhcdcn, sandhcdcns, sandheds, sandhedt, sandheder, sandheders, saudhed, sandbed, visdom, visdommen, visdommens, visdommcn, visdommcn, længsel, lcengsel, lcrngsel, længscl, lcengscl, lcrngscl, længselen, lcengselen, lcrngselen, længselcn, lcengselcn, lcrngselcn, længsclcr, lcengsclcr, lcrngscler, oplysning, oplyst, oplyste, indsigt; \n",
    "Frihed_: frihed, frihcd, frihrd, frihsd, frihod, frihéd, frihtd, frihd, frihZd, frihe.d, frihkd, frihld,  fribed, friked, frided, friled, friKed, frimed, friHed, frived, frjhed, frlhed, frHed, frzhed, frhed, frfhed, friHed, frkhed, frrhed, indflydelse, innflydelsen, innflydelse, inflydelse, inflydelsen, inflydelser, inflydclse, indflydelsen, Indflydclse, indflydelsc, indflvdelse, indflpdelse, indflydclsc, indflydelst, indflydelses, indflndelse, indflhdelse, indflydrlse, indfludelse, indflydelsens, indflydels, indflpdclse, indflydclsen, indflydelscn, indflydelss, indflydélse, indflydelsé, indflvdelsen, indflpdelsen, indfludclse, indflpdclsc, indflydllse, indflydelsm, indflvdelser, indflvdclsc, indfllidelse, indflydrlsc, indflydelseu, indfltzdelse, indflydlse, indflvdelsc, indflydeLse, indflyldelse,   indflydelfe, indflydelfen, vilje, viljc, villie, vilie, villje, villle, viliie, vilJie, selvstendig,  sælvstendig selvstcendig, selvstcrndig, selvstcendigt, selvstcrndigt, sclvstendig, selvstcndig, sclvstcendig, sclvstcrndig, sclvstcndig, sælvstendig, sjslvstendig, selvstccndig, sélvstendig, selvstændige, selvstcendige, selvstcrndige, sclvstendige, selvstcndige, selvstaendige, sælvstændige, sclvstcendige, sclvstcrndige, sélvstendige, selvstsendige, selvsteendige, sclvstcndige, sélvstændige, sclvstændige, selvstccndige, selvstendigc, selvstcrndigc, selvstcendigc, selvstændigc, sclvstcrndigc, sclvstcendigc, sclvstendigc, selvstcndigc, sclvstcndigc, sclvstændigc, autonom, autonome, avtonom, autonomi, autonomy;\n",
    "Legeme_: legeme, legemet, legemes, legemlig, lægeme, lcgemet, lcgcmc, lcgcm, lcgems, lcgemes, légeme, lcgeme, legcme, legéme, lcgcme, kvindelegeme, legcmes, lcgcmet, krop, kropp, kvindekrop, følelse, følelser, følelsen, fslelse, folelse, folelser, folclse, fslclse, emosjon, emosjoner, emosjoncr, emosioner, emosion, drift, drifter, driften, driftcn, sexualitet, sexualitdt, sølibat, solibat, kjøn, kjon, kjsn, kjm, kjM, kvindekjon, kvindekjsn, kvindekjM, Kvindekjonnet, Kvindkjøn, Kvindekjsnnet, Kvindekjønnets, Kvindekjen, Kvindekøn, Kvindekjonncts, Kvindckjonnets, Kvindckjsn, Kvindckjsnnet, Kvindekjpnnets, Kuindekjon, Kuindekjonnet, Kuindekjsn, Kvmdekjsn, Kvmdekjøn, Qvindekjøn, Qvindekjønnet, Qvindekjon, Qvindekjsnnet, Qvindekjonnet, Qvindekjøns, Qvindekjsn, Qvindekjønnets, Qvindekjonnets, Qvindekjsnnets, Qvindekjbn, Qvindekjennet, Qvindeskjød, Qvinde-Kjønnet, Qvindekj, QvindekjM, Qvindkjøn, Qvinde-Kjsn, Qvinde-Kjon, Qvindekjonnct, Qvinde-Kjonnet, Qvindekjen, Qvindekjsnnct, Qvindckjsnnet, Qvindckjon, Qvindekjemnet, Qvindckjøns, Qvindekjpnnet, Quindekjønnet, Quindekjøn, Quindekjønnets, Quinde-Kjønnet, Quindekjonnet, Quindekjøns, Quindekj, Quindekjsnnet, Quindkjøn, Quinde-Kjsnnet, Qvmdekjon, Qvmdekjsn, Qvmde-Kion, Qvmdekwn, Qvmde-Kisn, Qvindekiøn, Qvindekion, Qvinde-Kion, Qvindekisn, Qvinde-Kiøn, Qvinde-Kisn, Qvinde-Kwn, Qvindekwn, Qvindekjbn, Qvindekien, Qvinde-kion, Qvinde-Kien, Qvindckisn, Qvindckion, Qvinde-Kjsn, Qvindkjøn, Qvinde-Kjon, Qvindekjen, Qvindekiyn;\n",
    "\n",
    "#“Kvinde, lesning og religion” (Minst 4 av 5);;\n",
    "Kvinde_: kvinne, kvinnen, kvinner, kvinnene, kvinnerne, kvinnes, kvinnens, kvinners, kvinnenes, kvinnernes, kvinde, kvinden, kvinder, kvinderne, kvindens, kvindes, kvindernes, kvinders, kvindelige, kvindelig, kvindeligt, kvindene, kvindeme, kvindenes, kvindemes, kvindc, kvindcr, kvindcn, kvindcns, kvindcs, kvindcrnes, kvindcrnc, kvindcrs, kvindcrncs, kvindclighed, kvindcligheden, kuindc, kuindcr, kuindcn, kuindcs, kuindcrne, kuindcns, kuinde, kuinder, kuinden, kuinderne, kuindens, kuinders, kuindes, kvindelighed, kvindeligt, kvindelighedens, kvindeligheden, kvindeligheds, kvindelighed, kvindclige, kvindelighcd, kvindeligked, kvindeligbed, Kvmde, Kvmder, Kvmderne, Kvmden, Kvmdens, Kvmdes, Kvmdernes, Kvmders, Kvmdelige, Kvmdc, Kvmdcr, Kvmdelig, Kvmds, Kvmder, Kvmdcs, Kvmdei, Kvindfolk, Kvindfolkene, Kvindfolket, Kvindfolks, Kvendfolki, Kvindfolk, Kvindfolt, Kvindfoll, Kvmdfolk, Kvindfolkets, Kviudfolk, Kvindfolke, Kvcndfolk, Kvindfolkcne, Kvindfoltene, Kvindfolkme, Kvendfolt, Kvlndfolk, Kvindfolkenc, Kvindfolki, Kvmdfolkene, Kvindfolkje, Kvindfolkcnc, KvindfolK, Kvendfolkets, Kvmdfolket, Kvindfolkl, Kvindfolkt, stvinder, stvindcr, qvinde, qvinden, qvinder, qvinderne, qvindene, qvindelig, qvindelige, qvindelighed, quinde, quinden, quinder, qvinderne, qvindene, quindelig, quindelighed, qvindcn, quindcn, qvindclig, quindclig, qvindcr, quindcr, qvindcrne, qvindene, quindcrne, quindcne, qvindclighcd, quindclighcd, qvindelighcd, quindelighcd, qvindclighed, quindclighcd, Qvmde, Qvmder, Qvmden, Qvmdens, Qvmderne, Qvmdes, Qvmdfolk, Qvmders, Qvmdc, Qvmdm, Qvmd, Qvmdcr, Qvmdernes, Qvmdfolck, Qvmdis, Qvmds, Qvmdelig, Qvmdekwn, Qvmdcs, Qvmdcn, Qvmdeligt, Qvmdernis, Qvmdcrs, Qvmdt, Dame, Damen, dame, Damen, damc, Damc, damcn, Damcn, damer, Damer, damcr, Damcr, damene, Damene, damcne, Damcne, damcrne, Damcrne, damerne, Damerne, damcrnc, Damcrnc, damcnc, Damcnc, damernc, Damernc, damenc, Damenc, heltinne, heltinnen, heltinner, heltinnene, heltinnens, hcltinnen, heltinde, heltinden, heltinder, heltindene, heltinderne, heltindens, heltindc, tjenerinne, tjenerinnen, tjenerinde, tjenerinden, tjcnerinde, tjcncrinde, tjcnerinden, tjcncrinden, tjcncrindcn, fristerinne, fristerinnen, fristerinnens, fristerinde, fristerinden, fristerindens, fristcrinde, fristcrinden, fristcrindcn, kone, konen, koncn, hustru, huustru, fruentimmer, fruentimmeret, fruentimmere, fruentimmerne, fruentimmernc, fruentimmers, fruentimmerets, fruentimmeraktig, fruentimmeragtig, fruentimmerlig, fruentimmerlige, fruentimmerfølelser, fruentimre, fruentimret, fruentimrene, Frnentimmer, Frueutimmer, Fruen-Timmer, Frncntimmer, Frnentimmcr, Fruetimmer, Frncntimmcr, Frueutimmcr, Frucutimmer, Fruentimmcr, Frwentimmer, Frucutimmcr, Frucntimmcr, Fruemtimmer, Frmntimmer, Fruertimmer, Frllentimmer, Frumtimmer, Frauentimmer, Fruentimmmer, Fruintimmer, Frucntimmer, Froentimmer, Fruntimmcr, Frneutimmer, Freuentimmer, Fruetttimmer, Fraentimmer, Fruentimmrr, Fruenstimmer, Frnntimmer, Frnmtimmer, Fruelttimmer, beskjørtede, bcskjørtede, bcskjørtcde, bcskjortcde, beskjortcde, bcskjortede, beskjortede, fruentimmernetheder, fruentimmcrncdhcer, frucntimmcrncdhcdcr, mor, moder, moderlig, modre, modrcne, modrc, modcrlig, modcrlighcden, modcrlighed, moderlighed, modcrlighcd, telegrafistinde, telegrafistinder, telegrafistinderne, telcgrafistinde, tclcgrafistinde, tclcgrafistindcr, telcgrafistindcrne, lcererinde, lærerinde, lcercrinde, lcercrinder, lcererinderne, lcercrindene, kvindekjon, kvindekjsn, kvindekjM, Kvindekjonnet, Kvindkjøn, Kvindekjsnnet, Kvindekjønnets, Kvindekjen, Kvindekøn, Kvindekjonncts, Kvindckjonnets, Kvindckjsn, Kvindckjsnnet, Kvindekjpnnets, Kuindekjon, Kuindekjonnet, Kuindekjsn, Kvmdekjsn, Kvmdekjøn, Qvindekjøn, Qvindekjønnet, Qvindekjon, Qvindekjsnnet, Qvindekjonnet, Qvindekjøns, Qvindekjsn, Qvindekjønnets, Qvindekjonnets, Qvindekjsnnets, Qvindekjbn, Qvindekjennet, Qvindeskjød, Qvinde-Kjønnet, Qvindekj, QvindekjM, Qvindkjøn, Qvinde-Kjsn, Qvinde-Kjon, Qvindekjonnct, Qvinde-Kjonnet, Qvindekjen, Qvindekjsnnct, Qvindckjsnnet, Qvindckjon, Qvindekjemnet, Qvindckjøns, Qvindekjpnnet, Quindekjønnet, Quindekjøn, Quindekjønnets, Quinde-Kjønnet, Quindekjonnet, Quindekjøns, Quindekj, Quindekjsnnet, Quindkjøn, Quinde-Kjsnnet, Qvmdekjon, Qvmdekjsn, Qvmde-Kion, Qvmdekwn, Qvmde-Kisn, Qvindekiøn, Qvindekion, Qvinde-Kion, Qvindekisn, Qvinde-Kiøn, Qvinde-Kisn, Qvinde-Kwn, Qvindekwn, Qvindekjbn, Qvindekien, Qvinde-kion, Qvinde-Kien, Qvindckisn, Qvindckion, Qvinde-Kjsn, Qvindkjøn, Qvinde-Kjon, Qvindekjen, Qvindekiyn, Huusholderske, Huusholdersken, Huusmoder, husmoderlig, husmoderlige, husmoderlighed, husmoderligheden, Husmor, Husmoder, Husmodcr, Husmodcrcn, Husmoderen, Husmodcren, Husmodcren, Huusmodcr, Huusmodre, Huusmoders, Huusmodcr, Huusmodrene, Huusmodcren, Huusmodercn, Huusmodcrs, Husmodre, Husmodrc, Husmoderhjerne, Husmoderkall, Husmoderem, Husmoderms, Huusmodcrcn, Huusholderffe, Huusholderster, Huusholderste, Husfrue, Huusfrue, Huusfrne, Favoritinde, Husslavinde, Emancipationsistinde, Emancipationistindern, ledsagerinde, ledsagerinder, ledsagerindes, ledsagerinde, ledsagcrinde, Lcdsagerinde, ledsagerinden, ledsagerindc, lcdsagcrinde, ledsagerinders, ledsagerindc, lcdsagcrinde, ledsagerinders, lcdsagerindc; \n",
    "Læserinde_: læserinde, læserinder, lceserinde, lceserinder, læserinden, leserinder, leserinde, læserinders, lcrserinde, Lcesning;\n",
    "Litteratur_: litteratur, littcratur, Literatur, Litcratur, Litératur, Litratur, Littratur, roman, romanen, romaner, romanene, novelle, novellen, noveller, novellene, fortælling, fortelling, fortcelling, fortællingen, fortellinger, fortcellingene, fortællingcn, fortellingcr, fortcellingcne, skuespil;\n",
    "Religion_: religion, rcligion, réligion, relligion, regligion, rsligion, religios, religiose, religiositet, religissitet, religiositcit, rcligiositet, rcligissitet, religissitct, religissitcet, kristen, kristcn, kristelig,  kristslig, kristelige, kristeliges, kristclige, kristeligt, kristlige, kristligt, christen, christcn, christelig, christclig, christlig, christelige, christeligt, christclige, christeligen, christclig, christeliges, christeligs, christeligc, christlige, christlig, christcligc, ccristcligt, christeliges, kristendommen, kristendommens, chritstendommen, chrtstendommen, chritstendommens, chrtstendommens, gudsfrygt, gudfrygtig, gudfrygtige, gudfrygtiges, gudfrøgtige, gudfrygtigt, gudfrygtigcs, gudfrygtig, gudfrvgtige, oudfrygtige, oudfrygtig, gudfrygtighed, gudfrygtighcd, gudfrygtighrd, gudfrygtigbed, gudfrygtigbcd, seerske, seersken, seersker, seerste, seerster;\n",
    "Kvindeforening_: kvindeforening, kvindeforeningen, kvindeforeninger, kvindeforeningcr, kuindeforeninger, kuindeforening, qvindeforening, qvindeforeningen, qvindeforeninger, qvindeforenings, quindeforening, quindeforeningen, quindeforeninger, misjon, mision, kvindemisjonen, misjonsforening, misjonsforening, misjonsforrening;\n",
    "\n",
    "#“Forfatterinder og religion”  (Minst 3 av 4);;\n",
    "Kvinde_: kvinne, kvinnen, kvinner, kvinnene, kvinnerne, kvinnes, kvinnens, kvinners, kvinnenes, kvinnernes, kvinde, kvinden, kvinder, kvinderne, kvindens, kvindes, kvindernes, kvinders, kvindelige, kvindelig, kvindeligt, kvindene, kvindeme, kvindenes, kvindemes, kvindc, kvindcr, kvindcn, kvindcns, kvindcs, kvindcrnes, kvindcrnc, kvindcrs, kvindcrncs, kvindclighed, kvindcligheden, kuindc, kuindcr, kuindcn, kuindcs, kuindcrne, kuindcns, kuinde, kuinder, kuinden, kuinderne, kuindens, kuinders, kuindes, kvindelighed, kvindeligt, kvindelighedens, kvindeligheden, kvindeligheds, kvindelighed, kvindclige, kvindelighcd, kvindeligked, kvindeligbed, Kvmde, Kvmder, Kvmderne, Kvmden, Kvmdens, Kvmdes, Kvmdernes, Kvmders, Kvmdelige, Kvmdc, Kvmdcr, Kvmdelig, Kvmds, Kvmder, Kvmdcs, Kvmdei, Kvindfolk, Kvindfolkene, Kvindfolket, Kvindfolks, Kvendfolki, Kvindfolk, Kvindfolt, Kvindfoll, Kvmdfolk, Kvindfolkets, Kviudfolk, Kvindfolke, Kvcndfolk, Kvindfolkcne, Kvindfoltene, Kvindfolkme, Kvendfolt, Kvlndfolk, Kvindfolkenc, Kvindfolki, Kvmdfolkene, Kvindfolkje, Kvindfolkcnc, KvindfolK, Kvendfolkets, Kvmdfolket, Kvindfolkl, Kvindfolkt, stvinder, stvindcr, qvinde, qvinden, qvinder, qvinderne, qvindene, qvindelig, qvindelige, qvindelighed, quinde, quinden, quinder, qvinderne, qvindene, quindelig, quindelighed, qvindcn, quindcn, qvindclig, quindclig, qvindcr, quindcr, qvindcrne, qvindene, quindcrne, quindcne, qvindclighcd, quindclighcd, qvindelighcd, quindelighcd, qvindclighed, quindclighcd, Qvmde, Qvmder, Qvmden, Qvmdens, Qvmderne, Qvmdes, Qvmdfolk, Qvmders, Qvmdc, Qvmdm, Qvmd, Qvmdcr, Qvmdernes, Qvmdfolck, Qvmdis, Qvmds, Qvmdelig, Qvmdekwn, Qvmdcs, Qvmdcn, Qvmdeligt, Qvmdernis, Qvmdcrs, Qvmdt, Dame, Damen, dame, Damen, damc, Damc, damcn, Damcn, damer, Damer, damcr, Damcr, damene, Damene, damcne, Damcne, damcrne, Damcrne, damerne, Damerne, damcrnc, Damcrnc, damcnc, Damcnc, damernc, Damernc, damenc, Damenc, heltinne, heltinnen, heltinner, heltinnene, heltinnens, hcltinnen, heltinde, heltinden, heltinder, heltindene, heltinderne, heltindens, heltindc, tjenerinne, tjenerinnen, tjenerinde, tjenerinden, tjcnerinde, tjcncrinde, tjcnerinden, tjcncrinden, tjcncrindcn, fristerinne, fristerinnen, fristerinnens, fristerinde, fristerinden, fristerindens, fristcrinde, fristcrinden, fristcrindcn, kone, konen, koncn, hustru, huustru, fruentimmer, fruentimmeret, fruentimmere, fruentimmerne, fruentimmernc, fruentimmers, fruentimmerets, fruentimmeraktig, fruentimmeragtig, fruentimmerlig, fruentimmerlige, fruentimmerfølelser, fruentimre, fruentimret, fruentimrene, Frnentimmer, Frueutimmer, Fruen-Timmer, Frncntimmer, Frnentimmcr, Fruetimmer, Frncntimmcr, Frueutimmcr, Frucutimmer, Fruentimmcr, Frwentimmer, Frucutimmcr, Frucntimmcr, Fruemtimmer, Frmntimmer, Fruertimmer, Frllentimmer, Frumtimmer, Frauentimmer, Fruentimmmer, Fruintimmer, Frucntimmer, Froentimmer, Fruntimmcr, Frneutimmer, Freuentimmer, Fruetttimmer, Fraentimmer, Fruentimmrr, Fruenstimmer, Frnntimmer, Frnmtimmer, Fruelttimmer, beskjørtede, bcskjørtede, bcskjørtcde, bcskjortcde, beskjortcde, bcskjortede, beskjortede, fruentimmernetheder, fruentimmcrncdhcer, frucntimmcrncdhcdcr, mor, moder, moderlig, modre, modrcne, modrc, modcrlig, modcrlighcden, modcrlighed, moderlighed, modcrlighcd, telegrafistinde, telegrafistinder, telegrafistinderne, telcgrafistinde, tclcgrafistinde, tclcgrafistindcr, telcgrafistindcrne, lcererinde, lærerinde, lcercrinde, lcercrinder, lcererinderne, lcercrindene, kvindekjon, kvindekjsn, kvindekjM, Kvindekjonnet, Kvindkjøn, Kvindekjsnnet, Kvindekjønnets, Kvindekjen, Kvindekøn, Kvindekjonncts, Kvindckjonnets, Kvindckjsn, Kvindckjsnnet, Kvindekjpnnets, Kuindekjon, Kuindekjonnet, Kuindekjsn, Kvmdekjsn, Kvmdekjøn, Qvindekjøn, Qvindekjønnet, Qvindekjon, Qvindekjsnnet, Qvindekjonnet, Qvindekjøns, Qvindekjsn, Qvindekjønnets, Qvindekjonnets, Qvindekjsnnets, Qvindekjbn, Qvindekjennet, Qvindeskjød, Qvinde-Kjønnet, Qvindekj, QvindekjM, Qvindkjøn, Qvinde-Kjsn, Qvinde-Kjon, Qvindekjonnct, Qvinde-Kjonnet, Qvindekjen, Qvindekjsnnct, Qvindckjsnnet, Qvindckjon, Qvindekjemnet, Qvindckjøns, Qvindekjpnnet, Quindekjønnet, Quindekjøn, Quindekjønnets, Quinde-Kjønnet, Quindekjonnet, Quindekjøns, Quindekj, Quindekjsnnet, Quindkjøn, Quinde-Kjsnnet, Qvmdekjon, Qvmdekjsn, Qvmde-Kion, Qvmdekwn, Qvmde-Kisn, Qvindekiøn, Qvindekion, Qvinde-Kion, Qvindekisn, Qvinde-Kiøn, Qvinde-Kisn, Qvinde-Kwn, Qvindekwn, Qvindekjbn, Qvindekien, Qvinde-kion, Qvinde-Kien, Qvindckisn, Qvindckion, Qvinde-Kjsn, Qvindkjøn, Qvinde-Kjon, Qvindekjen, Qvindekiyn, Huusholderske, Huusholdersken, Huusmoder, husmoderlig, husmoderlige, husmoderlighed, husmoderligheden, Husmor, Husmoder, Husmodcr, Husmodcrcn, Husmoderen, Husmodcren, Husmodcren, Huusmodcr, Huusmodre, Huusmoders, Huusmodcr, Huusmodrene, Huusmodcren, Huusmodercn, Huusmodcrs, Husmodre, Husmodrc, Husmoderhjerne, Husmoderkall, Husmoderem, Husmoderms, Huusmodcrcn, Huusholderffe, Huusholderster, Huusholderste, Husfrue, Huusfrue, Huusfrne, Favoritinde, Husslavinde, Emancipationsistinde, Emancipationistindern, ledsagerinde, ledsagerinder, ledsagerindes, ledsagerinde, ledsagcrinde, Lcdsagerinde, ledsagerinden, ledsagerindc, lcdsagcrinde, ledsagerinders, ledsagerindc, lcdsagcrinde, ledsagerinders, lcdsagerindc, Læserinder, Læserinde, Lceserinde, Lceserinder, Læserinden, Leserinder, Leserinde, Læserinders, Lcrserinde; \n",
    "Forfatterinde_: forfaterinde, forfatterinde, forfatterinden, forfatterinder, forfatterindes, forfattcrinde, forfatterindcn, forfatterindc, forfattcrinden, forfattcrindcn, forfatterindens, forfattcrindcr, forfatlerinde, forfatlerinden, forfatterske, forfatlerfke, Forfatterske, Forfatterste, digterinde, digtcrinde, digterinden, digterinder, digterindens, digterindes, digtcrinde, digterinders, digtcrinden, digterindcn, digtcrinder, digtcrindc, digterindc, digtcrindcn, romanforfatterinde, romanforfatterinden, romanforfatterinder;\n",
    "Litteratur_: litteratur, littcratur, Literatur, Litcratur, Litératur, Litratur, Littratur, roman, romanen, romaner, romanene, novelle, novellen, noveller, novellene, fortælling, fortelling, fortcelling, fortællingen, fortellinger, fortcellingene, fortællingcn, fortellingcr, fortcellingcne, skuespil;\n",
    "Religion_: religion, rcligion, réligion, relligion, regligion, rsligion, religios, religiose, religiositet, religissitet, religiositcit, rcligiositet, rcligissitet, religissitct, religissitcet, kristen, kristcn, kristelig,  kristslig, kristelige, kristeliges, kristclige, kristeligt, kristlige, kristligt, christen, christcn, christelig, christclig, christlig, christelige, christeligt, christclige, christeligen, christclig, christeliges, christeligs, christeligc, christlige, christlig, christcligc, ccristcligt, christeliges, kristendommen, kristendommens, chritstendommen, chrtstendommen, chritstendommens, chrtstendommens, gudsfrygt, gudfrygtig, gudfrygtige, gudfrygtiges, gudfrøgtige, gudfrygtigt, gudfrygtigcs, gudfrygtig, gudfrvgtige, oudfrygtige, oudfrygtig, gudfrygtighed, gudfrygtighcd, gudfrygtighrd, gudfrygtigbed, gudfrygtigbcd, seerske, seersken, seersker, seerste, seerster;\n",
    "\n",
    "#“Kvindens posisjon” (Minst 4 av 6);;\n",
    "Kvinde_: kvinne, kvinnen, kvinner, kvinnene, kvinnerne, kvinnes, kvinnens, kvinners, kvinnenes, kvinnernes, kvinde, kvinden, kvinder, kvinderne, kvindens, kvindes, kvindernes, kvinders, kvindelige, kvindelig, kvindeligt, kvindene, kvindeme, kvindenes, kvindemes, kvindc, kvindcr, kvindcn, kvindcns, kvindcs, kvindcrnes, kvindcrnc, kvindcrs, kvindcrncs, kvindclighed, kvindcligheden, kuindc, kuindcr, kuindcn, kuindcs, kuindcrne, kuindcns, kuinde, kuinder, kuinden, kuinderne, kuindens, kuinders, kuindes, kvindelighed, kvindeligt, kvindelighedens, kvindeligheden, kvindeligheds, kvindelighed, kvindclige, kvindelighcd, kvindeligked, kvindeligbed, Kvmde, Kvmder, Kvmderne, Kvmden, Kvmdens, Kvmdes, Kvmdernes, Kvmders, Kvmdelige, Kvmdc, Kvmdcr, Kvmdelig, Kvmds, Kvmder, Kvmdcs, Kvmdei, Kvindfolk, Kvindfolkene, Kvindfolket, Kvindfolks, Kvendfolki, Kvindfolk, Kvindfolt, Kvindfoll, Kvmdfolk, Kvindfolkets, Kviudfolk, Kvindfolke, Kvcndfolk, Kvindfolkcne, Kvindfoltene, Kvindfolkme, Kvendfolt, Kvlndfolk, Kvindfolkenc, Kvindfolki, Kvmdfolkene, Kvindfolkje, Kvindfolkcnc, KvindfolK, Kvendfolkets, Kvmdfolket, Kvindfolkl, Kvindfolkt, stvinder, stvindcr, qvinde, qvinden, qvinder, qvinderne, qvindene, qvindelig, qvindelige, qvindelighed, quinde, quinden, quinder, qvinderne, qvindene, quindelig, quindelighed, qvindcn, quindcn, qvindclig, quindclig, qvindcr, quindcr, qvindcrne, qvindene, quindcrne, quindcne, qvindclighcd, quindclighcd, qvindelighcd, quindelighcd, qvindclighed, quindclighcd, Qvmde, Qvmder, Qvmden, Qvmdens, Qvmderne, Qvmdes, Qvmdfolk, Qvmders, Qvmdc, Qvmdm, Qvmd, Qvmdcr, Qvmdernes, Qvmdfolck, Qvmdis, Qvmds, Qvmdelig, Qvmdekwn, Qvmdcs, Qvmdcn, Qvmdeligt, Qvmdernis, Qvmdcrs, Qvmdt, Dame, Damen, dame, Damen, damc, Damc, damcn, Damcn, damer, Damer, damcr, Damcr, damene, Damene, damcne, Damcne, damcrne, Damcrne, damerne, Damerne, damcrnc, Damcrnc, damcnc, Damcnc, damernc, Damernc, damenc, Damenc, heltinne, heltinnen, heltinner, heltinnene, heltinnens, hcltinnen, heltinde, heltinden, heltinder, heltindene, heltinderne, heltindens, heltindc, fristerinne, fristerinnen, fristerinnens, fristerinde, fristerinden, fristerindens, fristcrinde, fristcrinden, fristcrindcn, kone, konen, koncn, hustru, huustru, fruentimmer, fruentimmeret, fruentimmere, fruentimmerne, fruentimmernc, fruentimmers, fruentimmerets, fruentimmeraktig, fruentimmeragtig, fruentimmerlig, fruentimmerlige, fruentimmerfølelser, fruentimre, fruentimret, fruentimrene, Frnentimmer, Frueutimmer, Fruen-Timmer, Frncntimmer, Frnentimmcr, Fruetimmer, Frncntimmcr, Frueutimmcr, Frucutimmer, Fruentimmcr, Frwentimmer, Frucutimmcr, Frucntimmcr, Fruemtimmer, Frmntimmer, Fruertimmer, Frllentimmer, Frumtimmer, Frauentimmer, Fruentimmmer, Fruintimmer, Frucntimmer, Froentimmer, Fruntimmcr, Frneutimmer, Freuentimmer, Fruetttimmer, Fraentimmer, Fruentimmrr, Fruenstimmer, Frnntimmer, Frnmtimmer, Fruelttimmer, beskjørtede, bcskjørtede, bcskjørtcde, bcskjortcde, beskjortcde, bcskjortede, beskjortede, fruentimmernetheder, fruentimmcrncdhcer, frucntimmcrncdhcdcr, mor, moder, moderlig, modre, modrcne, modrc, modcrlig, modcrlighcden, modcrlighed, moderlighed, modcrlighcd, kvindekjon, kvindekjsn, kvindekjM, Kvindekjonnet, Kvindkjøn, Kvindekjsnnet, Kvindekjønnets, Kvindekjen, Kvindekøn, Kvindekjonncts, Kvindckjonnets, Kvindckjsn, Kvindckjsnnet, Kvindekjpnnets, Kuindekjon, Kuindekjonnet, Kuindekjsn, Kvmdekjsn, Kvmdekjøn, Qvindekjøn, Qvindekjønnet, Qvindekjon, Qvindekjsnnet, Qvindekjonnet, Qvindekjøns, Qvindekjsn, Qvindekjønnets, Qvindekjonnets, Qvindekjsnnets, Qvindekjbn, Qvindekjennet, Qvindeskjød, Qvinde-Kjønnet, Qvindekj, QvindekjM, Qvindkjøn, Qvinde-Kjsn, Qvinde-Kjon, Qvindekjonnct, Qvinde-Kjonnet, Qvindekjen, Qvindekjsnnct, Qvindckjsnnet, Qvindckjon, Qvindekjemnet, Qvindckjøns, Qvindekjpnnet, Quindekjønnet, Quindekjøn, Quindekjønnets, Quinde-Kjønnet, Quindekjonnet, Quindekjøns, Quindekj, Quindekjsnnet, Quindkjøn, Quinde-Kjsnnet, Qvmdekjon, Qvmdekjsn, Qvmde-Kion, Qvmdekwn, Qvmde-Kisn, Qvindekiøn, Qvindekion, Qvinde-Kion, Qvindekisn, Qvinde-Kiøn, Qvinde-Kisn, Qvinde-Kwn, Qvindekwn, Qvindekjbn, Qvindekien, Qvinde-kion, Qvinde-Kien, Qvindckisn, Qvindckion, Qvinde-Kjsn, Qvindkjøn, Qvinde-Kjon, Qvindekjen, Qvindekiyn, Huusmoder, husmoderlig, husmoderlige, husmoderlighed, husmoderligheden, Husmor, Husmoder, Husmodcr, Husmodcrcn, Husmoderen, Husmodcren, Husmodcren, Huusmodcr, Huusmodre, Huusmoders, Huusmodcr, Huusmodrene, Huusmodcren, Huusmodercn, Huusmodcrs, Husmodre, Husmodrc, Husmoderhjerne, Husmoderkall, Husmoderem, Husmoderms, Huusmodcrcn, Huusholderffe, Huusholderster, Huusholderste, Husfrue, Huusfrue, Huusfrne, Favoritinde, Husslavinde, Emancipationsistinde, Emancipationistindern, ledsagerinde, ledsagerinder, ledsagerindes, ledsagerinde, ledsagcrinde, Lcdsagerinde, ledsagerinden, ledsagerindc, lcdsagcrinde, ledsagerinders, ledsagerindc, lcdsagcrinde, ledsagerinders, lcdsagerindc, Læserinder, Læserinde, Lceserinde, Lceserinder, Læserinden, Leserinder, Leserinde, Læserinders, Lcrserinde; \n",
    "Myndighed_: myndighed, myndighcd, myndighrd, myndighsd, myndigbed, myndigked, myndigbcd, myndigheb, myndigyed, myndigned, nmyndighed, nmyndighcd, nmyndiges, nmyndige, nmyndigcs, nmyndig, myndig, myndige, umyndig, umyndige, myndiges,  umyndiges, umyndighed, umyndighcd, umyndigis, umyndigcs, umyndiggj, umyndigs, kontraktsfrihed, næringsbevilling, myndighedsbevilling, fullmyndighed, venia, vcnia, sexus, umyndighedsstand, myndighedsudvidelse; \n",
    "Yrkesaktiv_: yrkesaktiv, næringsvirksomhed, nceringsvirksomhed, neringsvirksomhed, huusnæring, husnæring, huusncering, huusnaring, huusncrring, husflidsnæring, huusnering, husnering, husncrring, husncering, handel, handelen, handlende, handclcn, handclens, handclen, handclcr, handcls, varehandel, detaljhandel, modehandel, handcl, handclen, handlcnde, varchandcl, dctaljhandcl, modchandcl, hokerhandel, hokcrhandel, hocerhandcl, husholdning, huusholdning, arbeiderske, arbeidersken, arbeidersker, arbeiderskene, arbeiderste, arbeidersie, arbeidserske, arbeiderskens, telegrafistinde, telegrafistinder, telegrafistinderne, telcgrafistinde, tclcgrafistinde, tclcgrafistindcr, telcgrafistindcrne, lcererinde, lærerinde, lcercrinde, lcercrinder, lcererinderne, lcercrindene, tjenerinne, tjenerinnen, tjenerinde, tjenerinden, tjcnerinde, tjcncrinde, tjcnerinden, tjcncrinden, tjcncrindcn, tjenerinden, tjenerinder, tjenerindes, tjcnerinde, tjencrinde, tjenerindens, tjenerinderne, tjenerindc, tjcnerinder, tjenerinders, tjenesteærinde, tjenerindcs, tjcncrinde, tjcnerindes, tjcncrindc, tjenerindcr, tjenerindernes, tjencrindcr, tjenerinnens, tjenerinnen, tjenerinner, tjenerinnene, tjenerinnenes, huusholderffe, huusholderster, huusholderste, hushjelp, hushjælp, huushielp, huusholderske, huusholdersken, husjomfru, husjomfruen, husjomfrucn, huusjomfru, huusjomfruen,  huusjomfrucn, husjomfruer, husjomfrucr, huusjomfruer,  huusjomfrucr, husbestyrer, husbestyreren, husbestyrere, huusbestyrer, huusbestyreren, huusbestyrere, husbcstyrer, husbcstyreren, husbcstyrere, huusbcstyrer, huusbcstyreren, huusbcstyrere, tjenestepige, tjenestepiger, tjenestepigen, tjænestepige, tjenestpige, tjennestepige, tjenestepigens, tjenestepiges, tjenestepig, tjenstepige, tjenestcpige, tjencstepige, tjænistepige, tjænestpige, tjenestepigc, tjcnestepigen, tjenstpige, tjenestepigs, tjenestepigeu, tjencstcpigc, tjenistepige, tjennestepig, tjenesstepige, tjenestcpigcn, tjencstepigc, tjcncstepigc, tjænestepiger, tjenéstepige, tjencstcpigcr, tjenestepigcs, tjenestepigegj, tjenstepig, tjenrstepiger, tjencste-Pige, tjenestpigen, tjenestpig, tjencstepigcn, tjenestetpige, tjcncstcpigc, tjencstepigens, tjenestcpigcr, tjenistepigen, handlerinde, handlerinden, handlcrinde, handlcrinden, modehandlerinde, modehandlerinden, modehandlerinder, modchandlerinde, modchandlerinden, modchandlerinder, modchandlcrinde, modchandlcrinden, modchandlcrinder, telegrafistinde, telegrafistinder, telegrafistinderne, telcgrafistinde, tclcgrafistinde, tclcgrafistindcr, telcgrafistindcrne, lcererinde, lærerinde, lcercrinde, lcercrinder, lcererinderne, lcercrindene;\n",
    "Sivil status_: gift, ugift, egteskab, ekteskab, egteskabet, egteskabets, egteskabs, egteskapets, egtcskab, egteskah, egteskabct, egtcskabet, egteskap, egteskav, vEgteskab, vgteskab, vGgteskab, vVgteskab, vEgtcskab, vgtcskab, vCgteskab, mgteflabet, wgtestabet, cegtestabelig, egteskabelig, afgteskab, mgtefclle, mgtefelle, Mgtehustru, Mgtehustruen, Mgtehustruens, TGgtehustru, TGgtehustruen, TGgtehustruens, hustru, huustru, hustruer, huustruer, hustruerne, huustrucn, hustrucs, hustruc, wgtchanden, cegtefkabelige, cegteslabelige, LEgtesiabet, Mgtesiab, Mgteskab; \n",
    "Ligestilling_: ligestilling, ligcstilling, emansipasjon, emansipation, emancipation, emancipacion, emancipalion, emancipasjon, emancipaiion, emancivation, emancipationisterne, kvinderfrigøring, kvindcfrigoring, kvindeemancipation, kvinde-Emancipation, kvinde-emancipation, ligeberettigelse, ligeberettigelsen, ligeberettigelsens, ligcberettigelse; \n",
    "Religion_: religion, rcligion, réligion, relligion, regligion, rsligion, religios, religiose, religiositet, religissitet, religiositcit, rcligiositet, rcligissitet, religissitct, religissitcet, kristen, kristcn, kristelig,  kristslig, kristelige, kristeliges, kristclige, kristeligt, kristlige, kristligt, christen, christcn, christelig, christclig, christlig, christelige, christeligt, christclige, christeligen, christclig, christeliges, christeligs, christeligc, christlige, christlig, christcligc, ccristcligt, christeliges, kristendommen, kristendommens, chritstendommen, chrtstendommen, chritstendommens, chrtstendommens, gudsfrygt, gudfrygtig, gudfrygtige, gudfrygtiges, gudfrøgtige, gudfrygtigt, gudfrygtigcs, gudfrygtig, gudfrvgtige, oudfrygtige, oudfrygtig, gudfrygtighed, gudfrygtighcd, gudfrygtighrd, gudfrygtigbed, gudfrygtigbcd, seerske, seersken, seersker, seerste, seerster;\n",
    "\n",
    "#“Kvinden og offentlig hygiene” (Minst 4 av 6);;\n",
    "Kvinde_: kvinne, kvinnen, kvinner, kvinnene, kvinnerne, kvinnes, kvinnens, kvinners, kvinnenes, kvinnernes, kvinde, kvinden, kvinder, kvinderne, kvindens, kvindes, kvindernes, kvinders, kvindelige, kvindelig, kvindeligt, kvindene, kvindeme, kvindenes, kvindemes, kvindc, kvindcr, kvindcn, kvindcns, kvindcs, kvindcrnes, kvindcrnc, kvindcrs, kvindcrncs, kvindclighed, kvindcligheden, kuindc, kuindcr, kuindcn, kuindcs, kuindcrne, kuindcns, kuinde, kuinder, kuinden, kuinderne, kuindens, kuinders, kuindes, kvindelighed, kvindeligt, kvindelighedens, kvindeligheden, kvindeligheds, kvindelighed, kvindclige, kvindelighcd, kvindeligked, kvindeligbed, Kvmde, Kvmder, Kvmderne, Kvmden, Kvmdens, Kvmdes, Kvmdernes, Kvmders, Kvmdelige, Kvmdc, Kvmdcr, Kvmdelig, Kvmds, Kvmder, Kvmdcs, Kvmdei, Kvindfolk, Kvindfolkene, Kvindfolket, Kvindfolks, Kvendfolki, Kvindfolk, Kvindfolt, Kvindfoll, Kvmdfolk, Kvindfolkets, Kviudfolk, Kvindfolke, Kvcndfolk, Kvindfolkcne, Kvindfoltene, Kvindfolkme, Kvendfolt, Kvlndfolk, Kvindfolkenc, Kvindfolki, Kvmdfolkene, Kvindfolkje, Kvindfolkcnc, KvindfolK, Kvendfolkets, Kvmdfolket, Kvindfolkl, Kvindfolkt, stvinder, stvindcr, qvinde, qvinden, qvinder, qvinderne, qvindene, qvindelig, qvindelige, qvindelighed, quinde, quinden, quinder, qvinderne, qvindene, quindelig, quindelighed, qvindcn, quindcn, qvindclig, quindclig, qvindcr, quindcr, qvindcrne, qvindene, quindcrne, quindcne, qvindclighcd, quindclighcd, qvindelighcd, quindelighcd, qvindclighed, quindclighcd, Qvmde, Qvmder, Qvmden, Qvmdens, Qvmderne, Qvmdes, Qvmdfolk, Qvmders, Qvmdc, Qvmdm, Qvmd, Qvmdcr, Qvmdernes, Qvmdfolck, Qvmdis, Qvmds, Qvmdelig, Qvmdekwn, Qvmdcs, Qvmdcn, Qvmdeligt, Qvmdernis, Qvmdcrs, Qvmdt, Dame, Damen, dame, Damen, damc, Damc, damcn, Damcn, damer, Damer, damcr, Damcr, damene, Damene, damcne, Damcne, damcrne, Damcrne, damerne, Damerne, damcrnc, Damcrnc, damcnc, Damcnc, damernc, Damernc, damenc, Damenc, heltinne, heltinnen, heltinner, heltinnene, heltinnens, hcltinnen, heltinde, heltinden, heltinder, heltindene, heltinderne, heltindens, heltindc, tjenerinne, tjenerinnen, tjenerinde, tjenerinden, tjcnerinde, tjcncrinde, tjcnerinden, tjcncrinden, tjcncrindcn, fristerinne, fristerinnen, fristerinnens, fristerinde, fristerinden, fristerindens, fristcrinde, fristcrinden, fristcrindcn, kone, konen, koncn, hustru, huustru, fruentimmer, fruentimmeret, fruentimmere, fruentimmerne, fruentimmernc, fruentimmers, fruentimmerets, fruentimmeraktig, fruentimmeragtig, fruentimmerlig, fruentimmerlige, fruentimmerfølelser, fruentimre, fruentimret, fruentimrene, Frnentimmer, Frueutimmer, Fruen-Timmer, Frncntimmer, Frnentimmcr, Fruetimmer, Frncntimmcr, Frueutimmcr, Frucutimmer, Fruentimmcr, Frwentimmer, Frucutimmcr, Frucntimmcr, Fruemtimmer, Frmntimmer, Fruertimmer, Frllentimmer, Frumtimmer, Frauentimmer, Fruentimmmer, Fruintimmer, Frucntimmer, Froentimmer, Fruntimmcr, Frneutimmer, Freuentimmer, Fruetttimmer, Fraentimmer, Fruentimmrr, Fruenstimmer, Frnntimmer, Frnmtimmer, Fruelttimmer, beskjørtede, bcskjørtede, bcskjørtcde, bcskjortcde, beskjortcde, bcskjortede, beskjortede, fruentimmernetheder, fruentimmcrncdhcer, frucntimmcrncdhcdcr, mor, moder, moderlig, modre, modrcne, modrc, modcrlig, modcrlighcden, modcrlighed, moderlighed, modcrlighcd, telegrafistinde, telegrafistinder, telegrafistinderne, telcgrafistinde, tclcgrafistinde, tclcgrafistindcr, telcgrafistindcrne, lcererinde, lærerinde, lcercrinde, lcercrinder, lcererinderne, lcercrindene, Huusholderske, Huusholdersken, Huusmoder, husmoderlig, husmoderlige, husmoderlighed, husmoderligheden, Husmor, Husmoder, Husmodcr, Husmodcrcn, Husmoderen, Husmodcren, Husmodcren, Huusmodcr, Huusmodre, Huusmoders, Huusmodcr, Huusmodrene, Huusmodcren, Huusmodercn, Huusmodcrs, Husmodre, Husmodrc, Husmoderhjerne, Husmoderkall, Husmoderem, Husmoderms, Huusmodcrcn, Huusholderffe, Huusholderster, Huusholderste, Husfrue, Huusfrue, Huusfrne, Favoritinde, Husslavinde, Emancipationsistinde, Emancipationistindern, ledsagerinde, ledsagerinder, ledsagerindes, ledsagerinde, ledsagcrinde, Lcdsagerinde, ledsagerinden, ledsagerindc, lcdsagcrinde, ledsagerinders, ledsagerindc, lcdsagcrinde, ledsagerinders, lcdsagerindc, Læserinder, Læserinde, Lceserinde, Lceserinder, Læserinden, Leserinder, Leserinde, Læserinders, Lcrserinde; \n",
    "Folkeoplysning_: folkeoplysning, folke-Oplysning, folke-oplysning, folkcoplysning, folke-opplysning, dannelsesanstalt, dannelsesanstalten, dannelsesanstalter, dannelsesanstalterne, dannelsesanstaltene, dannelsesanstalter, dannelsesanstalten, dannelsesanstalters, dannelsesanstalts, dannelsesanstalterne, dannclsesanstalt, dannelsesanstaltcr, dannclscsanstalt, dannclsesanstalter, skole, skolen, skoler, skolerne, skolene, skolc, skolcn, skolcr, skolcrne, skolcne, pigeskole, pigeskolen, pigeskoler, pigeskolerne, pigeskolene, pigeskolc, pigeskolcn, pigeskolcr, pigeskolcrne, pigeskolcne, pigcskole, pigcskolen, pigcskoler, pigcskolerne, pigcskolene, pigcskolc, pigcskolcn, pigcskolcr, pigcskolcrne, pigcskolcne, almueskole, almueskolen, almueskoler, almueskolene, almueflole, almueflolen, almuefloler, almueflolerne, almueflolene, almueskolens, almueskolers, almueskolenes, velgjorenhetsanstalt, velgjorenhetsanstalten, velgjorenhetsanstalter, velgjorenhetsanstaltene, velgjorenhetsanstalterne, Barmjertighedsanstalt, Barmjertighedsanstalten, Barmjertighedsanstalter, Barmjertighedsanstalterne, Barmjertighedsanstaltene, opdragelsesanstalt, opdragelsesanstalten, opdragelsesanstalter, opdragelsesanstalterne, opdragelsesanstaltene, opdragelscsanstalt, opdragelsesanstalters, opdragelsesanstaltens, opdragclsesanstalt, opdragelscsanstalter, opdragclscsanstalt, diakonisseanstalt, diakonisseanstalten, diakonisseanstalter, diakonisseanstalterne, diakonisseanstaltene, diakonisseanstaltens, diakonisse-Anstalten,  diakonisseanstaltcn, pleiestiftelse, pleiestiftelsen, pleiestiftelser, pleiestiftelserne, pleiestiftelsene, pleiestiftelfer, pleiestiftelsens, pleiestiftelses, pleiesiiftelse, pleiestiftelscn, plciestiftelse, pleicstiftelsen, pleicstiftelse, husholdsskole, husholdningsskole, diakon, diakonesse, diakonisse, diakonissen, diakonisser, diakonissene, diakonissehj, diakonisserne, diakonissens, diakonissehus, diakonissenes, guldberg, guldbcrg, jordmoder, jordmodcr, jordmodre, jordmodrc, jordemoder, gjordemoder, gordbemober, jorde-Moder, jordcmoder, jord-Moder, giordemoder, gjordcmodcr, gjordcmoder, gjordemodcr, gjordmoder, giordcmoder, giordemodcr, gjordemodsr, pleierske, pleiersken, pleiersker, pleierskerne, pleierskene, pleierste, pleiersten, bornefodsel, bonrefodscl, fattigvesenet, fattigvæsenet, fattigvceneset, fattigvcesenets, Fattigvcrsenet, Fattigvæsnet, Fattigvasenet, Fattigvcesnet, Fattigvoesenet, Fattigvesnet, fattigvcrsenct, fattigvcesenct, fattigvcrscnet, fattigvaesenet, fattigvascnet, fattigvæsent, fattigvcrsnet, fattigvcescnet, fattigvcrscnct, fattigvasenct, fattigvccsenet, fattigvcestnet, fattigvasnet, fattigvæscnet, kommunerhjem; \n",
    "Sundhed_: sundhed, sundhcd, Sundhrd, Sundhsd, sundhedsreglcr, sundhedsreglcr, sundhcdsregler, renlighed, recnlighed, reenlighcd, rcenlighed, rccnlighed, rcenlighcd, rccnlighcd, renlighcd, recnlighcd, rcnlighed, reenlighrd, renligket, renligbet, rcnlighed, renligheb, rénlighed, renlig, renligt, reenlig, reenligt, reenlige, avhold, afhold, nfhold, edruelighed, edruelighcd, edruclighed, edrueligheden, edruelighedens, cedruelighed, cedrueligheden, cedrulighedens, wdruelighed, wdrueligheden, wdruelighedens, wdruelighcd, wdruclighed, sed, sced, scedcr, saeder, sccderne, sæd, sæder, scrder, seeder, sædelig, sædelige, sædeligt, sædlige, sædelighed, sædeligheden, sedelig, sedelige, sedelighet, scedelighed, sædelighedens, sedelighed, scrdelighed, sædeligheds, sedeligheten, sedeligheden, sadelighed, scedeligheden, sædeligheds, sædelighed, sedelighedens, scedeligheds, soedelighed, sædeligheten, sedelighets, sædelighet, scrdeligheden, scedelighcds, scedcligheds, scedcligheden;\n",
    "Befolkningsprosesser_: befolkning, bcfolkning, befolkning, bbefolkningen, befolkningsproblemer, befolkningsproblemet, befolkningsproblemer, befolkningsproblem, befolkningsproblemene, barnedødelighed, barnedodelighed, barncdodelighed, prostitusjon, letsindighed, letsindighcd, lctsindighed, lettsindighed, lctsindighcd, lttsindighed, lætsindighed, lrtsindighed, lstsindighed, lcetsindighed, lcrtsindighed, letsindighrd, letsindighéd, lttsindighcd, letsindigheden, lctsindigheden, letsindighcden, lctsindighcden, letsindighedcn, letsindigbeden, letsindigbed, letsindigked, drukkenskab, druckenskab, drnkkenskab, drukkcnskab, drukenskab, drakkenskab, drutkenskab, druktenskab, druklenskab, drnkkcnskab, drikkenskab, drokkenskab, druKKensKab, drukkénskab, drulkenskab, drykkenskab, drikfeldighed, drikfældighed, drikfeldighed, drikfældigbed, drikfceldighed, uægte, uegte, ucegte, ucrgte, uccgte, ucgte, uctgte, ucegfe, ucrgfe, ucegtefodte, ucgtede, ucegtebe, ucegtedes, ucegtefsdte, ucegtede, ucegtet, ucegtes, ucegtefsdte, uccgte, uægtefødte, uægtefødt, uægtef, uægteskabelig, uægtebarn, uægtefodte, uægtefødtc, uægteßarn, uægtefobt, uægte-fødte, uægteføbt, uægteste, uægteføbte, uægtefødde, uegtefødte, uegtefødt, uegtefodte, uegtebarn, uegtefsdte; \n",
    "Legeme_:  legeme, legemet, legemes, legemlig, lægeme, lcgemet, lcgcmc, lcgcm, lcgems, lcgemes, légeme, lcgeme, legcme, legéme, lcgcme, kvindelegeme, legcmes, lcgcmet, krop, kropp, kvindekrop, følelse, følelser, følelsen, fslelse, folelse, folelser, folclse, fslclse, emosjon, emosjoner, emosjoncr, emosioner, emosion, drift, drifter, driften, driftcn, sexualitet, sexualitdt, sølibat, solibat, kjøn, kjon, kjsn, kjm, kjM, kvindekjon, kvindekjsn, kvindekjM, Kvindekjonnet, Kvindkjøn, Kvindekjsnnet, Kvindekjønnets, Kvindekjen, Kvindekøn, Kvindekjonncts, Kvindckjonnets, Kvindckjsn, Kvindckjsnnet, Kvindekjpnnets, Kuindekjon, Kuindekjonnet, Kuindekjsn, Kvmdekjsn, Kvmdekjøn, Qvindekjøn, Qvindekjønnet, Qvindekjon, Qvindekjsnnet, Qvindekjonnet, Qvindekjøns, Qvindekjsn, Qvindekjønnets, Qvindekjonnets, Qvindekjsnnets, Qvindekjbn, Qvindekjennet, Qvindeskjød, Qvinde-Kjønnet, Qvindekj, QvindekjM, Qvindkjøn, Qvinde-Kjsn, Qvinde-Kjon, Qvindekjonnct, Qvinde-Kjonnet, Qvindekjen, Qvindekjsnnct, Qvindckjsnnet, Qvindckjon, Qvindekjemnet, Qvindckjøns, Qvindekjpnnet, Quindekjønnet, Quindekjøn, Quindekjønnets, Quinde-Kjønnet, Quindekjonnet, Quindekjøns, Quindekj, Quindekjsnnet, Quindkjøn, Quinde-Kjsnnet, Qvmdekjon, Qvmdekjsn, Qvmde-Kion, Qvmdekwn, Qvmde-Kisn, Qvindekiøn, Qvindekion, Qvinde-Kion, Qvindekisn, Qvinde-Kiøn, Qvinde-Kisn, Qvinde-Kwn, Qvindekwn, Qvindekjbn, Qvindekien, Qvinde-kion, Qvinde-Kien, Qvindckisn, Qvindckion, Qvinde-Kjsn, Qvindkjøn, Qvinde-Kjon, Qvindekjen, Qvindekiyn; \n",
    "Religion_: religion, rcligion, réligion, relligion, regligion, rsligion, religios, religiose, religiositet, religissitet, religiositcit, rcligiositet, rcligissitet, religissitct, religissitcet, kristen, kristcn, kristelig,  kristslig, kristelige, kristeliges, kristclige, kristeligt, kristlige, kristligt, christen, christcn, christelig, christclig, christlig, christelige, christeligt, christclige, christeligen, christclig, christeliges, christeligs, christeligc, christlige, christlig, christcligc, ccristcligt, christeliges, kristendommen, kristendommens, chritstendommen, chrtstendommen, chritstendommens, chrtstendommens, gudsfrygt, gudfrygtig, gudfrygtige, gudfrygtiges, gudfrøgtige, gudfrygtigt, gudfrygtigcs, gudfrygtig, gudfrvgtige, oudfrygtige, oudfrygtig, gudfrygtighed, gudfrygtighcd, gudfrygtighrd, gudfrygtigbed, gudfrygtigbcd, seerske, seersken, seersker, seerste, seerster;\n",
    " \"\"\""
   ]
  },
  {
   "cell_type": "code",
   "execution_count": 2,
   "metadata": {},
   "outputs": [],
   "source": [
    "import dhlab.nbtext as nb"
   ]
  },
  {
   "cell_type": "code",
   "execution_count": 3,
   "metadata": {},
   "outputs": [],
   "source": [
    "def def2dict(ddef):\n",
    "    \"\"\"A theme is a set of words, a word is a set of possible occurences\"\"\"\n",
    "    theme_sets = dict()\n",
    "    #make a list of themes\n",
    "    defs = ddef.split('#')\n",
    "    #print(defs[:2])\n",
    "    for d in defs:\n",
    "        #theme title in front of double ;;\n",
    "        theme = d.split(';;')\n",
    "        if len(theme) == 2:\n",
    "            theme_name = theme[0].strip()\n",
    "            theme_defs = theme[1].split(';')\n",
    "            theme_sets[theme_name] = dict()\n",
    "            for hyper_lexeme in theme_defs:\n",
    "                hyper_struct = hyper_lexeme.split(':')\n",
    "                if len(hyper_struct) == 2:\n",
    "                    #print('#'.join(lex))\n",
    "                    hyper_name = hyper_struct[0].strip()\n",
    "                    hyper_words = [x.strip() for x in hyper_struct[1].split(',')]\n",
    "                    theme_sets[theme_name][hyper_name] = hyper_words\n",
    "                    for w in theme_sets[theme_name][hyper_name]:\n",
    "                        if w.capitalize() not in theme_sets[theme_name][hyper_name]:\n",
    "                            theme_sets[theme_name][hyper_name].append(w.capitalize())\n",
    "    return theme_sets"
   ]
  },
  {
   "cell_type": "code",
   "execution_count": 4,
   "metadata": {},
   "outputs": [],
   "source": [
    "first = def2dict(themes)"
   ]
  },
  {
   "cell_type": "code",
   "execution_count": 13,
   "metadata": {},
   "outputs": [],
   "source": [
    "import json"
   ]
  },
  {
   "cell_type": "code",
   "execution_count": 14,
   "metadata": {},
   "outputs": [],
   "source": [
    "json.dump(first, open('heidis_temadefinisjoner_november.json', 'w', encoding='utf-8'))"
   ]
  },
  {
   "cell_type": "code",
   "execution_count": 5,
   "metadata": {},
   "outputs": [
    {
     "data": {
      "text/plain": [
       "['“Kvindens Sandhed” (Minst 3 av 4).',\n",
       " '“Kvinde, lesning og religion” (Minst 4 av 5)',\n",
       " '“Forfatterinder og religion”  (Minst 3 av 4)',\n",
       " '“Kvindens posisjon” (Minst 4 av 6)',\n",
       " '“Kvinden og offentlig hygiene” (Minst 4 av 6)']"
      ]
     },
     "execution_count": 5,
     "metadata": {},
     "output_type": "execute_result"
    }
   ],
   "source": [
    "list_of_themes = list(first.keys())\n",
    "list_of_themes"
   ]
  },
  {
   "cell_type": "code",
   "execution_count": 6,
   "metadata": {},
   "outputs": [],
   "source": [
    "urns = nb.book_urn(period=(1830, 1880), limit=12000)"
   ]
  },
  {
   "cell_type": "code",
   "execution_count": 7,
   "metadata": {},
   "outputs": [
    {
     "data": {
      "text/plain": [
       "6803"
      ]
     },
     "execution_count": 7,
     "metadata": {},
     "output_type": "execute_result"
    }
   ],
   "source": [
    "len(urns)"
   ]
  },
  {
   "cell_type": "code",
   "execution_count": 8,
   "metadata": {},
   "outputs": [],
   "source": [
    "theme_eval = nb.wordbag_eval(first[list_of_themes[0]], urns)"
   ]
  },
  {
   "cell_type": "code",
   "execution_count": 9,
   "metadata": {},
   "outputs": [
    {
     "data": {
      "text/html": [
       "<div>\n",
       "<style scoped>\n",
       "    .dataframe tbody tr th:only-of-type {\n",
       "        vertical-align: middle;\n",
       "    }\n",
       "\n",
       "    .dataframe tbody tr th {\n",
       "        vertical-align: top;\n",
       "    }\n",
       "\n",
       "    .dataframe thead th {\n",
       "        text-align: right;\n",
       "    }\n",
       "</style>\n",
       "<table border=\"1\" class=\"dataframe\">\n",
       "  <thead>\n",
       "    <tr style=\"text-align: right;\">\n",
       "      <th></th>\n",
       "      <th>Frihed_</th>\n",
       "      <th>Kvinde_</th>\n",
       "      <th>Legeme_</th>\n",
       "      <th>Sandhed_</th>\n",
       "      <th>snitt</th>\n",
       "    </tr>\n",
       "  </thead>\n",
       "  <tbody>\n",
       "    <tr>\n",
       "      <th>0</th>\n",
       "      <td>23.937969</td>\n",
       "      <td>45.470735</td>\n",
       "      <td>22.421878</td>\n",
       "      <td>25.786893</td>\n",
       "      <td>29.404369</td>\n",
       "    </tr>\n",
       "  </tbody>\n",
       "</table>\n",
       "</div>"
      ],
      "text/plain": [
       "     Frihed_    Kvinde_    Legeme_   Sandhed_      snitt\n",
       "0  23.937969  45.470735  22.421878  25.786893  29.404369"
      ]
     },
     "execution_count": 9,
     "metadata": {},
     "output_type": "execute_result"
    }
   ],
   "source": [
    "nb.frame(theme_eval.sum()/len(theme_eval)).transpose()"
   ]
  },
  {
   "cell_type": "code",
   "execution_count": 10,
   "metadata": {},
   "outputs": [
    {
     "data": {
      "text/plain": [
       "Index(['2014062048059', '2009091403021', '2008082512001', '2008100603020',\n",
       "       '2008111303008', '2013042608062', '2016102148034', '2015010648113',\n",
       "       '2016101129001', '2016051048081', '2015090808025', '2016051048069',\n",
       "       '2009082403002', '2016022548049', '2010061503024', '2009092303053',\n",
       "       '2016100729002', '2014062048060', '2014062048065', '2016050948038'],\n",
       "      dtype='object')"
      ]
     },
     "execution_count": 10,
     "metadata": {},
     "output_type": "execute_result"
    }
   ],
   "source": [
    "theme_eval.head(20).index"
   ]
  },
  {
   "cell_type": "code",
   "execution_count": 11,
   "metadata": {},
   "outputs": [
    {
     "data": {
      "text/plain": [
       "[[2014062048059,\n",
       "  'Scriver, Christian',\n",
       "  1861,\n",
       "  'Magister Christian Scrivers opbyggelige og trøstefulde Sjele-Skat',\n",
       "  'hvori handles om den menneskelige Sjels høie Værdighed',\n",
       "  'Gram;Christiania : Gram, 1858-1861',\n",
       "  'unknown',\n",
       "  'e79f62f52e60fe40fe400bc5d956ce7e',\n",
       "  'nob',\n",
       "  ''],\n",
       " [2009091403021,\n",
       "  'Luther, Martin',\n",
       "  1864,\n",
       "  'Dr. Martin Luthers Udførlige Udlæggelse af første Mosebog',\n",
       "  '',\n",
       "  'Gram;Christiania : Gram, 1863-64',\n",
       "  'unknown',\n",
       "  '2aa904d1a1895315c9d98867e83a0b05',\n",
       "  'nob',\n",
       "  ''],\n",
       " [2008082512001,\n",
       "  'Luther, Martin',\n",
       "  1863,\n",
       "  'Dr. Martin Luthers Udførlige Udlæggelse af første Mosebog',\n",
       "  '',\n",
       "  'Gram;Christiania : Gram, 1863-64',\n",
       "  'unknown',\n",
       "  '915eb12e1c4bdffb7137b79b186d89a2',\n",
       "  'nob',\n",
       "  ''],\n",
       " [2008100603020,\n",
       "  '',\n",
       "  1850,\n",
       "  'Det Nye Testament med Forklaringer, Indledninger, en Harmoni for de fire Evangelier, en Tidstavle for Apostelhistorien og et Sag-Register',\n",
       "  'udarbeidet til Brug for enhver som har det guddommelige Ord kjært, i Særdeleshed for Lærere i Kirken og Skolen',\n",
       "  'Trykt i Carl C. Werner og Comp.s Bogtrykkeri',\n",
       "  'notfiction',\n",
       "  '6d589687db5a7b5d959ad467154fb013',\n",
       "  'nob',\n",
       "  'ger'],\n",
       " [2008111303008,\n",
       "  'Nohrborg, Anders',\n",
       "  1859,\n",
       "  'Det faldne Menneskes Saliggjørelses-Orden',\n",
       "  'fremstillet i Betragtninger over de aarlige Søn- og Helligdages Evangelier',\n",
       "  'O. Blix',\n",
       "  'unknown',\n",
       "  '36cf7c90cfd7b85958afaac0434433b0',\n",
       "  'nob',\n",
       "  ''],\n",
       " [2013042608062,\n",
       "  'Luther, Martin',\n",
       "  1858,\n",
       "  'Kraft- og saftfulde Kjerne af de evangeliske Sandheder, udtagen af Dr. Martin Luthers Kirke- og Huus-Postiller',\n",
       "  '',\n",
       "  'Steen',\n",
       "  'unknown',\n",
       "  '292a2c72c0b9d2c80563651073850276',\n",
       "  'nob',\n",
       "  ''],\n",
       " [2016102148034,\n",
       "  'Luther, Martin',\n",
       "  1858,\n",
       "  'Dr. Martin Luthers Prædikener over alle Søn- og Fest-Dages Evangelier og Epistler samt Lidelses-Historien',\n",
       "  '',\n",
       "  'Ed.B. Giertsens og Johan N. Nielsens Forlag',\n",
       "  'unknown',\n",
       "  '2ef88f973ea4f2998038be780a622012',\n",
       "  'nob',\n",
       "  ''],\n",
       " [2015010648113,\n",
       "  'Luther, Martin',\n",
       "  1847,\n",
       "  'Kraft- og saftfulde Kjerne af de Evangeliske Sandheder, udtagen af Dr. Martin Luthers Kirke- og Huus-postiller, indeholdende en fuldkommen Forklaring over alle Søn- og Fest-Dages Evangelier',\n",
       "  '',\n",
       "  'S.A. Steen',\n",
       "  'unknown',\n",
       "  'e283879feb4aa0a405cbf5436479d43c',\n",
       "  'nob',\n",
       "  ''],\n",
       " [2016101129001,\n",
       "  'Arndt, Johann',\n",
       "  1838,\n",
       "  'Sex Bøger om den sande Christendom',\n",
       "  'handlende om sande Christnes salige Omvendelse, hjertelige Anger og Ruelse over Synden, sande Troe og hellige Levnet og Omgængelse',\n",
       "  'Trykt hos O.P. Moe, af S.A. Steen',\n",
       "  '',\n",
       "  '80afa519357af0f320271de6d06a39bd',\n",
       "  'dan',\n",
       "  'ger'],\n",
       " [2016051048081,\n",
       "  'Arndt, Johann',\n",
       "  1855,\n",
       "  'Sex Bøger om den sande Christendom',\n",
       "  'handlende om sande Christnes salige Omvendelse, hjertelige Anger og Ruelse over Synden, sande Troe og hellige Levnet og Omgjængelse',\n",
       "  'Paa S.A. Steens Forlag',\n",
       "  'unknown',\n",
       "  '7142e67dec9f5b77ae040c74ecc496fe',\n",
       "  'nob',\n",
       "  'ger'],\n",
       " [2015090808025,\n",
       "  '',\n",
       "  1876,\n",
       "  'Sandheden i Kristus',\n",
       "  'fremstillet i Prædikener over Kirkeaarets Høimessetexter af Lutherske Lærere fra forskjellige Tider samt Passionsprædikener',\n",
       "  'Kielland',\n",
       "  'unknown',\n",
       "  'ea48923ea22ec2956900813364eb1d6e',\n",
       "  'nob',\n",
       "  ''],\n",
       " [2016051048069,\n",
       "  '',\n",
       "  1861,\n",
       "  'Bibelen eller den hellige Skrift, indeholdende det Gamle og Nye Testamentes canoniske Bøger',\n",
       "  '',\n",
       "  'Det Brittiske og Udenlandske Bibelselskab',\n",
       "  'unknown',\n",
       "  '9956865988367a149b03f30759a832bb',\n",
       "  'nob',\n",
       "  ''],\n",
       " [2009082403002,\n",
       "  'Arndt, Johann',\n",
       "  1844,\n",
       "  'Sex Bøger om den sande Christendom',\n",
       "  'handlende om sande Christnes salige Omvendelse, hjertelige Anger og Ruelse over Synden, sande Troe og hellige Levnet og Omgængelse : hvortil er føiet syv af den salig Mands Sendebreve, og hans Betænkning over den saakaldte tydske Theologie, hans Levnetsløp og tvende Testamenter, tilligemed hans Paradiis-Urtegaard',\n",
       "  'S.A. Steen',\n",
       "  'unknown',\n",
       "  'abf8cfc94140f83193bfcd00f335a506',\n",
       "  'nob',\n",
       "  ''],\n",
       " [2016022548049,\n",
       "  '',\n",
       "  1861,\n",
       "  'Bibelen eller den hellige Skrift, indeholdende det Gamle og Nye Testamentes canoniske Bøger',\n",
       "  '',\n",
       "  'Grøndahl',\n",
       "  'unknown',\n",
       "  'f20746d3a8f58949c0df9aff6e6aed84',\n",
       "  'und',\n",
       "  ''],\n",
       " [2010061503024,\n",
       "  'Scriver, Christian',\n",
       "  1858,\n",
       "  'ster Christian Scrivers opbyggelige og trøstefulde Sjele-Skat',\n",
       "  'hvori handles om den menneskelige Sjels høie Værdighed',\n",
       "  'Gram;Christiania : Gram, 1858-1861',\n",
       "  'unknown',\n",
       "  'fda344053e44a078bfe6c54851445ce0',\n",
       "  'nob',\n",
       "  ''],\n",
       " [2009092303053,\n",
       "  'Arndt, Johann',\n",
       "  1867,\n",
       "  \"Johann Arnd's Sande Christendom\",\n",
       "  'i tro Oversættelse efter Udgave fra Aaret 1736',\n",
       "  'Blix',\n",
       "  'unknown',\n",
       "  'fe0cee03580dbcb7b91c80b0eb928e77',\n",
       "  'nob',\n",
       "  ''],\n",
       " [2016100729002,\n",
       "  'Arndt, Johann',\n",
       "  1844,\n",
       "  'Sex Bøger om den sande Christendom',\n",
       "  'handlende om sande Christnes salige Omvendelse, hjertelige Anger og Ruelse over Synden, sande Tro og hellige Levnet og Omgjængelse',\n",
       "  'Til Trykken befordret af nogle christeligsindede Venner;Trykt og tilkjøbs hos Ludvig Risum',\n",
       "  'notfiction',\n",
       "  'babaae69c51ff47adf9bd3fad0a06133',\n",
       "  'dan',\n",
       "  'ger'],\n",
       " [2014062048060,\n",
       "  '',\n",
       "  1858,\n",
       "  'Bibelen eller Den Hellige Skrift',\n",
       "  'indeholdende det Gamle og Nye Testamentes canoniske Bøger',\n",
       "  'Grøndal',\n",
       "  'unknown',\n",
       "  'e227bf4b94da62b64b4f59f35c21d218',\n",
       "  'und',\n",
       "  ''],\n",
       " [2014062048065,\n",
       "  '',\n",
       "  1876,\n",
       "  'Bibelen eller Den Hellige Skrift',\n",
       "  'indeholdende det Gamle og Nye Testamentes canoniske Bøger',\n",
       "  'Det Brittiske og Udenlandske Bibelselskab;Grøndahl',\n",
       "  'unknown',\n",
       "  'b266206aead7cf7957df015f99f18435',\n",
       "  'nob',\n",
       "  ''],\n",
       " [2016050948038,\n",
       "  '',\n",
       "  1872,\n",
       "  'De fem Mose Bøger',\n",
       "  '',\n",
       "  'Det norske Bibelselskab;Christiania : Det norske Bibelselskab, 1872-1873',\n",
       "  'unknown',\n",
       "  'bd61a54ca34da83d32d1cb3af138ad7a',\n",
       "  'nob',\n",
       "  '']]"
      ]
     },
     "execution_count": 11,
     "metadata": {},
     "output_type": "execute_result"
    }
   ],
   "source": [
    "nb.metadata(list(theme_eval.head(20).index))"
   ]
  },
  {
   "cell_type": "code",
   "execution_count": 16,
   "metadata": {},
   "outputs": [
    {
     "ename": "JSONDecodeError",
     "evalue": "Expecting value: line 1 column 1 (char 0)",
     "output_type": "error",
     "traceback": [
      "\u001b[1;31m---------------------------------------------------------------------------\u001b[0m",
      "\u001b[1;31mJSONDecodeError\u001b[0m                           Traceback (most recent call last)",
      "\u001b[1;32m<ipython-input-16-d51039211601>\u001b[0m in \u001b[0;36m<module>\u001b[1;34m\u001b[0m\n\u001b[1;32m----> 1\u001b[1;33m \u001b[0mnb\u001b[0m\u001b[1;33m.\u001b[0m\u001b[0mwordbag_eval_para\u001b[0m\u001b[1;33m(\u001b[0m\u001b[0mfirst\u001b[0m\u001b[1;33m[\u001b[0m\u001b[0mlist_of_themes\u001b[0m\u001b[1;33m[\u001b[0m\u001b[1;36m0\u001b[0m\u001b[1;33m]\u001b[0m\u001b[1;33m]\u001b[0m\u001b[1;33m,\u001b[0m \u001b[0mnb\u001b[0m\u001b[1;33m.\u001b[0m\u001b[0mpure_urn\u001b[0m\u001b[1;33m(\u001b[0m\u001b[0mlist\u001b[0m\u001b[1;33m(\u001b[0m\u001b[0mtheme_eval\u001b[0m\u001b[1;33m.\u001b[0m\u001b[0mhead\u001b[0m\u001b[1;33m(\u001b[0m\u001b[1;36m1\u001b[0m\u001b[1;33m)\u001b[0m\u001b[1;33m.\u001b[0m\u001b[0mindex\u001b[0m\u001b[1;33m)\u001b[0m\u001b[1;33m)\u001b[0m\u001b[1;33m)\u001b[0m\u001b[1;33m\u001b[0m\u001b[1;33m\u001b[0m\u001b[0m\n\u001b[0m",
      "\u001b[1;32mD:\\Anaconda3\\lib\\site-packages\\dhlab\\nbtext.py\u001b[0m in \u001b[0;36mwordbag_eval_para\u001b[1;34m(wordbag, urns)\u001b[0m\n\u001b[0;32m     73\u001b[0m     \u001b[0mparam\u001b[0m\u001b[1;33m[\u001b[0m\u001b[1;34m'urns'\u001b[0m\u001b[1;33m]\u001b[0m \u001b[1;33m=\u001b[0m \u001b[0murns\u001b[0m\u001b[1;33m\u001b[0m\u001b[1;33m\u001b[0m\u001b[0m\n\u001b[0;32m     74\u001b[0m     \u001b[0mr\u001b[0m \u001b[1;33m=\u001b[0m \u001b[0mrequests\u001b[0m\u001b[1;33m.\u001b[0m\u001b[0mpost\u001b[0m\u001b[1;33m(\u001b[0m\u001b[1;34m\"https://api.nb.no/ngram/wordbags_para\"\u001b[0m\u001b[1;33m,\u001b[0m \u001b[0mjson\u001b[0m \u001b[1;33m=\u001b[0m \u001b[0mparam\u001b[0m\u001b[1;33m)\u001b[0m\u001b[1;33m\u001b[0m\u001b[1;33m\u001b[0m\u001b[0m\n\u001b[1;32m---> 75\u001b[1;33m     \u001b[1;32mreturn\u001b[0m \u001b[0mr\u001b[0m\u001b[1;33m.\u001b[0m\u001b[0mjson\u001b[0m\u001b[1;33m(\u001b[0m\u001b[1;33m)\u001b[0m\u001b[1;33m\u001b[0m\u001b[1;33m\u001b[0m\u001b[0m\n\u001b[0m\u001b[0;32m     76\u001b[0m \u001b[1;33m\u001b[0m\u001b[0m\n\u001b[0;32m     77\u001b[0m \u001b[1;32mdef\u001b[0m \u001b[0mget_paragraphs\u001b[0m\u001b[1;33m(\u001b[0m\u001b[0murn\u001b[0m\u001b[1;33m,\u001b[0m \u001b[0mparas\u001b[0m\u001b[1;33m)\u001b[0m\u001b[1;33m:\u001b[0m\u001b[1;33m\u001b[0m\u001b[1;33m\u001b[0m\u001b[0m\n",
      "\u001b[1;32mD:\\Anaconda3\\lib\\site-packages\\requests\\models.py\u001b[0m in \u001b[0;36mjson\u001b[1;34m(self, **kwargs)\u001b[0m\n\u001b[0;32m    895\u001b[0m                     \u001b[1;31m# used.\u001b[0m\u001b[1;33m\u001b[0m\u001b[1;33m\u001b[0m\u001b[1;33m\u001b[0m\u001b[0m\n\u001b[0;32m    896\u001b[0m                     \u001b[1;32mpass\u001b[0m\u001b[1;33m\u001b[0m\u001b[1;33m\u001b[0m\u001b[0m\n\u001b[1;32m--> 897\u001b[1;33m         \u001b[1;32mreturn\u001b[0m \u001b[0mcomplexjson\u001b[0m\u001b[1;33m.\u001b[0m\u001b[0mloads\u001b[0m\u001b[1;33m(\u001b[0m\u001b[0mself\u001b[0m\u001b[1;33m.\u001b[0m\u001b[0mtext\u001b[0m\u001b[1;33m,\u001b[0m \u001b[1;33m**\u001b[0m\u001b[0mkwargs\u001b[0m\u001b[1;33m)\u001b[0m\u001b[1;33m\u001b[0m\u001b[1;33m\u001b[0m\u001b[0m\n\u001b[0m\u001b[0;32m    898\u001b[0m \u001b[1;33m\u001b[0m\u001b[0m\n\u001b[0;32m    899\u001b[0m     \u001b[1;33m@\u001b[0m\u001b[0mproperty\u001b[0m\u001b[1;33m\u001b[0m\u001b[1;33m\u001b[0m\u001b[0m\n",
      "\u001b[1;32mD:\\Anaconda3\\lib\\json\\__init__.py\u001b[0m in \u001b[0;36mloads\u001b[1;34m(s, encoding, cls, object_hook, parse_float, parse_int, parse_constant, object_pairs_hook, **kw)\u001b[0m\n\u001b[0;32m    346\u001b[0m             \u001b[0mparse_int\u001b[0m \u001b[1;32mis\u001b[0m \u001b[1;32mNone\u001b[0m \u001b[1;32mand\u001b[0m \u001b[0mparse_float\u001b[0m \u001b[1;32mis\u001b[0m \u001b[1;32mNone\u001b[0m \u001b[1;32mand\u001b[0m\u001b[1;33m\u001b[0m\u001b[1;33m\u001b[0m\u001b[0m\n\u001b[0;32m    347\u001b[0m             parse_constant is None and object_pairs_hook is None and not kw):\n\u001b[1;32m--> 348\u001b[1;33m         \u001b[1;32mreturn\u001b[0m \u001b[0m_default_decoder\u001b[0m\u001b[1;33m.\u001b[0m\u001b[0mdecode\u001b[0m\u001b[1;33m(\u001b[0m\u001b[0ms\u001b[0m\u001b[1;33m)\u001b[0m\u001b[1;33m\u001b[0m\u001b[1;33m\u001b[0m\u001b[0m\n\u001b[0m\u001b[0;32m    349\u001b[0m     \u001b[1;32mif\u001b[0m \u001b[0mcls\u001b[0m \u001b[1;32mis\u001b[0m \u001b[1;32mNone\u001b[0m\u001b[1;33m:\u001b[0m\u001b[1;33m\u001b[0m\u001b[1;33m\u001b[0m\u001b[0m\n\u001b[0;32m    350\u001b[0m         \u001b[0mcls\u001b[0m \u001b[1;33m=\u001b[0m \u001b[0mJSONDecoder\u001b[0m\u001b[1;33m\u001b[0m\u001b[1;33m\u001b[0m\u001b[0m\n",
      "\u001b[1;32mD:\\Anaconda3\\lib\\json\\decoder.py\u001b[0m in \u001b[0;36mdecode\u001b[1;34m(self, s, _w)\u001b[0m\n\u001b[0;32m    335\u001b[0m \u001b[1;33m\u001b[0m\u001b[0m\n\u001b[0;32m    336\u001b[0m         \"\"\"\n\u001b[1;32m--> 337\u001b[1;33m         \u001b[0mobj\u001b[0m\u001b[1;33m,\u001b[0m \u001b[0mend\u001b[0m \u001b[1;33m=\u001b[0m \u001b[0mself\u001b[0m\u001b[1;33m.\u001b[0m\u001b[0mraw_decode\u001b[0m\u001b[1;33m(\u001b[0m\u001b[0ms\u001b[0m\u001b[1;33m,\u001b[0m \u001b[0midx\u001b[0m\u001b[1;33m=\u001b[0m\u001b[0m_w\u001b[0m\u001b[1;33m(\u001b[0m\u001b[0ms\u001b[0m\u001b[1;33m,\u001b[0m \u001b[1;36m0\u001b[0m\u001b[1;33m)\u001b[0m\u001b[1;33m.\u001b[0m\u001b[0mend\u001b[0m\u001b[1;33m(\u001b[0m\u001b[1;33m)\u001b[0m\u001b[1;33m)\u001b[0m\u001b[1;33m\u001b[0m\u001b[1;33m\u001b[0m\u001b[0m\n\u001b[0m\u001b[0;32m    338\u001b[0m         \u001b[0mend\u001b[0m \u001b[1;33m=\u001b[0m \u001b[0m_w\u001b[0m\u001b[1;33m(\u001b[0m\u001b[0ms\u001b[0m\u001b[1;33m,\u001b[0m \u001b[0mend\u001b[0m\u001b[1;33m)\u001b[0m\u001b[1;33m.\u001b[0m\u001b[0mend\u001b[0m\u001b[1;33m(\u001b[0m\u001b[1;33m)\u001b[0m\u001b[1;33m\u001b[0m\u001b[1;33m\u001b[0m\u001b[0m\n\u001b[0;32m    339\u001b[0m         \u001b[1;32mif\u001b[0m \u001b[0mend\u001b[0m \u001b[1;33m!=\u001b[0m \u001b[0mlen\u001b[0m\u001b[1;33m(\u001b[0m\u001b[0ms\u001b[0m\u001b[1;33m)\u001b[0m\u001b[1;33m:\u001b[0m\u001b[1;33m\u001b[0m\u001b[1;33m\u001b[0m\u001b[0m\n",
      "\u001b[1;32mD:\\Anaconda3\\lib\\json\\decoder.py\u001b[0m in \u001b[0;36mraw_decode\u001b[1;34m(self, s, idx)\u001b[0m\n\u001b[0;32m    353\u001b[0m             \u001b[0mobj\u001b[0m\u001b[1;33m,\u001b[0m \u001b[0mend\u001b[0m \u001b[1;33m=\u001b[0m \u001b[0mself\u001b[0m\u001b[1;33m.\u001b[0m\u001b[0mscan_once\u001b[0m\u001b[1;33m(\u001b[0m\u001b[0ms\u001b[0m\u001b[1;33m,\u001b[0m \u001b[0midx\u001b[0m\u001b[1;33m)\u001b[0m\u001b[1;33m\u001b[0m\u001b[1;33m\u001b[0m\u001b[0m\n\u001b[0;32m    354\u001b[0m         \u001b[1;32mexcept\u001b[0m \u001b[0mStopIteration\u001b[0m \u001b[1;32mas\u001b[0m \u001b[0merr\u001b[0m\u001b[1;33m:\u001b[0m\u001b[1;33m\u001b[0m\u001b[1;33m\u001b[0m\u001b[0m\n\u001b[1;32m--> 355\u001b[1;33m             \u001b[1;32mraise\u001b[0m \u001b[0mJSONDecodeError\u001b[0m\u001b[1;33m(\u001b[0m\u001b[1;34m\"Expecting value\"\u001b[0m\u001b[1;33m,\u001b[0m \u001b[0ms\u001b[0m\u001b[1;33m,\u001b[0m \u001b[0merr\u001b[0m\u001b[1;33m.\u001b[0m\u001b[0mvalue\u001b[0m\u001b[1;33m)\u001b[0m \u001b[1;32mfrom\u001b[0m \u001b[1;32mNone\u001b[0m\u001b[1;33m\u001b[0m\u001b[1;33m\u001b[0m\u001b[0m\n\u001b[0m\u001b[0;32m    356\u001b[0m         \u001b[1;32mreturn\u001b[0m \u001b[0mobj\u001b[0m\u001b[1;33m,\u001b[0m \u001b[0mend\u001b[0m\u001b[1;33m\u001b[0m\u001b[1;33m\u001b[0m\u001b[0m\n",
      "\u001b[1;31mJSONDecodeError\u001b[0m: Expecting value: line 1 column 1 (char 0)"
     ]
    }
   ],
   "source": [
    "nb.wordbag_eval_para(first[list_of_themes[0]], nb.pure_urn(list(theme_eval.head(1).index)))"
   ]
  },
  {
   "cell_type": "code",
   "execution_count": null,
   "metadata": {},
   "outputs": [],
   "source": []
  }
 ],
 "metadata": {
  "kernelspec": {
   "display_name": "Python 3",
   "language": "python",
   "name": "python3"
  },
  "language_info": {
   "codemirror_mode": {
    "name": "ipython",
    "version": 3
   },
   "file_extension": ".py",
   "mimetype": "text/x-python",
   "name": "python",
   "nbconvert_exporter": "python",
   "pygments_lexer": "ipython3",
   "version": "3.7.3"
  }
 },
 "nbformat": 4,
 "nbformat_minor": 2
}

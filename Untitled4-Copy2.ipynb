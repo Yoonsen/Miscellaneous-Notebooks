{
 "cells": [
  {
   "cell_type": "code",
   "execution_count": 1,
   "metadata": {},
   "outputs": [],
   "source": [
    "import sqlite3\n",
    "import os\n",
    "import tarfile\n",
    "import gzip\n",
    "#import sqlite3\n",
    "import json\n",
    "import pandas as pd\n",
    "from time import time\n",
    "from IPython.display import HTML"
   ]
  },
  {
   "cell_type": "code",
   "execution_count": 2,
   "metadata": {},
   "outputs": [],
   "source": [
    "from dhlab.nbtokenizer import tokenize"
   ]
  },
  {
   "cell_type": "code",
   "execution_count": 3,
   "metadata": {},
   "outputs": [],
   "source": [
    "def query(db, sql, params=(), retrieve = 20):\n",
    "    with sqlite3.connect(db) as con:\n",
    "        cur = con.cursor()\n",
    "        res = cur.execute(sql, params).fetchmany(retrieve)\n",
    "    return res"
   ]
  },
  {
   "cell_type": "code",
   "execution_count": 4,
   "metadata": {},
   "outputs": [],
   "source": [
    "db = '../ft_index_words.db'"
   ]
  },
  {
   "cell_type": "code",
   "execution_count": 5,
   "metadata": {},
   "outputs": [
    {
     "data": {
      "text/plain": [
       "[('table',\n",
       "  'ft',\n",
       "  'ft',\n",
       "  2,\n",
       "  'CREATE TABLE ft (identifier integer, para integer, word varchar)'),\n",
       " ('index',\n",
       "  '_wip_',\n",
       "  'ft',\n",
       "  11049524,\n",
       "  'CREATE INDEX _wip_ on ft (word, identifier, para)')]"
      ]
     },
     "execution_count": 5,
     "metadata": {},
     "output_type": "execute_result"
    }
   ],
   "source": [
    "query(db, \"select * from sqlite_master\")"
   ]
  },
  {
   "cell_type": "code",
   "execution_count": 50,
   "metadata": {},
   "outputs": [],
   "source": [
    "def find_para(words):\n",
    "\n",
    "    if words == []:\n",
    "        return []\n",
    "    first = words[0]\n",
    "    \n",
    "    query_term_select = \"\"\"select distinct a.identifier, a.para\"\"\"\n",
    "    query_tables =[\"ft as a\"]\n",
    "    query_term_conditions = [\"a.word =?\"]\n",
    "    query_param = [first]\n",
    "    word_index = 0\n",
    "    for w in words[1:]:\n",
    "        tname = \"t\" + str(word_index)\n",
    "        query_tables.append(\"(select identifier, para, word from ft where word = ?) as {tname}\".format(tname=tname))\n",
    "        query_param.append(w)\n",
    "        query_term_conditions += [\"{tname}.identifier = a.identifier\".format(tname=tname),\"{tname}.para = a.para\".format(tname=tname)]\n",
    "        word_index += 1\n",
    "    sql_query = query_term_select + \" from \" + ', '.join(query_tables) + \" where \" + ' and '.join(query_term_conditions)\n",
    "    return sql_query, tuple(query_param)"
   ]
  },
  {
   "cell_type": "code",
   "execution_count": 57,
   "metadata": {},
   "outputs": [
    {
     "data": {
      "text/plain": [
       "('select distinct a.identifier, a.para from ft as a, (select identifier, para, word from ft where word = ?) as t0, (select identifier, para, word from ft where word = ?) as t1 where a.word =? and t0.identifier = a.identifier and t0.para = a.para and t1.identifier = a.identifier and t1.para = a.para',\n",
       " ('spise', 'middag', 'alene'))"
      ]
     },
     "execution_count": 57,
     "metadata": {},
     "output_type": "execute_result"
    }
   ],
   "source": [
    "find_para(\"spise middag alene\".split())"
   ]
  },
  {
   "cell_type": "code",
   "execution_count": 58,
   "metadata": {},
   "outputs": [
    {
     "data": {
      "text/plain": [
       "[(2006082300063, 675),\n",
       " (2006112300076, 483),\n",
       " (2006112300076, 601),\n",
       " (2006121101011, 2250),\n",
       " (2006121101029, 1315),\n",
       " (2006121300077, 418),\n",
       " (2007010400032, 622),\n",
       " (2008012202001, 2669),\n",
       " (2008012202001, 2778),\n",
       " (2008012203003, 2108),\n",
       " (2008012303001, 327),\n",
       " (2008012303001, 366),\n",
       " (2008012303001, 1363),\n",
       " (2008012303001, 1603),\n",
       " (2008012803001, 1248),\n",
       " (2008040200082, 1153),\n",
       " (2008040404034, 515),\n",
       " (2008040704098, 24),\n",
       " (2008040804130, 177),\n",
       " (2008041004030, 121)]"
      ]
     },
     "execution_count": 58,
     "metadata": {},
     "output_type": "execute_result"
    }
   ],
   "source": [
    "sql, param = find_para(\"spise middag alene\".split())\n",
    "res = query(db, sql, param)\n",
    "res"
   ]
  },
  {
   "cell_type": "code",
   "execution_count": null,
   "metadata": {},
   "outputs": [],
   "source": [
    "query(db, \"select * from ft where identifier = ? and para = ?\", (2006082300063, 675))"
   ]
  },
  {
   "cell_type": "code",
   "execution_count": 47,
   "metadata": {},
   "outputs": [
    {
     "name": "stdout",
     "output_type": "stream",
     "text": [
      "3.8772314389546714\n"
     ]
    }
   ],
   "source": [
    "i = time()\n",
    "query(db, \"create index _ipw_ on ft (identifier, para, word)\")\n",
    "print((time() - i)/60)"
   ]
  },
  {
   "cell_type": "code",
   "execution_count": 63,
   "metadata": {},
   "outputs": [
    {
     "data": {
      "text/plain": [
       "[]"
      ]
     },
     "execution_count": 63,
     "metadata": {},
     "output_type": "execute_result"
    }
   ],
   "source": [
    "query(db, \"\"\"select a.identifier, a.para, a.word, c.word from ft as a, \n",
    "(select b.identifier, b.para, b.word from ft as b where b.word = 'spiser') as c\n",
    "      where c.identifier = a.identifier and c.para = a.para and a.word = 'Middag'\"\"\")"
   ]
  },
  {
   "cell_type": "code",
   "execution_count": null,
   "metadata": {},
   "outputs": [],
   "source": []
  },
  {
   "cell_type": "code",
   "execution_count": 5,
   "metadata": {},
   "outputs": [
    {
     "data": {
      "text/plain": [
       "[('Middag', 'Middag'),\n",
       " ('Middag', 'Middag'),\n",
       " ('Middag', 'Middag'),\n",
       " ('Middag', 'Middag'),\n",
       " ('Middag', 'Middag'),\n",
       " ('Middag', 'Middag'),\n",
       " ('Middag', 'Middag'),\n",
       " ('Middag', 'Middag'),\n",
       " ('Middag', 'Middag'),\n",
       " ('Middag', 'Middag'),\n",
       " ('Middag', 'Middag'),\n",
       " ('Middag', 'Middag'),\n",
       " ('Middag', 'Middag'),\n",
       " ('Middag', 'Middag'),\n",
       " ('Middag', 'Middag')]"
      ]
     },
     "execution_count": 5,
     "metadata": {},
     "output_type": "execute_result"
    }
   ],
   "source": [
    "query(db, \"\"\"select b.word, group_concat(c.word) from ft as c, (select a.identifier, a.para, a.word from ft as a\n",
    "where a.word = 'Middag') as b where c.identifier = b.identifier and c.para = b.para group by c.identifier, c.para\"\"\")"
   ]
  },
  {
   "cell_type": "code",
   "execution_count": 9,
   "metadata": {},
   "outputs": [
    {
     "data": {
      "text/plain": [
       "[(2009072901003, 340, 'Spises med flatbr\\\\xc3\\\\xb8d eller poteter til.'),\n",
       " (2011041820025, 392, 'Spises med flatbr\\\\xc3\\\\xb8d eller poteter til.')]"
      ]
     },
     "execution_count": 9,
     "metadata": {},
     "output_type": "execute_result"
    }
   ],
   "source": [
    "query(db, \"select * from ft where word like 'spise%flatbr%'\")"
   ]
  }
 ],
 "metadata": {
  "kernelspec": {
   "display_name": "Python 3",
   "language": "python",
   "name": "python3"
  },
  "language_info": {
   "codemirror_mode": {
    "name": "ipython",
    "version": 3
   },
   "file_extension": ".py",
   "mimetype": "text/x-python",
   "name": "python",
   "nbconvert_exporter": "python",
   "pygments_lexer": "ipython3",
   "version": "3.7.3"
  }
 },
 "nbformat": 4,
 "nbformat_minor": 2
}

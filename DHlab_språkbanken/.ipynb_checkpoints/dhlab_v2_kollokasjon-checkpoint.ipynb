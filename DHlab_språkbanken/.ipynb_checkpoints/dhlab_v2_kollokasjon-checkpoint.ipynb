{
 "cells": [
  {
   "cell_type": "code",
   "execution_count": 1,
   "metadata": {},
   "outputs": [],
   "source": [
    "import dhlab.module_update as mu\n",
    "import dhlab.nbtext as nb\n",
    "mu.update('dhlab_v2', silent = True)\n",
    "import pandas as pd\n",
    "import dhlab_v2 as d2"
   ]
  },
  {
   "cell_type": "code",
   "execution_count": 2,
   "metadata": {},
   "outputs": [],
   "source": [
    "import requests\n",
    "import json"
   ]
  },
  {
   "cell_type": "markdown",
   "metadata": {},
   "source": [
    "# Bygge korpus"
   ]
  },
  {
   "cell_type": "code",
   "execution_count": 3,
   "metadata": {},
   "outputs": [],
   "source": [
    "corpus = d2.document_corpus(from_year = 2010, to_year=2021, doctype=\"digavis\", limit=50000)"
   ]
  },
  {
   "cell_type": "code",
   "execution_count": 4,
   "metadata": {},
   "outputs": [],
   "source": [
    "urns = list(corpus[\"urn\"])"
   ]
  },
  {
   "cell_type": "code",
   "execution_count": 5,
   "metadata": {},
   "outputs": [
    {
     "data": {
      "text/plain": [
       "50000"
      ]
     },
     "execution_count": 5,
     "metadata": {},
     "output_type": "execute_result"
    }
   ],
   "source": [
    "len(urns)"
   ]
  },
  {
   "cell_type": "markdown",
   "metadata": {},
   "source": [
    "# Kollokasjoner"
   ]
  },
  {
   "cell_type": "code",
   "execution_count": 6,
   "metadata": {},
   "outputs": [
    {
     "data": {
      "text/plain": [
       "1078"
      ]
     },
     "execution_count": 6,
     "metadata": {},
     "output_type": "execute_result"
    }
   ],
   "source": [
    "colls = d2.urn_collocation(urns = urns, word = 'pandemi', before = 5, after = 5, samplesize=5000)\n",
    "words=list(colls.index)\n",
    "len(words)"
   ]
  },
  {
   "cell_type": "markdown",
   "metadata": {},
   "source": [
    "## Sjekk frekvens i referansekorpus"
   ]
  },
  {
   "cell_type": "code",
   "execution_count": 7,
   "metadata": {},
   "outputs": [],
   "source": [
    "params={\"words\": words, \"from_year\": 1980, \"to_year\": 2020, 'doctype': 'digavis'}\n",
    "response = requests.post(d2.BASE_URL + \"/reference_words\", json=params)\n",
    "reference = pd.DataFrame(json.loads(response.content), columns=[\"word\", \"freq\", \"relfreq\"]).set_index(\"word\")\n",
    "merge=pd.merge(colls,reference, left_index=True, right_index=True)"
   ]
  },
  {
   "cell_type": "markdown",
   "metadata": {},
   "source": [
    "## Lag relativfrekvens"
   ]
  },
  {
   "cell_type": "code",
   "execution_count": 8,
   "metadata": {},
   "outputs": [],
   "source": [
    "merge[\"counts_relfreq\"] = merge[\"counts\"] / merge[\"counts\"].sum(axis=0)\n",
    "merge[\"tot_relfreq\"] = merge[\"freq\"] / merge[\"freq\"].sum(axis=0)"
   ]
  },
  {
   "cell_type": "markdown",
   "metadata": {},
   "source": [
    "## Fjern lavfrekvente"
   ]
  },
  {
   "cell_type": "code",
   "execution_count": 13,
   "metadata": {},
   "outputs": [],
   "source": [
    "merge= merge[merge[\"counts\"] > 2]"
   ]
  },
  {
   "cell_type": "markdown",
   "metadata": {},
   "source": [
    "## Beregn pmi med vekting"
   ]
  },
  {
   "cell_type": "code",
   "execution_count": 14,
   "metadata": {},
   "outputs": [
    {
     "data": {
      "text/html": [
       "<div>\n",
       "<style scoped>\n",
       "    .dataframe tbody tr th:only-of-type {\n",
       "        vertical-align: middle;\n",
       "    }\n",
       "\n",
       "    .dataframe tbody tr th {\n",
       "        vertical-align: top;\n",
       "    }\n",
       "\n",
       "    .dataframe thead th {\n",
       "        text-align: right;\n",
       "    }\n",
       "</style>\n",
       "<table border=\"1\" class=\"dataframe\">\n",
       "  <thead>\n",
       "    <tr style=\"text-align: right;\">\n",
       "      <th></th>\n",
       "      <th>counts</th>\n",
       "      <th>dist</th>\n",
       "      <th>bdist</th>\n",
       "      <th>freq</th>\n",
       "      <th>relfreq</th>\n",
       "      <th>counts_relfreq</th>\n",
       "      <th>tot_relfreq</th>\n",
       "      <th>pmi</th>\n",
       "    </tr>\n",
       "  </thead>\n",
       "  <tbody>\n",
       "    <tr>\n",
       "      <th>midt</th>\n",
       "      <td>36</td>\n",
       "      <td>114.0</td>\n",
       "      <td>3.000000</td>\n",
       "      <td>2706287</td>\n",
       "      <td>5.634412e-05</td>\n",
       "      <td>0.010778</td>\n",
       "      <td>0.000119</td>\n",
       "      <td>36.687831</td>\n",
       "    </tr>\n",
       "    <tr>\n",
       "      <th>global</th>\n",
       "      <td>16</td>\n",
       "      <td>20.0</td>\n",
       "      <td>1.111111</td>\n",
       "      <td>230296</td>\n",
       "      <td>4.794697e-06</td>\n",
       "      <td>0.004790</td>\n",
       "      <td>0.000010</td>\n",
       "      <td>162.926030</td>\n",
       "    </tr>\n",
       "    <tr>\n",
       "      <th>WHO</th>\n",
       "      <td>6</td>\n",
       "      <td>19.0</td>\n",
       "      <td>2.375000</td>\n",
       "      <td>87259</td>\n",
       "      <td>1.816707e-06</td>\n",
       "      <td>0.001796</td>\n",
       "      <td>0.000004</td>\n",
       "      <td>132.526937</td>\n",
       "    </tr>\n",
       "    <tr>\n",
       "      <th>koronaviruset</th>\n",
       "      <td>5</td>\n",
       "      <td>16.0</td>\n",
       "      <td>2.285714</td>\n",
       "      <td>67844</td>\n",
       "      <td>1.412493e-06</td>\n",
       "      <td>0.001497</td>\n",
       "      <td>0.000003</td>\n",
       "      <td>136.957384</td>\n",
       "    </tr>\n",
       "    <tr>\n",
       "      <th>pågående</th>\n",
       "      <td>5</td>\n",
       "      <td>5.0</td>\n",
       "      <td>0.714286</td>\n",
       "      <td>310920</td>\n",
       "      <td>6.473266e-06</td>\n",
       "      <td>0.001497</td>\n",
       "      <td>0.000014</td>\n",
       "      <td>29.884654</td>\n",
       "    </tr>\n",
       "    <tr>\n",
       "      <th>korona</th>\n",
       "      <td>4</td>\n",
       "      <td>17.0</td>\n",
       "      <td>2.833333</td>\n",
       "      <td>64371</td>\n",
       "      <td>1.340186e-06</td>\n",
       "      <td>0.001198</td>\n",
       "      <td>0.000003</td>\n",
       "      <td>110.437006</td>\n",
       "    </tr>\n",
       "    <tr>\n",
       "      <th>smittevern</th>\n",
       "      <td>3</td>\n",
       "      <td>8.0</td>\n",
       "      <td>1.600000</td>\n",
       "      <td>39054</td>\n",
       "      <td>8.130931e-07</td>\n",
       "      <td>0.000898</td>\n",
       "      <td>0.000002</td>\n",
       "      <td>128.888116</td>\n",
       "    </tr>\n",
       "    <tr>\n",
       "      <th>verdensomspennende</th>\n",
       "      <td>3</td>\n",
       "      <td>3.0</td>\n",
       "      <td>0.600000</td>\n",
       "      <td>91205</td>\n",
       "      <td>1.898862e-06</td>\n",
       "      <td>0.000898</td>\n",
       "      <td>0.000004</td>\n",
       "      <td>55.189918</td>\n",
       "    </tr>\n",
       "    <tr>\n",
       "      <th>virus</th>\n",
       "      <td>3</td>\n",
       "      <td>13.0</td>\n",
       "      <td>2.600000</td>\n",
       "      <td>139714</td>\n",
       "      <td>2.908806e-06</td>\n",
       "      <td>0.000898</td>\n",
       "      <td>0.000006</td>\n",
       "      <td>36.027860</td>\n",
       "    </tr>\n",
       "    <tr>\n",
       "      <th>erklærte</th>\n",
       "      <td>3</td>\n",
       "      <td>10.0</td>\n",
       "      <td>2.000000</td>\n",
       "      <td>239313</td>\n",
       "      <td>4.982428e-06</td>\n",
       "      <td>0.000898</td>\n",
       "      <td>0.000010</td>\n",
       "      <td>21.033527</td>\n",
       "    </tr>\n",
       "  </tbody>\n",
       "</table>\n",
       "</div>"
      ],
      "text/plain": [
       "                    counts   dist     bdist     freq       relfreq  \\\n",
       "midt                    36  114.0  3.000000  2706287  5.634412e-05   \n",
       "global                  16   20.0  1.111111   230296  4.794697e-06   \n",
       "WHO                      6   19.0  2.375000    87259  1.816707e-06   \n",
       "koronaviruset            5   16.0  2.285714    67844  1.412493e-06   \n",
       "pågående                 5    5.0  0.714286   310920  6.473266e-06   \n",
       "korona                   4   17.0  2.833333    64371  1.340186e-06   \n",
       "smittevern               3    8.0  1.600000    39054  8.130931e-07   \n",
       "verdensomspennende       3    3.0  0.600000    91205  1.898862e-06   \n",
       "virus                    3   13.0  2.600000   139714  2.908806e-06   \n",
       "erklærte                 3   10.0  2.000000   239313  4.982428e-06   \n",
       "\n",
       "                    counts_relfreq  tot_relfreq         pmi  \n",
       "midt                      0.010778     0.000119   36.687831  \n",
       "global                    0.004790     0.000010  162.926030  \n",
       "WHO                       0.001796     0.000004  132.526937  \n",
       "koronaviruset             0.001497     0.000003  136.957384  \n",
       "pågående                  0.001497     0.000014   29.884654  \n",
       "korona                    0.001198     0.000003  110.437006  \n",
       "smittevern                0.000898     0.000002  128.888116  \n",
       "verdensomspennende        0.000898     0.000004   55.189918  \n",
       "virus                     0.000898     0.000006   36.027860  \n",
       "erklærte                  0.000898     0.000010   21.033527  "
      ]
     },
     "execution_count": 14,
     "metadata": {},
     "output_type": "execute_result"
    }
   ],
   "source": [
    "merge[\"pmi\"] = merge[\"counts_relfreq\"]**1.2 / merge[\"tot_relfreq\"]\n",
    "merge.sort_values(by=\"pmi\", ascending=False).head(10).sort_values(by=\"counts\", ascending=False)"
   ]
  }
 ],
 "metadata": {
  "kernelspec": {
   "display_name": "Python 3",
   "language": "python",
   "name": "python3"
  },
  "language_info": {
   "codemirror_mode": {
    "name": "ipython",
    "version": 3
   },
   "file_extension": ".py",
   "mimetype": "text/x-python",
   "name": "python",
   "nbconvert_exporter": "python",
   "pygments_lexer": "ipython3",
   "version": "3.8.10"
  }
 },
 "nbformat": 4,
 "nbformat_minor": 4
}
